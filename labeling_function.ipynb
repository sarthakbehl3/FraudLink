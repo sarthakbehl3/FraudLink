{
 "cells": [
  {
   "cell_type": "code",
   "execution_count": 186,
   "id": "62dd3bad-8cce-4571-a174-6a06b784c7f8",
   "metadata": {},
   "outputs": [],
   "source": [
    "import torch\n",
    "import pandas as pd\n",
    "import numpy as np\n",
    "\n",
    "import os\n",
    "\n",
    "from collections import Counter\n",
    "\n",
    "import spacy\n",
    "import fasttext\n",
    "import re\n",
    "from nltk.corpus import stopwords\n",
    "\n",
    "import lightgbm as lgb\n",
    "\n",
    "import pickle\n",
    "\n",
    "import xgboost as xgb\n",
    "from xgboost import XGBClassifier\n",
    "from sklearn.model_selection import train_test_split, GridSearchCV\n",
    "from sklearn.metrics import precision_score, f1_score, recall_score, roc_auc_score, confusion_matrix, plot_confusion_matrix\n",
    "from sklearn.ensemble import RandomForestClassifier\n",
    "from sklearn.linear_model import LogisticRegression\n",
    "from sklearn.svm import SVC\n",
    "from sklearn.gaussian_process import GaussianProcessClassifier\n",
    "from sklearn.gaussian_process.kernels import *\n",
    "from sklearn.ensemble import BaggingClassifier\n",
    "from sentence_transformers import SentenceTransformer\n",
    "from sklearn.feature_extraction.text import TfidfVectorizer\n",
    "from transformers import AutoModel, AutoTokenizer\n",
    "\n",
    "from vaderSentiment.vaderSentiment import SentimentIntensityAnalyzer\n",
    "\n",
    "from clip_client import Client\n",
    "\n",
    "from tqdm import tqdm\n",
    "\n",
    "from joblib import Parallel, delayed"
   ]
  },
  {
   "cell_type": "code",
   "execution_count": 2,
   "id": "bf8d4af2",
   "metadata": {},
   "outputs": [],
   "source": [
    "SEED = 42"
   ]
  },
  {
   "cell_type": "markdown",
   "id": "ceb34769-9188-47e0-9f1a-7a57d178bbe3",
   "metadata": {},
   "source": [
    "# Load labeled data"
   ]
  },
  {
   "cell_type": "code",
   "execution_count": 173,
   "id": "1c75dff2-2bd5-4f6b-95d8-3ceefde52cd8",
   "metadata": {},
   "outputs": [],
   "source": [
    "PATH_DATA_LABELED = \"data_new_new\"\n",
    "\n",
    "# df_list = []\n",
    "\n",
    "# for file in os.listdir(PATH_DATA_LABELED):\n",
    "#     df = pd.read_json(os.path.join(PATH_DATA_LABELED, file))\n",
    "#     df_list.append(df)\n",
    "\n",
    "# posts_labeled = pd.concat(df_list)\n",
    "# posts_labeled.head(3)\n",
    "posts_labeled = pd.read_json(os.path.join(PATH_DATA_LABELED, \"data_labeled.json\"))"
   ]
  },
  {
   "cell_type": "code",
   "execution_count": 174,
   "id": "01906554-eb0f-4f89-b8bb-976994852581",
   "metadata": {},
   "outputs": [
    {
     "data": {
      "text/plain": [
       "Counter({'n': 374, 'c': 263, 'm': 365})"
      ]
     },
     "execution_count": 174,
     "metadata": {},
     "output_type": "execute_result"
    }
   ],
   "source": [
    "# # Merge labels\n",
    "# labels_merged = []\n",
    "# for row in posts_labeled.itertuples():\n",
    "#     label_przemek = row[14]\n",
    "#     label_brandon = row[15]\n",
    "#     label_sarthak = row[16]\n",
    "    \n",
    "#     # Neither Brandon's nor Sarthak's label present, pick Przemek's label\n",
    "#     if not isinstance(label_brandon, str) and not isinstance(label_sarthak, str):\n",
    "#         label = label_przemek\n",
    "    \n",
    "#     # all labels present, pick mode\n",
    "#     elif isinstance(label_przemek, str) and isinstance(label_brandon, str) and isinstance(label_sarthak, str):\n",
    "#     # elif not np.isnan(label_przemek and not np.isnan(label_brandon) and not np.isnan(label_sarthak)):\n",
    "#         label = Counter([label_przemek, label_brandon, label_sarthak]).most_common(5)[0][0]\n",
    "    \n",
    "#     labels_merged.append(label)\n",
    "\n",
    "# posts_labeled[\"label\"] = labels_merged\n",
    "Counter(posts_labeled[\"Final Label\"])"
   ]
  },
  {
   "cell_type": "markdown",
   "id": "4cfc6eb6-6836-4da0-8676-e06b9701f213",
   "metadata": {},
   "source": [
    "# Clean text data"
   ]
  },
  {
   "cell_type": "code",
   "execution_count": 175,
   "id": "fa5788eb-f553-4bb0-85cf-6b4be0ed0f9a",
   "metadata": {},
   "outputs": [],
   "source": [
    "texts = list(posts_labeled[\"Text\"])\n",
    "# texts = list(\" \".join(comments) for comments in posts_labeled[\"Comments Text\"])\n",
    "labels = list(posts_labeled[\"Final Label\"])\n",
    "nlp = spacy.load(\"en_core_web_sm\")"
   ]
  },
  {
   "cell_type": "code",
   "execution_count": 176,
   "id": "2d9f6b92-738f-4534-885b-5450d0a433c9",
   "metadata": {},
   "outputs": [],
   "source": [
    "def clean_text(text, nlp):\n",
    "    # # lowercase\n",
    "    # text = text.lower()\n",
    "    \n",
    "    # remove non alphanum\n",
    "    text = re.sub(\"[^a-zA-Z!?]\", \" \", text)\n",
    "    \n",
    "    # lemmatization\n",
    "    tokens = [str(token.lemma_).strip() for token in nlp(text)]\n",
    "    tokens = [token for token in tokens if token != \"\"]\n",
    "    \n",
    "    # remove stopwords\n",
    "    tokens = [token for token in tokens if token not in stopwords.words()]\n",
    "    \n",
    "    return tokens\n",
    "\n",
    "def clean_text_doc(doc):\n",
    "    # lemmatization + lowercase + remove non-alphanumeric\n",
    "    tokens = [re.sub(\"[^a-zA-Z!?]\", \" \", str(token.lemma_)).strip() for token in doc]\n",
    "    tokens = [token for token in tokens if token != \"\"]\n",
    "    \n",
    "    # remove stopwords\n",
    "    tokens = [token for token in tokens if token not in stopwords.words()]\n",
    "    \n",
    "    return tokens"
   ]
  },
  {
   "cell_type": "code",
   "execution_count": 177,
   "id": "e79a2e24",
   "metadata": {},
   "outputs": [],
   "source": [
    "# def preprocess_pipe(texts):\n",
    "#     preproc_pipe = []\n",
    "#     for doc in nlp.pipe(texts, batch_size=20):\n",
    "#         preproc_pipe.append(clean_text_doc(doc))\n",
    "#     return preproc_pipe\n",
    "\n",
    "# text_clean = preprocess_pipe(texts)"
   ]
  },
  {
   "cell_type": "code",
   "execution_count": 178,
   "id": "590c5080",
   "metadata": {},
   "outputs": [
    {
     "name": "stdout",
     "output_type": "stream",
     "text": [
      "huggingface/tokenizers: The current process just got forked, after parallelism has already been used. Disabling parallelism to avoid deadlocks...\n",
      "To disable this warning, you can either:\n",
      "\t- Avoid using `tokenizers` before the fork if possible\n",
      "\t- Explicitly set the environment variable TOKENIZERS_PARALLELISM=(true | false)\n",
      "huggingface/tokenizers: The current process just got forked, after parallelism has already been used. Disabling parallelism to avoid deadlocks...\n",
      "To disable this warning, you can either:\n",
      "\t- Avoid using `tokenizers` before the fork if possible\n",
      "\t- Explicitly set the environment variable TOKENIZERS_PARALLELISM=(true | false)\n",
      "huggingface/tokenizers: The current process just got forked, after parallelism has already been used. Disabling parallelism to avoid deadlocks...\n",
      "To disable this warning, you can either:\n",
      "\t- Avoid using `tokenizers` before the fork if possible\n",
      "\t- Explicitly set the environment variable TOKENIZERS_PARALLELISM=(true | false)\n",
      "huggingface/tokenizers: The current process just got forked, after parallelism has already been used. Disabling parallelism to avoid deadlocks...\n",
      "To disable this warning, you can either:\n",
      "\t- Avoid using `tokenizers` before the fork if possible\n",
      "\t- Explicitly set the environment variable TOKENIZERS_PARALLELISM=(true | false)\n",
      "huggingface/tokenizers: The current process just got forked, after parallelism has already been used. Disabling parallelism to avoid deadlocks...\n",
      "To disable this warning, you can either:\n",
      "\t- Avoid using `tokenizers` before the fork if possible\n",
      "\t- Explicitly set the environment variable TOKENIZERS_PARALLELISM=(true | false)\n",
      "huggingface/tokenizers: The current process just got forked, after parallelism has already been used. Disabling parallelism to avoid deadlocks...\n",
      "To disable this warning, you can either:\n",
      "\t- Avoid using `tokenizers` before the fork if possible\n",
      "\t- Explicitly set the environment variable TOKENIZERS_PARALLELISM=(true | false)\n",
      "huggingface/tokenizers: The current process just got forked, after parallelism has already been used. Disabling parallelism to avoid deadlocks...\n",
      "To disable this warning, you can either:\n",
      "\t- Avoid using `tokenizers` before the fork if possible\n",
      "\t- Explicitly set the environment variable TOKENIZERS_PARALLELISM=(true | false)\n"
     ]
    }
   ],
   "source": [
    "# Kudos to this smart person: https://prrao87.github.io/blog/spacy/nlp/performance/2020/05/02/spacy-multiprocess.html#Option-3:-Parallelize-the-work-using-joblib\n",
    "def chunker(iterable, total_length, chunksize):\n",
    "    return (iterable[pos: pos + chunksize] for pos in range(0, total_length, chunksize))\n",
    "\n",
    "def flatten(list_of_lists):\n",
    "    \"Flatten a list of lists to a combined list\"\n",
    "    return [item for sublist in list_of_lists for item in sublist]\n",
    "\n",
    "def process_chunk(texts):\n",
    "    preproc_pipe = []\n",
    "    for doc in nlp.pipe(texts, batch_size=20):\n",
    "        preproc_pipe.append(clean_text_doc(doc))\n",
    "    return preproc_pipe\n",
    "\n",
    "def preprocess_parallel(texts, chunksize=100):\n",
    "    executor = Parallel(n_jobs=7, backend='multiprocessing', prefer=\"processes\")\n",
    "    do = delayed(process_chunk)\n",
    "    tasks = (do(chunk) for chunk in chunker(texts, len(texts), chunksize=chunksize))\n",
    "    result = executor(tasks)\n",
    "    return flatten(result)\n",
    "\n",
    "text_clean = preprocess_parallel(texts, chunksize=50)"
   ]
  },
  {
   "cell_type": "code",
   "execution_count": 179,
   "id": "a30d9738-c0b2-4e6a-9330-d3500f13ee24",
   "metadata": {},
   "outputs": [],
   "source": [
    "# text_clean = [clean_text(text, nlp) for text in tqdm(texts)]\n",
    "\n",
    "text_clean_nonempty = []\n",
    "labels_nonempty = []\n",
    "idx_empty = []\n",
    "# Exclude rows with empty clean text\n",
    "for i in range(len(text_clean)):\n",
    "    text = text_clean[i]\n",
    "    label = labels[i]\n",
    "    # Only save for nonempty text\n",
    "    if len(text) != 0:\n",
    "        text_clean_nonempty.append(text)\n",
    "        labels_nonempty.append(label)\n",
    "    else:\n",
    "        idx_empty.append(i)\n",
    "posts_labeled = posts_labeled.reset_index(drop=True)\n",
    "posts_labeled = posts_labeled.drop(idx_empty)"
   ]
  },
  {
   "cell_type": "code",
   "execution_count": 180,
   "id": "52bf17be-b959-448c-b0c5-6e36deebd4d7",
   "metadata": {},
   "outputs": [
    {
     "data": {
      "text/plain": [
       "['The voter awareness campaign through student skit organized by the Faculty of juridical sciences #RamaUniversity concluded successfully.#voterawareness #vote #follow #voterregistration #k #f #stolenelection #voting #yourvotematters #brandedmerchandise #productdesign #polls #wemakeitbetter #wemakeit #byharperandscott #discoverunder #blacklivesmatter #election #blackouttuesday #follo #followback #followed #follower',\n",
       " 'The #truth vs. a #lie--the truth will not burn you. #StolenElection #SandyHook # #january6th #alexjones #thefatheroflies',\n",
       " 'Was hoping LinkedIn was better than FB or Twitter... guess not.  #FJB #StolenElection',\n",
       " 'Tik Tok...Tik Tok... #StolenElection #UnConstitutionalElection',\n",
       " '#DHS #whistleblowers share documents that label all who call the #Stolenelection real are now labeled #DVE. This is an attack on #freedomofspeech. It is an attack on YOU!',\n",
       " 'If Republicans take back the House and Senate in November, the First order of business, all #Republicans must grow a set of balls or F’n quit. The #Liberals get away with everything. #SpyGate #RussianGate #SteelDossier #FISAWarrants #WhistleBlower #UnmaskingUSCitizens #2ImpeachmentTrials #Covid #CovidLockdowns and a #StolenElection It all has to stop, or The  United States as we knew it in love, it’s over. #Vote2022',\n",
       " \"You don't want to miss this. #electionfraud #stolenelection #riggedelection #trumpwon #criminals #2020election #rigged #voterfraud\",\n",
       " \"Loving this show but it does bug me that they keep walking away from their unlocked screens! Just wouldn't happen... #101security #security #cyberwarfare #cyberhack #stolenelection #Stan\",\n",
       " ' #stolenelection #corruption #Trumppotus',\n",
       " 'By Mychal Massie, WND News CenterOct. 3, 2016, I wrote a syndicated op-ed titled:“What to expect if election is stolen from Trump.”The opening paragraph of my piece read:You can elect not to agree with my conclusion, but if this election is stolen from Donald Trump, the utter collapse of America will be almost immediate. If Donald Trump wins (as #Biden #Clinton #MychalMassie #stolenelection #Trump #WND #WNDNewsCenter']"
      ]
     },
     "execution_count": 180,
     "metadata": {},
     "output_type": "execute_result"
    }
   ],
   "source": [
    "texts[0:10]"
   ]
  },
  {
   "cell_type": "code",
   "execution_count": 181,
   "id": "08ae8943-427d-44ae-b3d2-04fb7d140916",
   "metadata": {},
   "outputs": [
    {
     "data": {
      "text/plain": [
       "[['voter',\n",
       "  'awareness',\n",
       "  'campaign',\n",
       "  'student',\n",
       "  'skit',\n",
       "  'organize',\n",
       "  'Faculty',\n",
       "  'juridical',\n",
       "  'science',\n",
       "  'RamaUniversity',\n",
       "  'conclude',\n",
       "  'successfully  voterawareness',\n",
       "  'vote',\n",
       "  'follow',\n",
       "  'voterregistration',\n",
       "  'f',\n",
       "  'stolenelection',\n",
       "  'vote',\n",
       "  'yourvotematter',\n",
       "  'brandedmerchandise',\n",
       "  'productdesign',\n",
       "  'poll',\n",
       "  'wemakeitbetter',\n",
       "  'wemakeit',\n",
       "  'byharperandscott',\n",
       "  'discoverunder',\n",
       "  'blacklivesmatter',\n",
       "  'election',\n",
       "  'blackouttuesday',\n",
       "  'follo',\n",
       "  'followback',\n",
       "  'follow',\n",
       "  'follower'],\n",
       " ['truth',\n",
       "  'vs',\n",
       "  'lie',\n",
       "  'truth',\n",
       "  'burn',\n",
       "  'StolenElection',\n",
       "  'SandyHook',\n",
       "  'january th',\n",
       "  'alexjone',\n",
       "  'thefatheroflie'],\n",
       " ['hope', 'LinkedIn', 'FB', 'Twitter', 'guess', 'FJB', 'StolenElection'],\n",
       " ['tik', 'tok', 'Tik', 'tok', 'StolenElection', 'unconstitutionalelection'],\n",
       " ['DHS',\n",
       "  'whistleblower',\n",
       "  'share',\n",
       "  'document',\n",
       "  'label',\n",
       "  'call',\n",
       "  'Stolenelection',\n",
       "  'real',\n",
       "  'label',\n",
       "  'DVE',\n",
       "  'attack',\n",
       "  'freedomofspeech',\n",
       "  'attack',\n",
       "  '!'],\n",
       " ['Republicans',\n",
       "  'back',\n",
       "  'House',\n",
       "  'Senate',\n",
       "  'November',\n",
       "  'order',\n",
       "  'business',\n",
       "  'Republicans',\n",
       "  'grow',\n",
       "  'set',\n",
       "  'ball',\n",
       "  'F n',\n",
       "  'quit',\n",
       "  'liberal',\n",
       "  'away',\n",
       "  'SpyGate',\n",
       "  'RussianGate',\n",
       "  'SteelDossier',\n",
       "  'fisawarrant',\n",
       "  'WhistleBlower',\n",
       "  'unmaskinguscitizen',\n",
       "  'impeachmenttrial',\n",
       "  'Covid',\n",
       "  'CovidLockdowns',\n",
       "  'stolenelection',\n",
       "  'stop',\n",
       "  'United',\n",
       "  'States',\n",
       "  'love',\n",
       "  'vote'],\n",
       " ['miss',\n",
       "  'electionfraud',\n",
       "  'stolenelection',\n",
       "  'riggedelection',\n",
       "  'trumpwon',\n",
       "  'criminal',\n",
       "  'election',\n",
       "  'rig',\n",
       "  'voterfraud'],\n",
       " ['love',\n",
       "  'show',\n",
       "  'bug',\n",
       "  'I',\n",
       "  'walk',\n",
       "  'away',\n",
       "  'unlocked',\n",
       "  'screen',\n",
       "  '!',\n",
       "  'happen',\n",
       "  'security',\n",
       "  'security',\n",
       "  'cyberwarfare',\n",
       "  'cyberhack',\n",
       "  'stolenelection',\n",
       "  'stan'],\n",
       " ['stolenelection', 'corruption', 'trumppotus'],\n",
       " ['Mychal',\n",
       "  'Massie',\n",
       "  'WND',\n",
       "  'News',\n",
       "  'CenterOct',\n",
       "  'I',\n",
       "  'write',\n",
       "  'syndicated',\n",
       "  'titled  what',\n",
       "  'expect',\n",
       "  'election',\n",
       "  'steal',\n",
       "  'Trump',\n",
       "  'open',\n",
       "  'paragraph',\n",
       "  'piece',\n",
       "  'read',\n",
       "  'elect',\n",
       "  'agree',\n",
       "  'conclusion',\n",
       "  'election',\n",
       "  'steal',\n",
       "  'Donald',\n",
       "  'Trump',\n",
       "  'utter',\n",
       "  'collapse',\n",
       "  'America',\n",
       "  'immediate',\n",
       "  'Donald',\n",
       "  'Trump',\n",
       "  'win',\n",
       "  'Biden',\n",
       "  'Clinton',\n",
       "  'MychalMassie',\n",
       "  'stolenelection',\n",
       "  'trump',\n",
       "  'WND',\n",
       "  'wndnewscenter']]"
      ]
     },
     "execution_count": 181,
     "metadata": {},
     "output_type": "execute_result"
    }
   ],
   "source": [
    "text_clean_nonempty[0:10]"
   ]
  },
  {
   "cell_type": "markdown",
   "id": "0d6e8e4f-2397-4053-b105-57e09716fa7e",
   "metadata": {},
   "source": [
    "# Vectorize text using pre-trained fastText vectors (300D)"
   ]
  },
  {
   "cell_type": "code",
   "execution_count": 182,
   "id": "0b151fd5-d581-4440-9740-4b26db363fcc",
   "metadata": {},
   "outputs": [],
   "source": [
    "# ft = fasttext.load_model('cc.en.300.bin')\n",
    "# embeddings_fasttext = []\n",
    "# for text in tqdm(text_clean_nonempty):\n",
    "#     num_words = len(text)\n",
    "#     if num_words == 0:\n",
    "#         num_words = 1\n",
    "#     vec = np.zeros((300, ))\n",
    "#     for word in text:\n",
    "#         vec += ft.get_word_vector(word)\n",
    "#     vec /= num_words\n",
    "#     embeddings_fasttext.append(vec)"
   ]
  },
  {
   "cell_type": "markdown",
   "id": "c120cfe8-1040-4a5a-a84b-b7507cc8aba6",
   "metadata": {},
   "source": [
    "# Vectorize using CLIP"
   ]
  },
  {
   "cell_type": "code",
   "execution_count": 225,
   "id": "8982cd0d-ee73-49cf-bfbb-b9879d07b7b5",
   "metadata": {},
   "outputs": [
    {
     "name": "stdout",
     "output_type": "stream",
     "text": [
      "grpc://6.tcp.ngrok.io:17165\n"
     ]
    },
    {
     "data": {
      "text/html": [
       "<pre style=\"white-space:pre;overflow-x:auto;line-height:normal;font-family:Menlo,'DejaVu Sans Mono',consolas,'Courier New',monospace\"> Roundtrip  <span style=\"font-weight: bold\">244</span>ms  <span style=\"color: #7f7f7f; text-decoration-color: #7f7f7f\">100%</span> \n",
       "├──  Client-server network  <span style=\"font-weight: bold\">230</span>ms  <span style=\"color: #7f7f7f; text-decoration-color: #7f7f7f\">94%</span> \n",
       "└──  Server  <span style=\"font-weight: bold\">14</span>ms  <span style=\"color: #7f7f7f; text-decoration-color: #7f7f7f\">6%</span> \n",
       "    ├──  Gateway-CLIP network  <span style=\"font-weight: bold\">1</span>ms  <span style=\"color: #7f7f7f; text-decoration-color: #7f7f7f\">7%</span> \n",
       "    └──  CLIP model  <span style=\"font-weight: bold\">13</span>ms  <span style=\"color: #7f7f7f; text-decoration-color: #7f7f7f\">93%</span> \n",
       "</pre>\n"
      ],
      "text/plain": [
       " Roundtrip  \u001b[1m244\u001b[0mms  \u001b[2m100%\u001b[0m \n",
       "├──  Client-server network  \u001b[1m230\u001b[0mms  \u001b[2m94%\u001b[0m \n",
       "└──  Server  \u001b[1m14\u001b[0mms  \u001b[2m6%\u001b[0m \n",
       "    ├──  Gateway-CLIP network  \u001b[1m1\u001b[0mms  \u001b[2m7%\u001b[0m \n",
       "    └──  CLIP model  \u001b[1m13\u001b[0mms  \u001b[2m93%\u001b[0m \n"
      ]
     },
     "metadata": {},
     "output_type": "display_data"
    },
    {
     "data": {
      "text/plain": [
       "{'Roundtrip': 244.17050900228787,\n",
       " 'Client-server network': 230.17050900228787,\n",
       " 'Server': 14,\n",
       " 'Gateway-CLIP network': 1,\n",
       " 'CLIP model': 13}"
      ]
     },
     "execution_count": 225,
     "metadata": {},
     "output_type": "execute_result"
    }
   ],
   "source": [
    "LINK_CLIP_SERVER = \"tcp://6.tcp.ngrok.io:17165\".replace(\"tcp:\", \"grpc:\")\n",
    "print(LINK_CLIP_SERVER)\n",
    "c = Client(LINK_CLIP_SERVER)\n",
    "# Make sure there's output showing an alive connection\n",
    "c.profile()"
   ]
  },
  {
   "cell_type": "code",
   "execution_count": 183,
   "id": "d7f26f4e-d704-4c66-be80-1522efa2ecc9",
   "metadata": {},
   "outputs": [
    {
     "name": "stderr",
     "output_type": "stream",
     "text": [
      "\u001b[1;33mUserWarning: Please ensure all the inputs are valid, otherwise the request will be aborted.\u001b[0m \u001b[1;30m(raised from /home/slazien/.local/share/virtualenvs/linkedin_misinformation-xOmYosQV/lib/python3.8/site-packages/clip_client/client.py:145)\u001b[0m\n"
     ]
    },
    {
     "data": {
      "text/html": [
       "<pre style=\"white-space:pre;overflow-x:auto;line-height:normal;font-family:Menlo,'DejaVu Sans Mono',consolas,'Courier New',monospace\"><span style=\"color: #800000; text-decoration-color: #800000; font-weight: bold\">ERROR </span> GRPCClient@<span style=\"color: #008080; text-decoration-color: #008080; font-weight: bold\">8847</span> gRPC error: StatusCode.UNAVAILABLE failed to connect to all addresses    <span style=\"color: #7f7f7f; text-decoration-color: #7f7f7f\">[12/01/22 12:33:11]</span>\n",
       "       The ongoing request is terminated as the server is not available or closed already.      <span style=\"color: #7f7f7f; text-decoration-color: #7f7f7f\">                   </span>\n",
       "</pre>\n"
      ],
      "text/plain": [
       "\u001b[1;31mERROR \u001b[0m GRPCClient@\u001b[1;36m8847\u001b[0m gRPC error: StatusCode.UNAVAILABLE failed to connect to all addresses    \u001b[2m[12/01/22 12:33:11]\u001b[0m\n",
       "       The ongoing request is terminated as the server is not available or closed already.      \u001b[2m                   \u001b[0m\n"
      ]
     },
     "metadata": {},
     "output_type": "display_data"
    },
    {
     "name": "stderr",
     "output_type": "stream",
     "text": [
      "Exception in thread Thread-48:\n",
      "Traceback (most recent call last):\n",
      "  File \"/home/slazien/.local/share/virtualenvs/linkedin_misinformation-xOmYosQV/lib/python3.8/site-packages/jina/clients/base/grpc.py\", line 133, in _get_results\n",
      "    async for resp in stub.Call(\n",
      "  File \"/home/slazien/.local/share/virtualenvs/linkedin_misinformation-xOmYosQV/lib/python3.8/site-packages/grpc/aio/_call.py\", line 326, in _fetch_stream_responses\n",
      "    await self._raise_for_status()\n",
      "  File \"/home/slazien/.local/share/virtualenvs/linkedin_misinformation-xOmYosQV/lib/python3.8/site-packages/grpc/aio/_call.py\", line 236, in _raise_for_status\n",
      "    raise _create_rpc_error(await self.initial_metadata(), await\n",
      "grpc.aio._call.AioRpcError: <AioRpcError of RPC that terminated with:\n",
      "\tstatus = StatusCode.UNAVAILABLE\n",
      "\tdetails = \"failed to connect to all addresses\"\n",
      "\tdebug_error_string = \"{\"created\":\"@1669915991.987991979\",\"description\":\"Failed to pick subchannel\",\"file\":\"src/core/ext/filters/client_channel/client_channel.cc\",\"file_line\":3260,\"referenced_errors\":[{\"created\":\"@1669915991.987990055\",\"description\":\"failed to connect to all addresses\",\"file\":\"src/core/lib/transport/error_utils.cc\",\"file_line\":167,\"grpc_status\":14}]}\"\n",
      ">\n",
      "\n",
      "During handling of the above exception, another exception occurred:\n",
      "\n",
      "Traceback (most recent call last):\n",
      "  File \"/usr/lib/python3.8/threading.py\", line 932, in _bootstrap_inner\n",
      "    self.run()\n",
      "  File \"/home/slazien/.local/share/virtualenvs/linkedin_misinformation-xOmYosQV/lib/python3.8/site-packages/jina/helper.py\", line 1311, in run\n",
      "    self.result = asyncio.run(func(*args, **kwargs))\n",
      "  File \"/usr/lib/python3.8/asyncio/runners.py\", line 44, in run\n",
      "    return loop.run_until_complete(main)\n",
      "  File \"/usr/lib/python3.8/asyncio/base_events.py\", line 616, in run_until_complete\n",
      "    return future.result()\n",
      "  File \"/home/slazien/.local/share/virtualenvs/linkedin_misinformation-xOmYosQV/lib/python3.8/site-packages/jina/clients/mixin.py\", line 264, in _get_results\n",
      "    async for resp in c._get_results(*args, **kwargs):\n",
      "  File \"/home/slazien/.local/share/virtualenvs/linkedin_misinformation-xOmYosQV/lib/python3.8/site-packages/jina/clients/base/grpc.py\", line 160, in _get_results\n",
      "    raise ConnectionError(my_details)\n",
      "ConnectionError: failed to connect to all addresses\n"
     ]
    },
    {
     "ename": "BadClient",
     "evalue": "something wrong when running the eventloop, result can not be retrieved",
     "output_type": "error",
     "traceback": [
      "\u001b[0;31m---------------------------------------------------------------------------\u001b[0m",
      "\u001b[0;31mAttributeError\u001b[0m                            Traceback (most recent call last)",
      "File \u001b[0;32m~/.local/share/virtualenvs/linkedin_misinformation-xOmYosQV/lib/python3.8/site-packages/jina/helper.py:1326\u001b[0m, in \u001b[0;36mrun_async\u001b[0;34m(func, *args, **kwargs)\u001b[0m\n\u001b[1;32m   1325\u001b[0m \u001b[38;5;28;01mtry\u001b[39;00m:\n\u001b[0;32m-> 1326\u001b[0m     \u001b[38;5;28;01mreturn\u001b[39;00m \u001b[43mthread\u001b[49m\u001b[38;5;241;43m.\u001b[39;49m\u001b[43mresult\u001b[49m\n\u001b[1;32m   1327\u001b[0m \u001b[38;5;28;01mexcept\u001b[39;00m \u001b[38;5;167;01mAttributeError\u001b[39;00m:\n",
      "\u001b[0;31mAttributeError\u001b[0m: '_RunThread' object has no attribute 'result'",
      "\nDuring handling of the above exception, another exception occurred:\n",
      "\u001b[0;31mBadClient\u001b[0m                                 Traceback (most recent call last)",
      "Cell \u001b[0;32mIn [183], line 1\u001b[0m\n\u001b[0;32m----> 1\u001b[0m embeddings_clip \u001b[38;5;241m=\u001b[39m \u001b[43mc\u001b[49m\u001b[38;5;241;43m.\u001b[39;49m\u001b[43mencode\u001b[49m\u001b[43m(\u001b[49m\u001b[43m[\u001b[49m\u001b[38;5;124;43m\"\u001b[39;49m\u001b[38;5;124;43m \u001b[39;49m\u001b[38;5;124;43m\"\u001b[39;49m\u001b[38;5;241;43m.\u001b[39;49m\u001b[43mjoin\u001b[49m\u001b[43m(\u001b[49m\u001b[43mtext\u001b[49m\u001b[43m)\u001b[49m\u001b[43m \u001b[49m\u001b[38;5;28;43;01mfor\u001b[39;49;00m\u001b[43m \u001b[49m\u001b[43mtext\u001b[49m\u001b[43m \u001b[49m\u001b[38;5;129;43;01min\u001b[39;49;00m\u001b[43m \u001b[49m\u001b[43mtext_clean_nonempty\u001b[49m\u001b[43m]\u001b[49m\u001b[43m)\u001b[49m\n",
      "File \u001b[0;32m~/.local/share/virtualenvs/linkedin_misinformation-xOmYosQV/lib/python3.8/site-packages/clip_client/client.py:330\u001b[0m, in \u001b[0;36mClient.encode\u001b[0;34m(self, content, **kwargs)\u001b[0m\n\u001b[1;32m    325\u001b[0m     parameters[\u001b[38;5;124m'\u001b[39m\u001b[38;5;124mdrop_image_content\u001b[39m\u001b[38;5;124m'\u001b[39m] \u001b[38;5;241m=\u001b[39m parameters\u001b[38;5;241m.\u001b[39mget(\n\u001b[1;32m    326\u001b[0m         \u001b[38;5;124m'\u001b[39m\u001b[38;5;124mdrop_image_content\u001b[39m\u001b[38;5;124m'\u001b[39m, \u001b[38;5;28;01mTrue\u001b[39;00m\n\u001b[1;32m    327\u001b[0m     )\n\u001b[1;32m    328\u001b[0m     model_name \u001b[38;5;241m=\u001b[39m parameters\u001b[38;5;241m.\u001b[39mpop(\u001b[38;5;124m'\u001b[39m\u001b[38;5;124mmodel_name\u001b[39m\u001b[38;5;124m'\u001b[39m, \u001b[38;5;124m'\u001b[39m\u001b[38;5;124m'\u001b[39m) \u001b[38;5;28;01mif\u001b[39;00m parameters \u001b[38;5;28;01melse\u001b[39;00m \u001b[38;5;124m'\u001b[39m\u001b[38;5;124m'\u001b[39m\n\u001b[0;32m--> 330\u001b[0m     \u001b[38;5;28;43mself\u001b[39;49m\u001b[38;5;241;43m.\u001b[39;49m\u001b[43m_client\u001b[49m\u001b[38;5;241;43m.\u001b[39;49m\u001b[43mpost\u001b[49m\u001b[43m(\u001b[49m\n\u001b[1;32m    331\u001b[0m \u001b[43m        \u001b[49m\u001b[43mon\u001b[49m\u001b[38;5;241;43m=\u001b[39;49m\u001b[38;5;124;43mf\u001b[39;49m\u001b[38;5;124;43m'\u001b[39;49m\u001b[38;5;124;43m/encode/\u001b[39;49m\u001b[38;5;132;43;01m{\u001b[39;49;00m\u001b[43mmodel_name\u001b[49m\u001b[38;5;132;43;01m}\u001b[39;49;00m\u001b[38;5;124;43m'\u001b[39;49m\u001b[38;5;241;43m.\u001b[39;49m\u001b[43mrstrip\u001b[49m\u001b[43m(\u001b[49m\u001b[38;5;124;43m'\u001b[39;49m\u001b[38;5;124;43m/\u001b[39;49m\u001b[38;5;124;43m'\u001b[39;49m\u001b[43m)\u001b[49m\u001b[43m,\u001b[49m\n\u001b[1;32m    332\u001b[0m \u001b[43m        \u001b[49m\u001b[38;5;241;43m*\u001b[39;49m\u001b[38;5;241;43m*\u001b[39;49m\u001b[38;5;28;43mself\u001b[39;49m\u001b[38;5;241;43m.\u001b[39;49m\u001b[43m_get_post_payload\u001b[49m\u001b[43m(\u001b[49m\u001b[43mcontent\u001b[49m\u001b[43m,\u001b[49m\u001b[43m \u001b[49m\u001b[43mresults\u001b[49m\u001b[43m,\u001b[49m\u001b[43m \u001b[49m\u001b[38;5;241;43m*\u001b[39;49m\u001b[38;5;241;43m*\u001b[39;49m\u001b[43mkwargs\u001b[49m\u001b[43m)\u001b[49m\u001b[43m,\u001b[49m\n\u001b[1;32m    333\u001b[0m \u001b[43m        \u001b[49m\u001b[43mon_done\u001b[49m\u001b[38;5;241;43m=\u001b[39;49m\u001b[43mon_done\u001b[49m\u001b[43m,\u001b[49m\n\u001b[1;32m    334\u001b[0m \u001b[43m        \u001b[49m\u001b[43mon_error\u001b[49m\u001b[38;5;241;43m=\u001b[39;49m\u001b[43mon_error\u001b[49m\u001b[43m,\u001b[49m\n\u001b[1;32m    335\u001b[0m \u001b[43m        \u001b[49m\u001b[43mon_always\u001b[49m\u001b[38;5;241;43m=\u001b[39;49m\u001b[43mpartial\u001b[49m\u001b[43m(\u001b[49m\u001b[38;5;28;43mself\u001b[39;49m\u001b[38;5;241;43m.\u001b[39;49m\u001b[43m_update_pbar\u001b[49m\u001b[43m,\u001b[49m\u001b[43m \u001b[49m\u001b[43mfunc\u001b[49m\u001b[38;5;241;43m=\u001b[39;49m\u001b[43mon_always\u001b[49m\u001b[43m)\u001b[49m\u001b[43m,\u001b[49m\n\u001b[1;32m    336\u001b[0m \u001b[43m        \u001b[49m\u001b[43mparameters\u001b[49m\u001b[38;5;241;43m=\u001b[39;49m\u001b[43mparameters\u001b[49m\u001b[43m,\u001b[49m\n\u001b[1;32m    337\u001b[0m \u001b[43m    \u001b[49m\u001b[43m)\u001b[49m\n\u001b[1;32m    339\u001b[0m unbox \u001b[38;5;241m=\u001b[39m \u001b[38;5;28mhasattr\u001b[39m(content, \u001b[38;5;124m'\u001b[39m\u001b[38;5;124m__len__\u001b[39m\u001b[38;5;124m'\u001b[39m) \u001b[38;5;129;01mand\u001b[39;00m \u001b[38;5;28misinstance\u001b[39m(content[\u001b[38;5;241m0\u001b[39m], \u001b[38;5;28mstr\u001b[39m)\n\u001b[1;32m    340\u001b[0m \u001b[38;5;28;01mreturn\u001b[39;00m \u001b[38;5;28mself\u001b[39m\u001b[38;5;241m.\u001b[39m_unboxed_result(results, unbox)\n",
      "File \u001b[0;32m~/.local/share/virtualenvs/linkedin_misinformation-xOmYosQV/lib/python3.8/site-packages/jina/clients/mixin.py:273\u001b[0m, in \u001b[0;36mPostMixin.post\u001b[0;34m(self, on, inputs, on_done, on_error, on_always, parameters, target_executor, request_size, show_progress, continue_on_error, return_responses, max_attempts, initial_backoff, max_backoff, backoff_multiplier, results_in_order, **kwargs)\u001b[0m\n\u001b[1;32m    270\u001b[0m     \u001b[38;5;28;01mif\u001b[39;00m return_results:\n\u001b[1;32m    271\u001b[0m         \u001b[38;5;28;01mreturn\u001b[39;00m result\n\u001b[0;32m--> 273\u001b[0m \u001b[38;5;28;01mreturn\u001b[39;00m \u001b[43mrun_async\u001b[49m\u001b[43m(\u001b[49m\n\u001b[1;32m    274\u001b[0m \u001b[43m    \u001b[49m\u001b[43m_get_results\u001b[49m\u001b[43m,\u001b[49m\n\u001b[1;32m    275\u001b[0m \u001b[43m    \u001b[49m\u001b[43minputs\u001b[49m\u001b[38;5;241;43m=\u001b[39;49m\u001b[43minputs\u001b[49m\u001b[43m,\u001b[49m\n\u001b[1;32m    276\u001b[0m \u001b[43m    \u001b[49m\u001b[43mon_done\u001b[49m\u001b[38;5;241;43m=\u001b[39;49m\u001b[43mon_done\u001b[49m\u001b[43m,\u001b[49m\n\u001b[1;32m    277\u001b[0m \u001b[43m    \u001b[49m\u001b[43mon_error\u001b[49m\u001b[38;5;241;43m=\u001b[39;49m\u001b[43mon_error\u001b[49m\u001b[43m,\u001b[49m\n\u001b[1;32m    278\u001b[0m \u001b[43m    \u001b[49m\u001b[43mon_always\u001b[49m\u001b[38;5;241;43m=\u001b[39;49m\u001b[43mon_always\u001b[49m\u001b[43m,\u001b[49m\n\u001b[1;32m    279\u001b[0m \u001b[43m    \u001b[49m\u001b[43mexec_endpoint\u001b[49m\u001b[38;5;241;43m=\u001b[39;49m\u001b[43mon\u001b[49m\u001b[43m,\u001b[49m\n\u001b[1;32m    280\u001b[0m \u001b[43m    \u001b[49m\u001b[43mtarget_executor\u001b[49m\u001b[38;5;241;43m=\u001b[39;49m\u001b[43mtarget_executor\u001b[49m\u001b[43m,\u001b[49m\n\u001b[1;32m    281\u001b[0m \u001b[43m    \u001b[49m\u001b[43mparameters\u001b[49m\u001b[38;5;241;43m=\u001b[39;49m\u001b[43mparameters\u001b[49m\u001b[43m,\u001b[49m\n\u001b[1;32m    282\u001b[0m \u001b[43m    \u001b[49m\u001b[43mrequest_size\u001b[49m\u001b[38;5;241;43m=\u001b[39;49m\u001b[43mrequest_size\u001b[49m\u001b[43m,\u001b[49m\n\u001b[1;32m    283\u001b[0m \u001b[43m    \u001b[49m\u001b[43mmax_attempts\u001b[49m\u001b[38;5;241;43m=\u001b[39;49m\u001b[43mmax_attempts\u001b[49m\u001b[43m,\u001b[49m\n\u001b[1;32m    284\u001b[0m \u001b[43m    \u001b[49m\u001b[43minitial_backoff\u001b[49m\u001b[38;5;241;43m=\u001b[39;49m\u001b[43minitial_backoff\u001b[49m\u001b[43m,\u001b[49m\n\u001b[1;32m    285\u001b[0m \u001b[43m    \u001b[49m\u001b[43mmax_backoff\u001b[49m\u001b[38;5;241;43m=\u001b[39;49m\u001b[43mmax_backoff\u001b[49m\u001b[43m,\u001b[49m\n\u001b[1;32m    286\u001b[0m \u001b[43m    \u001b[49m\u001b[43mbackoff_multiplier\u001b[49m\u001b[38;5;241;43m=\u001b[39;49m\u001b[43mbackoff_multiplier\u001b[49m\u001b[43m,\u001b[49m\n\u001b[1;32m    287\u001b[0m \u001b[43m    \u001b[49m\u001b[43mresults_in_order\u001b[49m\u001b[38;5;241;43m=\u001b[39;49m\u001b[43mresults_in_order\u001b[49m\u001b[43m,\u001b[49m\n\u001b[1;32m    288\u001b[0m \u001b[43m    \u001b[49m\u001b[38;5;241;43m*\u001b[39;49m\u001b[38;5;241;43m*\u001b[39;49m\u001b[43mkwargs\u001b[49m\u001b[43m,\u001b[49m\n\u001b[1;32m    289\u001b[0m \u001b[43m\u001b[49m\u001b[43m)\u001b[49m\n",
      "File \u001b[0;32m~/.local/share/virtualenvs/linkedin_misinformation-xOmYosQV/lib/python3.8/site-packages/jina/helper.py:1330\u001b[0m, in \u001b[0;36mrun_async\u001b[0;34m(func, *args, **kwargs)\u001b[0m\n\u001b[1;32m   1327\u001b[0m     \u001b[38;5;28;01mexcept\u001b[39;00m \u001b[38;5;167;01mAttributeError\u001b[39;00m:\n\u001b[1;32m   1328\u001b[0m         \u001b[38;5;28;01mfrom\u001b[39;00m \u001b[38;5;21;01mjina\u001b[39;00m\u001b[38;5;21;01m.\u001b[39;00m\u001b[38;5;21;01mexcepts\u001b[39;00m \u001b[38;5;28;01mimport\u001b[39;00m BadClient\n\u001b[0;32m-> 1330\u001b[0m         \u001b[38;5;28;01mraise\u001b[39;00m BadClient(\n\u001b[1;32m   1331\u001b[0m             \u001b[38;5;124m'\u001b[39m\u001b[38;5;124msomething wrong when running the eventloop, result can not be retrieved\u001b[39m\u001b[38;5;124m'\u001b[39m\n\u001b[1;32m   1332\u001b[0m         )\n\u001b[1;32m   1333\u001b[0m \u001b[38;5;28;01melse\u001b[39;00m:\n\u001b[1;32m   1335\u001b[0m     \u001b[38;5;28;01mraise\u001b[39;00m \u001b[38;5;167;01mRuntimeError\u001b[39;00m(\n\u001b[1;32m   1336\u001b[0m         \u001b[38;5;124m'\u001b[39m\u001b[38;5;124myou have an eventloop running but not using Jupyter/ipython, \u001b[39m\u001b[38;5;124m'\u001b[39m\n\u001b[1;32m   1337\u001b[0m         \u001b[38;5;124m'\u001b[39m\u001b[38;5;124mthis may mean you are using Jina with other integration? if so, then you \u001b[39m\u001b[38;5;124m'\u001b[39m\n\u001b[1;32m   1338\u001b[0m         \u001b[38;5;124m'\u001b[39m\u001b[38;5;124mmay want to use Client/Flow(asyncio=True). If not, then \u001b[39m\u001b[38;5;124m'\u001b[39m\n\u001b[1;32m   1339\u001b[0m         \u001b[38;5;124m'\u001b[39m\u001b[38;5;124mplease report this issue here: https://github.com/jina-ai/jina\u001b[39m\u001b[38;5;124m'\u001b[39m\n\u001b[1;32m   1340\u001b[0m     )\n",
      "\u001b[0;31mBadClient\u001b[0m: something wrong when running the eventloop, result can not be retrieved"
     ]
    }
   ],
   "source": [
    "embeddings_clip = c.encode([\" \".join(text) for text in text_clean_nonempty])"
   ]
  },
  {
   "cell_type": "markdown",
   "id": "2df7866b",
   "metadata": {},
   "source": [
    "## Vectorize using MPNet (https://huggingface.co/docs/transformers/model_doc/mpnet)"
   ]
  },
  {
   "cell_type": "code",
   "execution_count": null,
   "id": "05837c87",
   "metadata": {},
   "outputs": [],
   "source": [
    "# model_mpnet = SentenceTransformer(\"all-mpnet-base-v2\")\n",
    "# embeddings_mpnet = model_mpnet.encode([\" \".join(text) for text in text_clean_nonempty])"
   ]
  },
  {
   "cell_type": "code",
   "execution_count": 15,
   "id": "5c889674-0382-445d-9e89-d912cf582a00",
   "metadata": {},
   "outputs": [],
   "source": [
    "# Add features to embeddings\n",
    "sentiment_analyzer = SentimentIntensityAnalyzer()\n",
    "feature_vecs = []\n",
    "\n",
    "for i in range(posts_labeled.shape[0]):\n",
    "    emb = embeddings_clip[i]\n",
    "    row = posts_labeled.iloc[i]\n",
    "#     text = row[\"Text\"]\n",
    "    likes = int(re.sub(\",\", \"\", str(row.Likes)))\n",
    "    comments = int(re.sub(\"[^0-9]\", \"\", str(row.Comments)))\n",
    "    reposts = int(re.sub(\"[^0-9]\", \"\", str(row.Reposts)))\n",
    "    n_words = len(text_clean_nonempty[i])\n",
    "    sentiment = sentiment_analyzer.polarity_scores(\" \".join(text_clean_nonempty[i]))[\"compound\"]\n",
    "    vec = np.concatenate([emb, np.array([likes, comments, reposts, n_words, sentiment])])\n",
    "#     vec = np.array([likes, comments, reposts, n_words, sentiment])\n",
    "    feature_vecs.append(vec)"
   ]
  },
  {
   "cell_type": "markdown",
   "id": "e212e139-6a5b-41cf-86bf-1a295f81b343",
   "metadata": {},
   "source": [
    "# Train model"
   ]
  },
  {
   "cell_type": "code",
   "execution_count": null,
   "id": "ae0e702e",
   "metadata": {},
   "outputs": [],
   "source": [
    "def print_perf_metrics(preds, y_test, average=\"binary\"):\n",
    "    precision = precision_score(y_test, preds, average=average)\n",
    "    recall = recall_score(y_test, preds, average=average)\n",
    "    f1 = f1_score(y_test, preds, average=average)\n",
    "    # Skip AUC when multiclass\n",
    "    if average == \"binary\":\n",
    "#     multi_class = \"ovr\" if average != \"binary\" else \"raise\"\n",
    "        roc_auc = roc_auc_score(y_test, preds)\n",
    "\n",
    "    print(\"precision: {}\".format(round(precision, 3)))\n",
    "    print(\"recall: {}\".format(round(recall, 3)))\n",
    "    print(\"f1: {}\".format(round(f1, 3)))\n",
    "    if average == \"binary\":\n",
    "        print(\"AUC: {}\".format(round(roc_auc, 3)))"
   ]
  },
  {
   "cell_type": "code",
   "execution_count": null,
   "id": "bd852ed1",
   "metadata": {},
   "outputs": [],
   "source": [
    "label_mapping = {\"c\": 0, \"n\": 0, \"m\": 1} # merge counter-misinfo and neutral into neutral (i.e. transform into a binary classification task)\n",
    "labels_int = [label_mapping[label] for label in labels_nonempty]\n",
    "\n",
    "X_train, X_test, y_train, y_test = train_test_split(embeddings_clip, labels_int, test_size=0.2, random_state=SEED)"
   ]
  },
  {
   "cell_type": "markdown",
   "id": "25c69d56",
   "metadata": {},
   "source": [
    "## Logistic regression"
   ]
  },
  {
   "cell_type": "code",
   "execution_count": null,
   "id": "417fd8e3",
   "metadata": {},
   "outputs": [],
   "source": [
    "parameters_logreg = {\n",
    "    \"base_estimator__C\": [0.1, 1, 10, 100, 1000],\n",
    "    \"base_estimator__penalty\": [\"l1\", \"l2\", \"elasticnet\"],\n",
    "#     \"C\": [0.1, 1, 10, 100, 1000],\n",
    "#     \"penalty\": [\"l1\", \"l2\", \"elasticnet\"],\n",
    "    \"n_estimators\": [10, 25, 50]\n",
    "}\n",
    "estimator_logreg = BaggingClassifier(LogisticRegression(max_iter=100000))\n",
    "# estimator_logreg = LogisticRegression(max_iter=100000)\n",
    "\n",
    "grid_search_logreg = GridSearchCV(\n",
    "    estimator=estimator_logreg,\n",
    "    param_grid=parameters_logreg,\n",
    "    scoring=\"f1\",\n",
    "    n_jobs=-1,\n",
    "    cv=10,\n",
    "    verbose=2\n",
    ")\n",
    "grid_search_logreg.fit(X_train, y_train)\n",
    "preds_logreg = grid_search_logreg.predict(X_test)"
   ]
  },
  {
   "cell_type": "code",
   "execution_count": 301,
   "id": "9a52b1df",
   "metadata": {},
   "outputs": [
    {
     "name": "stdout",
     "output_type": "stream",
     "text": [
      "precision: 0.71\n",
      "recall: 0.564\n",
      "f1: 0.629\n",
      "AUC: 0.706\n"
     ]
    }
   ],
   "source": [
    "print_perf_metrics(preds_logreg, y_test)"
   ]
  },
  {
   "cell_type": "markdown",
   "id": "6928d1ec",
   "metadata": {},
   "source": [
    "## SVM"
   ]
  },
  {
   "cell_type": "code",
   "execution_count": 27,
   "id": "1bc52e03",
   "metadata": {},
   "outputs": [
    {
     "name": "stdout",
     "output_type": "stream",
     "text": [
      "Fitting 10 folds for each of 72 candidates, totalling 720 fits\n",
      "[CV] END base_estimator__C=0.1, base_estimator__kernel=linear, n_estimators=10; total time=   6.2s\n",
      "[CV] END base_estimator__C=0.1, base_estimator__kernel=linear, n_estimators=10; total time=   6.3s\n",
      "[CV] END base_estimator__C=0.1, base_estimator__kernel=linear, n_estimators=10; total time=   6.3s\n",
      "[CV] END base_estimator__C=0.1, base_estimator__kernel=linear, n_estimators=10; total time=   6.5s\n",
      "[CV] END base_estimator__C=0.1, base_estimator__kernel=linear, n_estimators=10; total time=   6.3s\n",
      "[CV] END base_estimator__C=0.1, base_estimator__kernel=linear, n_estimators=10; total time=   6.5s\n",
      "[CV] END base_estimator__C=0.1, base_estimator__kernel=linear, n_estimators=10; total time=   6.4s\n",
      "[CV] END base_estimator__C=0.1, base_estimator__kernel=linear, n_estimators=10; total time=   6.8s\n",
      "[CV] END base_estimator__C=0.1, base_estimator__kernel=linear, n_estimators=10; total time=   6.6s\n",
      "[CV] END base_estimator__C=0.1, base_estimator__kernel=linear, n_estimators=10; total time=   6.9s\n",
      "[CV] END base_estimator__C=0.1, base_estimator__kernel=linear, n_estimators=25; total time=  15.4s\n",
      "[CV] END base_estimator__C=0.1, base_estimator__kernel=linear, n_estimators=25; total time=  16.1s\n",
      "[CV] END base_estimator__C=0.1, base_estimator__kernel=linear, n_estimators=25; total time=  16.5s\n",
      "[CV] END base_estimator__C=0.1, base_estimator__kernel=linear, n_estimators=25; total time=  16.5s\n",
      "[CV] END base_estimator__C=0.1, base_estimator__kernel=linear, n_estimators=25; total time=  16.5s\n",
      "[CV] END base_estimator__C=0.1, base_estimator__kernel=linear, n_estimators=25; total time=  16.7s\n",
      "[CV] END base_estimator__C=0.1, base_estimator__kernel=linear, n_estimators=25; total time=  16.6s\n",
      "[CV] END base_estimator__C=0.1, base_estimator__kernel=linear, n_estimators=25; total time=  16.9s\n",
      "[CV] END base_estimator__C=0.1, base_estimator__kernel=linear, n_estimators=25; total time=  16.0s\n",
      "[CV] END base_estimator__C=0.1, base_estimator__kernel=linear, n_estimators=25; total time=  16.8s\n",
      "[CV] END base_estimator__C=0.1, base_estimator__kernel=linear, n_estimators=50; total time=  31.9s\n",
      "[CV] END base_estimator__C=0.1, base_estimator__kernel=linear, n_estimators=50; total time=  33.1s\n",
      "[CV] END base_estimator__C=0.1, base_estimator__kernel=linear, n_estimators=50; total time=  33.2s\n",
      "[CV] END base_estimator__C=0.1, base_estimator__kernel=linear, n_estimators=50; total time=  32.8s\n",
      "[CV] END base_estimator__C=0.1, base_estimator__kernel=linear, n_estimators=50; total time=  32.3s\n",
      "[CV] END base_estimator__C=0.1, base_estimator__kernel=linear, n_estimators=50; total time=  33.5s\n",
      "[CV] END base_estimator__C=0.1, base_estimator__kernel=poly, n_estimators=10; total time=   7.4s\n",
      "[CV] END base_estimator__C=0.1, base_estimator__kernel=poly, n_estimators=10; total time=   7.5s\n",
      "[CV] END base_estimator__C=0.1, base_estimator__kernel=poly, n_estimators=10; total time=   7.3s\n",
      "[CV] END base_estimator__C=0.1, base_estimator__kernel=linear, n_estimators=50; total time=  32.6s\n",
      "[CV] END base_estimator__C=0.1, base_estimator__kernel=poly, n_estimators=10; total time=   7.6s\n",
      "[CV] END base_estimator__C=0.1, base_estimator__kernel=poly, n_estimators=10; total time=   7.4s\n",
      "[CV] END base_estimator__C=0.1, base_estimator__kernel=poly, n_estimators=10; total time=   7.5s\n",
      "[CV] END base_estimator__C=0.1, base_estimator__kernel=linear, n_estimators=50; total time=  34.5s\n",
      "[CV] END base_estimator__C=0.1, base_estimator__kernel=poly, n_estimators=10; total time=   7.6s\n",
      "[CV] END base_estimator__C=0.1, base_estimator__kernel=poly, n_estimators=10; total time=   7.5s\n",
      "[CV] END base_estimator__C=0.1, base_estimator__kernel=poly, n_estimators=10; total time=   7.6s\n",
      "[CV] END base_estimator__C=0.1, base_estimator__kernel=poly, n_estimators=10; total time=   7.5s\n",
      "[CV] END base_estimator__C=0.1, base_estimator__kernel=linear, n_estimators=50; total time=  32.5s\n",
      "[CV] END base_estimator__C=0.1, base_estimator__kernel=linear, n_estimators=50; total time=  33.5s\n",
      "[CV] END base_estimator__C=0.1, base_estimator__kernel=poly, n_estimators=25; total time=  18.8s\n",
      "[CV] END base_estimator__C=0.1, base_estimator__kernel=poly, n_estimators=25; total time=  19.5s\n",
      "[CV] END base_estimator__C=0.1, base_estimator__kernel=poly, n_estimators=25; total time=  18.5s\n",
      "[CV] END base_estimator__C=0.1, base_estimator__kernel=poly, n_estimators=25; total time=  18.4s\n",
      "[CV] END base_estimator__C=0.1, base_estimator__kernel=poly, n_estimators=25; total time=  18.8s\n",
      "[CV] END base_estimator__C=0.1, base_estimator__kernel=poly, n_estimators=25; total time=  19.1s\n",
      "[CV] END base_estimator__C=0.1, base_estimator__kernel=poly, n_estimators=25; total time=  19.1s\n",
      "[CV] END base_estimator__C=0.1, base_estimator__kernel=poly, n_estimators=25; total time=  19.6s\n",
      "[CV] END base_estimator__C=0.1, base_estimator__kernel=poly, n_estimators=25; total time=  19.3s\n",
      "[CV] END base_estimator__C=0.1, base_estimator__kernel=poly, n_estimators=25; total time=  20.1s\n",
      "[CV] END base_estimator__C=0.1, base_estimator__kernel=poly, n_estimators=50; total time=  37.8s\n",
      "[CV] END base_estimator__C=0.1, base_estimator__kernel=poly, n_estimators=50; total time=  36.1s\n",
      "[CV] END base_estimator__C=0.1, base_estimator__kernel=poly, n_estimators=50; total time=  37.6s\n",
      "[CV] END base_estimator__C=0.1, base_estimator__kernel=poly, n_estimators=50; total time=  38.2s\n",
      "[CV] END base_estimator__C=0.1, base_estimator__kernel=rbf, n_estimators=10; total time=   7.5s\n",
      "[CV] END base_estimator__C=0.1, base_estimator__kernel=rbf, n_estimators=10; total time=   7.8s\n",
      "[CV] END base_estimator__C=0.1, base_estimator__kernel=poly, n_estimators=50; total time=  37.3s\n",
      "[CV] END base_estimator__C=0.1, base_estimator__kernel=poly, n_estimators=50; total time=  38.5s\n",
      "[CV] END base_estimator__C=0.1, base_estimator__kernel=poly, n_estimators=50; total time=  39.2s\n",
      "[CV] END base_estimator__C=0.1, base_estimator__kernel=rbf, n_estimators=10; total time=   7.9s\n",
      "[CV] END base_estimator__C=0.1, base_estimator__kernel=rbf, n_estimators=10; total time=   7.6s\n",
      "[CV] END base_estimator__C=0.1, base_estimator__kernel=rbf, n_estimators=10; total time=   7.7s\n",
      "[CV] END base_estimator__C=0.1, base_estimator__kernel=poly, n_estimators=50; total time=  39.2s\n",
      "[CV] END base_estimator__C=0.1, base_estimator__kernel=rbf, n_estimators=10; total time=   7.5s\n",
      "[CV] END base_estimator__C=0.1, base_estimator__kernel=rbf, n_estimators=10; total time=   7.6s\n",
      "[CV] END base_estimator__C=0.1, base_estimator__kernel=rbf, n_estimators=10; total time=   7.2s\n",
      "[CV] END base_estimator__C=0.1, base_estimator__kernel=rbf, n_estimators=10; total time=   7.2s\n",
      "[CV] END base_estimator__C=0.1, base_estimator__kernel=rbf, n_estimators=10; total time=   7.6s\n",
      "[CV] END base_estimator__C=0.1, base_estimator__kernel=poly, n_estimators=50; total time=  36.5s\n",
      "[CV] END base_estimator__C=0.1, base_estimator__kernel=poly, n_estimators=50; total time=  36.9s\n",
      "[CV] END base_estimator__C=0.1, base_estimator__kernel=rbf, n_estimators=25; total time=  18.4s\n",
      "[CV] END base_estimator__C=0.1, base_estimator__kernel=rbf, n_estimators=25; total time=  18.7s\n",
      "[CV] END base_estimator__C=0.1, base_estimator__kernel=rbf, n_estimators=25; total time=  19.0s\n",
      "[CV] END base_estimator__C=0.1, base_estimator__kernel=rbf, n_estimators=25; total time=  18.3s\n",
      "[CV] END base_estimator__C=0.1, base_estimator__kernel=rbf, n_estimators=25; total time=  17.9s\n",
      "[CV] END base_estimator__C=0.1, base_estimator__kernel=rbf, n_estimators=25; total time=  18.3s\n",
      "[CV] END base_estimator__C=0.1, base_estimator__kernel=rbf, n_estimators=25; total time=  17.4s\n",
      "[CV] END base_estimator__C=0.1, base_estimator__kernel=rbf, n_estimators=25; total time=  17.5s\n",
      "[CV] END base_estimator__C=0.1, base_estimator__kernel=rbf, n_estimators=25; total time=  18.0s\n",
      "[CV] END base_estimator__C=0.1, base_estimator__kernel=rbf, n_estimators=25; total time=  18.1s\n",
      "[CV] END base_estimator__C=0.1, base_estimator__kernel=rbf, n_estimators=50; total time=  36.2s\n",
      "[CV] END base_estimator__C=0.1, base_estimator__kernel=rbf, n_estimators=50; total time=  37.6s\n",
      "[CV] END base_estimator__C=0.1, base_estimator__kernel=rbf, n_estimators=50; total time=  35.5s\n",
      "[CV] END base_estimator__C=0.1, base_estimator__kernel=rbf, n_estimators=50; total time=  36.8s\n",
      "[CV] END base_estimator__C=0.1, base_estimator__kernel=sigmoid, n_estimators=10; total time=   6.1s\n",
      "[CV] END base_estimator__C=0.1, base_estimator__kernel=sigmoid, n_estimators=10; total time=   6.3s\n",
      "[CV] END base_estimator__C=0.1, base_estimator__kernel=rbf, n_estimators=50; total time=  34.7s\n",
      "[CV] END base_estimator__C=0.1, base_estimator__kernel=rbf, n_estimators=50; total time=  36.0s\n",
      "[CV] END base_estimator__C=0.1, base_estimator__kernel=rbf, n_estimators=50; total time=  35.9s\n",
      "[CV] END base_estimator__C=0.1, base_estimator__kernel=sigmoid, n_estimators=10; total time=   5.5s\n",
      "[CV] END base_estimator__C=0.1, base_estimator__kernel=sigmoid, n_estimators=10; total time=   6.3s\n",
      "[CV] END base_estimator__C=0.1, base_estimator__kernel=sigmoid, n_estimators=10; total time=   5.8s\n",
      "[CV] END base_estimator__C=0.1, base_estimator__kernel=rbf, n_estimators=50; total time=  35.8s\n",
      "[CV] END base_estimator__C=0.1, base_estimator__kernel=sigmoid, n_estimators=10; total time=   5.6s\n",
      "[CV] END base_estimator__C=0.1, base_estimator__kernel=sigmoid, n_estimators=10; total time=   6.2s\n",
      "[CV] END base_estimator__C=0.1, base_estimator__kernel=sigmoid, n_estimators=10; total time=   6.3s\n",
      "[CV] END base_estimator__C=0.1, base_estimator__kernel=sigmoid, n_estimators=10; total time=   6.5s\n",
      "[CV] END base_estimator__C=0.1, base_estimator__kernel=sigmoid, n_estimators=10; total time=   6.2s\n",
      "[CV] END base_estimator__C=0.1, base_estimator__kernel=sigmoid, n_estimators=25; total time=  15.6s\n",
      "[CV] END base_estimator__C=0.1, base_estimator__kernel=sigmoid, n_estimators=25; total time=  15.1s\n",
      "[CV] END base_estimator__C=0.1, base_estimator__kernel=sigmoid, n_estimators=25; total time=  15.7s\n",
      "[CV] END base_estimator__C=0.1, base_estimator__kernel=sigmoid, n_estimators=25; total time=  15.8s\n",
      "[CV] END base_estimator__C=0.1, base_estimator__kernel=sigmoid, n_estimators=25; total time=  15.7s\n",
      "[CV] END base_estimator__C=0.1, base_estimator__kernel=sigmoid, n_estimators=25; total time=  15.6s\n",
      "[CV] END base_estimator__C=0.1, base_estimator__kernel=rbf, n_estimators=50; total time=  37.3s\n",
      "[CV] END base_estimator__C=0.1, base_estimator__kernel=rbf, n_estimators=50; total time=  37.2s\n",
      "[CV] END base_estimator__C=0.1, base_estimator__kernel=sigmoid, n_estimators=25; total time=  15.8s\n",
      "[CV] END base_estimator__C=0.1, base_estimator__kernel=sigmoid, n_estimators=25; total time=  14.7s\n",
      "[CV] END base_estimator__C=0.1, base_estimator__kernel=sigmoid, n_estimators=25; total time=  15.6s\n",
      "[CV] END base_estimator__C=0.1, base_estimator__kernel=sigmoid, n_estimators=25; total time=  15.9s\n",
      "[CV] END base_estimator__C=0.1, base_estimator__kernel=sigmoid, n_estimators=50; total time=  31.0s\n",
      "[CV] END base_estimator__C=0.1, base_estimator__kernel=sigmoid, n_estimators=50; total time=  32.2s\n",
      "[CV] END base_estimator__C=0.1, base_estimator__kernel=sigmoid, n_estimators=50; total time=  32.3s\n",
      "[CV] END base_estimator__C=0.1, base_estimator__kernel=sigmoid, n_estimators=50; total time=  32.6s\n",
      "[CV] END base_estimator__C=0.5, base_estimator__kernel=linear, n_estimators=10; total time=   6.7s\n",
      "[CV] END base_estimator__C=0.5, base_estimator__kernel=linear, n_estimators=10; total time=   6.9s\n",
      "[CV] END base_estimator__C=0.1, base_estimator__kernel=sigmoid, n_estimators=50; total time=  31.3s\n",
      "[CV] END base_estimator__C=0.1, base_estimator__kernel=sigmoid, n_estimators=50; total time=  31.4s\n",
      "[CV] END base_estimator__C=0.1, base_estimator__kernel=sigmoid, n_estimators=50; total time=  31.6s\n",
      "[CV] END base_estimator__C=0.1, base_estimator__kernel=sigmoid, n_estimators=50; total time=  32.3s\n",
      "[CV] END base_estimator__C=0.5, base_estimator__kernel=linear, n_estimators=10; total time=   6.9s\n",
      "[CV] END base_estimator__C=0.5, base_estimator__kernel=linear, n_estimators=10; total time=   7.2s\n",
      "[CV] END base_estimator__C=0.5, base_estimator__kernel=linear, n_estimators=10; total time=   6.3s\n",
      "[CV] END base_estimator__C=0.5, base_estimator__kernel=linear, n_estimators=10; total time=   6.5s\n",
      "[CV] END base_estimator__C=0.5, base_estimator__kernel=linear, n_estimators=10; total time=   6.6s\n",
      "[CV] END base_estimator__C=0.5, base_estimator__kernel=linear, n_estimators=10; total time=   6.8s\n",
      "[CV] END base_estimator__C=0.5, base_estimator__kernel=linear, n_estimators=10; total time=   6.8s\n",
      "[CV] END base_estimator__C=0.5, base_estimator__kernel=linear, n_estimators=10; total time=   6.8s\n",
      "[CV] END base_estimator__C=0.1, base_estimator__kernel=sigmoid, n_estimators=50; total time=  31.3s\n",
      "[CV] END base_estimator__C=0.1, base_estimator__kernel=sigmoid, n_estimators=50; total time=  31.8s\n",
      "[CV] END base_estimator__C=0.5, base_estimator__kernel=linear, n_estimators=25; total time=  16.5s\n",
      "[CV] END base_estimator__C=0.5, base_estimator__kernel=linear, n_estimators=25; total time=  16.6s\n",
      "[CV] END base_estimator__C=0.5, base_estimator__kernel=linear, n_estimators=25; total time=  16.1s\n",
      "[CV] END base_estimator__C=0.5, base_estimator__kernel=linear, n_estimators=25; total time=  16.8s\n",
      "[CV] END base_estimator__C=0.5, base_estimator__kernel=linear, n_estimators=25; total time=  16.8s\n",
      "[CV] END base_estimator__C=0.5, base_estimator__kernel=linear, n_estimators=25; total time=  16.7s\n",
      "[CV] END base_estimator__C=0.5, base_estimator__kernel=linear, n_estimators=25; total time=  16.4s\n",
      "[CV] END base_estimator__C=0.5, base_estimator__kernel=linear, n_estimators=25; total time=  16.7s\n",
      "[CV] END base_estimator__C=0.5, base_estimator__kernel=linear, n_estimators=25; total time=  16.3s\n",
      "[CV] END base_estimator__C=0.5, base_estimator__kernel=linear, n_estimators=25; total time=  16.1s\n",
      "[CV] END base_estimator__C=0.5, base_estimator__kernel=linear, n_estimators=50; total time=  32.8s\n",
      "[CV] END base_estimator__C=0.5, base_estimator__kernel=linear, n_estimators=50; total time=  32.6s\n",
      "[CV] END base_estimator__C=0.5, base_estimator__kernel=linear, n_estimators=50; total time=  32.9s\n",
      "[CV] END base_estimator__C=0.5, base_estimator__kernel=linear, n_estimators=50; total time=  33.8s\n",
      "[CV] END base_estimator__C=0.5, base_estimator__kernel=poly, n_estimators=10; total time=   7.7s\n",
      "[CV] END base_estimator__C=0.5, base_estimator__kernel=linear, n_estimators=50; total time=  32.6s\n",
      "[CV] END base_estimator__C=0.5, base_estimator__kernel=poly, n_estimators=10; total time=   7.8s\n",
      "[CV] END base_estimator__C=0.5, base_estimator__kernel=linear, n_estimators=50; total time=  32.7s\n",
      "[CV] END base_estimator__C=0.5, base_estimator__kernel=linear, n_estimators=50; total time=  32.8s\n",
      "[CV] END base_estimator__C=0.5, base_estimator__kernel=linear, n_estimators=50; total time=  32.7s\n",
      "[CV] END base_estimator__C=0.5, base_estimator__kernel=poly, n_estimators=10; total time=   7.9s\n",
      "[CV] END base_estimator__C=0.5, base_estimator__kernel=poly, n_estimators=10; total time=   7.8s\n",
      "[CV] END base_estimator__C=0.5, base_estimator__kernel=poly, n_estimators=10; total time=   8.1s\n",
      "[CV] END base_estimator__C=0.5, base_estimator__kernel=poly, n_estimators=10; total time=   7.9s\n",
      "[CV] END base_estimator__C=0.5, base_estimator__kernel=poly, n_estimators=10; total time=   8.1s\n",
      "[CV] END base_estimator__C=0.5, base_estimator__kernel=poly, n_estimators=10; total time=   8.1s\n",
      "[CV] END base_estimator__C=0.5, base_estimator__kernel=poly, n_estimators=10; total time=   8.1s\n",
      "[CV] END base_estimator__C=0.5, base_estimator__kernel=poly, n_estimators=10; total time=   7.9s\n",
      "[CV] END base_estimator__C=0.5, base_estimator__kernel=linear, n_estimators=50; total time=  34.1s\n",
      "[CV] END base_estimator__C=0.5, base_estimator__kernel=linear, n_estimators=50; total time=  33.7s\n",
      "[CV] END base_estimator__C=0.5, base_estimator__kernel=poly, n_estimators=25; total time=  19.8s\n",
      "[CV] END base_estimator__C=0.5, base_estimator__kernel=poly, n_estimators=25; total time=  19.7s\n",
      "[CV] END base_estimator__C=0.5, base_estimator__kernel=poly, n_estimators=25; total time=  19.6s[CV] END base_estimator__C=0.5, base_estimator__kernel=poly, n_estimators=25; total time=  19.6s\n",
      "\n",
      "[CV] END base_estimator__C=0.5, base_estimator__kernel=poly, n_estimators=25; total time=  19.9s\n",
      "[CV] END base_estimator__C=0.5, base_estimator__kernel=poly, n_estimators=25; total time=  19.8s\n",
      "[CV] END base_estimator__C=0.5, base_estimator__kernel=poly, n_estimators=25; total time=  19.7s\n",
      "[CV] END base_estimator__C=0.5, base_estimator__kernel=poly, n_estimators=25; total time=  19.9s\n",
      "[CV] END base_estimator__C=0.5, base_estimator__kernel=poly, n_estimators=25; total time=  19.8s\n",
      "[CV] END base_estimator__C=0.5, base_estimator__kernel=poly, n_estimators=25; total time=  20.3s\n",
      "[CV] END base_estimator__C=0.5, base_estimator__kernel=poly, n_estimators=50; total time=  38.4s\n",
      "[CV] END base_estimator__C=0.5, base_estimator__kernel=poly, n_estimators=50; total time=  39.2s\n",
      "[CV] END base_estimator__C=0.5, base_estimator__kernel=poly, n_estimators=50; total time=  38.6s\n",
      "[CV] END base_estimator__C=0.5, base_estimator__kernel=poly, n_estimators=50; total time=  40.2s\n",
      "[CV] END base_estimator__C=0.5, base_estimator__kernel=poly, n_estimators=50; total time=  38.7s\n",
      "[CV] END base_estimator__C=0.5, base_estimator__kernel=rbf, n_estimators=10; total time=   7.4s\n",
      "[CV] END base_estimator__C=0.5, base_estimator__kernel=rbf, n_estimators=10; total time=   7.6s\n",
      "[CV] END base_estimator__C=0.5, base_estimator__kernel=poly, n_estimators=50; total time=  40.0s\n",
      "[CV] END base_estimator__C=0.5, base_estimator__kernel=rbf, n_estimators=10; total time=   7.7s\n",
      "[CV] END base_estimator__C=0.5, base_estimator__kernel=poly, n_estimators=50; total time=  39.6s\n",
      "[CV] END base_estimator__C=0.5, base_estimator__kernel=poly, n_estimators=50; total time=  40.3s\n",
      "[CV] END base_estimator__C=0.5, base_estimator__kernel=rbf, n_estimators=10; total time=   7.8s\n",
      "[CV] END base_estimator__C=0.5, base_estimator__kernel=rbf, n_estimators=10; total time=   7.9s\n",
      "[CV] END base_estimator__C=0.5, base_estimator__kernel=rbf, n_estimators=10; total time=   7.7s\n",
      "[CV] END base_estimator__C=0.5, base_estimator__kernel=rbf, n_estimators=10; total time=   7.4s\n",
      "[CV] END base_estimator__C=0.5, base_estimator__kernel=rbf, n_estimators=10; total time=   7.5s\n",
      "[CV] END base_estimator__C=0.5, base_estimator__kernel=rbf, n_estimators=10; total time=   7.5s\n",
      "[CV] END base_estimator__C=0.5, base_estimator__kernel=rbf, n_estimators=10; total time=   7.7s\n",
      "[CV] END base_estimator__C=0.5, base_estimator__kernel=poly, n_estimators=50; total time=  38.6s\n",
      "[CV] END base_estimator__C=0.5, base_estimator__kernel=poly, n_estimators=50; total time=  38.9s\n",
      "[CV] END base_estimator__C=0.5, base_estimator__kernel=rbf, n_estimators=25; total time=  18.8s\n",
      "[CV] END base_estimator__C=0.5, base_estimator__kernel=rbf, n_estimators=25; total time=  18.9s\n",
      "[CV] END base_estimator__C=0.5, base_estimator__kernel=rbf, n_estimators=25; total time=  18.3s\n",
      "[CV] END base_estimator__C=0.5, base_estimator__kernel=rbf, n_estimators=25; total time=  18.3s\n",
      "[CV] END base_estimator__C=0.5, base_estimator__kernel=rbf, n_estimators=25; total time=  18.4s\n",
      "[CV] END base_estimator__C=0.5, base_estimator__kernel=rbf, n_estimators=25; total time=  18.6s\n",
      "[CV] END base_estimator__C=0.5, base_estimator__kernel=rbf, n_estimators=25; total time=  17.8s\n",
      "[CV] END base_estimator__C=0.5, base_estimator__kernel=rbf, n_estimators=25; total time=  18.1s\n",
      "[CV] END base_estimator__C=0.5, base_estimator__kernel=rbf, n_estimators=25; total time=  18.4s\n",
      "[CV] END base_estimator__C=0.5, base_estimator__kernel=rbf, n_estimators=25; total time=  18.6s\n",
      "[CV] END base_estimator__C=0.5, base_estimator__kernel=rbf, n_estimators=50; total time=  36.1s\n",
      "[CV] END base_estimator__C=0.5, base_estimator__kernel=rbf, n_estimators=50; total time=  36.9s\n",
      "[CV] END base_estimator__C=0.5, base_estimator__kernel=rbf, n_estimators=50; total time=  36.7s\n",
      "[CV] END base_estimator__C=0.5, base_estimator__kernel=rbf, n_estimators=50; total time=  37.0s\n",
      "[CV] END base_estimator__C=0.5, base_estimator__kernel=sigmoid, n_estimators=10; total time=   5.6s\n",
      "[CV] END base_estimator__C=0.5, base_estimator__kernel=sigmoid, n_estimators=10; total time=   5.9s\n",
      "[CV] END base_estimator__C=0.5, base_estimator__kernel=rbf, n_estimators=50; total time=  35.5s\n",
      "[CV] END base_estimator__C=0.5, base_estimator__kernel=rbf, n_estimators=50; total time=  36.6s\n",
      "[CV] END base_estimator__C=0.5, base_estimator__kernel=sigmoid, n_estimators=10; total time=   5.3s\n",
      "[CV] END base_estimator__C=0.5, base_estimator__kernel=sigmoid, n_estimators=10; total time=   6.0s\n",
      "[CV] END base_estimator__C=0.5, base_estimator__kernel=sigmoid, n_estimators=10; total time=   5.0s\n",
      "[CV] END base_estimator__C=0.5, base_estimator__kernel=rbf, n_estimators=50; total time=  36.8s\n",
      "[CV] END base_estimator__C=0.5, base_estimator__kernel=rbf, n_estimators=50; total time=  37.3s\n",
      "[CV] END base_estimator__C=0.5, base_estimator__kernel=sigmoid, n_estimators=10; total time=   6.2s\n",
      "[CV] END base_estimator__C=0.5, base_estimator__kernel=sigmoid, n_estimators=10; total time=   6.1s\n",
      "[CV] END base_estimator__C=0.5, base_estimator__kernel=sigmoid, n_estimators=10; total time=   6.4s\n",
      "[CV] END base_estimator__C=0.5, base_estimator__kernel=sigmoid, n_estimators=10; total time=   6.1s\n",
      "[CV] END base_estimator__C=0.5, base_estimator__kernel=sigmoid, n_estimators=10; total time=   6.4s\n",
      "[CV] END base_estimator__C=0.5, base_estimator__kernel=sigmoid, n_estimators=25; total time=  15.6s\n",
      "[CV] END base_estimator__C=0.5, base_estimator__kernel=sigmoid, n_estimators=25; total time=  15.3s\n",
      "[CV] END base_estimator__C=0.5, base_estimator__kernel=sigmoid, n_estimators=25; total time=  15.3s\n",
      "[CV] END base_estimator__C=0.5, base_estimator__kernel=sigmoid, n_estimators=25; total time=  14.7s\n",
      "[CV] END base_estimator__C=0.5, base_estimator__kernel=sigmoid, n_estimators=25; total time=  15.3s\n",
      "[CV] END base_estimator__C=0.5, base_estimator__kernel=rbf, n_estimators=50; total time=  36.1s\n",
      "[CV] END base_estimator__C=0.5, base_estimator__kernel=rbf, n_estimators=50; total time=  37.0s\n",
      "[CV] END base_estimator__C=0.5, base_estimator__kernel=sigmoid, n_estimators=25; total time=  15.8s\n",
      "[CV] END base_estimator__C=0.5, base_estimator__kernel=sigmoid, n_estimators=25; total time=  15.2s\n",
      "[CV] END base_estimator__C=0.5, base_estimator__kernel=sigmoid, n_estimators=25; total time=  15.7s\n",
      "[CV] END base_estimator__C=0.5, base_estimator__kernel=sigmoid, n_estimators=25; total time=  15.9s\n",
      "[CV] END base_estimator__C=0.5, base_estimator__kernel=sigmoid, n_estimators=25; total time=  15.3s\n",
      "[CV] END base_estimator__C=0.5, base_estimator__kernel=sigmoid, n_estimators=50; total time=  30.8s\n",
      "[CV] END base_estimator__C=0.5, base_estimator__kernel=sigmoid, n_estimators=50; total time=  30.8s\n",
      "[CV] END base_estimator__C=0.5, base_estimator__kernel=sigmoid, n_estimators=50; total time=  31.7s\n",
      "[CV] END base_estimator__C=0.5, base_estimator__kernel=sigmoid, n_estimators=50; total time=  31.7s\n",
      "[CV] END base_estimator__C=1, base_estimator__kernel=linear, n_estimators=10; total time=   6.7s\n",
      "[CV] END base_estimator__C=1, base_estimator__kernel=linear, n_estimators=10; total time=   7.0s\n",
      "[CV] END base_estimator__C=0.5, base_estimator__kernel=sigmoid, n_estimators=50; total time=  31.1s\n",
      "[CV] END base_estimator__C=0.5, base_estimator__kernel=sigmoid, n_estimators=50; total time=  31.2s\n",
      "[CV] END base_estimator__C=0.5, base_estimator__kernel=sigmoid, n_estimators=50; total time=  30.8s\n",
      "[CV] END base_estimator__C=0.5, base_estimator__kernel=sigmoid, n_estimators=50; total time=  30.2s\n",
      "[CV] END base_estimator__C=1, base_estimator__kernel=linear, n_estimators=10; total time=   6.8s\n",
      "[CV] END base_estimator__C=1, base_estimator__kernel=linear, n_estimators=10; total time=   6.8s\n",
      "[CV] END base_estimator__C=1, base_estimator__kernel=linear, n_estimators=10; total time=   6.8s\n",
      "[CV] END base_estimator__C=1, base_estimator__kernel=linear, n_estimators=10; total time=   6.7s\n",
      "[CV] END base_estimator__C=1, base_estimator__kernel=linear, n_estimators=10; total time=   6.7s\n",
      "[CV] END base_estimator__C=1, base_estimator__kernel=linear, n_estimators=10; total time=   6.6s\n",
      "[CV] END base_estimator__C=1, base_estimator__kernel=linear, n_estimators=10; total time=   7.1s\n",
      "[CV] END base_estimator__C=1, base_estimator__kernel=linear, n_estimators=10; total time=   7.0s\n",
      "[CV] END base_estimator__C=0.5, base_estimator__kernel=sigmoid, n_estimators=50; total time=  31.1s\n",
      "[CV] END base_estimator__C=0.5, base_estimator__kernel=sigmoid, n_estimators=50; total time=  31.3s\n",
      "[CV] END base_estimator__C=1, base_estimator__kernel=linear, n_estimators=25; total time=  17.2s\n",
      "[CV] END base_estimator__C=1, base_estimator__kernel=linear, n_estimators=25; total time=  15.9s\n",
      "[CV] END base_estimator__C=1, base_estimator__kernel=linear, n_estimators=25; total time=  16.4s\n",
      "[CV] END base_estimator__C=1, base_estimator__kernel=linear, n_estimators=25; total time=  16.9s\n",
      "[CV] END base_estimator__C=1, base_estimator__kernel=linear, n_estimators=25; total time=  16.8s\n",
      "[CV] END base_estimator__C=1, base_estimator__kernel=linear, n_estimators=25; total time=  17.2s\n",
      "[CV] END base_estimator__C=1, base_estimator__kernel=linear, n_estimators=25; total time=  16.4s\n",
      "[CV] END base_estimator__C=1, base_estimator__kernel=linear, n_estimators=25; total time=  16.4s\n",
      "[CV] END base_estimator__C=1, base_estimator__kernel=linear, n_estimators=25; total time=  16.8s\n",
      "[CV] END base_estimator__C=1, base_estimator__kernel=linear, n_estimators=25; total time=  16.8s\n",
      "[CV] END base_estimator__C=1, base_estimator__kernel=linear, n_estimators=50; total time=  32.1s\n",
      "[CV] END base_estimator__C=1, base_estimator__kernel=linear, n_estimators=50; total time=  32.3s\n",
      "[CV] END base_estimator__C=1, base_estimator__kernel=linear, n_estimators=50; total time=  32.9s\n",
      "[CV] END base_estimator__C=1, base_estimator__kernel=linear, n_estimators=50; total time=  32.7s\n",
      "[CV] END base_estimator__C=1, base_estimator__kernel=poly, n_estimators=10; total time=   8.0s\n",
      "[CV] END base_estimator__C=1, base_estimator__kernel=poly, n_estimators=10; total time=   7.7s\n",
      "[CV] END base_estimator__C=1, base_estimator__kernel=linear, n_estimators=50; total time=  32.7s\n",
      "[CV] END base_estimator__C=1, base_estimator__kernel=linear, n_estimators=50; total time=  33.7s\n",
      "[CV] END base_estimator__C=1, base_estimator__kernel=linear, n_estimators=50; total time=  33.5s\n",
      "[CV] END base_estimator__C=1, base_estimator__kernel=linear, n_estimators=50; total time=  32.2s\n",
      "[CV] END base_estimator__C=1, base_estimator__kernel=poly, n_estimators=10; total time=   8.0s\n",
      "[CV] END base_estimator__C=1, base_estimator__kernel=poly, n_estimators=10; total time=   8.0s\n",
      "[CV] END base_estimator__C=1, base_estimator__kernel=poly, n_estimators=10; total time=   7.7s\n",
      "[CV] END base_estimator__C=1, base_estimator__kernel=poly, n_estimators=10; total time=   8.0s\n",
      "[CV] END base_estimator__C=1, base_estimator__kernel=poly, n_estimators=10; total time=   8.1s\n",
      "[CV] END base_estimator__C=1, base_estimator__kernel=poly, n_estimators=10; total time=   7.7s\n",
      "[CV] END base_estimator__C=1, base_estimator__kernel=poly, n_estimators=10; total time=   8.1s\n",
      "[CV] END base_estimator__C=1, base_estimator__kernel=poly, n_estimators=10; total time=   7.9s\n",
      "[CV] END base_estimator__C=1, base_estimator__kernel=linear, n_estimators=50; total time=  34.1s\n",
      "[CV] END base_estimator__C=1, base_estimator__kernel=linear, n_estimators=50; total time=  34.2s\n",
      "[CV] END base_estimator__C=1, base_estimator__kernel=poly, n_estimators=25; total time=  19.6s\n",
      "[CV] END base_estimator__C=1, base_estimator__kernel=poly, n_estimators=25; total time=  19.8s\n",
      "[CV] END base_estimator__C=1, base_estimator__kernel=poly, n_estimators=25; total time=  20.3s\n",
      "[CV] END base_estimator__C=1, base_estimator__kernel=poly, n_estimators=25; total time=  19.5s\n",
      "[CV] END base_estimator__C=1, base_estimator__kernel=poly, n_estimators=25; total time=  19.8s\n",
      "[CV] END base_estimator__C=1, base_estimator__kernel=poly, n_estimators=25; total time=  19.9s\n",
      "[CV] END base_estimator__C=1, base_estimator__kernel=poly, n_estimators=25; total time=  19.9s\n",
      "[CV] END base_estimator__C=1, base_estimator__kernel=poly, n_estimators=25; total time=  19.9s\n",
      "[CV] END base_estimator__C=1, base_estimator__kernel=poly, n_estimators=25; total time=  19.5s\n",
      "[CV] END base_estimator__C=1, base_estimator__kernel=poly, n_estimators=25; total time=  19.9s\n",
      "[CV] END base_estimator__C=1, base_estimator__kernel=poly, n_estimators=50; total time=  39.1s\n",
      "[CV] END base_estimator__C=1, base_estimator__kernel=poly, n_estimators=50; total time=  40.9s\n",
      "[CV] END base_estimator__C=1, base_estimator__kernel=poly, n_estimators=50; total time=  40.5s\n",
      "[CV] END base_estimator__C=1, base_estimator__kernel=poly, n_estimators=50; total time=  39.9s\n",
      "[CV] END base_estimator__C=1, base_estimator__kernel=poly, n_estimators=50; total time=  39.6s\n",
      "[CV] END base_estimator__C=1, base_estimator__kernel=rbf, n_estimators=10; total time=   8.0s\n",
      "[CV] END base_estimator__C=1, base_estimator__kernel=poly, n_estimators=50; total time=  40.2s\n",
      "[CV] END base_estimator__C=1, base_estimator__kernel=rbf, n_estimators=10; total time=   8.5s\n",
      "[CV] END base_estimator__C=1, base_estimator__kernel=poly, n_estimators=50; total time=  39.8s\n",
      "[CV] END base_estimator__C=1, base_estimator__kernel=poly, n_estimators=50; total time=  40.6s\n",
      "[CV] END base_estimator__C=1, base_estimator__kernel=rbf, n_estimators=10; total time=   8.2s\n",
      "[CV] END base_estimator__C=1, base_estimator__kernel=rbf, n_estimators=10; total time=   7.9s\n",
      "[CV] END base_estimator__C=1, base_estimator__kernel=rbf, n_estimators=10; total time=   8.3s\n",
      "[CV] END base_estimator__C=1, base_estimator__kernel=rbf, n_estimators=10; total time=   8.4s\n",
      "[CV] END base_estimator__C=1, base_estimator__kernel=rbf, n_estimators=10; total time=   8.0s\n",
      "[CV] END base_estimator__C=1, base_estimator__kernel=rbf, n_estimators=10; total time=   7.9s\n",
      "[CV] END base_estimator__C=1, base_estimator__kernel=rbf, n_estimators=10; total time=   8.0s\n",
      "[CV] END base_estimator__C=1, base_estimator__kernel=rbf, n_estimators=10; total time=   7.9s\n",
      "[CV] END base_estimator__C=1, base_estimator__kernel=poly, n_estimators=50; total time=  38.7s\n",
      "[CV] END base_estimator__C=1, base_estimator__kernel=rbf, n_estimators=25; total time=  19.7s\n",
      "[CV] END base_estimator__C=1, base_estimator__kernel=rbf, n_estimators=25; total time=  20.3s\n",
      "[CV] END base_estimator__C=1, base_estimator__kernel=poly, n_estimators=50; total time=  40.2s\n",
      "[CV] END base_estimator__C=1, base_estimator__kernel=rbf, n_estimators=25; total time=  19.7s\n",
      "[CV] END base_estimator__C=1, base_estimator__kernel=rbf, n_estimators=25; total time=  19.6s\n",
      "[CV] END base_estimator__C=1, base_estimator__kernel=rbf, n_estimators=25; total time=  19.1s\n",
      "[CV] END base_estimator__C=1, base_estimator__kernel=rbf, n_estimators=25; total time=  20.3s\n",
      "[CV] END base_estimator__C=1, base_estimator__kernel=rbf, n_estimators=25; total time=  19.1s\n",
      "[CV] END base_estimator__C=1, base_estimator__kernel=rbf, n_estimators=25; total time=  19.6s\n",
      "[CV] END base_estimator__C=1, base_estimator__kernel=rbf, n_estimators=25; total time=  19.9s\n",
      "[CV] END base_estimator__C=1, base_estimator__kernel=rbf, n_estimators=25; total time=  20.1s\n",
      "[CV] END base_estimator__C=1, base_estimator__kernel=rbf, n_estimators=50; total time=  38.2s\n",
      "[CV] END base_estimator__C=1, base_estimator__kernel=rbf, n_estimators=50; total time=  38.4s\n",
      "[CV] END base_estimator__C=1, base_estimator__kernel=rbf, n_estimators=50; total time=  38.6s\n",
      "[CV] END base_estimator__C=1, base_estimator__kernel=rbf, n_estimators=50; total time=  37.8s\n",
      "[CV] END base_estimator__C=1, base_estimator__kernel=sigmoid, n_estimators=10; total time=   5.9s\n",
      "[CV] END base_estimator__C=1, base_estimator__kernel=sigmoid, n_estimators=10; total time=   5.6s\n",
      "[CV] END base_estimator__C=1, base_estimator__kernel=rbf, n_estimators=50; total time=  37.5s\n",
      "[CV] END base_estimator__C=1, base_estimator__kernel=sigmoid, n_estimators=10; total time=   5.5s\n",
      "[CV] END base_estimator__C=1, base_estimator__kernel=sigmoid, n_estimators=10; total time=   5.6s\n",
      "[CV] END base_estimator__C=1, base_estimator__kernel=rbf, n_estimators=50; total time=  39.1s\n",
      "[CV] END base_estimator__C=1, base_estimator__kernel=rbf, n_estimators=50; total time=  39.4s\n",
      "[CV] END base_estimator__C=1, base_estimator__kernel=sigmoid, n_estimators=10; total time=   5.2s\n",
      "[CV] END base_estimator__C=1, base_estimator__kernel=sigmoid, n_estimators=10; total time=   5.2s\n",
      "[CV] END base_estimator__C=1, base_estimator__kernel=rbf, n_estimators=50; total time=  39.3s\n",
      "[CV] END base_estimator__C=1, base_estimator__kernel=sigmoid, n_estimators=10; total time=   6.0s\n",
      "[CV] END base_estimator__C=1, base_estimator__kernel=sigmoid, n_estimators=10; total time=   6.2s\n",
      "[CV] END base_estimator__C=1, base_estimator__kernel=sigmoid, n_estimators=10; total time=   5.4s\n",
      "[CV] END base_estimator__C=1, base_estimator__kernel=sigmoid, n_estimators=10; total time=   6.1s\n",
      "[CV] END base_estimator__C=1, base_estimator__kernel=sigmoid, n_estimators=25; total time=  14.5s\n",
      "[CV] END base_estimator__C=1, base_estimator__kernel=sigmoid, n_estimators=25; total time=  15.1s\n",
      "[CV] END base_estimator__C=1, base_estimator__kernel=sigmoid, n_estimators=25; total time=  14.1s\n",
      "[CV] END base_estimator__C=1, base_estimator__kernel=sigmoid, n_estimators=25; total time=  14.0s\n",
      "[CV] END base_estimator__C=1, base_estimator__kernel=sigmoid, n_estimators=25; total time=  14.9s\n",
      "[CV] END base_estimator__C=1, base_estimator__kernel=rbf, n_estimators=50; total time=  38.9s\n",
      "[CV] END base_estimator__C=1, base_estimator__kernel=sigmoid, n_estimators=25; total time=  14.6s\n",
      "[CV] END base_estimator__C=1, base_estimator__kernel=rbf, n_estimators=50; total time=  38.8s\n",
      "[CV] END base_estimator__C=1, base_estimator__kernel=sigmoid, n_estimators=25; total time=  14.2s\n",
      "[CV] END base_estimator__C=1, base_estimator__kernel=sigmoid, n_estimators=25; total time=  14.8s\n",
      "[CV] END base_estimator__C=1, base_estimator__kernel=sigmoid, n_estimators=25; total time=  14.4s\n",
      "[CV] END base_estimator__C=1, base_estimator__kernel=sigmoid, n_estimators=25; total time=  14.1s\n",
      "[CV] END base_estimator__C=1, base_estimator__kernel=sigmoid, n_estimators=50; total time=  29.6s\n",
      "[CV] END base_estimator__C=1, base_estimator__kernel=sigmoid, n_estimators=50; total time=  29.2s\n",
      "[CV] END base_estimator__C=1, base_estimator__kernel=sigmoid, n_estimators=50; total time=  30.2s\n",
      "[CV] END base_estimator__C=1, base_estimator__kernel=sigmoid, n_estimators=50; total time=  30.4s\n",
      "[CV] END base_estimator__C=10, base_estimator__kernel=linear, n_estimators=10; total time=   7.0s\n",
      "[CV] END base_estimator__C=1, base_estimator__kernel=sigmoid, n_estimators=50; total time=  29.2s\n",
      "[CV] END base_estimator__C=10, base_estimator__kernel=linear, n_estimators=10; total time=   6.8s\n",
      "[CV] END base_estimator__C=1, base_estimator__kernel=sigmoid, n_estimators=50; total time=  29.7s\n",
      "[CV] END base_estimator__C=1, base_estimator__kernel=sigmoid, n_estimators=50; total time=  30.4s\n",
      "[CV] END base_estimator__C=1, base_estimator__kernel=sigmoid, n_estimators=50; total time=  29.5s\n",
      "[CV] END base_estimator__C=10, base_estimator__kernel=linear, n_estimators=10; total time=   7.3s\n",
      "[CV] END base_estimator__C=10, base_estimator__kernel=linear, n_estimators=10; total time=   6.7s\n",
      "[CV] END base_estimator__C=10, base_estimator__kernel=linear, n_estimators=10; total time=   6.8s\n",
      "[CV] END base_estimator__C=10, base_estimator__kernel=linear, n_estimators=10; total time=   6.6s\n",
      "[CV] END base_estimator__C=10, base_estimator__kernel=linear, n_estimators=10; total time=   6.8s\n",
      "[CV] END base_estimator__C=10, base_estimator__kernel=linear, n_estimators=10; total time=   6.8s\n",
      "[CV] END base_estimator__C=10, base_estimator__kernel=linear, n_estimators=10; total time=   6.8s\n",
      "[CV] END base_estimator__C=10, base_estimator__kernel=linear, n_estimators=10; total time=   7.1s\n",
      "[CV] END base_estimator__C=1, base_estimator__kernel=sigmoid, n_estimators=50; total time=  29.8s\n",
      "[CV] END base_estimator__C=1, base_estimator__kernel=sigmoid, n_estimators=50; total time=  31.2s\n",
      "[CV] END base_estimator__C=10, base_estimator__kernel=linear, n_estimators=25; total time=  16.7s\n",
      "[CV] END base_estimator__C=10, base_estimator__kernel=linear, n_estimators=25; total time=  16.9s\n",
      "[CV] END base_estimator__C=10, base_estimator__kernel=linear, n_estimators=25; total time=  16.9s\n",
      "[CV] END base_estimator__C=10, base_estimator__kernel=linear, n_estimators=25; total time=  16.1s\n",
      "[CV] END base_estimator__C=10, base_estimator__kernel=linear, n_estimators=25; total time=  16.7s\n",
      "[CV] END base_estimator__C=10, base_estimator__kernel=linear, n_estimators=25; total time=  17.1s\n",
      "[CV] END base_estimator__C=10, base_estimator__kernel=linear, n_estimators=25; total time=  16.4s\n",
      "[CV] END base_estimator__C=10, base_estimator__kernel=linear, n_estimators=25; total time=  16.8s\n",
      "[CV] END base_estimator__C=10, base_estimator__kernel=linear, n_estimators=25; total time=  16.1s\n",
      "[CV] END base_estimator__C=10, base_estimator__kernel=linear, n_estimators=25; total time=  16.5s\n",
      "[CV] END base_estimator__C=10, base_estimator__kernel=linear, n_estimators=50; total time=  32.6s\n",
      "[CV] END base_estimator__C=10, base_estimator__kernel=linear, n_estimators=50; total time=  31.8s\n",
      "[CV] END base_estimator__C=10, base_estimator__kernel=linear, n_estimators=50; total time=  32.6s\n",
      "[CV] END base_estimator__C=10, base_estimator__kernel=linear, n_estimators=50; total time=  34.0s\n",
      "[CV] END base_estimator__C=10, base_estimator__kernel=linear, n_estimators=50; total time=  32.5s\n",
      "[CV] END base_estimator__C=10, base_estimator__kernel=poly, n_estimators=10; total time=   8.1s\n",
      "[CV] END base_estimator__C=10, base_estimator__kernel=linear, n_estimators=50; total time=  33.8s\n",
      "[CV] END base_estimator__C=10, base_estimator__kernel=poly, n_estimators=10; total time=   8.1s\n",
      "[CV] END base_estimator__C=10, base_estimator__kernel=linear, n_estimators=50; total time=  33.1s\n",
      "[CV] END base_estimator__C=10, base_estimator__kernel=linear, n_estimators=50; total time=  33.0s\n",
      "[CV] END base_estimator__C=10, base_estimator__kernel=poly, n_estimators=10; total time=   7.8s\n",
      "[CV] END base_estimator__C=10, base_estimator__kernel=poly, n_estimators=10; total time=   8.1s\n",
      "[CV] END base_estimator__C=10, base_estimator__kernel=poly, n_estimators=10; total time=   7.9s\n",
      "[CV] END base_estimator__C=10, base_estimator__kernel=poly, n_estimators=10; total time=   8.3s\n",
      "[CV] END base_estimator__C=10, base_estimator__kernel=poly, n_estimators=10; total time=   8.0s\n",
      "[CV] END base_estimator__C=10, base_estimator__kernel=poly, n_estimators=10; total time=   8.0s\n",
      "[CV] END base_estimator__C=10, base_estimator__kernel=poly, n_estimators=10; total time=   8.1s\n",
      "[CV] END base_estimator__C=10, base_estimator__kernel=poly, n_estimators=10; total time=   8.1s\n",
      "[CV] END base_estimator__C=10, base_estimator__kernel=linear, n_estimators=50; total time=  33.4s\n",
      "[CV] END base_estimator__C=10, base_estimator__kernel=linear, n_estimators=50; total time=  34.3s\n",
      "[CV] END base_estimator__C=10, base_estimator__kernel=poly, n_estimators=25; total time=  19.8s\n",
      "[CV] END base_estimator__C=10, base_estimator__kernel=poly, n_estimators=25; total time=  20.3s\n",
      "[CV] END base_estimator__C=10, base_estimator__kernel=poly, n_estimators=25; total time=  19.7s\n",
      "[CV] END base_estimator__C=10, base_estimator__kernel=poly, n_estimators=25; total time=  19.9s\n",
      "[CV] END base_estimator__C=10, base_estimator__kernel=poly, n_estimators=25; total time=  19.6s\n",
      "[CV] END base_estimator__C=10, base_estimator__kernel=poly, n_estimators=25; total time=  20.3s\n",
      "[CV] END base_estimator__C=10, base_estimator__kernel=poly, n_estimators=25; total time=  20.0s\n",
      "[CV] END base_estimator__C=10, base_estimator__kernel=poly, n_estimators=25; total time=  20.6s\n",
      "[CV] END base_estimator__C=10, base_estimator__kernel=poly, n_estimators=25; total time=  20.2s\n",
      "[CV] END base_estimator__C=10, base_estimator__kernel=poly, n_estimators=25; total time=  20.8s\n",
      "[CV] END base_estimator__C=10, base_estimator__kernel=poly, n_estimators=50; total time=  39.4s\n",
      "[CV] END base_estimator__C=10, base_estimator__kernel=poly, n_estimators=50; total time=  39.9s\n",
      "[CV] END base_estimator__C=10, base_estimator__kernel=poly, n_estimators=50; total time=  39.9s\n",
      "[CV] END base_estimator__C=10, base_estimator__kernel=poly, n_estimators=50; total time=  40.9s\n",
      "[CV] END base_estimator__C=10, base_estimator__kernel=poly, n_estimators=50; total time=  39.6s\n",
      "[CV] END base_estimator__C=10, base_estimator__kernel=rbf, n_estimators=10; total time=   8.8s\n",
      "[CV] END base_estimator__C=10, base_estimator__kernel=poly, n_estimators=50; total time=  41.4s\n",
      "[CV] END base_estimator__C=10, base_estimator__kernel=rbf, n_estimators=10; total time=   8.4s\n",
      "[CV] END base_estimator__C=10, base_estimator__kernel=rbf, n_estimators=10; total time=   8.3s\n",
      "[CV] END base_estimator__C=10, base_estimator__kernel=poly, n_estimators=50; total time=  41.1s\n",
      "[CV] END base_estimator__C=10, base_estimator__kernel=rbf, n_estimators=10; total time=   8.3s\n",
      "[CV] END base_estimator__C=10, base_estimator__kernel=poly, n_estimators=50; total time=  41.1s\n",
      "[CV] END base_estimator__C=10, base_estimator__kernel=rbf, n_estimators=10; total time=   8.9s\n",
      "[CV] END base_estimator__C=10, base_estimator__kernel=rbf, n_estimators=10; total time=   8.5s\n",
      "[CV] END base_estimator__C=10, base_estimator__kernel=rbf, n_estimators=10; total time=   8.2s\n",
      "[CV] END base_estimator__C=10, base_estimator__kernel=rbf, n_estimators=10; total time=   8.3s\n",
      "[CV] END base_estimator__C=10, base_estimator__kernel=rbf, n_estimators=10; total time=   8.1s\n",
      "[CV] END base_estimator__C=10, base_estimator__kernel=rbf, n_estimators=10; total time=   8.2s\n",
      "[CV] END base_estimator__C=10, base_estimator__kernel=poly, n_estimators=50; total time=  39.0s\n",
      "[CV] END base_estimator__C=10, base_estimator__kernel=poly, n_estimators=50; total time=  39.7s\n",
      "[CV] END base_estimator__C=10, base_estimator__kernel=rbf, n_estimators=25; total time=  21.0s\n",
      "[CV] END base_estimator__C=10, base_estimator__kernel=rbf, n_estimators=25; total time=  20.9s\n",
      "[CV] END base_estimator__C=10, base_estimator__kernel=rbf, n_estimators=25; total time=  20.5s\n",
      "[CV] END base_estimator__C=10, base_estimator__kernel=rbf, n_estimators=25; total time=  21.0s\n",
      "[CV] END base_estimator__C=10, base_estimator__kernel=rbf, n_estimators=25; total time=  21.0s\n",
      "[CV] END base_estimator__C=10, base_estimator__kernel=rbf, n_estimators=25; total time=  21.0s\n",
      "[CV] END base_estimator__C=10, base_estimator__kernel=rbf, n_estimators=25; total time=  20.2s\n",
      "[CV] END base_estimator__C=10, base_estimator__kernel=rbf, n_estimators=25; total time=  20.2s\n",
      "[CV] END base_estimator__C=10, base_estimator__kernel=rbf, n_estimators=25; total time=  20.0s\n",
      "[CV] END base_estimator__C=10, base_estimator__kernel=rbf, n_estimators=25; total time=  20.8s\n",
      "[CV] END base_estimator__C=10, base_estimator__kernel=rbf, n_estimators=50; total time=  39.9s\n",
      "[CV] END base_estimator__C=10, base_estimator__kernel=rbf, n_estimators=50; total time=  39.8s\n",
      "[CV] END base_estimator__C=10, base_estimator__kernel=rbf, n_estimators=50; total time=  40.4s\n",
      "[CV] END base_estimator__C=10, base_estimator__kernel=rbf, n_estimators=50; total time=  41.5s\n",
      "[CV] END base_estimator__C=10, base_estimator__kernel=sigmoid, n_estimators=10; total time=   4.6s\n",
      "[CV] END base_estimator__C=10, base_estimator__kernel=sigmoid, n_estimators=10; total time=   5.0s\n",
      "[CV] END base_estimator__C=10, base_estimator__kernel=rbf, n_estimators=50; total time=  40.1s\n",
      "[CV] END base_estimator__C=10, base_estimator__kernel=sigmoid, n_estimators=10; total time=   4.8s\n",
      "[CV] END base_estimator__C=10, base_estimator__kernel=rbf, n_estimators=50; total time=  39.9s\n",
      "[CV] END base_estimator__C=10, base_estimator__kernel=sigmoid, n_estimators=10; total time=   4.7s\n",
      "[CV] END base_estimator__C=10, base_estimator__kernel=sigmoid, n_estimators=10; total time=   4.0s\n",
      "[CV] END base_estimator__C=10, base_estimator__kernel=sigmoid, n_estimators=10; total time=   4.6s\n",
      "[CV] END base_estimator__C=10, base_estimator__kernel=rbf, n_estimators=50; total time=  39.9s\n",
      "[CV] END base_estimator__C=10, base_estimator__kernel=rbf, n_estimators=50; total time=  40.8s\n",
      "[CV] END base_estimator__C=10, base_estimator__kernel=sigmoid, n_estimators=10; total time=   4.1s\n",
      "[CV] END base_estimator__C=10, base_estimator__kernel=sigmoid, n_estimators=10; total time=   4.8s\n",
      "[CV] END base_estimator__C=10, base_estimator__kernel=sigmoid, n_estimators=10; total time=   4.3s\n",
      "[CV] END base_estimator__C=10, base_estimator__kernel=sigmoid, n_estimators=10; total time=   5.1s\n",
      "[CV] END base_estimator__C=10, base_estimator__kernel=sigmoid, n_estimators=25; total time=  11.3s\n",
      "[CV] END base_estimator__C=10, base_estimator__kernel=sigmoid, n_estimators=25; total time=  11.7s\n",
      "[CV] END base_estimator__C=10, base_estimator__kernel=sigmoid, n_estimators=25; total time=  11.3s\n",
      "[CV] END base_estimator__C=10, base_estimator__kernel=sigmoid, n_estimators=25; total time=  11.1s\n",
      "[CV] END base_estimator__C=10, base_estimator__kernel=sigmoid, n_estimators=25; total time=  12.2s\n",
      "[CV] END base_estimator__C=10, base_estimator__kernel=sigmoid, n_estimators=25; total time=  11.9s\n",
      "[CV] END base_estimator__C=10, base_estimator__kernel=rbf, n_estimators=50; total time=  38.9s\n",
      "[CV] END base_estimator__C=10, base_estimator__kernel=sigmoid, n_estimators=25; total time=  11.4s\n",
      "[CV] END base_estimator__C=10, base_estimator__kernel=sigmoid, n_estimators=25; total time=  11.4s\n",
      "[CV] END base_estimator__C=10, base_estimator__kernel=sigmoid, n_estimators=25; total time=  11.5s\n",
      "[CV] END base_estimator__C=10, base_estimator__kernel=rbf, n_estimators=50; total time=  40.2s\n",
      "[CV] END base_estimator__C=10, base_estimator__kernel=sigmoid, n_estimators=25; total time=  11.5s\n",
      "[CV] END base_estimator__C=10, base_estimator__kernel=sigmoid, n_estimators=50; total time=  22.1s\n",
      "[CV] END base_estimator__C=10, base_estimator__kernel=sigmoid, n_estimators=50; total time=  23.7s\n",
      "[CV] END base_estimator__C=10, base_estimator__kernel=sigmoid, n_estimators=50; total time=  21.9s\n",
      "[CV] END base_estimator__C=10, base_estimator__kernel=sigmoid, n_estimators=50; total time=  23.1s\n",
      "[CV] END base_estimator__C=10, base_estimator__kernel=sigmoid, n_estimators=50; total time=  22.5s\n",
      "[CV] END base_estimator__C=10, base_estimator__kernel=sigmoid, n_estimators=50; total time=  23.2s\n",
      "[CV] END base_estimator__C=10, base_estimator__kernel=sigmoid, n_estimators=50; total time=  24.5s\n",
      "[CV] END base_estimator__C=10, base_estimator__kernel=sigmoid, n_estimators=50; total time=  23.6s\n",
      "[CV] END base_estimator__C=100, base_estimator__kernel=linear, n_estimators=10; total time=   6.2s\n",
      "[CV] END base_estimator__C=100, base_estimator__kernel=linear, n_estimators=10; total time=   6.7s\n",
      "[CV] END base_estimator__C=100, base_estimator__kernel=linear, n_estimators=10; total time=   6.3s\n",
      "[CV] END base_estimator__C=100, base_estimator__kernel=linear, n_estimators=10; total time=   6.5s\n",
      "[CV] END base_estimator__C=100, base_estimator__kernel=linear, n_estimators=10; total time=   6.8s\n",
      "[CV] END base_estimator__C=100, base_estimator__kernel=linear, n_estimators=10; total time=   6.6s\n",
      "[CV] END base_estimator__C=100, base_estimator__kernel=linear, n_estimators=10; total time=   6.5s\n",
      "[CV] END base_estimator__C=100, base_estimator__kernel=linear, n_estimators=10; total time=   6.3s\n",
      "[CV] END base_estimator__C=100, base_estimator__kernel=linear, n_estimators=10; total time=   6.4s\n",
      "[CV] END base_estimator__C=100, base_estimator__kernel=linear, n_estimators=10; total time=   6.4s\n",
      "[CV] END base_estimator__C=10, base_estimator__kernel=sigmoid, n_estimators=50; total time=  24.4s\n",
      "[CV] END base_estimator__C=10, base_estimator__kernel=sigmoid, n_estimators=50; total time=  24.2s\n",
      "[CV] END base_estimator__C=100, base_estimator__kernel=linear, n_estimators=25; total time=  16.4s\n",
      "[CV] END base_estimator__C=100, base_estimator__kernel=linear, n_estimators=25; total time=  16.3s\n",
      "[CV] END base_estimator__C=100, base_estimator__kernel=linear, n_estimators=25; total time=  15.9s\n",
      "[CV] END base_estimator__C=100, base_estimator__kernel=linear, n_estimators=25; total time=  16.6s\n",
      "[CV] END base_estimator__C=100, base_estimator__kernel=linear, n_estimators=25; total time=  16.1s\n",
      "[CV] END base_estimator__C=100, base_estimator__kernel=linear, n_estimators=25; total time=  16.5s\n",
      "[CV] END base_estimator__C=100, base_estimator__kernel=linear, n_estimators=25; total time=  17.0s\n",
      "[CV] END base_estimator__C=100, base_estimator__kernel=linear, n_estimators=25; total time=  16.6s\n",
      "[CV] END base_estimator__C=100, base_estimator__kernel=linear, n_estimators=25; total time=  16.5s\n",
      "[CV] END base_estimator__C=100, base_estimator__kernel=linear, n_estimators=25; total time=  17.5s\n",
      "[CV] END base_estimator__C=100, base_estimator__kernel=linear, n_estimators=50; total time=  32.1s\n",
      "[CV] END base_estimator__C=100, base_estimator__kernel=linear, n_estimators=50; total time=  32.0s\n",
      "[CV] END base_estimator__C=100, base_estimator__kernel=linear, n_estimators=50; total time=  33.4s\n",
      "[CV] END base_estimator__C=100, base_estimator__kernel=linear, n_estimators=50; total time=  33.0s\n",
      "[CV] END base_estimator__C=100, base_estimator__kernel=linear, n_estimators=50; total time=  33.7s\n",
      "[CV] END base_estimator__C=100, base_estimator__kernel=linear, n_estimators=50; total time=  33.8s\n",
      "[CV] END base_estimator__C=100, base_estimator__kernel=poly, n_estimators=10; total time=   7.7s\n",
      "[CV] END base_estimator__C=100, base_estimator__kernel=poly, n_estimators=10; total time=   7.8s\n",
      "[CV] END base_estimator__C=100, base_estimator__kernel=poly, n_estimators=10; total time=   8.2s\n",
      "[CV] END base_estimator__C=100, base_estimator__kernel=linear, n_estimators=50; total time=  32.8s\n",
      "[CV] END base_estimator__C=100, base_estimator__kernel=poly, n_estimators=10; total time=   8.0s\n",
      "[CV] END base_estimator__C=100, base_estimator__kernel=poly, n_estimators=10; total time=   7.9s\n",
      "[CV] END base_estimator__C=100, base_estimator__kernel=linear, n_estimators=50; total time=  35.2s\n",
      "[CV] END base_estimator__C=100, base_estimator__kernel=poly, n_estimators=10; total time=   7.8s\n",
      "[CV] END base_estimator__C=100, base_estimator__kernel=poly, n_estimators=10; total time=   8.1s\n",
      "[CV] END base_estimator__C=100, base_estimator__kernel=poly, n_estimators=10; total time=   7.9s\n",
      "[CV] END base_estimator__C=100, base_estimator__kernel=poly, n_estimators=10; total time=   8.0s\n",
      "[CV] END base_estimator__C=100, base_estimator__kernel=poly, n_estimators=10; total time=   7.8s\n",
      "[CV] END base_estimator__C=100, base_estimator__kernel=linear, n_estimators=50; total time=  32.9s\n",
      "[CV] END base_estimator__C=100, base_estimator__kernel=linear, n_estimators=50; total time=  33.0s\n",
      "[CV] END base_estimator__C=100, base_estimator__kernel=poly, n_estimators=25; total time=  20.2s\n",
      "[CV] END base_estimator__C=100, base_estimator__kernel=poly, n_estimators=25; total time=  19.8s\n",
      "[CV] END base_estimator__C=100, base_estimator__kernel=poly, n_estimators=25; total time=  19.7s\n",
      "[CV] END base_estimator__C=100, base_estimator__kernel=poly, n_estimators=25; total time=  20.7s\n",
      "[CV] END base_estimator__C=100, base_estimator__kernel=poly, n_estimators=25; total time=  20.1s\n",
      "[CV] END base_estimator__C=100, base_estimator__kernel=poly, n_estimators=25; total time=  20.2s\n",
      "[CV] END base_estimator__C=100, base_estimator__kernel=poly, n_estimators=25; total time=  20.6s\n",
      "[CV] END base_estimator__C=100, base_estimator__kernel=poly, n_estimators=25; total time=  20.1s\n",
      "[CV] END base_estimator__C=100, base_estimator__kernel=poly, n_estimators=25; total time=  20.8s\n",
      "[CV] END base_estimator__C=100, base_estimator__kernel=poly, n_estimators=25; total time=  20.5s\n",
      "[CV] END base_estimator__C=100, base_estimator__kernel=poly, n_estimators=50; total time=  39.4s\n",
      "[CV] END base_estimator__C=100, base_estimator__kernel=poly, n_estimators=50; total time=  40.9s\n",
      "[CV] END base_estimator__C=100, base_estimator__kernel=poly, n_estimators=50; total time=  40.5s\n",
      "[CV] END base_estimator__C=100, base_estimator__kernel=poly, n_estimators=50; total time=  40.0s\n",
      "[CV] END base_estimator__C=100, base_estimator__kernel=poly, n_estimators=50; total time=  38.8s\n",
      "[CV] END base_estimator__C=100, base_estimator__kernel=poly, n_estimators=50; total time=  39.5s\n",
      "[CV] END base_estimator__C=100, base_estimator__kernel=rbf, n_estimators=10; total time=   8.7s\n",
      "[CV] END base_estimator__C=100, base_estimator__kernel=rbf, n_estimators=10; total time=   8.7s\n",
      "[CV] END base_estimator__C=100, base_estimator__kernel=rbf, n_estimators=10; total time=   8.7s\n",
      "[CV] END base_estimator__C=100, base_estimator__kernel=poly, n_estimators=50; total time=  39.7s\n",
      "[CV] END base_estimator__C=100, base_estimator__kernel=poly, n_estimators=50; total time=  41.4s\n",
      "[CV] END base_estimator__C=100, base_estimator__kernel=rbf, n_estimators=10; total time=   8.1s\n",
      "[CV] END base_estimator__C=100, base_estimator__kernel=rbf, n_estimators=10; total time=   8.7s\n",
      "[CV] END base_estimator__C=100, base_estimator__kernel=rbf, n_estimators=10; total time=   8.3s\n",
      "[CV] END base_estimator__C=100, base_estimator__kernel=rbf, n_estimators=10; total time=   8.2s\n",
      "[CV] END base_estimator__C=100, base_estimator__kernel=rbf, n_estimators=10; total time=   8.1s\n",
      "[CV] END base_estimator__C=100, base_estimator__kernel=rbf, n_estimators=10; total time=   8.5s\n",
      "[CV] END base_estimator__C=100, base_estimator__kernel=rbf, n_estimators=10; total time=   7.9s\n",
      "[CV] END base_estimator__C=100, base_estimator__kernel=poly, n_estimators=50; total time=  38.8s\n",
      "[CV] END base_estimator__C=100, base_estimator__kernel=rbf, n_estimators=25; total time=  20.9s\n",
      "[CV] END base_estimator__C=100, base_estimator__kernel=poly, n_estimators=50; total time=  39.9s\n",
      "[CV] END base_estimator__C=100, base_estimator__kernel=rbf, n_estimators=25; total time=  20.6s\n",
      "[CV] END base_estimator__C=100, base_estimator__kernel=rbf, n_estimators=25; total time=  20.0s\n",
      "[CV] END base_estimator__C=100, base_estimator__kernel=rbf, n_estimators=25; total time=  20.5s\n",
      "[CV] END base_estimator__C=100, base_estimator__kernel=rbf, n_estimators=25; total time=  20.1s\n",
      "[CV] END base_estimator__C=100, base_estimator__kernel=rbf, n_estimators=25; total time=  21.0s\n",
      "[CV] END base_estimator__C=100, base_estimator__kernel=rbf, n_estimators=25; total time=  19.6s\n",
      "[CV] END base_estimator__C=100, base_estimator__kernel=rbf, n_estimators=25; total time=  20.2s\n",
      "[CV] END base_estimator__C=100, base_estimator__kernel=rbf, n_estimators=25; total time=  20.2s[CV] END base_estimator__C=100, base_estimator__kernel=rbf, n_estimators=25; total time=  20.4s\n",
      "\n",
      "[CV] END base_estimator__C=100, base_estimator__kernel=rbf, n_estimators=50; total time=  40.2s\n",
      "[CV] END base_estimator__C=100, base_estimator__kernel=rbf, n_estimators=50; total time=  40.7s\n",
      "[CV] END base_estimator__C=100, base_estimator__kernel=rbf, n_estimators=50; total time=  40.1s\n",
      "[CV] END base_estimator__C=100, base_estimator__kernel=rbf, n_estimators=50; total time=  41.5s\n",
      "[CV] END base_estimator__C=100, base_estimator__kernel=sigmoid, n_estimators=10; total time=   4.1s\n",
      "[CV] END base_estimator__C=100, base_estimator__kernel=sigmoid, n_estimators=10; total time=   4.4s\n",
      "[CV] END base_estimator__C=100, base_estimator__kernel=sigmoid, n_estimators=10; total time=   4.3s\n",
      "[CV] END base_estimator__C=100, base_estimator__kernel=sigmoid, n_estimators=10; total time=   4.2s\n",
      "[CV] END base_estimator__C=100, base_estimator__kernel=rbf, n_estimators=50; total time=  39.7s\n",
      "[CV] END base_estimator__C=100, base_estimator__kernel=sigmoid, n_estimators=10; total time=   4.0s\n",
      "[CV] END base_estimator__C=100, base_estimator__kernel=rbf, n_estimators=50; total time=  40.3s\n",
      "[CV] END base_estimator__C=100, base_estimator__kernel=sigmoid, n_estimators=10; total time=   4.0s\n",
      "[CV] END base_estimator__C=100, base_estimator__kernel=rbf, n_estimators=50; total time=  40.4s\n",
      "[CV] END base_estimator__C=100, base_estimator__kernel=sigmoid, n_estimators=10; total time=   4.5s\n",
      "[CV] END base_estimator__C=100, base_estimator__kernel=rbf, n_estimators=50; total time=  41.1s\n",
      "[CV] END base_estimator__C=100, base_estimator__kernel=sigmoid, n_estimators=10; total time=   4.4s\n",
      "[CV] END base_estimator__C=100, base_estimator__kernel=sigmoid, n_estimators=10; total time=   4.5s\n",
      "[CV] END base_estimator__C=100, base_estimator__kernel=sigmoid, n_estimators=10; total time=   4.6s\n",
      "[CV] END base_estimator__C=100, base_estimator__kernel=sigmoid, n_estimators=25; total time=  10.3s\n",
      "[CV] END base_estimator__C=100, base_estimator__kernel=sigmoid, n_estimators=25; total time=  11.3s\n",
      "[CV] END base_estimator__C=100, base_estimator__kernel=sigmoid, n_estimators=25; total time=  11.3s\n",
      "[CV] END base_estimator__C=100, base_estimator__kernel=sigmoid, n_estimators=25; total time=  11.9s\n",
      "[CV] END base_estimator__C=100, base_estimator__kernel=sigmoid, n_estimators=25; total time=  10.6s\n",
      "[CV] END base_estimator__C=100, base_estimator__kernel=sigmoid, n_estimators=25; total time=  10.7s\n",
      "[CV] END base_estimator__C=100, base_estimator__kernel=sigmoid, n_estimators=25; total time=  10.3s\n",
      "[CV] END base_estimator__C=100, base_estimator__kernel=rbf, n_estimators=50; total time=  37.6s\n",
      "[CV] END base_estimator__C=100, base_estimator__kernel=sigmoid, n_estimators=25; total time=  10.1s\n",
      "[CV] END base_estimator__C=100, base_estimator__kernel=sigmoid, n_estimators=25; total time=  10.4s\n",
      "[CV] END base_estimator__C=100, base_estimator__kernel=rbf, n_estimators=50; total time=  38.0s\n",
      "[CV] END base_estimator__C=100, base_estimator__kernel=sigmoid, n_estimators=25; total time=  10.8s\n",
      "[CV] END base_estimator__C=100, base_estimator__kernel=sigmoid, n_estimators=50; total time=  20.7s\n",
      "[CV] END base_estimator__C=100, base_estimator__kernel=sigmoid, n_estimators=50; total time=  20.6s\n",
      "[CV] END base_estimator__C=100, base_estimator__kernel=sigmoid, n_estimators=50; total time=  20.5s\n",
      "[CV] END base_estimator__C=100, base_estimator__kernel=sigmoid, n_estimators=50; total time=  20.8s\n",
      "[CV] END base_estimator__C=100, base_estimator__kernel=sigmoid, n_estimators=50; total time=  21.4s\n",
      "[CV] END base_estimator__C=100, base_estimator__kernel=sigmoid, n_estimators=50; total time=  21.4s\n",
      "[CV] END base_estimator__C=100, base_estimator__kernel=sigmoid, n_estimators=50; total time=  21.6s\n",
      "[CV] END base_estimator__C=1000, base_estimator__kernel=linear, n_estimators=10; total time=   5.7s\n",
      "[CV] END base_estimator__C=100, base_estimator__kernel=sigmoid, n_estimators=50; total time=  22.2s\n",
      "[CV] END base_estimator__C=1000, base_estimator__kernel=linear, n_estimators=10; total time=   6.0s\n",
      "[CV] END base_estimator__C=1000, base_estimator__kernel=linear, n_estimators=10; total time=   6.0s\n",
      "[CV] END base_estimator__C=1000, base_estimator__kernel=linear, n_estimators=10; total time=   6.5s\n",
      "[CV] END base_estimator__C=1000, base_estimator__kernel=linear, n_estimators=10; total time=   6.3s\n",
      "[CV] END base_estimator__C=1000, base_estimator__kernel=linear, n_estimators=10; total time=   6.5s[CV] END base_estimator__C=1000, base_estimator__kernel=linear, n_estimators=10; total time=   6.6s\n",
      "\n",
      "[CV] END base_estimator__C=1000, base_estimator__kernel=linear, n_estimators=10; total time=   6.3s\n",
      "[CV] END base_estimator__C=1000, base_estimator__kernel=linear, n_estimators=10; total time=   6.4s\n",
      "[CV] END base_estimator__C=1000, base_estimator__kernel=linear, n_estimators=10; total time=   6.6s\n",
      "[CV] END base_estimator__C=100, base_estimator__kernel=sigmoid, n_estimators=50; total time=  22.6s\n",
      "[CV] END base_estimator__C=100, base_estimator__kernel=sigmoid, n_estimators=50; total time=  22.2s\n",
      "[CV] END base_estimator__C=1000, base_estimator__kernel=linear, n_estimators=25; total time=  16.2s\n",
      "[CV] END base_estimator__C=1000, base_estimator__kernel=linear, n_estimators=25; total time=  16.1s\n",
      "[CV] END base_estimator__C=1000, base_estimator__kernel=linear, n_estimators=25; total time=  17.0s\n",
      "[CV] END base_estimator__C=1000, base_estimator__kernel=linear, n_estimators=25; total time=  15.6s\n",
      "[CV] END base_estimator__C=1000, base_estimator__kernel=linear, n_estimators=25; total time=  15.9s\n",
      "[CV] END base_estimator__C=1000, base_estimator__kernel=linear, n_estimators=25; total time=  17.0s\n",
      "[CV] END base_estimator__C=1000, base_estimator__kernel=linear, n_estimators=25; total time=  16.6s\n",
      "[CV] END base_estimator__C=1000, base_estimator__kernel=linear, n_estimators=25; total time=  16.7s\n",
      "[CV] END base_estimator__C=1000, base_estimator__kernel=linear, n_estimators=25; total time=  16.9s\n",
      "[CV] END base_estimator__C=1000, base_estimator__kernel=linear, n_estimators=25; total time=  16.6s\n",
      "[CV] END base_estimator__C=1000, base_estimator__kernel=linear, n_estimators=50; total time=  32.3s\n",
      "[CV] END base_estimator__C=1000, base_estimator__kernel=linear, n_estimators=50; total time=  32.0s\n",
      "[CV] END base_estimator__C=1000, base_estimator__kernel=linear, n_estimators=50; total time=  34.3s\n",
      "[CV] END base_estimator__C=1000, base_estimator__kernel=linear, n_estimators=50; total time=  33.4s\n",
      "[CV] END base_estimator__C=1000, base_estimator__kernel=linear, n_estimators=50; total time=  34.4s\n",
      "[CV] END base_estimator__C=1000, base_estimator__kernel=linear, n_estimators=50; total time=  34.0s\n",
      "[CV] END base_estimator__C=1000, base_estimator__kernel=poly, n_estimators=10; total time=   8.2s\n",
      "[CV] END base_estimator__C=1000, base_estimator__kernel=poly, n_estimators=10; total time=   8.0s\n",
      "[CV] END base_estimator__C=1000, base_estimator__kernel=poly, n_estimators=10; total time=   8.2s\n",
      "[CV] END base_estimator__C=1000, base_estimator__kernel=poly, n_estimators=10; total time=   8.0s\n",
      "[CV] END base_estimator__C=1000, base_estimator__kernel=linear, n_estimators=50; total time=  33.3s\n",
      "[CV] END base_estimator__C=1000, base_estimator__kernel=linear, n_estimators=50; total time=  33.5s\n",
      "[CV] END base_estimator__C=1000, base_estimator__kernel=poly, n_estimators=10; total time=   8.4s\n",
      "[CV] END base_estimator__C=1000, base_estimator__kernel=poly, n_estimators=10; total time=   7.9s\n",
      "[CV] END base_estimator__C=1000, base_estimator__kernel=poly, n_estimators=10; total time=   8.1s\n",
      "[CV] END base_estimator__C=1000, base_estimator__kernel=poly, n_estimators=10; total time=   8.1s\n",
      "[CV] END base_estimator__C=1000, base_estimator__kernel=poly, n_estimators=10; total time=   8.1s\n",
      "[CV] END base_estimator__C=1000, base_estimator__kernel=poly, n_estimators=10; total time=   7.9s\n",
      "[CV] END base_estimator__C=1000, base_estimator__kernel=linear, n_estimators=50; total time=  33.4s\n",
      "[CV] END base_estimator__C=1000, base_estimator__kernel=linear, n_estimators=50; total time=  33.9s\n",
      "[CV] END base_estimator__C=1000, base_estimator__kernel=poly, n_estimators=25; total time=  20.8s\n",
      "[CV] END base_estimator__C=1000, base_estimator__kernel=poly, n_estimators=25; total time=  19.8s\n",
      "[CV] END base_estimator__C=1000, base_estimator__kernel=poly, n_estimators=25; total time=  20.1s\n",
      "[CV] END base_estimator__C=1000, base_estimator__kernel=poly, n_estimators=25; total time=  20.0s\n",
      "[CV] END base_estimator__C=1000, base_estimator__kernel=poly, n_estimators=25; total time=  19.8s\n",
      "[CV] END base_estimator__C=1000, base_estimator__kernel=poly, n_estimators=25; total time=  19.8s\n",
      "[CV] END base_estimator__C=1000, base_estimator__kernel=poly, n_estimators=25; total time=  19.8s\n",
      "[CV] END base_estimator__C=1000, base_estimator__kernel=poly, n_estimators=25; total time=  19.5s\n",
      "[CV] END base_estimator__C=1000, base_estimator__kernel=poly, n_estimators=25; total time=  20.1s\n",
      "[CV] END base_estimator__C=1000, base_estimator__kernel=poly, n_estimators=25; total time=  21.0s\n",
      "[CV] END base_estimator__C=1000, base_estimator__kernel=poly, n_estimators=50; total time=  40.0s\n",
      "[CV] END base_estimator__C=1000, base_estimator__kernel=poly, n_estimators=50; total time=  40.4s\n",
      "[CV] END base_estimator__C=1000, base_estimator__kernel=poly, n_estimators=50; total time=  40.0s\n",
      "[CV] END base_estimator__C=1000, base_estimator__kernel=poly, n_estimators=50; total time=  39.2s\n",
      "[CV] END base_estimator__C=1000, base_estimator__kernel=rbf, n_estimators=10; total time=   8.5s\n",
      "[CV] END base_estimator__C=1000, base_estimator__kernel=rbf, n_estimators=10; total time=   8.6s\n",
      "[CV] END base_estimator__C=1000, base_estimator__kernel=poly, n_estimators=50; total time=  39.2s\n",
      "[CV] END base_estimator__C=1000, base_estimator__kernel=poly, n_estimators=50; total time=  40.0s\n",
      "[CV] END base_estimator__C=1000, base_estimator__kernel=rbf, n_estimators=10; total time=   8.4s\n",
      "[CV] END base_estimator__C=1000, base_estimator__kernel=rbf, n_estimators=10; total time=   8.2s\n",
      "[CV] END base_estimator__C=1000, base_estimator__kernel=rbf, n_estimators=10; total time=   8.3s\n",
      "[CV] END base_estimator__C=1000, base_estimator__kernel=poly, n_estimators=50; total time=  40.4s\n",
      "[CV] END base_estimator__C=1000, base_estimator__kernel=poly, n_estimators=50; total time=  40.7s\n",
      "[CV] END base_estimator__C=1000, base_estimator__kernel=rbf, n_estimators=10; total time=   8.2s\n",
      "[CV] END base_estimator__C=1000, base_estimator__kernel=rbf, n_estimators=10; total time=   8.2s\n",
      "[CV] END base_estimator__C=1000, base_estimator__kernel=rbf, n_estimators=10; total time=   8.0s\n",
      "[CV] END base_estimator__C=1000, base_estimator__kernel=rbf, n_estimators=10; total time=   8.0s\n",
      "[CV] END base_estimator__C=1000, base_estimator__kernel=rbf, n_estimators=10; total time=   8.1s\n",
      "[CV] END base_estimator__C=1000, base_estimator__kernel=poly, n_estimators=50; total time=  39.1s\n",
      "[CV] END base_estimator__C=1000, base_estimator__kernel=rbf, n_estimators=25; total time=  20.2s\n",
      "[CV] END base_estimator__C=1000, base_estimator__kernel=poly, n_estimators=50; total time=  39.8s\n",
      "[CV] END base_estimator__C=1000, base_estimator__kernel=rbf, n_estimators=25; total time=  21.2s\n",
      "[CV] END base_estimator__C=1000, base_estimator__kernel=rbf, n_estimators=25; total time=  20.3s\n",
      "[CV] END base_estimator__C=1000, base_estimator__kernel=rbf, n_estimators=25; total time=  19.4s\n",
      "[CV] END base_estimator__C=1000, base_estimator__kernel=rbf, n_estimators=25; total time=  19.8s\n",
      "[CV] END base_estimator__C=1000, base_estimator__kernel=rbf, n_estimators=25; total time=  20.5s\n",
      "[CV] END base_estimator__C=1000, base_estimator__kernel=rbf, n_estimators=25; total time=  19.5s\n",
      "[CV] END base_estimator__C=1000, base_estimator__kernel=rbf, n_estimators=25; total time=  20.5s\n",
      "[CV] END base_estimator__C=1000, base_estimator__kernel=rbf, n_estimators=25; total time=  20.1s\n",
      "[CV] END base_estimator__C=1000, base_estimator__kernel=rbf, n_estimators=25; total time=  20.6s\n",
      "[CV] END base_estimator__C=1000, base_estimator__kernel=rbf, n_estimators=50; total time=  39.6s\n",
      "[CV] END base_estimator__C=1000, base_estimator__kernel=rbf, n_estimators=50; total time=  40.3s\n",
      "[CV] END base_estimator__C=1000, base_estimator__kernel=rbf, n_estimators=50; total time=  40.3s\n",
      "[CV] END base_estimator__C=1000, base_estimator__kernel=rbf, n_estimators=50; total time=  41.4s\n",
      "[CV] END base_estimator__C=1000, base_estimator__kernel=sigmoid, n_estimators=10; total time=   4.7s\n",
      "[CV] END base_estimator__C=1000, base_estimator__kernel=sigmoid, n_estimators=10; total time=   4.5s\n",
      "[CV] END base_estimator__C=1000, base_estimator__kernel=sigmoid, n_estimators=10; total time=   4.0s\n",
      "[CV] END base_estimator__C=1000, base_estimator__kernel=sigmoid, n_estimators=10; total time=   4.4s\n",
      "[CV] END base_estimator__C=1000, base_estimator__kernel=rbf, n_estimators=50; total time=  38.6s\n",
      "[CV] END base_estimator__C=1000, base_estimator__kernel=sigmoid, n_estimators=10; total time=   4.1s\n",
      "[CV] END base_estimator__C=1000, base_estimator__kernel=rbf, n_estimators=50; total time=  40.2s\n",
      "[CV] END base_estimator__C=1000, base_estimator__kernel=rbf, n_estimators=50; total time=  40.1s\n",
      "[CV] END base_estimator__C=1000, base_estimator__kernel=sigmoid, n_estimators=10; total time=   4.4s\n",
      "[CV] END base_estimator__C=1000, base_estimator__kernel=sigmoid, n_estimators=10; total time=   4.2s\n",
      "[CV] END base_estimator__C=1000, base_estimator__kernel=rbf, n_estimators=50; total time=  41.2s\n",
      "[CV] END base_estimator__C=1000, base_estimator__kernel=sigmoid, n_estimators=10; total time=   4.6s\n",
      "[CV] END base_estimator__C=1000, base_estimator__kernel=sigmoid, n_estimators=10; total time=   4.3s\n",
      "[CV] END base_estimator__C=1000, base_estimator__kernel=sigmoid, n_estimators=10; total time=   4.7s\n",
      "[CV] END base_estimator__C=1000, base_estimator__kernel=sigmoid, n_estimators=25; total time=  10.7s\n",
      "[CV] END base_estimator__C=1000, base_estimator__kernel=sigmoid, n_estimators=25; total time=  10.8s\n",
      "[CV] END base_estimator__C=1000, base_estimator__kernel=sigmoid, n_estimators=25; total time=  10.9s\n",
      "[CV] END base_estimator__C=1000, base_estimator__kernel=sigmoid, n_estimators=25; total time=  11.3s\n",
      "[CV] END base_estimator__C=1000, base_estimator__kernel=sigmoid, n_estimators=25; total time=  11.7s\n",
      "[CV] END base_estimator__C=1000, base_estimator__kernel=sigmoid, n_estimators=25; total time=  11.6s\n",
      "[CV] END base_estimator__C=1000, base_estimator__kernel=rbf, n_estimators=50; total time=  36.2s\n",
      "[CV] END base_estimator__C=1000, base_estimator__kernel=rbf, n_estimators=50; total time=  36.8s\n",
      "[CV] END base_estimator__C=1000, base_estimator__kernel=sigmoid, n_estimators=25; total time=  10.5s\n",
      "[CV] END base_estimator__C=1000, base_estimator__kernel=sigmoid, n_estimators=25; total time=  10.7s\n",
      "[CV] END base_estimator__C=1000, base_estimator__kernel=sigmoid, n_estimators=25; total time=  11.0s\n",
      "[CV] END base_estimator__C=1000, base_estimator__kernel=sigmoid, n_estimators=25; total time=  10.4s\n",
      "[CV] END base_estimator__C=1000, base_estimator__kernel=sigmoid, n_estimators=50; total time=  19.9s\n",
      "[CV] END base_estimator__C=1000, base_estimator__kernel=sigmoid, n_estimators=50; total time=  21.7s\n",
      "[CV] END base_estimator__C=1000, base_estimator__kernel=sigmoid, n_estimators=50; total time=  20.8s\n",
      "[CV] END base_estimator__C=1000, base_estimator__kernel=sigmoid, n_estimators=50; total time=  21.8s\n",
      "[CV] END base_estimator__C=1000, base_estimator__kernel=sigmoid, n_estimators=50; total time=  20.7s\n",
      "[CV] END base_estimator__C=1000, base_estimator__kernel=sigmoid, n_estimators=50; total time=  20.7s\n",
      "[CV] END base_estimator__C=1000, base_estimator__kernel=sigmoid, n_estimators=50; total time=  20.7s\n",
      "[CV] END base_estimator__C=1000, base_estimator__kernel=sigmoid, n_estimators=50; total time=  19.3s\n",
      "[CV] END base_estimator__C=1000, base_estimator__kernel=sigmoid, n_estimators=50; total time=  11.1s\n",
      "[CV] END base_estimator__C=1000, base_estimator__kernel=sigmoid, n_estimators=50; total time=  10.1s\n"
     ]
    }
   ],
   "source": [
    "parameters_svm = {\n",
    "    \"base_estimator__C\": [0.1, 0.5, 1, 10, 100, 1000],\n",
    "    \"base_estimator__kernel\": [\"linear\", \"poly\", \"rbf\", \"sigmoid\"],\n",
    "    \"n_estimators\": [10, 25, 50]\n",
    "}\n",
    "estimator_svm = BaggingClassifier(SVC())\n",
    "\n",
    "grid_search_svm = GridSearchCV(\n",
    "    estimator=estimator_svm,\n",
    "    param_grid=parameters_svm,\n",
    "    scoring=\"f1_micro\",\n",
    "    n_jobs=-1,\n",
    "    cv=10,\n",
    "    verbose=2\n",
    ")\n",
    "grid_search_svm.fit(X_train, y_train)\n",
    "preds_svm = grid_search_svm.predict(X_test)"
   ]
  },
  {
   "cell_type": "code",
   "execution_count": 28,
   "id": "98b855be",
   "metadata": {},
   "outputs": [
    {
     "name": "stdout",
     "output_type": "stream",
     "text": [
      "precision: 0.793\n",
      "recall: 0.59\n",
      "f1: 0.676\n",
      "AUC: 0.744\n"
     ]
    }
   ],
   "source": [
    "print_perf_metrics(preds_svm, y_test)"
   ]
  },
  {
   "cell_type": "code",
   "execution_count": 29,
   "id": "6bb9f089",
   "metadata": {},
   "outputs": [
    {
     "name": "stderr",
     "output_type": "stream",
     "text": [
      "\u001b[1;33mFutureWarning: Function plot_confusion_matrix is deprecated; Function `plot_confusion_matrix` is deprecated in 1.0 and will be removed in 1.2. Use one of the class methods: ConfusionMatrixDisplay.from_predictions or ConfusionMatrixDisplay.from_estimator.\u001b[0m \u001b[1;30m(raised from /home/slazien/.local/share/virtualenvs/linkedin_misinformation-xOmYosQV/lib/python3.8/site-packages/sklearn/utils/deprecation.py:87)\u001b[0m\n"
     ]
    },
    {
     "data": {
      "text/plain": [
       "<sklearn.metrics._plot.confusion_matrix.ConfusionMatrixDisplay at 0x7f9fff9fc370>"
      ]
     },
     "execution_count": 29,
     "metadata": {},
     "output_type": "execute_result"
    },
    {
     "data": {
      "image/png": "[encoded data removed]",
      "text/plain": [
       "<Figure size 640x480 with 2 Axes>"
      ]
     },
     "metadata": {},
     "output_type": "display_data"
    }
   ],
   "source": [
    "plot_confusion_matrix(grid_search_svm, X_test, y_test)"
   ]
  },
  {
   "cell_type": "code",
   "execution_count": 30,
   "id": "73c16b60",
   "metadata": {},
   "outputs": [],
   "source": [
    "s = pickle.dumps(grid_search_svm)"
   ]
  },
  {
   "cell_type": "code",
   "execution_count": 31,
   "id": "962604b0",
   "metadata": {},
   "outputs": [],
   "source": [
    "s2 = pickle.loads(s)"
   ]
  },
  {
   "cell_type": "code",
   "execution_count": 32,
   "id": "dc28d50a",
   "metadata": {},
   "outputs": [
    {
     "name": "stdout",
     "output_type": "stream",
     "text": [
      "precision: 0.793\n",
      "recall: 0.59\n",
      "f1: 0.676\n",
      "AUC: 0.744\n"
     ]
    }
   ],
   "source": [
    "print_perf_metrics(s2.predict(X_test), y_test)"
   ]
  },
  {
   "cell_type": "markdown",
   "id": "6391a8cc",
   "metadata": {},
   "source": [
    "## Gaussian process"
   ]
  },
  {
   "cell_type": "code",
   "execution_count": 296,
   "id": "ff7446e3",
   "metadata": {},
   "outputs": [
    {
     "name": "stdout",
     "output_type": "stream",
     "text": [
      "Fitting 10 folds for each of 6 candidates, totalling 60 fits\n",
      "[CV] END ..................kernel=1**2 * RBF(length_scale=1); total time=  20.2s\n",
      "[CV] END ..................kernel=1**2 * RBF(length_scale=1); total time=  21.4s\n",
      "[CV] END ..................kernel=1**2 * RBF(length_scale=1); total time=  21.4s\n",
      "[CV] END ..................kernel=1**2 * RBF(length_scale=1); total time=  21.4s\n",
      "[CV] END ..................kernel=1**2 * RBF(length_scale=1); total time=  22.6s\n",
      "[CV] END ..................kernel=1**2 * RBF(length_scale=1); total time=  24.8s\n",
      "[CV] END ..................kernel=1**2 * RBF(length_scale=1); total time=  25.4s\n",
      "[CV] END ..................kernel=1**2 * RBF(length_scale=1); total time=  27.1s\n",
      "[CV] END ................kernel=1**2 * DotProduct(sigma_0=1); total time=  12.1s\n",
      "[CV] END ................kernel=1**2 * DotProduct(sigma_0=1); total time=  14.8s\n",
      "[CV] END ................kernel=1**2 * DotProduct(sigma_0=1); total time=  13.9s\n",
      "[CV] END ..................kernel=1**2 * RBF(length_scale=1); total time=  21.1s\n",
      "[CV] END ................kernel=1**2 * DotProduct(sigma_0=1); total time=  17.8s\n",
      "[CV] END ................kernel=1**2 * DotProduct(sigma_0=1); total time=   9.5s\n",
      "[CV] END ..................kernel=1**2 * RBF(length_scale=1); total time=  24.2s\n",
      "[CV] END ................kernel=1**2 * DotProduct(sigma_0=1); total time=  23.9s\n",
      "[CV] END ................kernel=1**2 * DotProduct(sigma_0=1); total time=   9.2s\n",
      "[CV] END ................kernel=1**2 * DotProduct(sigma_0=1); total time=  13.3s\n",
      "[CV] END ................kernel=1**2 * DotProduct(sigma_0=1); total time=  31.3s\n",
      "[CV] END ................kernel=1**2 * DotProduct(sigma_0=1); total time=  17.6s\n",
      "[CV] END .......kernel=1**2 * Matern(length_scale=1, nu=1.5); total time=  21.8s\n",
      "[CV] END .......kernel=1**2 * Matern(length_scale=1, nu=1.5); total time=  22.0s\n",
      "[CV] END .......kernel=1**2 * Matern(length_scale=1, nu=1.5); total time=  23.0s\n",
      "[CV] END .......kernel=1**2 * Matern(length_scale=1, nu=1.5); total time=  26.3s\n",
      "[CV] END .......kernel=1**2 * Matern(length_scale=1, nu=1.5); total time=  32.0s\n",
      "[CV] END .......kernel=1**2 * Matern(length_scale=1, nu=1.5); total time=  28.2s\n"
     ]
    },
    {
     "name": "stderr",
     "output_type": "stream",
     "text": [
      "/home/slazien/.local/share/virtualenvs/linkedin_misinformation-xOmYosQV/lib/python3.8/site-packages/sklearn/gaussian_process/kernels.py:420: ConvergenceWarning: The optimal value found for dimension 0 of parameter k2__alpha is close to the specified lower bound 1e-05. Decreasing the bound and calling fit again may find a better value.\n",
      "  warnings.warn(\n",
      "/home/slazien/.local/share/virtualenvs/linkedin_misinformation-xOmYosQV/lib/python3.8/site-packages/sklearn/gaussian_process/kernels.py:430: ConvergenceWarning: The optimal value found for dimension 0 of parameter k2__length_scale is close to the specified upper bound 100000.0. Increasing the bound and calling fit again may find a better value.\n",
      "  warnings.warn(\n",
      "/home/slazien/.local/share/virtualenvs/linkedin_misinformation-xOmYosQV/lib/python3.8/site-packages/sklearn/gaussian_process/kernels.py:420: ConvergenceWarning: The optimal value found for dimension 0 of parameter k2__alpha is close to the specified lower bound 1e-05. Decreasing the bound and calling fit again may find a better value.\n",
      "  warnings.warn(\n",
      "/home/slazien/.local/share/virtualenvs/linkedin_misinformation-xOmYosQV/lib/python3.8/site-packages/sklearn/gaussian_process/kernels.py:430: ConvergenceWarning: The optimal value found for dimension 0 of parameter k2__length_scale is close to the specified upper bound 100000.0. Increasing the bound and calling fit again may find a better value.\n",
      "  warnings.warn(\n"
     ]
    },
    {
     "name": "stdout",
     "output_type": "stream",
     "text": [
      "[CV] END kernel=1**2 * RationalQuadratic(alpha=1, length_scale=1); total time=  10.9s\n",
      "[CV] END kernel=1**2 * RationalQuadratic(alpha=1, length_scale=1); total time=  12.7s\n",
      "[CV] END .......kernel=1**2 * Matern(length_scale=1, nu=1.5); total time=  26.6s\n"
     ]
    },
    {
     "name": "stderr",
     "output_type": "stream",
     "text": [
      "/home/slazien/.local/share/virtualenvs/linkedin_misinformation-xOmYosQV/lib/python3.8/site-packages/sklearn/gaussian_process/kernels.py:420: ConvergenceWarning: The optimal value found for dimension 0 of parameter k2__alpha is close to the specified lower bound 1e-05. Decreasing the bound and calling fit again may find a better value.\n",
      "  warnings.warn(\n",
      "/home/slazien/.local/share/virtualenvs/linkedin_misinformation-xOmYosQV/lib/python3.8/site-packages/sklearn/gaussian_process/kernels.py:430: ConvergenceWarning: The optimal value found for dimension 0 of parameter k2__length_scale is close to the specified upper bound 100000.0. Increasing the bound and calling fit again may find a better value.\n",
      "  warnings.warn(\n"
     ]
    },
    {
     "name": "stdout",
     "output_type": "stream",
     "text": [
      "[CV] END kernel=1**2 * RationalQuadratic(alpha=1, length_scale=1); total time=  11.7s\n"
     ]
    },
    {
     "name": "stderr",
     "output_type": "stream",
     "text": [
      "/home/slazien/.local/share/virtualenvs/linkedin_misinformation-xOmYosQV/lib/python3.8/site-packages/sklearn/gaussian_process/kernels.py:420: ConvergenceWarning: The optimal value found for dimension 0 of parameter k2__alpha is close to the specified lower bound 1e-05. Decreasing the bound and calling fit again may find a better value.\n",
      "  warnings.warn(\n",
      "/home/slazien/.local/share/virtualenvs/linkedin_misinformation-xOmYosQV/lib/python3.8/site-packages/sklearn/gaussian_process/kernels.py:430: ConvergenceWarning: The optimal value found for dimension 0 of parameter k2__length_scale is close to the specified upper bound 100000.0. Increasing the bound and calling fit again may find a better value.\n",
      "  warnings.warn(\n"
     ]
    },
    {
     "name": "stdout",
     "output_type": "stream",
     "text": [
      "[CV] END kernel=1**2 * RationalQuadratic(alpha=1, length_scale=1); total time=  12.8s\n",
      "[CV] END .......kernel=1**2 * Matern(length_scale=1, nu=1.5); total time=  31.8s\n",
      "[CV] END .......kernel=1**2 * Matern(length_scale=1, nu=1.5); total time=  28.3s\n"
     ]
    },
    {
     "name": "stderr",
     "output_type": "stream",
     "text": [
      "/home/slazien/.local/share/virtualenvs/linkedin_misinformation-xOmYosQV/lib/python3.8/site-packages/sklearn/gaussian_process/kernels.py:420: ConvergenceWarning: The optimal value found for dimension 0 of parameter k2__alpha is close to the specified lower bound 1e-05. Decreasing the bound and calling fit again may find a better value.\n",
      "  warnings.warn(\n",
      "/home/slazien/.local/share/virtualenvs/linkedin_misinformation-xOmYosQV/lib/python3.8/site-packages/sklearn/gaussian_process/kernels.py:430: ConvergenceWarning: The optimal value found for dimension 0 of parameter k2__length_scale is close to the specified upper bound 100000.0. Increasing the bound and calling fit again may find a better value.\n",
      "  warnings.warn(\n"
     ]
    },
    {
     "name": "stdout",
     "output_type": "stream",
     "text": [
      "[CV] END ...........kernel=1**2 * WhiteKernel(noise_level=1); total time=   1.1s\n",
      "[CV] END kernel=1**2 * RationalQuadratic(alpha=1, length_scale=1); total time=  12.3s\n"
     ]
    },
    {
     "name": "stderr",
     "output_type": "stream",
     "text": [
      "/home/slazien/.local/share/virtualenvs/linkedin_misinformation-xOmYosQV/lib/python3.8/site-packages/sklearn/gaussian_process/kernels.py:420: ConvergenceWarning: The optimal value found for dimension 0 of parameter k2__alpha is close to the specified lower bound 1e-05. Decreasing the bound and calling fit again may find a better value.\n",
      "  warnings.warn(\n",
      "/home/slazien/.local/share/virtualenvs/linkedin_misinformation-xOmYosQV/lib/python3.8/site-packages/sklearn/gaussian_process/kernels.py:430: ConvergenceWarning: The optimal value found for dimension 0 of parameter k2__length_scale is close to the specified upper bound 100000.0. Increasing the bound and calling fit again may find a better value.\n",
      "  warnings.warn(\n",
      "/home/slazien/.local/share/virtualenvs/linkedin_misinformation-xOmYosQV/lib/python3.8/site-packages/sklearn/gaussian_process/kernels.py:420: ConvergenceWarning: The optimal value found for dimension 0 of parameter k2__alpha is close to the specified lower bound 1e-05. Decreasing the bound and calling fit again may find a better value.\n",
      "  warnings.warn(\n",
      "/home/slazien/.local/share/virtualenvs/linkedin_misinformation-xOmYosQV/lib/python3.8/site-packages/sklearn/gaussian_process/kernels.py:430: ConvergenceWarning: The optimal value found for dimension 0 of parameter k2__length_scale is close to the specified upper bound 100000.0. Increasing the bound and calling fit again may find a better value.\n",
      "  warnings.warn(\n"
     ]
    },
    {
     "name": "stdout",
     "output_type": "stream",
     "text": [
      "[CV] END ...........kernel=1**2 * WhiteKernel(noise_level=1); total time=   1.1s\n",
      "[CV] END ...........kernel=1**2 * WhiteKernel(noise_level=1); total time=   1.1s\n",
      "[CV] END kernel=1**2 * RationalQuadratic(alpha=1, length_scale=1); total time=  11.3s\n",
      "[CV] END kernel=1**2 * RationalQuadratic(alpha=1, length_scale=1); total time=  12.8s\n",
      "[CV] END ...........kernel=1**2 * WhiteKernel(noise_level=1); total time=   1.1s\n",
      "[CV] END ...........kernel=1**2 * WhiteKernel(noise_level=1); total time=   1.1s\n",
      "[CV] END ...........kernel=1**2 * WhiteKernel(noise_level=1); total time=   1.1s\n",
      "[CV] END ...........kernel=1**2 * WhiteKernel(noise_level=1); total time=   1.1s\n",
      "[CV] END ...........kernel=1**2 * WhiteKernel(noise_level=1); total time=   1.1s\n"
     ]
    },
    {
     "name": "stderr",
     "output_type": "stream",
     "text": [
      "/home/slazien/.local/share/virtualenvs/linkedin_misinformation-xOmYosQV/lib/python3.8/site-packages/sklearn/gaussian_process/kernels.py:420: ConvergenceWarning: The optimal value found for dimension 0 of parameter k2__alpha is close to the specified lower bound 1e-05. Decreasing the bound and calling fit again may find a better value.\n",
      "  warnings.warn(\n",
      "/home/slazien/.local/share/virtualenvs/linkedin_misinformation-xOmYosQV/lib/python3.8/site-packages/sklearn/gaussian_process/kernels.py:430: ConvergenceWarning: The optimal value found for dimension 0 of parameter k2__length_scale is close to the specified upper bound 100000.0. Increasing the bound and calling fit again may find a better value.\n",
      "  warnings.warn(\n"
     ]
    },
    {
     "name": "stdout",
     "output_type": "stream",
     "text": [
      "[CV] END ...........kernel=1**2 * WhiteKernel(noise_level=1); total time=   1.1s\n",
      "[CV] END kernel=1**2 * ExpSineSquared(length_scale=1, periodicity=1); total time=   0.8s\n",
      "[CV] END ...........kernel=1**2 * WhiteKernel(noise_level=1); total time=   1.1s\n",
      "[CV] END kernel=1**2 * ExpSineSquared(length_scale=1, periodicity=1); total time=   0.9s\n",
      "[CV] END kernel=1**2 * RationalQuadratic(alpha=1, length_scale=1); total time=  11.1s\n",
      "[CV] END kernel=1**2 * ExpSineSquared(length_scale=1, periodicity=1); total time=   0.9s\n",
      "[CV] END kernel=1**2 * ExpSineSquared(length_scale=1, periodicity=1); total time=   0.9s\n",
      "[CV] END kernel=1**2 * ExpSineSquared(length_scale=1, periodicity=1); total time=   0.9s\n",
      "[CV] END kernel=1**2 * ExpSineSquared(length_scale=1, periodicity=1); total time=   1.0s\n",
      "[CV] END kernel=1**2 * ExpSineSquared(length_scale=1, periodicity=1); total time=   0.9s\n",
      "[CV] END kernel=1**2 * ExpSineSquared(length_scale=1, periodicity=1); total time=   0.9s\n",
      "[CV] END kernel=1**2 * ExpSineSquared(length_scale=1, periodicity=1); total time=   0.8s\n",
      "[CV] END kernel=1**2 * ExpSineSquared(length_scale=1, periodicity=1); total time=   0.7s\n"
     ]
    },
    {
     "name": "stderr",
     "output_type": "stream",
     "text": [
      "/home/slazien/.local/share/virtualenvs/linkedin_misinformation-xOmYosQV/lib/python3.8/site-packages/sklearn/gaussian_process/kernels.py:420: ConvergenceWarning: The optimal value found for dimension 0 of parameter k2__alpha is close to the specified lower bound 1e-05. Decreasing the bound and calling fit again may find a better value.\n",
      "  warnings.warn(\n",
      "/home/slazien/.local/share/virtualenvs/linkedin_misinformation-xOmYosQV/lib/python3.8/site-packages/sklearn/gaussian_process/kernels.py:430: ConvergenceWarning: The optimal value found for dimension 0 of parameter k2__length_scale is close to the specified upper bound 100000.0. Increasing the bound and calling fit again may find a better value.\n",
      "  warnings.warn(\n",
      "/home/slazien/.local/share/virtualenvs/linkedin_misinformation-xOmYosQV/lib/python3.8/site-packages/sklearn/gaussian_process/kernels.py:420: ConvergenceWarning: The optimal value found for dimension 0 of parameter k2__alpha is close to the specified lower bound 1e-05. Decreasing the bound and calling fit again may find a better value.\n",
      "  warnings.warn(\n",
      "/home/slazien/.local/share/virtualenvs/linkedin_misinformation-xOmYosQV/lib/python3.8/site-packages/sklearn/gaussian_process/kernels.py:430: ConvergenceWarning: The optimal value found for dimension 0 of parameter k2__length_scale is close to the specified upper bound 100000.0. Increasing the bound and calling fit again may find a better value.\n",
      "  warnings.warn(\n"
     ]
    },
    {
     "name": "stdout",
     "output_type": "stream",
     "text": [
      "[CV] END kernel=1**2 * RationalQuadratic(alpha=1, length_scale=1); total time=   9.5s\n",
      "[CV] END kernel=1**2 * RationalQuadratic(alpha=1, length_scale=1); total time=  10.8s\n",
      "[CV] END .......kernel=1**2 * Matern(length_scale=1, nu=1.5); total time=  39.4s\n"
     ]
    },
    {
     "name": "stderr",
     "output_type": "stream",
     "text": [
      "\u001b[1;33mFitFailedWarning: \n",
      "12 fits failed out of a total of 60.\n",
      "The score on these train-test partitions for these parameters will be set to nan.\n",
      "If these failures are not expected, you can try to debug them by setting error_score='raise'.\n",
      "\n",
      "Below are more details about the failures:\n",
      "--------------------------------------------------------------------------------\n",
      "1 fits failed with the following error:\n",
      "Traceback (most recent call last):\n",
      "  File \"/home/slazien/.local/share/virtualenvs/linkedin_misinformation-xOmYosQV/lib/python3.8/site-packages/sklearn/model_selection/_validation.py\", line 686, in _fit_and_score\n",
      "    estimator.fit(X_train, y_train, **fit_params)\n",
      "  File \"/home/slazien/.local/share/virtualenvs/linkedin_misinformation-xOmYosQV/lib/python3.8/site-packages/sklearn/gaussian_process/_gpc.py\", line 719, in fit\n",
      "    self.base_estimator_.fit(X, y)\n",
      "  File \"/home/slazien/.local/share/virtualenvs/linkedin_misinformation-xOmYosQV/lib/python3.8/site-packages/sklearn/gaussian_process/_gpc.py\", line 224, in fit\n",
      "    self._constrained_optimization(\n",
      "  File \"/home/slazien/.local/share/virtualenvs/linkedin_misinformation-xOmYosQV/lib/python3.8/site-packages/sklearn/gaussian_process/_gpc.py\", line 469, in _constrained_optimization\n",
      "    opt_res = scipy.optimize.minimize(\n",
      "  File \"/home/slazien/.local/share/virtualenvs/linkedin_misinformation-xOmYosQV/lib/python3.8/site-packages/scipy/optimize/_minimize.py\", line 699, in minimize\n",
      "    res = _minimize_lbfgsb(fun, x0, args, jac, bounds,\n",
      "  File \"/home/slazien/.local/share/virtualenvs/linkedin_misinformation-xOmYosQV/lib/python3.8/site-packages/scipy/optimize/_lbfgsb_py.py\", line 360, in _minimize_lbfgsb\n",
      "    f, g = func_and_grad(x)\n",
      "  File \"/home/slazien/.local/share/virtualenvs/linkedin_misinformation-xOmYosQV/lib/python3.8/site-packages/scipy/optimize/_differentiable_functions.py\", line 285, in fun_and_grad\n",
      "    self._update_fun()\n",
      "  File \"/home/slazien/.local/share/virtualenvs/linkedin_misinformation-xOmYosQV/lib/python3.8/site-packages/scipy/optimize/_differentiable_functions.py\", line 251, in _update_fun\n",
      "    self._update_fun_impl()\n",
      "  File \"/home/slazien/.local/share/virtualenvs/linkedin_misinformation-xOmYosQV/lib/python3.8/site-packages/scipy/optimize/_differentiable_functions.py\", line 155, in update_fun\n",
      "    self.f = fun_wrapped(self.x)\n",
      "  File \"/home/slazien/.local/share/virtualenvs/linkedin_misinformation-xOmYosQV/lib/python3.8/site-packages/scipy/optimize/_differentiable_functions.py\", line 137, in fun_wrapped\n",
      "    fx = fun(np.copy(x), *args)\n",
      "  File \"/home/slazien/.local/share/virtualenvs/linkedin_misinformation-xOmYosQV/lib/python3.8/site-packages/scipy/optimize/_optimize.py\", line 76, in __call__\n",
      "    self._compute_if_needed(x, *args)\n",
      "  File \"/home/slazien/.local/share/virtualenvs/linkedin_misinformation-xOmYosQV/lib/python3.8/site-packages/scipy/optimize/_optimize.py\", line 70, in _compute_if_needed\n",
      "    fg = self.fun(x, *args)\n",
      "  File \"/home/slazien/.local/share/virtualenvs/linkedin_misinformation-xOmYosQV/lib/python3.8/site-packages/sklearn/gaussian_process/_gpc.py\", line 215, in obj_func\n",
      "    lml, grad = self.log_marginal_likelihood(\n",
      "  File \"/home/slazien/.local/share/virtualenvs/linkedin_misinformation-xOmYosQV/lib/python3.8/site-packages/sklearn/gaussian_process/_gpc.py\", line 380, in log_marginal_likelihood\n",
      "    Z, (pi, W_sr, L, b, a) = self._posterior_mode(K, return_temporaries=True)\n",
      "  File \"/home/slazien/.local/share/virtualenvs/linkedin_misinformation-xOmYosQV/lib/python3.8/site-packages/sklearn/gaussian_process/_gpc.py\", line 439, in _posterior_mode\n",
      "    L = cholesky(B, lower=True)\n",
      "  File \"/home/slazien/.local/share/virtualenvs/linkedin_misinformation-xOmYosQV/lib/python3.8/site-packages/scipy/linalg/_decomp_cholesky.py\", line 88, in cholesky\n",
      "    c, lower = _cholesky(a, lower=lower, overwrite_a=overwrite_a, clean=True,\n",
      "  File \"/home/slazien/.local/share/virtualenvs/linkedin_misinformation-xOmYosQV/lib/python3.8/site-packages/scipy/linalg/_decomp_cholesky.py\", line 37, in _cholesky\n",
      "    raise LinAlgError(\"%d-th leading minor of the array is not positive \"\n",
      "numpy.linalg.LinAlgError: 44-th leading minor of the array is not positive definite\n",
      "\n",
      "--------------------------------------------------------------------------------\n",
      "1 fits failed with the following error:\n",
      "Traceback (most recent call last):\n",
      "  File \"/home/slazien/.local/share/virtualenvs/linkedin_misinformation-xOmYosQV/lib/python3.8/site-packages/sklearn/model_selection/_validation.py\", line 686, in _fit_and_score\n",
      "    estimator.fit(X_train, y_train, **fit_params)\n",
      "  File \"/home/slazien/.local/share/virtualenvs/linkedin_misinformation-xOmYosQV/lib/python3.8/site-packages/sklearn/gaussian_process/_gpc.py\", line 719, in fit\n",
      "    self.base_estimator_.fit(X, y)\n",
      "  File \"/home/slazien/.local/share/virtualenvs/linkedin_misinformation-xOmYosQV/lib/python3.8/site-packages/sklearn/gaussian_process/_gpc.py\", line 224, in fit\n",
      "    self._constrained_optimization(\n",
      "  File \"/home/slazien/.local/share/virtualenvs/linkedin_misinformation-xOmYosQV/lib/python3.8/site-packages/sklearn/gaussian_process/_gpc.py\", line 469, in _constrained_optimization\n",
      "    opt_res = scipy.optimize.minimize(\n",
      "  File \"/home/slazien/.local/share/virtualenvs/linkedin_misinformation-xOmYosQV/lib/python3.8/site-packages/scipy/optimize/_minimize.py\", line 699, in minimize\n",
      "    res = _minimize_lbfgsb(fun, x0, args, jac, bounds,\n",
      "  File \"/home/slazien/.local/share/virtualenvs/linkedin_misinformation-xOmYosQV/lib/python3.8/site-packages/scipy/optimize/_lbfgsb_py.py\", line 360, in _minimize_lbfgsb\n",
      "    f, g = func_and_grad(x)\n",
      "  File \"/home/slazien/.local/share/virtualenvs/linkedin_misinformation-xOmYosQV/lib/python3.8/site-packages/scipy/optimize/_differentiable_functions.py\", line 285, in fun_and_grad\n",
      "    self._update_fun()\n",
      "  File \"/home/slazien/.local/share/virtualenvs/linkedin_misinformation-xOmYosQV/lib/python3.8/site-packages/scipy/optimize/_differentiable_functions.py\", line 251, in _update_fun\n",
      "    self._update_fun_impl()\n",
      "  File \"/home/slazien/.local/share/virtualenvs/linkedin_misinformation-xOmYosQV/lib/python3.8/site-packages/scipy/optimize/_differentiable_functions.py\", line 155, in update_fun\n",
      "    self.f = fun_wrapped(self.x)\n",
      "  File \"/home/slazien/.local/share/virtualenvs/linkedin_misinformation-xOmYosQV/lib/python3.8/site-packages/scipy/optimize/_differentiable_functions.py\", line 137, in fun_wrapped\n",
      "    fx = fun(np.copy(x), *args)\n",
      "  File \"/home/slazien/.local/share/virtualenvs/linkedin_misinformation-xOmYosQV/lib/python3.8/site-packages/scipy/optimize/_optimize.py\", line 76, in __call__\n",
      "    self._compute_if_needed(x, *args)\n",
      "  File \"/home/slazien/.local/share/virtualenvs/linkedin_misinformation-xOmYosQV/lib/python3.8/site-packages/scipy/optimize/_optimize.py\", line 70, in _compute_if_needed\n",
      "    fg = self.fun(x, *args)\n",
      "  File \"/home/slazien/.local/share/virtualenvs/linkedin_misinformation-xOmYosQV/lib/python3.8/site-packages/sklearn/gaussian_process/_gpc.py\", line 215, in obj_func\n",
      "    lml, grad = self.log_marginal_likelihood(\n",
      "  File \"/home/slazien/.local/share/virtualenvs/linkedin_misinformation-xOmYosQV/lib/python3.8/site-packages/sklearn/gaussian_process/_gpc.py\", line 380, in log_marginal_likelihood\n",
      "    Z, (pi, W_sr, L, b, a) = self._posterior_mode(K, return_temporaries=True)\n",
      "  File \"/home/slazien/.local/share/virtualenvs/linkedin_misinformation-xOmYosQV/lib/python3.8/site-packages/sklearn/gaussian_process/_gpc.py\", line 439, in _posterior_mode\n",
      "    L = cholesky(B, lower=True)\n",
      "  File \"/home/slazien/.local/share/virtualenvs/linkedin_misinformation-xOmYosQV/lib/python3.8/site-packages/scipy/linalg/_decomp_cholesky.py\", line 88, in cholesky\n",
      "    c, lower = _cholesky(a, lower=lower, overwrite_a=overwrite_a, clean=True,\n",
      "  File \"/home/slazien/.local/share/virtualenvs/linkedin_misinformation-xOmYosQV/lib/python3.8/site-packages/scipy/linalg/_decomp_cholesky.py\", line 37, in _cholesky\n",
      "    raise LinAlgError(\"%d-th leading minor of the array is not positive \"\n",
      "numpy.linalg.LinAlgError: 121-th leading minor of the array is not positive definite\n",
      "\n",
      "--------------------------------------------------------------------------------\n",
      "1 fits failed with the following error:\n",
      "Traceback (most recent call last):\n",
      "  File \"/home/slazien/.local/share/virtualenvs/linkedin_misinformation-xOmYosQV/lib/python3.8/site-packages/sklearn/model_selection/_validation.py\", line 686, in _fit_and_score\n",
      "    estimator.fit(X_train, y_train, **fit_params)\n",
      "  File \"/home/slazien/.local/share/virtualenvs/linkedin_misinformation-xOmYosQV/lib/python3.8/site-packages/sklearn/gaussian_process/_gpc.py\", line 719, in fit\n",
      "    self.base_estimator_.fit(X, y)\n",
      "  File \"/home/slazien/.local/share/virtualenvs/linkedin_misinformation-xOmYosQV/lib/python3.8/site-packages/sklearn/gaussian_process/_gpc.py\", line 224, in fit\n",
      "    self._constrained_optimization(\n",
      "  File \"/home/slazien/.local/share/virtualenvs/linkedin_misinformation-xOmYosQV/lib/python3.8/site-packages/sklearn/gaussian_process/_gpc.py\", line 469, in _constrained_optimization\n",
      "    opt_res = scipy.optimize.minimize(\n",
      "  File \"/home/slazien/.local/share/virtualenvs/linkedin_misinformation-xOmYosQV/lib/python3.8/site-packages/scipy/optimize/_minimize.py\", line 699, in minimize\n",
      "    res = _minimize_lbfgsb(fun, x0, args, jac, bounds,\n",
      "  File \"/home/slazien/.local/share/virtualenvs/linkedin_misinformation-xOmYosQV/lib/python3.8/site-packages/scipy/optimize/_lbfgsb_py.py\", line 306, in _minimize_lbfgsb\n",
      "    sf = _prepare_scalar_function(fun, x0, jac=jac, args=args, epsilon=eps,\n",
      "  File \"/home/slazien/.local/share/virtualenvs/linkedin_misinformation-xOmYosQV/lib/python3.8/site-packages/scipy/optimize/_optimize.py\", line 263, in _prepare_scalar_function\n",
      "    sf = ScalarFunction(fun, x0, args, grad, hess,\n",
      "  File \"/home/slazien/.local/share/virtualenvs/linkedin_misinformation-xOmYosQV/lib/python3.8/site-packages/scipy/optimize/_differentiable_functions.py\", line 158, in __init__\n",
      "    self._update_fun()\n",
      "  File \"/home/slazien/.local/share/virtualenvs/linkedin_misinformation-xOmYosQV/lib/python3.8/site-packages/scipy/optimize/_differentiable_functions.py\", line 251, in _update_fun\n",
      "    self._update_fun_impl()\n",
      "  File \"/home/slazien/.local/share/virtualenvs/linkedin_misinformation-xOmYosQV/lib/python3.8/site-packages/scipy/optimize/_differentiable_functions.py\", line 155, in update_fun\n",
      "    self.f = fun_wrapped(self.x)\n",
      "  File \"/home/slazien/.local/share/virtualenvs/linkedin_misinformation-xOmYosQV/lib/python3.8/site-packages/scipy/optimize/_differentiable_functions.py\", line 137, in fun_wrapped\n",
      "    fx = fun(np.copy(x), *args)\n",
      "  File \"/home/slazien/.local/share/virtualenvs/linkedin_misinformation-xOmYosQV/lib/python3.8/site-packages/scipy/optimize/_optimize.py\", line 76, in __call__\n",
      "    self._compute_if_needed(x, *args)\n",
      "  File \"/home/slazien/.local/share/virtualenvs/linkedin_misinformation-xOmYosQV/lib/python3.8/site-packages/scipy/optimize/_optimize.py\", line 70, in _compute_if_needed\n",
      "    fg = self.fun(x, *args)\n",
      "  File \"/home/slazien/.local/share/virtualenvs/linkedin_misinformation-xOmYosQV/lib/python3.8/site-packages/sklearn/gaussian_process/_gpc.py\", line 215, in obj_func\n",
      "    lml, grad = self.log_marginal_likelihood(\n",
      "  File \"/home/slazien/.local/share/virtualenvs/linkedin_misinformation-xOmYosQV/lib/python3.8/site-packages/sklearn/gaussian_process/_gpc.py\", line 380, in log_marginal_likelihood\n",
      "    Z, (pi, W_sr, L, b, a) = self._posterior_mode(K, return_temporaries=True)\n",
      "  File \"/home/slazien/.local/share/virtualenvs/linkedin_misinformation-xOmYosQV/lib/python3.8/site-packages/sklearn/gaussian_process/_gpc.py\", line 439, in _posterior_mode\n",
      "    L = cholesky(B, lower=True)\n",
      "  File \"/home/slazien/.local/share/virtualenvs/linkedin_misinformation-xOmYosQV/lib/python3.8/site-packages/scipy/linalg/_decomp_cholesky.py\", line 88, in cholesky\n",
      "    c, lower = _cholesky(a, lower=lower, overwrite_a=overwrite_a, clean=True,\n",
      "  File \"/home/slazien/.local/share/virtualenvs/linkedin_misinformation-xOmYosQV/lib/python3.8/site-packages/scipy/linalg/_decomp_cholesky.py\", line 37, in _cholesky\n",
      "    raise LinAlgError(\"%d-th leading minor of the array is not positive \"\n",
      "numpy.linalg.LinAlgError: 66-th leading minor of the array is not positive definite\n",
      "\n",
      "--------------------------------------------------------------------------------\n",
      "9 fits failed with the following error:\n",
      "Traceback (most recent call last):\n",
      "  File \"/home/slazien/.local/share/virtualenvs/linkedin_misinformation-xOmYosQV/lib/python3.8/site-packages/sklearn/model_selection/_validation.py\", line 686, in _fit_and_score\n",
      "    estimator.fit(X_train, y_train, **fit_params)\n",
      "  File \"/home/slazien/.local/share/virtualenvs/linkedin_misinformation-xOmYosQV/lib/python3.8/site-packages/sklearn/gaussian_process/_gpc.py\", line 719, in fit\n",
      "    self.base_estimator_.fit(X, y)\n",
      "  File \"/home/slazien/.local/share/virtualenvs/linkedin_misinformation-xOmYosQV/lib/python3.8/site-packages/sklearn/gaussian_process/_gpc.py\", line 224, in fit\n",
      "    self._constrained_optimization(\n",
      "  File \"/home/slazien/.local/share/virtualenvs/linkedin_misinformation-xOmYosQV/lib/python3.8/site-packages/sklearn/gaussian_process/_gpc.py\", line 469, in _constrained_optimization\n",
      "    opt_res = scipy.optimize.minimize(\n",
      "  File \"/home/slazien/.local/share/virtualenvs/linkedin_misinformation-xOmYosQV/lib/python3.8/site-packages/scipy/optimize/_minimize.py\", line 699, in minimize\n",
      "    res = _minimize_lbfgsb(fun, x0, args, jac, bounds,\n",
      "  File \"/home/slazien/.local/share/virtualenvs/linkedin_misinformation-xOmYosQV/lib/python3.8/site-packages/scipy/optimize/_lbfgsb_py.py\", line 306, in _minimize_lbfgsb\n",
      "    sf = _prepare_scalar_function(fun, x0, jac=jac, args=args, epsilon=eps,\n",
      "  File \"/home/slazien/.local/share/virtualenvs/linkedin_misinformation-xOmYosQV/lib/python3.8/site-packages/scipy/optimize/_optimize.py\", line 263, in _prepare_scalar_function\n",
      "    sf = ScalarFunction(fun, x0, args, grad, hess,\n",
      "  File \"/home/slazien/.local/share/virtualenvs/linkedin_misinformation-xOmYosQV/lib/python3.8/site-packages/scipy/optimize/_differentiable_functions.py\", line 158, in __init__\n",
      "    self._update_fun()\n",
      "  File \"/home/slazien/.local/share/virtualenvs/linkedin_misinformation-xOmYosQV/lib/python3.8/site-packages/scipy/optimize/_differentiable_functions.py\", line 251, in _update_fun\n",
      "    self._update_fun_impl()\n",
      "  File \"/home/slazien/.local/share/virtualenvs/linkedin_misinformation-xOmYosQV/lib/python3.8/site-packages/scipy/optimize/_differentiable_functions.py\", line 155, in update_fun\n",
      "    self.f = fun_wrapped(self.x)\n",
      "  File \"/home/slazien/.local/share/virtualenvs/linkedin_misinformation-xOmYosQV/lib/python3.8/site-packages/scipy/optimize/_differentiable_functions.py\", line 137, in fun_wrapped\n",
      "    fx = fun(np.copy(x), *args)\n",
      "  File \"/home/slazien/.local/share/virtualenvs/linkedin_misinformation-xOmYosQV/lib/python3.8/site-packages/scipy/optimize/_optimize.py\", line 76, in __call__\n",
      "    self._compute_if_needed(x, *args)\n",
      "  File \"/home/slazien/.local/share/virtualenvs/linkedin_misinformation-xOmYosQV/lib/python3.8/site-packages/scipy/optimize/_optimize.py\", line 70, in _compute_if_needed\n",
      "    fg = self.fun(x, *args)\n",
      "  File \"/home/slazien/.local/share/virtualenvs/linkedin_misinformation-xOmYosQV/lib/python3.8/site-packages/sklearn/gaussian_process/_gpc.py\", line 215, in obj_func\n",
      "    lml, grad = self.log_marginal_likelihood(\n",
      "  File \"/home/slazien/.local/share/virtualenvs/linkedin_misinformation-xOmYosQV/lib/python3.8/site-packages/sklearn/gaussian_process/_gpc.py\", line 380, in log_marginal_likelihood\n",
      "    Z, (pi, W_sr, L, b, a) = self._posterior_mode(K, return_temporaries=True)\n",
      "  File \"/home/slazien/.local/share/virtualenvs/linkedin_misinformation-xOmYosQV/lib/python3.8/site-packages/sklearn/gaussian_process/_gpc.py\", line 439, in _posterior_mode\n",
      "    L = cholesky(B, lower=True)\n",
      "  File \"/home/slazien/.local/share/virtualenvs/linkedin_misinformation-xOmYosQV/lib/python3.8/site-packages/scipy/linalg/_decomp_cholesky.py\", line 88, in cholesky\n",
      "    c, lower = _cholesky(a, lower=lower, overwrite_a=overwrite_a, clean=True,\n",
      "  File \"/home/slazien/.local/share/virtualenvs/linkedin_misinformation-xOmYosQV/lib/python3.8/site-packages/scipy/linalg/_decomp_cholesky.py\", line 37, in _cholesky\n",
      "    raise LinAlgError(\"%d-th leading minor of the array is not positive \"\n",
      "numpy.linalg.LinAlgError: 64-th leading minor of the array is not positive definite\n",
      "\u001b[0m \u001b[1;30m(raised from /home/slazien/.local/share/virtualenvs/linkedin_misinformation-xOmYosQV/lib/python3.8/site-packages/sklearn/model_selection/_validation.py:378)\u001b[0m\n",
      "\u001b[1;33mUserWarning: One or more of the test scores are non-finite: [0.59904475        nan 0.59329789 0.         0.                nan]\u001b[0m \u001b[1;30m(raised from /home/slazien/.local/share/virtualenvs/linkedin_misinformation-xOmYosQV/lib/python3.8/site-packages/sklearn/model_selection/_search.py:953)\u001b[0m\n"
     ]
    }
   ],
   "source": [
    "parameters_gaussian = {\n",
    "    \"kernel\": [1*RBF(), 1*DotProduct(), 1*Matern(), 1*RationalQuadratic(), 1*WhiteKernel(), 1*ExpSineSquared()]\n",
    "}\n",
    "estimator_gaussian = GaussianProcessClassifier(n_jobs=1)\n",
    "\n",
    "grid_search_gaussian = GridSearchCV(\n",
    "    estimator=estimator_gaussian,\n",
    "    param_grid=parameters_gaussian,\n",
    "    scoring=\"f1\",\n",
    "    n_jobs=-1,\n",
    "    cv=10,\n",
    "    verbose=2\n",
    ")\n",
    "grid_search_gaussian.fit(X_train, y_train)\n",
    "preds_gaussian = grid_search_gaussian.predict(X_test)"
   ]
  },
  {
   "cell_type": "code",
   "execution_count": 297,
   "id": "b334f87d",
   "metadata": {},
   "outputs": [
    {
     "name": "stdout",
     "output_type": "stream",
     "text": [
      "precision: 0.64\n",
      "recall: 0.731\n",
      "f1: 0.683\n",
      "AUC: 0.731\n"
     ]
    }
   ],
   "source": [
    "print_perf_metrics(preds_gaussian, y_test)"
   ]
  },
  {
   "cell_type": "markdown",
   "id": "68f22609",
   "metadata": {},
   "source": [
    "## LightGBM"
   ]
  },
  {
   "cell_type": "code",
   "execution_count": 167,
   "id": "891327c4",
   "metadata": {},
   "outputs": [
    {
     "name": "stdout",
     "output_type": "stream",
     "text": [
      "Fitting 5 folds for each of 48 candidates, totalling 240 fits\n",
      "huggingface/tokenizers: The current process just got forked, after parallelism has already been used. Disabling parallelism to avoid deadlocks...\n",
      "To disable this warning, you can either:\n",
      "\t- Avoid using `tokenizers` before the fork if possible\n",
      "\t- Explicitly set the environment variable TOKENIZERS_PARALLELISM=(true | false)\n",
      "huggingface/tokenizers: The current process just got forked, after parallelism has already been used. Disabling parallelism to avoid deadlocks...\n",
      "To disable this warning, you can either:\n",
      "\t- Avoid using `tokenizers` before the fork if possible\n",
      "\t- Explicitly set the environment variable TOKENIZERS_PARALLELISM=(true | false)\n",
      "huggingface/tokenizers: The current process just got forked, after parallelism has already been used. Disabling parallelism to avoid deadlocks...\n",
      "To disable this warning, you can either:\n",
      "\t- Avoid using `tokenizers` before the fork if possible\n",
      "\t- Explicitly set the environment variable TOKENIZERS_PARALLELISM=(true | false)\n",
      "huggingface/tokenizers: The current process just got forked, after parallelism has already been used. Disabling parallelism to avoid deadlocks...\n",
      "To disable this warning, you can either:\n",
      "\t- Avoid using `tokenizers` before the fork if possible\n",
      "\t- Explicitly set the environment variable TOKENIZERS_PARALLELISM=(true | false)\n",
      "huggingface/tokenizers: The current process just got forked, after parallelism has already been used. Disabling parallelism to avoid deadlocks...\n",
      "To disable this warning, you can either:\n",
      "\t- Avoid using `tokenizers` before the fork if possible\n",
      "\t- Explicitly set the environment variable TOKENIZERS_PARALLELISM=(true | false)\n",
      "huggingface/tokenizers: The current process just got forked, after parallelism has already been used. Disabling parallelism to avoid deadlocks...\n",
      "To disable this warning, you can either:\n",
      "\t- Avoid using `tokenizers` before the fork if possible\n",
      "\t- Explicitly set the environment variable TOKENIZERS_PARALLELISM=(true | false)\n",
      "huggingface/tokenizers: The current process just got forked, after parallelism has already been used. Disabling parallelism to avoid deadlocks...\n",
      "To disable this warning, you can either:\n",
      "\t- Avoid using `tokenizers` before the fork if possible\n",
      "\t- Explicitly set the environment variable TOKENIZERS_PARALLELISM=(true | false)\n",
      "huggingface/tokenizers: The current process just got forked, after parallelism has already been used. Disabling parallelism to avoid deadlocks...\n",
      "To disable this warning, you can either:\n",
      "\t- Avoid using `tokenizers` before the fork if possible\n",
      "\t- Explicitly set the environment variable TOKENIZERS_PARALLELISM=(true | false)\n"
     ]
    },
    {
     "name": "stderr",
     "output_type": "stream",
     "text": [
      "/home/slazien/.local/share/virtualenvs/linkedin_misinformation-xOmYosQV/lib/python3.8/site-packages/lightgbm/engine.py:177: UserWarning: Found `num_iterations` in params. Will use it instead of argument\n",
      "  _log_warning(f\"Found `{alias}` in params. Will use it instead of argument\")\n"
     ]
    },
    {
     "name": "stdout",
     "output_type": "stream",
     "text": [
      "[LightGBM] [Warning] min_data_in_leaf is set=10, min_child_samples=20 will be ignored. Current value: min_data_in_leaf=10\n"
     ]
    },
    {
     "name": "stderr",
     "output_type": "stream",
     "text": [
      "/home/slazien/.local/share/virtualenvs/linkedin_misinformation-xOmYosQV/lib/python3.8/site-packages/lightgbm/engine.py:177: UserWarning: Found `num_iterations` in params. Will use it instead of argument\n",
      "  _log_warning(f\"Found `{alias}` in params. Will use it instead of argument\")\n",
      "/home/slazien/.local/share/virtualenvs/linkedin_misinformation-xOmYosQV/lib/python3.8/site-packages/lightgbm/engine.py:177: UserWarning: Found `num_iterations` in params. Will use it instead of argument\n",
      "  _log_warning(f\"Found `{alias}` in params. Will use it instead of argument\")\n"
     ]
    },
    {
     "name": "stdout",
     "output_type": "stream",
     "text": [
      "[LightGBM] [Warning] min_data_in_leaf is set=10, min_child_samples=20 will be ignored. Current value: min_data_in_leaf=10\n",
      "[LightGBM] [Warning] min_data_in_leaf is set=10, min_child_samples=20 will be ignored. Current value: min_data_in_leaf=10\n"
     ]
    },
    {
     "name": "stderr",
     "output_type": "stream",
     "text": [
      "/home/slazien/.local/share/virtualenvs/linkedin_misinformation-xOmYosQV/lib/python3.8/site-packages/lightgbm/engine.py:177: UserWarning: Found `num_iterations` in params. Will use it instead of argument\n",
      "  _log_warning(f\"Found `{alias}` in params. Will use it instead of argument\")\n",
      "/home/slazien/.local/share/virtualenvs/linkedin_misinformation-xOmYosQV/lib/python3.8/site-packages/lightgbm/engine.py:177: UserWarning: Found `num_iterations` in params. Will use it instead of argument\n",
      "  _log_warning(f\"Found `{alias}` in params. Will use it instead of argument\")\n",
      "/home/slazien/.local/share/virtualenvs/linkedin_misinformation-xOmYosQV/lib/python3.8/site-packages/lightgbm/engine.py:177: UserWarning: Found `num_iterations` in params. Will use it instead of argument\n",
      "  _log_warning(f\"Found `{alias}` in params. Will use it instead of argument\")\n",
      "/home/slazien/.local/share/virtualenvs/linkedin_misinformation-xOmYosQV/lib/python3.8/site-packages/lightgbm/engine.py:177: UserWarning: Found `num_iterations` in params. Will use it instead of argument\n",
      "  _log_warning(f\"Found `{alias}` in params. Will use it instead of argument\")\n"
     ]
    },
    {
     "name": "stdout",
     "output_type": "stream",
     "text": [
      "[LightGBM] [Warning] min_data_in_leaf is set=10, min_child_samples=20 will be ignored. Current value: min_data_in_leaf=10\n",
      "[LightGBM] [Warning] min_data_in_leaf is set=10, min_child_samples=20 will be ignored. Current value: min_data_in_leaf=10\n",
      "[LightGBM] [Warning] min_data_in_leaf is set=10, min_child_samples=20 will be ignored. Current value: min_data_in_leaf=10\n",
      "[LightGBM] [Warning] min_data_in_leaf is set=10, min_child_samples=20 will be ignored. Current value: min_data_in_leaf=10\n"
     ]
    },
    {
     "name": "stderr",
     "output_type": "stream",
     "text": [
      "/home/slazien/.local/share/virtualenvs/linkedin_misinformation-xOmYosQV/lib/python3.8/site-packages/lightgbm/engine.py:177: UserWarning: Found `num_iterations` in params. Will use it instead of argument\n",
      "  _log_warning(f\"Found `{alias}` in params. Will use it instead of argument\")\n"
     ]
    },
    {
     "name": "stdout",
     "output_type": "stream",
     "text": [
      "[LightGBM] [Warning] min_data_in_leaf is set=10, min_child_samples=20 will be ignored. Current value: min_data_in_leaf=10\n",
      "[CV] END learning_rate=0.01, max_depth=-1, min_data_in_leaf=10, num_iterations=100, num_leaves=10; total time=   6.6s\n",
      "[LightGBM] [Warning] min_data_in_leaf is set=10, min_child_samples=20 will be ignored. Current value: min_data_in_leaf=10\n"
     ]
    },
    {
     "name": "stderr",
     "output_type": "stream",
     "text": [
      "/home/slazien/.local/share/virtualenvs/linkedin_misinformation-xOmYosQV/lib/python3.8/site-packages/lightgbm/engine.py:177: UserWarning: Found `num_iterations` in params. Will use it instead of argument\n",
      "  _log_warning(f\"Found `{alias}` in params. Will use it instead of argument\")\n"
     ]
    },
    {
     "name": "stdout",
     "output_type": "stream",
     "text": [
      "[CV] END learning_rate=0.01, max_depth=-1, min_data_in_leaf=10, num_iterations=100, num_leaves=10; total time=   7.0s\n",
      "[LightGBM] [Warning] min_data_in_leaf is set=10, min_child_samples=20 will be ignored. Current value: min_data_in_leaf=10\n",
      "[CV] END learning_rate=0.01, max_depth=-1, min_data_in_leaf=10, num_iterations=100, num_leaves=10; total time=   6.8s\n",
      "[CV] END learning_rate=0.01, max_depth=-1, min_data_in_leaf=10, num_iterations=100, num_leaves=10; total time=   7.1s\n",
      "[CV] END learning_rate=0.01, max_depth=-1, min_data_in_leaf=10, num_iterations=100, num_leaves=10; total time=   6.7s\n"
     ]
    },
    {
     "name": "stderr",
     "output_type": "stream",
     "text": [
      "/home/slazien/.local/share/virtualenvs/linkedin_misinformation-xOmYosQV/lib/python3.8/site-packages/lightgbm/engine.py:177: UserWarning: Found `num_iterations` in params. Will use it instead of argument\n",
      "  _log_warning(f\"Found `{alias}` in params. Will use it instead of argument\")\n",
      "/home/slazien/.local/share/virtualenvs/linkedin_misinformation-xOmYosQV/lib/python3.8/site-packages/lightgbm/engine.py:177: UserWarning: Found `num_iterations` in params. Will use it instead of argument\n",
      "  _log_warning(f\"Found `{alias}` in params. Will use it instead of argument\")\n",
      "/home/slazien/.local/share/virtualenvs/linkedin_misinformation-xOmYosQV/lib/python3.8/site-packages/lightgbm/engine.py:177: UserWarning: Found `num_iterations` in params. Will use it instead of argument\n",
      "  _log_warning(f\"Found `{alias}` in params. Will use it instead of argument\")\n",
      "/home/slazien/.local/share/virtualenvs/linkedin_misinformation-xOmYosQV/lib/python3.8/site-packages/lightgbm/engine.py:177: UserWarning: Found `num_iterations` in params. Will use it instead of argument\n",
      "  _log_warning(f\"Found `{alias}` in params. Will use it instead of argument\")\n"
     ]
    },
    {
     "name": "stdout",
     "output_type": "stream",
     "text": [
      "[LightGBM] [Warning] min_data_in_leaf is set=10, min_child_samples=20 will be ignored. Current value: min_data_in_leaf=10\n",
      "[LightGBM] [Warning] min_data_in_leaf is set=10, min_child_samples=20 will be ignored. Current value: min_data_in_leaf=10\n",
      "[LightGBM] [Warning] min_data_in_leaf is set=10, min_child_samples=20 will be ignored. Current value: min_data_in_leaf=10\n",
      "[CV] END learning_rate=0.01, max_depth=-1, min_data_in_leaf=10, num_iterations=100, num_leaves=50; total time=  17.9s\n",
      "[CV] END learning_rate=0.01, max_depth=-1, min_data_in_leaf=10, num_iterations=100, num_leaves=50; total time=  17.9s\n",
      "[LightGBM] [Warning] min_data_in_leaf is set=10, min_child_samples=20 will be ignored. Current value: min_data_in_leaf=10\n",
      "[LightGBM] [Warning] min_data_in_leaf is set=10, min_child_samples=20 will be ignored. Current value: min_data_in_leaf=10\n"
     ]
    },
    {
     "name": "stderr",
     "output_type": "stream",
     "text": [
      "/home/slazien/.local/share/virtualenvs/linkedin_misinformation-xOmYosQV/lib/python3.8/site-packages/lightgbm/engine.py:177: UserWarning: Found `num_iterations` in params. Will use it instead of argument\n",
      "  _log_warning(f\"Found `{alias}` in params. Will use it instead of argument\")\n",
      "/home/slazien/.local/share/virtualenvs/linkedin_misinformation-xOmYosQV/lib/python3.8/site-packages/lightgbm/engine.py:177: UserWarning: Found `num_iterations` in params. Will use it instead of argument\n",
      "  _log_warning(f\"Found `{alias}` in params. Will use it instead of argument\")\n"
     ]
    },
    {
     "name": "stdout",
     "output_type": "stream",
     "text": [
      "[CV] END learning_rate=0.01, max_depth=-1, min_data_in_leaf=10, num_iterations=100, num_leaves=50; total time=  19.2s\n",
      "[LightGBM] [Warning] min_data_in_leaf is set=10, min_child_samples=20 will be ignored. Current value: min_data_in_leaf=10\n"
     ]
    },
    {
     "name": "stderr",
     "output_type": "stream",
     "text": [
      "/home/slazien/.local/share/virtualenvs/linkedin_misinformation-xOmYosQV/lib/python3.8/site-packages/lightgbm/engine.py:177: UserWarning: Found `num_iterations` in params. Will use it instead of argument\n",
      "  _log_warning(f\"Found `{alias}` in params. Will use it instead of argument\")\n"
     ]
    },
    {
     "name": "stdout",
     "output_type": "stream",
     "text": [
      "[CV] END learning_rate=0.01, max_depth=-1, min_data_in_leaf=10, num_iterations=100, num_leaves=50; total time=  17.3s\n",
      "[LightGBM] [Warning] min_data_in_leaf is set=10, min_child_samples=20 will be ignored. Current value: min_data_in_leaf=10\n"
     ]
    },
    {
     "name": "stderr",
     "output_type": "stream",
     "text": [
      "/home/slazien/.local/share/virtualenvs/linkedin_misinformation-xOmYosQV/lib/python3.8/site-packages/lightgbm/engine.py:177: UserWarning: Found `num_iterations` in params. Will use it instead of argument\n",
      "  _log_warning(f\"Found `{alias}` in params. Will use it instead of argument\")\n"
     ]
    },
    {
     "name": "stdout",
     "output_type": "stream",
     "text": [
      "[CV] END learning_rate=0.01, max_depth=-1, min_data_in_leaf=10, num_iterations=100, num_leaves=50; total time=  17.2s\n",
      "[LightGBM] [Warning] min_data_in_leaf is set=10, min_child_samples=20 will be ignored. Current value: min_data_in_leaf=10\n"
     ]
    },
    {
     "name": "stderr",
     "output_type": "stream",
     "text": [
      "/home/slazien/.local/share/virtualenvs/linkedin_misinformation-xOmYosQV/lib/python3.8/site-packages/lightgbm/engine.py:177: UserWarning: Found `num_iterations` in params. Will use it instead of argument\n",
      "  _log_warning(f\"Found `{alias}` in params. Will use it instead of argument\")\n"
     ]
    },
    {
     "name": "stdout",
     "output_type": "stream",
     "text": [
      "[CV] END learning_rate=0.01, max_depth=-1, min_data_in_leaf=10, num_iterations=500, num_leaves=10; total time=  31.3s\n",
      "[LightGBM] [Warning] min_data_in_leaf is set=10, min_child_samples=20 will be ignored. Current value: min_data_in_leaf=10\n"
     ]
    },
    {
     "name": "stderr",
     "output_type": "stream",
     "text": [
      "/home/slazien/.local/share/virtualenvs/linkedin_misinformation-xOmYosQV/lib/python3.8/site-packages/lightgbm/engine.py:177: UserWarning: Found `num_iterations` in params. Will use it instead of argument\n",
      "  _log_warning(f\"Found `{alias}` in params. Will use it instead of argument\")\n"
     ]
    },
    {
     "name": "stdout",
     "output_type": "stream",
     "text": [
      "[CV] END learning_rate=0.01, max_depth=-1, min_data_in_leaf=10, num_iterations=500, num_leaves=10; total time=  31.5s\n",
      "[LightGBM] [Warning] min_data_in_leaf is set=10, min_child_samples=20 will be ignored. Current value: min_data_in_leaf=10\n"
     ]
    },
    {
     "name": "stderr",
     "output_type": "stream",
     "text": [
      "/home/slazien/.local/share/virtualenvs/linkedin_misinformation-xOmYosQV/lib/python3.8/site-packages/lightgbm/engine.py:177: UserWarning: Found `num_iterations` in params. Will use it instead of argument\n",
      "  _log_warning(f\"Found `{alias}` in params. Will use it instead of argument\")\n"
     ]
    },
    {
     "name": "stdout",
     "output_type": "stream",
     "text": [
      "[CV] END learning_rate=0.01, max_depth=-1, min_data_in_leaf=10, num_iterations=500, num_leaves=10; total time=  32.1s\n",
      "[LightGBM] [Warning] min_data_in_leaf is set=100, min_child_samples=20 will be ignored. Current value: min_data_in_leaf=100\n"
     ]
    },
    {
     "name": "stderr",
     "output_type": "stream",
     "text": [
      "/home/slazien/.local/share/virtualenvs/linkedin_misinformation-xOmYosQV/lib/python3.8/site-packages/lightgbm/engine.py:177: UserWarning: Found `num_iterations` in params. Will use it instead of argument\n",
      "  _log_warning(f\"Found `{alias}` in params. Will use it instead of argument\")\n"
     ]
    },
    {
     "name": "stdout",
     "output_type": "stream",
     "text": [
      "[CV] END learning_rate=0.01, max_depth=-1, min_data_in_leaf=100, num_iterations=100, num_leaves=10; total time=   1.6s\n",
      "[LightGBM] [Warning] min_data_in_leaf is set=100, min_child_samples=20 will be ignored. Current value: min_data_in_leaf=100\n"
     ]
    },
    {
     "name": "stderr",
     "output_type": "stream",
     "text": [
      "/home/slazien/.local/share/virtualenvs/linkedin_misinformation-xOmYosQV/lib/python3.8/site-packages/lightgbm/engine.py:177: UserWarning: Found `num_iterations` in params. Will use it instead of argument\n",
      "  _log_warning(f\"Found `{alias}` in params. Will use it instead of argument\")\n"
     ]
    },
    {
     "name": "stdout",
     "output_type": "stream",
     "text": [
      "[CV] END learning_rate=0.01, max_depth=-1, min_data_in_leaf=100, num_iterations=100, num_leaves=10; total time=   1.6s\n",
      "[LightGBM] [Warning] min_data_in_leaf is set=100, min_child_samples=20 will be ignored. Current value: min_data_in_leaf=100\n"
     ]
    },
    {
     "name": "stderr",
     "output_type": "stream",
     "text": [
      "/home/slazien/.local/share/virtualenvs/linkedin_misinformation-xOmYosQV/lib/python3.8/site-packages/lightgbm/engine.py:177: UserWarning: Found `num_iterations` in params. Will use it instead of argument\n",
      "  _log_warning(f\"Found `{alias}` in params. Will use it instead of argument\")\n"
     ]
    },
    {
     "name": "stdout",
     "output_type": "stream",
     "text": [
      "[CV] END learning_rate=0.01, max_depth=-1, min_data_in_leaf=100, num_iterations=100, num_leaves=10; total time=   1.8s\n",
      "[LightGBM] [Warning] min_data_in_leaf is set=100, min_child_samples=20 will be ignored. Current value: min_data_in_leaf=100\n"
     ]
    },
    {
     "name": "stderr",
     "output_type": "stream",
     "text": [
      "/home/slazien/.local/share/virtualenvs/linkedin_misinformation-xOmYosQV/lib/python3.8/site-packages/lightgbm/engine.py:177: UserWarning: Found `num_iterations` in params. Will use it instead of argument\n",
      "  _log_warning(f\"Found `{alias}` in params. Will use it instead of argument\")\n"
     ]
    },
    {
     "name": "stdout",
     "output_type": "stream",
     "text": [
      "[CV] END learning_rate=0.01, max_depth=-1, min_data_in_leaf=100, num_iterations=100, num_leaves=10; total time=   2.3s\n",
      "[LightGBM] [Warning] min_data_in_leaf is set=100, min_child_samples=20 will be ignored. Current value: min_data_in_leaf=100\n"
     ]
    },
    {
     "name": "stderr",
     "output_type": "stream",
     "text": [
      "/home/slazien/.local/share/virtualenvs/linkedin_misinformation-xOmYosQV/lib/python3.8/site-packages/lightgbm/engine.py:177: UserWarning: Found `num_iterations` in params. Will use it instead of argument\n",
      "  _log_warning(f\"Found `{alias}` in params. Will use it instead of argument\")\n"
     ]
    },
    {
     "name": "stdout",
     "output_type": "stream",
     "text": [
      "[CV] END learning_rate=0.01, max_depth=-1, min_data_in_leaf=100, num_iterations=100, num_leaves=10; total time=   1.9s\n",
      "[LightGBM] [Warning] min_data_in_leaf is set=100, min_child_samples=20 will be ignored. Current value: min_data_in_leaf=100\n"
     ]
    },
    {
     "name": "stderr",
     "output_type": "stream",
     "text": [
      "/home/slazien/.local/share/virtualenvs/linkedin_misinformation-xOmYosQV/lib/python3.8/site-packages/lightgbm/engine.py:177: UserWarning: Found `num_iterations` in params. Will use it instead of argument\n",
      "  _log_warning(f\"Found `{alias}` in params. Will use it instead of argument\")\n"
     ]
    },
    {
     "name": "stdout",
     "output_type": "stream",
     "text": [
      "[CV] END learning_rate=0.01, max_depth=-1, min_data_in_leaf=10, num_iterations=500, num_leaves=10; total time=  31.0s\n",
      "[LightGBM] [Warning] min_data_in_leaf is set=100, min_child_samples=20 will be ignored. Current value: min_data_in_leaf=100\n"
     ]
    },
    {
     "name": "stderr",
     "output_type": "stream",
     "text": [
      "/home/slazien/.local/share/virtualenvs/linkedin_misinformation-xOmYosQV/lib/python3.8/site-packages/lightgbm/engine.py:177: UserWarning: Found `num_iterations` in params. Will use it instead of argument\n",
      "  _log_warning(f\"Found `{alias}` in params. Will use it instead of argument\")\n"
     ]
    },
    {
     "name": "stdout",
     "output_type": "stream",
     "text": [
      "[CV] END learning_rate=0.01, max_depth=-1, min_data_in_leaf=10, num_iterations=500, num_leaves=10; total time=  31.7s\n",
      "[LightGBM] [Warning] min_data_in_leaf is set=100, min_child_samples=20 will be ignored. Current value: min_data_in_leaf=100\n",
      "[CV] END learning_rate=0.01, max_depth=-1, min_data_in_leaf=100, num_iterations=100, num_leaves=50; total time=   1.7s\n",
      "[LightGBM] [Warning] min_data_in_leaf is set=100, min_child_samples=20 will be ignored. Current value: min_data_in_leaf=100\n"
     ]
    },
    {
     "name": "stderr",
     "output_type": "stream",
     "text": [
      "/home/slazien/.local/share/virtualenvs/linkedin_misinformation-xOmYosQV/lib/python3.8/site-packages/lightgbm/engine.py:177: UserWarning: Found `num_iterations` in params. Will use it instead of argument\n",
      "  _log_warning(f\"Found `{alias}` in params. Will use it instead of argument\")\n",
      "/home/slazien/.local/share/virtualenvs/linkedin_misinformation-xOmYosQV/lib/python3.8/site-packages/lightgbm/engine.py:177: UserWarning: Found `num_iterations` in params. Will use it instead of argument\n",
      "  _log_warning(f\"Found `{alias}` in params. Will use it instead of argument\")\n"
     ]
    },
    {
     "name": "stdout",
     "output_type": "stream",
     "text": [
      "[CV] END learning_rate=0.01, max_depth=-1, min_data_in_leaf=100, num_iterations=100, num_leaves=50; total time=   1.6s\n",
      "[LightGBM] [Warning] min_data_in_leaf is set=100, min_child_samples=20 will be ignored. Current value: min_data_in_leaf=100\n"
     ]
    },
    {
     "name": "stderr",
     "output_type": "stream",
     "text": [
      "/home/slazien/.local/share/virtualenvs/linkedin_misinformation-xOmYosQV/lib/python3.8/site-packages/lightgbm/engine.py:177: UserWarning: Found `num_iterations` in params. Will use it instead of argument\n",
      "  _log_warning(f\"Found `{alias}` in params. Will use it instead of argument\")\n"
     ]
    },
    {
     "name": "stdout",
     "output_type": "stream",
     "text": [
      "[CV] END learning_rate=0.01, max_depth=-1, min_data_in_leaf=100, num_iterations=100, num_leaves=50; total time=   1.7s\n",
      "[LightGBM] [Warning] min_data_in_leaf is set=100, min_child_samples=20 will be ignored. Current value: min_data_in_leaf=100\n"
     ]
    },
    {
     "name": "stderr",
     "output_type": "stream",
     "text": [
      "/home/slazien/.local/share/virtualenvs/linkedin_misinformation-xOmYosQV/lib/python3.8/site-packages/lightgbm/engine.py:177: UserWarning: Found `num_iterations` in params. Will use it instead of argument\n",
      "  _log_warning(f\"Found `{alias}` in params. Will use it instead of argument\")\n"
     ]
    },
    {
     "name": "stdout",
     "output_type": "stream",
     "text": [
      "[CV] END learning_rate=0.01, max_depth=-1, min_data_in_leaf=100, num_iterations=100, num_leaves=50; total time=   1.9s\n",
      "[LightGBM] [Warning] min_data_in_leaf is set=100, min_child_samples=20 will be ignored. Current value: min_data_in_leaf=100\n"
     ]
    },
    {
     "name": "stderr",
     "output_type": "stream",
     "text": [
      "/home/slazien/.local/share/virtualenvs/linkedin_misinformation-xOmYosQV/lib/python3.8/site-packages/lightgbm/engine.py:177: UserWarning: Found `num_iterations` in params. Will use it instead of argument\n",
      "  _log_warning(f\"Found `{alias}` in params. Will use it instead of argument\")\n"
     ]
    },
    {
     "name": "stdout",
     "output_type": "stream",
     "text": [
      "[CV] END learning_rate=0.01, max_depth=-1, min_data_in_leaf=100, num_iterations=100, num_leaves=50; total time=   1.9s\n",
      "[LightGBM] [Warning] min_data_in_leaf is set=100, min_child_samples=20 will be ignored. Current value: min_data_in_leaf=100\n"
     ]
    },
    {
     "name": "stderr",
     "output_type": "stream",
     "text": [
      "/home/slazien/.local/share/virtualenvs/linkedin_misinformation-xOmYosQV/lib/python3.8/site-packages/lightgbm/engine.py:177: UserWarning: Found `num_iterations` in params. Will use it instead of argument\n",
      "  _log_warning(f\"Found `{alias}` in params. Will use it instead of argument\")\n"
     ]
    },
    {
     "name": "stdout",
     "output_type": "stream",
     "text": [
      "[CV] END learning_rate=0.01, max_depth=-1, min_data_in_leaf=100, num_iterations=500, num_leaves=10; total time=   7.1s\n",
      "[LightGBM] [Warning] min_data_in_leaf is set=100, min_child_samples=20 will be ignored. Current value: min_data_in_leaf=100\n"
     ]
    },
    {
     "name": "stderr",
     "output_type": "stream",
     "text": [
      "/home/slazien/.local/share/virtualenvs/linkedin_misinformation-xOmYosQV/lib/python3.8/site-packages/lightgbm/engine.py:177: UserWarning: Found `num_iterations` in params. Will use it instead of argument\n",
      "  _log_warning(f\"Found `{alias}` in params. Will use it instead of argument\")\n"
     ]
    },
    {
     "name": "stdout",
     "output_type": "stream",
     "text": [
      "[CV] END learning_rate=0.01, max_depth=-1, min_data_in_leaf=100, num_iterations=500, num_leaves=10; total time=   6.7s\n",
      "[LightGBM] [Warning] min_data_in_leaf is set=100, min_child_samples=20 will be ignored. Current value: min_data_in_leaf=100\n",
      "[CV] END learning_rate=0.01, max_depth=-1, min_data_in_leaf=100, num_iterations=500, num_leaves=10; total time=   7.5s\n"
     ]
    },
    {
     "name": "stderr",
     "output_type": "stream",
     "text": [
      "/home/slazien/.local/share/virtualenvs/linkedin_misinformation-xOmYosQV/lib/python3.8/site-packages/lightgbm/engine.py:177: UserWarning: Found `num_iterations` in params. Will use it instead of argument\n",
      "  _log_warning(f\"Found `{alias}` in params. Will use it instead of argument\")\n",
      "/home/slazien/.local/share/virtualenvs/linkedin_misinformation-xOmYosQV/lib/python3.8/site-packages/lightgbm/engine.py:177: UserWarning: Found `num_iterations` in params. Will use it instead of argument\n",
      "  _log_warning(f\"Found `{alias}` in params. Will use it instead of argument\")\n"
     ]
    },
    {
     "name": "stdout",
     "output_type": "stream",
     "text": [
      "[LightGBM] [Warning] min_data_in_leaf is set=100, min_child_samples=20 will be ignored. Current value: min_data_in_leaf=100\n",
      "[CV] END learning_rate=0.01, max_depth=-1, min_data_in_leaf=100, num_iterations=500, num_leaves=10; total time=   7.5s\n",
      "[LightGBM] [Warning] min_data_in_leaf is set=100, min_child_samples=20 will be ignored. Current value: min_data_in_leaf=100\n"
     ]
    },
    {
     "name": "stderr",
     "output_type": "stream",
     "text": [
      "/home/slazien/.local/share/virtualenvs/linkedin_misinformation-xOmYosQV/lib/python3.8/site-packages/lightgbm/engine.py:177: UserWarning: Found `num_iterations` in params. Will use it instead of argument\n",
      "  _log_warning(f\"Found `{alias}` in params. Will use it instead of argument\")\n"
     ]
    },
    {
     "name": "stdout",
     "output_type": "stream",
     "text": [
      "[CV] END learning_rate=0.01, max_depth=-1, min_data_in_leaf=100, num_iterations=500, num_leaves=50; total time=   7.1s\n",
      "[LightGBM] [Warning] min_data_in_leaf is set=100, min_child_samples=20 will be ignored. Current value: min_data_in_leaf=100\n",
      "[CV] END learning_rate=0.01, max_depth=-1, min_data_in_leaf=100, num_iterations=500, num_leaves=10; total time=   7.5s\n"
     ]
    },
    {
     "name": "stderr",
     "output_type": "stream",
     "text": [
      "/home/slazien/.local/share/virtualenvs/linkedin_misinformation-xOmYosQV/lib/python3.8/site-packages/lightgbm/engine.py:177: UserWarning: Found `num_iterations` in params. Will use it instead of argument\n",
      "  _log_warning(f\"Found `{alias}` in params. Will use it instead of argument\")\n",
      "/home/slazien/.local/share/virtualenvs/linkedin_misinformation-xOmYosQV/lib/python3.8/site-packages/lightgbm/engine.py:177: UserWarning: Found `num_iterations` in params. Will use it instead of argument\n",
      "  _log_warning(f\"Found `{alias}` in params. Will use it instead of argument\")\n"
     ]
    },
    {
     "name": "stdout",
     "output_type": "stream",
     "text": [
      "[LightGBM] [Warning] min_data_in_leaf is set=100, min_child_samples=20 will be ignored. Current value: min_data_in_leaf=100\n",
      "[CV] END learning_rate=0.01, max_depth=-1, min_data_in_leaf=100, num_iterations=500, num_leaves=50; total time=   6.5s\n",
      "[LightGBM] [Warning] min_data_in_leaf is set=100, min_child_samples=20 will be ignored. Current value: min_data_in_leaf=100\n"
     ]
    },
    {
     "name": "stderr",
     "output_type": "stream",
     "text": [
      "/home/slazien/.local/share/virtualenvs/linkedin_misinformation-xOmYosQV/lib/python3.8/site-packages/lightgbm/engine.py:177: UserWarning: Found `num_iterations` in params. Will use it instead of argument\n",
      "  _log_warning(f\"Found `{alias}` in params. Will use it instead of argument\")\n"
     ]
    },
    {
     "name": "stdout",
     "output_type": "stream",
     "text": [
      "[CV] END learning_rate=0.01, max_depth=-1, min_data_in_leaf=100, num_iterations=500, num_leaves=50; total time=   7.4s\n",
      "[LightGBM] [Warning] min_data_in_leaf is set=500, min_child_samples=20 will be ignored. Current value: min_data_in_leaf=500\n",
      "[CV] END learning_rate=0.01, max_depth=-1, min_data_in_leaf=500, num_iterations=100, num_leaves=10; total time=   0.1s\n",
      "[LightGBM] [Warning] min_data_in_leaf is set=500, min_child_samples=20 will be ignored. Current value: min_data_in_leaf=500\n"
     ]
    },
    {
     "name": "stderr",
     "output_type": "stream",
     "text": [
      "/home/slazien/.local/share/virtualenvs/linkedin_misinformation-xOmYosQV/lib/python3.8/site-packages/lightgbm/engine.py:177: UserWarning: Found `num_iterations` in params. Will use it instead of argument\n",
      "  _log_warning(f\"Found `{alias}` in params. Will use it instead of argument\")\n",
      "/home/slazien/.local/share/virtualenvs/linkedin_misinformation-xOmYosQV/lib/python3.8/site-packages/lightgbm/engine.py:177: UserWarning: Found `num_iterations` in params. Will use it instead of argument\n",
      "  _log_warning(f\"Found `{alias}` in params. Will use it instead of argument\")\n"
     ]
    },
    {
     "name": "stdout",
     "output_type": "stream",
     "text": [
      "[CV] END learning_rate=0.01, max_depth=-1, min_data_in_leaf=500, num_iterations=100, num_leaves=10; total time=   0.1s\n",
      "[LightGBM] [Warning] min_data_in_leaf is set=500, min_child_samples=20 will be ignored. Current value: min_data_in_leaf=500\n",
      "[CV] END learning_rate=0.01, max_depth=-1, min_data_in_leaf=500, num_iterations=100, num_leaves=10; total time=   0.1s\n",
      "[LightGBM] [Warning] min_data_in_leaf is set=500, min_child_samples=20 will be ignored. Current value: min_data_in_leaf=500\n"
     ]
    },
    {
     "name": "stderr",
     "output_type": "stream",
     "text": [
      "/home/slazien/.local/share/virtualenvs/linkedin_misinformation-xOmYosQV/lib/python3.8/site-packages/lightgbm/engine.py:177: UserWarning: Found `num_iterations` in params. Will use it instead of argument\n",
      "  _log_warning(f\"Found `{alias}` in params. Will use it instead of argument\")\n",
      "/home/slazien/.local/share/virtualenvs/linkedin_misinformation-xOmYosQV/lib/python3.8/site-packages/lightgbm/engine.py:177: UserWarning: Found `num_iterations` in params. Will use it instead of argument\n",
      "  _log_warning(f\"Found `{alias}` in params. Will use it instead of argument\")\n"
     ]
    },
    {
     "name": "stdout",
     "output_type": "stream",
     "text": [
      "[CV] END learning_rate=0.01, max_depth=-1, min_data_in_leaf=500, num_iterations=100, num_leaves=10; total time=   0.1s\n",
      "[LightGBM] [Warning] min_data_in_leaf is set=500, min_child_samples=20 will be ignored. Current value: min_data_in_leaf=500\n",
      "[CV] END learning_rate=0.01, max_depth=-1, min_data_in_leaf=500, num_iterations=100, num_leaves=10; total time=   0.1s\n",
      "[LightGBM] [Warning] min_data_in_leaf is set=500, min_child_samples=20 will be ignored. Current value: min_data_in_leaf=500\n",
      "[CV] END learning_rate=0.01, max_depth=-1, min_data_in_leaf=100, num_iterations=500, num_leaves=50; total time=   7.4s\n",
      "[LightGBM] [Warning] min_data_in_leaf is set=500, min_child_samples=20 will be ignored. Current value: min_data_in_leaf=500\n"
     ]
    },
    {
     "name": "stderr",
     "output_type": "stream",
     "text": [
      "/home/slazien/.local/share/virtualenvs/linkedin_misinformation-xOmYosQV/lib/python3.8/site-packages/lightgbm/engine.py:177: UserWarning: Found `num_iterations` in params. Will use it instead of argument\n",
      "  _log_warning(f\"Found `{alias}` in params. Will use it instead of argument\")\n",
      "/home/slazien/.local/share/virtualenvs/linkedin_misinformation-xOmYosQV/lib/python3.8/site-packages/lightgbm/engine.py:177: UserWarning: Found `num_iterations` in params. Will use it instead of argument\n",
      "  _log_warning(f\"Found `{alias}` in params. Will use it instead of argument\")\n",
      "/home/slazien/.local/share/virtualenvs/linkedin_misinformation-xOmYosQV/lib/python3.8/site-packages/lightgbm/engine.py:177: UserWarning: Found `num_iterations` in params. Will use it instead of argument\n",
      "  _log_warning(f\"Found `{alias}` in params. Will use it instead of argument\")\n"
     ]
    },
    {
     "name": "stdout",
     "output_type": "stream",
     "text": [
      "[CV] END learning_rate=0.01, max_depth=-1, min_data_in_leaf=500, num_iterations=100, num_leaves=50; total time=   0.1s\n",
      "[LightGBM] [Warning] min_data_in_leaf is set=500, min_child_samples=20 will be ignored. Current value: min_data_in_leaf=500\n",
      "[CV] END learning_rate=0.01, max_depth=-1, min_data_in_leaf=500, num_iterations=100, num_leaves=50; total time=   0.1s\n",
      "[LightGBM] [Warning] min_data_in_leaf is set=500, min_child_samples=20 will be ignored. Current value: min_data_in_leaf=500\n",
      "[CV] END learning_rate=0.01, max_depth=-1, min_data_in_leaf=500, num_iterations=100, num_leaves=50; total time=   0.1s\n",
      "[LightGBM] [Warning] min_data_in_leaf is set=500, min_child_samples=20 will be ignored. Current value: min_data_in_leaf=500\n",
      "[CV] END learning_rate=0.01, max_depth=-1, min_data_in_leaf=500, num_iterations=100, num_leaves=50; total time=   0.1s\n",
      "[LightGBM] [Warning] min_data_in_leaf is set=500, min_child_samples=20 will be ignored. Current value: min_data_in_leaf=500\n",
      "[CV] END learning_rate=0.01, max_depth=-1, min_data_in_leaf=500, num_iterations=100, num_leaves=50; total time=   0.1s\n"
     ]
    },
    {
     "name": "stderr",
     "output_type": "stream",
     "text": [
      "/home/slazien/.local/share/virtualenvs/linkedin_misinformation-xOmYosQV/lib/python3.8/site-packages/lightgbm/engine.py:177: UserWarning: Found `num_iterations` in params. Will use it instead of argument\n",
      "  _log_warning(f\"Found `{alias}` in params. Will use it instead of argument\")\n",
      "/home/slazien/.local/share/virtualenvs/linkedin_misinformation-xOmYosQV/lib/python3.8/site-packages/lightgbm/engine.py:177: UserWarning: Found `num_iterations` in params. Will use it instead of argument\n",
      "  _log_warning(f\"Found `{alias}` in params. Will use it instead of argument\")\n",
      "/home/slazien/.local/share/virtualenvs/linkedin_misinformation-xOmYosQV/lib/python3.8/site-packages/lightgbm/engine.py:177: UserWarning: Found `num_iterations` in params. Will use it instead of argument\n",
      "  _log_warning(f\"Found `{alias}` in params. Will use it instead of argument\")\n",
      "/home/slazien/.local/share/virtualenvs/linkedin_misinformation-xOmYosQV/lib/python3.8/site-packages/lightgbm/engine.py:177: UserWarning: Found `num_iterations` in params. Will use it instead of argument\n",
      "  _log_warning(f\"Found `{alias}` in params. Will use it instead of argument\")\n",
      "/home/slazien/.local/share/virtualenvs/linkedin_misinformation-xOmYosQV/lib/python3.8/site-packages/lightgbm/engine.py:177: UserWarning: Found `num_iterations` in params. Will use it instead of argument\n",
      "  _log_warning(f\"Found `{alias}` in params. Will use it instead of argument\")\n"
     ]
    },
    {
     "name": "stdout",
     "output_type": "stream",
     "text": [
      "[LightGBM] [Warning] min_data_in_leaf is set=500, min_child_samples=20 will be ignored. Current value: min_data_in_leaf=500\n",
      "[CV] END learning_rate=0.01, max_depth=-1, min_data_in_leaf=500, num_iterations=500, num_leaves=10; total time=   0.1s\n",
      "[LightGBM] [Warning] min_data_in_leaf is set=500, min_child_samples=20 will be ignored. Current value: min_data_in_leaf=500\n",
      "[CV] END learning_rate=0.01, max_depth=-1, min_data_in_leaf=500, num_iterations=500, num_leaves=10; total time=   0.1s\n",
      "[LightGBM] [Warning] min_data_in_leaf is set=500, min_child_samples=20 will be ignored. Current value: min_data_in_leaf=500\n",
      "[CV] END learning_rate=0.01, max_depth=-1, min_data_in_leaf=500, num_iterations=500, num_leaves=10; total time=   0.1s\n",
      "[LightGBM] [Warning] min_data_in_leaf is set=500, min_child_samples=20 will be ignored. Current value: min_data_in_leaf=500\n"
     ]
    },
    {
     "name": "stderr",
     "output_type": "stream",
     "text": [
      "/home/slazien/.local/share/virtualenvs/linkedin_misinformation-xOmYosQV/lib/python3.8/site-packages/lightgbm/engine.py:177: UserWarning: Found `num_iterations` in params. Will use it instead of argument\n",
      "  _log_warning(f\"Found `{alias}` in params. Will use it instead of argument\")\n",
      "/home/slazien/.local/share/virtualenvs/linkedin_misinformation-xOmYosQV/lib/python3.8/site-packages/lightgbm/engine.py:177: UserWarning: Found `num_iterations` in params. Will use it instead of argument\n",
      "  _log_warning(f\"Found `{alias}` in params. Will use it instead of argument\")\n",
      "/home/slazien/.local/share/virtualenvs/linkedin_misinformation-xOmYosQV/lib/python3.8/site-packages/lightgbm/engine.py:177: UserWarning: Found `num_iterations` in params. Will use it instead of argument\n",
      "  _log_warning(f\"Found `{alias}` in params. Will use it instead of argument\")\n",
      "/home/slazien/.local/share/virtualenvs/linkedin_misinformation-xOmYosQV/lib/python3.8/site-packages/lightgbm/engine.py:177: UserWarning: Found `num_iterations` in params. Will use it instead of argument\n",
      "  _log_warning(f\"Found `{alias}` in params. Will use it instead of argument\")\n"
     ]
    },
    {
     "name": "stdout",
     "output_type": "stream",
     "text": [
      "[CV] END learning_rate=0.01, max_depth=-1, min_data_in_leaf=500, num_iterations=500, num_leaves=10; total time=   0.1s\n",
      "[LightGBM] [Warning] min_data_in_leaf is set=500, min_child_samples=20 will be ignored. Current value: min_data_in_leaf=500\n",
      "[CV] END learning_rate=0.01, max_depth=-1, min_data_in_leaf=500, num_iterations=500, num_leaves=10; total time=   0.1s\n",
      "[LightGBM] [Warning] min_data_in_leaf is set=500, min_child_samples=20 will be ignored. Current value: min_data_in_leaf=500\n",
      "[CV] END learning_rate=0.01, max_depth=-1, min_data_in_leaf=500, num_iterations=500, num_leaves=50; total time=   0.1s\n",
      "[LightGBM] [Warning] min_data_in_leaf is set=500, min_child_samples=20 will be ignored. Current value: min_data_in_leaf=500\n",
      "[CV] END learning_rate=0.01, max_depth=-1, min_data_in_leaf=500, num_iterations=500, num_leaves=50; total time=   0.1s\n",
      "[LightGBM] [Warning] min_data_in_leaf is set=500, min_child_samples=20 will be ignored. Current value: min_data_in_leaf=500\n"
     ]
    },
    {
     "name": "stderr",
     "output_type": "stream",
     "text": [
      "/home/slazien/.local/share/virtualenvs/linkedin_misinformation-xOmYosQV/lib/python3.8/site-packages/lightgbm/engine.py:177: UserWarning: Found `num_iterations` in params. Will use it instead of argument\n",
      "  _log_warning(f\"Found `{alias}` in params. Will use it instead of argument\")\n",
      "/home/slazien/.local/share/virtualenvs/linkedin_misinformation-xOmYosQV/lib/python3.8/site-packages/lightgbm/engine.py:177: UserWarning: Found `num_iterations` in params. Will use it instead of argument\n",
      "  _log_warning(f\"Found `{alias}` in params. Will use it instead of argument\")\n",
      "/home/slazien/.local/share/virtualenvs/linkedin_misinformation-xOmYosQV/lib/python3.8/site-packages/lightgbm/engine.py:177: UserWarning: Found `num_iterations` in params. Will use it instead of argument\n",
      "  _log_warning(f\"Found `{alias}` in params. Will use it instead of argument\")\n",
      "/home/slazien/.local/share/virtualenvs/linkedin_misinformation-xOmYosQV/lib/python3.8/site-packages/lightgbm/engine.py:177: UserWarning: Found `num_iterations` in params. Will use it instead of argument\n",
      "  _log_warning(f\"Found `{alias}` in params. Will use it instead of argument\")\n"
     ]
    },
    {
     "name": "stdout",
     "output_type": "stream",
     "text": [
      "[CV] END learning_rate=0.01, max_depth=-1, min_data_in_leaf=500, num_iterations=500, num_leaves=50; total time=   0.1s\n",
      "[LightGBM] [Warning] min_data_in_leaf is set=500, min_child_samples=20 will be ignored. Current value: min_data_in_leaf=500\n",
      "[CV] END learning_rate=0.01, max_depth=-1, min_data_in_leaf=500, num_iterations=500, num_leaves=50; total time=   0.1s\n",
      "[LightGBM] [Warning] min_data_in_leaf is set=10, min_child_samples=20 will be ignored. Current value: min_data_in_leaf=10\n",
      "[CV] END learning_rate=0.01, max_depth=-1, min_data_in_leaf=500, num_iterations=500, num_leaves=50; total time=   0.1s\n",
      "[LightGBM] [Warning] min_data_in_leaf is set=10, min_child_samples=20 will be ignored. Current value: min_data_in_leaf=10\n"
     ]
    },
    {
     "name": "stderr",
     "output_type": "stream",
     "text": [
      "/home/slazien/.local/share/virtualenvs/linkedin_misinformation-xOmYosQV/lib/python3.8/site-packages/lightgbm/engine.py:177: UserWarning: Found `num_iterations` in params. Will use it instead of argument\n",
      "  _log_warning(f\"Found `{alias}` in params. Will use it instead of argument\")\n",
      "/home/slazien/.local/share/virtualenvs/linkedin_misinformation-xOmYosQV/lib/python3.8/site-packages/lightgbm/engine.py:177: UserWarning: Found `num_iterations` in params. Will use it instead of argument\n",
      "  _log_warning(f\"Found `{alias}` in params. Will use it instead of argument\")\n"
     ]
    },
    {
     "name": "stdout",
     "output_type": "stream",
     "text": [
      "[CV] END learning_rate=0.01, max_depth=-1, min_data_in_leaf=100, num_iterations=500, num_leaves=50; total time=   7.9s\n",
      "[LightGBM] [Warning] min_data_in_leaf is set=10, min_child_samples=20 will be ignored. Current value: min_data_in_leaf=10\n"
     ]
    },
    {
     "name": "stderr",
     "output_type": "stream",
     "text": [
      "/home/slazien/.local/share/virtualenvs/linkedin_misinformation-xOmYosQV/lib/python3.8/site-packages/lightgbm/engine.py:177: UserWarning: Found `num_iterations` in params. Will use it instead of argument\n",
      "  _log_warning(f\"Found `{alias}` in params. Will use it instead of argument\")\n"
     ]
    },
    {
     "name": "stdout",
     "output_type": "stream",
     "text": [
      "[CV] END learning_rate=0.01, max_depth=10, min_data_in_leaf=10, num_iterations=100, num_leaves=10; total time=   6.8s\n",
      "[LightGBM] [Warning] min_data_in_leaf is set=10, min_child_samples=20 will be ignored. Current value: min_data_in_leaf=10\n"
     ]
    },
    {
     "name": "stderr",
     "output_type": "stream",
     "text": [
      "/home/slazien/.local/share/virtualenvs/linkedin_misinformation-xOmYosQV/lib/python3.8/site-packages/lightgbm/engine.py:177: UserWarning: Found `num_iterations` in params. Will use it instead of argument\n",
      "  _log_warning(f\"Found `{alias}` in params. Will use it instead of argument\")\n"
     ]
    },
    {
     "name": "stdout",
     "output_type": "stream",
     "text": [
      "[CV] END learning_rate=0.01, max_depth=10, min_data_in_leaf=10, num_iterations=100, num_leaves=10; total time=   7.2s\n",
      "[LightGBM] [Warning] min_data_in_leaf is set=10, min_child_samples=20 will be ignored. Current value: min_data_in_leaf=10\n"
     ]
    },
    {
     "name": "stderr",
     "output_type": "stream",
     "text": [
      "/home/slazien/.local/share/virtualenvs/linkedin_misinformation-xOmYosQV/lib/python3.8/site-packages/lightgbm/engine.py:177: UserWarning: Found `num_iterations` in params. Will use it instead of argument\n",
      "  _log_warning(f\"Found `{alias}` in params. Will use it instead of argument\")\n"
     ]
    },
    {
     "name": "stdout",
     "output_type": "stream",
     "text": [
      "[CV] END learning_rate=0.01, max_depth=10, min_data_in_leaf=10, num_iterations=100, num_leaves=10; total time=   7.3s\n",
      "[LightGBM] [Warning] min_data_in_leaf is set=10, min_child_samples=20 will be ignored. Current value: min_data_in_leaf=10\n"
     ]
    },
    {
     "name": "stderr",
     "output_type": "stream",
     "text": [
      "/home/slazien/.local/share/virtualenvs/linkedin_misinformation-xOmYosQV/lib/python3.8/site-packages/lightgbm/engine.py:177: UserWarning: Found `num_iterations` in params. Will use it instead of argument\n",
      "  _log_warning(f\"Found `{alias}` in params. Will use it instead of argument\")\n"
     ]
    },
    {
     "name": "stdout",
     "output_type": "stream",
     "text": [
      "[CV] END learning_rate=0.01, max_depth=10, min_data_in_leaf=10, num_iterations=100, num_leaves=10; total time=   7.3s\n",
      "[LightGBM] [Warning] min_data_in_leaf is set=10, min_child_samples=20 will be ignored. Current value: min_data_in_leaf=10\n",
      "[CV] END learning_rate=0.01, max_depth=10, min_data_in_leaf=10, num_iterations=100, num_leaves=10; total time=   7.9s\n",
      "[LightGBM] [Warning] min_data_in_leaf is set=10, min_child_samples=20 will be ignored. Current value: min_data_in_leaf=10\n"
     ]
    },
    {
     "name": "stderr",
     "output_type": "stream",
     "text": [
      "/home/slazien/.local/share/virtualenvs/linkedin_misinformation-xOmYosQV/lib/python3.8/site-packages/lightgbm/engine.py:177: UserWarning: Found `num_iterations` in params. Will use it instead of argument\n",
      "  _log_warning(f\"Found `{alias}` in params. Will use it instead of argument\")\n",
      "/home/slazien/.local/share/virtualenvs/linkedin_misinformation-xOmYosQV/lib/python3.8/site-packages/lightgbm/engine.py:177: UserWarning: Found `num_iterations` in params. Will use it instead of argument\n",
      "  _log_warning(f\"Found `{alias}` in params. Will use it instead of argument\")\n"
     ]
    },
    {
     "name": "stdout",
     "output_type": "stream",
     "text": [
      "[CV] END learning_rate=0.01, max_depth=10, min_data_in_leaf=10, num_iterations=100, num_leaves=50; total time=  17.0s\n",
      "[LightGBM] [Warning] min_data_in_leaf is set=10, min_child_samples=20 will be ignored. Current value: min_data_in_leaf=10\n"
     ]
    },
    {
     "name": "stderr",
     "output_type": "stream",
     "text": [
      "/home/slazien/.local/share/virtualenvs/linkedin_misinformation-xOmYosQV/lib/python3.8/site-packages/lightgbm/engine.py:177: UserWarning: Found `num_iterations` in params. Will use it instead of argument\n",
      "  _log_warning(f\"Found `{alias}` in params. Will use it instead of argument\")\n"
     ]
    },
    {
     "name": "stdout",
     "output_type": "stream",
     "text": [
      "[CV] END learning_rate=0.01, max_depth=-1, min_data_in_leaf=10, num_iterations=500, num_leaves=50; total time= 1.5min\n",
      "[LightGBM] [Warning] min_data_in_leaf is set=10, min_child_samples=20 will be ignored. Current value: min_data_in_leaf=10\n"
     ]
    },
    {
     "name": "stderr",
     "output_type": "stream",
     "text": [
      "/home/slazien/.local/share/virtualenvs/linkedin_misinformation-xOmYosQV/lib/python3.8/site-packages/lightgbm/engine.py:177: UserWarning: Found `num_iterations` in params. Will use it instead of argument\n",
      "  _log_warning(f\"Found `{alias}` in params. Will use it instead of argument\")\n"
     ]
    },
    {
     "name": "stdout",
     "output_type": "stream",
     "text": [
      "[CV] END learning_rate=0.01, max_depth=10, min_data_in_leaf=10, num_iterations=100, num_leaves=50; total time=  19.9s\n",
      "[LightGBM] [Warning] min_data_in_leaf is set=10, min_child_samples=20 will be ignored. Current value: min_data_in_leaf=10\n"
     ]
    },
    {
     "name": "stderr",
     "output_type": "stream",
     "text": [
      "/home/slazien/.local/share/virtualenvs/linkedin_misinformation-xOmYosQV/lib/python3.8/site-packages/lightgbm/engine.py:177: UserWarning: Found `num_iterations` in params. Will use it instead of argument\n",
      "  _log_warning(f\"Found `{alias}` in params. Will use it instead of argument\")\n"
     ]
    },
    {
     "name": "stdout",
     "output_type": "stream",
     "text": [
      "[CV] END learning_rate=0.01, max_depth=10, min_data_in_leaf=10, num_iterations=100, num_leaves=50; total time=  21.0s\n",
      "[LightGBM] [Warning] min_data_in_leaf is set=10, min_child_samples=20 will be ignored. Current value: min_data_in_leaf=10\n"
     ]
    },
    {
     "name": "stderr",
     "output_type": "stream",
     "text": [
      "/home/slazien/.local/share/virtualenvs/linkedin_misinformation-xOmYosQV/lib/python3.8/site-packages/lightgbm/engine.py:177: UserWarning: Found `num_iterations` in params. Will use it instead of argument\n",
      "  _log_warning(f\"Found `{alias}` in params. Will use it instead of argument\")\n"
     ]
    },
    {
     "name": "stdout",
     "output_type": "stream",
     "text": [
      "[CV] END learning_rate=0.01, max_depth=-1, min_data_in_leaf=10, num_iterations=500, num_leaves=50; total time= 1.5min\n",
      "[LightGBM] [Warning] min_data_in_leaf is set=10, min_child_samples=20 will be ignored. Current value: min_data_in_leaf=10\n"
     ]
    },
    {
     "name": "stderr",
     "output_type": "stream",
     "text": [
      "/home/slazien/.local/share/virtualenvs/linkedin_misinformation-xOmYosQV/lib/python3.8/site-packages/lightgbm/engine.py:177: UserWarning: Found `num_iterations` in params. Will use it instead of argument\n",
      "  _log_warning(f\"Found `{alias}` in params. Will use it instead of argument\")\n"
     ]
    },
    {
     "name": "stdout",
     "output_type": "stream",
     "text": [
      "[CV] END learning_rate=0.01, max_depth=-1, min_data_in_leaf=10, num_iterations=500, num_leaves=50; total time= 1.5min\n",
      "[LightGBM] [Warning] min_data_in_leaf is set=10, min_child_samples=20 will be ignored. Current value: min_data_in_leaf=10\n"
     ]
    },
    {
     "name": "stderr",
     "output_type": "stream",
     "text": [
      "/home/slazien/.local/share/virtualenvs/linkedin_misinformation-xOmYosQV/lib/python3.8/site-packages/lightgbm/engine.py:177: UserWarning: Found `num_iterations` in params. Will use it instead of argument\n",
      "  _log_warning(f\"Found `{alias}` in params. Will use it instead of argument\")\n"
     ]
    },
    {
     "name": "stdout",
     "output_type": "stream",
     "text": [
      "[CV] END learning_rate=0.01, max_depth=10, min_data_in_leaf=10, num_iterations=100, num_leaves=50; total time=  16.7s\n",
      "[LightGBM] [Warning] min_data_in_leaf is set=10, min_child_samples=20 will be ignored. Current value: min_data_in_leaf=10\n"
     ]
    },
    {
     "name": "stderr",
     "output_type": "stream",
     "text": [
      "/home/slazien/.local/share/virtualenvs/linkedin_misinformation-xOmYosQV/lib/python3.8/site-packages/lightgbm/engine.py:177: UserWarning: Found `num_iterations` in params. Will use it instead of argument\n",
      "  _log_warning(f\"Found `{alias}` in params. Will use it instead of argument\")\n"
     ]
    },
    {
     "name": "stdout",
     "output_type": "stream",
     "text": [
      "[CV] END learning_rate=0.01, max_depth=10, min_data_in_leaf=10, num_iterations=100, num_leaves=50; total time=  15.5s\n",
      "[LightGBM] [Warning] min_data_in_leaf is set=10, min_child_samples=20 will be ignored. Current value: min_data_in_leaf=10\n"
     ]
    },
    {
     "name": "stderr",
     "output_type": "stream",
     "text": [
      "/home/slazien/.local/share/virtualenvs/linkedin_misinformation-xOmYosQV/lib/python3.8/site-packages/lightgbm/engine.py:177: UserWarning: Found `num_iterations` in params. Will use it instead of argument\n",
      "  _log_warning(f\"Found `{alias}` in params. Will use it instead of argument\")\n"
     ]
    },
    {
     "name": "stdout",
     "output_type": "stream",
     "text": [
      "[CV] END learning_rate=0.01, max_depth=-1, min_data_in_leaf=10, num_iterations=500, num_leaves=50; total time= 1.5min\n",
      "[LightGBM] [Warning] min_data_in_leaf is set=10, min_child_samples=20 will be ignored. Current value: min_data_in_leaf=10\n"
     ]
    },
    {
     "name": "stderr",
     "output_type": "stream",
     "text": [
      "/home/slazien/.local/share/virtualenvs/linkedin_misinformation-xOmYosQV/lib/python3.8/site-packages/lightgbm/engine.py:177: UserWarning: Found `num_iterations` in params. Will use it instead of argument\n",
      "  _log_warning(f\"Found `{alias}` in params. Will use it instead of argument\")\n"
     ]
    },
    {
     "name": "stdout",
     "output_type": "stream",
     "text": [
      "[CV] END learning_rate=0.01, max_depth=-1, min_data_in_leaf=10, num_iterations=500, num_leaves=50; total time= 1.5min\n",
      "[LightGBM] [Warning] min_data_in_leaf is set=10, min_child_samples=20 will be ignored. Current value: min_data_in_leaf=10\n"
     ]
    },
    {
     "name": "stderr",
     "output_type": "stream",
     "text": [
      "/home/slazien/.local/share/virtualenvs/linkedin_misinformation-xOmYosQV/lib/python3.8/site-packages/lightgbm/engine.py:177: UserWarning: Found `num_iterations` in params. Will use it instead of argument\n",
      "  _log_warning(f\"Found `{alias}` in params. Will use it instead of argument\")\n"
     ]
    },
    {
     "name": "stdout",
     "output_type": "stream",
     "text": [
      "[CV] END learning_rate=0.01, max_depth=10, min_data_in_leaf=10, num_iterations=500, num_leaves=10; total time=  33.6s\n",
      "[LightGBM] [Warning] min_data_in_leaf is set=10, min_child_samples=20 will be ignored. Current value: min_data_in_leaf=10\n"
     ]
    },
    {
     "name": "stderr",
     "output_type": "stream",
     "text": [
      "/home/slazien/.local/share/virtualenvs/linkedin_misinformation-xOmYosQV/lib/python3.8/site-packages/lightgbm/engine.py:177: UserWarning: Found `num_iterations` in params. Will use it instead of argument\n",
      "  _log_warning(f\"Found `{alias}` in params. Will use it instead of argument\")\n"
     ]
    },
    {
     "name": "stdout",
     "output_type": "stream",
     "text": [
      "[CV] END learning_rate=0.01, max_depth=10, min_data_in_leaf=10, num_iterations=500, num_leaves=10; total time=  33.2s\n",
      "[LightGBM] [Warning] min_data_in_leaf is set=10, min_child_samples=20 will be ignored. Current value: min_data_in_leaf=10\n"
     ]
    },
    {
     "name": "stderr",
     "output_type": "stream",
     "text": [
      "/home/slazien/.local/share/virtualenvs/linkedin_misinformation-xOmYosQV/lib/python3.8/site-packages/lightgbm/engine.py:177: UserWarning: Found `num_iterations` in params. Will use it instead of argument\n",
      "  _log_warning(f\"Found `{alias}` in params. Will use it instead of argument\")\n"
     ]
    },
    {
     "name": "stdout",
     "output_type": "stream",
     "text": [
      "[CV] END learning_rate=0.01, max_depth=10, min_data_in_leaf=10, num_iterations=500, num_leaves=10; total time=  31.8s\n",
      "[LightGBM] [Warning] min_data_in_leaf is set=100, min_child_samples=20 will be ignored. Current value: min_data_in_leaf=100\n"
     ]
    },
    {
     "name": "stderr",
     "output_type": "stream",
     "text": [
      "/home/slazien/.local/share/virtualenvs/linkedin_misinformation-xOmYosQV/lib/python3.8/site-packages/lightgbm/engine.py:177: UserWarning: Found `num_iterations` in params. Will use it instead of argument\n",
      "  _log_warning(f\"Found `{alias}` in params. Will use it instead of argument\")\n"
     ]
    },
    {
     "name": "stdout",
     "output_type": "stream",
     "text": [
      "[CV] END learning_rate=0.01, max_depth=10, min_data_in_leaf=10, num_iterations=500, num_leaves=10; total time=  32.5s\n",
      "[LightGBM] [Warning] min_data_in_leaf is set=100, min_child_samples=20 will be ignored. Current value: min_data_in_leaf=100\n"
     ]
    },
    {
     "name": "stderr",
     "output_type": "stream",
     "text": [
      "/home/slazien/.local/share/virtualenvs/linkedin_misinformation-xOmYosQV/lib/python3.8/site-packages/lightgbm/engine.py:177: UserWarning: Found `num_iterations` in params. Will use it instead of argument\n",
      "  _log_warning(f\"Found `{alias}` in params. Will use it instead of argument\")\n"
     ]
    },
    {
     "name": "stdout",
     "output_type": "stream",
     "text": [
      "[CV] END learning_rate=0.01, max_depth=10, min_data_in_leaf=100, num_iterations=100, num_leaves=10; total time=   1.5s\n",
      "[LightGBM] [Warning] min_data_in_leaf is set=100, min_child_samples=20 will be ignored. Current value: min_data_in_leaf=100\n"
     ]
    },
    {
     "name": "stderr",
     "output_type": "stream",
     "text": [
      "/home/slazien/.local/share/virtualenvs/linkedin_misinformation-xOmYosQV/lib/python3.8/site-packages/lightgbm/engine.py:177: UserWarning: Found `num_iterations` in params. Will use it instead of argument\n",
      "  _log_warning(f\"Found `{alias}` in params. Will use it instead of argument\")\n"
     ]
    },
    {
     "name": "stdout",
     "output_type": "stream",
     "text": [
      "[CV] END learning_rate=0.01, max_depth=10, min_data_in_leaf=100, num_iterations=100, num_leaves=10; total time=   1.7s\n",
      "[LightGBM] [Warning] min_data_in_leaf is set=100, min_child_samples=20 will be ignored. Current value: min_data_in_leaf=100\n"
     ]
    },
    {
     "name": "stderr",
     "output_type": "stream",
     "text": [
      "/home/slazien/.local/share/virtualenvs/linkedin_misinformation-xOmYosQV/lib/python3.8/site-packages/lightgbm/engine.py:177: UserWarning: Found `num_iterations` in params. Will use it instead of argument\n",
      "  _log_warning(f\"Found `{alias}` in params. Will use it instead of argument\")\n"
     ]
    },
    {
     "name": "stdout",
     "output_type": "stream",
     "text": [
      "[CV] END learning_rate=0.01, max_depth=10, min_data_in_leaf=100, num_iterations=100, num_leaves=10; total time=   1.4s\n",
      "[LightGBM] [Warning] min_data_in_leaf is set=100, min_child_samples=20 will be ignored. Current value: min_data_in_leaf=100\n"
     ]
    },
    {
     "name": "stderr",
     "output_type": "stream",
     "text": [
      "/home/slazien/.local/share/virtualenvs/linkedin_misinformation-xOmYosQV/lib/python3.8/site-packages/lightgbm/engine.py:177: UserWarning: Found `num_iterations` in params. Will use it instead of argument\n",
      "  _log_warning(f\"Found `{alias}` in params. Will use it instead of argument\")\n"
     ]
    },
    {
     "name": "stdout",
     "output_type": "stream",
     "text": [
      "[CV] END learning_rate=0.01, max_depth=10, min_data_in_leaf=100, num_iterations=100, num_leaves=10; total time=   1.6s\n",
      "[LightGBM] [Warning] min_data_in_leaf is set=100, min_child_samples=20 will be ignored. Current value: min_data_in_leaf=100\n"
     ]
    },
    {
     "name": "stderr",
     "output_type": "stream",
     "text": [
      "/home/slazien/.local/share/virtualenvs/linkedin_misinformation-xOmYosQV/lib/python3.8/site-packages/lightgbm/engine.py:177: UserWarning: Found `num_iterations` in params. Will use it instead of argument\n",
      "  _log_warning(f\"Found `{alias}` in params. Will use it instead of argument\")\n"
     ]
    },
    {
     "name": "stdout",
     "output_type": "stream",
     "text": [
      "[CV] END learning_rate=0.01, max_depth=10, min_data_in_leaf=100, num_iterations=100, num_leaves=10; total time=   1.7s\n",
      "[LightGBM] [Warning] min_data_in_leaf is set=100, min_child_samples=20 will be ignored. Current value: min_data_in_leaf=100\n"
     ]
    },
    {
     "name": "stderr",
     "output_type": "stream",
     "text": [
      "/home/slazien/.local/share/virtualenvs/linkedin_misinformation-xOmYosQV/lib/python3.8/site-packages/lightgbm/engine.py:177: UserWarning: Found `num_iterations` in params. Will use it instead of argument\n",
      "  _log_warning(f\"Found `{alias}` in params. Will use it instead of argument\")\n"
     ]
    },
    {
     "name": "stdout",
     "output_type": "stream",
     "text": [
      "[CV] END learning_rate=0.01, max_depth=10, min_data_in_leaf=100, num_iterations=100, num_leaves=50; total time=   1.6s\n",
      "[LightGBM] [Warning] min_data_in_leaf is set=100, min_child_samples=20 will be ignored. Current value: min_data_in_leaf=100\n"
     ]
    },
    {
     "name": "stderr",
     "output_type": "stream",
     "text": [
      "/home/slazien/.local/share/virtualenvs/linkedin_misinformation-xOmYosQV/lib/python3.8/site-packages/lightgbm/engine.py:177: UserWarning: Found `num_iterations` in params. Will use it instead of argument\n",
      "  _log_warning(f\"Found `{alias}` in params. Will use it instead of argument\")\n"
     ]
    },
    {
     "name": "stdout",
     "output_type": "stream",
     "text": [
      "[CV] END learning_rate=0.01, max_depth=10, min_data_in_leaf=100, num_iterations=100, num_leaves=50; total time=   1.5s\n",
      "[LightGBM] [Warning] min_data_in_leaf is set=100, min_child_samples=20 will be ignored. Current value: min_data_in_leaf=100\n"
     ]
    },
    {
     "name": "stderr",
     "output_type": "stream",
     "text": [
      "/home/slazien/.local/share/virtualenvs/linkedin_misinformation-xOmYosQV/lib/python3.8/site-packages/lightgbm/engine.py:177: UserWarning: Found `num_iterations` in params. Will use it instead of argument\n",
      "  _log_warning(f\"Found `{alias}` in params. Will use it instead of argument\")\n"
     ]
    },
    {
     "name": "stdout",
     "output_type": "stream",
     "text": [
      "[CV] END learning_rate=0.01, max_depth=10, min_data_in_leaf=100, num_iterations=100, num_leaves=50; total time=   1.4s\n",
      "[LightGBM] [Warning] min_data_in_leaf is set=100, min_child_samples=20 will be ignored. Current value: min_data_in_leaf=100\n"
     ]
    },
    {
     "name": "stderr",
     "output_type": "stream",
     "text": [
      "/home/slazien/.local/share/virtualenvs/linkedin_misinformation-xOmYosQV/lib/python3.8/site-packages/lightgbm/engine.py:177: UserWarning: Found `num_iterations` in params. Will use it instead of argument\n",
      "  _log_warning(f\"Found `{alias}` in params. Will use it instead of argument\")\n"
     ]
    },
    {
     "name": "stdout",
     "output_type": "stream",
     "text": [
      "[CV] END learning_rate=0.01, max_depth=10, min_data_in_leaf=100, num_iterations=100, num_leaves=50; total time=   1.7s\n",
      "[LightGBM] [Warning] min_data_in_leaf is set=100, min_child_samples=20 will be ignored. Current value: min_data_in_leaf=100\n"
     ]
    },
    {
     "name": "stderr",
     "output_type": "stream",
     "text": [
      "/home/slazien/.local/share/virtualenvs/linkedin_misinformation-xOmYosQV/lib/python3.8/site-packages/lightgbm/engine.py:177: UserWarning: Found `num_iterations` in params. Will use it instead of argument\n",
      "  _log_warning(f\"Found `{alias}` in params. Will use it instead of argument\")\n"
     ]
    },
    {
     "name": "stdout",
     "output_type": "stream",
     "text": [
      "[CV] END learning_rate=0.01, max_depth=10, min_data_in_leaf=100, num_iterations=100, num_leaves=50; total time=   1.8s\n",
      "[LightGBM] [Warning] min_data_in_leaf is set=100, min_child_samples=20 will be ignored. Current value: min_data_in_leaf=100\n"
     ]
    },
    {
     "name": "stderr",
     "output_type": "stream",
     "text": [
      "/home/slazien/.local/share/virtualenvs/linkedin_misinformation-xOmYosQV/lib/python3.8/site-packages/lightgbm/engine.py:177: UserWarning: Found `num_iterations` in params. Will use it instead of argument\n",
      "  _log_warning(f\"Found `{alias}` in params. Will use it instead of argument\")\n"
     ]
    },
    {
     "name": "stdout",
     "output_type": "stream",
     "text": [
      "[CV] END learning_rate=0.01, max_depth=10, min_data_in_leaf=10, num_iterations=500, num_leaves=10; total time=  32.7s\n",
      "[LightGBM] [Warning] min_data_in_leaf is set=100, min_child_samples=20 will be ignored. Current value: min_data_in_leaf=100\n"
     ]
    },
    {
     "name": "stderr",
     "output_type": "stream",
     "text": [
      "/home/slazien/.local/share/virtualenvs/linkedin_misinformation-xOmYosQV/lib/python3.8/site-packages/lightgbm/engine.py:177: UserWarning: Found `num_iterations` in params. Will use it instead of argument\n",
      "  _log_warning(f\"Found `{alias}` in params. Will use it instead of argument\")\n"
     ]
    },
    {
     "name": "stdout",
     "output_type": "stream",
     "text": [
      "[CV] END learning_rate=0.01, max_depth=10, min_data_in_leaf=100, num_iterations=500, num_leaves=10; total time=   7.1s\n",
      "[LightGBM] [Warning] min_data_in_leaf is set=100, min_child_samples=20 will be ignored. Current value: min_data_in_leaf=100\n"
     ]
    },
    {
     "name": "stderr",
     "output_type": "stream",
     "text": [
      "/home/slazien/.local/share/virtualenvs/linkedin_misinformation-xOmYosQV/lib/python3.8/site-packages/lightgbm/engine.py:177: UserWarning: Found `num_iterations` in params. Will use it instead of argument\n",
      "  _log_warning(f\"Found `{alias}` in params. Will use it instead of argument\")\n"
     ]
    },
    {
     "name": "stdout",
     "output_type": "stream",
     "text": [
      "[CV] END learning_rate=0.01, max_depth=10, min_data_in_leaf=100, num_iterations=500, num_leaves=10; total time=   7.4s\n",
      "[LightGBM] [Warning] min_data_in_leaf is set=100, min_child_samples=20 will be ignored. Current value: min_data_in_leaf=100\n"
     ]
    },
    {
     "name": "stderr",
     "output_type": "stream",
     "text": [
      "/home/slazien/.local/share/virtualenvs/linkedin_misinformation-xOmYosQV/lib/python3.8/site-packages/lightgbm/engine.py:177: UserWarning: Found `num_iterations` in params. Will use it instead of argument\n",
      "  _log_warning(f\"Found `{alias}` in params. Will use it instead of argument\")\n"
     ]
    },
    {
     "name": "stdout",
     "output_type": "stream",
     "text": [
      "[CV] END learning_rate=0.01, max_depth=10, min_data_in_leaf=100, num_iterations=500, num_leaves=10; total time=   6.5s\n",
      "[LightGBM] [Warning] min_data_in_leaf is set=100, min_child_samples=20 will be ignored. Current value: min_data_in_leaf=100\n"
     ]
    },
    {
     "name": "stderr",
     "output_type": "stream",
     "text": [
      "/home/slazien/.local/share/virtualenvs/linkedin_misinformation-xOmYosQV/lib/python3.8/site-packages/lightgbm/engine.py:177: UserWarning: Found `num_iterations` in params. Will use it instead of argument\n",
      "  _log_warning(f\"Found `{alias}` in params. Will use it instead of argument\")\n"
     ]
    },
    {
     "name": "stdout",
     "output_type": "stream",
     "text": [
      "[CV] END learning_rate=0.01, max_depth=10, min_data_in_leaf=100, num_iterations=500, num_leaves=10; total time=   8.2s\n",
      "[LightGBM] [Warning] min_data_in_leaf is set=100, min_child_samples=20 will be ignored. Current value: min_data_in_leaf=100\n"
     ]
    },
    {
     "name": "stderr",
     "output_type": "stream",
     "text": [
      "/home/slazien/.local/share/virtualenvs/linkedin_misinformation-xOmYosQV/lib/python3.8/site-packages/lightgbm/engine.py:177: UserWarning: Found `num_iterations` in params. Will use it instead of argument\n",
      "  _log_warning(f\"Found `{alias}` in params. Will use it instead of argument\")\n"
     ]
    },
    {
     "name": "stdout",
     "output_type": "stream",
     "text": [
      "[CV] END learning_rate=0.01, max_depth=10, min_data_in_leaf=100, num_iterations=500, num_leaves=50; total time=   7.3s\n",
      "[LightGBM] [Warning] min_data_in_leaf is set=100, min_child_samples=20 will be ignored. Current value: min_data_in_leaf=100\n"
     ]
    },
    {
     "name": "stderr",
     "output_type": "stream",
     "text": [
      "/home/slazien/.local/share/virtualenvs/linkedin_misinformation-xOmYosQV/lib/python3.8/site-packages/lightgbm/engine.py:177: UserWarning: Found `num_iterations` in params. Will use it instead of argument\n",
      "  _log_warning(f\"Found `{alias}` in params. Will use it instead of argument\")\n"
     ]
    },
    {
     "name": "stdout",
     "output_type": "stream",
     "text": [
      "[CV] END learning_rate=0.01, max_depth=10, min_data_in_leaf=100, num_iterations=500, num_leaves=10; total time=   8.5s\n",
      "[LightGBM] [Warning] min_data_in_leaf is set=100, min_child_samples=20 will be ignored. Current value: min_data_in_leaf=100\n"
     ]
    },
    {
     "name": "stderr",
     "output_type": "stream",
     "text": [
      "/home/slazien/.local/share/virtualenvs/linkedin_misinformation-xOmYosQV/lib/python3.8/site-packages/lightgbm/engine.py:177: UserWarning: Found `num_iterations` in params. Will use it instead of argument\n",
      "  _log_warning(f\"Found `{alias}` in params. Will use it instead of argument\")\n"
     ]
    },
    {
     "name": "stdout",
     "output_type": "stream",
     "text": [
      "[CV] END learning_rate=0.01, max_depth=10, min_data_in_leaf=100, num_iterations=500, num_leaves=50; total time=   8.6s\n",
      "[LightGBM] [Warning] min_data_in_leaf is set=100, min_child_samples=20 will be ignored. Current value: min_data_in_leaf=100\n"
     ]
    },
    {
     "name": "stderr",
     "output_type": "stream",
     "text": [
      "/home/slazien/.local/share/virtualenvs/linkedin_misinformation-xOmYosQV/lib/python3.8/site-packages/lightgbm/engine.py:177: UserWarning: Found `num_iterations` in params. Will use it instead of argument\n",
      "  _log_warning(f\"Found `{alias}` in params. Will use it instead of argument\")\n"
     ]
    },
    {
     "name": "stdout",
     "output_type": "stream",
     "text": [
      "[CV] END learning_rate=0.01, max_depth=10, min_data_in_leaf=100, num_iterations=500, num_leaves=50; total time=   8.7s\n",
      "[LightGBM] [Warning] min_data_in_leaf is set=500, min_child_samples=20 will be ignored. Current value: min_data_in_leaf=500\n",
      "[CV] END learning_rate=0.01, max_depth=10, min_data_in_leaf=500, num_iterations=100, num_leaves=10; total time=   0.2s\n",
      "[LightGBM] [Warning] min_data_in_leaf is set=500, min_child_samples=20 will be ignored. Current value: min_data_in_leaf=500\n"
     ]
    },
    {
     "name": "stderr",
     "output_type": "stream",
     "text": [
      "/home/slazien/.local/share/virtualenvs/linkedin_misinformation-xOmYosQV/lib/python3.8/site-packages/lightgbm/engine.py:177: UserWarning: Found `num_iterations` in params. Will use it instead of argument\n",
      "  _log_warning(f\"Found `{alias}` in params. Will use it instead of argument\")\n",
      "/home/slazien/.local/share/virtualenvs/linkedin_misinformation-xOmYosQV/lib/python3.8/site-packages/lightgbm/engine.py:177: UserWarning: Found `num_iterations` in params. Will use it instead of argument\n",
      "  _log_warning(f\"Found `{alias}` in params. Will use it instead of argument\")\n"
     ]
    },
    {
     "name": "stdout",
     "output_type": "stream",
     "text": [
      "[CV] END learning_rate=0.01, max_depth=10, min_data_in_leaf=500, num_iterations=100, num_leaves=10; total time=   0.2s\n",
      "[LightGBM] [Warning] min_data_in_leaf is set=500, min_child_samples=20 will be ignored. Current value: min_data_in_leaf=500\n",
      "[CV] END learning_rate=0.01, max_depth=10, min_data_in_leaf=500, num_iterations=100, num_leaves=10; total time=   0.1s\n",
      "[LightGBM] [Warning] min_data_in_leaf is set=500, min_child_samples=20 will be ignored. Current value: min_data_in_leaf=500\n"
     ]
    },
    {
     "name": "stderr",
     "output_type": "stream",
     "text": [
      "/home/slazien/.local/share/virtualenvs/linkedin_misinformation-xOmYosQV/lib/python3.8/site-packages/lightgbm/engine.py:177: UserWarning: Found `num_iterations` in params. Will use it instead of argument\n",
      "  _log_warning(f\"Found `{alias}` in params. Will use it instead of argument\")\n",
      "/home/slazien/.local/share/virtualenvs/linkedin_misinformation-xOmYosQV/lib/python3.8/site-packages/lightgbm/engine.py:177: UserWarning: Found `num_iterations` in params. Will use it instead of argument\n",
      "  _log_warning(f\"Found `{alias}` in params. Will use it instead of argument\")\n"
     ]
    },
    {
     "name": "stdout",
     "output_type": "stream",
     "text": [
      "[CV] END learning_rate=0.01, max_depth=10, min_data_in_leaf=500, num_iterations=100, num_leaves=10; total time=   0.1s\n",
      "[LightGBM] [Warning] min_data_in_leaf is set=500, min_child_samples=20 will be ignored. Current value: min_data_in_leaf=500\n",
      "[CV] END learning_rate=0.01, max_depth=10, min_data_in_leaf=500, num_iterations=100, num_leaves=10; total time=   0.1s\n",
      "[LightGBM] [Warning] min_data_in_leaf is set=500, min_child_samples=20 will be ignored. Current value: min_data_in_leaf=500\n"
     ]
    },
    {
     "name": "stderr",
     "output_type": "stream",
     "text": [
      "/home/slazien/.local/share/virtualenvs/linkedin_misinformation-xOmYosQV/lib/python3.8/site-packages/lightgbm/engine.py:177: UserWarning: Found `num_iterations` in params. Will use it instead of argument\n",
      "  _log_warning(f\"Found `{alias}` in params. Will use it instead of argument\")\n",
      "/home/slazien/.local/share/virtualenvs/linkedin_misinformation-xOmYosQV/lib/python3.8/site-packages/lightgbm/engine.py:177: UserWarning: Found `num_iterations` in params. Will use it instead of argument\n",
      "  _log_warning(f\"Found `{alias}` in params. Will use it instead of argument\")\n"
     ]
    },
    {
     "name": "stdout",
     "output_type": "stream",
     "text": [
      "[CV] END learning_rate=0.01, max_depth=10, min_data_in_leaf=500, num_iterations=100, num_leaves=50; total time=   0.1s\n",
      "[LightGBM] [Warning] min_data_in_leaf is set=500, min_child_samples=20 will be ignored. Current value: min_data_in_leaf=500\n",
      "[CV] END learning_rate=0.01, max_depth=10, min_data_in_leaf=500, num_iterations=100, num_leaves=50; total time=   0.1s\n",
      "[LightGBM] [Warning] min_data_in_leaf is set=500, min_child_samples=20 will be ignored. Current value: min_data_in_leaf=500\n"
     ]
    },
    {
     "name": "stderr",
     "output_type": "stream",
     "text": [
      "/home/slazien/.local/share/virtualenvs/linkedin_misinformation-xOmYosQV/lib/python3.8/site-packages/lightgbm/engine.py:177: UserWarning: Found `num_iterations` in params. Will use it instead of argument\n",
      "  _log_warning(f\"Found `{alias}` in params. Will use it instead of argument\")\n",
      "/home/slazien/.local/share/virtualenvs/linkedin_misinformation-xOmYosQV/lib/python3.8/site-packages/lightgbm/engine.py:177: UserWarning: Found `num_iterations` in params. Will use it instead of argument\n",
      "  _log_warning(f\"Found `{alias}` in params. Will use it instead of argument\")\n"
     ]
    },
    {
     "name": "stdout",
     "output_type": "stream",
     "text": [
      "[CV] END learning_rate=0.01, max_depth=10, min_data_in_leaf=500, num_iterations=100, num_leaves=50; total time=   0.1s\n",
      "[LightGBM] [Warning] min_data_in_leaf is set=500, min_child_samples=20 will be ignored. Current value: min_data_in_leaf=500\n",
      "[CV] END learning_rate=0.01, max_depth=10, min_data_in_leaf=500, num_iterations=100, num_leaves=50; total time=   0.1s\n",
      "[LightGBM] [Warning] min_data_in_leaf is set=500, min_child_samples=20 will be ignored. Current value: min_data_in_leaf=500\n"
     ]
    },
    {
     "name": "stderr",
     "output_type": "stream",
     "text": [
      "/home/slazien/.local/share/virtualenvs/linkedin_misinformation-xOmYosQV/lib/python3.8/site-packages/lightgbm/engine.py:177: UserWarning: Found `num_iterations` in params. Will use it instead of argument\n",
      "  _log_warning(f\"Found `{alias}` in params. Will use it instead of argument\")\n",
      "/home/slazien/.local/share/virtualenvs/linkedin_misinformation-xOmYosQV/lib/python3.8/site-packages/lightgbm/engine.py:177: UserWarning: Found `num_iterations` in params. Will use it instead of argument\n",
      "  _log_warning(f\"Found `{alias}` in params. Will use it instead of argument\")\n"
     ]
    },
    {
     "name": "stdout",
     "output_type": "stream",
     "text": [
      "[CV] END learning_rate=0.01, max_depth=10, min_data_in_leaf=500, num_iterations=100, num_leaves=50; total time=   0.1s\n",
      "[LightGBM] [Warning] min_data_in_leaf is set=500, min_child_samples=20 will be ignored. Current value: min_data_in_leaf=500\n",
      "[CV] END learning_rate=0.01, max_depth=10, min_data_in_leaf=500, num_iterations=500, num_leaves=10; total time=   0.1s\n",
      "[LightGBM] [Warning] min_data_in_leaf is set=500, min_child_samples=20 will be ignored. Current value: min_data_in_leaf=500\n"
     ]
    },
    {
     "name": "stderr",
     "output_type": "stream",
     "text": [
      "/home/slazien/.local/share/virtualenvs/linkedin_misinformation-xOmYosQV/lib/python3.8/site-packages/lightgbm/engine.py:177: UserWarning: Found `num_iterations` in params. Will use it instead of argument\n",
      "  _log_warning(f\"Found `{alias}` in params. Will use it instead of argument\")\n",
      "/home/slazien/.local/share/virtualenvs/linkedin_misinformation-xOmYosQV/lib/python3.8/site-packages/lightgbm/engine.py:177: UserWarning: Found `num_iterations` in params. Will use it instead of argument\n",
      "  _log_warning(f\"Found `{alias}` in params. Will use it instead of argument\")\n"
     ]
    },
    {
     "name": "stdout",
     "output_type": "stream",
     "text": [
      "[CV] END learning_rate=0.01, max_depth=10, min_data_in_leaf=500, num_iterations=500, num_leaves=10; total time=   0.2s\n",
      "[LightGBM] [Warning] min_data_in_leaf is set=500, min_child_samples=20 will be ignored. Current value: min_data_in_leaf=500\n"
     ]
    },
    {
     "name": "stderr",
     "output_type": "stream",
     "text": [
      "/home/slazien/.local/share/virtualenvs/linkedin_misinformation-xOmYosQV/lib/python3.8/site-packages/lightgbm/engine.py:177: UserWarning: Found `num_iterations` in params. Will use it instead of argument\n",
      "  _log_warning(f\"Found `{alias}` in params. Will use it instead of argument\")\n",
      "/home/slazien/.local/share/virtualenvs/linkedin_misinformation-xOmYosQV/lib/python3.8/site-packages/lightgbm/engine.py:177: UserWarning: Found `num_iterations` in params. Will use it instead of argument\n",
      "  _log_warning(f\"Found `{alias}` in params. Will use it instead of argument\")\n"
     ]
    },
    {
     "name": "stdout",
     "output_type": "stream",
     "text": [
      "[CV] END learning_rate=0.01, max_depth=10, min_data_in_leaf=500, num_iterations=500, num_leaves=10; total time=   0.2s\n",
      "[LightGBM] [Warning] min_data_in_leaf is set=500, min_child_samples=20 will be ignored. Current value: min_data_in_leaf=500\n",
      "[CV] END learning_rate=0.01, max_depth=10, min_data_in_leaf=100, num_iterations=500, num_leaves=50; total time=   9.7s\n",
      "[LightGBM] [Warning] min_data_in_leaf is set=500, min_child_samples=20 will be ignored. Current value: min_data_in_leaf=500\n",
      "[CV] END learning_rate=0.01, max_depth=10, min_data_in_leaf=500, num_iterations=500, num_leaves=10; total time=   0.2s\n",
      "[LightGBM] [Warning] min_data_in_leaf is set=500, min_child_samples=20 will be ignored. Current value: min_data_in_leaf=500\n"
     ]
    },
    {
     "name": "stderr",
     "output_type": "stream",
     "text": [
      "/home/slazien/.local/share/virtualenvs/linkedin_misinformation-xOmYosQV/lib/python3.8/site-packages/lightgbm/engine.py:177: UserWarning: Found `num_iterations` in params. Will use it instead of argument\n",
      "  _log_warning(f\"Found `{alias}` in params. Will use it instead of argument\")\n",
      "/home/slazien/.local/share/virtualenvs/linkedin_misinformation-xOmYosQV/lib/python3.8/site-packages/lightgbm/engine.py:177: UserWarning: Found `num_iterations` in params. Will use it instead of argument\n",
      "  _log_warning(f\"Found `{alias}` in params. Will use it instead of argument\")\n",
      "/home/slazien/.local/share/virtualenvs/linkedin_misinformation-xOmYosQV/lib/python3.8/site-packages/lightgbm/engine.py:177: UserWarning: Found `num_iterations` in params. Will use it instead of argument\n",
      "  _log_warning(f\"Found `{alias}` in params. Will use it instead of argument\")\n",
      "/home/slazien/.local/share/virtualenvs/linkedin_misinformation-xOmYosQV/lib/python3.8/site-packages/lightgbm/engine.py:177: UserWarning: Found `num_iterations` in params. Will use it instead of argument\n",
      "  _log_warning(f\"Found `{alias}` in params. Will use it instead of argument\")\n"
     ]
    },
    {
     "name": "stdout",
     "output_type": "stream",
     "text": [
      "[CV] END learning_rate=0.01, max_depth=10, min_data_in_leaf=500, num_iterations=500, num_leaves=10; total time=   0.2s\n",
      "[LightGBM] [Warning] min_data_in_leaf is set=500, min_child_samples=20 will be ignored. Current value: min_data_in_leaf=500\n",
      "[CV] END learning_rate=0.01, max_depth=10, min_data_in_leaf=500, num_iterations=500, num_leaves=50; total time=   0.1s\n",
      "[LightGBM] [Warning] min_data_in_leaf is set=500, min_child_samples=20 will be ignored. Current value: min_data_in_leaf=500\n",
      "[CV] END learning_rate=0.01, max_depth=10, min_data_in_leaf=500, num_iterations=500, num_leaves=50; total time=   0.1s\n",
      "[LightGBM] [Warning] min_data_in_leaf is set=500, min_child_samples=20 will be ignored. Current value: min_data_in_leaf=500\n"
     ]
    },
    {
     "name": "stderr",
     "output_type": "stream",
     "text": [
      "/home/slazien/.local/share/virtualenvs/linkedin_misinformation-xOmYosQV/lib/python3.8/site-packages/lightgbm/engine.py:177: UserWarning: Found `num_iterations` in params. Will use it instead of argument\n",
      "  _log_warning(f\"Found `{alias}` in params. Will use it instead of argument\")\n",
      "/home/slazien/.local/share/virtualenvs/linkedin_misinformation-xOmYosQV/lib/python3.8/site-packages/lightgbm/engine.py:177: UserWarning: Found `num_iterations` in params. Will use it instead of argument\n",
      "  _log_warning(f\"Found `{alias}` in params. Will use it instead of argument\")\n"
     ]
    },
    {
     "name": "stdout",
     "output_type": "stream",
     "text": [
      "[CV] END learning_rate=0.01, max_depth=10, min_data_in_leaf=500, num_iterations=500, num_leaves=50; total time=   0.2s\n",
      "[LightGBM] [Warning] min_data_in_leaf is set=500, min_child_samples=20 will be ignored. Current value: min_data_in_leaf=500\n",
      "[CV] END learning_rate=0.01, max_depth=10, min_data_in_leaf=500, num_iterations=500, num_leaves=50; total time=   0.2s\n",
      "[LightGBM] [Warning] min_data_in_leaf is set=10, min_child_samples=20 will be ignored. Current value: min_data_in_leaf=10\n",
      "[CV] END learning_rate=0.01, max_depth=10, min_data_in_leaf=500, num_iterations=500, num_leaves=50; total time=   0.2s\n",
      "[LightGBM] [Warning] min_data_in_leaf is set=10, min_child_samples=20 will be ignored. Current value: min_data_in_leaf=10\n"
     ]
    },
    {
     "name": "stderr",
     "output_type": "stream",
     "text": [
      "/home/slazien/.local/share/virtualenvs/linkedin_misinformation-xOmYosQV/lib/python3.8/site-packages/lightgbm/engine.py:177: UserWarning: Found `num_iterations` in params. Will use it instead of argument\n",
      "  _log_warning(f\"Found `{alias}` in params. Will use it instead of argument\")\n",
      "/home/slazien/.local/share/virtualenvs/linkedin_misinformation-xOmYosQV/lib/python3.8/site-packages/lightgbm/engine.py:177: UserWarning: Found `num_iterations` in params. Will use it instead of argument\n",
      "  _log_warning(f\"Found `{alias}` in params. Will use it instead of argument\")\n"
     ]
    },
    {
     "name": "stdout",
     "output_type": "stream",
     "text": [
      "[CV] END learning_rate=0.01, max_depth=10, min_data_in_leaf=100, num_iterations=500, num_leaves=50; total time=   9.3s\n",
      "[LightGBM] [Warning] min_data_in_leaf is set=10, min_child_samples=20 will be ignored. Current value: min_data_in_leaf=10\n"
     ]
    },
    {
     "name": "stderr",
     "output_type": "stream",
     "text": [
      "/home/slazien/.local/share/virtualenvs/linkedin_misinformation-xOmYosQV/lib/python3.8/site-packages/lightgbm/engine.py:177: UserWarning: Found `num_iterations` in params. Will use it instead of argument\n",
      "  _log_warning(f\"Found `{alias}` in params. Will use it instead of argument\")\n"
     ]
    },
    {
     "name": "stdout",
     "output_type": "stream",
     "text": [
      "[CV] END learning_rate=0.1, max_depth=-1, min_data_in_leaf=10, num_iterations=100, num_leaves=10; total time=   8.9s\n",
      "[LightGBM] [Warning] min_data_in_leaf is set=10, min_child_samples=20 will be ignored. Current value: min_data_in_leaf=10\n"
     ]
    },
    {
     "name": "stderr",
     "output_type": "stream",
     "text": [
      "/home/slazien/.local/share/virtualenvs/linkedin_misinformation-xOmYosQV/lib/python3.8/site-packages/lightgbm/engine.py:177: UserWarning: Found `num_iterations` in params. Will use it instead of argument\n",
      "  _log_warning(f\"Found `{alias}` in params. Will use it instead of argument\")\n"
     ]
    },
    {
     "name": "stdout",
     "output_type": "stream",
     "text": [
      "[CV] END learning_rate=0.1, max_depth=-1, min_data_in_leaf=10, num_iterations=100, num_leaves=10; total time=   9.1s\n",
      "[LightGBM] [Warning] min_data_in_leaf is set=10, min_child_samples=20 will be ignored. Current value: min_data_in_leaf=10\n"
     ]
    },
    {
     "name": "stderr",
     "output_type": "stream",
     "text": [
      "/home/slazien/.local/share/virtualenvs/linkedin_misinformation-xOmYosQV/lib/python3.8/site-packages/lightgbm/engine.py:177: UserWarning: Found `num_iterations` in params. Will use it instead of argument\n",
      "  _log_warning(f\"Found `{alias}` in params. Will use it instead of argument\")\n"
     ]
    },
    {
     "name": "stdout",
     "output_type": "stream",
     "text": [
      "[CV] END learning_rate=0.1, max_depth=-1, min_data_in_leaf=10, num_iterations=100, num_leaves=10; total time=   7.8s\n",
      "[LightGBM] [Warning] min_data_in_leaf is set=10, min_child_samples=20 will be ignored. Current value: min_data_in_leaf=10\n"
     ]
    },
    {
     "name": "stderr",
     "output_type": "stream",
     "text": [
      "/home/slazien/.local/share/virtualenvs/linkedin_misinformation-xOmYosQV/lib/python3.8/site-packages/lightgbm/engine.py:177: UserWarning: Found `num_iterations` in params. Will use it instead of argument\n",
      "  _log_warning(f\"Found `{alias}` in params. Will use it instead of argument\")\n"
     ]
    },
    {
     "name": "stdout",
     "output_type": "stream",
     "text": [
      "[CV] END learning_rate=0.1, max_depth=-1, min_data_in_leaf=10, num_iterations=100, num_leaves=10; total time=   7.5s\n",
      "[CV] END learning_rate=0.1, max_depth=-1, min_data_in_leaf=10, num_iterations=100, num_leaves=10; total time=   7.3s\n",
      "[LightGBM] [Warning] min_data_in_leaf is set=10, min_child_samples=20 will be ignored. Current value: min_data_in_leaf=10\n",
      "[LightGBM] [Warning] min_data_in_leaf is set=10, min_child_samples=20 will be ignored. Current value: min_data_in_leaf=10\n"
     ]
    },
    {
     "name": "stderr",
     "output_type": "stream",
     "text": [
      "/home/slazien/.local/share/virtualenvs/linkedin_misinformation-xOmYosQV/lib/python3.8/site-packages/lightgbm/engine.py:177: UserWarning: Found `num_iterations` in params. Will use it instead of argument\n",
      "  _log_warning(f\"Found `{alias}` in params. Will use it instead of argument\")\n",
      "/home/slazien/.local/share/virtualenvs/linkedin_misinformation-xOmYosQV/lib/python3.8/site-packages/lightgbm/engine.py:177: UserWarning: Found `num_iterations` in params. Will use it instead of argument\n",
      "  _log_warning(f\"Found `{alias}` in params. Will use it instead of argument\")\n"
     ]
    },
    {
     "name": "stdout",
     "output_type": "stream",
     "text": [
      "[CV] END learning_rate=0.01, max_depth=10, min_data_in_leaf=10, num_iterations=500, num_leaves=50; total time= 1.4min\n",
      "[LightGBM] [Warning] min_data_in_leaf is set=10, min_child_samples=20 will be ignored. Current value: min_data_in_leaf=10\n"
     ]
    },
    {
     "name": "stderr",
     "output_type": "stream",
     "text": [
      "/home/slazien/.local/share/virtualenvs/linkedin_misinformation-xOmYosQV/lib/python3.8/site-packages/lightgbm/engine.py:177: UserWarning: Found `num_iterations` in params. Will use it instead of argument\n",
      "  _log_warning(f\"Found `{alias}` in params. Will use it instead of argument\")\n"
     ]
    },
    {
     "name": "stdout",
     "output_type": "stream",
     "text": [
      "[CV] END learning_rate=0.1, max_depth=-1, min_data_in_leaf=10, num_iterations=100, num_leaves=50; total time=  20.8s\n",
      "[LightGBM] [Warning] min_data_in_leaf is set=10, min_child_samples=20 will be ignored. Current value: min_data_in_leaf=10\n",
      "[CV] END learning_rate=0.1, max_depth=-1, min_data_in_leaf=10, num_iterations=100, num_leaves=50; total time=  18.6s\n",
      "[LightGBM] [Warning] min_data_in_leaf is set=10, min_child_samples=20 will be ignored. Current value: min_data_in_leaf=10\n"
     ]
    },
    {
     "name": "stderr",
     "output_type": "stream",
     "text": [
      "/home/slazien/.local/share/virtualenvs/linkedin_misinformation-xOmYosQV/lib/python3.8/site-packages/lightgbm/engine.py:177: UserWarning: Found `num_iterations` in params. Will use it instead of argument\n",
      "  _log_warning(f\"Found `{alias}` in params. Will use it instead of argument\")\n",
      "/home/slazien/.local/share/virtualenvs/linkedin_misinformation-xOmYosQV/lib/python3.8/site-packages/lightgbm/engine.py:177: UserWarning: Found `num_iterations` in params. Will use it instead of argument\n",
      "  _log_warning(f\"Found `{alias}` in params. Will use it instead of argument\")\n"
     ]
    },
    {
     "name": "stdout",
     "output_type": "stream",
     "text": [
      "[CV] END learning_rate=0.01, max_depth=10, min_data_in_leaf=10, num_iterations=500, num_leaves=50; total time= 1.5min\n",
      "[LightGBM] [Warning] min_data_in_leaf is set=10, min_child_samples=20 will be ignored. Current value: min_data_in_leaf=10\n",
      "[CV] END learning_rate=0.1, max_depth=-1, min_data_in_leaf=10, num_iterations=100, num_leaves=50; total time=  21.1s\n",
      "[LightGBM] [Warning] min_data_in_leaf is set=10, min_child_samples=20 will be ignored. Current value: min_data_in_leaf=10\n"
     ]
    },
    {
     "name": "stderr",
     "output_type": "stream",
     "text": [
      "/home/slazien/.local/share/virtualenvs/linkedin_misinformation-xOmYosQV/lib/python3.8/site-packages/lightgbm/engine.py:177: UserWarning: Found `num_iterations` in params. Will use it instead of argument\n",
      "  _log_warning(f\"Found `{alias}` in params. Will use it instead of argument\")\n",
      "/home/slazien/.local/share/virtualenvs/linkedin_misinformation-xOmYosQV/lib/python3.8/site-packages/lightgbm/engine.py:177: UserWarning: Found `num_iterations` in params. Will use it instead of argument\n",
      "  _log_warning(f\"Found `{alias}` in params. Will use it instead of argument\")\n"
     ]
    },
    {
     "name": "stdout",
     "output_type": "stream",
     "text": [
      "[CV] END learning_rate=0.01, max_depth=10, min_data_in_leaf=10, num_iterations=500, num_leaves=50; total time= 1.5min\n",
      "[LightGBM] [Warning] min_data_in_leaf is set=10, min_child_samples=20 will be ignored. Current value: min_data_in_leaf=10\n"
     ]
    },
    {
     "name": "stderr",
     "output_type": "stream",
     "text": [
      "/home/slazien/.local/share/virtualenvs/linkedin_misinformation-xOmYosQV/lib/python3.8/site-packages/lightgbm/engine.py:177: UserWarning: Found `num_iterations` in params. Will use it instead of argument\n",
      "  _log_warning(f\"Found `{alias}` in params. Will use it instead of argument\")\n"
     ]
    },
    {
     "name": "stdout",
     "output_type": "stream",
     "text": [
      "[CV] END learning_rate=0.1, max_depth=-1, min_data_in_leaf=10, num_iterations=100, num_leaves=50; total time=  19.3s\n",
      "[LightGBM] [Warning] min_data_in_leaf is set=10, min_child_samples=20 will be ignored. Current value: min_data_in_leaf=10\n"
     ]
    },
    {
     "name": "stderr",
     "output_type": "stream",
     "text": [
      "/home/slazien/.local/share/virtualenvs/linkedin_misinformation-xOmYosQV/lib/python3.8/site-packages/lightgbm/engine.py:177: UserWarning: Found `num_iterations` in params. Will use it instead of argument\n",
      "  _log_warning(f\"Found `{alias}` in params. Will use it instead of argument\")\n"
     ]
    },
    {
     "name": "stdout",
     "output_type": "stream",
     "text": [
      "[CV] END learning_rate=0.01, max_depth=10, min_data_in_leaf=10, num_iterations=500, num_leaves=50; total time= 1.5min\n",
      "[LightGBM] [Warning] min_data_in_leaf is set=10, min_child_samples=20 will be ignored. Current value: min_data_in_leaf=10\n"
     ]
    },
    {
     "name": "stderr",
     "output_type": "stream",
     "text": [
      "/home/slazien/.local/share/virtualenvs/linkedin_misinformation-xOmYosQV/lib/python3.8/site-packages/lightgbm/engine.py:177: UserWarning: Found `num_iterations` in params. Will use it instead of argument\n",
      "  _log_warning(f\"Found `{alias}` in params. Will use it instead of argument\")\n"
     ]
    },
    {
     "name": "stdout",
     "output_type": "stream",
     "text": [
      "[CV] END learning_rate=0.1, max_depth=-1, min_data_in_leaf=10, num_iterations=100, num_leaves=50; total time=  19.4s\n",
      "[LightGBM] [Warning] min_data_in_leaf is set=10, min_child_samples=20 will be ignored. Current value: min_data_in_leaf=10\n",
      "[CV] END learning_rate=0.01, max_depth=10, min_data_in_leaf=10, num_iterations=500, num_leaves=50; total time= 1.5min\n",
      "[LightGBM] [Warning] min_data_in_leaf is set=10, min_child_samples=20 will be ignored. Current value: min_data_in_leaf=10\n"
     ]
    },
    {
     "name": "stderr",
     "output_type": "stream",
     "text": [
      "/home/slazien/.local/share/virtualenvs/linkedin_misinformation-xOmYosQV/lib/python3.8/site-packages/lightgbm/engine.py:177: UserWarning: Found `num_iterations` in params. Will use it instead of argument\n",
      "  _log_warning(f\"Found `{alias}` in params. Will use it instead of argument\")\n",
      "/home/slazien/.local/share/virtualenvs/linkedin_misinformation-xOmYosQV/lib/python3.8/site-packages/lightgbm/engine.py:177: UserWarning: Found `num_iterations` in params. Will use it instead of argument\n",
      "  _log_warning(f\"Found `{alias}` in params. Will use it instead of argument\")\n"
     ]
    },
    {
     "name": "stdout",
     "output_type": "stream",
     "text": [
      "[CV] END learning_rate=0.1, max_depth=-1, min_data_in_leaf=10, num_iterations=500, num_leaves=10; total time=  24.3s\n",
      "[LightGBM] [Warning] min_data_in_leaf is set=10, min_child_samples=20 will be ignored. Current value: min_data_in_leaf=10\n"
     ]
    },
    {
     "name": "stderr",
     "output_type": "stream",
     "text": [
      "/home/slazien/.local/share/virtualenvs/linkedin_misinformation-xOmYosQV/lib/python3.8/site-packages/lightgbm/engine.py:177: UserWarning: Found `num_iterations` in params. Will use it instead of argument\n",
      "  _log_warning(f\"Found `{alias}` in params. Will use it instead of argument\")\n"
     ]
    },
    {
     "name": "stdout",
     "output_type": "stream",
     "text": [
      "[CV] END learning_rate=0.1, max_depth=-1, min_data_in_leaf=10, num_iterations=500, num_leaves=10; total time=  23.1s\n",
      "[LightGBM] [Warning] min_data_in_leaf is set=10, min_child_samples=20 will be ignored. Current value: min_data_in_leaf=10\n"
     ]
    },
    {
     "name": "stderr",
     "output_type": "stream",
     "text": [
      "/home/slazien/.local/share/virtualenvs/linkedin_misinformation-xOmYosQV/lib/python3.8/site-packages/lightgbm/engine.py:177: UserWarning: Found `num_iterations` in params. Will use it instead of argument\n",
      "  _log_warning(f\"Found `{alias}` in params. Will use it instead of argument\")\n"
     ]
    },
    {
     "name": "stdout",
     "output_type": "stream",
     "text": [
      "[CV] END learning_rate=0.1, max_depth=-1, min_data_in_leaf=10, num_iterations=500, num_leaves=10; total time=  25.6s\n",
      "[LightGBM] [Warning] min_data_in_leaf is set=100, min_child_samples=20 will be ignored. Current value: min_data_in_leaf=100\n"
     ]
    },
    {
     "name": "stderr",
     "output_type": "stream",
     "text": [
      "/home/slazien/.local/share/virtualenvs/linkedin_misinformation-xOmYosQV/lib/python3.8/site-packages/lightgbm/engine.py:177: UserWarning: Found `num_iterations` in params. Will use it instead of argument\n",
      "  _log_warning(f\"Found `{alias}` in params. Will use it instead of argument\")\n"
     ]
    },
    {
     "name": "stdout",
     "output_type": "stream",
     "text": [
      "[CV] END learning_rate=0.1, max_depth=-1, min_data_in_leaf=10, num_iterations=500, num_leaves=10; total time=  24.3s\n",
      "[LightGBM] [Warning] min_data_in_leaf is set=100, min_child_samples=20 will be ignored. Current value: min_data_in_leaf=100\n"
     ]
    },
    {
     "name": "stderr",
     "output_type": "stream",
     "text": [
      "/home/slazien/.local/share/virtualenvs/linkedin_misinformation-xOmYosQV/lib/python3.8/site-packages/lightgbm/engine.py:177: UserWarning: Found `num_iterations` in params. Will use it instead of argument\n",
      "  _log_warning(f\"Found `{alias}` in params. Will use it instead of argument\")\n"
     ]
    },
    {
     "name": "stdout",
     "output_type": "stream",
     "text": [
      "[CV] END learning_rate=0.1, max_depth=-1, min_data_in_leaf=100, num_iterations=100, num_leaves=10; total time=   1.8s\n",
      "[CV] END learning_rate=0.1, max_depth=-1, min_data_in_leaf=100, num_iterations=100, num_leaves=10; total time=   2.3s\n",
      "[LightGBM] [Warning] min_data_in_leaf is set=100, min_child_samples=20 will be ignored. Current value: min_data_in_leaf=100\n",
      "[LightGBM] [Warning] min_data_in_leaf is set=100, min_child_samples=20 will be ignored. Current value: min_data_in_leaf=100\n"
     ]
    },
    {
     "name": "stderr",
     "output_type": "stream",
     "text": [
      "/home/slazien/.local/share/virtualenvs/linkedin_misinformation-xOmYosQV/lib/python3.8/site-packages/lightgbm/engine.py:177: UserWarning: Found `num_iterations` in params. Will use it instead of argument\n",
      "  _log_warning(f\"Found `{alias}` in params. Will use it instead of argument\")\n",
      "/home/slazien/.local/share/virtualenvs/linkedin_misinformation-xOmYosQV/lib/python3.8/site-packages/lightgbm/engine.py:177: UserWarning: Found `num_iterations` in params. Will use it instead of argument\n",
      "  _log_warning(f\"Found `{alias}` in params. Will use it instead of argument\")\n"
     ]
    },
    {
     "name": "stdout",
     "output_type": "stream",
     "text": [
      "[CV] END learning_rate=0.1, max_depth=-1, min_data_in_leaf=100, num_iterations=100, num_leaves=10; total time=   1.6s\n",
      "[LightGBM] [Warning] min_data_in_leaf is set=100, min_child_samples=20 will be ignored. Current value: min_data_in_leaf=100\n",
      "[CV] END learning_rate=0.1, max_depth=-1, min_data_in_leaf=100, num_iterations=100, num_leaves=10; total time=   1.6s\n",
      "[LightGBM] [Warning] min_data_in_leaf is set=100, min_child_samples=20 will be ignored. Current value: min_data_in_leaf=100\n"
     ]
    },
    {
     "name": "stderr",
     "output_type": "stream",
     "text": [
      "/home/slazien/.local/share/virtualenvs/linkedin_misinformation-xOmYosQV/lib/python3.8/site-packages/lightgbm/engine.py:177: UserWarning: Found `num_iterations` in params. Will use it instead of argument\n",
      "  _log_warning(f\"Found `{alias}` in params. Will use it instead of argument\")\n",
      "/home/slazien/.local/share/virtualenvs/linkedin_misinformation-xOmYosQV/lib/python3.8/site-packages/lightgbm/engine.py:177: UserWarning: Found `num_iterations` in params. Will use it instead of argument\n",
      "  _log_warning(f\"Found `{alias}` in params. Will use it instead of argument\")\n"
     ]
    },
    {
     "name": "stdout",
     "output_type": "stream",
     "text": [
      "[CV] END learning_rate=0.1, max_depth=-1, min_data_in_leaf=100, num_iterations=100, num_leaves=10; total time=   1.6s\n",
      "[LightGBM] [Warning] min_data_in_leaf is set=100, min_child_samples=20 will be ignored. Current value: min_data_in_leaf=100\n"
     ]
    },
    {
     "name": "stderr",
     "output_type": "stream",
     "text": [
      "/home/slazien/.local/share/virtualenvs/linkedin_misinformation-xOmYosQV/lib/python3.8/site-packages/lightgbm/engine.py:177: UserWarning: Found `num_iterations` in params. Will use it instead of argument\n",
      "  _log_warning(f\"Found `{alias}` in params. Will use it instead of argument\")\n"
     ]
    },
    {
     "name": "stdout",
     "output_type": "stream",
     "text": [
      "[CV] END learning_rate=0.1, max_depth=-1, min_data_in_leaf=100, num_iterations=100, num_leaves=50; total time=   1.8s\n",
      "[LightGBM] [Warning] min_data_in_leaf is set=100, min_child_samples=20 will be ignored. Current value: min_data_in_leaf=100\n"
     ]
    },
    {
     "name": "stderr",
     "output_type": "stream",
     "text": [
      "/home/slazien/.local/share/virtualenvs/linkedin_misinformation-xOmYosQV/lib/python3.8/site-packages/lightgbm/engine.py:177: UserWarning: Found `num_iterations` in params. Will use it instead of argument\n",
      "  _log_warning(f\"Found `{alias}` in params. Will use it instead of argument\")\n"
     ]
    },
    {
     "name": "stdout",
     "output_type": "stream",
     "text": [
      "[CV] END learning_rate=0.1, max_depth=-1, min_data_in_leaf=100, num_iterations=100, num_leaves=50; total time=   1.7s\n",
      "[LightGBM] [Warning] min_data_in_leaf is set=100, min_child_samples=20 will be ignored. Current value: min_data_in_leaf=100\n"
     ]
    },
    {
     "name": "stderr",
     "output_type": "stream",
     "text": [
      "/home/slazien/.local/share/virtualenvs/linkedin_misinformation-xOmYosQV/lib/python3.8/site-packages/lightgbm/engine.py:177: UserWarning: Found `num_iterations` in params. Will use it instead of argument\n",
      "  _log_warning(f\"Found `{alias}` in params. Will use it instead of argument\")\n"
     ]
    },
    {
     "name": "stdout",
     "output_type": "stream",
     "text": [
      "[CV] END learning_rate=0.1, max_depth=-1, min_data_in_leaf=100, num_iterations=100, num_leaves=50; total time=   1.9s\n",
      "[LightGBM] [Warning] min_data_in_leaf is set=100, min_child_samples=20 will be ignored. Current value: min_data_in_leaf=100\n"
     ]
    },
    {
     "name": "stderr",
     "output_type": "stream",
     "text": [
      "/home/slazien/.local/share/virtualenvs/linkedin_misinformation-xOmYosQV/lib/python3.8/site-packages/lightgbm/engine.py:177: UserWarning: Found `num_iterations` in params. Will use it instead of argument\n",
      "  _log_warning(f\"Found `{alias}` in params. Will use it instead of argument\")\n"
     ]
    },
    {
     "name": "stdout",
     "output_type": "stream",
     "text": [
      "[CV] END learning_rate=0.1, max_depth=-1, min_data_in_leaf=100, num_iterations=100, num_leaves=50; total time=   2.0s\n",
      "[LightGBM] [Warning] min_data_in_leaf is set=100, min_child_samples=20 will be ignored. Current value: min_data_in_leaf=100\n"
     ]
    },
    {
     "name": "stderr",
     "output_type": "stream",
     "text": [
      "/home/slazien/.local/share/virtualenvs/linkedin_misinformation-xOmYosQV/lib/python3.8/site-packages/lightgbm/engine.py:177: UserWarning: Found `num_iterations` in params. Will use it instead of argument\n",
      "  _log_warning(f\"Found `{alias}` in params. Will use it instead of argument\")\n"
     ]
    },
    {
     "name": "stdout",
     "output_type": "stream",
     "text": [
      "[CV] END learning_rate=0.1, max_depth=-1, min_data_in_leaf=100, num_iterations=100, num_leaves=50; total time=   2.1s\n",
      "[LightGBM] [Warning] min_data_in_leaf is set=100, min_child_samples=20 will be ignored. Current value: min_data_in_leaf=100\n"
     ]
    },
    {
     "name": "stderr",
     "output_type": "stream",
     "text": [
      "/home/slazien/.local/share/virtualenvs/linkedin_misinformation-xOmYosQV/lib/python3.8/site-packages/lightgbm/engine.py:177: UserWarning: Found `num_iterations` in params. Will use it instead of argument\n",
      "  _log_warning(f\"Found `{alias}` in params. Will use it instead of argument\")\n"
     ]
    },
    {
     "name": "stdout",
     "output_type": "stream",
     "text": [
      "[CV] END learning_rate=0.1, max_depth=-1, min_data_in_leaf=10, num_iterations=500, num_leaves=10; total time=  24.5s\n",
      "[LightGBM] [Warning] min_data_in_leaf is set=100, min_child_samples=20 will be ignored. Current value: min_data_in_leaf=100\n"
     ]
    },
    {
     "name": "stderr",
     "output_type": "stream",
     "text": [
      "/home/slazien/.local/share/virtualenvs/linkedin_misinformation-xOmYosQV/lib/python3.8/site-packages/lightgbm/engine.py:177: UserWarning: Found `num_iterations` in params. Will use it instead of argument\n",
      "  _log_warning(f\"Found `{alias}` in params. Will use it instead of argument\")\n"
     ]
    },
    {
     "name": "stdout",
     "output_type": "stream",
     "text": [
      "[CV] END learning_rate=0.1, max_depth=-1, min_data_in_leaf=100, num_iterations=500, num_leaves=10; total time=   7.8s\n",
      "[LightGBM] [Warning] min_data_in_leaf is set=100, min_child_samples=20 will be ignored. Current value: min_data_in_leaf=100\n"
     ]
    },
    {
     "name": "stderr",
     "output_type": "stream",
     "text": [
      "/home/slazien/.local/share/virtualenvs/linkedin_misinformation-xOmYosQV/lib/python3.8/site-packages/lightgbm/engine.py:177: UserWarning: Found `num_iterations` in params. Will use it instead of argument\n",
      "  _log_warning(f\"Found `{alias}` in params. Will use it instead of argument\")\n"
     ]
    },
    {
     "name": "stdout",
     "output_type": "stream",
     "text": [
      "[CV] END learning_rate=0.1, max_depth=-1, min_data_in_leaf=100, num_iterations=500, num_leaves=10; total time=   7.8s\n",
      "[LightGBM] [Warning] min_data_in_leaf is set=100, min_child_samples=20 will be ignored. Current value: min_data_in_leaf=100\n"
     ]
    },
    {
     "name": "stderr",
     "output_type": "stream",
     "text": [
      "/home/slazien/.local/share/virtualenvs/linkedin_misinformation-xOmYosQV/lib/python3.8/site-packages/lightgbm/engine.py:177: UserWarning: Found `num_iterations` in params. Will use it instead of argument\n",
      "  _log_warning(f\"Found `{alias}` in params. Will use it instead of argument\")\n"
     ]
    },
    {
     "name": "stdout",
     "output_type": "stream",
     "text": [
      "[CV] END learning_rate=0.1, max_depth=-1, min_data_in_leaf=100, num_iterations=500, num_leaves=10; total time=   8.2s\n",
      "[LightGBM] [Warning] min_data_in_leaf is set=100, min_child_samples=20 will be ignored. Current value: min_data_in_leaf=100\n"
     ]
    },
    {
     "name": "stderr",
     "output_type": "stream",
     "text": [
      "/home/slazien/.local/share/virtualenvs/linkedin_misinformation-xOmYosQV/lib/python3.8/site-packages/lightgbm/engine.py:177: UserWarning: Found `num_iterations` in params. Will use it instead of argument\n",
      "  _log_warning(f\"Found `{alias}` in params. Will use it instead of argument\")\n"
     ]
    },
    {
     "name": "stdout",
     "output_type": "stream",
     "text": [
      "[CV] END learning_rate=0.1, max_depth=-1, min_data_in_leaf=10, num_iterations=500, num_leaves=50; total time=  33.8s\n",
      "[LightGBM] [Warning] min_data_in_leaf is set=100, min_child_samples=20 will be ignored. Current value: min_data_in_leaf=100\n"
     ]
    },
    {
     "name": "stderr",
     "output_type": "stream",
     "text": [
      "/home/slazien/.local/share/virtualenvs/linkedin_misinformation-xOmYosQV/lib/python3.8/site-packages/lightgbm/engine.py:177: UserWarning: Found `num_iterations` in params. Will use it instead of argument\n",
      "  _log_warning(f\"Found `{alias}` in params. Will use it instead of argument\")\n"
     ]
    },
    {
     "name": "stdout",
     "output_type": "stream",
     "text": [
      "[CV] END learning_rate=0.1, max_depth=-1, min_data_in_leaf=10, num_iterations=500, num_leaves=50; total time=  32.5s\n",
      "[LightGBM] [Warning] min_data_in_leaf is set=100, min_child_samples=20 will be ignored. Current value: min_data_in_leaf=100\n"
     ]
    },
    {
     "name": "stderr",
     "output_type": "stream",
     "text": [
      "/home/slazien/.local/share/virtualenvs/linkedin_misinformation-xOmYosQV/lib/python3.8/site-packages/lightgbm/engine.py:177: UserWarning: Found `num_iterations` in params. Will use it instead of argument\n",
      "  _log_warning(f\"Found `{alias}` in params. Will use it instead of argument\")\n"
     ]
    },
    {
     "name": "stdout",
     "output_type": "stream",
     "text": [
      "[CV] END learning_rate=0.1, max_depth=-1, min_data_in_leaf=10, num_iterations=500, num_leaves=50; total time=  33.1s\n",
      "[LightGBM] [Warning] min_data_in_leaf is set=100, min_child_samples=20 will be ignored. Current value: min_data_in_leaf=100\n"
     ]
    },
    {
     "name": "stderr",
     "output_type": "stream",
     "text": [
      "/home/slazien/.local/share/virtualenvs/linkedin_misinformation-xOmYosQV/lib/python3.8/site-packages/lightgbm/engine.py:177: UserWarning: Found `num_iterations` in params. Will use it instead of argument\n",
      "  _log_warning(f\"Found `{alias}` in params. Will use it instead of argument\")\n"
     ]
    },
    {
     "name": "stdout",
     "output_type": "stream",
     "text": [
      "[CV] END learning_rate=0.1, max_depth=-1, min_data_in_leaf=100, num_iterations=500, num_leaves=10; total time=   8.2s\n",
      "[LightGBM] [Warning] min_data_in_leaf is set=100, min_child_samples=20 will be ignored. Current value: min_data_in_leaf=100\n"
     ]
    },
    {
     "name": "stderr",
     "output_type": "stream",
     "text": [
      "/home/slazien/.local/share/virtualenvs/linkedin_misinformation-xOmYosQV/lib/python3.8/site-packages/lightgbm/engine.py:177: UserWarning: Found `num_iterations` in params. Will use it instead of argument\n",
      "  _log_warning(f\"Found `{alias}` in params. Will use it instead of argument\")\n"
     ]
    },
    {
     "name": "stdout",
     "output_type": "stream",
     "text": [
      "[CV] END learning_rate=0.1, max_depth=-1, min_data_in_leaf=100, num_iterations=500, num_leaves=10; total time=   8.6s\n",
      "[LightGBM] [Warning] min_data_in_leaf is set=500, min_child_samples=20 will be ignored. Current value: min_data_in_leaf=500\n",
      "[CV] END learning_rate=0.1, max_depth=-1, min_data_in_leaf=500, num_iterations=100, num_leaves=10; total time=   0.1s\n",
      "[LightGBM] [Warning] min_data_in_leaf is set=500, min_child_samples=20 will be ignored. Current value: min_data_in_leaf=500\n"
     ]
    },
    {
     "name": "stderr",
     "output_type": "stream",
     "text": [
      "/home/slazien/.local/share/virtualenvs/linkedin_misinformation-xOmYosQV/lib/python3.8/site-packages/lightgbm/engine.py:177: UserWarning: Found `num_iterations` in params. Will use it instead of argument\n",
      "  _log_warning(f\"Found `{alias}` in params. Will use it instead of argument\")\n",
      "/home/slazien/.local/share/virtualenvs/linkedin_misinformation-xOmYosQV/lib/python3.8/site-packages/lightgbm/engine.py:177: UserWarning: Found `num_iterations` in params. Will use it instead of argument\n",
      "  _log_warning(f\"Found `{alias}` in params. Will use it instead of argument\")\n",
      "/home/slazien/.local/share/virtualenvs/linkedin_misinformation-xOmYosQV/lib/python3.8/site-packages/lightgbm/engine.py:177: UserWarning: Found `num_iterations` in params. Will use it instead of argument\n",
      "  _log_warning(f\"Found `{alias}` in params. Will use it instead of argument\")\n"
     ]
    },
    {
     "name": "stdout",
     "output_type": "stream",
     "text": [
      "[CV] END learning_rate=0.1, max_depth=-1, min_data_in_leaf=500, num_iterations=100, num_leaves=10; total time=   0.1s\n",
      "[LightGBM] [Warning] min_data_in_leaf is set=500, min_child_samples=20 will be ignored. Current value: min_data_in_leaf=500\n",
      "[CV] END learning_rate=0.1, max_depth=-1, min_data_in_leaf=500, num_iterations=100, num_leaves=10; total time=   0.1s\n",
      "[LightGBM] [Warning] min_data_in_leaf is set=500, min_child_samples=20 will be ignored. Current value: min_data_in_leaf=500\n",
      "[CV] END learning_rate=0.1, max_depth=-1, min_data_in_leaf=500, num_iterations=100, num_leaves=10; total time=   0.1s\n"
     ]
    },
    {
     "name": "stderr",
     "output_type": "stream",
     "text": [
      "/home/slazien/.local/share/virtualenvs/linkedin_misinformation-xOmYosQV/lib/python3.8/site-packages/lightgbm/engine.py:177: UserWarning: Found `num_iterations` in params. Will use it instead of argument\n",
      "  _log_warning(f\"Found `{alias}` in params. Will use it instead of argument\")\n",
      "/home/slazien/.local/share/virtualenvs/linkedin_misinformation-xOmYosQV/lib/python3.8/site-packages/lightgbm/engine.py:177: UserWarning: Found `num_iterations` in params. Will use it instead of argument\n",
      "  _log_warning(f\"Found `{alias}` in params. Will use it instead of argument\")\n"
     ]
    },
    {
     "name": "stdout",
     "output_type": "stream",
     "text": [
      "[LightGBM] [Warning] min_data_in_leaf is set=500, min_child_samples=20 will be ignored. Current value: min_data_in_leaf=500\n",
      "[CV] END learning_rate=0.1, max_depth=-1, min_data_in_leaf=500, num_iterations=100, num_leaves=10; total time=   0.1s\n",
      "[LightGBM] [Warning] min_data_in_leaf is set=500, min_child_samples=20 will be ignored. Current value: min_data_in_leaf=500\n"
     ]
    },
    {
     "name": "stderr",
     "output_type": "stream",
     "text": [
      "/home/slazien/.local/share/virtualenvs/linkedin_misinformation-xOmYosQV/lib/python3.8/site-packages/lightgbm/engine.py:177: UserWarning: Found `num_iterations` in params. Will use it instead of argument\n",
      "  _log_warning(f\"Found `{alias}` in params. Will use it instead of argument\")\n",
      "/home/slazien/.local/share/virtualenvs/linkedin_misinformation-xOmYosQV/lib/python3.8/site-packages/lightgbm/engine.py:177: UserWarning: Found `num_iterations` in params. Will use it instead of argument\n",
      "  _log_warning(f\"Found `{alias}` in params. Will use it instead of argument\")\n"
     ]
    },
    {
     "name": "stdout",
     "output_type": "stream",
     "text": [
      "[CV] END learning_rate=0.1, max_depth=-1, min_data_in_leaf=500, num_iterations=100, num_leaves=50; total time=   0.1s\n",
      "[LightGBM] [Warning] min_data_in_leaf is set=500, min_child_samples=20 will be ignored. Current value: min_data_in_leaf=500\n",
      "[CV] END learning_rate=0.1, max_depth=-1, min_data_in_leaf=500, num_iterations=100, num_leaves=50; total time=   0.1s\n",
      "[LightGBM] [Warning] min_data_in_leaf is set=500, min_child_samples=20 will be ignored. Current value: min_data_in_leaf=500\n",
      "[CV] END learning_rate=0.1, max_depth=-1, min_data_in_leaf=500, num_iterations=100, num_leaves=50; total time=   0.1s\n",
      "[LightGBM] [Warning] min_data_in_leaf is set=500, min_child_samples=20 will be ignored. Current value: min_data_in_leaf=500\n"
     ]
    },
    {
     "name": "stderr",
     "output_type": "stream",
     "text": [
      "/home/slazien/.local/share/virtualenvs/linkedin_misinformation-xOmYosQV/lib/python3.8/site-packages/lightgbm/engine.py:177: UserWarning: Found `num_iterations` in params. Will use it instead of argument\n",
      "  _log_warning(f\"Found `{alias}` in params. Will use it instead of argument\")\n",
      "/home/slazien/.local/share/virtualenvs/linkedin_misinformation-xOmYosQV/lib/python3.8/site-packages/lightgbm/engine.py:177: UserWarning: Found `num_iterations` in params. Will use it instead of argument\n",
      "  _log_warning(f\"Found `{alias}` in params. Will use it instead of argument\")\n",
      "/home/slazien/.local/share/virtualenvs/linkedin_misinformation-xOmYosQV/lib/python3.8/site-packages/lightgbm/engine.py:177: UserWarning: Found `num_iterations` in params. Will use it instead of argument\n",
      "  _log_warning(f\"Found `{alias}` in params. Will use it instead of argument\")\n"
     ]
    },
    {
     "name": "stdout",
     "output_type": "stream",
     "text": [
      "[CV] END learning_rate=0.1, max_depth=-1, min_data_in_leaf=500, num_iterations=100, num_leaves=50; total time=   0.1s\n",
      "[LightGBM] [Warning] min_data_in_leaf is set=500, min_child_samples=20 will be ignored. Current value: min_data_in_leaf=500\n",
      "[CV] END learning_rate=0.1, max_depth=-1, min_data_in_leaf=500, num_iterations=100, num_leaves=50; total time=   0.1s\n",
      "[LightGBM] [Warning] min_data_in_leaf is set=500, min_child_samples=20 will be ignored. Current value: min_data_in_leaf=500\n"
     ]
    },
    {
     "name": "stderr",
     "output_type": "stream",
     "text": [
      "/home/slazien/.local/share/virtualenvs/linkedin_misinformation-xOmYosQV/lib/python3.8/site-packages/lightgbm/engine.py:177: UserWarning: Found `num_iterations` in params. Will use it instead of argument\n",
      "  _log_warning(f\"Found `{alias}` in params. Will use it instead of argument\")\n",
      "/home/slazien/.local/share/virtualenvs/linkedin_misinformation-xOmYosQV/lib/python3.8/site-packages/lightgbm/engine.py:177: UserWarning: Found `num_iterations` in params. Will use it instead of argument\n",
      "  _log_warning(f\"Found `{alias}` in params. Will use it instead of argument\")\n"
     ]
    },
    {
     "name": "stdout",
     "output_type": "stream",
     "text": [
      "[CV] END learning_rate=0.1, max_depth=-1, min_data_in_leaf=500, num_iterations=500, num_leaves=10; total time=   0.1s\n",
      "[LightGBM] [Warning] min_data_in_leaf is set=500, min_child_samples=20 will be ignored. Current value: min_data_in_leaf=500\n",
      "[CV] END learning_rate=0.1, max_depth=-1, min_data_in_leaf=500, num_iterations=500, num_leaves=10; total time=   0.1s\n",
      "[LightGBM] [Warning] min_data_in_leaf is set=500, min_child_samples=20 will be ignored. Current value: min_data_in_leaf=500\n"
     ]
    },
    {
     "name": "stderr",
     "output_type": "stream",
     "text": [
      "/home/slazien/.local/share/virtualenvs/linkedin_misinformation-xOmYosQV/lib/python3.8/site-packages/lightgbm/engine.py:177: UserWarning: Found `num_iterations` in params. Will use it instead of argument\n",
      "  _log_warning(f\"Found `{alias}` in params. Will use it instead of argument\")\n",
      "/home/slazien/.local/share/virtualenvs/linkedin_misinformation-xOmYosQV/lib/python3.8/site-packages/lightgbm/engine.py:177: UserWarning: Found `num_iterations` in params. Will use it instead of argument\n",
      "  _log_warning(f\"Found `{alias}` in params. Will use it instead of argument\")\n"
     ]
    },
    {
     "name": "stdout",
     "output_type": "stream",
     "text": [
      "[CV] END learning_rate=0.1, max_depth=-1, min_data_in_leaf=500, num_iterations=500, num_leaves=10; total time=   0.1s\n",
      "[LightGBM] [Warning] min_data_in_leaf is set=500, min_child_samples=20 will be ignored. Current value: min_data_in_leaf=500\n",
      "[CV] END learning_rate=0.1, max_depth=-1, min_data_in_leaf=500, num_iterations=500, num_leaves=10; total time=   0.1s\n",
      "[LightGBM] [Warning] min_data_in_leaf is set=500, min_child_samples=20 will be ignored. Current value: min_data_in_leaf=500\n"
     ]
    },
    {
     "name": "stderr",
     "output_type": "stream",
     "text": [
      "/home/slazien/.local/share/virtualenvs/linkedin_misinformation-xOmYosQV/lib/python3.8/site-packages/lightgbm/engine.py:177: UserWarning: Found `num_iterations` in params. Will use it instead of argument\n",
      "  _log_warning(f\"Found `{alias}` in params. Will use it instead of argument\")\n",
      "/home/slazien/.local/share/virtualenvs/linkedin_misinformation-xOmYosQV/lib/python3.8/site-packages/lightgbm/engine.py:177: UserWarning: Found `num_iterations` in params. Will use it instead of argument\n",
      "  _log_warning(f\"Found `{alias}` in params. Will use it instead of argument\")\n",
      "/home/slazien/.local/share/virtualenvs/linkedin_misinformation-xOmYosQV/lib/python3.8/site-packages/lightgbm/engine.py:177: UserWarning: Found `num_iterations` in params. Will use it instead of argument\n",
      "  _log_warning(f\"Found `{alias}` in params. Will use it instead of argument\")\n"
     ]
    },
    {
     "name": "stdout",
     "output_type": "stream",
     "text": [
      "[CV] END learning_rate=0.1, max_depth=-1, min_data_in_leaf=500, num_iterations=500, num_leaves=10; total time=   0.1s\n",
      "[LightGBM] [Warning] min_data_in_leaf is set=500, min_child_samples=20 will be ignored. Current value: min_data_in_leaf=500\n",
      "[CV] END learning_rate=0.1, max_depth=-1, min_data_in_leaf=100, num_iterations=500, num_leaves=50; total time=   7.9s\n",
      "[LightGBM] [Warning] min_data_in_leaf is set=500, min_child_samples=20 will be ignored. Current value: min_data_in_leaf=500\n",
      "[CV] END learning_rate=0.1, max_depth=-1, min_data_in_leaf=500, num_iterations=500, num_leaves=50; total time=   0.1s\n",
      "[LightGBM] [Warning] min_data_in_leaf is set=500, min_child_samples=20 will be ignored. Current value: min_data_in_leaf=500\n",
      "[CV] END learning_rate=0.1, max_depth=-1, min_data_in_leaf=500, num_iterations=500, num_leaves=50; total time=   0.1s\n"
     ]
    },
    {
     "name": "stderr",
     "output_type": "stream",
     "text": [
      "/home/slazien/.local/share/virtualenvs/linkedin_misinformation-xOmYosQV/lib/python3.8/site-packages/lightgbm/engine.py:177: UserWarning: Found `num_iterations` in params. Will use it instead of argument\n",
      "  _log_warning(f\"Found `{alias}` in params. Will use it instead of argument\")\n",
      "/home/slazien/.local/share/virtualenvs/linkedin_misinformation-xOmYosQV/lib/python3.8/site-packages/lightgbm/engine.py:177: UserWarning: Found `num_iterations` in params. Will use it instead of argument\n",
      "  _log_warning(f\"Found `{alias}` in params. Will use it instead of argument\")\n",
      "/home/slazien/.local/share/virtualenvs/linkedin_misinformation-xOmYosQV/lib/python3.8/site-packages/lightgbm/engine.py:177: UserWarning: Found `num_iterations` in params. Will use it instead of argument\n",
      "  _log_warning(f\"Found `{alias}` in params. Will use it instead of argument\")\n",
      "/home/slazien/.local/share/virtualenvs/linkedin_misinformation-xOmYosQV/lib/python3.8/site-packages/lightgbm/engine.py:177: UserWarning: Found `num_iterations` in params. Will use it instead of argument\n",
      "  _log_warning(f\"Found `{alias}` in params. Will use it instead of argument\")\n"
     ]
    },
    {
     "name": "stdout",
     "output_type": "stream",
     "text": [
      "[LightGBM] [Warning] min_data_in_leaf is set=500, min_child_samples=20 will be ignored. Current value: min_data_in_leaf=500\n",
      "[CV] END learning_rate=0.1, max_depth=-1, min_data_in_leaf=500, num_iterations=500, num_leaves=50; total time=   0.1s\n",
      "[LightGBM] [Warning] min_data_in_leaf is set=500, min_child_samples=20 will be ignored. Current value: min_data_in_leaf=500\n",
      "[CV] END learning_rate=0.1, max_depth=-1, min_data_in_leaf=500, num_iterations=500, num_leaves=50; total time=   0.1s\n",
      "[LightGBM] [Warning] min_data_in_leaf is set=10, min_child_samples=20 will be ignored. Current value: min_data_in_leaf=10\n",
      "[CV] END learning_rate=0.1, max_depth=-1, min_data_in_leaf=500, num_iterations=500, num_leaves=50; total time=   0.1s\n",
      "[LightGBM] [Warning] min_data_in_leaf is set=10, min_child_samples=20 will be ignored. Current value: min_data_in_leaf=10\n"
     ]
    },
    {
     "name": "stderr",
     "output_type": "stream",
     "text": [
      "/home/slazien/.local/share/virtualenvs/linkedin_misinformation-xOmYosQV/lib/python3.8/site-packages/lightgbm/engine.py:177: UserWarning: Found `num_iterations` in params. Will use it instead of argument\n",
      "  _log_warning(f\"Found `{alias}` in params. Will use it instead of argument\")\n"
     ]
    },
    {
     "name": "stdout",
     "output_type": "stream",
     "text": [
      "[CV] END learning_rate=0.1, max_depth=-1, min_data_in_leaf=10, num_iterations=500, num_leaves=50; total time=  32.3s\n",
      "[LightGBM] [Warning] min_data_in_leaf is set=10, min_child_samples=20 will be ignored. Current value: min_data_in_leaf=10\n"
     ]
    },
    {
     "name": "stderr",
     "output_type": "stream",
     "text": [
      "/home/slazien/.local/share/virtualenvs/linkedin_misinformation-xOmYosQV/lib/python3.8/site-packages/lightgbm/engine.py:177: UserWarning: Found `num_iterations` in params. Will use it instead of argument\n",
      "  _log_warning(f\"Found `{alias}` in params. Will use it instead of argument\")\n"
     ]
    },
    {
     "name": "stdout",
     "output_type": "stream",
     "text": [
      "[CV] END learning_rate=0.1, max_depth=-1, min_data_in_leaf=100, num_iterations=500, num_leaves=50; total time=   7.0s\n",
      "[LightGBM] [Warning] min_data_in_leaf is set=10, min_child_samples=20 will be ignored. Current value: min_data_in_leaf=10\n"
     ]
    },
    {
     "name": "stderr",
     "output_type": "stream",
     "text": [
      "/home/slazien/.local/share/virtualenvs/linkedin_misinformation-xOmYosQV/lib/python3.8/site-packages/lightgbm/engine.py:177: UserWarning: Found `num_iterations` in params. Will use it instead of argument\n",
      "  _log_warning(f\"Found `{alias}` in params. Will use it instead of argument\")\n"
     ]
    },
    {
     "name": "stdout",
     "output_type": "stream",
     "text": [
      "[CV] END learning_rate=0.1, max_depth=-1, min_data_in_leaf=100, num_iterations=500, num_leaves=50; total time=   7.9s\n",
      "[LightGBM] [Warning] min_data_in_leaf is set=10, min_child_samples=20 will be ignored. Current value: min_data_in_leaf=10\n",
      "[CV] END learning_rate=0.1, max_depth=-1, min_data_in_leaf=10, num_iterations=500, num_leaves=50; total time=  33.8s\n",
      "[LightGBM] [Warning] min_data_in_leaf is set=10, min_child_samples=20 will be ignored. Current value: min_data_in_leaf=10\n"
     ]
    },
    {
     "name": "stderr",
     "output_type": "stream",
     "text": [
      "/home/slazien/.local/share/virtualenvs/linkedin_misinformation-xOmYosQV/lib/python3.8/site-packages/lightgbm/engine.py:177: UserWarning: Found `num_iterations` in params. Will use it instead of argument\n",
      "  _log_warning(f\"Found `{alias}` in params. Will use it instead of argument\")\n",
      "/home/slazien/.local/share/virtualenvs/linkedin_misinformation-xOmYosQV/lib/python3.8/site-packages/lightgbm/engine.py:177: UserWarning: Found `num_iterations` in params. Will use it instead of argument\n",
      "  _log_warning(f\"Found `{alias}` in params. Will use it instead of argument\")\n"
     ]
    },
    {
     "name": "stdout",
     "output_type": "stream",
     "text": [
      "[CV] END learning_rate=0.1, max_depth=-1, min_data_in_leaf=100, num_iterations=500, num_leaves=50; total time=   8.4s\n",
      "[LightGBM] [Warning] min_data_in_leaf is set=10, min_child_samples=20 will be ignored. Current value: min_data_in_leaf=10\n"
     ]
    },
    {
     "name": "stderr",
     "output_type": "stream",
     "text": [
      "/home/slazien/.local/share/virtualenvs/linkedin_misinformation-xOmYosQV/lib/python3.8/site-packages/lightgbm/engine.py:177: UserWarning: Found `num_iterations` in params. Will use it instead of argument\n",
      "  _log_warning(f\"Found `{alias}` in params. Will use it instead of argument\")\n"
     ]
    },
    {
     "name": "stdout",
     "output_type": "stream",
     "text": [
      "[CV] END learning_rate=0.1, max_depth=-1, min_data_in_leaf=100, num_iterations=500, num_leaves=50; total time=   8.0s\n",
      "[LightGBM] [Warning] min_data_in_leaf is set=10, min_child_samples=20 will be ignored. Current value: min_data_in_leaf=10\n"
     ]
    },
    {
     "name": "stderr",
     "output_type": "stream",
     "text": [
      "/home/slazien/.local/share/virtualenvs/linkedin_misinformation-xOmYosQV/lib/python3.8/site-packages/lightgbm/engine.py:177: UserWarning: Found `num_iterations` in params. Will use it instead of argument\n",
      "  _log_warning(f\"Found `{alias}` in params. Will use it instead of argument\")\n"
     ]
    },
    {
     "name": "stdout",
     "output_type": "stream",
     "text": [
      "[CV] END learning_rate=0.1, max_depth=10, min_data_in_leaf=10, num_iterations=100, num_leaves=10; total time=   7.3s\n",
      "[LightGBM] [Warning] min_data_in_leaf is set=10, min_child_samples=20 will be ignored. Current value: min_data_in_leaf=10\n"
     ]
    },
    {
     "name": "stderr",
     "output_type": "stream",
     "text": [
      "/home/slazien/.local/share/virtualenvs/linkedin_misinformation-xOmYosQV/lib/python3.8/site-packages/lightgbm/engine.py:177: UserWarning: Found `num_iterations` in params. Will use it instead of argument\n",
      "  _log_warning(f\"Found `{alias}` in params. Will use it instead of argument\")\n"
     ]
    },
    {
     "name": "stdout",
     "output_type": "stream",
     "text": [
      "[CV] END learning_rate=0.1, max_depth=10, min_data_in_leaf=10, num_iterations=100, num_leaves=10; total time=   7.2s\n",
      "[LightGBM] [Warning] min_data_in_leaf is set=10, min_child_samples=20 will be ignored. Current value: min_data_in_leaf=10\n"
     ]
    },
    {
     "name": "stderr",
     "output_type": "stream",
     "text": [
      "/home/slazien/.local/share/virtualenvs/linkedin_misinformation-xOmYosQV/lib/python3.8/site-packages/lightgbm/engine.py:177: UserWarning: Found `num_iterations` in params. Will use it instead of argument\n",
      "  _log_warning(f\"Found `{alias}` in params. Will use it instead of argument\")\n"
     ]
    },
    {
     "name": "stdout",
     "output_type": "stream",
     "text": [
      "[CV] END learning_rate=0.1, max_depth=10, min_data_in_leaf=10, num_iterations=100, num_leaves=10; total time=   8.8s\n",
      "[LightGBM] [Warning] min_data_in_leaf is set=10, min_child_samples=20 will be ignored. Current value: min_data_in_leaf=10\n"
     ]
    },
    {
     "name": "stderr",
     "output_type": "stream",
     "text": [
      "/home/slazien/.local/share/virtualenvs/linkedin_misinformation-xOmYosQV/lib/python3.8/site-packages/lightgbm/engine.py:177: UserWarning: Found `num_iterations` in params. Will use it instead of argument\n",
      "  _log_warning(f\"Found `{alias}` in params. Will use it instead of argument\")\n"
     ]
    },
    {
     "name": "stdout",
     "output_type": "stream",
     "text": [
      "[CV] END learning_rate=0.1, max_depth=10, min_data_in_leaf=10, num_iterations=100, num_leaves=10; total time=   7.3s\n",
      "[LightGBM] [Warning] min_data_in_leaf is set=10, min_child_samples=20 will be ignored. Current value: min_data_in_leaf=10\n",
      "[CV] END learning_rate=0.1, max_depth=10, min_data_in_leaf=10, num_iterations=100, num_leaves=10; total time=   7.0s\n",
      "[LightGBM] [Warning] min_data_in_leaf is set=10, min_child_samples=20 will be ignored. Current value: min_data_in_leaf=10\n"
     ]
    },
    {
     "name": "stderr",
     "output_type": "stream",
     "text": [
      "/home/slazien/.local/share/virtualenvs/linkedin_misinformation-xOmYosQV/lib/python3.8/site-packages/lightgbm/engine.py:177: UserWarning: Found `num_iterations` in params. Will use it instead of argument\n",
      "  _log_warning(f\"Found `{alias}` in params. Will use it instead of argument\")\n",
      "/home/slazien/.local/share/virtualenvs/linkedin_misinformation-xOmYosQV/lib/python3.8/site-packages/lightgbm/engine.py:177: UserWarning: Found `num_iterations` in params. Will use it instead of argument\n",
      "  _log_warning(f\"Found `{alias}` in params. Will use it instead of argument\")\n"
     ]
    },
    {
     "name": "stdout",
     "output_type": "stream",
     "text": [
      "[CV] END learning_rate=0.1, max_depth=10, min_data_in_leaf=10, num_iterations=100, num_leaves=50; total time=  18.2s\n",
      "[LightGBM] [Warning] min_data_in_leaf is set=10, min_child_samples=20 will be ignored. Current value: min_data_in_leaf=10\n"
     ]
    },
    {
     "name": "stderr",
     "output_type": "stream",
     "text": [
      "/home/slazien/.local/share/virtualenvs/linkedin_misinformation-xOmYosQV/lib/python3.8/site-packages/lightgbm/engine.py:177: UserWarning: Found `num_iterations` in params. Will use it instead of argument\n",
      "  _log_warning(f\"Found `{alias}` in params. Will use it instead of argument\")\n"
     ]
    },
    {
     "name": "stdout",
     "output_type": "stream",
     "text": [
      "[CV] END learning_rate=0.1, max_depth=10, min_data_in_leaf=10, num_iterations=100, num_leaves=50; total time=  18.2s\n",
      "[LightGBM] [Warning] min_data_in_leaf is set=10, min_child_samples=20 will be ignored. Current value: min_data_in_leaf=10\n"
     ]
    },
    {
     "name": "stderr",
     "output_type": "stream",
     "text": [
      "/home/slazien/.local/share/virtualenvs/linkedin_misinformation-xOmYosQV/lib/python3.8/site-packages/lightgbm/engine.py:177: UserWarning: Found `num_iterations` in params. Will use it instead of argument\n",
      "  _log_warning(f\"Found `{alias}` in params. Will use it instead of argument\")\n"
     ]
    },
    {
     "name": "stdout",
     "output_type": "stream",
     "text": [
      "[CV] END learning_rate=0.1, max_depth=10, min_data_in_leaf=10, num_iterations=100, num_leaves=50; total time=  18.8s\n",
      "[LightGBM] [Warning] min_data_in_leaf is set=10, min_child_samples=20 will be ignored. Current value: min_data_in_leaf=10\n"
     ]
    },
    {
     "name": "stderr",
     "output_type": "stream",
     "text": [
      "/home/slazien/.local/share/virtualenvs/linkedin_misinformation-xOmYosQV/lib/python3.8/site-packages/lightgbm/engine.py:177: UserWarning: Found `num_iterations` in params. Will use it instead of argument\n",
      "  _log_warning(f\"Found `{alias}` in params. Will use it instead of argument\")\n"
     ]
    },
    {
     "name": "stdout",
     "output_type": "stream",
     "text": [
      "[CV] END learning_rate=0.1, max_depth=10, min_data_in_leaf=10, num_iterations=100, num_leaves=50; total time=  18.5s\n",
      "[LightGBM] [Warning] min_data_in_leaf is set=10, min_child_samples=20 will be ignored. Current value: min_data_in_leaf=10\n",
      "[CV] END learning_rate=0.1, max_depth=10, min_data_in_leaf=10, num_iterations=100, num_leaves=50; total time=  18.1s\n",
      "[LightGBM] [Warning] min_data_in_leaf is set=10, min_child_samples=20 will be ignored. Current value: min_data_in_leaf=10\n"
     ]
    },
    {
     "name": "stderr",
     "output_type": "stream",
     "text": [
      "/home/slazien/.local/share/virtualenvs/linkedin_misinformation-xOmYosQV/lib/python3.8/site-packages/lightgbm/engine.py:177: UserWarning: Found `num_iterations` in params. Will use it instead of argument\n",
      "  _log_warning(f\"Found `{alias}` in params. Will use it instead of argument\")\n",
      "/home/slazien/.local/share/virtualenvs/linkedin_misinformation-xOmYosQV/lib/python3.8/site-packages/lightgbm/engine.py:177: UserWarning: Found `num_iterations` in params. Will use it instead of argument\n",
      "  _log_warning(f\"Found `{alias}` in params. Will use it instead of argument\")\n"
     ]
    },
    {
     "name": "stdout",
     "output_type": "stream",
     "text": [
      "[CV] END learning_rate=0.1, max_depth=10, min_data_in_leaf=10, num_iterations=500, num_leaves=10; total time=  24.1s\n",
      "[LightGBM] [Warning] min_data_in_leaf is set=10, min_child_samples=20 will be ignored. Current value: min_data_in_leaf=10\n"
     ]
    },
    {
     "name": "stderr",
     "output_type": "stream",
     "text": [
      "/home/slazien/.local/share/virtualenvs/linkedin_misinformation-xOmYosQV/lib/python3.8/site-packages/lightgbm/engine.py:177: UserWarning: Found `num_iterations` in params. Will use it instead of argument\n",
      "  _log_warning(f\"Found `{alias}` in params. Will use it instead of argument\")\n"
     ]
    },
    {
     "name": "stdout",
     "output_type": "stream",
     "text": [
      "[CV] END learning_rate=0.1, max_depth=10, min_data_in_leaf=10, num_iterations=500, num_leaves=10; total time=  23.2s\n",
      "[LightGBM] [Warning] min_data_in_leaf is set=10, min_child_samples=20 will be ignored. Current value: min_data_in_leaf=10\n"
     ]
    },
    {
     "name": "stderr",
     "output_type": "stream",
     "text": [
      "/home/slazien/.local/share/virtualenvs/linkedin_misinformation-xOmYosQV/lib/python3.8/site-packages/lightgbm/engine.py:177: UserWarning: Found `num_iterations` in params. Will use it instead of argument\n",
      "  _log_warning(f\"Found `{alias}` in params. Will use it instead of argument\")\n"
     ]
    },
    {
     "name": "stdout",
     "output_type": "stream",
     "text": [
      "[CV] END learning_rate=0.1, max_depth=10, min_data_in_leaf=10, num_iterations=500, num_leaves=10; total time=  24.1s\n",
      "[LightGBM] [Warning] min_data_in_leaf is set=100, min_child_samples=20 will be ignored. Current value: min_data_in_leaf=100\n"
     ]
    },
    {
     "name": "stderr",
     "output_type": "stream",
     "text": [
      "/home/slazien/.local/share/virtualenvs/linkedin_misinformation-xOmYosQV/lib/python3.8/site-packages/lightgbm/engine.py:177: UserWarning: Found `num_iterations` in params. Will use it instead of argument\n",
      "  _log_warning(f\"Found `{alias}` in params. Will use it instead of argument\")\n"
     ]
    },
    {
     "name": "stdout",
     "output_type": "stream",
     "text": [
      "[CV] END learning_rate=0.1, max_depth=10, min_data_in_leaf=100, num_iterations=100, num_leaves=10; total time=   2.0s\n",
      "[LightGBM] [Warning] min_data_in_leaf is set=100, min_child_samples=20 will be ignored. Current value: min_data_in_leaf=100\n"
     ]
    },
    {
     "name": "stderr",
     "output_type": "stream",
     "text": [
      "/home/slazien/.local/share/virtualenvs/linkedin_misinformation-xOmYosQV/lib/python3.8/site-packages/lightgbm/engine.py:177: UserWarning: Found `num_iterations` in params. Will use it instead of argument\n",
      "  _log_warning(f\"Found `{alias}` in params. Will use it instead of argument\")\n"
     ]
    },
    {
     "name": "stdout",
     "output_type": "stream",
     "text": [
      "[CV] END learning_rate=0.1, max_depth=10, min_data_in_leaf=100, num_iterations=100, num_leaves=10; total time=   1.6s\n",
      "[LightGBM] [Warning] min_data_in_leaf is set=100, min_child_samples=20 will be ignored. Current value: min_data_in_leaf=100\n"
     ]
    },
    {
     "name": "stderr",
     "output_type": "stream",
     "text": [
      "/home/slazien/.local/share/virtualenvs/linkedin_misinformation-xOmYosQV/lib/python3.8/site-packages/lightgbm/engine.py:177: UserWarning: Found `num_iterations` in params. Will use it instead of argument\n",
      "  _log_warning(f\"Found `{alias}` in params. Will use it instead of argument\")\n"
     ]
    },
    {
     "name": "stdout",
     "output_type": "stream",
     "text": [
      "[CV] END learning_rate=0.1, max_depth=10, min_data_in_leaf=100, num_iterations=100, num_leaves=10; total time=   1.8s\n",
      "[LightGBM] [Warning] min_data_in_leaf is set=100, min_child_samples=20 will be ignored. Current value: min_data_in_leaf=100\n"
     ]
    },
    {
     "name": "stderr",
     "output_type": "stream",
     "text": [
      "/home/slazien/.local/share/virtualenvs/linkedin_misinformation-xOmYosQV/lib/python3.8/site-packages/lightgbm/engine.py:177: UserWarning: Found `num_iterations` in params. Will use it instead of argument\n",
      "  _log_warning(f\"Found `{alias}` in params. Will use it instead of argument\")\n"
     ]
    },
    {
     "name": "stdout",
     "output_type": "stream",
     "text": [
      "[CV] END learning_rate=0.1, max_depth=10, min_data_in_leaf=100, num_iterations=100, num_leaves=10; total time=   1.9s\n",
      "[LightGBM] [Warning] min_data_in_leaf is set=100, min_child_samples=20 will be ignored. Current value: min_data_in_leaf=100\n"
     ]
    },
    {
     "name": "stderr",
     "output_type": "stream",
     "text": [
      "/home/slazien/.local/share/virtualenvs/linkedin_misinformation-xOmYosQV/lib/python3.8/site-packages/lightgbm/engine.py:177: UserWarning: Found `num_iterations` in params. Will use it instead of argument\n",
      "  _log_warning(f\"Found `{alias}` in params. Will use it instead of argument\")\n"
     ]
    },
    {
     "name": "stdout",
     "output_type": "stream",
     "text": [
      "[CV] END learning_rate=0.1, max_depth=10, min_data_in_leaf=100, num_iterations=100, num_leaves=10; total time=   1.8s\n",
      "[LightGBM] [Warning] min_data_in_leaf is set=100, min_child_samples=20 will be ignored. Current value: min_data_in_leaf=100\n"
     ]
    },
    {
     "name": "stderr",
     "output_type": "stream",
     "text": [
      "/home/slazien/.local/share/virtualenvs/linkedin_misinformation-xOmYosQV/lib/python3.8/site-packages/lightgbm/engine.py:177: UserWarning: Found `num_iterations` in params. Will use it instead of argument\n",
      "  _log_warning(f\"Found `{alias}` in params. Will use it instead of argument\")\n"
     ]
    },
    {
     "name": "stdout",
     "output_type": "stream",
     "text": [
      "[CV] END learning_rate=0.1, max_depth=10, min_data_in_leaf=100, num_iterations=100, num_leaves=50; total time=   1.7s\n",
      "[LightGBM] [Warning] min_data_in_leaf is set=100, min_child_samples=20 will be ignored. Current value: min_data_in_leaf=100\n"
     ]
    },
    {
     "name": "stderr",
     "output_type": "stream",
     "text": [
      "/home/slazien/.local/share/virtualenvs/linkedin_misinformation-xOmYosQV/lib/python3.8/site-packages/lightgbm/engine.py:177: UserWarning: Found `num_iterations` in params. Will use it instead of argument\n",
      "  _log_warning(f\"Found `{alias}` in params. Will use it instead of argument\")\n"
     ]
    },
    {
     "name": "stdout",
     "output_type": "stream",
     "text": [
      "[CV] END learning_rate=0.1, max_depth=10, min_data_in_leaf=10, num_iterations=500, num_leaves=10; total time=  24.0s\n",
      "[LightGBM] [Warning] min_data_in_leaf is set=100, min_child_samples=20 will be ignored. Current value: min_data_in_leaf=100\n"
     ]
    },
    {
     "name": "stderr",
     "output_type": "stream",
     "text": [
      "/home/slazien/.local/share/virtualenvs/linkedin_misinformation-xOmYosQV/lib/python3.8/site-packages/lightgbm/engine.py:177: UserWarning: Found `num_iterations` in params. Will use it instead of argument\n",
      "  _log_warning(f\"Found `{alias}` in params. Will use it instead of argument\")\n"
     ]
    },
    {
     "name": "stdout",
     "output_type": "stream",
     "text": [
      "[CV] END learning_rate=0.1, max_depth=10, min_data_in_leaf=10, num_iterations=500, num_leaves=10; total time=  23.3s\n",
      "[LightGBM] [Warning] min_data_in_leaf is set=100, min_child_samples=20 will be ignored. Current value: min_data_in_leaf=100\n"
     ]
    },
    {
     "name": "stderr",
     "output_type": "stream",
     "text": [
      "/home/slazien/.local/share/virtualenvs/linkedin_misinformation-xOmYosQV/lib/python3.8/site-packages/lightgbm/engine.py:177: UserWarning: Found `num_iterations` in params. Will use it instead of argument\n",
      "  _log_warning(f\"Found `{alias}` in params. Will use it instead of argument\")\n"
     ]
    },
    {
     "name": "stdout",
     "output_type": "stream",
     "text": [
      "[CV] END learning_rate=0.1, max_depth=10, min_data_in_leaf=100, num_iterations=100, num_leaves=50; total time=   1.6s\n",
      "[LightGBM] [Warning] min_data_in_leaf is set=100, min_child_samples=20 will be ignored. Current value: min_data_in_leaf=100\n"
     ]
    },
    {
     "name": "stderr",
     "output_type": "stream",
     "text": [
      "/home/slazien/.local/share/virtualenvs/linkedin_misinformation-xOmYosQV/lib/python3.8/site-packages/lightgbm/engine.py:177: UserWarning: Found `num_iterations` in params. Will use it instead of argument\n",
      "  _log_warning(f\"Found `{alias}` in params. Will use it instead of argument\")\n"
     ]
    },
    {
     "name": "stdout",
     "output_type": "stream",
     "text": [
      "[CV] END learning_rate=0.1, max_depth=10, min_data_in_leaf=100, num_iterations=100, num_leaves=50; total time=   1.6s\n",
      "[LightGBM] [Warning] min_data_in_leaf is set=100, min_child_samples=20 will be ignored. Current value: min_data_in_leaf=100\n"
     ]
    },
    {
     "name": "stderr",
     "output_type": "stream",
     "text": [
      "/home/slazien/.local/share/virtualenvs/linkedin_misinformation-xOmYosQV/lib/python3.8/site-packages/lightgbm/engine.py:177: UserWarning: Found `num_iterations` in params. Will use it instead of argument\n",
      "  _log_warning(f\"Found `{alias}` in params. Will use it instead of argument\")\n"
     ]
    },
    {
     "name": "stdout",
     "output_type": "stream",
     "text": [
      "[CV] END learning_rate=0.1, max_depth=10, min_data_in_leaf=100, num_iterations=100, num_leaves=50; total time=   1.8s\n",
      "[LightGBM] [Warning] min_data_in_leaf is set=100, min_child_samples=20 will be ignored. Current value: min_data_in_leaf=100\n"
     ]
    },
    {
     "name": "stderr",
     "output_type": "stream",
     "text": [
      "/home/slazien/.local/share/virtualenvs/linkedin_misinformation-xOmYosQV/lib/python3.8/site-packages/lightgbm/engine.py:177: UserWarning: Found `num_iterations` in params. Will use it instead of argument\n",
      "  _log_warning(f\"Found `{alias}` in params. Will use it instead of argument\")\n"
     ]
    },
    {
     "name": "stdout",
     "output_type": "stream",
     "text": [
      "[CV] END learning_rate=0.1, max_depth=10, min_data_in_leaf=100, num_iterations=100, num_leaves=50; total time=   1.7s\n",
      "[LightGBM] [Warning] min_data_in_leaf is set=100, min_child_samples=20 will be ignored. Current value: min_data_in_leaf=100\n"
     ]
    },
    {
     "name": "stderr",
     "output_type": "stream",
     "text": [
      "/home/slazien/.local/share/virtualenvs/linkedin_misinformation-xOmYosQV/lib/python3.8/site-packages/lightgbm/engine.py:177: UserWarning: Found `num_iterations` in params. Will use it instead of argument\n",
      "  _log_warning(f\"Found `{alias}` in params. Will use it instead of argument\")\n"
     ]
    },
    {
     "name": "stdout",
     "output_type": "stream",
     "text": [
      "[CV] END learning_rate=0.1, max_depth=10, min_data_in_leaf=100, num_iterations=500, num_leaves=10; total time=   7.2s\n",
      "[LightGBM] [Warning] min_data_in_leaf is set=100, min_child_samples=20 will be ignored. Current value: min_data_in_leaf=100\n"
     ]
    },
    {
     "name": "stderr",
     "output_type": "stream",
     "text": [
      "/home/slazien/.local/share/virtualenvs/linkedin_misinformation-xOmYosQV/lib/python3.8/site-packages/lightgbm/engine.py:177: UserWarning: Found `num_iterations` in params. Will use it instead of argument\n",
      "  _log_warning(f\"Found `{alias}` in params. Will use it instead of argument\")\n"
     ]
    },
    {
     "name": "stdout",
     "output_type": "stream",
     "text": [
      "[CV] END learning_rate=0.1, max_depth=10, min_data_in_leaf=10, num_iterations=500, num_leaves=50; total time=  30.5s\n",
      "[LightGBM] [Warning] min_data_in_leaf is set=100, min_child_samples=20 will be ignored. Current value: min_data_in_leaf=100\n"
     ]
    },
    {
     "name": "stderr",
     "output_type": "stream",
     "text": [
      "/home/slazien/.local/share/virtualenvs/linkedin_misinformation-xOmYosQV/lib/python3.8/site-packages/lightgbm/engine.py:177: UserWarning: Found `num_iterations` in params. Will use it instead of argument\n",
      "  _log_warning(f\"Found `{alias}` in params. Will use it instead of argument\")\n"
     ]
    },
    {
     "name": "stdout",
     "output_type": "stream",
     "text": [
      "[CV] END learning_rate=0.1, max_depth=10, min_data_in_leaf=100, num_iterations=500, num_leaves=10; total time=   7.3s\n",
      "[LightGBM] [Warning] min_data_in_leaf is set=100, min_child_samples=20 will be ignored. Current value: min_data_in_leaf=100\n"
     ]
    },
    {
     "name": "stderr",
     "output_type": "stream",
     "text": [
      "/home/slazien/.local/share/virtualenvs/linkedin_misinformation-xOmYosQV/lib/python3.8/site-packages/lightgbm/engine.py:177: UserWarning: Found `num_iterations` in params. Will use it instead of argument\n",
      "  _log_warning(f\"Found `{alias}` in params. Will use it instead of argument\")\n"
     ]
    },
    {
     "name": "stdout",
     "output_type": "stream",
     "text": [
      "[CV] END learning_rate=0.1, max_depth=10, min_data_in_leaf=100, num_iterations=500, num_leaves=10; total time=   7.7s\n",
      "[LightGBM] [Warning] min_data_in_leaf is set=100, min_child_samples=20 will be ignored. Current value: min_data_in_leaf=100\n"
     ]
    },
    {
     "name": "stderr",
     "output_type": "stream",
     "text": [
      "/home/slazien/.local/share/virtualenvs/linkedin_misinformation-xOmYosQV/lib/python3.8/site-packages/lightgbm/engine.py:177: UserWarning: Found `num_iterations` in params. Will use it instead of argument\n",
      "  _log_warning(f\"Found `{alias}` in params. Will use it instead of argument\")\n"
     ]
    },
    {
     "name": "stdout",
     "output_type": "stream",
     "text": [
      "[CV] END learning_rate=0.1, max_depth=10, min_data_in_leaf=10, num_iterations=500, num_leaves=50; total time=  30.3s\n",
      "[LightGBM] [Warning] min_data_in_leaf is set=100, min_child_samples=20 will be ignored. Current value: min_data_in_leaf=100\n",
      "[CV] END learning_rate=0.1, max_depth=10, min_data_in_leaf=10, num_iterations=500, num_leaves=50; total time=  30.4s\n",
      "[LightGBM] [Warning] min_data_in_leaf is set=100, min_child_samples=20 will be ignored. Current value: min_data_in_leaf=100\n"
     ]
    },
    {
     "name": "stderr",
     "output_type": "stream",
     "text": [
      "/home/slazien/.local/share/virtualenvs/linkedin_misinformation-xOmYosQV/lib/python3.8/site-packages/lightgbm/engine.py:177: UserWarning: Found `num_iterations` in params. Will use it instead of argument\n",
      "  _log_warning(f\"Found `{alias}` in params. Will use it instead of argument\")\n",
      "/home/slazien/.local/share/virtualenvs/linkedin_misinformation-xOmYosQV/lib/python3.8/site-packages/lightgbm/engine.py:177: UserWarning: Found `num_iterations` in params. Will use it instead of argument\n",
      "  _log_warning(f\"Found `{alias}` in params. Will use it instead of argument\")\n"
     ]
    },
    {
     "name": "stdout",
     "output_type": "stream",
     "text": [
      "[CV] END learning_rate=0.1, max_depth=10, min_data_in_leaf=100, num_iterations=500, num_leaves=10; total time=   8.3s\n",
      "[LightGBM] [Warning] min_data_in_leaf is set=100, min_child_samples=20 will be ignored. Current value: min_data_in_leaf=100\n"
     ]
    },
    {
     "name": "stderr",
     "output_type": "stream",
     "text": [
      "/home/slazien/.local/share/virtualenvs/linkedin_misinformation-xOmYosQV/lib/python3.8/site-packages/lightgbm/engine.py:177: UserWarning: Found `num_iterations` in params. Will use it instead of argument\n",
      "  _log_warning(f\"Found `{alias}` in params. Will use it instead of argument\")\n"
     ]
    },
    {
     "name": "stdout",
     "output_type": "stream",
     "text": [
      "[CV] END learning_rate=0.1, max_depth=10, min_data_in_leaf=100, num_iterations=500, num_leaves=10; total time=   8.2s\n",
      "[LightGBM] [Warning] min_data_in_leaf is set=500, min_child_samples=20 will be ignored. Current value: min_data_in_leaf=500\n",
      "[CV] END learning_rate=0.1, max_depth=10, min_data_in_leaf=500, num_iterations=100, num_leaves=10; total time=   0.1s\n",
      "[LightGBM] [Warning] min_data_in_leaf is set=500, min_child_samples=20 will be ignored. Current value: min_data_in_leaf=500\n"
     ]
    },
    {
     "name": "stderr",
     "output_type": "stream",
     "text": [
      "/home/slazien/.local/share/virtualenvs/linkedin_misinformation-xOmYosQV/lib/python3.8/site-packages/lightgbm/engine.py:177: UserWarning: Found `num_iterations` in params. Will use it instead of argument\n",
      "  _log_warning(f\"Found `{alias}` in params. Will use it instead of argument\")\n",
      "/home/slazien/.local/share/virtualenvs/linkedin_misinformation-xOmYosQV/lib/python3.8/site-packages/lightgbm/engine.py:177: UserWarning: Found `num_iterations` in params. Will use it instead of argument\n",
      "  _log_warning(f\"Found `{alias}` in params. Will use it instead of argument\")\n"
     ]
    },
    {
     "name": "stdout",
     "output_type": "stream",
     "text": [
      "[CV] END learning_rate=0.1, max_depth=10, min_data_in_leaf=500, num_iterations=100, num_leaves=10; total time=   0.1s\n",
      "[LightGBM] [Warning] min_data_in_leaf is set=500, min_child_samples=20 will be ignored. Current value: min_data_in_leaf=500\n",
      "[CV] END learning_rate=0.1, max_depth=10, min_data_in_leaf=500, num_iterations=100, num_leaves=10; total time=   0.1s\n",
      "[LightGBM] [Warning] min_data_in_leaf is set=500, min_child_samples=20 will be ignored. Current value: min_data_in_leaf=500\n"
     ]
    },
    {
     "name": "stderr",
     "output_type": "stream",
     "text": [
      "/home/slazien/.local/share/virtualenvs/linkedin_misinformation-xOmYosQV/lib/python3.8/site-packages/lightgbm/engine.py:177: UserWarning: Found `num_iterations` in params. Will use it instead of argument\n",
      "  _log_warning(f\"Found `{alias}` in params. Will use it instead of argument\")\n",
      "/home/slazien/.local/share/virtualenvs/linkedin_misinformation-xOmYosQV/lib/python3.8/site-packages/lightgbm/engine.py:177: UserWarning: Found `num_iterations` in params. Will use it instead of argument\n",
      "  _log_warning(f\"Found `{alias}` in params. Will use it instead of argument\")\n"
     ]
    },
    {
     "name": "stdout",
     "output_type": "stream",
     "text": [
      "[CV] END learning_rate=0.1, max_depth=10, min_data_in_leaf=500, num_iterations=100, num_leaves=10; total time=   0.1s\n",
      "[LightGBM] [Warning] min_data_in_leaf is set=500, min_child_samples=20 will be ignored. Current value: min_data_in_leaf=500\n",
      "[CV] END learning_rate=0.1, max_depth=10, min_data_in_leaf=500, num_iterations=100, num_leaves=10; total time=   0.1s\n",
      "[LightGBM] [Warning] min_data_in_leaf is set=500, min_child_samples=20 will be ignored. Current value: min_data_in_leaf=500\n",
      "[CV] END learning_rate=0.1, max_depth=10, min_data_in_leaf=500, num_iterations=100, num_leaves=50; total time=   0.1s\n"
     ]
    },
    {
     "name": "stderr",
     "output_type": "stream",
     "text": [
      "/home/slazien/.local/share/virtualenvs/linkedin_misinformation-xOmYosQV/lib/python3.8/site-packages/lightgbm/engine.py:177: UserWarning: Found `num_iterations` in params. Will use it instead of argument\n",
      "  _log_warning(f\"Found `{alias}` in params. Will use it instead of argument\")\n",
      "/home/slazien/.local/share/virtualenvs/linkedin_misinformation-xOmYosQV/lib/python3.8/site-packages/lightgbm/engine.py:177: UserWarning: Found `num_iterations` in params. Will use it instead of argument\n",
      "  _log_warning(f\"Found `{alias}` in params. Will use it instead of argument\")\n",
      "/home/slazien/.local/share/virtualenvs/linkedin_misinformation-xOmYosQV/lib/python3.8/site-packages/lightgbm/engine.py:177: UserWarning: Found `num_iterations` in params. Will use it instead of argument\n",
      "  _log_warning(f\"Found `{alias}` in params. Will use it instead of argument\")\n"
     ]
    },
    {
     "name": "stdout",
     "output_type": "stream",
     "text": [
      "[LightGBM] [Warning] min_data_in_leaf is set=500, min_child_samples=20 will be ignored. Current value: min_data_in_leaf=500\n",
      "[CV] END learning_rate=0.1, max_depth=10, min_data_in_leaf=500, num_iterations=100, num_leaves=50; total time=   0.1s\n",
      "[LightGBM] [Warning] min_data_in_leaf is set=500, min_child_samples=20 will be ignored. Current value: min_data_in_leaf=500\n",
      "[CV] END learning_rate=0.1, max_depth=10, min_data_in_leaf=100, num_iterations=500, num_leaves=50; total time=   8.1s\n",
      "[LightGBM] [Warning] min_data_in_leaf is set=500, min_child_samples=20 will be ignored. Current value: min_data_in_leaf=500\n",
      "[CV] END learning_rate=0.1, max_depth=10, min_data_in_leaf=500, num_iterations=100, num_leaves=50; total time=   0.1s\n"
     ]
    },
    {
     "name": "stderr",
     "output_type": "stream",
     "text": [
      "/home/slazien/.local/share/virtualenvs/linkedin_misinformation-xOmYosQV/lib/python3.8/site-packages/lightgbm/engine.py:177: UserWarning: Found `num_iterations` in params. Will use it instead of argument\n",
      "  _log_warning(f\"Found `{alias}` in params. Will use it instead of argument\")\n",
      "/home/slazien/.local/share/virtualenvs/linkedin_misinformation-xOmYosQV/lib/python3.8/site-packages/lightgbm/engine.py:177: UserWarning: Found `num_iterations` in params. Will use it instead of argument\n",
      "  _log_warning(f\"Found `{alias}` in params. Will use it instead of argument\")\n",
      "/home/slazien/.local/share/virtualenvs/linkedin_misinformation-xOmYosQV/lib/python3.8/site-packages/lightgbm/engine.py:177: UserWarning: Found `num_iterations` in params. Will use it instead of argument\n",
      "  _log_warning(f\"Found `{alias}` in params. Will use it instead of argument\")\n",
      "/home/slazien/.local/share/virtualenvs/linkedin_misinformation-xOmYosQV/lib/python3.8/site-packages/lightgbm/engine.py:177: UserWarning: Found `num_iterations` in params. Will use it instead of argument\n",
      "  _log_warning(f\"Found `{alias}` in params. Will use it instead of argument\")\n"
     ]
    },
    {
     "name": "stdout",
     "output_type": "stream",
     "text": [
      "[LightGBM] [Warning] min_data_in_leaf is set=500, min_child_samples=20 will be ignored. Current value: min_data_in_leaf=500\n",
      "[CV] END learning_rate=0.1, max_depth=10, min_data_in_leaf=500, num_iterations=100, num_leaves=50; total time=   0.1s\n",
      "[LightGBM] [Warning] min_data_in_leaf is set=500, min_child_samples=20 will be ignored. Current value: min_data_in_leaf=500\n",
      "[CV] END learning_rate=0.1, max_depth=10, min_data_in_leaf=500, num_iterations=100, num_leaves=50; total time=   0.1s\n",
      "[LightGBM] [Warning] min_data_in_leaf is set=500, min_child_samples=20 will be ignored. Current value: min_data_in_leaf=500\n",
      "[CV] END learning_rate=0.1, max_depth=10, min_data_in_leaf=500, num_iterations=500, num_leaves=10; total time=   0.1s\n",
      "[LightGBM] [Warning] min_data_in_leaf is set=500, min_child_samples=20 will be ignored. Current value: min_data_in_leaf=500\n",
      "[CV] END learning_rate=0.1, max_depth=10, min_data_in_leaf=100, num_iterations=500, num_leaves=50; total time=   7.8s\n",
      "[LightGBM] [Warning] min_data_in_leaf is set=500, min_child_samples=20 will be ignored. Current value: min_data_in_leaf=500"
     ]
    },
    {
     "name": "stderr",
     "output_type": "stream",
     "text": [
      "/home/slazien/.local/share/virtualenvs/linkedin_misinformation-xOmYosQV/lib/python3.8/site-packages/lightgbm/engine.py:177: UserWarning: Found `num_iterations` in params. Will use it instead of argument\n",
      "  _log_warning(f\"Found `{alias}` in params. Will use it instead of argument\")\n",
      "/home/slazien/.local/share/virtualenvs/linkedin_misinformation-xOmYosQV/lib/python3.8/site-packages/lightgbm/engine.py:177: UserWarning: Found `num_iterations` in params. Will use it instead of argument\n",
      "  _log_warning(f\"Found `{alias}` in params. Will use it instead of argument\")\n",
      "/home/slazien/.local/share/virtualenvs/linkedin_misinformation-xOmYosQV/lib/python3.8/site-packages/lightgbm/engine.py:177: UserWarning: Found `num_iterations` in params. Will use it instead of argument\n",
      "  _log_warning(f\"Found `{alias}` in params. Will use it instead of argument\")\n",
      "/home/slazien/.local/share/virtualenvs/linkedin_misinformation-xOmYosQV/lib/python3.8/site-packages/lightgbm/engine.py:177: UserWarning: Found `num_iterations` in params. Will use it instead of argument\n",
      "  _log_warning(f\"Found `{alias}` in params. Will use it instead of argument\")\n",
      "/home/slazien/.local/share/virtualenvs/linkedin_misinformation-xOmYosQV/lib/python3.8/site-packages/lightgbm/engine.py:177: UserWarning: Found `num_iterations` in params. Will use it instead of argument\n",
      "  _log_warning(f\"Found `{alias}` in params. Will use it instead of argument\")\n"
     ]
    },
    {
     "name": "stdout",
     "output_type": "stream",
     "text": [
      "\n",
      "[CV] END learning_rate=0.1, max_depth=10, min_data_in_leaf=500, num_iterations=500, num_leaves=10; total time=   0.1s\n",
      "[LightGBM] [Warning] min_data_in_leaf is set=500, min_child_samples=20 will be ignored. Current value: min_data_in_leaf=500\n",
      "[CV] END learning_rate=0.1, max_depth=10, min_data_in_leaf=500, num_iterations=500, num_leaves=10; total time=   0.1s\n",
      "[LightGBM] [Warning] min_data_in_leaf is set=500, min_child_samples=20 will be ignored. Current value: min_data_in_leaf=500\n",
      "[CV] END learning_rate=0.1, max_depth=10, min_data_in_leaf=500, num_iterations=500, num_leaves=10; total time=   0.1s\n",
      "[LightGBM] [Warning] min_data_in_leaf is set=500, min_child_samples=20 will be ignored. Current value: min_data_in_leaf=500\n",
      "[CV] END learning_rate=0.1, max_depth=10, min_data_in_leaf=500, num_iterations=500, num_leaves=50; total time=   0.1s\n",
      "[CV] END learning_rate=0.1, max_depth=10, min_data_in_leaf=500, num_iterations=500, num_leaves=10; total time=   0.1s\n",
      "[LightGBM] [Warning] min_data_in_leaf is set=500, min_child_samples=20 will be ignored. Current value: min_data_in_leaf=500\n",
      "[LightGBM] [Warning] min_data_in_leaf is set=500, min_child_samples=20 will be ignored. Current value: min_data_in_leaf=500\n"
     ]
    },
    {
     "name": "stderr",
     "output_type": "stream",
     "text": [
      "/home/slazien/.local/share/virtualenvs/linkedin_misinformation-xOmYosQV/lib/python3.8/site-packages/lightgbm/engine.py:177: UserWarning: Found `num_iterations` in params. Will use it instead of argument\n",
      "  _log_warning(f\"Found `{alias}` in params. Will use it instead of argument\")\n",
      "/home/slazien/.local/share/virtualenvs/linkedin_misinformation-xOmYosQV/lib/python3.8/site-packages/lightgbm/engine.py:177: UserWarning: Found `num_iterations` in params. Will use it instead of argument\n",
      "  _log_warning(f\"Found `{alias}` in params. Will use it instead of argument\")\n",
      "/home/slazien/.local/share/virtualenvs/linkedin_misinformation-xOmYosQV/lib/python3.8/site-packages/lightgbm/engine.py:177: UserWarning: Found `num_iterations` in params. Will use it instead of argument\n",
      "  _log_warning(f\"Found `{alias}` in params. Will use it instead of argument\")\n",
      "/home/slazien/.local/share/virtualenvs/linkedin_misinformation-xOmYosQV/lib/python3.8/site-packages/lightgbm/engine.py:177: UserWarning: Found `num_iterations` in params. Will use it instead of argument\n",
      "  _log_warning(f\"Found `{alias}` in params. Will use it instead of argument\")\n"
     ]
    },
    {
     "name": "stdout",
     "output_type": "stream",
     "text": [
      "[CV] END learning_rate=0.1, max_depth=10, min_data_in_leaf=500, num_iterations=500, num_leaves=50; total time=   0.1s\n",
      "[LightGBM] [Warning] min_data_in_leaf is set=500, min_child_samples=20 will be ignored. Current value: min_data_in_leaf=500\n",
      "[CV] END learning_rate=0.1, max_depth=10, min_data_in_leaf=500, num_iterations=500, num_leaves=50; total time=   0.1s\n",
      "[CV] END learning_rate=0.1, max_depth=10, min_data_in_leaf=100, num_iterations=500, num_leaves=50; total time=   7.9s\n",
      "[CV] END learning_rate=0.1, max_depth=10, min_data_in_leaf=500, num_iterations=500, num_leaves=50; total time=   0.1s\n",
      "[CV] END learning_rate=0.1, max_depth=10, min_data_in_leaf=500, num_iterations=500, num_leaves=50; total time=   0.1s\n",
      "[CV] END learning_rate=0.1, max_depth=10, min_data_in_leaf=100, num_iterations=500, num_leaves=50; total time=   7.8s\n",
      "[CV] END learning_rate=0.1, max_depth=10, min_data_in_leaf=10, num_iterations=500, num_leaves=50; total time=  31.3s\n",
      "[CV] END learning_rate=0.1, max_depth=10, min_data_in_leaf=10, num_iterations=500, num_leaves=50; total time=  31.1s\n",
      "[CV] END learning_rate=0.1, max_depth=10, min_data_in_leaf=100, num_iterations=500, num_leaves=50; total time=   4.8s\n",
      "[LightGBM] [Warning] min_data_in_leaf is set=100, min_child_samples=20 will be ignored. Current value: min_data_in_leaf=100\n"
     ]
    },
    {
     "name": "stderr",
     "output_type": "stream",
     "text": [
      "\u001b[1;33mUserWarning: Found `num_iterations` in params. Will use it instead of argument\u001b[0m \u001b[1;30m(raised from /home/slazien/.local/share/virtualenvs/linkedin_misinformation-xOmYosQV/lib/python3.8/site-packages/lightgbm/engine.py:177)\u001b[0m\n"
     ]
    }
   ],
   "source": [
    "# parameters_lgb = {\n",
    "#     \"num_leaves\": [10, 20, 50],\n",
    "#     \"num_iterations\": [50, 100, 200],\n",
    "#     \"learning_rate\": [0.01, 0.1],\n",
    "#     \"max_depth\": [-1, 10, 50],\n",
    "#     \"min_data_in_leaf\": [1, 10, 100, 1000]\n",
    "# }\n",
    "parameters_lgb = {\n",
    "    \"num_leaves\": [10, 50],\n",
    "    \"num_iterations\": [100, 500],\n",
    "    \"learning_rate\": [0.01, 0.1],\n",
    "    \"max_depth\": [-1, 10],\n",
    "    \"min_data_in_leaf\": [10, 100, 500]\n",
    "}\n",
    "estimator_lgb = lgb.LGBMClassifier(objective=\"binary\", random_state=SEED)\n",
    "grid_search_lgb = GridSearchCV(\n",
    "    estimator=estimator_lgb,\n",
    "    param_grid=parameters_lgb,\n",
    "    scoring=\"f1\",\n",
    "    n_jobs=-1,\n",
    "    cv=5,\n",
    "    verbose=2\n",
    ")\n",
    "grid_search_lgb.fit(X_train, y_train)\n",
    "preds_lgb = grid_search_lgb.predict(X_test)"
   ]
  },
  {
   "cell_type": "code",
   "execution_count": 63,
   "id": "0f7e0f8b",
   "metadata": {},
   "outputs": [
    {
     "name": "stdout",
     "output_type": "stream",
     "text": [
      "precision: 0.75\n",
      "recall: 0.654\n",
      "f1: 0.699\n",
      "AUC: 0.755\n"
     ]
    }
   ],
   "source": [
    "print_perf_metrics(preds_lgb, y_test)"
   ]
  },
  {
   "cell_type": "code",
   "execution_count": 184,
   "id": "8c186a01",
   "metadata": {},
   "outputs": [
    {
     "name": "stdout",
     "output_type": "stream",
     "text": [
      "precision: 0.633\n",
      "recall: 0.339\n",
      "f1: 0.442\n",
      "AUC: 0.609\n"
     ]
    }
   ],
   "source": [
    "print_perf_metrics(preds_lgb, y_test)"
   ]
  },
  {
   "cell_type": "code",
   "execution_count": 21,
   "id": "6f9fb243",
   "metadata": {},
   "outputs": [
    {
     "name": "stdout",
     "output_type": "stream",
     "text": [
      "precision: 0.609\n",
      "recall: 0.609\n",
      "f1: 0.609\n"
     ]
    }
   ],
   "source": [
    "# 3-class\n",
    "precision = precision_score(y_test, preds_lgb, average=\"micro\")\n",
    "recall = recall_score(y_test, preds_lgb, average=\"micro\")\n",
    "f1 = f1_score(y_test, preds_lgb, average=\"micro\")\n",
    "# roc_auc = roc_auc_score(y_test, preds_lgb)\n",
    "\n",
    "print(\"precision: {}\".format(round(precision, 3)))\n",
    "print(\"recall: {}\".format(round(recall, 3)))\n",
    "print(\"f1: {}\".format(round(f1, 3)))\n",
    "# print(\"AUC: {}\".format(round(roc_auc, 3)))"
   ]
  },
  {
   "cell_type": "code",
   "execution_count": 22,
   "id": "0866b14c",
   "metadata": {},
   "outputs": [],
   "source": [
    "pickle_lgb = pickle.dumps(grid_search_lgb)"
   ]
  },
  {
   "cell_type": "code",
   "execution_count": 23,
   "id": "e14dd9da",
   "metadata": {},
   "outputs": [],
   "source": [
    "lgb_from_pickle = pickle.loads(pickle_lgb)"
   ]
  },
  {
   "cell_type": "markdown",
   "id": "18173f6e-f571-484b-8ab1-92c7b3da06e3",
   "metadata": {},
   "source": [
    "## XGBoost"
   ]
  },
  {
   "cell_type": "code",
   "execution_count": 303,
   "id": "fd2cf711-5a49-446f-84aa-9776cc0a6acf",
   "metadata": {},
   "outputs": [
    {
     "name": "stdout",
     "output_type": "stream",
     "text": [
      "Fitting 10 folds for each of 48 candidates, totalling 480 fits\n",
      "[CV] END ...learning_rate=0.1, max_depth=2, n_estimators=100; total time=   1.2s\n",
      "[CV] END ...learning_rate=0.1, max_depth=2, n_estimators=100; total time=   1.1s\n",
      "[CV] END ...learning_rate=0.1, max_depth=2, n_estimators=100; total time=   1.2s\n",
      "[CV] END ...learning_rate=0.1, max_depth=2, n_estimators=100; total time=   1.3s\n",
      "[CV] END ...learning_rate=0.1, max_depth=2, n_estimators=100; total time=   1.3s\n",
      "[CV] END ...learning_rate=0.1, max_depth=2, n_estimators=100; total time=   1.2s\n",
      "[CV] END ...learning_rate=0.1, max_depth=2, n_estimators=100; total time=   1.4s\n",
      "[CV] END ...learning_rate=0.1, max_depth=2, n_estimators=100; total time=   1.3s\n",
      "[CV] END ...learning_rate=0.1, max_depth=2, n_estimators=100; total time=   1.2s\n",
      "[CV] END ...learning_rate=0.1, max_depth=2, n_estimators=100; total time=   1.2s\n",
      "[CV] END ...learning_rate=0.1, max_depth=2, n_estimators=200; total time=   2.6s\n",
      "[CV] END ...learning_rate=0.1, max_depth=2, n_estimators=200; total time=   2.4s\n",
      "[CV] END ...learning_rate=0.1, max_depth=2, n_estimators=200; total time=   2.5s\n",
      "[CV] END ...learning_rate=0.1, max_depth=2, n_estimators=200; total time=   2.5s\n",
      "[CV] END ...learning_rate=0.1, max_depth=2, n_estimators=200; total time=   2.5s\n",
      "[CV] END ...learning_rate=0.1, max_depth=2, n_estimators=200; total time=   2.5s\n",
      "[CV] END ...learning_rate=0.1, max_depth=2, n_estimators=200; total time=   2.5s\n",
      "[CV] END ...learning_rate=0.1, max_depth=2, n_estimators=200; total time=   2.5s\n",
      "[CV] END ...learning_rate=0.1, max_depth=2, n_estimators=200; total time=   2.5s\n",
      "[CV] END ...learning_rate=0.1, max_depth=2, n_estimators=200; total time=   2.6s\n",
      "[CV] END ...learning_rate=0.1, max_depth=2, n_estimators=300; total time=   3.9s\n",
      "[CV] END ...learning_rate=0.1, max_depth=2, n_estimators=300; total time=   3.9s\n",
      "[CV] END ...learning_rate=0.1, max_depth=2, n_estimators=300; total time=   3.9s\n",
      "[CV] END ...learning_rate=0.1, max_depth=2, n_estimators=300; total time=   3.9s\n",
      "[CV] END ...learning_rate=0.1, max_depth=2, n_estimators=300; total time=   4.1s\n",
      "[CV] END ...learning_rate=0.1, max_depth=2, n_estimators=300; total time=   3.9s\n",
      "[CV] END ...learning_rate=0.1, max_depth=2, n_estimators=300; total time=   3.9s\n",
      "[CV] END ...learning_rate=0.1, max_depth=2, n_estimators=300; total time=   3.9s\n",
      "[CV] END ...learning_rate=0.1, max_depth=2, n_estimators=300; total time=   4.0s\n",
      "[CV] END ...learning_rate=0.1, max_depth=2, n_estimators=300; total time=   3.9s\n",
      "[CV] END ...learning_rate=0.1, max_depth=2, n_estimators=400; total time=   5.8s\n",
      "[CV] END ...learning_rate=0.1, max_depth=2, n_estimators=400; total time=   5.2s\n",
      "[CV] END ...learning_rate=0.1, max_depth=2, n_estimators=400; total time=   5.1s\n",
      "[CV] END ...learning_rate=0.1, max_depth=2, n_estimators=400; total time=   5.2s\n",
      "[CV] END ...learning_rate=0.1, max_depth=2, n_estimators=400; total time=   5.1s\n",
      "[CV] END ...learning_rate=0.1, max_depth=2, n_estimators=400; total time=   5.3s\n",
      "[CV] END ...learning_rate=0.1, max_depth=2, n_estimators=400; total time=   5.3s\n",
      "[CV] END ...learning_rate=0.1, max_depth=2, n_estimators=400; total time=   5.3s\n",
      "[CV] END ...learning_rate=0.1, max_depth=2, n_estimators=400; total time=   5.4s\n",
      "[CV] END ...learning_rate=0.1, max_depth=2, n_estimators=400; total time=   5.3s\n",
      "[CV] END ...learning_rate=0.1, max_depth=4, n_estimators=100; total time=   2.5s\n",
      "[CV] END ...learning_rate=0.1, max_depth=4, n_estimators=100; total time=   2.5s\n",
      "[CV] END ...learning_rate=0.1, max_depth=4, n_estimators=100; total time=   2.5s\n",
      "[CV] END ...learning_rate=0.1, max_depth=4, n_estimators=100; total time=   2.5s\n",
      "[CV] END ...learning_rate=0.1, max_depth=4, n_estimators=100; total time=   2.5s\n",
      "[CV] END ...learning_rate=0.1, max_depth=4, n_estimators=100; total time=   2.5s\n",
      "[CV] END ...learning_rate=0.1, max_depth=4, n_estimators=100; total time=   2.5s\n",
      "[CV] END ...learning_rate=0.1, max_depth=4, n_estimators=100; total time=   2.6s\n",
      "[CV] END ...learning_rate=0.1, max_depth=4, n_estimators=100; total time=   2.5s\n",
      "[CV] END ...learning_rate=0.1, max_depth=4, n_estimators=100; total time=   3.9s\n",
      "[CV] END ...learning_rate=0.1, max_depth=4, n_estimators=200; total time=   4.4s\n",
      "[CV] END ...learning_rate=0.1, max_depth=4, n_estimators=200; total time=   4.4s\n",
      "[CV] END ...learning_rate=0.1, max_depth=4, n_estimators=200; total time=   4.3s\n",
      "[CV] END ...learning_rate=0.1, max_depth=4, n_estimators=200; total time=   4.4s\n",
      "[CV] END ...learning_rate=0.1, max_depth=4, n_estimators=200; total time=   4.4s\n",
      "[CV] END ...learning_rate=0.1, max_depth=4, n_estimators=200; total time=   4.4s\n",
      "[CV] END ...learning_rate=0.1, max_depth=4, n_estimators=200; total time=   4.3s\n",
      "[CV] END ...learning_rate=0.1, max_depth=4, n_estimators=200; total time=   4.4s\n",
      "[CV] END ...learning_rate=0.1, max_depth=4, n_estimators=200; total time=   4.5s\n",
      "[CV] END ...learning_rate=0.1, max_depth=4, n_estimators=200; total time=   4.5s\n",
      "[CV] END ...learning_rate=0.1, max_depth=4, n_estimators=300; total time=   6.5s\n",
      "[CV] END ...learning_rate=0.1, max_depth=4, n_estimators=300; total time=   5.8s\n",
      "[CV] END ...learning_rate=0.1, max_depth=4, n_estimators=300; total time=   5.6s\n",
      "[CV] END ...learning_rate=0.1, max_depth=4, n_estimators=300; total time=   5.6s\n",
      "[CV] END ...learning_rate=0.1, max_depth=4, n_estimators=300; total time=   5.6s\n",
      "[CV] END ...learning_rate=0.1, max_depth=4, n_estimators=300; total time=   5.7s\n",
      "[CV] END ...learning_rate=0.1, max_depth=4, n_estimators=300; total time=   5.5s\n",
      "[CV] END ...learning_rate=0.1, max_depth=4, n_estimators=300; total time=   5.6s\n",
      "[CV] END ...learning_rate=0.1, max_depth=4, n_estimators=300; total time=   5.5s\n",
      "[CV] END ...learning_rate=0.1, max_depth=4, n_estimators=300; total time=   5.8s\n",
      "[CV] END ...learning_rate=0.1, max_depth=4, n_estimators=400; total time=   6.7s\n",
      "[CV] END ...learning_rate=0.1, max_depth=4, n_estimators=400; total time=   6.6s\n",
      "[CV] END ...learning_rate=0.1, max_depth=4, n_estimators=400; total time=   6.5s\n",
      "[CV] END ...learning_rate=0.1, max_depth=4, n_estimators=400; total time=   6.5s\n",
      "[CV] END ...learning_rate=0.1, max_depth=4, n_estimators=400; total time=   6.7s\n",
      "[CV] END ...learning_rate=0.1, max_depth=4, n_estimators=400; total time=   6.8s\n",
      "[CV] END ...learning_rate=0.1, max_depth=4, n_estimators=400; total time=   6.8s\n",
      "[CV] END ...learning_rate=0.1, max_depth=4, n_estimators=400; total time=   6.7s\n",
      "[CV] END ...learning_rate=0.1, max_depth=4, n_estimators=400; total time=   6.7s\n",
      "[CV] END ...learning_rate=0.1, max_depth=4, n_estimators=400; total time=   7.4s\n",
      "[CV] END ...learning_rate=0.1, max_depth=6, n_estimators=100; total time=   2.7s\n",
      "[CV] END ...learning_rate=0.1, max_depth=6, n_estimators=100; total time=   2.8s\n",
      "[CV] END ...learning_rate=0.1, max_depth=6, n_estimators=100; total time=   2.8s\n",
      "[CV] END ...learning_rate=0.1, max_depth=6, n_estimators=100; total time=   2.9s\n",
      "[CV] END ...learning_rate=0.1, max_depth=6, n_estimators=100; total time=   2.9s\n",
      "[CV] END ...learning_rate=0.1, max_depth=6, n_estimators=100; total time=   2.9s\n",
      "[CV] END ...learning_rate=0.1, max_depth=6, n_estimators=100; total time=   3.1s\n",
      "[CV] END ...learning_rate=0.1, max_depth=6, n_estimators=100; total time=   3.1s\n",
      "[CV] END ...learning_rate=0.1, max_depth=6, n_estimators=100; total time=   3.2s\n",
      "[CV] END ...learning_rate=0.1, max_depth=6, n_estimators=100; total time=   3.1s\n",
      "[CV] END ...learning_rate=0.1, max_depth=6, n_estimators=200; total time=   4.9s\n",
      "[CV] END ...learning_rate=0.1, max_depth=6, n_estimators=200; total time=   4.8s\n",
      "[CV] END ...learning_rate=0.1, max_depth=6, n_estimators=200; total time=   4.6s\n",
      "[CV] END ...learning_rate=0.1, max_depth=6, n_estimators=200; total time=   4.7s\n",
      "[CV] END ...learning_rate=0.1, max_depth=6, n_estimators=200; total time=   4.8s\n",
      "[CV] END ...learning_rate=0.1, max_depth=6, n_estimators=200; total time=   4.8s\n",
      "[CV] END ...learning_rate=0.1, max_depth=6, n_estimators=200; total time=   4.6s\n",
      "[CV] END ...learning_rate=0.1, max_depth=6, n_estimators=200; total time=   4.7s\n",
      "[CV] END ...learning_rate=0.1, max_depth=6, n_estimators=200; total time=   4.6s\n",
      "[CV] END ...learning_rate=0.1, max_depth=6, n_estimators=200; total time=   4.7s\n",
      "[CV] END ...learning_rate=0.1, max_depth=6, n_estimators=300; total time=   5.9s\n",
      "[CV] END ...learning_rate=0.1, max_depth=6, n_estimators=300; total time=   6.0s\n",
      "[CV] END ...learning_rate=0.1, max_depth=6, n_estimators=300; total time=   5.8s\n",
      "[CV] END ...learning_rate=0.1, max_depth=6, n_estimators=300; total time=   5.8s\n",
      "[CV] END ...learning_rate=0.1, max_depth=6, n_estimators=300; total time=   5.9s\n",
      "[CV] END ...learning_rate=0.1, max_depth=6, n_estimators=300; total time=   6.0s\n",
      "[CV] END ...learning_rate=0.1, max_depth=6, n_estimators=300; total time=   6.6s\n",
      "[CV] END ...learning_rate=0.1, max_depth=6, n_estimators=300; total time=   5.9s\n",
      "[CV] END ...learning_rate=0.1, max_depth=6, n_estimators=300; total time=   6.0s\n",
      "[CV] END ...learning_rate=0.1, max_depth=6, n_estimators=300; total time=   5.9s\n",
      "[CV] END ...learning_rate=0.1, max_depth=6, n_estimators=400; total time=   6.7s\n",
      "[CV] END ...learning_rate=0.1, max_depth=6, n_estimators=400; total time=   6.7s\n",
      "[CV] END ...learning_rate=0.1, max_depth=6, n_estimators=400; total time=   6.5s\n",
      "[CV] END ...learning_rate=0.1, max_depth=6, n_estimators=400; total time=   6.8s\n",
      "[CV] END ...learning_rate=0.1, max_depth=6, n_estimators=400; total time=   6.7s\n",
      "[CV] END ...learning_rate=0.1, max_depth=6, n_estimators=400; total time=   6.8s\n",
      "[CV] END ...learning_rate=0.1, max_depth=6, n_estimators=400; total time=   6.5s\n",
      "[CV] END ...learning_rate=0.1, max_depth=6, n_estimators=400; total time=   6.8s\n",
      "[CV] END ...learning_rate=0.1, max_depth=6, n_estimators=400; total time=   6.5s\n",
      "[CV] END ...learning_rate=0.1, max_depth=6, n_estimators=400; total time=   6.8s\n",
      "[CV] END ...learning_rate=0.1, max_depth=8, n_estimators=100; total time=   3.2s\n",
      "[CV] END ...learning_rate=0.1, max_depth=8, n_estimators=100; total time=   3.5s\n",
      "[CV] END ...learning_rate=0.1, max_depth=8, n_estimators=100; total time=   3.4s\n",
      "[CV] END ...learning_rate=0.1, max_depth=8, n_estimators=100; total time=   3.3s\n",
      "[CV] END ...learning_rate=0.1, max_depth=8, n_estimators=100; total time=   3.2s\n",
      "[CV] END ...learning_rate=0.1, max_depth=8, n_estimators=100; total time=   3.3s\n",
      "[CV] END ...learning_rate=0.1, max_depth=8, n_estimators=100; total time=   3.2s\n",
      "[CV] END ...learning_rate=0.1, max_depth=8, n_estimators=100; total time=   3.2s\n",
      "[CV] END ...learning_rate=0.1, max_depth=8, n_estimators=100; total time=   3.3s\n",
      "[CV] END ...learning_rate=0.1, max_depth=8, n_estimators=100; total time=   3.3s\n",
      "[CV] END ...learning_rate=0.1, max_depth=8, n_estimators=200; total time=   5.3s\n",
      "[CV] END ...learning_rate=0.1, max_depth=8, n_estimators=200; total time=   4.4s\n",
      "[CV] END ...learning_rate=0.1, max_depth=8, n_estimators=200; total time=   4.7s\n",
      "[CV] END ...learning_rate=0.1, max_depth=8, n_estimators=200; total time=   4.6s\n",
      "[CV] END ...learning_rate=0.1, max_depth=8, n_estimators=200; total time=   4.8s\n",
      "[CV] END ...learning_rate=0.1, max_depth=8, n_estimators=200; total time=   5.0s\n",
      "[CV] END ...learning_rate=0.1, max_depth=8, n_estimators=200; total time=   5.0s\n",
      "[CV] END ...learning_rate=0.1, max_depth=8, n_estimators=200; total time=   4.9s\n",
      "[CV] END ...learning_rate=0.1, max_depth=8, n_estimators=200; total time=   4.9s\n",
      "[CV] END ...learning_rate=0.1, max_depth=8, n_estimators=200; total time=   5.1s\n",
      "[CV] END ...learning_rate=0.1, max_depth=8, n_estimators=300; total time=   5.9s\n",
      "[CV] END ...learning_rate=0.1, max_depth=8, n_estimators=300; total time=   6.0s\n",
      "[CV] END ...learning_rate=0.1, max_depth=8, n_estimators=300; total time=   6.0s\n",
      "[CV] END ...learning_rate=0.1, max_depth=8, n_estimators=300; total time=   5.8s\n",
      "[CV] END ...learning_rate=0.1, max_depth=8, n_estimators=300; total time=   5.9s\n",
      "[CV] END ...learning_rate=0.1, max_depth=8, n_estimators=300; total time=   6.1s\n",
      "[CV] END ...learning_rate=0.1, max_depth=8, n_estimators=300; total time=   6.0s\n",
      "[CV] END ...learning_rate=0.1, max_depth=8, n_estimators=300; total time=   6.0s\n",
      "[CV] END ...learning_rate=0.1, max_depth=8, n_estimators=300; total time=   6.2s\n",
      "[CV] END ...learning_rate=0.1, max_depth=8, n_estimators=300; total time=   5.9s\n",
      "[CV] END ...learning_rate=0.1, max_depth=8, n_estimators=400; total time=   6.8s\n",
      "[CV] END ...learning_rate=0.1, max_depth=8, n_estimators=400; total time=   7.6s\n",
      "[CV] END ...learning_rate=0.1, max_depth=8, n_estimators=400; total time=   7.0s\n",
      "[CV] END ...learning_rate=0.1, max_depth=8, n_estimators=400; total time=   6.9s\n",
      "[CV] END ...learning_rate=0.1, max_depth=8, n_estimators=400; total time=   6.8s\n",
      "[CV] END ...learning_rate=0.1, max_depth=8, n_estimators=400; total time=   6.9s\n",
      "[CV] END ...learning_rate=0.1, max_depth=8, n_estimators=400; total time=   6.9s\n",
      "[CV] END ...learning_rate=0.1, max_depth=8, n_estimators=400; total time=   7.0s\n",
      "[CV] END ...learning_rate=0.1, max_depth=8, n_estimators=400; total time=   6.7s\n",
      "[CV] END ...learning_rate=0.1, max_depth=8, n_estimators=400; total time=   6.9s\n",
      "[CV] END ..learning_rate=0.05, max_depth=2, n_estimators=100; total time=   1.4s\n",
      "[CV] END ..learning_rate=0.05, max_depth=2, n_estimators=100; total time=   1.4s\n",
      "[CV] END ..learning_rate=0.05, max_depth=2, n_estimators=100; total time=   1.4s\n",
      "[CV] END ..learning_rate=0.05, max_depth=2, n_estimators=100; total time=   1.4s\n",
      "[CV] END ..learning_rate=0.05, max_depth=2, n_estimators=100; total time=   1.5s\n",
      "[CV] END ..learning_rate=0.05, max_depth=2, n_estimators=100; total time=   1.4s\n",
      "[CV] END ..learning_rate=0.05, max_depth=2, n_estimators=100; total time=   1.4s\n",
      "[CV] END ..learning_rate=0.05, max_depth=2, n_estimators=100; total time=   1.4s\n",
      "[CV] END ..learning_rate=0.05, max_depth=2, n_estimators=100; total time=   1.4s\n",
      "[CV] END ..learning_rate=0.05, max_depth=2, n_estimators=100; total time=   1.4s\n",
      "[CV] END ..learning_rate=0.05, max_depth=2, n_estimators=200; total time=   2.7s\n",
      "[CV] END ..learning_rate=0.05, max_depth=2, n_estimators=200; total time=   2.8s\n",
      "[CV] END ..learning_rate=0.05, max_depth=2, n_estimators=200; total time=   2.8s\n",
      "[CV] END ..learning_rate=0.05, max_depth=2, n_estimators=200; total time=   2.9s\n",
      "[CV] END ..learning_rate=0.05, max_depth=2, n_estimators=200; total time=   2.9s\n",
      "[CV] END ..learning_rate=0.05, max_depth=2, n_estimators=200; total time=   2.9s\n",
      "[CV] END ..learning_rate=0.05, max_depth=2, n_estimators=200; total time=   2.8s\n",
      "[CV] END ..learning_rate=0.05, max_depth=2, n_estimators=200; total time=   2.8s\n",
      "[CV] END ..learning_rate=0.05, max_depth=2, n_estimators=200; total time=   2.8s\n",
      "[CV] END ..learning_rate=0.05, max_depth=2, n_estimators=200; total time=   3.0s\n",
      "[CV] END ..learning_rate=0.05, max_depth=2, n_estimators=300; total time=   4.2s\n",
      "[CV] END ..learning_rate=0.05, max_depth=2, n_estimators=300; total time=   4.2s\n",
      "[CV] END ..learning_rate=0.05, max_depth=2, n_estimators=300; total time=   4.2s\n",
      "[CV] END ..learning_rate=0.05, max_depth=2, n_estimators=300; total time=   4.1s\n",
      "[CV] END ..learning_rate=0.05, max_depth=2, n_estimators=300; total time=   4.9s\n",
      "[CV] END ..learning_rate=0.05, max_depth=2, n_estimators=300; total time=   4.3s\n",
      "[CV] END ..learning_rate=0.05, max_depth=2, n_estimators=300; total time=   4.4s\n",
      "[CV] END ..learning_rate=0.05, max_depth=2, n_estimators=300; total time=   4.3s\n",
      "[CV] END ..learning_rate=0.05, max_depth=2, n_estimators=300; total time=   4.3s\n",
      "[CV] END ..learning_rate=0.05, max_depth=2, n_estimators=300; total time=   4.4s\n",
      "[CV] END ..learning_rate=0.05, max_depth=2, n_estimators=400; total time=   5.5s\n",
      "[CV] END ..learning_rate=0.05, max_depth=2, n_estimators=400; total time=   5.5s\n",
      "[CV] END ..learning_rate=0.05, max_depth=2, n_estimators=400; total time=   5.5s\n",
      "[CV] END ..learning_rate=0.05, max_depth=2, n_estimators=400; total time=   5.5s\n",
      "[CV] END ..learning_rate=0.05, max_depth=2, n_estimators=400; total time=   5.6s\n",
      "[CV] END ..learning_rate=0.05, max_depth=2, n_estimators=400; total time=   5.7s\n",
      "[CV] END ..learning_rate=0.05, max_depth=2, n_estimators=400; total time=   5.5s\n",
      "[CV] END ..learning_rate=0.05, max_depth=2, n_estimators=400; total time=   5.5s\n",
      "[CV] END ..learning_rate=0.05, max_depth=2, n_estimators=400; total time=   5.6s\n",
      "[CV] END ..learning_rate=0.05, max_depth=2, n_estimators=400; total time=   5.5s\n",
      "[CV] END ..learning_rate=0.05, max_depth=4, n_estimators=100; total time=   2.7s\n",
      "[CV] END ..learning_rate=0.05, max_depth=4, n_estimators=100; total time=   2.8s\n",
      "[CV] END ..learning_rate=0.05, max_depth=4, n_estimators=100; total time=   2.6s\n",
      "[CV] END ..learning_rate=0.05, max_depth=4, n_estimators=100; total time=   2.6s\n",
      "[CV] END ..learning_rate=0.05, max_depth=4, n_estimators=100; total time=   2.6s\n",
      "[CV] END ..learning_rate=0.05, max_depth=4, n_estimators=100; total time=   2.6s\n",
      "[CV] END ..learning_rate=0.05, max_depth=4, n_estimators=100; total time=   2.7s\n",
      "[CV] END ..learning_rate=0.05, max_depth=4, n_estimators=100; total time=   2.6s\n",
      "[CV] END ..learning_rate=0.05, max_depth=4, n_estimators=100; total time=   2.6s\n",
      "[CV] END ..learning_rate=0.05, max_depth=4, n_estimators=100; total time=   2.7s\n",
      "[CV] END ..learning_rate=0.05, max_depth=4, n_estimators=200; total time=   5.1s\n",
      "[CV] END ..learning_rate=0.05, max_depth=4, n_estimators=200; total time=   5.3s\n",
      "[CV] END ..learning_rate=0.05, max_depth=4, n_estimators=200; total time=   5.9s\n",
      "[CV] END ..learning_rate=0.05, max_depth=4, n_estimators=200; total time=   5.3s\n",
      "[CV] END ..learning_rate=0.05, max_depth=4, n_estimators=200; total time=   5.3s\n",
      "[CV] END ..learning_rate=0.05, max_depth=4, n_estimators=200; total time=   5.4s\n",
      "[CV] END ..learning_rate=0.05, max_depth=4, n_estimators=200; total time=   5.3s\n",
      "[CV] END ..learning_rate=0.05, max_depth=4, n_estimators=200; total time=   5.4s\n",
      "[CV] END ..learning_rate=0.05, max_depth=4, n_estimators=200; total time=   5.3s\n",
      "[CV] END ..learning_rate=0.05, max_depth=4, n_estimators=200; total time=   5.3s\n",
      "[CV] END ..learning_rate=0.05, max_depth=4, n_estimators=300; total time=   7.5s\n",
      "[CV] END ..learning_rate=0.05, max_depth=4, n_estimators=300; total time=   7.2s\n",
      "[CV] END ..learning_rate=0.05, max_depth=4, n_estimators=300; total time=   7.3s\n",
      "[CV] END ..learning_rate=0.05, max_depth=4, n_estimators=300; total time=   7.5s\n",
      "[CV] END ..learning_rate=0.05, max_depth=4, n_estimators=300; total time=   7.3s\n",
      "[CV] END ..learning_rate=0.05, max_depth=4, n_estimators=300; total time=   7.2s\n",
      "[CV] END ..learning_rate=0.05, max_depth=4, n_estimators=300; total time=   7.2s\n",
      "[CV] END ..learning_rate=0.05, max_depth=4, n_estimators=300; total time=   7.2s\n",
      "[CV] END ..learning_rate=0.05, max_depth=4, n_estimators=300; total time=   7.0s\n",
      "[CV] END ..learning_rate=0.05, max_depth=4, n_estimators=300; total time=   7.1s\n",
      "[CV] END ..learning_rate=0.05, max_depth=4, n_estimators=400; total time=   9.5s\n",
      "[CV] END ..learning_rate=0.05, max_depth=4, n_estimators=400; total time=   8.8s\n",
      "[CV] END ..learning_rate=0.05, max_depth=4, n_estimators=400; total time=   8.7s\n",
      "[CV] END ..learning_rate=0.05, max_depth=4, n_estimators=400; total time=   9.1s\n",
      "[CV] END ..learning_rate=0.05, max_depth=4, n_estimators=400; total time=   9.1s\n",
      "[CV] END ..learning_rate=0.05, max_depth=4, n_estimators=400; total time=   9.0s\n",
      "[CV] END ..learning_rate=0.05, max_depth=4, n_estimators=400; total time=   8.8s\n",
      "[CV] END ..learning_rate=0.05, max_depth=4, n_estimators=400; total time=   9.0s\n",
      "[CV] END ..learning_rate=0.05, max_depth=4, n_estimators=400; total time=   8.9s\n",
      "[CV] END ..learning_rate=0.05, max_depth=4, n_estimators=400; total time=   9.1s\n",
      "[CV] END ..learning_rate=0.05, max_depth=6, n_estimators=100; total time=   3.6s\n",
      "[CV] END ..learning_rate=0.05, max_depth=6, n_estimators=100; total time=   3.5s\n",
      "[CV] END ..learning_rate=0.05, max_depth=6, n_estimators=100; total time=   3.6s\n",
      "[CV] END ..learning_rate=0.05, max_depth=6, n_estimators=100; total time=   3.7s\n",
      "[CV] END ..learning_rate=0.05, max_depth=6, n_estimators=100; total time=   3.5s\n",
      "[CV] END ..learning_rate=0.05, max_depth=6, n_estimators=100; total time=   3.5s\n",
      "[CV] END ..learning_rate=0.05, max_depth=6, n_estimators=100; total time=   3.6s\n",
      "[CV] END ..learning_rate=0.05, max_depth=6, n_estimators=100; total time=   3.7s\n",
      "[CV] END ..learning_rate=0.05, max_depth=6, n_estimators=100; total time=   3.6s\n",
      "[CV] END ..learning_rate=0.05, max_depth=6, n_estimators=100; total time=   3.5s\n",
      "[CV] END ..learning_rate=0.05, max_depth=6, n_estimators=200; total time=   6.3s\n",
      "[CV] END ..learning_rate=0.05, max_depth=6, n_estimators=200; total time=   6.3s\n",
      "[CV] END ..learning_rate=0.05, max_depth=6, n_estimators=200; total time=   6.9s\n",
      "[CV] END ..learning_rate=0.05, max_depth=6, n_estimators=200; total time=   6.3s\n",
      "[CV] END ..learning_rate=0.05, max_depth=6, n_estimators=200; total time=   6.0s\n",
      "[CV] END ..learning_rate=0.05, max_depth=6, n_estimators=200; total time=   6.3s\n",
      "[CV] END ..learning_rate=0.05, max_depth=6, n_estimators=200; total time=   6.1s\n",
      "[CV] END ..learning_rate=0.05, max_depth=6, n_estimators=200; total time=   6.1s\n",
      "[CV] END ..learning_rate=0.05, max_depth=6, n_estimators=200; total time=   6.1s\n",
      "[CV] END ..learning_rate=0.05, max_depth=6, n_estimators=200; total time=   6.2s\n",
      "[CV] END ..learning_rate=0.05, max_depth=6, n_estimators=300; total time=   8.2s\n",
      "[CV] END ..learning_rate=0.05, max_depth=6, n_estimators=300; total time=   8.1s\n",
      "[CV] END ..learning_rate=0.05, max_depth=6, n_estimators=300; total time=   8.0s\n",
      "[CV] END ..learning_rate=0.05, max_depth=6, n_estimators=300; total time=   7.9s\n",
      "[CV] END ..learning_rate=0.05, max_depth=6, n_estimators=300; total time=   7.8s\n",
      "[CV] END ..learning_rate=0.05, max_depth=6, n_estimators=300; total time=   8.1s\n",
      "[CV] END ..learning_rate=0.05, max_depth=6, n_estimators=300; total time=   7.9s\n",
      "[CV] END ..learning_rate=0.05, max_depth=6, n_estimators=300; total time=   8.1s\n",
      "[CV] END ..learning_rate=0.05, max_depth=6, n_estimators=300; total time=   7.9s\n",
      "[CV] END ..learning_rate=0.05, max_depth=6, n_estimators=300; total time=   8.2s\n",
      "[CV] END ..learning_rate=0.05, max_depth=6, n_estimators=400; total time=   9.2s\n",
      "[CV] END ..learning_rate=0.05, max_depth=6, n_estimators=400; total time=   9.5s\n",
      "[CV] END ..learning_rate=0.05, max_depth=6, n_estimators=400; total time=   9.5s\n",
      "[CV] END ..learning_rate=0.05, max_depth=6, n_estimators=400; total time=   9.4s\n",
      "[CV] END ..learning_rate=0.05, max_depth=6, n_estimators=400; total time=  10.2s\n",
      "[CV] END ..learning_rate=0.05, max_depth=6, n_estimators=400; total time=   9.4s\n",
      "[CV] END ..learning_rate=0.05, max_depth=6, n_estimators=400; total time=   9.2s\n",
      "[CV] END ..learning_rate=0.05, max_depth=6, n_estimators=400; total time=   9.3s\n",
      "[CV] END ..learning_rate=0.05, max_depth=6, n_estimators=400; total time=   9.4s\n",
      "[CV] END ..learning_rate=0.05, max_depth=6, n_estimators=400; total time=   9.5s\n",
      "[CV] END ..learning_rate=0.05, max_depth=8, n_estimators=100; total time=   4.1s\n",
      "[CV] END ..learning_rate=0.05, max_depth=8, n_estimators=100; total time=   4.0s\n",
      "[CV] END ..learning_rate=0.05, max_depth=8, n_estimators=100; total time=   4.1s\n",
      "[CV] END ..learning_rate=0.05, max_depth=8, n_estimators=100; total time=   3.9s\n",
      "[CV] END ..learning_rate=0.05, max_depth=8, n_estimators=100; total time=   4.1s\n",
      "[CV] END ..learning_rate=0.05, max_depth=8, n_estimators=100; total time=   4.3s\n",
      "[CV] END ..learning_rate=0.05, max_depth=8, n_estimators=100; total time=   4.1s\n",
      "[CV] END ..learning_rate=0.05, max_depth=8, n_estimators=100; total time=   4.0s\n",
      "[CV] END ..learning_rate=0.05, max_depth=8, n_estimators=100; total time=   4.0s\n",
      "[CV] END ..learning_rate=0.05, max_depth=8, n_estimators=100; total time=   4.1s\n",
      "[CV] END ..learning_rate=0.05, max_depth=8, n_estimators=200; total time=   6.4s\n",
      "[CV] END ..learning_rate=0.05, max_depth=8, n_estimators=200; total time=   6.7s\n",
      "[CV] END ..learning_rate=0.05, max_depth=8, n_estimators=200; total time=   6.6s\n",
      "[CV] END ..learning_rate=0.05, max_depth=8, n_estimators=200; total time=   6.4s\n",
      "[CV] END ..learning_rate=0.05, max_depth=8, n_estimators=200; total time=   6.5s\n",
      "[CV] END ..learning_rate=0.05, max_depth=8, n_estimators=200; total time=   6.8s\n",
      "[CV] END ..learning_rate=0.05, max_depth=8, n_estimators=200; total time=   6.8s\n",
      "[CV] END ..learning_rate=0.05, max_depth=8, n_estimators=200; total time=   6.6s\n",
      "[CV] END ..learning_rate=0.05, max_depth=8, n_estimators=200; total time=   6.6s\n",
      "[CV] END ..learning_rate=0.05, max_depth=8, n_estimators=200; total time=   6.7s\n",
      "[CV] END ..learning_rate=0.05, max_depth=8, n_estimators=300; total time=   8.3s\n",
      "[CV] END ..learning_rate=0.05, max_depth=8, n_estimators=300; total time=   9.4s\n",
      "[CV] END ..learning_rate=0.05, max_depth=8, n_estimators=300; total time=   8.2s\n",
      "[CV] END ..learning_rate=0.05, max_depth=8, n_estimators=300; total time=   8.2s\n",
      "[CV] END ..learning_rate=0.05, max_depth=8, n_estimators=300; total time=   8.3s\n",
      "[CV] END ..learning_rate=0.05, max_depth=8, n_estimators=300; total time=   8.5s\n",
      "[CV] END ..learning_rate=0.05, max_depth=8, n_estimators=300; total time=   8.3s\n",
      "[CV] END ..learning_rate=0.05, max_depth=8, n_estimators=300; total time=   8.7s\n",
      "[CV] END ..learning_rate=0.05, max_depth=8, n_estimators=300; total time=   8.4s\n",
      "[CV] END ..learning_rate=0.05, max_depth=8, n_estimators=300; total time=   8.4s\n",
      "[CV] END ..learning_rate=0.05, max_depth=8, n_estimators=400; total time=   9.8s\n",
      "[CV] END ..learning_rate=0.05, max_depth=8, n_estimators=400; total time=   9.9s\n",
      "[CV] END ..learning_rate=0.05, max_depth=8, n_estimators=400; total time=   9.8s\n",
      "[CV] END ..learning_rate=0.05, max_depth=8, n_estimators=400; total time=   9.5s\n",
      "[CV] END ..learning_rate=0.05, max_depth=8, n_estimators=400; total time=   9.5s\n",
      "[CV] END ..learning_rate=0.05, max_depth=8, n_estimators=400; total time=  10.0s\n",
      "[CV] END ..learning_rate=0.05, max_depth=8, n_estimators=400; total time=   9.8s\n",
      "[CV] END ..learning_rate=0.05, max_depth=8, n_estimators=400; total time=   9.8s\n",
      "[CV] END ..learning_rate=0.05, max_depth=8, n_estimators=400; total time=   9.8s\n",
      "[CV] END ..learning_rate=0.05, max_depth=8, n_estimators=400; total time=   9.8s\n",
      "[CV] END ..learning_rate=0.01, max_depth=2, n_estimators=100; total time=   1.5s\n",
      "[CV] END ..learning_rate=0.01, max_depth=2, n_estimators=100; total time=   1.4s\n",
      "[CV] END ..learning_rate=0.01, max_depth=2, n_estimators=100; total time=   1.4s\n",
      "[CV] END ..learning_rate=0.01, max_depth=2, n_estimators=100; total time=   1.4s\n",
      "[CV] END ..learning_rate=0.01, max_depth=2, n_estimators=100; total time=   1.4s\n",
      "[CV] END ..learning_rate=0.01, max_depth=2, n_estimators=100; total time=   1.4s\n",
      "[CV] END ..learning_rate=0.01, max_depth=2, n_estimators=100; total time=   1.4s\n",
      "[CV] END ..learning_rate=0.01, max_depth=2, n_estimators=100; total time=   1.4s\n",
      "[CV] END ..learning_rate=0.01, max_depth=2, n_estimators=100; total time=   1.5s\n",
      "[CV] END ..learning_rate=0.01, max_depth=2, n_estimators=100; total time=   1.4s\n",
      "[CV] END ..learning_rate=0.01, max_depth=2, n_estimators=200; total time=   3.4s\n",
      "[CV] END ..learning_rate=0.01, max_depth=2, n_estimators=200; total time=   2.7s\n",
      "[CV] END ..learning_rate=0.01, max_depth=2, n_estimators=200; total time=   2.8s\n",
      "[CV] END ..learning_rate=0.01, max_depth=2, n_estimators=200; total time=   2.9s\n",
      "[CV] END ..learning_rate=0.01, max_depth=2, n_estimators=200; total time=   2.7s\n",
      "[CV] END ..learning_rate=0.01, max_depth=2, n_estimators=200; total time=   2.7s\n",
      "[CV] END ..learning_rate=0.01, max_depth=2, n_estimators=200; total time=   2.9s\n",
      "[CV] END ..learning_rate=0.01, max_depth=2, n_estimators=200; total time=   2.8s\n",
      "[CV] END ..learning_rate=0.01, max_depth=2, n_estimators=200; total time=   2.9s\n",
      "[CV] END ..learning_rate=0.01, max_depth=2, n_estimators=200; total time=   2.9s\n",
      "[CV] END ..learning_rate=0.01, max_depth=2, n_estimators=300; total time=   4.1s\n",
      "[CV] END ..learning_rate=0.01, max_depth=2, n_estimators=300; total time=   4.1s\n",
      "[CV] END ..learning_rate=0.01, max_depth=2, n_estimators=300; total time=   4.2s\n",
      "[CV] END ..learning_rate=0.01, max_depth=2, n_estimators=300; total time=   4.1s\n",
      "[CV] END ..learning_rate=0.01, max_depth=2, n_estimators=300; total time=   4.1s\n",
      "[CV] END ..learning_rate=0.01, max_depth=2, n_estimators=300; total time=   4.4s\n",
      "[CV] END ..learning_rate=0.01, max_depth=2, n_estimators=300; total time=   4.1s\n",
      "[CV] END ..learning_rate=0.01, max_depth=2, n_estimators=300; total time=   4.3s\n",
      "[CV] END ..learning_rate=0.01, max_depth=2, n_estimators=300; total time=   4.1s\n",
      "[CV] END ..learning_rate=0.01, max_depth=2, n_estimators=300; total time=   4.1s\n",
      "[CV] END ..learning_rate=0.01, max_depth=2, n_estimators=400; total time=   5.6s\n",
      "[CV] END ..learning_rate=0.01, max_depth=2, n_estimators=400; total time=   5.5s\n",
      "[CV] END ..learning_rate=0.01, max_depth=2, n_estimators=400; total time=   5.5s\n",
      "[CV] END ..learning_rate=0.01, max_depth=2, n_estimators=400; total time=   5.6s\n",
      "[CV] END ..learning_rate=0.01, max_depth=2, n_estimators=400; total time=   5.4s\n",
      "[CV] END ..learning_rate=0.01, max_depth=2, n_estimators=400; total time=   5.4s\n",
      "[CV] END ..learning_rate=0.01, max_depth=2, n_estimators=400; total time=   5.6s\n",
      "[CV] END ..learning_rate=0.01, max_depth=2, n_estimators=400; total time=   5.5s\n",
      "[CV] END ..learning_rate=0.01, max_depth=2, n_estimators=400; total time=   5.6s\n",
      "[CV] END ..learning_rate=0.01, max_depth=2, n_estimators=400; total time=   5.4s\n",
      "[CV] END ..learning_rate=0.01, max_depth=4, n_estimators=100; total time=   2.7s\n",
      "[CV] END ..learning_rate=0.01, max_depth=4, n_estimators=100; total time=   2.7s\n",
      "[CV] END ..learning_rate=0.01, max_depth=4, n_estimators=100; total time=   2.6s\n",
      "[CV] END ..learning_rate=0.01, max_depth=4, n_estimators=100; total time=   2.7s\n",
      "[CV] END ..learning_rate=0.01, max_depth=4, n_estimators=100; total time=   2.7s\n",
      "[CV] END ..learning_rate=0.01, max_depth=4, n_estimators=100; total time=   2.7s\n",
      "[CV] END ..learning_rate=0.01, max_depth=4, n_estimators=100; total time=   2.6s\n",
      "[CV] END ..learning_rate=0.01, max_depth=4, n_estimators=100; total time=   2.8s\n",
      "[CV] END ..learning_rate=0.01, max_depth=4, n_estimators=100; total time=   2.7s\n",
      "[CV] END ..learning_rate=0.01, max_depth=4, n_estimators=100; total time=   2.7s\n",
      "[CV] END ..learning_rate=0.01, max_depth=4, n_estimators=200; total time=   5.4s\n",
      "[CV] END ..learning_rate=0.01, max_depth=4, n_estimators=200; total time=   5.4s\n",
      "[CV] END ..learning_rate=0.01, max_depth=4, n_estimators=200; total time=   5.3s\n",
      "[CV] END ..learning_rate=0.01, max_depth=4, n_estimators=200; total time=   5.4s\n",
      "[CV] END ..learning_rate=0.01, max_depth=4, n_estimators=200; total time=   6.0s\n",
      "[CV] END ..learning_rate=0.01, max_depth=4, n_estimators=200; total time=   5.4s\n",
      "[CV] END ..learning_rate=0.01, max_depth=4, n_estimators=200; total time=   5.4s\n",
      "[CV] END ..learning_rate=0.01, max_depth=4, n_estimators=200; total time=   5.6s\n",
      "[CV] END ..learning_rate=0.01, max_depth=4, n_estimators=200; total time=   5.4s\n",
      "[CV] END ..learning_rate=0.01, max_depth=4, n_estimators=200; total time=   5.3s\n",
      "[CV] END ..learning_rate=0.01, max_depth=4, n_estimators=300; total time=   8.0s\n",
      "[CV] END ..learning_rate=0.01, max_depth=4, n_estimators=300; total time=   8.1s\n",
      "[CV] END ..learning_rate=0.01, max_depth=4, n_estimators=300; total time=   8.2s\n",
      "[CV] END ..learning_rate=0.01, max_depth=4, n_estimators=300; total time=   7.9s\n",
      "[CV] END ..learning_rate=0.01, max_depth=4, n_estimators=300; total time=   8.0s\n",
      "[CV] END ..learning_rate=0.01, max_depth=4, n_estimators=300; total time=   8.1s\n",
      "[CV] END ..learning_rate=0.01, max_depth=4, n_estimators=300; total time=   8.1s\n",
      "[CV] END ..learning_rate=0.01, max_depth=4, n_estimators=300; total time=   8.2s\n",
      "[CV] END ..learning_rate=0.01, max_depth=4, n_estimators=300; total time=   8.0s\n",
      "[CV] END ..learning_rate=0.01, max_depth=4, n_estimators=300; total time=   7.9s\n",
      "[CV] END ..learning_rate=0.01, max_depth=4, n_estimators=400; total time=  10.5s\n",
      "[CV] END ..learning_rate=0.01, max_depth=4, n_estimators=400; total time=  10.4s\n",
      "[CV] END ..learning_rate=0.01, max_depth=4, n_estimators=400; total time=  10.6s\n",
      "[CV] END ..learning_rate=0.01, max_depth=4, n_estimators=400; total time=  10.6s\n",
      "[CV] END ..learning_rate=0.01, max_depth=4, n_estimators=400; total time=  10.5s\n",
      "[CV] END ..learning_rate=0.01, max_depth=4, n_estimators=400; total time=  10.5s\n",
      "[CV] END ..learning_rate=0.01, max_depth=4, n_estimators=400; total time=  10.8s\n",
      "[CV] END ..learning_rate=0.01, max_depth=4, n_estimators=400; total time=  11.6s\n",
      "[CV] END ..learning_rate=0.01, max_depth=4, n_estimators=400; total time=  10.6s\n",
      "[CV] END ..learning_rate=0.01, max_depth=4, n_estimators=400; total time=  10.6s\n",
      "[CV] END ..learning_rate=0.01, max_depth=6, n_estimators=100; total time=   3.9s\n",
      "[CV] END ..learning_rate=0.01, max_depth=6, n_estimators=100; total time=   3.8s\n",
      "[CV] END ..learning_rate=0.01, max_depth=6, n_estimators=100; total time=   3.9s\n",
      "[CV] END ..learning_rate=0.01, max_depth=6, n_estimators=100; total time=   3.8s\n",
      "[CV] END ..learning_rate=0.01, max_depth=6, n_estimators=100; total time=   3.9s\n",
      "[CV] END ..learning_rate=0.01, max_depth=6, n_estimators=100; total time=   3.7s\n",
      "[CV] END ..learning_rate=0.01, max_depth=6, n_estimators=100; total time=   3.9s\n",
      "[CV] END ..learning_rate=0.01, max_depth=6, n_estimators=100; total time=   3.7s\n",
      "[CV] END ..learning_rate=0.01, max_depth=6, n_estimators=100; total time=   3.9s\n",
      "[CV] END ..learning_rate=0.01, max_depth=6, n_estimators=100; total time=   4.0s\n",
      "[CV] END ..learning_rate=0.01, max_depth=6, n_estimators=200; total time=   7.7s\n",
      "[CV] END ..learning_rate=0.01, max_depth=6, n_estimators=200; total time=   7.5s\n",
      "[CV] END ..learning_rate=0.01, max_depth=6, n_estimators=200; total time=   7.5s\n",
      "[CV] END ..learning_rate=0.01, max_depth=6, n_estimators=200; total time=   7.4s\n",
      "[CV] END ..learning_rate=0.01, max_depth=6, n_estimators=200; total time=   7.5s\n",
      "[CV] END ..learning_rate=0.01, max_depth=6, n_estimators=200; total time=   7.5s\n",
      "[CV] END ..learning_rate=0.01, max_depth=6, n_estimators=200; total time=   7.6s\n",
      "[CV] END ..learning_rate=0.01, max_depth=6, n_estimators=200; total time=   7.5s\n",
      "[CV] END ..learning_rate=0.01, max_depth=6, n_estimators=200; total time=   7.5s\n",
      "[CV] END ..learning_rate=0.01, max_depth=6, n_estimators=200; total time=   7.6s\n",
      "[CV] END ..learning_rate=0.01, max_depth=6, n_estimators=300; total time=  11.1s\n",
      "[CV] END ..learning_rate=0.01, max_depth=6, n_estimators=300; total time=  10.9s\n",
      "[CV] END ..learning_rate=0.01, max_depth=6, n_estimators=300; total time=  11.6s\n",
      "[CV] END ..learning_rate=0.01, max_depth=6, n_estimators=300; total time=  11.1s\n",
      "[CV] END ..learning_rate=0.01, max_depth=6, n_estimators=300; total time=  11.1s\n",
      "[CV] END ..learning_rate=0.01, max_depth=6, n_estimators=300; total time=  11.1s\n",
      "[CV] END ..learning_rate=0.01, max_depth=6, n_estimators=300; total time=  11.0s\n",
      "[CV] END ..learning_rate=0.01, max_depth=6, n_estimators=300; total time=  11.0s\n",
      "[CV] END ..learning_rate=0.01, max_depth=6, n_estimators=300; total time=  11.2s\n",
      "[CV] END ..learning_rate=0.01, max_depth=6, n_estimators=300; total time=  11.2s\n",
      "[CV] END ..learning_rate=0.01, max_depth=6, n_estimators=400; total time=  14.8s\n",
      "[CV] END ..learning_rate=0.01, max_depth=6, n_estimators=400; total time=  14.7s\n",
      "[CV] END ..learning_rate=0.01, max_depth=6, n_estimators=400; total time=  14.3s\n",
      "[CV] END ..learning_rate=0.01, max_depth=6, n_estimators=400; total time=  14.4s\n",
      "[CV] END ..learning_rate=0.01, max_depth=6, n_estimators=400; total time=  14.1s\n",
      "[CV] END ..learning_rate=0.01, max_depth=6, n_estimators=400; total time=  14.5s\n",
      "[CV] END ..learning_rate=0.01, max_depth=6, n_estimators=400; total time=  15.1s\n",
      "[CV] END ..learning_rate=0.01, max_depth=6, n_estimators=400; total time=  14.4s\n",
      "[CV] END ..learning_rate=0.01, max_depth=6, n_estimators=400; total time=  14.2s\n",
      "[CV] END ..learning_rate=0.01, max_depth=6, n_estimators=400; total time=  14.4s\n",
      "[CV] END ..learning_rate=0.01, max_depth=8, n_estimators=100; total time=   4.5s\n",
      "[CV] END ..learning_rate=0.01, max_depth=8, n_estimators=100; total time=   4.6s\n",
      "[CV] END ..learning_rate=0.01, max_depth=8, n_estimators=100; total time=   4.7s\n",
      "[CV] END ..learning_rate=0.01, max_depth=8, n_estimators=100; total time=   4.6s\n",
      "[CV] END ..learning_rate=0.01, max_depth=8, n_estimators=100; total time=   4.6s\n",
      "[CV] END ..learning_rate=0.01, max_depth=8, n_estimators=100; total time=   4.6s\n",
      "[CV] END ..learning_rate=0.01, max_depth=8, n_estimators=100; total time=   4.6s\n",
      "[CV] END ..learning_rate=0.01, max_depth=8, n_estimators=100; total time=   4.6s\n",
      "[CV] END ..learning_rate=0.01, max_depth=8, n_estimators=100; total time=   4.7s\n",
      "[CV] END ..learning_rate=0.01, max_depth=8, n_estimators=100; total time=   4.7s\n",
      "[CV] END ..learning_rate=0.01, max_depth=8, n_estimators=200; total time=   8.8s\n",
      "[CV] END ..learning_rate=0.01, max_depth=8, n_estimators=200; total time=   8.8s\n",
      "[CV] END ..learning_rate=0.01, max_depth=8, n_estimators=200; total time=   8.7s\n",
      "[CV] END ..learning_rate=0.01, max_depth=8, n_estimators=200; total time=   9.0s\n",
      "[CV] END ..learning_rate=0.01, max_depth=8, n_estimators=200; total time=   9.0s\n",
      "[CV] END ..learning_rate=0.01, max_depth=8, n_estimators=200; total time=   9.0s\n",
      "[CV] END ..learning_rate=0.01, max_depth=8, n_estimators=200; total time=   9.0s\n",
      "[CV] END ..learning_rate=0.01, max_depth=8, n_estimators=200; total time=   8.9s\n",
      "[CV] END ..learning_rate=0.01, max_depth=8, n_estimators=200; total time=   8.8s\n",
      "[CV] END ..learning_rate=0.01, max_depth=8, n_estimators=200; total time=   9.6s\n",
      "[CV] END ..learning_rate=0.01, max_depth=8, n_estimators=300; total time=  12.8s\n",
      "[CV] END ..learning_rate=0.01, max_depth=8, n_estimators=300; total time=  12.7s\n",
      "[CV] END ..learning_rate=0.01, max_depth=8, n_estimators=300; total time=  12.7s\n",
      "[CV] END ..learning_rate=0.01, max_depth=8, n_estimators=300; total time=  12.8s\n",
      "[CV] END ..learning_rate=0.01, max_depth=8, n_estimators=300; total time=  13.0s\n",
      "[CV] END ..learning_rate=0.01, max_depth=8, n_estimators=300; total time=  12.9s\n",
      "[CV] END ..learning_rate=0.01, max_depth=8, n_estimators=300; total time=  13.2s\n",
      "[CV] END ..learning_rate=0.01, max_depth=8, n_estimators=300; total time=  12.8s\n",
      "[CV] END ..learning_rate=0.01, max_depth=8, n_estimators=300; total time=  12.9s\n",
      "[CV] END ..learning_rate=0.01, max_depth=8, n_estimators=300; total time=  12.8s\n",
      "[CV] END ..learning_rate=0.01, max_depth=8, n_estimators=400; total time=  16.7s\n",
      "[CV] END ..learning_rate=0.01, max_depth=8, n_estimators=400; total time=  16.6s\n",
      "[CV] END ..learning_rate=0.01, max_depth=8, n_estimators=400; total time=  17.1s\n",
      "[CV] END ..learning_rate=0.01, max_depth=8, n_estimators=400; total time=  16.7s\n",
      "[CV] END ..learning_rate=0.01, max_depth=8, n_estimators=400; total time=  16.3s\n",
      "[CV] END ..learning_rate=0.01, max_depth=8, n_estimators=400; total time=  16.6s\n",
      "[CV] END ..learning_rate=0.01, max_depth=8, n_estimators=400; total time=  16.5s\n",
      "[CV] END ..learning_rate=0.01, max_depth=8, n_estimators=400; total time=  16.5s\n",
      "[CV] END ..learning_rate=0.01, max_depth=8, n_estimators=400; total time=  16.4s\n",
      "[CV] END ..learning_rate=0.01, max_depth=8, n_estimators=400; total time=  16.5s\n"
     ]
    },
    {
     "data": {
      "text/html": [
       "<style>#sk-container-id-9 {color: black;background-color: white;}#sk-container-id-9 pre{padding: 0;}#sk-container-id-9 div.sk-toggleable {background-color: white;}#sk-container-id-9 label.sk-toggleable__label {cursor: pointer;display: block;width: 100%;margin-bottom: 0;padding: 0.3em;box-sizing: border-box;text-align: center;}#sk-container-id-9 label.sk-toggleable__label-arrow:before {content: \"▸\";float: left;margin-right: 0.25em;color: #696969;}#sk-container-id-9 label.sk-toggleable__label-arrow:hover:before {color: black;}#sk-container-id-9 div.sk-estimator:hover label.sk-toggleable__label-arrow:before {color: black;}#sk-container-id-9 div.sk-toggleable__content {max-height: 0;max-width: 0;overflow: hidden;text-align: left;background-color: #f0f8ff;}#sk-container-id-9 div.sk-toggleable__content pre {margin: 0.2em;color: black;border-radius: 0.25em;background-color: #f0f8ff;}#sk-container-id-9 input.sk-toggleable__control:checked~div.sk-toggleable__content {max-height: 200px;max-width: 100%;overflow: auto;}#sk-container-id-9 input.sk-toggleable__control:checked~label.sk-toggleable__label-arrow:before {content: \"▾\";}#sk-container-id-9 div.sk-estimator input.sk-toggleable__control:checked~label.sk-toggleable__label {background-color: #d4ebff;}#sk-container-id-9 div.sk-label input.sk-toggleable__control:checked~label.sk-toggleable__label {background-color: #d4ebff;}#sk-container-id-9 input.sk-hidden--visually {border: 0;clip: rect(1px 1px 1px 1px);clip: rect(1px, 1px, 1px, 1px);height: 1px;margin: -1px;overflow: hidden;padding: 0;position: absolute;width: 1px;}#sk-container-id-9 div.sk-estimator {font-family: monospace;background-color: #f0f8ff;border: 1px dotted black;border-radius: 0.25em;box-sizing: border-box;margin-bottom: 0.5em;}#sk-container-id-9 div.sk-estimator:hover {background-color: #d4ebff;}#sk-container-id-9 div.sk-parallel-item::after {content: \"\";width: 100%;border-bottom: 1px solid gray;flex-grow: 1;}#sk-container-id-9 div.sk-label:hover label.sk-toggleable__label {background-color: #d4ebff;}#sk-container-id-9 div.sk-serial::before {content: \"\";position: absolute;border-left: 1px solid gray;box-sizing: border-box;top: 0;bottom: 0;left: 50%;z-index: 0;}#sk-container-id-9 div.sk-serial {display: flex;flex-direction: column;align-items: center;background-color: white;padding-right: 0.2em;padding-left: 0.2em;position: relative;}#sk-container-id-9 div.sk-item {position: relative;z-index: 1;}#sk-container-id-9 div.sk-parallel {display: flex;align-items: stretch;justify-content: center;background-color: white;position: relative;}#sk-container-id-9 div.sk-item::before, #sk-container-id-9 div.sk-parallel-item::before {content: \"\";position: absolute;border-left: 1px solid gray;box-sizing: border-box;top: 0;bottom: 0;left: 50%;z-index: -1;}#sk-container-id-9 div.sk-parallel-item {display: flex;flex-direction: column;z-index: 1;position: relative;background-color: white;}#sk-container-id-9 div.sk-parallel-item:first-child::after {align-self: flex-end;width: 50%;}#sk-container-id-9 div.sk-parallel-item:last-child::after {align-self: flex-start;width: 50%;}#sk-container-id-9 div.sk-parallel-item:only-child::after {width: 0;}#sk-container-id-9 div.sk-dashed-wrapped {border: 1px dashed gray;margin: 0 0.4em 0.5em 0.4em;box-sizing: border-box;padding-bottom: 0.4em;background-color: white;}#sk-container-id-9 div.sk-label label {font-family: monospace;font-weight: bold;display: inline-block;line-height: 1.2em;}#sk-container-id-9 div.sk-label-container {text-align: center;}#sk-container-id-9 div.sk-container {/* jupyter's `normalize.less` sets `[hidden] { display: none; }` but bootstrap.min.css set `[hidden] { display: none !important; }` so we also need the `!important` here to be able to override the default hidden behavior on the sphinx rendered scikit-learn.org. See: https://github.com/scikit-learn/scikit-learn/issues/21755 */display: inline-block !important;position: relative;}#sk-container-id-9 div.sk-text-repr-fallback {display: none;}</style><div id=\"sk-container-id-9\" class=\"sk-top-container\"><div class=\"sk-text-repr-fallback\"><pre>GridSearchCV(cv=10,\n",
       "             estimator=XGBClassifier(base_score=None, booster=None,\n",
       "                                     callbacks=None, colsample_bylevel=None,\n",
       "                                     colsample_bynode=None,\n",
       "                                     colsample_bytree=None,\n",
       "                                     early_stopping_rounds=None,\n",
       "                                     enable_categorical=False, eval_metric=None,\n",
       "                                     feature_types=None, gamma=None,\n",
       "                                     gpu_id=None, grow_policy=None,\n",
       "                                     importance_type=None,\n",
       "                                     interaction_constraints=None,\n",
       "                                     learning_rate=None...\n",
       "                                     max_cat_to_onehot=None,\n",
       "                                     max_delta_step=None, max_depth=None,\n",
       "                                     max_leaves=None, min_child_weight=None,\n",
       "                                     missing=nan, monotone_constraints=None,\n",
       "                                     n_estimators=100, n_jobs=None, nthread=-1,\n",
       "                                     num_parallel_tree=None, predictor=None, ...),\n",
       "             n_jobs=1,\n",
       "             param_grid={&#x27;learning_rate&#x27;: [0.1, 0.05, 0.01],\n",
       "                         &#x27;max_depth&#x27;: range(2, 10, 2),\n",
       "                         &#x27;n_estimators&#x27;: range(100, 500, 100)},\n",
       "             scoring=&#x27;f1&#x27;, verbose=2)</pre><b>In a Jupyter environment, please rerun this cell to show the HTML representation or trust the notebook. <br />On GitHub, the HTML representation is unable to render, please try loading this page with nbviewer.org.</b></div><div class=\"sk-container\" hidden><div class=\"sk-item sk-dashed-wrapped\"><div class=\"sk-label-container\"><div class=\"sk-label sk-toggleable\"><input class=\"sk-toggleable__control sk-hidden--visually\" id=\"sk-estimator-id-17\" type=\"checkbox\" ><label for=\"sk-estimator-id-17\" class=\"sk-toggleable__label sk-toggleable__label-arrow\">GridSearchCV</label><div class=\"sk-toggleable__content\"><pre>GridSearchCV(cv=10,\n",
       "             estimator=XGBClassifier(base_score=None, booster=None,\n",
       "                                     callbacks=None, colsample_bylevel=None,\n",
       "                                     colsample_bynode=None,\n",
       "                                     colsample_bytree=None,\n",
       "                                     early_stopping_rounds=None,\n",
       "                                     enable_categorical=False, eval_metric=None,\n",
       "                                     feature_types=None, gamma=None,\n",
       "                                     gpu_id=None, grow_policy=None,\n",
       "                                     importance_type=None,\n",
       "                                     interaction_constraints=None,\n",
       "                                     learning_rate=None...\n",
       "                                     max_cat_to_onehot=None,\n",
       "                                     max_delta_step=None, max_depth=None,\n",
       "                                     max_leaves=None, min_child_weight=None,\n",
       "                                     missing=nan, monotone_constraints=None,\n",
       "                                     n_estimators=100, n_jobs=None, nthread=-1,\n",
       "                                     num_parallel_tree=None, predictor=None, ...),\n",
       "             n_jobs=1,\n",
       "             param_grid={&#x27;learning_rate&#x27;: [0.1, 0.05, 0.01],\n",
       "                         &#x27;max_depth&#x27;: range(2, 10, 2),\n",
       "                         &#x27;n_estimators&#x27;: range(100, 500, 100)},\n",
       "             scoring=&#x27;f1&#x27;, verbose=2)</pre></div></div></div><div class=\"sk-parallel\"><div class=\"sk-parallel-item\"><div class=\"sk-item\"><div class=\"sk-label-container\"><div class=\"sk-label sk-toggleable\"><input class=\"sk-toggleable__control sk-hidden--visually\" id=\"sk-estimator-id-18\" type=\"checkbox\" ><label for=\"sk-estimator-id-18\" class=\"sk-toggleable__label sk-toggleable__label-arrow\">estimator: XGBClassifier</label><div class=\"sk-toggleable__content\"><pre>XGBClassifier(base_score=None, booster=None, callbacks=None,\n",
       "              colsample_bylevel=None, colsample_bynode=None,\n",
       "              colsample_bytree=None, early_stopping_rounds=None,\n",
       "              enable_categorical=False, eval_metric=None, feature_types=None,\n",
       "              gamma=None, gpu_id=None, grow_policy=None, importance_type=None,\n",
       "              interaction_constraints=None, learning_rate=None, max_bin=None,\n",
       "              max_cat_threshold=None, max_cat_to_onehot=None,\n",
       "              max_delta_step=None, max_depth=None, max_leaves=None,\n",
       "              min_child_weight=None, missing=nan, monotone_constraints=None,\n",
       "              n_estimators=100, n_jobs=None, nthread=-1, num_parallel_tree=None,\n",
       "              predictor=None, ...)</pre></div></div></div><div class=\"sk-serial\"><div class=\"sk-item\"><div class=\"sk-estimator sk-toggleable\"><input class=\"sk-toggleable__control sk-hidden--visually\" id=\"sk-estimator-id-19\" type=\"checkbox\" ><label for=\"sk-estimator-id-19\" class=\"sk-toggleable__label sk-toggleable__label-arrow\">XGBClassifier</label><div class=\"sk-toggleable__content\"><pre>XGBClassifier(base_score=None, booster=None, callbacks=None,\n",
       "              colsample_bylevel=None, colsample_bynode=None,\n",
       "              colsample_bytree=None, early_stopping_rounds=None,\n",
       "              enable_categorical=False, eval_metric=None, feature_types=None,\n",
       "              gamma=None, gpu_id=None, grow_policy=None, importance_type=None,\n",
       "              interaction_constraints=None, learning_rate=None, max_bin=None,\n",
       "              max_cat_threshold=None, max_cat_to_onehot=None,\n",
       "              max_delta_step=None, max_depth=None, max_leaves=None,\n",
       "              min_child_weight=None, missing=nan, monotone_constraints=None,\n",
       "              n_estimators=100, n_jobs=None, nthread=-1, num_parallel_tree=None,\n",
       "              predictor=None, ...)</pre></div></div></div></div></div></div></div></div></div></div>"
      ],
      "text/plain": [
       "GridSearchCV(cv=10,\n",
       "             estimator=XGBClassifier(base_score=None, booster=None,\n",
       "                                     callbacks=None, colsample_bylevel=None,\n",
       "                                     colsample_bynode=None,\n",
       "                                     colsample_bytree=None,\n",
       "                                     early_stopping_rounds=None,\n",
       "                                     enable_categorical=False, eval_metric=None,\n",
       "                                     feature_types=None, gamma=None,\n",
       "                                     gpu_id=None, grow_policy=None,\n",
       "                                     importance_type=None,\n",
       "                                     interaction_constraints=None,\n",
       "                                     learning_rate=None...\n",
       "                                     max_cat_to_onehot=None,\n",
       "                                     max_delta_step=None, max_depth=None,\n",
       "                                     max_leaves=None, min_child_weight=None,\n",
       "                                     missing=nan, monotone_constraints=None,\n",
       "                                     n_estimators=100, n_jobs=None, nthread=-1,\n",
       "                                     num_parallel_tree=None, predictor=None, ...),\n",
       "             n_jobs=1,\n",
       "             param_grid={'learning_rate': [0.1, 0.05, 0.01],\n",
       "                         'max_depth': range(2, 10, 2),\n",
       "                         'n_estimators': range(100, 500, 100)},\n",
       "             scoring='f1', verbose=2)"
      ]
     },
     "execution_count": 303,
     "metadata": {},
     "output_type": "execute_result"
    }
   ],
   "source": [
    "parameters = {\n",
    "    'max_depth': range (2, 10, 2),\n",
    "    'n_estimators': range(100, 500, 100),\n",
    "    'learning_rate': [0.1, 0.05, 0.01]\n",
    "}\n",
    "\n",
    "estimator = XGBClassifier(\n",
    "    objective= 'binary:logistic',\n",
    "    nthread=-1,\n",
    "    seed=SEED\n",
    ")\n",
    "\n",
    "grid_search = GridSearchCV(\n",
    "    estimator=estimator,\n",
    "    param_grid=parameters,\n",
    "    scoring='f1',\n",
    "    n_jobs=1,\n",
    "    cv=10,\n",
    "    verbose=2\n",
    ")\n",
    "\n",
    "grid_search.fit(X_train, y_train)"
   ]
  },
  {
   "cell_type": "code",
   "execution_count": 304,
   "id": "8e2a7610-b19d-4366-9552-8e6f36575f4c",
   "metadata": {},
   "outputs": [
    {
     "name": "stdout",
     "output_type": "stream",
     "text": [
      "precision: 0.741\n",
      "recall: 0.551\n",
      "f1: 0.632\n",
      "AUC: 0.713\n"
     ]
    }
   ],
   "source": [
    "preds = grid_search.predict(X_test)\n",
    "preds_proba = grid_search.predict_proba(X_test)[:, 1] >= 0.5\n",
    "\n",
    "print_perf_metrics(preds_proba, y_test)"
   ]
  },
  {
   "cell_type": "code",
   "execution_count": 305,
   "id": "eacaa7a9-1959-4b07-9352-baaf346e41bd",
   "metadata": {},
   "outputs": [
    {
     "name": "stderr",
     "output_type": "stream",
     "text": [
      "\u001b[1;33mFutureWarning: Function plot_confusion_matrix is deprecated; Function `plot_confusion_matrix` is deprecated in 1.0 and will be removed in 1.2. Use one of the class methods: ConfusionMatrixDisplay.from_predictions or ConfusionMatrixDisplay.from_estimator.\u001b[0m \u001b[1;30m(raised from /home/slazien/.local/share/virtualenvs/linkedin_misinformation-xOmYosQV/lib/python3.8/site-packages/sklearn/utils/deprecation.py:87)\u001b[0m\n"
     ]
    },
    {
     "data": {
      "text/plain": [
       "<sklearn.metrics._plot.confusion_matrix.ConfusionMatrixDisplay at 0x7f8e76bb3a90>"
      ]
     },
     "execution_count": 305,
     "metadata": {},
     "output_type": "execute_result"
    },
    {
     "data": {
      "image/png": "[encoded data removed]",
      "text/plain": [
       "<Figure size 640x480 with 2 Axes>"
      ]
     },
     "metadata": {},
     "output_type": "display_data"
    }
   ],
   "source": [
    "plot_confusion_matrix(grid_search, X_test, y_test)"
   ]
  },
  {
   "cell_type": "markdown",
   "id": "839a5b63-0fbf-4351-b92b-4cf40e26b7e3",
   "metadata": {},
   "source": [
    "## Random Forest"
   ]
  },
  {
   "cell_type": "code",
   "execution_count": 42,
   "id": "aac21086-8a41-4bdd-bcf5-9ab3709c5f19",
   "metadata": {},
   "outputs": [
    {
     "name": "stdout",
     "output_type": "stream",
     "text": [
      "Fitting 10 folds for each of 120 candidates, totalling 1200 fits\n",
      "[CV] END ..max_depth=10, min_samples_leaf=1, n_estimators=50; total time=   3.5s\n",
      "[CV] END ..max_depth=10, min_samples_leaf=1, n_estimators=50; total time=   0.4s\n",
      "[CV] END ..max_depth=10, min_samples_leaf=1, n_estimators=50; total time=   0.4s\n",
      "[CV] END ..max_depth=10, min_samples_leaf=1, n_estimators=50; total time=   0.4s\n",
      "[CV] END ..max_depth=10, min_samples_leaf=1, n_estimators=50; total time=   0.4s\n",
      "[CV] END ..max_depth=10, min_samples_leaf=1, n_estimators=50; total time=   0.4s\n",
      "[CV] END ..max_depth=10, min_samples_leaf=1, n_estimators=50; total time=   0.4s\n",
      "[CV] END ..max_depth=10, min_samples_leaf=1, n_estimators=50; total time=   0.4s\n",
      "[CV] END ..max_depth=10, min_samples_leaf=1, n_estimators=50; total time=   0.4s\n",
      "[CV] END ..max_depth=10, min_samples_leaf=1, n_estimators=50; total time=   0.4s\n",
      "[CV] END .max_depth=10, min_samples_leaf=1, n_estimators=150; total time=   0.9s\n",
      "[CV] END .max_depth=10, min_samples_leaf=1, n_estimators=150; total time=   1.2s\n",
      "[CV] END .max_depth=10, min_samples_leaf=1, n_estimators=150; total time=   1.1s\n",
      "[CV] END .max_depth=10, min_samples_leaf=1, n_estimators=150; total time=   1.0s\n",
      "[CV] END .max_depth=10, min_samples_leaf=1, n_estimators=150; total time=   1.0s\n",
      "[CV] END .max_depth=10, min_samples_leaf=1, n_estimators=150; total time=   1.1s\n",
      "[CV] END .max_depth=10, min_samples_leaf=1, n_estimators=150; total time=   1.0s\n",
      "[CV] END .max_depth=10, min_samples_leaf=1, n_estimators=150; total time=   1.0s\n",
      "[CV] END .max_depth=10, min_samples_leaf=1, n_estimators=150; total time=   1.0s\n",
      "[CV] END .max_depth=10, min_samples_leaf=1, n_estimators=150; total time=   1.0s\n",
      "[CV] END .max_depth=10, min_samples_leaf=1, n_estimators=250; total time=   1.6s\n",
      "[CV] END .max_depth=10, min_samples_leaf=1, n_estimators=250; total time=   1.5s\n",
      "[CV] END .max_depth=10, min_samples_leaf=1, n_estimators=250; total time=   1.6s\n",
      "[CV] END .max_depth=10, min_samples_leaf=1, n_estimators=250; total time=   1.7s\n",
      "[CV] END .max_depth=10, min_samples_leaf=1, n_estimators=250; total time=   1.5s\n",
      "[CV] END .max_depth=10, min_samples_leaf=1, n_estimators=250; total time=   1.6s\n",
      "[CV] END .max_depth=10, min_samples_leaf=1, n_estimators=250; total time=   1.7s\n",
      "[CV] END .max_depth=10, min_samples_leaf=1, n_estimators=250; total time=   1.8s\n",
      "[CV] END .max_depth=10, min_samples_leaf=1, n_estimators=250; total time=   1.4s\n",
      "[CV] END .max_depth=10, min_samples_leaf=1, n_estimators=250; total time=   1.5s\n",
      "[CV] END .max_depth=10, min_samples_leaf=1, n_estimators=350; total time=   2.0s\n",
      "[CV] END .max_depth=10, min_samples_leaf=1, n_estimators=350; total time=   2.0s\n",
      "[CV] END .max_depth=10, min_samples_leaf=1, n_estimators=350; total time=   2.1s\n",
      "[CV] END .max_depth=10, min_samples_leaf=1, n_estimators=350; total time=   2.1s\n",
      "[CV] END .max_depth=10, min_samples_leaf=1, n_estimators=350; total time=   2.2s\n",
      "[CV] END .max_depth=10, min_samples_leaf=1, n_estimators=350; total time=   2.0s\n",
      "[CV] END .max_depth=10, min_samples_leaf=1, n_estimators=350; total time=   2.1s\n",
      "[CV] END .max_depth=10, min_samples_leaf=1, n_estimators=350; total time=   2.1s\n",
      "[CV] END .max_depth=10, min_samples_leaf=1, n_estimators=350; total time=   1.9s\n",
      "[CV] END .max_depth=10, min_samples_leaf=1, n_estimators=350; total time=   2.1s\n",
      "[CV] END .max_depth=10, min_samples_leaf=1, n_estimators=450; total time=   2.4s\n",
      "[CV] END .max_depth=10, min_samples_leaf=1, n_estimators=450; total time=   2.3s\n",
      "[CV] END .max_depth=10, min_samples_leaf=1, n_estimators=450; total time=   2.5s\n",
      "[CV] END .max_depth=10, min_samples_leaf=1, n_estimators=450; total time=   2.6s\n",
      "[CV] END .max_depth=10, min_samples_leaf=1, n_estimators=450; total time=   2.4s\n",
      "[CV] END .max_depth=10, min_samples_leaf=1, n_estimators=450; total time=   2.5s\n",
      "[CV] END .max_depth=10, min_samples_leaf=1, n_estimators=450; total time=   2.6s\n",
      "[CV] END .max_depth=10, min_samples_leaf=1, n_estimators=450; total time=   3.2s\n",
      "[CV] END .max_depth=10, min_samples_leaf=1, n_estimators=450; total time=   3.4s\n",
      "[CV] END .max_depth=10, min_samples_leaf=1, n_estimators=450; total time=   2.6s\n",
      "[CV] END .max_depth=10, min_samples_leaf=11, n_estimators=50; total time=   0.3s\n",
      "[CV] END .max_depth=10, min_samples_leaf=11, n_estimators=50; total time=   0.4s\n",
      "[CV] END .max_depth=10, min_samples_leaf=11, n_estimators=50; total time=   0.5s\n",
      "[CV] END .max_depth=10, min_samples_leaf=11, n_estimators=50; total time=   0.6s\n",
      "[CV] END .max_depth=10, min_samples_leaf=11, n_estimators=50; total time=   0.5s\n",
      "[CV] END .max_depth=10, min_samples_leaf=11, n_estimators=50; total time=   0.4s\n",
      "[CV] END .max_depth=10, min_samples_leaf=11, n_estimators=50; total time=   0.4s\n",
      "[CV] END .max_depth=10, min_samples_leaf=11, n_estimators=50; total time=   0.4s\n",
      "[CV] END .max_depth=10, min_samples_leaf=11, n_estimators=50; total time=   0.4s\n",
      "[CV] END .max_depth=10, min_samples_leaf=11, n_estimators=50; total time=   0.4s\n",
      "[CV] END max_depth=10, min_samples_leaf=11, n_estimators=150; total time=   1.0s\n",
      "[CV] END max_depth=10, min_samples_leaf=11, n_estimators=150; total time=   1.4s\n",
      "[CV] END max_depth=10, min_samples_leaf=11, n_estimators=150; total time=   1.2s\n",
      "[CV] END max_depth=10, min_samples_leaf=11, n_estimators=150; total time=   1.3s\n",
      "[CV] END max_depth=10, min_samples_leaf=11, n_estimators=150; total time=   1.6s\n",
      "[CV] END max_depth=10, min_samples_leaf=11, n_estimators=150; total time=   1.7s\n",
      "[CV] END max_depth=10, min_samples_leaf=11, n_estimators=150; total time=   1.0s\n",
      "[CV] END max_depth=10, min_samples_leaf=11, n_estimators=150; total time=   1.3s\n",
      "[CV] END max_depth=10, min_samples_leaf=11, n_estimators=150; total time=   1.1s\n",
      "[CV] END max_depth=10, min_samples_leaf=11, n_estimators=150; total time=   1.9s\n",
      "[CV] END max_depth=10, min_samples_leaf=11, n_estimators=250; total time=   1.7s\n",
      "[CV] END max_depth=10, min_samples_leaf=11, n_estimators=250; total time=   2.2s\n",
      "[CV] END max_depth=10, min_samples_leaf=11, n_estimators=250; total time=   2.4s\n",
      "[CV] END max_depth=10, min_samples_leaf=11, n_estimators=250; total time=   1.7s\n",
      "[CV] END max_depth=10, min_samples_leaf=11, n_estimators=250; total time=   1.6s\n",
      "[CV] END max_depth=10, min_samples_leaf=11, n_estimators=250; total time=   2.0s\n",
      "[CV] END max_depth=10, min_samples_leaf=11, n_estimators=250; total time=   2.2s\n",
      "[CV] END max_depth=10, min_samples_leaf=11, n_estimators=250; total time=   2.0s\n",
      "[CV] END max_depth=10, min_samples_leaf=11, n_estimators=250; total time=   2.8s\n",
      "[CV] END max_depth=10, min_samples_leaf=11, n_estimators=250; total time=   2.3s\n",
      "[CV] END max_depth=10, min_samples_leaf=11, n_estimators=350; total time=   2.2s\n",
      "[CV] END max_depth=10, min_samples_leaf=11, n_estimators=350; total time=   1.7s\n",
      "[CV] END max_depth=10, min_samples_leaf=11, n_estimators=350; total time=   2.0s\n",
      "[CV] END max_depth=10, min_samples_leaf=11, n_estimators=350; total time=   1.8s\n",
      "[CV] END max_depth=10, min_samples_leaf=11, n_estimators=350; total time=   1.7s\n",
      "[CV] END max_depth=10, min_samples_leaf=11, n_estimators=350; total time=   1.9s\n",
      "[CV] END max_depth=10, min_samples_leaf=11, n_estimators=350; total time=   1.8s\n",
      "[CV] END max_depth=10, min_samples_leaf=11, n_estimators=350; total time=   1.8s\n",
      "[CV] END max_depth=10, min_samples_leaf=11, n_estimators=350; total time=   1.9s\n",
      "[CV] END max_depth=10, min_samples_leaf=11, n_estimators=350; total time=   1.7s\n",
      "[CV] END max_depth=10, min_samples_leaf=11, n_estimators=450; total time=   2.1s\n",
      "[CV] END max_depth=10, min_samples_leaf=11, n_estimators=450; total time=   2.0s\n",
      "[CV] END max_depth=10, min_samples_leaf=11, n_estimators=450; total time=   2.1s\n",
      "[CV] END max_depth=10, min_samples_leaf=11, n_estimators=450; total time=   2.3s\n",
      "[CV] END max_depth=10, min_samples_leaf=11, n_estimators=450; total time=   2.3s\n",
      "[CV] END max_depth=10, min_samples_leaf=11, n_estimators=450; total time=   3.0s\n",
      "[CV] END max_depth=10, min_samples_leaf=11, n_estimators=450; total time=   3.5s\n",
      "[CV] END max_depth=10, min_samples_leaf=11, n_estimators=450; total time=   4.3s\n",
      "[CV] END max_depth=10, min_samples_leaf=11, n_estimators=450; total time=   4.0s\n",
      "[CV] END max_depth=10, min_samples_leaf=11, n_estimators=450; total time=   3.4s\n",
      "[CV] END .max_depth=10, min_samples_leaf=21, n_estimators=50; total time=   0.5s\n",
      "[CV] END .max_depth=10, min_samples_leaf=21, n_estimators=50; total time=   0.6s\n",
      "[CV] END .max_depth=10, min_samples_leaf=21, n_estimators=50; total time=   0.5s\n",
      "[CV] END .max_depth=10, min_samples_leaf=21, n_estimators=50; total time=   0.5s\n",
      "[CV] END .max_depth=10, min_samples_leaf=21, n_estimators=50; total time=   0.5s\n",
      "[CV] END .max_depth=10, min_samples_leaf=21, n_estimators=50; total time=   0.5s\n",
      "[CV] END .max_depth=10, min_samples_leaf=21, n_estimators=50; total time=   0.4s\n",
      "[CV] END .max_depth=10, min_samples_leaf=21, n_estimators=50; total time=   0.4s\n",
      "[CV] END .max_depth=10, min_samples_leaf=21, n_estimators=50; total time=   0.5s\n",
      "[CV] END .max_depth=10, min_samples_leaf=21, n_estimators=50; total time=   0.4s\n",
      "[CV] END max_depth=10, min_samples_leaf=21, n_estimators=150; total time=   0.8s\n",
      "[CV] END max_depth=10, min_samples_leaf=21, n_estimators=150; total time=   0.8s\n",
      "[CV] END max_depth=10, min_samples_leaf=21, n_estimators=150; total time=   0.8s\n",
      "[CV] END max_depth=10, min_samples_leaf=21, n_estimators=150; total time=   0.8s\n",
      "[CV] END max_depth=10, min_samples_leaf=21, n_estimators=150; total time=   0.7s\n",
      "[CV] END max_depth=10, min_samples_leaf=21, n_estimators=150; total time=   0.8s\n",
      "[CV] END max_depth=10, min_samples_leaf=21, n_estimators=150; total time=   0.8s\n",
      "[CV] END max_depth=10, min_samples_leaf=21, n_estimators=150; total time=   0.8s\n",
      "[CV] END max_depth=10, min_samples_leaf=21, n_estimators=150; total time=   1.0s\n",
      "[CV] END max_depth=10, min_samples_leaf=21, n_estimators=150; total time=   0.9s\n",
      "[CV] END max_depth=10, min_samples_leaf=21, n_estimators=250; total time=   1.0s\n",
      "[CV] END max_depth=10, min_samples_leaf=21, n_estimators=250; total time=   1.0s\n",
      "[CV] END max_depth=10, min_samples_leaf=21, n_estimators=250; total time=   1.2s\n",
      "[CV] END max_depth=10, min_samples_leaf=21, n_estimators=250; total time=   1.2s\n",
      "[CV] END max_depth=10, min_samples_leaf=21, n_estimators=250; total time=   1.5s\n",
      "[CV] END max_depth=10, min_samples_leaf=21, n_estimators=250; total time=   1.8s\n",
      "[CV] END max_depth=10, min_samples_leaf=21, n_estimators=250; total time=   1.6s\n",
      "[CV] END max_depth=10, min_samples_leaf=21, n_estimators=250; total time=   1.6s\n",
      "[CV] END max_depth=10, min_samples_leaf=21, n_estimators=250; total time=   1.6s\n",
      "[CV] END max_depth=10, min_samples_leaf=21, n_estimators=250; total time=   2.3s\n",
      "[CV] END max_depth=10, min_samples_leaf=21, n_estimators=350; total time=   2.8s\n",
      "[CV] END max_depth=10, min_samples_leaf=21, n_estimators=350; total time=   2.2s\n",
      "[CV] END max_depth=10, min_samples_leaf=21, n_estimators=350; total time=   2.8s\n",
      "[CV] END max_depth=10, min_samples_leaf=21, n_estimators=350; total time=   2.6s\n",
      "[CV] END max_depth=10, min_samples_leaf=21, n_estimators=350; total time=   2.0s\n",
      "[CV] END max_depth=10, min_samples_leaf=21, n_estimators=350; total time=   1.6s\n",
      "[CV] END max_depth=10, min_samples_leaf=21, n_estimators=350; total time=   1.6s\n",
      "[CV] END max_depth=10, min_samples_leaf=21, n_estimators=350; total time=   1.5s\n",
      "[CV] END max_depth=10, min_samples_leaf=21, n_estimators=350; total time=   1.7s\n",
      "[CV] END max_depth=10, min_samples_leaf=21, n_estimators=350; total time=   1.5s\n",
      "[CV] END max_depth=10, min_samples_leaf=21, n_estimators=450; total time=   1.8s\n",
      "[CV] END max_depth=10, min_samples_leaf=21, n_estimators=450; total time=   1.9s\n",
      "[CV] END max_depth=10, min_samples_leaf=21, n_estimators=450; total time=   1.9s\n",
      "[CV] END max_depth=10, min_samples_leaf=21, n_estimators=450; total time=   1.9s\n",
      "[CV] END max_depth=10, min_samples_leaf=21, n_estimators=450; total time=   1.8s\n",
      "[CV] END max_depth=10, min_samples_leaf=21, n_estimators=450; total time=   1.9s\n",
      "[CV] END max_depth=10, min_samples_leaf=21, n_estimators=450; total time=   2.0s\n",
      "[CV] END max_depth=10, min_samples_leaf=21, n_estimators=450; total time=   2.4s\n",
      "[CV] END max_depth=10, min_samples_leaf=21, n_estimators=450; total time=   2.1s\n",
      "[CV] END max_depth=10, min_samples_leaf=21, n_estimators=450; total time=   2.2s\n",
      "[CV] END .max_depth=10, min_samples_leaf=31, n_estimators=50; total time=   0.3s\n",
      "[CV] END .max_depth=10, min_samples_leaf=31, n_estimators=50; total time=   0.3s\n",
      "[CV] END .max_depth=10, min_samples_leaf=31, n_estimators=50; total time=   0.4s\n",
      "[CV] END .max_depth=10, min_samples_leaf=31, n_estimators=50; total time=   0.3s\n",
      "[CV] END .max_depth=10, min_samples_leaf=31, n_estimators=50; total time=   0.4s\n",
      "[CV] END .max_depth=10, min_samples_leaf=31, n_estimators=50; total time=   0.4s\n",
      "[CV] END .max_depth=10, min_samples_leaf=31, n_estimators=50; total time=   0.5s\n",
      "[CV] END .max_depth=10, min_samples_leaf=31, n_estimators=50; total time=   0.3s\n",
      "[CV] END .max_depth=10, min_samples_leaf=31, n_estimators=50; total time=   0.3s\n",
      "[CV] END .max_depth=10, min_samples_leaf=31, n_estimators=50; total time=   0.4s\n",
      "[CV] END max_depth=10, min_samples_leaf=31, n_estimators=150; total time=   0.7s\n",
      "[CV] END max_depth=10, min_samples_leaf=31, n_estimators=150; total time=   0.7s\n",
      "[CV] END max_depth=10, min_samples_leaf=31, n_estimators=150; total time=   0.7s\n",
      "[CV] END max_depth=10, min_samples_leaf=31, n_estimators=150; total time=   0.7s\n",
      "[CV] END max_depth=10, min_samples_leaf=31, n_estimators=150; total time=   0.6s\n",
      "[CV] END max_depth=10, min_samples_leaf=31, n_estimators=150; total time=   0.6s\n",
      "[CV] END max_depth=10, min_samples_leaf=31, n_estimators=150; total time=   0.6s\n",
      "[CV] END max_depth=10, min_samples_leaf=31, n_estimators=150; total time=   0.7s\n",
      "[CV] END max_depth=10, min_samples_leaf=31, n_estimators=150; total time=   0.7s\n",
      "[CV] END max_depth=10, min_samples_leaf=31, n_estimators=150; total time=   0.7s\n",
      "[CV] END max_depth=10, min_samples_leaf=31, n_estimators=250; total time=   1.1s\n",
      "[CV] END max_depth=10, min_samples_leaf=31, n_estimators=250; total time=   1.7s\n",
      "[CV] END max_depth=10, min_samples_leaf=31, n_estimators=250; total time=   1.5s\n",
      "[CV] END max_depth=10, min_samples_leaf=31, n_estimators=250; total time=   1.4s\n",
      "[CV] END max_depth=10, min_samples_leaf=31, n_estimators=250; total time=   1.5s\n",
      "[CV] END max_depth=10, min_samples_leaf=31, n_estimators=250; total time=   1.3s\n",
      "[CV] END max_depth=10, min_samples_leaf=31, n_estimators=250; total time=   1.3s\n",
      "[CV] END max_depth=10, min_samples_leaf=31, n_estimators=250; total time=   1.4s\n",
      "[CV] END max_depth=10, min_samples_leaf=31, n_estimators=250; total time=   1.1s\n",
      "[CV] END max_depth=10, min_samples_leaf=31, n_estimators=250; total time=   1.1s\n",
      "[CV] END max_depth=10, min_samples_leaf=31, n_estimators=350; total time=   1.6s\n",
      "[CV] END max_depth=10, min_samples_leaf=31, n_estimators=350; total time=   1.6s\n",
      "[CV] END max_depth=10, min_samples_leaf=31, n_estimators=350; total time=   1.4s\n",
      "[CV] END max_depth=10, min_samples_leaf=31, n_estimators=350; total time=   1.8s\n",
      "[CV] END max_depth=10, min_samples_leaf=31, n_estimators=350; total time=   1.3s\n",
      "[CV] END max_depth=10, min_samples_leaf=31, n_estimators=350; total time=   1.5s\n",
      "[CV] END max_depth=10, min_samples_leaf=31, n_estimators=350; total time=   1.4s\n",
      "[CV] END max_depth=10, min_samples_leaf=31, n_estimators=350; total time=   1.4s\n",
      "[CV] END max_depth=10, min_samples_leaf=31, n_estimators=350; total time=   1.3s\n",
      "[CV] END max_depth=10, min_samples_leaf=31, n_estimators=350; total time=   1.5s\n",
      "[CV] END max_depth=10, min_samples_leaf=31, n_estimators=450; total time=   1.7s\n",
      "[CV] END max_depth=10, min_samples_leaf=31, n_estimators=450; total time=   1.7s\n",
      "[CV] END max_depth=10, min_samples_leaf=31, n_estimators=450; total time=   1.6s\n",
      "[CV] END max_depth=10, min_samples_leaf=31, n_estimators=450; total time=   1.7s\n",
      "[CV] END max_depth=10, min_samples_leaf=31, n_estimators=450; total time=   1.6s\n",
      "[CV] END max_depth=10, min_samples_leaf=31, n_estimators=450; total time=   1.7s\n",
      "[CV] END max_depth=10, min_samples_leaf=31, n_estimators=450; total time=   1.8s\n",
      "[CV] END max_depth=10, min_samples_leaf=31, n_estimators=450; total time=   1.6s\n",
      "[CV] END max_depth=10, min_samples_leaf=31, n_estimators=450; total time=   1.8s\n",
      "[CV] END max_depth=10, min_samples_leaf=31, n_estimators=450; total time=   1.8s\n",
      "[CV] END .max_depth=10, min_samples_leaf=41, n_estimators=50; total time=   0.3s\n",
      "[CV] END .max_depth=10, min_samples_leaf=41, n_estimators=50; total time=   0.3s\n",
      "[CV] END .max_depth=10, min_samples_leaf=41, n_estimators=50; total time=   0.4s\n",
      "[CV] END .max_depth=10, min_samples_leaf=41, n_estimators=50; total time=   0.4s\n",
      "[CV] END .max_depth=10, min_samples_leaf=41, n_estimators=50; total time=   0.4s\n",
      "[CV] END .max_depth=10, min_samples_leaf=41, n_estimators=50; total time=   0.3s\n",
      "[CV] END .max_depth=10, min_samples_leaf=41, n_estimators=50; total time=   0.3s\n",
      "[CV] END .max_depth=10, min_samples_leaf=41, n_estimators=50; total time=   0.4s\n",
      "[CV] END .max_depth=10, min_samples_leaf=41, n_estimators=50; total time=   0.5s\n",
      "[CV] END .max_depth=10, min_samples_leaf=41, n_estimators=50; total time=   0.6s\n",
      "[CV] END max_depth=10, min_samples_leaf=41, n_estimators=150; total time=   0.7s\n",
      "[CV] END max_depth=10, min_samples_leaf=41, n_estimators=150; total time=   0.7s\n",
      "[CV] END max_depth=10, min_samples_leaf=41, n_estimators=150; total time=   0.9s\n",
      "[CV] END max_depth=10, min_samples_leaf=41, n_estimators=150; total time=   0.7s\n",
      "[CV] END max_depth=10, min_samples_leaf=41, n_estimators=150; total time=   0.7s\n",
      "[CV] END max_depth=10, min_samples_leaf=41, n_estimators=150; total time=   0.7s\n",
      "[CV] END max_depth=10, min_samples_leaf=41, n_estimators=150; total time=   0.9s\n",
      "[CV] END max_depth=10, min_samples_leaf=41, n_estimators=150; total time=   0.8s\n",
      "[CV] END max_depth=10, min_samples_leaf=41, n_estimators=150; total time=   0.8s\n",
      "[CV] END max_depth=10, min_samples_leaf=41, n_estimators=150; total time=   1.1s\n",
      "[CV] END max_depth=10, min_samples_leaf=41, n_estimators=250; total time=   1.9s\n",
      "[CV] END max_depth=10, min_samples_leaf=41, n_estimators=250; total time=   1.8s\n",
      "[CV] END max_depth=10, min_samples_leaf=41, n_estimators=250; total time=   1.7s\n",
      "[CV] END max_depth=10, min_samples_leaf=41, n_estimators=250; total time=   1.9s\n",
      "[CV] END max_depth=10, min_samples_leaf=41, n_estimators=250; total time=   2.7s\n",
      "[CV] END max_depth=10, min_samples_leaf=41, n_estimators=250; total time=   1.9s\n",
      "[CV] END max_depth=10, min_samples_leaf=41, n_estimators=250; total time=   2.1s\n",
      "[CV] END max_depth=10, min_samples_leaf=41, n_estimators=250; total time=   1.1s\n",
      "[CV] END max_depth=10, min_samples_leaf=41, n_estimators=250; total time=   1.3s\n",
      "[CV] END max_depth=10, min_samples_leaf=41, n_estimators=250; total time=   1.1s\n",
      "[CV] END max_depth=10, min_samples_leaf=41, n_estimators=350; total time=   1.4s\n",
      "[CV] END max_depth=10, min_samples_leaf=41, n_estimators=350; total time=   1.5s\n",
      "[CV] END max_depth=10, min_samples_leaf=41, n_estimators=350; total time=   1.6s\n",
      "[CV] END max_depth=10, min_samples_leaf=41, n_estimators=350; total time=   2.3s\n",
      "[CV] END max_depth=10, min_samples_leaf=41, n_estimators=350; total time=   1.6s\n",
      "[CV] END max_depth=10, min_samples_leaf=41, n_estimators=350; total time=   2.7s\n",
      "[CV] END max_depth=10, min_samples_leaf=41, n_estimators=350; total time=   2.2s\n",
      "[CV] END max_depth=10, min_samples_leaf=41, n_estimators=350; total time=   2.6s\n",
      "[CV] END max_depth=10, min_samples_leaf=41, n_estimators=350; total time=   3.4s\n",
      "[CV] END max_depth=10, min_samples_leaf=41, n_estimators=350; total time=   3.1s\n",
      "[CV] END max_depth=10, min_samples_leaf=41, n_estimators=450; total time=   4.3s\n",
      "[CV] END max_depth=10, min_samples_leaf=41, n_estimators=450; total time=   3.2s\n",
      "[CV] END max_depth=10, min_samples_leaf=41, n_estimators=450; total time=   2.7s\n",
      "[CV] END max_depth=10, min_samples_leaf=41, n_estimators=450; total time=   2.3s\n",
      "[CV] END max_depth=10, min_samples_leaf=41, n_estimators=450; total time=   2.3s\n",
      "[CV] END max_depth=10, min_samples_leaf=41, n_estimators=450; total time=   2.1s\n",
      "[CV] END max_depth=10, min_samples_leaf=41, n_estimators=450; total time=   2.5s\n",
      "[CV] END max_depth=10, min_samples_leaf=41, n_estimators=450; total time=   2.5s\n",
      "[CV] END max_depth=10, min_samples_leaf=41, n_estimators=450; total time=   2.7s\n",
      "[CV] END max_depth=10, min_samples_leaf=41, n_estimators=450; total time=   3.0s\n",
      "[CV] END .max_depth=10, min_samples_leaf=51, n_estimators=50; total time=   0.6s\n",
      "[CV] END .max_depth=10, min_samples_leaf=51, n_estimators=50; total time=   0.4s\n",
      "[CV] END .max_depth=10, min_samples_leaf=51, n_estimators=50; total time=   0.5s\n",
      "[CV] END .max_depth=10, min_samples_leaf=51, n_estimators=50; total time=   0.4s\n",
      "[CV] END .max_depth=10, min_samples_leaf=51, n_estimators=50; total time=   0.5s\n",
      "[CV] END .max_depth=10, min_samples_leaf=51, n_estimators=50; total time=   0.4s\n",
      "[CV] END .max_depth=10, min_samples_leaf=51, n_estimators=50; total time=   0.4s\n",
      "[CV] END .max_depth=10, min_samples_leaf=51, n_estimators=50; total time=   0.5s\n",
      "[CV] END .max_depth=10, min_samples_leaf=51, n_estimators=50; total time=   0.3s\n",
      "[CV] END .max_depth=10, min_samples_leaf=51, n_estimators=50; total time=   0.6s\n",
      "[CV] END max_depth=10, min_samples_leaf=51, n_estimators=150; total time=   1.1s\n",
      "[CV] END max_depth=10, min_samples_leaf=51, n_estimators=150; total time=   1.2s\n",
      "[CV] END max_depth=10, min_samples_leaf=51, n_estimators=150; total time=   1.0s\n",
      "[CV] END max_depth=10, min_samples_leaf=51, n_estimators=150; total time=   1.1s\n",
      "[CV] END max_depth=10, min_samples_leaf=51, n_estimators=150; total time=   1.0s\n",
      "[CV] END max_depth=10, min_samples_leaf=51, n_estimators=150; total time=   1.0s\n",
      "[CV] END max_depth=10, min_samples_leaf=51, n_estimators=150; total time=   1.0s\n",
      "[CV] END max_depth=10, min_samples_leaf=51, n_estimators=150; total time=   0.9s\n",
      "[CV] END max_depth=10, min_samples_leaf=51, n_estimators=150; total time=   1.1s\n",
      "[CV] END max_depth=10, min_samples_leaf=51, n_estimators=150; total time=   1.1s\n",
      "[CV] END max_depth=10, min_samples_leaf=51, n_estimators=250; total time=   1.5s\n",
      "[CV] END max_depth=10, min_samples_leaf=51, n_estimators=250; total time=   1.5s\n",
      "[CV] END max_depth=10, min_samples_leaf=51, n_estimators=250; total time=   1.9s\n",
      "[CV] END max_depth=10, min_samples_leaf=51, n_estimators=250; total time=   1.8s\n",
      "[CV] END max_depth=10, min_samples_leaf=51, n_estimators=250; total time=   1.4s\n",
      "[CV] END max_depth=10, min_samples_leaf=51, n_estimators=250; total time=   1.1s\n",
      "[CV] END max_depth=10, min_samples_leaf=51, n_estimators=250; total time=   1.0s\n",
      "[CV] END max_depth=10, min_samples_leaf=51, n_estimators=250; total time=   1.0s\n",
      "[CV] END max_depth=10, min_samples_leaf=51, n_estimators=250; total time=   1.0s\n",
      "[CV] END max_depth=10, min_samples_leaf=51, n_estimators=250; total time=   0.9s\n",
      "[CV] END max_depth=10, min_samples_leaf=51, n_estimators=350; total time=   1.3s\n",
      "[CV] END max_depth=10, min_samples_leaf=51, n_estimators=350; total time=   1.4s\n",
      "[CV] END max_depth=10, min_samples_leaf=51, n_estimators=350; total time=   1.8s\n",
      "[CV] END max_depth=10, min_samples_leaf=51, n_estimators=350; total time=   1.4s\n",
      "[CV] END max_depth=10, min_samples_leaf=51, n_estimators=350; total time=   1.3s\n",
      "[CV] END max_depth=10, min_samples_leaf=51, n_estimators=350; total time=   1.2s\n",
      "[CV] END max_depth=10, min_samples_leaf=51, n_estimators=350; total time=   1.7s\n",
      "[CV] END max_depth=10, min_samples_leaf=51, n_estimators=350; total time=   1.4s\n",
      "[CV] END max_depth=10, min_samples_leaf=51, n_estimators=350; total time=   1.5s\n",
      "[CV] END max_depth=10, min_samples_leaf=51, n_estimators=350; total time=   1.5s\n",
      "[CV] END max_depth=10, min_samples_leaf=51, n_estimators=450; total time=   1.7s\n",
      "[CV] END max_depth=10, min_samples_leaf=51, n_estimators=450; total time=   1.7s\n",
      "[CV] END max_depth=10, min_samples_leaf=51, n_estimators=450; total time=   2.1s\n",
      "[CV] END max_depth=10, min_samples_leaf=51, n_estimators=450; total time=   1.5s\n",
      "[CV] END max_depth=10, min_samples_leaf=51, n_estimators=450; total time=   1.5s\n",
      "[CV] END max_depth=10, min_samples_leaf=51, n_estimators=450; total time=   1.7s\n",
      "[CV] END max_depth=10, min_samples_leaf=51, n_estimators=450; total time=   1.4s\n",
      "[CV] END max_depth=10, min_samples_leaf=51, n_estimators=450; total time=   1.4s\n",
      "[CV] END max_depth=10, min_samples_leaf=51, n_estimators=450; total time=   1.7s\n",
      "[CV] END max_depth=10, min_samples_leaf=51, n_estimators=450; total time=   1.5s\n",
      "[CV] END ..max_depth=20, min_samples_leaf=1, n_estimators=50; total time=   0.5s\n",
      "[CV] END ..max_depth=20, min_samples_leaf=1, n_estimators=50; total time=   0.4s\n",
      "[CV] END ..max_depth=20, min_samples_leaf=1, n_estimators=50; total time=   0.4s\n",
      "[CV] END ..max_depth=20, min_samples_leaf=1, n_estimators=50; total time=   0.4s\n",
      "[CV] END ..max_depth=20, min_samples_leaf=1, n_estimators=50; total time=   0.4s\n",
      "[CV] END ..max_depth=20, min_samples_leaf=1, n_estimators=50; total time=   0.4s\n",
      "[CV] END ..max_depth=20, min_samples_leaf=1, n_estimators=50; total time=   0.4s\n",
      "[CV] END ..max_depth=20, min_samples_leaf=1, n_estimators=50; total time=   0.4s\n",
      "[CV] END ..max_depth=20, min_samples_leaf=1, n_estimators=50; total time=   0.4s\n",
      "[CV] END ..max_depth=20, min_samples_leaf=1, n_estimators=50; total time=   0.4s\n",
      "[CV] END .max_depth=20, min_samples_leaf=1, n_estimators=150; total time=   1.2s\n",
      "[CV] END .max_depth=20, min_samples_leaf=1, n_estimators=150; total time=   1.1s\n",
      "[CV] END .max_depth=20, min_samples_leaf=1, n_estimators=150; total time=   1.3s\n",
      "[CV] END .max_depth=20, min_samples_leaf=1, n_estimators=150; total time=   1.1s\n",
      "[CV] END .max_depth=20, min_samples_leaf=1, n_estimators=150; total time=   1.3s\n",
      "[CV] END .max_depth=20, min_samples_leaf=1, n_estimators=150; total time=   1.2s\n",
      "[CV] END .max_depth=20, min_samples_leaf=1, n_estimators=150; total time=   1.0s\n",
      "[CV] END .max_depth=20, min_samples_leaf=1, n_estimators=150; total time=   1.2s\n",
      "[CV] END .max_depth=20, min_samples_leaf=1, n_estimators=150; total time=   1.1s\n",
      "[CV] END .max_depth=20, min_samples_leaf=1, n_estimators=150; total time=   1.0s\n",
      "[CV] END .max_depth=20, min_samples_leaf=1, n_estimators=250; total time=   1.6s\n",
      "[CV] END .max_depth=20, min_samples_leaf=1, n_estimators=250; total time=   1.5s\n",
      "[CV] END .max_depth=20, min_samples_leaf=1, n_estimators=250; total time=   1.8s\n",
      "[CV] END .max_depth=20, min_samples_leaf=1, n_estimators=250; total time=   1.6s\n",
      "[CV] END .max_depth=20, min_samples_leaf=1, n_estimators=250; total time=   1.7s\n",
      "[CV] END .max_depth=20, min_samples_leaf=1, n_estimators=250; total time=   1.5s\n",
      "[CV] END .max_depth=20, min_samples_leaf=1, n_estimators=250; total time=   1.6s\n",
      "[CV] END .max_depth=20, min_samples_leaf=1, n_estimators=250; total time=   1.8s\n",
      "[CV] END .max_depth=20, min_samples_leaf=1, n_estimators=250; total time=   1.6s\n",
      "[CV] END .max_depth=20, min_samples_leaf=1, n_estimators=250; total time=   1.7s\n",
      "[CV] END .max_depth=20, min_samples_leaf=1, n_estimators=350; total time=   2.0s\n",
      "[CV] END .max_depth=20, min_samples_leaf=1, n_estimators=350; total time=   2.4s\n",
      "[CV] END .max_depth=20, min_samples_leaf=1, n_estimators=350; total time=   2.2s\n",
      "[CV] END .max_depth=20, min_samples_leaf=1, n_estimators=350; total time=   2.5s\n",
      "[CV] END .max_depth=20, min_samples_leaf=1, n_estimators=350; total time=   2.2s\n",
      "[CV] END .max_depth=20, min_samples_leaf=1, n_estimators=350; total time=   2.3s\n",
      "[CV] END .max_depth=20, min_samples_leaf=1, n_estimators=350; total time=   2.6s\n",
      "[CV] END .max_depth=20, min_samples_leaf=1, n_estimators=350; total time=   2.4s\n",
      "[CV] END .max_depth=20, min_samples_leaf=1, n_estimators=350; total time=   3.0s\n",
      "[CV] END .max_depth=20, min_samples_leaf=1, n_estimators=350; total time=   2.8s\n",
      "[CV] END .max_depth=20, min_samples_leaf=1, n_estimators=450; total time=   3.3s\n",
      "[CV] END .max_depth=20, min_samples_leaf=1, n_estimators=450; total time=   3.4s\n",
      "[CV] END .max_depth=20, min_samples_leaf=1, n_estimators=450; total time=   2.9s\n",
      "[CV] END .max_depth=20, min_samples_leaf=1, n_estimators=450; total time=   3.0s\n",
      "[CV] END .max_depth=20, min_samples_leaf=1, n_estimators=450; total time=   2.9s\n",
      "[CV] END .max_depth=20, min_samples_leaf=1, n_estimators=450; total time=   2.7s\n",
      "[CV] END .max_depth=20, min_samples_leaf=1, n_estimators=450; total time=   2.7s\n",
      "[CV] END .max_depth=20, min_samples_leaf=1, n_estimators=450; total time=   3.0s\n",
      "[CV] END .max_depth=20, min_samples_leaf=1, n_estimators=450; total time=   2.7s\n",
      "[CV] END .max_depth=20, min_samples_leaf=1, n_estimators=450; total time=   2.7s\n",
      "[CV] END .max_depth=20, min_samples_leaf=11, n_estimators=50; total time=   0.3s\n",
      "[CV] END .max_depth=20, min_samples_leaf=11, n_estimators=50; total time=   0.4s\n",
      "[CV] END .max_depth=20, min_samples_leaf=11, n_estimators=50; total time=   0.4s\n",
      "[CV] END .max_depth=20, min_samples_leaf=11, n_estimators=50; total time=   0.4s\n",
      "[CV] END .max_depth=20, min_samples_leaf=11, n_estimators=50; total time=   0.4s\n",
      "[CV] END .max_depth=20, min_samples_leaf=11, n_estimators=50; total time=   0.4s\n",
      "[CV] END .max_depth=20, min_samples_leaf=11, n_estimators=50; total time=   0.4s\n",
      "[CV] END .max_depth=20, min_samples_leaf=11, n_estimators=50; total time=   0.4s\n",
      "[CV] END .max_depth=20, min_samples_leaf=11, n_estimators=50; total time=   0.4s\n",
      "[CV] END .max_depth=20, min_samples_leaf=11, n_estimators=50; total time=   0.4s\n",
      "[CV] END max_depth=20, min_samples_leaf=11, n_estimators=150; total time=   0.8s\n",
      "[CV] END max_depth=20, min_samples_leaf=11, n_estimators=150; total time=   0.8s\n",
      "[CV] END max_depth=20, min_samples_leaf=11, n_estimators=150; total time=   0.8s\n",
      "[CV] END max_depth=20, min_samples_leaf=11, n_estimators=150; total time=   0.9s\n",
      "[CV] END max_depth=20, min_samples_leaf=11, n_estimators=150; total time=   1.0s\n",
      "[CV] END max_depth=20, min_samples_leaf=11, n_estimators=150; total time=   0.8s\n",
      "[CV] END max_depth=20, min_samples_leaf=11, n_estimators=150; total time=   0.9s\n",
      "[CV] END max_depth=20, min_samples_leaf=11, n_estimators=150; total time=   0.8s\n",
      "[CV] END max_depth=20, min_samples_leaf=11, n_estimators=150; total time=   0.8s\n",
      "[CV] END max_depth=20, min_samples_leaf=11, n_estimators=150; total time=   0.8s\n",
      "[CV] END max_depth=20, min_samples_leaf=11, n_estimators=250; total time=   1.3s\n",
      "[CV] END max_depth=20, min_samples_leaf=11, n_estimators=250; total time=   1.2s\n",
      "[CV] END max_depth=20, min_samples_leaf=11, n_estimators=250; total time=   1.2s\n",
      "[CV] END max_depth=20, min_samples_leaf=11, n_estimators=250; total time=   1.2s\n",
      "[CV] END max_depth=20, min_samples_leaf=11, n_estimators=250; total time=   1.2s\n",
      "[CV] END max_depth=20, min_samples_leaf=11, n_estimators=250; total time=   1.3s\n",
      "[CV] END max_depth=20, min_samples_leaf=11, n_estimators=250; total time=   1.2s\n",
      "[CV] END max_depth=20, min_samples_leaf=11, n_estimators=250; total time=   1.2s\n",
      "[CV] END max_depth=20, min_samples_leaf=11, n_estimators=250; total time=   1.5s\n",
      "[CV] END max_depth=20, min_samples_leaf=11, n_estimators=250; total time=   1.8s\n",
      "[CV] END max_depth=20, min_samples_leaf=11, n_estimators=350; total time=   2.1s\n",
      "[CV] END max_depth=20, min_samples_leaf=11, n_estimators=350; total time=   2.0s\n",
      "[CV] END max_depth=20, min_samples_leaf=11, n_estimators=350; total time=   1.8s\n",
      "[CV] END max_depth=20, min_samples_leaf=11, n_estimators=350; total time=   1.7s\n",
      "[CV] END max_depth=20, min_samples_leaf=11, n_estimators=350; total time=   1.9s\n",
      "[CV] END max_depth=20, min_samples_leaf=11, n_estimators=350; total time=   2.5s\n",
      "[CV] END max_depth=20, min_samples_leaf=11, n_estimators=350; total time=   2.1s\n",
      "[CV] END max_depth=20, min_samples_leaf=11, n_estimators=350; total time=   1.8s\n",
      "[CV] END max_depth=20, min_samples_leaf=11, n_estimators=350; total time=   1.7s\n",
      "[CV] END max_depth=20, min_samples_leaf=11, n_estimators=350; total time=   1.8s\n",
      "[CV] END max_depth=20, min_samples_leaf=11, n_estimators=450; total time=   2.2s\n",
      "[CV] END max_depth=20, min_samples_leaf=11, n_estimators=450; total time=   2.1s\n",
      "[CV] END max_depth=20, min_samples_leaf=11, n_estimators=450; total time=   2.1s\n",
      "[CV] END max_depth=20, min_samples_leaf=11, n_estimators=450; total time=   2.2s\n",
      "[CV] END max_depth=20, min_samples_leaf=11, n_estimators=450; total time=   2.2s\n",
      "[CV] END max_depth=20, min_samples_leaf=11, n_estimators=450; total time=   2.3s\n",
      "[CV] END max_depth=20, min_samples_leaf=11, n_estimators=450; total time=   2.1s\n",
      "[CV] END max_depth=20, min_samples_leaf=11, n_estimators=450; total time=   2.1s\n",
      "[CV] END max_depth=20, min_samples_leaf=11, n_estimators=450; total time=   2.1s\n",
      "[CV] END max_depth=20, min_samples_leaf=11, n_estimators=450; total time=   2.2s\n",
      "[CV] END .max_depth=20, min_samples_leaf=21, n_estimators=50; total time=   0.5s\n",
      "[CV] END .max_depth=20, min_samples_leaf=21, n_estimators=50; total time=   0.4s\n",
      "[CV] END .max_depth=20, min_samples_leaf=21, n_estimators=50; total time=   0.4s\n",
      "[CV] END .max_depth=20, min_samples_leaf=21, n_estimators=50; total time=   0.4s\n",
      "[CV] END .max_depth=20, min_samples_leaf=21, n_estimators=50; total time=   0.4s\n",
      "[CV] END .max_depth=20, min_samples_leaf=21, n_estimators=50; total time=   0.3s\n",
      "[CV] END .max_depth=20, min_samples_leaf=21, n_estimators=50; total time=   0.4s\n",
      "[CV] END .max_depth=20, min_samples_leaf=21, n_estimators=50; total time=   0.4s\n",
      "[CV] END .max_depth=20, min_samples_leaf=21, n_estimators=50; total time=   0.3s\n",
      "[CV] END .max_depth=20, min_samples_leaf=21, n_estimators=50; total time=   0.3s\n",
      "[CV] END max_depth=20, min_samples_leaf=21, n_estimators=150; total time=   0.7s\n",
      "[CV] END max_depth=20, min_samples_leaf=21, n_estimators=150; total time=   0.7s\n",
      "[CV] END max_depth=20, min_samples_leaf=21, n_estimators=150; total time=   0.7s\n",
      "[CV] END max_depth=20, min_samples_leaf=21, n_estimators=150; total time=   0.7s\n",
      "[CV] END max_depth=20, min_samples_leaf=21, n_estimators=150; total time=   0.8s\n",
      "[CV] END max_depth=20, min_samples_leaf=21, n_estimators=150; total time=   0.8s\n",
      "[CV] END max_depth=20, min_samples_leaf=21, n_estimators=150; total time=   0.7s\n",
      "[CV] END max_depth=20, min_samples_leaf=21, n_estimators=150; total time=   0.7s\n",
      "[CV] END max_depth=20, min_samples_leaf=21, n_estimators=150; total time=   0.8s\n",
      "[CV] END max_depth=20, min_samples_leaf=21, n_estimators=150; total time=   0.8s\n",
      "[CV] END max_depth=20, min_samples_leaf=21, n_estimators=250; total time=   1.1s\n",
      "[CV] END max_depth=20, min_samples_leaf=21, n_estimators=250; total time=   1.1s\n",
      "[CV] END max_depth=20, min_samples_leaf=21, n_estimators=250; total time=   1.1s\n",
      "[CV] END max_depth=20, min_samples_leaf=21, n_estimators=250; total time=   1.5s\n",
      "[CV] END max_depth=20, min_samples_leaf=21, n_estimators=250; total time=   1.1s\n",
      "[CV] END max_depth=20, min_samples_leaf=21, n_estimators=250; total time=   1.1s\n",
      "[CV] END max_depth=20, min_samples_leaf=21, n_estimators=250; total time=   1.1s\n",
      "[CV] END max_depth=20, min_samples_leaf=21, n_estimators=250; total time=   1.1s\n",
      "[CV] END max_depth=20, min_samples_leaf=21, n_estimators=250; total time=   1.2s\n",
      "[CV] END max_depth=20, min_samples_leaf=21, n_estimators=250; total time=   1.1s\n",
      "[CV] END max_depth=20, min_samples_leaf=21, n_estimators=350; total time=   1.5s\n",
      "[CV] END max_depth=20, min_samples_leaf=21, n_estimators=350; total time=   1.5s\n",
      "[CV] END max_depth=20, min_samples_leaf=21, n_estimators=350; total time=   1.5s\n",
      "[CV] END max_depth=20, min_samples_leaf=21, n_estimators=350; total time=   1.6s\n",
      "[CV] END max_depth=20, min_samples_leaf=21, n_estimators=350; total time=   2.0s\n",
      "[CV] END max_depth=20, min_samples_leaf=21, n_estimators=350; total time=   1.6s\n",
      "[CV] END max_depth=20, min_samples_leaf=21, n_estimators=350; total time=   1.5s\n",
      "[CV] END max_depth=20, min_samples_leaf=21, n_estimators=350; total time=   2.1s\n",
      "[CV] END max_depth=20, min_samples_leaf=21, n_estimators=350; total time=   1.6s\n",
      "[CV] END max_depth=20, min_samples_leaf=21, n_estimators=350; total time=   1.5s\n",
      "[CV] END max_depth=20, min_samples_leaf=21, n_estimators=450; total time=   2.0s\n",
      "[CV] END max_depth=20, min_samples_leaf=21, n_estimators=450; total time=   1.8s\n",
      "[CV] END max_depth=20, min_samples_leaf=21, n_estimators=450; total time=   2.1s\n",
      "[CV] END max_depth=20, min_samples_leaf=21, n_estimators=450; total time=   2.4s\n",
      "[CV] END max_depth=20, min_samples_leaf=21, n_estimators=450; total time=   2.4s\n",
      "[CV] END max_depth=20, min_samples_leaf=21, n_estimators=450; total time=   2.3s\n",
      "[CV] END max_depth=20, min_samples_leaf=21, n_estimators=450; total time=   2.6s\n",
      "[CV] END max_depth=20, min_samples_leaf=21, n_estimators=450; total time=   2.6s\n",
      "[CV] END max_depth=20, min_samples_leaf=21, n_estimators=450; total time=   1.8s\n",
      "[CV] END max_depth=20, min_samples_leaf=21, n_estimators=450; total time=   1.8s\n",
      "[CV] END .max_depth=20, min_samples_leaf=31, n_estimators=50; total time=   0.3s\n",
      "[CV] END .max_depth=20, min_samples_leaf=31, n_estimators=50; total time=   0.3s\n",
      "[CV] END .max_depth=20, min_samples_leaf=31, n_estimators=50; total time=   0.3s\n",
      "[CV] END .max_depth=20, min_samples_leaf=31, n_estimators=50; total time=   0.3s\n",
      "[CV] END .max_depth=20, min_samples_leaf=31, n_estimators=50; total time=   0.3s\n",
      "[CV] END .max_depth=20, min_samples_leaf=31, n_estimators=50; total time=   0.3s\n",
      "[CV] END .max_depth=20, min_samples_leaf=31, n_estimators=50; total time=   0.3s\n",
      "[CV] END .max_depth=20, min_samples_leaf=31, n_estimators=50; total time=   0.3s\n",
      "[CV] END .max_depth=20, min_samples_leaf=31, n_estimators=50; total time=   0.3s\n",
      "[CV] END .max_depth=20, min_samples_leaf=31, n_estimators=50; total time=   0.3s\n",
      "[CV] END max_depth=20, min_samples_leaf=31, n_estimators=150; total time=   0.6s\n",
      "[CV] END max_depth=20, min_samples_leaf=31, n_estimators=150; total time=   0.6s\n",
      "[CV] END max_depth=20, min_samples_leaf=31, n_estimators=150; total time=   0.6s\n",
      "[CV] END max_depth=20, min_samples_leaf=31, n_estimators=150; total time=   0.7s\n",
      "[CV] END max_depth=20, min_samples_leaf=31, n_estimators=150; total time=   0.8s\n",
      "[CV] END max_depth=20, min_samples_leaf=31, n_estimators=150; total time=   0.7s\n",
      "[CV] END max_depth=20, min_samples_leaf=31, n_estimators=150; total time=   0.7s\n",
      "[CV] END max_depth=20, min_samples_leaf=31, n_estimators=150; total time=   0.7s\n",
      "[CV] END max_depth=20, min_samples_leaf=31, n_estimators=150; total time=   0.7s\n",
      "[CV] END max_depth=20, min_samples_leaf=31, n_estimators=150; total time=   0.7s\n",
      "[CV] END max_depth=20, min_samples_leaf=31, n_estimators=250; total time=   1.0s\n",
      "[CV] END max_depth=20, min_samples_leaf=31, n_estimators=250; total time=   0.9s\n",
      "[CV] END max_depth=20, min_samples_leaf=31, n_estimators=250; total time=   0.9s\n",
      "[CV] END max_depth=20, min_samples_leaf=31, n_estimators=250; total time=   0.9s\n",
      "[CV] END max_depth=20, min_samples_leaf=31, n_estimators=250; total time=   0.9s\n",
      "[CV] END max_depth=20, min_samples_leaf=31, n_estimators=250; total time=   0.9s\n",
      "[CV] END max_depth=20, min_samples_leaf=31, n_estimators=250; total time=   0.9s\n",
      "[CV] END max_depth=20, min_samples_leaf=31, n_estimators=250; total time=   0.9s\n",
      "[CV] END max_depth=20, min_samples_leaf=31, n_estimators=250; total time=   0.9s\n",
      "[CV] END max_depth=20, min_samples_leaf=31, n_estimators=250; total time=   0.9s\n",
      "[CV] END max_depth=20, min_samples_leaf=31, n_estimators=350; total time=   1.2s\n",
      "[CV] END max_depth=20, min_samples_leaf=31, n_estimators=350; total time=   1.3s\n",
      "[CV] END max_depth=20, min_samples_leaf=31, n_estimators=350; total time=   1.2s\n",
      "[CV] END max_depth=20, min_samples_leaf=31, n_estimators=350; total time=   1.3s\n",
      "[CV] END max_depth=20, min_samples_leaf=31, n_estimators=350; total time=   1.3s\n",
      "[CV] END max_depth=20, min_samples_leaf=31, n_estimators=350; total time=   1.3s\n",
      "[CV] END max_depth=20, min_samples_leaf=31, n_estimators=350; total time=   1.3s\n",
      "[CV] END max_depth=20, min_samples_leaf=31, n_estimators=350; total time=   1.3s\n",
      "[CV] END max_depth=20, min_samples_leaf=31, n_estimators=350; total time=   1.5s\n",
      "[CV] END max_depth=20, min_samples_leaf=31, n_estimators=350; total time=   1.3s\n",
      "[CV] END max_depth=20, min_samples_leaf=31, n_estimators=450; total time=   1.6s\n",
      "[CV] END max_depth=20, min_samples_leaf=31, n_estimators=450; total time=   1.6s\n",
      "[CV] END max_depth=20, min_samples_leaf=31, n_estimators=450; total time=   1.7s\n",
      "[CV] END max_depth=20, min_samples_leaf=31, n_estimators=450; total time=   1.6s\n",
      "[CV] END max_depth=20, min_samples_leaf=31, n_estimators=450; total time=   1.7s\n",
      "[CV] END max_depth=20, min_samples_leaf=31, n_estimators=450; total time=   1.6s\n",
      "[CV] END max_depth=20, min_samples_leaf=31, n_estimators=450; total time=   1.6s\n",
      "[CV] END max_depth=20, min_samples_leaf=31, n_estimators=450; total time=   1.7s\n",
      "[CV] END max_depth=20, min_samples_leaf=31, n_estimators=450; total time=   1.7s\n",
      "[CV] END max_depth=20, min_samples_leaf=31, n_estimators=450; total time=   1.8s\n",
      "[CV] END .max_depth=20, min_samples_leaf=41, n_estimators=50; total time=   0.3s\n",
      "[CV] END .max_depth=20, min_samples_leaf=41, n_estimators=50; total time=   0.3s\n",
      "[CV] END .max_depth=20, min_samples_leaf=41, n_estimators=50; total time=   0.3s\n",
      "[CV] END .max_depth=20, min_samples_leaf=41, n_estimators=50; total time=   0.3s\n",
      "[CV] END .max_depth=20, min_samples_leaf=41, n_estimators=50; total time=   0.3s\n",
      "[CV] END .max_depth=20, min_samples_leaf=41, n_estimators=50; total time=   0.3s\n",
      "[CV] END .max_depth=20, min_samples_leaf=41, n_estimators=50; total time=   0.3s\n",
      "[CV] END .max_depth=20, min_samples_leaf=41, n_estimators=50; total time=   0.3s\n",
      "[CV] END .max_depth=20, min_samples_leaf=41, n_estimators=50; total time=   0.3s\n",
      "[CV] END .max_depth=20, min_samples_leaf=41, n_estimators=50; total time=   0.3s\n",
      "[CV] END max_depth=20, min_samples_leaf=41, n_estimators=150; total time=   0.6s\n",
      "[CV] END max_depth=20, min_samples_leaf=41, n_estimators=150; total time=   0.6s\n",
      "[CV] END max_depth=20, min_samples_leaf=41, n_estimators=150; total time=   0.6s\n",
      "[CV] END max_depth=20, min_samples_leaf=41, n_estimators=150; total time=   0.6s\n",
      "[CV] END max_depth=20, min_samples_leaf=41, n_estimators=150; total time=   0.7s\n",
      "[CV] END max_depth=20, min_samples_leaf=41, n_estimators=150; total time=   0.6s\n",
      "[CV] END max_depth=20, min_samples_leaf=41, n_estimators=150; total time=   0.6s\n",
      "[CV] END max_depth=20, min_samples_leaf=41, n_estimators=150; total time=   0.6s\n",
      "[CV] END max_depth=20, min_samples_leaf=41, n_estimators=150; total time=   0.6s\n",
      "[CV] END max_depth=20, min_samples_leaf=41, n_estimators=150; total time=   0.6s\n",
      "[CV] END max_depth=20, min_samples_leaf=41, n_estimators=250; total time=   0.8s\n",
      "[CV] END max_depth=20, min_samples_leaf=41, n_estimators=250; total time=   0.8s\n",
      "[CV] END max_depth=20, min_samples_leaf=41, n_estimators=250; total time=   0.8s\n",
      "[CV] END max_depth=20, min_samples_leaf=41, n_estimators=250; total time=   0.8s\n",
      "[CV] END max_depth=20, min_samples_leaf=41, n_estimators=250; total time=   0.8s\n",
      "[CV] END max_depth=20, min_samples_leaf=41, n_estimators=250; total time=   0.8s\n",
      "[CV] END max_depth=20, min_samples_leaf=41, n_estimators=250; total time=   0.8s\n",
      "[CV] END max_depth=20, min_samples_leaf=41, n_estimators=250; total time=   0.8s\n",
      "[CV] END max_depth=20, min_samples_leaf=41, n_estimators=250; total time=   0.9s\n",
      "[CV] END max_depth=20, min_samples_leaf=41, n_estimators=250; total time=   0.9s\n",
      "[CV] END max_depth=20, min_samples_leaf=41, n_estimators=350; total time=   1.1s\n",
      "[CV] END max_depth=20, min_samples_leaf=41, n_estimators=350; total time=   1.1s\n",
      "[CV] END max_depth=20, min_samples_leaf=41, n_estimators=350; total time=   1.2s\n",
      "[CV] END max_depth=20, min_samples_leaf=41, n_estimators=350; total time=   1.2s\n",
      "[CV] END max_depth=20, min_samples_leaf=41, n_estimators=350; total time=   1.3s\n",
      "[CV] END max_depth=20, min_samples_leaf=41, n_estimators=350; total time=   1.5s\n",
      "[CV] END max_depth=20, min_samples_leaf=41, n_estimators=350; total time=   1.3s\n",
      "[CV] END max_depth=20, min_samples_leaf=41, n_estimators=350; total time=   1.4s\n",
      "[CV] END max_depth=20, min_samples_leaf=41, n_estimators=350; total time=   1.2s\n",
      "[CV] END max_depth=20, min_samples_leaf=41, n_estimators=350; total time=   1.1s\n",
      "[CV] END max_depth=20, min_samples_leaf=41, n_estimators=450; total time=   1.4s\n",
      "[CV] END max_depth=20, min_samples_leaf=41, n_estimators=450; total time=   1.5s\n",
      "[CV] END max_depth=20, min_samples_leaf=41, n_estimators=450; total time=   1.4s\n",
      "[CV] END max_depth=20, min_samples_leaf=41, n_estimators=450; total time=   1.5s\n",
      "[CV] END max_depth=20, min_samples_leaf=41, n_estimators=450; total time=   1.4s\n",
      "[CV] END max_depth=20, min_samples_leaf=41, n_estimators=450; total time=   1.5s\n",
      "[CV] END max_depth=20, min_samples_leaf=41, n_estimators=450; total time=   1.5s\n",
      "[CV] END max_depth=20, min_samples_leaf=41, n_estimators=450; total time=   1.4s\n",
      "[CV] END max_depth=20, min_samples_leaf=41, n_estimators=450; total time=   1.6s\n",
      "[CV] END max_depth=20, min_samples_leaf=41, n_estimators=450; total time=   1.4s\n",
      "[CV] END .max_depth=20, min_samples_leaf=51, n_estimators=50; total time=   0.3s\n",
      "[CV] END .max_depth=20, min_samples_leaf=51, n_estimators=50; total time=   0.3s\n",
      "[CV] END .max_depth=20, min_samples_leaf=51, n_estimators=50; total time=   0.3s\n",
      "[CV] END .max_depth=20, min_samples_leaf=51, n_estimators=50; total time=   0.3s\n",
      "[CV] END .max_depth=20, min_samples_leaf=51, n_estimators=50; total time=   0.3s\n",
      "[CV] END .max_depth=20, min_samples_leaf=51, n_estimators=50; total time=   0.3s\n",
      "[CV] END .max_depth=20, min_samples_leaf=51, n_estimators=50; total time=   0.3s\n",
      "[CV] END .max_depth=20, min_samples_leaf=51, n_estimators=50; total time=   0.3s\n",
      "[CV] END .max_depth=20, min_samples_leaf=51, n_estimators=50; total time=   0.3s\n",
      "[CV] END .max_depth=20, min_samples_leaf=51, n_estimators=50; total time=   0.3s\n",
      "[CV] END max_depth=20, min_samples_leaf=51, n_estimators=150; total time=   0.6s\n",
      "[CV] END max_depth=20, min_samples_leaf=51, n_estimators=150; total time=   0.6s\n",
      "[CV] END max_depth=20, min_samples_leaf=51, n_estimators=150; total time=   0.6s\n",
      "[CV] END max_depth=20, min_samples_leaf=51, n_estimators=150; total time=   0.6s\n",
      "[CV] END max_depth=20, min_samples_leaf=51, n_estimators=150; total time=   0.6s\n",
      "[CV] END max_depth=20, min_samples_leaf=51, n_estimators=150; total time=   0.6s\n",
      "[CV] END max_depth=20, min_samples_leaf=51, n_estimators=150; total time=   0.6s\n",
      "[CV] END max_depth=20, min_samples_leaf=51, n_estimators=150; total time=   0.6s\n",
      "[CV] END max_depth=20, min_samples_leaf=51, n_estimators=150; total time=   0.6s\n",
      "[CV] END max_depth=20, min_samples_leaf=51, n_estimators=150; total time=   0.5s\n",
      "[CV] END max_depth=20, min_samples_leaf=51, n_estimators=250; total time=   0.9s\n",
      "[CV] END max_depth=20, min_samples_leaf=51, n_estimators=250; total time=   0.8s\n",
      "[CV] END max_depth=20, min_samples_leaf=51, n_estimators=250; total time=   0.8s\n",
      "[CV] END max_depth=20, min_samples_leaf=51, n_estimators=250; total time=   0.8s\n",
      "[CV] END max_depth=20, min_samples_leaf=51, n_estimators=250; total time=   0.8s\n",
      "[CV] END max_depth=20, min_samples_leaf=51, n_estimators=250; total time=   0.8s\n",
      "[CV] END max_depth=20, min_samples_leaf=51, n_estimators=250; total time=   0.8s\n",
      "[CV] END max_depth=20, min_samples_leaf=51, n_estimators=250; total time=   0.8s\n",
      "[CV] END max_depth=20, min_samples_leaf=51, n_estimators=250; total time=   0.8s\n",
      "[CV] END max_depth=20, min_samples_leaf=51, n_estimators=250; total time=   0.8s\n",
      "[CV] END max_depth=20, min_samples_leaf=51, n_estimators=350; total time=   1.2s\n",
      "[CV] END max_depth=20, min_samples_leaf=51, n_estimators=350; total time=   1.1s\n",
      "[CV] END max_depth=20, min_samples_leaf=51, n_estimators=350; total time=   1.1s\n",
      "[CV] END max_depth=20, min_samples_leaf=51, n_estimators=350; total time=   1.1s\n",
      "[CV] END max_depth=20, min_samples_leaf=51, n_estimators=350; total time=   1.1s\n",
      "[CV] END max_depth=20, min_samples_leaf=51, n_estimators=350; total time=   1.1s\n",
      "[CV] END max_depth=20, min_samples_leaf=51, n_estimators=350; total time=   1.1s\n",
      "[CV] END max_depth=20, min_samples_leaf=51, n_estimators=350; total time=   1.1s\n",
      "[CV] END max_depth=20, min_samples_leaf=51, n_estimators=350; total time=   1.1s\n",
      "[CV] END max_depth=20, min_samples_leaf=51, n_estimators=350; total time=   1.1s\n",
      "[CV] END max_depth=20, min_samples_leaf=51, n_estimators=450; total time=   1.4s\n",
      "[CV] END max_depth=20, min_samples_leaf=51, n_estimators=450; total time=   1.4s\n",
      "[CV] END max_depth=20, min_samples_leaf=51, n_estimators=450; total time=   1.4s\n",
      "[CV] END max_depth=20, min_samples_leaf=51, n_estimators=450; total time=   1.4s\n",
      "[CV] END max_depth=20, min_samples_leaf=51, n_estimators=450; total time=   1.4s\n",
      "[CV] END max_depth=20, min_samples_leaf=51, n_estimators=450; total time=   1.4s\n",
      "[CV] END max_depth=20, min_samples_leaf=51, n_estimators=450; total time=   1.5s\n",
      "[CV] END max_depth=20, min_samples_leaf=51, n_estimators=450; total time=   1.4s\n",
      "[CV] END max_depth=20, min_samples_leaf=51, n_estimators=450; total time=   1.4s\n",
      "[CV] END max_depth=20, min_samples_leaf=51, n_estimators=450; total time=   1.4s\n",
      "[CV] END ..max_depth=30, min_samples_leaf=1, n_estimators=50; total time=   0.4s\n",
      "[CV] END ..max_depth=30, min_samples_leaf=1, n_estimators=50; total time=   0.3s\n",
      "[CV] END ..max_depth=30, min_samples_leaf=1, n_estimators=50; total time=   0.4s\n",
      "[CV] END ..max_depth=30, min_samples_leaf=1, n_estimators=50; total time=   0.4s\n",
      "[CV] END ..max_depth=30, min_samples_leaf=1, n_estimators=50; total time=   0.4s\n",
      "[CV] END ..max_depth=30, min_samples_leaf=1, n_estimators=50; total time=   0.4s\n",
      "[CV] END ..max_depth=30, min_samples_leaf=1, n_estimators=50; total time=   0.4s\n",
      "[CV] END ..max_depth=30, min_samples_leaf=1, n_estimators=50; total time=   0.4s\n",
      "[CV] END ..max_depth=30, min_samples_leaf=1, n_estimators=50; total time=   0.4s\n",
      "[CV] END ..max_depth=30, min_samples_leaf=1, n_estimators=50; total time=   0.4s\n",
      "[CV] END .max_depth=30, min_samples_leaf=1, n_estimators=150; total time=   0.9s\n",
      "[CV] END .max_depth=30, min_samples_leaf=1, n_estimators=150; total time=   0.9s\n",
      "[CV] END .max_depth=30, min_samples_leaf=1, n_estimators=150; total time=   0.9s\n",
      "[CV] END .max_depth=30, min_samples_leaf=1, n_estimators=150; total time=   0.9s\n",
      "[CV] END .max_depth=30, min_samples_leaf=1, n_estimators=150; total time=   0.8s\n",
      "[CV] END .max_depth=30, min_samples_leaf=1, n_estimators=150; total time=   0.9s\n",
      "[CV] END .max_depth=30, min_samples_leaf=1, n_estimators=150; total time=   0.8s\n",
      "[CV] END .max_depth=30, min_samples_leaf=1, n_estimators=150; total time=   0.9s\n",
      "[CV] END .max_depth=30, min_samples_leaf=1, n_estimators=150; total time=   0.9s\n",
      "[CV] END .max_depth=30, min_samples_leaf=1, n_estimators=150; total time=   0.9s\n",
      "[CV] END .max_depth=30, min_samples_leaf=1, n_estimators=250; total time=   1.3s\n",
      "[CV] END .max_depth=30, min_samples_leaf=1, n_estimators=250; total time=   1.4s\n",
      "[CV] END .max_depth=30, min_samples_leaf=1, n_estimators=250; total time=   1.5s\n",
      "[CV] END .max_depth=30, min_samples_leaf=1, n_estimators=250; total time=   1.4s\n",
      "[CV] END .max_depth=30, min_samples_leaf=1, n_estimators=250; total time=   1.3s\n",
      "[CV] END .max_depth=30, min_samples_leaf=1, n_estimators=250; total time=   1.4s\n",
      "[CV] END .max_depth=30, min_samples_leaf=1, n_estimators=250; total time=   1.6s\n",
      "[CV] END .max_depth=30, min_samples_leaf=1, n_estimators=250; total time=   1.5s\n",
      "[CV] END .max_depth=30, min_samples_leaf=1, n_estimators=250; total time=   1.4s\n",
      "[CV] END .max_depth=30, min_samples_leaf=1, n_estimators=250; total time=   1.5s\n",
      "[CV] END .max_depth=30, min_samples_leaf=1, n_estimators=350; total time=   2.1s\n",
      "[CV] END .max_depth=30, min_samples_leaf=1, n_estimators=350; total time=   2.1s\n",
      "[CV] END .max_depth=30, min_samples_leaf=1, n_estimators=350; total time=   2.0s\n",
      "[CV] END .max_depth=30, min_samples_leaf=1, n_estimators=350; total time=   2.0s\n",
      "[CV] END .max_depth=30, min_samples_leaf=1, n_estimators=350; total time=   2.4s\n",
      "[CV] END .max_depth=30, min_samples_leaf=1, n_estimators=350; total time=   2.1s\n",
      "[CV] END .max_depth=30, min_samples_leaf=1, n_estimators=350; total time=   2.4s\n",
      "[CV] END .max_depth=30, min_samples_leaf=1, n_estimators=350; total time=   2.2s\n",
      "[CV] END .max_depth=30, min_samples_leaf=1, n_estimators=350; total time=   2.4s\n",
      "[CV] END .max_depth=30, min_samples_leaf=1, n_estimators=350; total time=   1.9s\n",
      "[CV] END .max_depth=30, min_samples_leaf=1, n_estimators=450; total time=   2.9s\n",
      "[CV] END .max_depth=30, min_samples_leaf=1, n_estimators=450; total time=   2.6s\n",
      "[CV] END .max_depth=30, min_samples_leaf=1, n_estimators=450; total time=   2.8s\n",
      "[CV] END .max_depth=30, min_samples_leaf=1, n_estimators=450; total time=   3.1s\n",
      "[CV] END .max_depth=30, min_samples_leaf=1, n_estimators=450; total time=   3.7s\n",
      "[CV] END .max_depth=30, min_samples_leaf=1, n_estimators=450; total time=   3.8s\n",
      "[CV] END .max_depth=30, min_samples_leaf=1, n_estimators=450; total time=   3.8s\n",
      "[CV] END .max_depth=30, min_samples_leaf=1, n_estimators=450; total time=   3.5s\n",
      "[CV] END .max_depth=30, min_samples_leaf=1, n_estimators=450; total time=   3.2s\n",
      "[CV] END .max_depth=30, min_samples_leaf=1, n_estimators=450; total time=   2.5s\n",
      "[CV] END .max_depth=30, min_samples_leaf=11, n_estimators=50; total time=   0.4s\n",
      "[CV] END .max_depth=30, min_samples_leaf=11, n_estimators=50; total time=   0.4s\n",
      "[CV] END .max_depth=30, min_samples_leaf=11, n_estimators=50; total time=   0.5s\n",
      "[CV] END .max_depth=30, min_samples_leaf=11, n_estimators=50; total time=   0.5s\n",
      "[CV] END .max_depth=30, min_samples_leaf=11, n_estimators=50; total time=   0.4s\n",
      "[CV] END .max_depth=30, min_samples_leaf=11, n_estimators=50; total time=   0.3s\n",
      "[CV] END .max_depth=30, min_samples_leaf=11, n_estimators=50; total time=   0.3s\n",
      "[CV] END .max_depth=30, min_samples_leaf=11, n_estimators=50; total time=   0.4s\n",
      "[CV] END .max_depth=30, min_samples_leaf=11, n_estimators=50; total time=   0.4s\n",
      "[CV] END .max_depth=30, min_samples_leaf=11, n_estimators=50; total time=   0.5s\n",
      "[CV] END max_depth=30, min_samples_leaf=11, n_estimators=150; total time=   1.5s\n",
      "[CV] END max_depth=30, min_samples_leaf=11, n_estimators=150; total time=   1.1s\n",
      "[CV] END max_depth=30, min_samples_leaf=11, n_estimators=150; total time=   1.2s\n",
      "[CV] END max_depth=30, min_samples_leaf=11, n_estimators=150; total time=   1.3s\n",
      "[CV] END max_depth=30, min_samples_leaf=11, n_estimators=150; total time=   0.9s\n",
      "[CV] END max_depth=30, min_samples_leaf=11, n_estimators=150; total time=   0.9s\n",
      "[CV] END max_depth=30, min_samples_leaf=11, n_estimators=150; total time=   0.8s\n",
      "[CV] END max_depth=30, min_samples_leaf=11, n_estimators=150; total time=   0.8s\n",
      "[CV] END max_depth=30, min_samples_leaf=11, n_estimators=150; total time=   0.8s\n",
      "[CV] END max_depth=30, min_samples_leaf=11, n_estimators=150; total time=   0.8s\n",
      "[CV] END max_depth=30, min_samples_leaf=11, n_estimators=250; total time=   1.2s\n",
      "[CV] END max_depth=30, min_samples_leaf=11, n_estimators=250; total time=   1.2s\n",
      "[CV] END max_depth=30, min_samples_leaf=11, n_estimators=250; total time=   1.2s\n",
      "[CV] END max_depth=30, min_samples_leaf=11, n_estimators=250; total time=   1.2s\n",
      "[CV] END max_depth=30, min_samples_leaf=11, n_estimators=250; total time=   1.2s\n",
      "[CV] END max_depth=30, min_samples_leaf=11, n_estimators=250; total time=   1.2s\n",
      "[CV] END max_depth=30, min_samples_leaf=11, n_estimators=250; total time=   1.3s\n",
      "[CV] END max_depth=30, min_samples_leaf=11, n_estimators=250; total time=   1.3s\n",
      "[CV] END max_depth=30, min_samples_leaf=11, n_estimators=250; total time=   1.2s\n",
      "[CV] END max_depth=30, min_samples_leaf=11, n_estimators=250; total time=   1.2s\n",
      "[CV] END max_depth=30, min_samples_leaf=11, n_estimators=350; total time=   1.7s\n",
      "[CV] END max_depth=30, min_samples_leaf=11, n_estimators=350; total time=   1.9s\n",
      "[CV] END max_depth=30, min_samples_leaf=11, n_estimators=350; total time=   1.9s\n",
      "[CV] END max_depth=30, min_samples_leaf=11, n_estimators=350; total time=   1.8s\n",
      "[CV] END max_depth=30, min_samples_leaf=11, n_estimators=350; total time=   1.7s\n",
      "[CV] END max_depth=30, min_samples_leaf=11, n_estimators=350; total time=   1.7s\n",
      "[CV] END max_depth=30, min_samples_leaf=11, n_estimators=350; total time=   1.6s\n",
      "[CV] END max_depth=30, min_samples_leaf=11, n_estimators=350; total time=   1.7s\n",
      "[CV] END max_depth=30, min_samples_leaf=11, n_estimators=350; total time=   1.8s\n",
      "[CV] END max_depth=30, min_samples_leaf=11, n_estimators=350; total time=   1.7s\n",
      "[CV] END max_depth=30, min_samples_leaf=11, n_estimators=450; total time=   2.0s\n",
      "[CV] END max_depth=30, min_samples_leaf=11, n_estimators=450; total time=   2.1s\n",
      "[CV] END max_depth=30, min_samples_leaf=11, n_estimators=450; total time=   2.3s\n",
      "[CV] END max_depth=30, min_samples_leaf=11, n_estimators=450; total time=   2.0s\n",
      "[CV] END max_depth=30, min_samples_leaf=11, n_estimators=450; total time=   2.3s\n",
      "[CV] END max_depth=30, min_samples_leaf=11, n_estimators=450; total time=   2.6s\n",
      "[CV] END max_depth=30, min_samples_leaf=11, n_estimators=450; total time=   2.3s\n",
      "[CV] END max_depth=30, min_samples_leaf=11, n_estimators=450; total time=   2.4s\n",
      "[CV] END max_depth=30, min_samples_leaf=11, n_estimators=450; total time=   3.0s\n",
      "[CV] END max_depth=30, min_samples_leaf=11, n_estimators=450; total time=   2.7s\n",
      "[CV] END .max_depth=30, min_samples_leaf=21, n_estimators=50; total time=   0.4s\n",
      "[CV] END .max_depth=30, min_samples_leaf=21, n_estimators=50; total time=   0.5s\n",
      "[CV] END .max_depth=30, min_samples_leaf=21, n_estimators=50; total time=   0.5s\n",
      "[CV] END .max_depth=30, min_samples_leaf=21, n_estimators=50; total time=   0.5s\n",
      "[CV] END .max_depth=30, min_samples_leaf=21, n_estimators=50; total time=   0.4s\n",
      "[CV] END .max_depth=30, min_samples_leaf=21, n_estimators=50; total time=   0.4s\n",
      "[CV] END .max_depth=30, min_samples_leaf=21, n_estimators=50; total time=   0.5s\n",
      "[CV] END .max_depth=30, min_samples_leaf=21, n_estimators=50; total time=   0.5s\n",
      "[CV] END .max_depth=30, min_samples_leaf=21, n_estimators=50; total time=   0.5s\n",
      "[CV] END .max_depth=30, min_samples_leaf=21, n_estimators=50; total time=   0.5s\n",
      "[CV] END max_depth=30, min_samples_leaf=21, n_estimators=150; total time=   0.9s\n",
      "[CV] END max_depth=30, min_samples_leaf=21, n_estimators=150; total time=   1.1s\n",
      "[CV] END max_depth=30, min_samples_leaf=21, n_estimators=150; total time=   1.1s\n",
      "[CV] END max_depth=30, min_samples_leaf=21, n_estimators=150; total time=   1.3s\n",
      "[CV] END max_depth=30, min_samples_leaf=21, n_estimators=150; total time=   1.3s\n",
      "[CV] END max_depth=30, min_samples_leaf=21, n_estimators=150; total time=   1.5s\n",
      "[CV] END max_depth=30, min_samples_leaf=21, n_estimators=150; total time=   1.3s\n",
      "[CV] END max_depth=30, min_samples_leaf=21, n_estimators=150; total time=   0.8s\n",
      "[CV] END max_depth=30, min_samples_leaf=21, n_estimators=150; total time=   0.8s\n",
      "[CV] END max_depth=30, min_samples_leaf=21, n_estimators=150; total time=   0.8s\n",
      "[CV] END max_depth=30, min_samples_leaf=21, n_estimators=250; total time=   1.0s\n",
      "[CV] END max_depth=30, min_samples_leaf=21, n_estimators=250; total time=   0.9s\n",
      "[CV] END max_depth=30, min_samples_leaf=21, n_estimators=250; total time=   1.2s\n",
      "[CV] END max_depth=30, min_samples_leaf=21, n_estimators=250; total time=   1.4s\n",
      "[CV] END max_depth=30, min_samples_leaf=21, n_estimators=250; total time=   1.7s\n",
      "[CV] END max_depth=30, min_samples_leaf=21, n_estimators=250; total time=   1.7s\n",
      "[CV] END max_depth=30, min_samples_leaf=21, n_estimators=250; total time=   1.5s\n",
      "[CV] END max_depth=30, min_samples_leaf=21, n_estimators=250; total time=   1.4s\n",
      "[CV] END max_depth=30, min_samples_leaf=21, n_estimators=250; total time=   1.4s\n",
      "[CV] END max_depth=30, min_samples_leaf=21, n_estimators=250; total time=   1.2s\n",
      "[CV] END max_depth=30, min_samples_leaf=21, n_estimators=350; total time=   1.3s\n",
      "[CV] END max_depth=30, min_samples_leaf=21, n_estimators=350; total time=   1.3s\n",
      "[CV] END max_depth=30, min_samples_leaf=21, n_estimators=350; total time=   1.4s\n",
      "[CV] END max_depth=30, min_samples_leaf=21, n_estimators=350; total time=   1.4s\n",
      "[CV] END max_depth=30, min_samples_leaf=21, n_estimators=350; total time=   1.5s\n",
      "[CV] END max_depth=30, min_samples_leaf=21, n_estimators=350; total time=   1.7s\n",
      "[CV] END max_depth=30, min_samples_leaf=21, n_estimators=350; total time=   1.7s\n",
      "[CV] END max_depth=30, min_samples_leaf=21, n_estimators=350; total time=   1.5s\n",
      "[CV] END max_depth=30, min_samples_leaf=21, n_estimators=350; total time=   1.7s\n",
      "[CV] END max_depth=30, min_samples_leaf=21, n_estimators=350; total time=   1.5s\n",
      "[CV] END max_depth=30, min_samples_leaf=21, n_estimators=450; total time=   1.7s\n",
      "[CV] END max_depth=30, min_samples_leaf=21, n_estimators=450; total time=   1.8s\n",
      "[CV] END max_depth=30, min_samples_leaf=21, n_estimators=450; total time=   2.0s\n",
      "[CV] END max_depth=30, min_samples_leaf=21, n_estimators=450; total time=   1.7s\n",
      "[CV] END max_depth=30, min_samples_leaf=21, n_estimators=450; total time=   2.3s\n",
      "[CV] END max_depth=30, min_samples_leaf=21, n_estimators=450; total time=   2.4s\n",
      "[CV] END max_depth=30, min_samples_leaf=21, n_estimators=450; total time=   2.0s\n",
      "[CV] END max_depth=30, min_samples_leaf=21, n_estimators=450; total time=   2.2s\n",
      "[CV] END max_depth=30, min_samples_leaf=21, n_estimators=450; total time=   1.7s\n",
      "[CV] END max_depth=30, min_samples_leaf=21, n_estimators=450; total time=   1.7s\n",
      "[CV] END .max_depth=30, min_samples_leaf=31, n_estimators=50; total time=   0.3s\n",
      "[CV] END .max_depth=30, min_samples_leaf=31, n_estimators=50; total time=   0.4s\n",
      "[CV] END .max_depth=30, min_samples_leaf=31, n_estimators=50; total time=   0.3s\n",
      "[CV] END .max_depth=30, min_samples_leaf=31, n_estimators=50; total time=   0.4s\n",
      "[CV] END .max_depth=30, min_samples_leaf=31, n_estimators=50; total time=   0.3s\n",
      "[CV] END .max_depth=30, min_samples_leaf=31, n_estimators=50; total time=   0.3s\n",
      "[CV] END .max_depth=30, min_samples_leaf=31, n_estimators=50; total time=   0.3s\n",
      "[CV] END .max_depth=30, min_samples_leaf=31, n_estimators=50; total time=   0.3s\n",
      "[CV] END .max_depth=30, min_samples_leaf=31, n_estimators=50; total time=   0.3s\n",
      "[CV] END .max_depth=30, min_samples_leaf=31, n_estimators=50; total time=   0.4s\n",
      "[CV] END max_depth=30, min_samples_leaf=31, n_estimators=150; total time=   0.7s\n",
      "[CV] END max_depth=30, min_samples_leaf=31, n_estimators=150; total time=   0.6s\n",
      "[CV] END max_depth=30, min_samples_leaf=31, n_estimators=150; total time=   0.8s\n",
      "[CV] END max_depth=30, min_samples_leaf=31, n_estimators=150; total time=   0.7s\n",
      "[CV] END max_depth=30, min_samples_leaf=31, n_estimators=150; total time=   0.7s\n",
      "[CV] END max_depth=30, min_samples_leaf=31, n_estimators=150; total time=   0.7s\n",
      "[CV] END max_depth=30, min_samples_leaf=31, n_estimators=150; total time=   0.7s\n",
      "[CV] END max_depth=30, min_samples_leaf=31, n_estimators=150; total time=   0.8s\n",
      "[CV] END max_depth=30, min_samples_leaf=31, n_estimators=150; total time=   0.7s\n",
      "[CV] END max_depth=30, min_samples_leaf=31, n_estimators=150; total time=   0.6s\n",
      "[CV] END max_depth=30, min_samples_leaf=31, n_estimators=250; total time=   1.0s\n",
      "[CV] END max_depth=30, min_samples_leaf=31, n_estimators=250; total time=   1.3s\n",
      "[CV] END max_depth=30, min_samples_leaf=31, n_estimators=250; total time=   1.3s\n",
      "[CV] END max_depth=30, min_samples_leaf=31, n_estimators=250; total time=   1.3s\n",
      "[CV] END max_depth=30, min_samples_leaf=31, n_estimators=250; total time=   1.3s\n",
      "[CV] END max_depth=30, min_samples_leaf=31, n_estimators=250; total time=   1.4s\n",
      "[CV] END max_depth=30, min_samples_leaf=31, n_estimators=250; total time=   1.6s\n",
      "[CV] END max_depth=30, min_samples_leaf=31, n_estimators=250; total time=   1.5s\n",
      "[CV] END max_depth=30, min_samples_leaf=31, n_estimators=250; total time=   1.5s\n",
      "[CV] END max_depth=30, min_samples_leaf=31, n_estimators=250; total time=   1.0s\n",
      "[CV] END max_depth=30, min_samples_leaf=31, n_estimators=350; total time=   1.5s\n",
      "[CV] END max_depth=30, min_samples_leaf=31, n_estimators=350; total time=   1.3s\n",
      "[CV] END max_depth=30, min_samples_leaf=31, n_estimators=350; total time=   1.3s\n",
      "[CV] END max_depth=30, min_samples_leaf=31, n_estimators=350; total time=   1.3s\n",
      "[CV] END max_depth=30, min_samples_leaf=31, n_estimators=350; total time=   1.3s\n",
      "[CV] END max_depth=30, min_samples_leaf=31, n_estimators=350; total time=   1.2s\n",
      "[CV] END max_depth=30, min_samples_leaf=31, n_estimators=350; total time=   1.2s\n",
      "[CV] END max_depth=30, min_samples_leaf=31, n_estimators=350; total time=   1.2s\n",
      "[CV] END max_depth=30, min_samples_leaf=31, n_estimators=350; total time=   1.2s\n",
      "[CV] END max_depth=30, min_samples_leaf=31, n_estimators=350; total time=   1.2s\n",
      "[CV] END max_depth=30, min_samples_leaf=31, n_estimators=450; total time=   1.6s\n",
      "[CV] END max_depth=30, min_samples_leaf=31, n_estimators=450; total time=   2.0s\n",
      "[CV] END max_depth=30, min_samples_leaf=31, n_estimators=450; total time=   1.5s\n",
      "[CV] END max_depth=30, min_samples_leaf=31, n_estimators=450; total time=   1.4s\n",
      "[CV] END max_depth=30, min_samples_leaf=31, n_estimators=450; total time=   1.6s\n",
      "[CV] END max_depth=30, min_samples_leaf=31, n_estimators=450; total time=   1.6s\n",
      "[CV] END max_depth=30, min_samples_leaf=31, n_estimators=450; total time=   1.7s\n",
      "[CV] END max_depth=30, min_samples_leaf=31, n_estimators=450; total time=   1.6s\n",
      "[CV] END max_depth=30, min_samples_leaf=31, n_estimators=450; total time=   1.7s\n",
      "[CV] END max_depth=30, min_samples_leaf=31, n_estimators=450; total time=   1.6s\n",
      "[CV] END .max_depth=30, min_samples_leaf=41, n_estimators=50; total time=   0.4s\n",
      "[CV] END .max_depth=30, min_samples_leaf=41, n_estimators=50; total time=   0.4s\n",
      "[CV] END .max_depth=30, min_samples_leaf=41, n_estimators=50; total time=   0.3s\n",
      "[CV] END .max_depth=30, min_samples_leaf=41, n_estimators=50; total time=   0.3s\n",
      "[CV] END .max_depth=30, min_samples_leaf=41, n_estimators=50; total time=   0.3s\n",
      "[CV] END .max_depth=30, min_samples_leaf=41, n_estimators=50; total time=   0.3s\n",
      "[CV] END .max_depth=30, min_samples_leaf=41, n_estimators=50; total time=   0.3s\n",
      "[CV] END .max_depth=30, min_samples_leaf=41, n_estimators=50; total time=   0.3s\n",
      "[CV] END .max_depth=30, min_samples_leaf=41, n_estimators=50; total time=   0.3s\n",
      "[CV] END .max_depth=30, min_samples_leaf=41, n_estimators=50; total time=   0.3s\n",
      "[CV] END max_depth=30, min_samples_leaf=41, n_estimators=150; total time=   0.7s\n",
      "[CV] END max_depth=30, min_samples_leaf=41, n_estimators=150; total time=   0.7s\n",
      "[CV] END max_depth=30, min_samples_leaf=41, n_estimators=150; total time=   0.6s\n",
      "[CV] END max_depth=30, min_samples_leaf=41, n_estimators=150; total time=   0.7s\n",
      "[CV] END max_depth=30, min_samples_leaf=41, n_estimators=150; total time=   0.6s\n",
      "[CV] END max_depth=30, min_samples_leaf=41, n_estimators=150; total time=   0.7s\n",
      "[CV] END max_depth=30, min_samples_leaf=41, n_estimators=150; total time=   0.6s\n",
      "[CV] END max_depth=30, min_samples_leaf=41, n_estimators=150; total time=   0.7s\n",
      "[CV] END max_depth=30, min_samples_leaf=41, n_estimators=150; total time=   0.7s\n",
      "[CV] END max_depth=30, min_samples_leaf=41, n_estimators=150; total time=   0.7s\n",
      "[CV] END max_depth=30, min_samples_leaf=41, n_estimators=250; total time=   0.9s\n",
      "[CV] END max_depth=30, min_samples_leaf=41, n_estimators=250; total time=   1.0s\n",
      "[CV] END max_depth=30, min_samples_leaf=41, n_estimators=250; total time=   1.0s\n",
      "[CV] END max_depth=30, min_samples_leaf=41, n_estimators=250; total time=   1.0s\n",
      "[CV] END max_depth=30, min_samples_leaf=41, n_estimators=250; total time=   1.0s\n",
      "[CV] END max_depth=30, min_samples_leaf=41, n_estimators=250; total time=   1.0s\n",
      "[CV] END max_depth=30, min_samples_leaf=41, n_estimators=250; total time=   0.9s\n",
      "[CV] END max_depth=30, min_samples_leaf=41, n_estimators=250; total time=   0.9s\n",
      "[CV] END max_depth=30, min_samples_leaf=41, n_estimators=250; total time=   1.1s\n",
      "[CV] END max_depth=30, min_samples_leaf=41, n_estimators=250; total time=   0.9s\n",
      "[CV] END max_depth=30, min_samples_leaf=41, n_estimators=350; total time=   1.3s\n",
      "[CV] END max_depth=30, min_samples_leaf=41, n_estimators=350; total time=   1.4s\n",
      "[CV] END max_depth=30, min_samples_leaf=41, n_estimators=350; total time=   1.3s\n",
      "[CV] END max_depth=30, min_samples_leaf=41, n_estimators=350; total time=   1.2s\n",
      "[CV] END max_depth=30, min_samples_leaf=41, n_estimators=350; total time=   1.3s\n",
      "[CV] END max_depth=30, min_samples_leaf=41, n_estimators=350; total time=   1.3s\n",
      "[CV] END max_depth=30, min_samples_leaf=41, n_estimators=350; total time=   1.2s\n",
      "[CV] END max_depth=30, min_samples_leaf=41, n_estimators=350; total time=   1.2s\n",
      "[CV] END max_depth=30, min_samples_leaf=41, n_estimators=350; total time=   1.1s\n",
      "[CV] END max_depth=30, min_samples_leaf=41, n_estimators=350; total time=   1.2s\n",
      "[CV] END max_depth=30, min_samples_leaf=41, n_estimators=450; total time=   1.5s\n",
      "[CV] END max_depth=30, min_samples_leaf=41, n_estimators=450; total time=   1.5s\n",
      "[CV] END max_depth=30, min_samples_leaf=41, n_estimators=450; total time=   1.4s\n",
      "[CV] END max_depth=30, min_samples_leaf=41, n_estimators=450; total time=   1.3s\n",
      "[CV] END max_depth=30, min_samples_leaf=41, n_estimators=450; total time=   1.3s\n",
      "[CV] END max_depth=30, min_samples_leaf=41, n_estimators=450; total time=   1.4s\n",
      "[CV] END max_depth=30, min_samples_leaf=41, n_estimators=450; total time=   1.4s\n",
      "[CV] END max_depth=30, min_samples_leaf=41, n_estimators=450; total time=   1.4s\n",
      "[CV] END max_depth=30, min_samples_leaf=41, n_estimators=450; total time=   1.5s\n",
      "[CV] END max_depth=30, min_samples_leaf=41, n_estimators=450; total time=   1.5s\n",
      "[CV] END .max_depth=30, min_samples_leaf=51, n_estimators=50; total time=   0.3s\n",
      "[CV] END .max_depth=30, min_samples_leaf=51, n_estimators=50; total time=   0.3s\n",
      "[CV] END .max_depth=30, min_samples_leaf=51, n_estimators=50; total time=   0.3s\n",
      "[CV] END .max_depth=30, min_samples_leaf=51, n_estimators=50; total time=   0.3s\n",
      "[CV] END .max_depth=30, min_samples_leaf=51, n_estimators=50; total time=   0.3s\n",
      "[CV] END .max_depth=30, min_samples_leaf=51, n_estimators=50; total time=   0.3s\n",
      "[CV] END .max_depth=30, min_samples_leaf=51, n_estimators=50; total time=   0.3s\n",
      "[CV] END .max_depth=30, min_samples_leaf=51, n_estimators=50; total time=   0.3s\n",
      "[CV] END .max_depth=30, min_samples_leaf=51, n_estimators=50; total time=   0.2s\n",
      "[CV] END .max_depth=30, min_samples_leaf=51, n_estimators=50; total time=   0.3s\n",
      "[CV] END max_depth=30, min_samples_leaf=51, n_estimators=150; total time=   0.6s\n",
      "[CV] END max_depth=30, min_samples_leaf=51, n_estimators=150; total time=   0.6s\n",
      "[CV] END max_depth=30, min_samples_leaf=51, n_estimators=150; total time=   0.7s\n",
      "[CV] END max_depth=30, min_samples_leaf=51, n_estimators=150; total time=   0.6s\n",
      "[CV] END max_depth=30, min_samples_leaf=51, n_estimators=150; total time=   0.6s\n",
      "[CV] END max_depth=30, min_samples_leaf=51, n_estimators=150; total time=   0.6s\n",
      "[CV] END max_depth=30, min_samples_leaf=51, n_estimators=150; total time=   0.6s\n",
      "[CV] END max_depth=30, min_samples_leaf=51, n_estimators=150; total time=   0.6s\n",
      "[CV] END max_depth=30, min_samples_leaf=51, n_estimators=150; total time=   0.6s\n",
      "[CV] END max_depth=30, min_samples_leaf=51, n_estimators=150; total time=   0.9s\n",
      "[CV] END max_depth=30, min_samples_leaf=51, n_estimators=250; total time=   1.2s\n",
      "[CV] END max_depth=30, min_samples_leaf=51, n_estimators=250; total time=   1.4s\n",
      "[CV] END max_depth=30, min_samples_leaf=51, n_estimators=250; total time=   1.3s\n",
      "[CV] END max_depth=30, min_samples_leaf=51, n_estimators=250; total time=   1.5s\n",
      "[CV] END max_depth=30, min_samples_leaf=51, n_estimators=250; total time=   1.7s\n",
      "[CV] END max_depth=30, min_samples_leaf=51, n_estimators=250; total time=   1.7s\n",
      "[CV] END max_depth=30, min_samples_leaf=51, n_estimators=250; total time=   1.1s\n",
      "[CV] END max_depth=30, min_samples_leaf=51, n_estimators=250; total time=   0.8s\n",
      "[CV] END max_depth=30, min_samples_leaf=51, n_estimators=250; total time=   0.9s\n",
      "[CV] END max_depth=30, min_samples_leaf=51, n_estimators=250; total time=   0.8s\n",
      "[CV] END max_depth=30, min_samples_leaf=51, n_estimators=350; total time=   1.1s\n",
      "[CV] END max_depth=30, min_samples_leaf=51, n_estimators=350; total time=   1.2s\n",
      "[CV] END max_depth=30, min_samples_leaf=51, n_estimators=350; total time=   1.4s\n",
      "[CV] END max_depth=30, min_samples_leaf=51, n_estimators=350; total time=   1.1s\n",
      "[CV] END max_depth=30, min_samples_leaf=51, n_estimators=350; total time=   1.2s\n",
      "[CV] END max_depth=30, min_samples_leaf=51, n_estimators=350; total time=   1.2s\n",
      "[CV] END max_depth=30, min_samples_leaf=51, n_estimators=350; total time=   1.2s\n",
      "[CV] END max_depth=30, min_samples_leaf=51, n_estimators=350; total time=   1.4s\n",
      "[CV] END max_depth=30, min_samples_leaf=51, n_estimators=350; total time=   1.3s\n",
      "[CV] END max_depth=30, min_samples_leaf=51, n_estimators=350; total time=   1.2s\n",
      "[CV] END max_depth=30, min_samples_leaf=51, n_estimators=450; total time=   1.3s\n",
      "[CV] END max_depth=30, min_samples_leaf=51, n_estimators=450; total time=   1.4s\n",
      "[CV] END max_depth=30, min_samples_leaf=51, n_estimators=450; total time=   1.4s\n",
      "[CV] END max_depth=30, min_samples_leaf=51, n_estimators=450; total time=   1.3s\n",
      "[CV] END max_depth=30, min_samples_leaf=51, n_estimators=450; total time=   1.4s\n",
      "[CV] END max_depth=30, min_samples_leaf=51, n_estimators=450; total time=   1.5s\n",
      "[CV] END max_depth=30, min_samples_leaf=51, n_estimators=450; total time=   1.9s\n",
      "[CV] END max_depth=30, min_samples_leaf=51, n_estimators=450; total time=   1.8s\n",
      "[CV] END max_depth=30, min_samples_leaf=51, n_estimators=450; total time=   1.8s\n",
      "[CV] END max_depth=30, min_samples_leaf=51, n_estimators=450; total time=   2.3s\n",
      "[CV] END ..max_depth=40, min_samples_leaf=1, n_estimators=50; total time=   0.6s\n",
      "[CV] END ..max_depth=40, min_samples_leaf=1, n_estimators=50; total time=   0.8s\n",
      "[CV] END ..max_depth=40, min_samples_leaf=1, n_estimators=50; total time=   0.9s\n",
      "[CV] END ..max_depth=40, min_samples_leaf=1, n_estimators=50; total time=   0.7s\n",
      "[CV] END ..max_depth=40, min_samples_leaf=1, n_estimators=50; total time=   0.5s\n",
      "[CV] END ..max_depth=40, min_samples_leaf=1, n_estimators=50; total time=   0.5s\n",
      "[CV] END ..max_depth=40, min_samples_leaf=1, n_estimators=50; total time=   0.4s\n",
      "[CV] END ..max_depth=40, min_samples_leaf=1, n_estimators=50; total time=   0.4s\n",
      "[CV] END ..max_depth=40, min_samples_leaf=1, n_estimators=50; total time=   0.5s\n",
      "[CV] END ..max_depth=40, min_samples_leaf=1, n_estimators=50; total time=   0.5s\n",
      "[CV] END .max_depth=40, min_samples_leaf=1, n_estimators=150; total time=   1.0s\n",
      "[CV] END .max_depth=40, min_samples_leaf=1, n_estimators=150; total time=   0.9s\n",
      "[CV] END .max_depth=40, min_samples_leaf=1, n_estimators=150; total time=   0.9s\n",
      "[CV] END .max_depth=40, min_samples_leaf=1, n_estimators=150; total time=   1.0s\n",
      "[CV] END .max_depth=40, min_samples_leaf=1, n_estimators=150; total time=   1.0s\n",
      "[CV] END .max_depth=40, min_samples_leaf=1, n_estimators=150; total time=   1.0s\n",
      "[CV] END .max_depth=40, min_samples_leaf=1, n_estimators=150; total time=   0.9s\n",
      "[CV] END .max_depth=40, min_samples_leaf=1, n_estimators=150; total time=   0.9s\n",
      "[CV] END .max_depth=40, min_samples_leaf=1, n_estimators=150; total time=   0.9s\n",
      "[CV] END .max_depth=40, min_samples_leaf=1, n_estimators=150; total time=   0.9s\n",
      "[CV] END .max_depth=40, min_samples_leaf=1, n_estimators=250; total time=   1.4s\n",
      "[CV] END .max_depth=40, min_samples_leaf=1, n_estimators=250; total time=   1.4s\n",
      "[CV] END .max_depth=40, min_samples_leaf=1, n_estimators=250; total time=   1.4s\n",
      "[CV] END .max_depth=40, min_samples_leaf=1, n_estimators=250; total time=   1.4s\n",
      "[CV] END .max_depth=40, min_samples_leaf=1, n_estimators=250; total time=   1.4s\n",
      "[CV] END .max_depth=40, min_samples_leaf=1, n_estimators=250; total time=   1.4s\n",
      "[CV] END .max_depth=40, min_samples_leaf=1, n_estimators=250; total time=   1.6s\n",
      "[CV] END .max_depth=40, min_samples_leaf=1, n_estimators=250; total time=   1.4s\n",
      "[CV] END .max_depth=40, min_samples_leaf=1, n_estimators=250; total time=   1.5s\n",
      "[CV] END .max_depth=40, min_samples_leaf=1, n_estimators=250; total time=   1.5s\n",
      "[CV] END .max_depth=40, min_samples_leaf=1, n_estimators=350; total time=   2.1s\n",
      "[CV] END .max_depth=40, min_samples_leaf=1, n_estimators=350; total time=   2.0s\n",
      "[CV] END .max_depth=40, min_samples_leaf=1, n_estimators=350; total time=   2.0s\n",
      "[CV] END .max_depth=40, min_samples_leaf=1, n_estimators=350; total time=   2.1s\n",
      "[CV] END .max_depth=40, min_samples_leaf=1, n_estimators=350; total time=   3.1s\n",
      "[CV] END .max_depth=40, min_samples_leaf=1, n_estimators=350; total time=   3.0s\n",
      "[CV] END .max_depth=40, min_samples_leaf=1, n_estimators=350; total time=   1.8s\n",
      "[CV] END .max_depth=40, min_samples_leaf=1, n_estimators=350; total time=   2.1s\n",
      "[CV] END .max_depth=40, min_samples_leaf=1, n_estimators=350; total time=   2.2s\n",
      "[CV] END .max_depth=40, min_samples_leaf=1, n_estimators=350; total time=   1.9s\n",
      "[CV] END .max_depth=40, min_samples_leaf=1, n_estimators=450; total time=   2.7s\n",
      "[CV] END .max_depth=40, min_samples_leaf=1, n_estimators=450; total time=   4.0s\n",
      "[CV] END .max_depth=40, min_samples_leaf=1, n_estimators=450; total time=   4.2s\n",
      "[CV] END .max_depth=40, min_samples_leaf=1, n_estimators=450; total time=   2.9s\n",
      "[CV] END .max_depth=40, min_samples_leaf=1, n_estimators=450; total time=   2.4s\n",
      "[CV] END .max_depth=40, min_samples_leaf=1, n_estimators=450; total time=   2.5s\n",
      "[CV] END .max_depth=40, min_samples_leaf=1, n_estimators=450; total time=   2.3s\n",
      "[CV] END .max_depth=40, min_samples_leaf=1, n_estimators=450; total time=   2.3s\n",
      "[CV] END .max_depth=40, min_samples_leaf=1, n_estimators=450; total time=   2.3s\n",
      "[CV] END .max_depth=40, min_samples_leaf=1, n_estimators=450; total time=   2.3s\n",
      "[CV] END .max_depth=40, min_samples_leaf=11, n_estimators=50; total time=   0.2s\n",
      "[CV] END .max_depth=40, min_samples_leaf=11, n_estimators=50; total time=   0.3s\n",
      "[CV] END .max_depth=40, min_samples_leaf=11, n_estimators=50; total time=   0.3s\n",
      "[CV] END .max_depth=40, min_samples_leaf=11, n_estimators=50; total time=   0.3s\n",
      "[CV] END .max_depth=40, min_samples_leaf=11, n_estimators=50; total time=   0.4s\n",
      "[CV] END .max_depth=40, min_samples_leaf=11, n_estimators=50; total time=   0.3s\n",
      "[CV] END .max_depth=40, min_samples_leaf=11, n_estimators=50; total time=   0.3s\n",
      "[CV] END .max_depth=40, min_samples_leaf=11, n_estimators=50; total time=   0.3s\n",
      "[CV] END .max_depth=40, min_samples_leaf=11, n_estimators=50; total time=   0.3s\n",
      "[CV] END .max_depth=40, min_samples_leaf=11, n_estimators=50; total time=   0.3s\n",
      "[CV] END max_depth=40, min_samples_leaf=11, n_estimators=150; total time=   0.7s\n",
      "[CV] END max_depth=40, min_samples_leaf=11, n_estimators=150; total time=   0.7s\n",
      "[CV] END max_depth=40, min_samples_leaf=11, n_estimators=150; total time=   0.7s\n",
      "[CV] END max_depth=40, min_samples_leaf=11, n_estimators=150; total time=   0.7s\n",
      "[CV] END max_depth=40, min_samples_leaf=11, n_estimators=150; total time=   0.7s\n",
      "[CV] END max_depth=40, min_samples_leaf=11, n_estimators=150; total time=   0.7s\n",
      "[CV] END max_depth=40, min_samples_leaf=11, n_estimators=150; total time=   0.7s\n",
      "[CV] END max_depth=40, min_samples_leaf=11, n_estimators=150; total time=   0.7s\n",
      "[CV] END max_depth=40, min_samples_leaf=11, n_estimators=150; total time=   0.7s\n",
      "[CV] END max_depth=40, min_samples_leaf=11, n_estimators=150; total time=   0.7s\n",
      "[CV] END max_depth=40, min_samples_leaf=11, n_estimators=250; total time=   1.0s\n",
      "[CV] END max_depth=40, min_samples_leaf=11, n_estimators=250; total time=   1.0s\n",
      "[CV] END max_depth=40, min_samples_leaf=11, n_estimators=250; total time=   1.1s\n",
      "[CV] END max_depth=40, min_samples_leaf=11, n_estimators=250; total time=   1.0s\n",
      "[CV] END max_depth=40, min_samples_leaf=11, n_estimators=250; total time=   1.0s\n",
      "[CV] END max_depth=40, min_samples_leaf=11, n_estimators=250; total time=   1.1s\n",
      "[CV] END max_depth=40, min_samples_leaf=11, n_estimators=250; total time=   1.0s\n",
      "[CV] END max_depth=40, min_samples_leaf=11, n_estimators=250; total time=   1.0s\n",
      "[CV] END max_depth=40, min_samples_leaf=11, n_estimators=250; total time=   1.1s\n",
      "[CV] END max_depth=40, min_samples_leaf=11, n_estimators=250; total time=   1.0s\n",
      "[CV] END max_depth=40, min_samples_leaf=11, n_estimators=350; total time=   1.3s\n",
      "[CV] END max_depth=40, min_samples_leaf=11, n_estimators=350; total time=   1.5s\n",
      "[CV] END max_depth=40, min_samples_leaf=11, n_estimators=350; total time=   1.3s\n",
      "[CV] END max_depth=40, min_samples_leaf=11, n_estimators=350; total time=   1.5s\n",
      "[CV] END max_depth=40, min_samples_leaf=11, n_estimators=350; total time=   1.4s\n",
      "[CV] END max_depth=40, min_samples_leaf=11, n_estimators=350; total time=   1.4s\n",
      "[CV] END max_depth=40, min_samples_leaf=11, n_estimators=350; total time=   1.3s\n",
      "[CV] END max_depth=40, min_samples_leaf=11, n_estimators=350; total time=   1.4s\n",
      "[CV] END max_depth=40, min_samples_leaf=11, n_estimators=350; total time=   1.3s\n",
      "[CV] END max_depth=40, min_samples_leaf=11, n_estimators=350; total time=   1.4s\n",
      "[CV] END max_depth=40, min_samples_leaf=11, n_estimators=450; total time=   1.8s\n",
      "[CV] END max_depth=40, min_samples_leaf=11, n_estimators=450; total time=   1.6s\n",
      "[CV] END max_depth=40, min_samples_leaf=11, n_estimators=450; total time=   1.7s\n",
      "[CV] END max_depth=40, min_samples_leaf=11, n_estimators=450; total time=   1.6s\n",
      "[CV] END max_depth=40, min_samples_leaf=11, n_estimators=450; total time=   1.7s\n",
      "[CV] END max_depth=40, min_samples_leaf=11, n_estimators=450; total time=   1.7s\n",
      "[CV] END max_depth=40, min_samples_leaf=11, n_estimators=450; total time=   1.6s\n",
      "[CV] END max_depth=40, min_samples_leaf=11, n_estimators=450; total time=   1.6s\n",
      "[CV] END max_depth=40, min_samples_leaf=11, n_estimators=450; total time=   1.6s\n",
      "[CV] END max_depth=40, min_samples_leaf=11, n_estimators=450; total time=   1.7s\n",
      "[CV] END .max_depth=40, min_samples_leaf=21, n_estimators=50; total time=   0.3s\n",
      "[CV] END .max_depth=40, min_samples_leaf=21, n_estimators=50; total time=   0.3s\n",
      "[CV] END .max_depth=40, min_samples_leaf=21, n_estimators=50; total time=   0.3s\n",
      "[CV] END .max_depth=40, min_samples_leaf=21, n_estimators=50; total time=   0.3s\n",
      "[CV] END .max_depth=40, min_samples_leaf=21, n_estimators=50; total time=   0.3s\n",
      "[CV] END .max_depth=40, min_samples_leaf=21, n_estimators=50; total time=   0.3s\n",
      "[CV] END .max_depth=40, min_samples_leaf=21, n_estimators=50; total time=   0.3s\n",
      "[CV] END .max_depth=40, min_samples_leaf=21, n_estimators=50; total time=   0.3s\n",
      "[CV] END .max_depth=40, min_samples_leaf=21, n_estimators=50; total time=   0.3s\n",
      "[CV] END .max_depth=40, min_samples_leaf=21, n_estimators=50; total time=   0.3s\n",
      "[CV] END max_depth=40, min_samples_leaf=21, n_estimators=150; total time=   0.6s\n",
      "[CV] END max_depth=40, min_samples_leaf=21, n_estimators=150; total time=   0.6s\n",
      "[CV] END max_depth=40, min_samples_leaf=21, n_estimators=150; total time=   0.7s\n",
      "[CV] END max_depth=40, min_samples_leaf=21, n_estimators=150; total time=   0.6s\n",
      "[CV] END max_depth=40, min_samples_leaf=21, n_estimators=150; total time=   0.6s\n",
      "[CV] END max_depth=40, min_samples_leaf=21, n_estimators=150; total time=   0.6s\n",
      "[CV] END max_depth=40, min_samples_leaf=21, n_estimators=150; total time=   0.6s\n",
      "[CV] END max_depth=40, min_samples_leaf=21, n_estimators=150; total time=   0.6s\n",
      "[CV] END max_depth=40, min_samples_leaf=21, n_estimators=150; total time=   0.6s\n",
      "[CV] END max_depth=40, min_samples_leaf=21, n_estimators=150; total time=   0.6s\n",
      "[CV] END max_depth=40, min_samples_leaf=21, n_estimators=250; total time=   0.9s\n",
      "[CV] END max_depth=40, min_samples_leaf=21, n_estimators=250; total time=   1.0s\n",
      "[CV] END max_depth=40, min_samples_leaf=21, n_estimators=250; total time=   1.2s\n",
      "[CV] END max_depth=40, min_samples_leaf=21, n_estimators=250; total time=   1.0s\n",
      "[CV] END max_depth=40, min_samples_leaf=21, n_estimators=250; total time=   1.1s\n",
      "[CV] END max_depth=40, min_samples_leaf=21, n_estimators=250; total time=   1.0s\n",
      "[CV] END max_depth=40, min_samples_leaf=21, n_estimators=250; total time=   1.0s\n",
      "[CV] END max_depth=40, min_samples_leaf=21, n_estimators=250; total time=   1.0s\n",
      "[CV] END max_depth=40, min_samples_leaf=21, n_estimators=250; total time=   0.9s\n",
      "[CV] END max_depth=40, min_samples_leaf=21, n_estimators=250; total time=   1.0s\n",
      "[CV] END max_depth=40, min_samples_leaf=21, n_estimators=350; total time=   1.2s\n",
      "[CV] END max_depth=40, min_samples_leaf=21, n_estimators=350; total time=   1.4s\n",
      "[CV] END max_depth=40, min_samples_leaf=21, n_estimators=350; total time=   1.3s\n",
      "[CV] END max_depth=40, min_samples_leaf=21, n_estimators=350; total time=   1.8s\n",
      "[CV] END max_depth=40, min_samples_leaf=21, n_estimators=350; total time=   1.4s\n",
      "[CV] END max_depth=40, min_samples_leaf=21, n_estimators=350; total time=   1.5s\n",
      "[CV] END max_depth=40, min_samples_leaf=21, n_estimators=350; total time=   1.6s\n",
      "[CV] END max_depth=40, min_samples_leaf=21, n_estimators=350; total time=   2.1s\n",
      "[CV] END max_depth=40, min_samples_leaf=21, n_estimators=350; total time=   2.3s\n",
      "[CV] END max_depth=40, min_samples_leaf=21, n_estimators=350; total time=   2.2s\n",
      "[CV] END max_depth=40, min_samples_leaf=21, n_estimators=450; total time=   2.9s\n",
      "[CV] END max_depth=40, min_samples_leaf=21, n_estimators=450; total time=   2.7s\n",
      "[CV] END max_depth=40, min_samples_leaf=21, n_estimators=450; total time=   2.3s\n",
      "[CV] END max_depth=40, min_samples_leaf=21, n_estimators=450; total time=   2.4s\n",
      "[CV] END max_depth=40, min_samples_leaf=21, n_estimators=450; total time=   2.9s\n",
      "[CV] END max_depth=40, min_samples_leaf=21, n_estimators=450; total time=   3.0s\n",
      "[CV] END max_depth=40, min_samples_leaf=21, n_estimators=450; total time=   3.7s\n",
      "[CV] END max_depth=40, min_samples_leaf=21, n_estimators=450; total time=   3.0s\n",
      "[CV] END max_depth=40, min_samples_leaf=21, n_estimators=450; total time=   2.9s\n",
      "[CV] END max_depth=40, min_samples_leaf=21, n_estimators=450; total time=   2.5s\n",
      "[CV] END .max_depth=40, min_samples_leaf=31, n_estimators=50; total time=   0.3s\n",
      "[CV] END .max_depth=40, min_samples_leaf=31, n_estimators=50; total time=   0.3s\n",
      "[CV] END .max_depth=40, min_samples_leaf=31, n_estimators=50; total time=   0.3s\n",
      "[CV] END .max_depth=40, min_samples_leaf=31, n_estimators=50; total time=   0.3s\n",
      "[CV] END .max_depth=40, min_samples_leaf=31, n_estimators=50; total time=   0.3s\n",
      "[CV] END .max_depth=40, min_samples_leaf=31, n_estimators=50; total time=   0.3s\n",
      "[CV] END .max_depth=40, min_samples_leaf=31, n_estimators=50; total time=   0.3s\n",
      "[CV] END .max_depth=40, min_samples_leaf=31, n_estimators=50; total time=   0.3s\n",
      "[CV] END .max_depth=40, min_samples_leaf=31, n_estimators=50; total time=   0.3s\n",
      "[CV] END .max_depth=40, min_samples_leaf=31, n_estimators=50; total time=   0.3s\n",
      "[CV] END max_depth=40, min_samples_leaf=31, n_estimators=150; total time=   0.7s\n",
      "[CV] END max_depth=40, min_samples_leaf=31, n_estimators=150; total time=   0.6s\n",
      "[CV] END max_depth=40, min_samples_leaf=31, n_estimators=150; total time=   0.6s\n",
      "[CV] END max_depth=40, min_samples_leaf=31, n_estimators=150; total time=   0.6s\n",
      "[CV] END max_depth=40, min_samples_leaf=31, n_estimators=150; total time=   0.6s\n",
      "[CV] END max_depth=40, min_samples_leaf=31, n_estimators=150; total time=   0.6s\n",
      "[CV] END max_depth=40, min_samples_leaf=31, n_estimators=150; total time=   0.7s\n",
      "[CV] END max_depth=40, min_samples_leaf=31, n_estimators=150; total time=   0.7s\n",
      "[CV] END max_depth=40, min_samples_leaf=31, n_estimators=150; total time=   0.6s\n",
      "[CV] END max_depth=40, min_samples_leaf=31, n_estimators=150; total time=   0.6s\n",
      "[CV] END max_depth=40, min_samples_leaf=31, n_estimators=250; total time=   1.0s\n",
      "[CV] END max_depth=40, min_samples_leaf=31, n_estimators=250; total time=   0.8s\n",
      "[CV] END max_depth=40, min_samples_leaf=31, n_estimators=250; total time=   0.9s\n",
      "[CV] END max_depth=40, min_samples_leaf=31, n_estimators=250; total time=   0.8s\n",
      "[CV] END max_depth=40, min_samples_leaf=31, n_estimators=250; total time=   0.8s\n",
      "[CV] END max_depth=40, min_samples_leaf=31, n_estimators=250; total time=   0.9s\n",
      "[CV] END max_depth=40, min_samples_leaf=31, n_estimators=250; total time=   1.2s\n",
      "[CV] END max_depth=40, min_samples_leaf=31, n_estimators=250; total time=   0.9s\n",
      "[CV] END max_depth=40, min_samples_leaf=31, n_estimators=250; total time=   0.8s\n",
      "[CV] END max_depth=40, min_samples_leaf=31, n_estimators=250; total time=   0.9s\n",
      "[CV] END max_depth=40, min_samples_leaf=31, n_estimators=350; total time=   1.2s\n",
      "[CV] END max_depth=40, min_samples_leaf=31, n_estimators=350; total time=   1.2s\n",
      "[CV] END max_depth=40, min_samples_leaf=31, n_estimators=350; total time=   1.2s\n",
      "[CV] END max_depth=40, min_samples_leaf=31, n_estimators=350; total time=   1.2s\n",
      "[CV] END max_depth=40, min_samples_leaf=31, n_estimators=350; total time=   1.2s\n",
      "[CV] END max_depth=40, min_samples_leaf=31, n_estimators=350; total time=   1.2s\n",
      "[CV] END max_depth=40, min_samples_leaf=31, n_estimators=350; total time=   1.3s\n",
      "[CV] END max_depth=40, min_samples_leaf=31, n_estimators=350; total time=   1.3s\n",
      "[CV] END max_depth=40, min_samples_leaf=31, n_estimators=350; total time=   1.1s\n",
      "[CV] END max_depth=40, min_samples_leaf=31, n_estimators=350; total time=   1.1s\n",
      "[CV] END max_depth=40, min_samples_leaf=31, n_estimators=450; total time=   1.3s\n",
      "[CV] END max_depth=40, min_samples_leaf=31, n_estimators=450; total time=   1.5s\n",
      "[CV] END max_depth=40, min_samples_leaf=31, n_estimators=450; total time=   1.5s\n",
      "[CV] END max_depth=40, min_samples_leaf=31, n_estimators=450; total time=   1.5s\n",
      "[CV] END max_depth=40, min_samples_leaf=31, n_estimators=450; total time=   1.6s\n",
      "[CV] END max_depth=40, min_samples_leaf=31, n_estimators=450; total time=   1.4s\n",
      "[CV] END max_depth=40, min_samples_leaf=31, n_estimators=450; total time=   1.5s\n",
      "[CV] END max_depth=40, min_samples_leaf=31, n_estimators=450; total time=   1.4s\n",
      "[CV] END max_depth=40, min_samples_leaf=31, n_estimators=450; total time=   1.4s\n",
      "[CV] END max_depth=40, min_samples_leaf=31, n_estimators=450; total time=   1.4s\n",
      "[CV] END .max_depth=40, min_samples_leaf=41, n_estimators=50; total time=   0.4s\n",
      "[CV] END .max_depth=40, min_samples_leaf=41, n_estimators=50; total time=   0.3s\n",
      "[CV] END .max_depth=40, min_samples_leaf=41, n_estimators=50; total time=   0.3s\n",
      "[CV] END .max_depth=40, min_samples_leaf=41, n_estimators=50; total time=   0.3s\n",
      "[CV] END .max_depth=40, min_samples_leaf=41, n_estimators=50; total time=   0.3s\n",
      "[CV] END .max_depth=40, min_samples_leaf=41, n_estimators=50; total time=   0.3s\n",
      "[CV] END .max_depth=40, min_samples_leaf=41, n_estimators=50; total time=   0.3s\n",
      "[CV] END .max_depth=40, min_samples_leaf=41, n_estimators=50; total time=   0.3s\n",
      "[CV] END .max_depth=40, min_samples_leaf=41, n_estimators=50; total time=   0.3s\n",
      "[CV] END .max_depth=40, min_samples_leaf=41, n_estimators=50; total time=   0.3s\n",
      "[CV] END max_depth=40, min_samples_leaf=41, n_estimators=150; total time=   0.6s\n",
      "[CV] END max_depth=40, min_samples_leaf=41, n_estimators=150; total time=   0.5s\n",
      "[CV] END max_depth=40, min_samples_leaf=41, n_estimators=150; total time=   0.6s\n",
      "[CV] END max_depth=40, min_samples_leaf=41, n_estimators=150; total time=   0.6s\n",
      "[CV] END max_depth=40, min_samples_leaf=41, n_estimators=150; total time=   0.6s\n",
      "[CV] END max_depth=40, min_samples_leaf=41, n_estimators=150; total time=   0.6s\n",
      "[CV] END max_depth=40, min_samples_leaf=41, n_estimators=150; total time=   0.5s\n",
      "[CV] END max_depth=40, min_samples_leaf=41, n_estimators=150; total time=   0.6s\n",
      "[CV] END max_depth=40, min_samples_leaf=41, n_estimators=150; total time=   0.6s\n",
      "[CV] END max_depth=40, min_samples_leaf=41, n_estimators=150; total time=   0.6s\n",
      "[CV] END max_depth=40, min_samples_leaf=41, n_estimators=250; total time=   0.8s\n",
      "[CV] END max_depth=40, min_samples_leaf=41, n_estimators=250; total time=   0.8s\n",
      "[CV] END max_depth=40, min_samples_leaf=41, n_estimators=250; total time=   0.8s\n",
      "[CV] END max_depth=40, min_samples_leaf=41, n_estimators=250; total time=   0.8s\n",
      "[CV] END max_depth=40, min_samples_leaf=41, n_estimators=250; total time=   0.8s\n",
      "[CV] END max_depth=40, min_samples_leaf=41, n_estimators=250; total time=   0.7s\n",
      "[CV] END max_depth=40, min_samples_leaf=41, n_estimators=250; total time=   0.8s\n",
      "[CV] END max_depth=40, min_samples_leaf=41, n_estimators=250; total time=   0.8s\n",
      "[CV] END max_depth=40, min_samples_leaf=41, n_estimators=250; total time=   0.8s\n",
      "[CV] END max_depth=40, min_samples_leaf=41, n_estimators=250; total time=   0.8s\n",
      "[CV] END max_depth=40, min_samples_leaf=41, n_estimators=350; total time=   1.1s\n",
      "[CV] END max_depth=40, min_samples_leaf=41, n_estimators=350; total time=   1.1s\n",
      "[CV] END max_depth=40, min_samples_leaf=41, n_estimators=350; total time=   1.1s\n",
      "[CV] END max_depth=40, min_samples_leaf=41, n_estimators=350; total time=   1.2s\n",
      "[CV] END max_depth=40, min_samples_leaf=41, n_estimators=350; total time=   1.1s\n",
      "[CV] END max_depth=40, min_samples_leaf=41, n_estimators=350; total time=   1.2s\n",
      "[CV] END max_depth=40, min_samples_leaf=41, n_estimators=350; total time=   1.2s\n",
      "[CV] END max_depth=40, min_samples_leaf=41, n_estimators=350; total time=   1.1s\n",
      "[CV] END max_depth=40, min_samples_leaf=41, n_estimators=350; total time=   1.1s\n",
      "[CV] END max_depth=40, min_samples_leaf=41, n_estimators=350; total time=   1.1s\n",
      "[CV] END max_depth=40, min_samples_leaf=41, n_estimators=450; total time=   1.4s\n",
      "[CV] END max_depth=40, min_samples_leaf=41, n_estimators=450; total time=   1.4s\n",
      "[CV] END max_depth=40, min_samples_leaf=41, n_estimators=450; total time=   1.4s\n",
      "[CV] END max_depth=40, min_samples_leaf=41, n_estimators=450; total time=   1.5s\n",
      "[CV] END max_depth=40, min_samples_leaf=41, n_estimators=450; total time=   1.4s\n",
      "[CV] END max_depth=40, min_samples_leaf=41, n_estimators=450; total time=   1.4s\n",
      "[CV] END max_depth=40, min_samples_leaf=41, n_estimators=450; total time=   1.4s\n",
      "[CV] END max_depth=40, min_samples_leaf=41, n_estimators=450; total time=   1.5s\n",
      "[CV] END max_depth=40, min_samples_leaf=41, n_estimators=450; total time=   1.5s\n",
      "[CV] END max_depth=40, min_samples_leaf=41, n_estimators=450; total time=   1.5s\n",
      "[CV] END .max_depth=40, min_samples_leaf=51, n_estimators=50; total time=   0.3s\n",
      "[CV] END .max_depth=40, min_samples_leaf=51, n_estimators=50; total time=   0.3s\n",
      "[CV] END .max_depth=40, min_samples_leaf=51, n_estimators=50; total time=   0.3s\n",
      "[CV] END .max_depth=40, min_samples_leaf=51, n_estimators=50; total time=   0.3s\n",
      "[CV] END .max_depth=40, min_samples_leaf=51, n_estimators=50; total time=   0.3s\n",
      "[CV] END .max_depth=40, min_samples_leaf=51, n_estimators=50; total time=   0.2s\n",
      "[CV] END .max_depth=40, min_samples_leaf=51, n_estimators=50; total time=   0.2s\n",
      "[CV] END .max_depth=40, min_samples_leaf=51, n_estimators=50; total time=   0.2s\n",
      "[CV] END .max_depth=40, min_samples_leaf=51, n_estimators=50; total time=   0.3s\n",
      "[CV] END .max_depth=40, min_samples_leaf=51, n_estimators=50; total time=   0.2s\n",
      "[CV] END max_depth=40, min_samples_leaf=51, n_estimators=150; total time=   0.5s\n",
      "[CV] END max_depth=40, min_samples_leaf=51, n_estimators=150; total time=   0.6s\n",
      "[CV] END max_depth=40, min_samples_leaf=51, n_estimators=150; total time=   0.5s\n",
      "[CV] END max_depth=40, min_samples_leaf=51, n_estimators=150; total time=   0.5s\n",
      "[CV] END max_depth=40, min_samples_leaf=51, n_estimators=150; total time=   0.5s\n",
      "[CV] END max_depth=40, min_samples_leaf=51, n_estimators=150; total time=   0.5s\n",
      "[CV] END max_depth=40, min_samples_leaf=51, n_estimators=150; total time=   0.5s\n",
      "[CV] END max_depth=40, min_samples_leaf=51, n_estimators=150; total time=   0.5s\n",
      "[CV] END max_depth=40, min_samples_leaf=51, n_estimators=150; total time=   0.6s\n",
      "[CV] END max_depth=40, min_samples_leaf=51, n_estimators=150; total time=   0.6s\n",
      "[CV] END max_depth=40, min_samples_leaf=51, n_estimators=250; total time=   0.8s\n",
      "[CV] END max_depth=40, min_samples_leaf=51, n_estimators=250; total time=   0.8s\n",
      "[CV] END max_depth=40, min_samples_leaf=51, n_estimators=250; total time=   0.8s\n",
      "[CV] END max_depth=40, min_samples_leaf=51, n_estimators=250; total time=   0.7s\n",
      "[CV] END max_depth=40, min_samples_leaf=51, n_estimators=250; total time=   0.8s\n",
      "[CV] END max_depth=40, min_samples_leaf=51, n_estimators=250; total time=   0.8s\n",
      "[CV] END max_depth=40, min_samples_leaf=51, n_estimators=250; total time=   0.7s\n",
      "[CV] END max_depth=40, min_samples_leaf=51, n_estimators=250; total time=   0.8s\n",
      "[CV] END max_depth=40, min_samples_leaf=51, n_estimators=250; total time=   0.7s\n",
      "[CV] END max_depth=40, min_samples_leaf=51, n_estimators=250; total time=   0.7s\n",
      "[CV] END max_depth=40, min_samples_leaf=51, n_estimators=350; total time=   1.0s\n",
      "[CV] END max_depth=40, min_samples_leaf=51, n_estimators=350; total time=   1.2s\n",
      "[CV] END max_depth=40, min_samples_leaf=51, n_estimators=350; total time=   1.3s\n",
      "[CV] END max_depth=40, min_samples_leaf=51, n_estimators=350; total time=   1.1s\n",
      "[CV] END max_depth=40, min_samples_leaf=51, n_estimators=350; total time=   1.1s\n",
      "[CV] END max_depth=40, min_samples_leaf=51, n_estimators=350; total time=   1.2s\n",
      "[CV] END max_depth=40, min_samples_leaf=51, n_estimators=350; total time=   1.0s\n",
      "[CV] END max_depth=40, min_samples_leaf=51, n_estimators=350; total time=   1.2s\n",
      "[CV] END max_depth=40, min_samples_leaf=51, n_estimators=350; total time=   1.1s\n",
      "[CV] END max_depth=40, min_samples_leaf=51, n_estimators=350; total time=   1.2s\n",
      "[CV] END max_depth=40, min_samples_leaf=51, n_estimators=450; total time=   1.3s\n",
      "[CV] END max_depth=40, min_samples_leaf=51, n_estimators=450; total time=   1.6s\n",
      "[CV] END max_depth=40, min_samples_leaf=51, n_estimators=450; total time=   1.7s\n",
      "[CV] END max_depth=40, min_samples_leaf=51, n_estimators=450; total time=   1.4s\n",
      "[CV] END max_depth=40, min_samples_leaf=51, n_estimators=450; total time=   1.5s\n",
      "[CV] END max_depth=40, min_samples_leaf=51, n_estimators=450; total time=   1.4s\n",
      "[CV] END max_depth=40, min_samples_leaf=51, n_estimators=450; total time=   1.3s\n",
      "[CV] END max_depth=40, min_samples_leaf=51, n_estimators=450; total time=   1.4s\n",
      "[CV] END max_depth=40, min_samples_leaf=51, n_estimators=450; total time=   1.3s\n",
      "[CV] END max_depth=40, min_samples_leaf=51, n_estimators=450; total time=   1.4s\n"
     ]
    },
    {
     "data": {
      "text/html": [
       "<style>#sk-container-id-2 {color: black;background-color: white;}#sk-container-id-2 pre{padding: 0;}#sk-container-id-2 div.sk-toggleable {background-color: white;}#sk-container-id-2 label.sk-toggleable__label {cursor: pointer;display: block;width: 100%;margin-bottom: 0;padding: 0.3em;box-sizing: border-box;text-align: center;}#sk-container-id-2 label.sk-toggleable__label-arrow:before {content: \"▸\";float: left;margin-right: 0.25em;color: #696969;}#sk-container-id-2 label.sk-toggleable__label-arrow:hover:before {color: black;}#sk-container-id-2 div.sk-estimator:hover label.sk-toggleable__label-arrow:before {color: black;}#sk-container-id-2 div.sk-toggleable__content {max-height: 0;max-width: 0;overflow: hidden;text-align: left;background-color: #f0f8ff;}#sk-container-id-2 div.sk-toggleable__content pre {margin: 0.2em;color: black;border-radius: 0.25em;background-color: #f0f8ff;}#sk-container-id-2 input.sk-toggleable__control:checked~div.sk-toggleable__content {max-height: 200px;max-width: 100%;overflow: auto;}#sk-container-id-2 input.sk-toggleable__control:checked~label.sk-toggleable__label-arrow:before {content: \"▾\";}#sk-container-id-2 div.sk-estimator input.sk-toggleable__control:checked~label.sk-toggleable__label {background-color: #d4ebff;}#sk-container-id-2 div.sk-label input.sk-toggleable__control:checked~label.sk-toggleable__label {background-color: #d4ebff;}#sk-container-id-2 input.sk-hidden--visually {border: 0;clip: rect(1px 1px 1px 1px);clip: rect(1px, 1px, 1px, 1px);height: 1px;margin: -1px;overflow: hidden;padding: 0;position: absolute;width: 1px;}#sk-container-id-2 div.sk-estimator {font-family: monospace;background-color: #f0f8ff;border: 1px dotted black;border-radius: 0.25em;box-sizing: border-box;margin-bottom: 0.5em;}#sk-container-id-2 div.sk-estimator:hover {background-color: #d4ebff;}#sk-container-id-2 div.sk-parallel-item::after {content: \"\";width: 100%;border-bottom: 1px solid gray;flex-grow: 1;}#sk-container-id-2 div.sk-label:hover label.sk-toggleable__label {background-color: #d4ebff;}#sk-container-id-2 div.sk-serial::before {content: \"\";position: absolute;border-left: 1px solid gray;box-sizing: border-box;top: 0;bottom: 0;left: 50%;z-index: 0;}#sk-container-id-2 div.sk-serial {display: flex;flex-direction: column;align-items: center;background-color: white;padding-right: 0.2em;padding-left: 0.2em;position: relative;}#sk-container-id-2 div.sk-item {position: relative;z-index: 1;}#sk-container-id-2 div.sk-parallel {display: flex;align-items: stretch;justify-content: center;background-color: white;position: relative;}#sk-container-id-2 div.sk-item::before, #sk-container-id-2 div.sk-parallel-item::before {content: \"\";position: absolute;border-left: 1px solid gray;box-sizing: border-box;top: 0;bottom: 0;left: 50%;z-index: -1;}#sk-container-id-2 div.sk-parallel-item {display: flex;flex-direction: column;z-index: 1;position: relative;background-color: white;}#sk-container-id-2 div.sk-parallel-item:first-child::after {align-self: flex-end;width: 50%;}#sk-container-id-2 div.sk-parallel-item:last-child::after {align-self: flex-start;width: 50%;}#sk-container-id-2 div.sk-parallel-item:only-child::after {width: 0;}#sk-container-id-2 div.sk-dashed-wrapped {border: 1px dashed gray;margin: 0 0.4em 0.5em 0.4em;box-sizing: border-box;padding-bottom: 0.4em;background-color: white;}#sk-container-id-2 div.sk-label label {font-family: monospace;font-weight: bold;display: inline-block;line-height: 1.2em;}#sk-container-id-2 div.sk-label-container {text-align: center;}#sk-container-id-2 div.sk-container {/* jupyter's `normalize.less` sets `[hidden] { display: none; }` but bootstrap.min.css set `[hidden] { display: none !important; }` so we also need the `!important` here to be able to override the default hidden behavior on the sphinx rendered scikit-learn.org. See: https://github.com/scikit-learn/scikit-learn/issues/21755 */display: inline-block !important;position: relative;}#sk-container-id-2 div.sk-text-repr-fallback {display: none;}</style><div id=\"sk-container-id-2\" class=\"sk-top-container\"><div class=\"sk-text-repr-fallback\"><pre>GridSearchCV(cv=10, estimator=RandomForestClassifier(n_jobs=-1), n_jobs=1,\n",
       "             param_grid={&#x27;max_depth&#x27;: range(10, 50, 10),\n",
       "                         &#x27;min_samples_leaf&#x27;: range(1, 60, 10),\n",
       "                         &#x27;n_estimators&#x27;: range(50, 500, 100)},\n",
       "             scoring=&#x27;f1_micro&#x27;, verbose=2)</pre><b>In a Jupyter environment, please rerun this cell to show the HTML representation or trust the notebook. <br />On GitHub, the HTML representation is unable to render, please try loading this page with nbviewer.org.</b></div><div class=\"sk-container\" hidden><div class=\"sk-item sk-dashed-wrapped\"><div class=\"sk-label-container\"><div class=\"sk-label sk-toggleable\"><input class=\"sk-toggleable__control sk-hidden--visually\" id=\"sk-estimator-id-4\" type=\"checkbox\" ><label for=\"sk-estimator-id-4\" class=\"sk-toggleable__label sk-toggleable__label-arrow\">GridSearchCV</label><div class=\"sk-toggleable__content\"><pre>GridSearchCV(cv=10, estimator=RandomForestClassifier(n_jobs=-1), n_jobs=1,\n",
       "             param_grid={&#x27;max_depth&#x27;: range(10, 50, 10),\n",
       "                         &#x27;min_samples_leaf&#x27;: range(1, 60, 10),\n",
       "                         &#x27;n_estimators&#x27;: range(50, 500, 100)},\n",
       "             scoring=&#x27;f1_micro&#x27;, verbose=2)</pre></div></div></div><div class=\"sk-parallel\"><div class=\"sk-parallel-item\"><div class=\"sk-item\"><div class=\"sk-label-container\"><div class=\"sk-label sk-toggleable\"><input class=\"sk-toggleable__control sk-hidden--visually\" id=\"sk-estimator-id-5\" type=\"checkbox\" ><label for=\"sk-estimator-id-5\" class=\"sk-toggleable__label sk-toggleable__label-arrow\">estimator: RandomForestClassifier</label><div class=\"sk-toggleable__content\"><pre>RandomForestClassifier(n_jobs=-1)</pre></div></div></div><div class=\"sk-serial\"><div class=\"sk-item\"><div class=\"sk-estimator sk-toggleable\"><input class=\"sk-toggleable__control sk-hidden--visually\" id=\"sk-estimator-id-6\" type=\"checkbox\" ><label for=\"sk-estimator-id-6\" class=\"sk-toggleable__label sk-toggleable__label-arrow\">RandomForestClassifier</label><div class=\"sk-toggleable__content\"><pre>RandomForestClassifier(n_jobs=-1)</pre></div></div></div></div></div></div></div></div></div></div>"
      ],
      "text/plain": [
       "GridSearchCV(cv=10, estimator=RandomForestClassifier(n_jobs=-1), n_jobs=1,\n",
       "             param_grid={'max_depth': range(10, 50, 10),\n",
       "                         'min_samples_leaf': range(1, 60, 10),\n",
       "                         'n_estimators': range(50, 500, 100)},\n",
       "             scoring='f1_micro', verbose=2)"
      ]
     },
     "execution_count": 42,
     "metadata": {},
     "output_type": "execute_result"
    }
   ],
   "source": [
    "param_grid = {\n",
    "    \"n_estimators\": range(50, 500, 100),\n",
    "    \"max_depth\": range(10, 50, 10),\n",
    "    \"min_samples_leaf\": range(1, 60, 10)\n",
    "}\n",
    "\n",
    "rf = RandomForestClassifier(\n",
    "    n_jobs=-1\n",
    ")\n",
    "\n",
    "grid_search_rf = GridSearchCV(\n",
    "    estimator=rf,\n",
    "    param_grid=param_grid,\n",
    "    scoring=\"f1_micro\",\n",
    "    n_jobs =1,\n",
    "    cv=10,\n",
    "    verbose=2\n",
    ")\n",
    "\n",
    "grid_search_rf.fit(X_train, y_train)"
   ]
  },
  {
   "cell_type": "code",
   "execution_count": 45,
   "id": "51b9e4c6-c76d-465e-8115-618505a54687",
   "metadata": {},
   "outputs": [
    {
     "name": "stdout",
     "output_type": "stream",
     "text": [
      "precision: 1.0\n",
      "f1: 0.49\n",
      "AUC: 0.662\n"
     ]
    }
   ],
   "source": [
    "estimator_best = grid_search_rf.best_estimator_\n",
    "preds_rf = grid_search_rf.predict(X_test)\n",
    "preds_proba_rf = grid_search_rf.predict_proba(X_test)\n",
    "\n",
    "precision_rf = precision_score(y_test, preds_rf)\n",
    "f1_rf = f1_score(y_test, preds_rf)\n",
    "roc_auc_rf = roc_auc_score(y_test, preds_rf)\n",
    "\n",
    "print(\"precision: {}\".format(round(precision_rf, 3)))\n",
    "print(\"f1: {}\".format(round(f1_rf, 3)))\n",
    "print(\"AUC: {}\".format(round(roc_auc_rf, 3)))"
   ]
  },
  {
   "cell_type": "code",
   "execution_count": 46,
   "id": "84d36383-356c-4c8b-b611-04e34c6b9ae4",
   "metadata": {},
   "outputs": [
    {
     "name": "stderr",
     "output_type": "stream",
     "text": [
      "\u001b[1;33mFutureWarning: Function plot_confusion_matrix is deprecated; Function `plot_confusion_matrix` is deprecated in 1.0 and will be removed in 1.2. Use one of the class methods: ConfusionMatrixDisplay.from_predictions or ConfusionMatrixDisplay.from_estimator.\u001b[0m \u001b[1;30m(raised from /home/slazien/.local/share/virtualenvs/linkedin_misinformation-xOmYosQV/lib/python3.8/site-packages/sklearn/utils/deprecation.py:87)\u001b[0m\n"
     ]
    },
    {
     "data": {
      "text/plain": [
       "<sklearn.metrics._plot.confusion_matrix.ConfusionMatrixDisplay at 0x7fd958eae760>"
      ]
     },
     "execution_count": 46,
     "metadata": {},
     "output_type": "execute_result"
    },
    {
     "data": {
      "image/png": "[encoded data removed]",
      "text/plain": [
       "<Figure size 640x480 with 2 Axes>"
      ]
     },
     "metadata": {},
     "output_type": "display_data"
    }
   ],
   "source": [
    "plot_confusion_matrix(grid_search_rf, X_test, y_test)"
   ]
  },
  {
   "cell_type": "markdown",
   "id": "7be809c1-0a39-4ce1-baa8-c6c8f5c536c1",
   "metadata": {},
   "source": [
    "# Label all posts scraped so far"
   ]
  },
  {
   "cell_type": "code",
   "execution_count": 24,
   "id": "38adc74f-3d68-43ba-a65c-f83d0c6359ae",
   "metadata": {},
   "outputs": [
    {
     "data": {
      "text/plain": [
       "(7366, 16)"
      ]
     },
     "execution_count": 24,
     "metadata": {},
     "output_type": "execute_result"
    }
   ],
   "source": [
    "posts_unlabeled = pd.read_json(\"data_new_new/data_unlabeled.json\")\n",
    "# Exclude posts with no text\n",
    "posts_unlabeled = posts_unlabeled[posts_unlabeled[\"Text\"].apply(lambda x: len(x) > 0)]\n",
    "posts_unlabeled.shape"
   ]
  },
  {
   "cell_type": "code",
   "execution_count": 25,
   "id": "53bbe1bc-f250-41f2-9902-cce7a4109728",
   "metadata": {},
   "outputs": [],
   "source": [
    "# Exclude rows with empty text after cleaning\n",
    "texts_cleaned_unlabeled = preprocess_parallel(list(posts_unlabeled[\"Text\"]), chunksize=100)\n",
    "idx_empty_cleaned = [i for i in range(len(texts_cleaned_unlabeled)) if len(texts_cleaned_unlabeled[i]) == 0]\n",
    "texts_cleaned_unlabeled = [text for text in texts_cleaned_unlabeled if len(text) > 0]\n",
    "\n",
    "posts_unlabeled = posts_unlabeled.reset_index()\n",
    "posts_unlabeled = posts_unlabeled.drop(idx_empty_cleaned)"
   ]
  },
  {
   "cell_type": "code",
   "execution_count": 26,
   "id": "68f2a4cb-45d9-4a75-92a8-003d5e5e12b0",
   "metadata": {},
   "outputs": [
    {
     "name": "stderr",
     "output_type": "stream",
     "text": [
      "\u001b[1;33mUserWarning: Please ensure all the inputs are valid, otherwise the request will be aborted.\u001b[0m \u001b[1;30m(raised from /home/slazien/.local/share/virtualenvs/linkedin_misinformation-xOmYosQV/lib/python3.8/site-packages/clip_client/client.py:145)\u001b[0m\n"
     ]
    }
   ],
   "source": [
    "embeddings_unlabeled = c.encode([\" \".join(text) for text in texts_cleaned_unlabeled])"
   ]
  },
  {
   "cell_type": "code",
   "execution_count": 27,
   "id": "0f5c5d15-3c24-4397-93b8-f7ab20dcdccd",
   "metadata": {},
   "outputs": [],
   "source": [
    "# Predict labels\n",
    "labels_for_unlabeled = lgb_from_pickle.predict(embeddings_unlabeled)\n",
    "posts_unlabeled[\"label_predicted\"] = labels_for_unlabeled"
   ]
  },
  {
   "cell_type": "code",
   "execution_count": 28,
   "id": "979f76a9-bccd-40a1-8906-199a2dde2b3d",
   "metadata": {},
   "outputs": [
    {
     "data": {
      "text/plain": [
       "Counter({2: 2350, 1: 4466, 0: 538})"
      ]
     },
     "execution_count": 28,
     "metadata": {},
     "output_type": "execute_result"
    }
   ],
   "source": [
    "Counter(labels_for_unlabeled)"
   ]
  },
  {
   "cell_type": "code",
   "execution_count": 29,
   "id": "22994306-f137-4abc-98df-c557c86ec646",
   "metadata": {},
   "outputs": [],
   "source": [
    "posts_unlabeled.to_json(\"data_labeled_lf_3class.json\")"
   ]
  },
  {
   "cell_type": "code",
   "execution_count": 31,
   "id": "df3cbea9",
   "metadata": {},
   "outputs": [
    {
     "data": {
      "text/plain": [
       "Index(['index', 'Name', 'Biography', 'Date', 'Text', 'Comments Text', 'Likes',\n",
       "       'Comments', 'Reposts', 'Media Type', 'Media Link', 'Article Title',\n",
       "       'Article Link', 'Article Description', 'Query', 'Query Date',\n",
       "       'Language', 'label_predicted'],\n",
       "      dtype='object')"
      ]
     },
     "execution_count": 31,
     "metadata": {},
     "output_type": "execute_result"
    }
   ],
   "source": [
    "posts_unlabeled.columns"
   ]
  },
  {
   "cell_type": "markdown",
   "id": "7280f58a",
   "metadata": {},
   "source": [
    "# Train models for counter vs non-misinfo"
   ]
  },
  {
   "cell_type": "code",
   "execution_count": 94,
   "id": "75f29314",
   "metadata": {},
   "outputs": [
    {
     "name": "stdout",
     "output_type": "stream",
     "text": [
      "huggingface/tokenizers: The current process just got forked, after parallelism has already been used. Disabling parallelism to avoid deadlocks...\n",
      "To disable this warning, you can either:\n",
      "\t- Avoid using `tokenizers` before the fork if possible\n",
      "\t- Explicitly set the environment variable TOKENIZERS_PARALLELISM=(true | false)\n",
      "huggingface/tokenizers: The current process just got forked, after parallelism has already been used. Disabling parallelism to avoid deadlocks...\n",
      "To disable this warning, you can either:\n",
      "\t- Avoid using `tokenizers` before the fork if possible\n",
      "\t- Explicitly set the environment variable TOKENIZERS_PARALLELISM=(true | false)\n",
      "huggingface/tokenizers: The current process just got forked, after parallelism has already been used. Disabling parallelism to avoid deadlocks...\n",
      "To disable this warning, you can either:\n",
      "\t- Avoid using `tokenizers` before the fork if possible\n",
      "\t- Explicitly set the environment variable TOKENIZERS_PARALLELISM=(true | false)\n",
      "huggingface/tokenizers: The current process just got forked, after parallelism has already been used. Disabling parallelism to avoid deadlocks...\n",
      "To disable this warning, you can either:\n",
      "\t- Avoid using `tokenizers` before the fork if possible\n",
      "\t- Explicitly set the environment variable TOKENIZERS_PARALLELISM=(true | false)\n",
      "huggingface/tokenizers: The current process just got forked, after parallelism has already been used. Disabling parallelism to avoid deadlocks...\n",
      "To disable this warning, you can either:\n",
      "\t- Avoid using `tokenizers` before the fork if possible\n",
      "\t- Explicitly set the environment variable TOKENIZERS_PARALLELISM=(true | false)\n",
      "huggingface/tokenizers: The current process just got forked, after parallelism has already been used. Disabling parallelism to avoid deadlocks...\n",
      "To disable this warning, you can either:\n",
      "\t- Avoid using `tokenizers` before the fork if possible\n",
      "\t- Explicitly set the environment variable TOKENIZERS_PARALLELISM=(true | false)\n",
      "huggingface/tokenizers: The current process just got forked, after parallelism has already been used. Disabling parallelism to avoid deadlocks...\n",
      "To disable this warning, you can either:\n",
      "\t- Avoid using `tokenizers` before the fork if possible\n",
      "\t- Explicitly set the environment variable TOKENIZERS_PARALLELISM=(true | false)\n"
     ]
    },
    {
     "name": "stderr",
     "output_type": "stream",
     "text": [
      "\u001b[1;33mFutureWarning: The behavior of `series[i:j]` with an integer-dtype index is deprecated. In a future version, this will be treated as *label-based* indexing, consistent with e.g. `series[i]` lookups. To retain the old behavior, use `series.iloc[i:j]`. To get the future behavior, use `series.loc[i:j]`.\u001b[0m \u001b[1;30m(raised from /tmp/ipykernel_8847/1704983545.py:3)\u001b[0m\n"
     ]
    }
   ],
   "source": [
    "# Prepare data\n",
    "posts_counter_non = posts_labeled[posts_labeled[\"Final Label\"].isin([\"c\", \"n\"])]\n",
    "text_clean_counter_non = preprocess_parallel(posts_counter_non[\"Text\"], chunksize=100)\n",
    "label_mapping_counter_non = {\"c\": 0, \"n\": 1}\n",
    "labels_counter_non = [label_mapping_counter_non[label] for label in posts_counter_non[\"Final Label\"]]"
   ]
  },
  {
   "cell_type": "code",
   "execution_count": 96,
   "id": "650a9d7a",
   "metadata": {},
   "outputs": [
    {
     "name": "stderr",
     "output_type": "stream",
     "text": [
      "\u001b[1;33mUserWarning: Please ensure all the inputs are valid, otherwise the request will be aborted.\u001b[0m \u001b[1;30m(raised from /home/slazien/.local/share/virtualenvs/linkedin_misinformation-xOmYosQV/lib/python3.8/site-packages/clip_client/client.py:145)\u001b[0m\n"
     ]
    }
   ],
   "source": [
    "embeddings_clip_counter_non = c.encode([\" \".join(text) for text in text_clean_counter_non])\n",
    "\n",
    "X_train_counter_non, X_test_counter_non, y_train_counter_non, y_test_counter_non = train_test_split(embeddings_clip_counter_non, labels_counter_non, test_size=0.2, random_state=SEED)"
   ]
  },
  {
   "cell_type": "code",
   "execution_count": 100,
   "id": "17d43ebb",
   "metadata": {},
   "outputs": [
    {
     "name": "stdout",
     "output_type": "stream",
     "text": [
      "Fitting 5 folds for each of 48 candidates, totalling 240 fits\n"
     ]
    },
    {
     "name": "stderr",
     "output_type": "stream",
     "text": [
      "/home/slazien/.local/share/virtualenvs/linkedin_misinformation-xOmYosQV/lib/python3.8/site-packages/lightgbm/engine.py:177: UserWarning: Found `num_iterations` in params. Will use it instead of argument\n",
      "  _log_warning(f\"Found `{alias}` in params. Will use it instead of argument\")\n",
      "/home/slazien/.local/share/virtualenvs/linkedin_misinformation-xOmYosQV/lib/python3.8/site-packages/lightgbm/engine.py:177: UserWarning: Found `num_iterations` in params. Will use it instead of argument\n",
      "  _log_warning(f\"Found `{alias}` in params. Will use it instead of argument\")\n",
      "/home/slazien/.local/share/virtualenvs/linkedin_misinformation-xOmYosQV/lib/python3.8/site-packages/lightgbm/engine.py:177: UserWarning: Found `num_iterations` in params. Will use it instead of argument\n",
      "  _log_warning(f\"Found `{alias}` in params. Will use it instead of argument\")\n",
      "/home/slazien/.local/share/virtualenvs/linkedin_misinformation-xOmYosQV/lib/python3.8/site-packages/lightgbm/engine.py:177: UserWarning: Found `num_iterations` in params. Will use it instead of argument\n",
      "  _log_warning(f\"Found `{alias}` in params. Will use it instead of argument\")\n",
      "/home/slazien/.local/share/virtualenvs/linkedin_misinformation-xOmYosQV/lib/python3.8/site-packages/lightgbm/engine.py:177: UserWarning: Found `num_iterations` in params. Will use it instead of argument\n",
      "  _log_warning(f\"Found `{alias}` in params. Will use it instead of argument\")\n",
      "/home/slazien/.local/share/virtualenvs/linkedin_misinformation-xOmYosQV/lib/python3.8/site-packages/lightgbm/engine.py:177: UserWarning: Found `num_iterations` in params. Will use it instead of argument\n",
      "  _log_warning(f\"Found `{alias}` in params. Will use it instead of argument\")\n",
      "/home/slazien/.local/share/virtualenvs/linkedin_misinformation-xOmYosQV/lib/python3.8/site-packages/lightgbm/engine.py:177: UserWarning: Found `num_iterations` in params. Will use it instead of argument\n",
      "  _log_warning(f\"Found `{alias}` in params. Will use it instead of argument\")\n",
      "/home/slazien/.local/share/virtualenvs/linkedin_misinformation-xOmYosQV/lib/python3.8/site-packages/lightgbm/engine.py:177: UserWarning: Found `num_iterations` in params. Will use it instead of argument\n",
      "  _log_warning(f\"Found `{alias}` in params. Will use it instead of argument\")\n"
     ]
    },
    {
     "name": "stdout",
     "output_type": "stream",
     "text": [
      "[CV] END learning_rate=0.01, max_depth=-1, min_data_in_leaf=10, num_iterations=100, num_leaves=10; total time=   5.9s\n",
      "[CV] END learning_rate=0.01, max_depth=-1, min_data_in_leaf=10, num_iterations=100, num_leaves=10; total time=   5.9s\n",
      "[LightGBM] [Warning] min_data_in_leaf is set=10, min_child_samples=20 will be ignored. Current value: min_data_in_leaf=10[LightGBM] [Warning] min_data_in_leaf is set=10, min_child_samples=20 will be ignored. Current value: min_data_in_leaf=10\n",
      "\n"
     ]
    },
    {
     "name": "stderr",
     "output_type": "stream",
     "text": [
      "/home/slazien/.local/share/virtualenvs/linkedin_misinformation-xOmYosQV/lib/python3.8/site-packages/lightgbm/engine.py:177: UserWarning: Found `num_iterations` in params. Will use it instead of argument\n",
      "  _log_warning(f\"Found `{alias}` in params. Will use it instead of argument\")\n",
      "/home/slazien/.local/share/virtualenvs/linkedin_misinformation-xOmYosQV/lib/python3.8/site-packages/lightgbm/engine.py:177: UserWarning: Found `num_iterations` in params. Will use it instead of argument\n",
      "  _log_warning(f\"Found `{alias}` in params. Will use it instead of argument\")\n"
     ]
    },
    {
     "name": "stdout",
     "output_type": "stream",
     "text": [
      "[CV] END learning_rate=0.01, max_depth=-1, min_data_in_leaf=10, num_iterations=100, num_leaves=10; total time=   6.3s\n",
      "[LightGBM] [Warning] min_data_in_leaf is set=10, min_child_samples=20 will be ignored. Current value: min_data_in_leaf=10\n",
      "[CV] END learning_rate=0.01, max_depth=-1, min_data_in_leaf=10, num_iterations=100, num_leaves=10; total time=   6.4s\n",
      "[LightGBM] [Warning] min_data_in_leaf is set=10, min_child_samples=20 will be ignored. Current value: min_data_in_leaf=10\n",
      "[CV] END learning_rate=0.01, max_depth=-1, min_data_in_leaf=10, num_iterations=100, num_leaves=10; total time=   6.4s\n",
      "[LightGBM] [Warning] min_data_in_leaf is set=10, min_child_samples=20 will be ignored. Current value: min_data_in_leaf=10\n"
     ]
    },
    {
     "name": "stderr",
     "output_type": "stream",
     "text": [
      "/home/slazien/.local/share/virtualenvs/linkedin_misinformation-xOmYosQV/lib/python3.8/site-packages/lightgbm/engine.py:177: UserWarning: Found `num_iterations` in params. Will use it instead of argument\n",
      "  _log_warning(f\"Found `{alias}` in params. Will use it instead of argument\")\n",
      "/home/slazien/.local/share/virtualenvs/linkedin_misinformation-xOmYosQV/lib/python3.8/site-packages/lightgbm/engine.py:177: UserWarning: Found `num_iterations` in params. Will use it instead of argument\n",
      "  _log_warning(f\"Found `{alias}` in params. Will use it instead of argument\")\n",
      "/home/slazien/.local/share/virtualenvs/linkedin_misinformation-xOmYosQV/lib/python3.8/site-packages/lightgbm/engine.py:177: UserWarning: Found `num_iterations` in params. Will use it instead of argument\n",
      "  _log_warning(f\"Found `{alias}` in params. Will use it instead of argument\")\n"
     ]
    },
    {
     "name": "stdout",
     "output_type": "stream",
     "text": [
      "[CV] END learning_rate=0.01, max_depth=-1, min_data_in_leaf=10, num_iterations=100, num_leaves=50; total time=  13.5s\n",
      "[LightGBM] [Warning] min_data_in_leaf is set=10, min_child_samples=20 will be ignored. Current value: min_data_in_leaf=10\n"
     ]
    },
    {
     "name": "stderr",
     "output_type": "stream",
     "text": [
      "/home/slazien/.local/share/virtualenvs/linkedin_misinformation-xOmYosQV/lib/python3.8/site-packages/lightgbm/engine.py:177: UserWarning: Found `num_iterations` in params. Will use it instead of argument\n",
      "  _log_warning(f\"Found `{alias}` in params. Will use it instead of argument\")\n"
     ]
    },
    {
     "name": "stdout",
     "output_type": "stream",
     "text": [
      "[CV] END learning_rate=0.01, max_depth=-1, min_data_in_leaf=10, num_iterations=100, num_leaves=50; total time=  14.1s\n",
      "[LightGBM] [Warning] min_data_in_leaf is set=10, min_child_samples=20 will be ignored. Current value: min_data_in_leaf=10\n"
     ]
    },
    {
     "name": "stderr",
     "output_type": "stream",
     "text": [
      "/home/slazien/.local/share/virtualenvs/linkedin_misinformation-xOmYosQV/lib/python3.8/site-packages/lightgbm/engine.py:177: UserWarning: Found `num_iterations` in params. Will use it instead of argument\n",
      "  _log_warning(f\"Found `{alias}` in params. Will use it instead of argument\")\n"
     ]
    },
    {
     "name": "stdout",
     "output_type": "stream",
     "text": [
      "[CV] END learning_rate=0.01, max_depth=-1, min_data_in_leaf=10, num_iterations=100, num_leaves=50; total time=  14.5s\n",
      "[LightGBM] [Warning] min_data_in_leaf is set=10, min_child_samples=20 will be ignored. Current value: min_data_in_leaf=10\n"
     ]
    },
    {
     "name": "stderr",
     "output_type": "stream",
     "text": [
      "/home/slazien/.local/share/virtualenvs/linkedin_misinformation-xOmYosQV/lib/python3.8/site-packages/lightgbm/engine.py:177: UserWarning: Found `num_iterations` in params. Will use it instead of argument\n",
      "  _log_warning(f\"Found `{alias}` in params. Will use it instead of argument\")\n"
     ]
    },
    {
     "name": "stdout",
     "output_type": "stream",
     "text": [
      "[CV] END learning_rate=0.01, max_depth=-1, min_data_in_leaf=10, num_iterations=100, num_leaves=50; total time=  13.5s\n",
      "[LightGBM] [Warning] min_data_in_leaf is set=10, min_child_samples=20 will be ignored. Current value: min_data_in_leaf=10\n"
     ]
    },
    {
     "name": "stderr",
     "output_type": "stream",
     "text": [
      "/home/slazien/.local/share/virtualenvs/linkedin_misinformation-xOmYosQV/lib/python3.8/site-packages/lightgbm/engine.py:177: UserWarning: Found `num_iterations` in params. Will use it instead of argument\n",
      "  _log_warning(f\"Found `{alias}` in params. Will use it instead of argument\")\n"
     ]
    },
    {
     "name": "stdout",
     "output_type": "stream",
     "text": [
      "[CV] END learning_rate=0.01, max_depth=-1, min_data_in_leaf=10, num_iterations=100, num_leaves=50; total time=  14.7s\n",
      "[LightGBM] [Warning] min_data_in_leaf is set=10, min_child_samples=20 will be ignored. Current value: min_data_in_leaf=10\n"
     ]
    },
    {
     "name": "stderr",
     "output_type": "stream",
     "text": [
      "/home/slazien/.local/share/virtualenvs/linkedin_misinformation-xOmYosQV/lib/python3.8/site-packages/lightgbm/engine.py:177: UserWarning: Found `num_iterations` in params. Will use it instead of argument\n",
      "  _log_warning(f\"Found `{alias}` in params. Will use it instead of argument\")\n"
     ]
    },
    {
     "name": "stdout",
     "output_type": "stream",
     "text": [
      "[CV] END learning_rate=0.01, max_depth=-1, min_data_in_leaf=10, num_iterations=500, num_leaves=10; total time=  26.4s\n",
      "[LightGBM] [Warning] min_data_in_leaf is set=10, min_child_samples=20 will be ignored. Current value: min_data_in_leaf=10\n"
     ]
    },
    {
     "name": "stderr",
     "output_type": "stream",
     "text": [
      "/home/slazien/.local/share/virtualenvs/linkedin_misinformation-xOmYosQV/lib/python3.8/site-packages/lightgbm/engine.py:177: UserWarning: Found `num_iterations` in params. Will use it instead of argument\n",
      "  _log_warning(f\"Found `{alias}` in params. Will use it instead of argument\")\n"
     ]
    },
    {
     "name": "stdout",
     "output_type": "stream",
     "text": [
      "[CV] END learning_rate=0.01, max_depth=-1, min_data_in_leaf=10, num_iterations=500, num_leaves=10; total time=  26.9s\n",
      "[LightGBM] [Warning] min_data_in_leaf is set=10, min_child_samples=20 will be ignored. Current value: min_data_in_leaf=10\n"
     ]
    },
    {
     "name": "stderr",
     "output_type": "stream",
     "text": [
      "/home/slazien/.local/share/virtualenvs/linkedin_misinformation-xOmYosQV/lib/python3.8/site-packages/lightgbm/engine.py:177: UserWarning: Found `num_iterations` in params. Will use it instead of argument\n",
      "  _log_warning(f\"Found `{alias}` in params. Will use it instead of argument\")\n"
     ]
    },
    {
     "name": "stdout",
     "output_type": "stream",
     "text": [
      "[CV] END learning_rate=0.01, max_depth=-1, min_data_in_leaf=10, num_iterations=500, num_leaves=10; total time=  27.4s\n",
      "[LightGBM] [Warning] min_data_in_leaf is set=100, min_child_samples=20 will be ignored. Current value: min_data_in_leaf=100\n"
     ]
    },
    {
     "name": "stderr",
     "output_type": "stream",
     "text": [
      "/home/slazien/.local/share/virtualenvs/linkedin_misinformation-xOmYosQV/lib/python3.8/site-packages/lightgbm/engine.py:177: UserWarning: Found `num_iterations` in params. Will use it instead of argument\n",
      "  _log_warning(f\"Found `{alias}` in params. Will use it instead of argument\")\n"
     ]
    },
    {
     "name": "stdout",
     "output_type": "stream",
     "text": [
      "[CV] END learning_rate=0.01, max_depth=-1, min_data_in_leaf=100, num_iterations=100, num_leaves=10; total time=   1.2s\n",
      "[LightGBM] [Warning] min_data_in_leaf is set=100, min_child_samples=20 will be ignored. Current value: min_data_in_leaf=100\n"
     ]
    },
    {
     "name": "stderr",
     "output_type": "stream",
     "text": [
      "/home/slazien/.local/share/virtualenvs/linkedin_misinformation-xOmYosQV/lib/python3.8/site-packages/lightgbm/engine.py:177: UserWarning: Found `num_iterations` in params. Will use it instead of argument\n",
      "  _log_warning(f\"Found `{alias}` in params. Will use it instead of argument\")\n"
     ]
    },
    {
     "name": "stdout",
     "output_type": "stream",
     "text": [
      "[CV] END learning_rate=0.01, max_depth=-1, min_data_in_leaf=100, num_iterations=100, num_leaves=10; total time=   1.2s\n",
      "[LightGBM] [Warning] min_data_in_leaf is set=100, min_child_samples=20 will be ignored. Current value: min_data_in_leaf=100\n"
     ]
    },
    {
     "name": "stderr",
     "output_type": "stream",
     "text": [
      "/home/slazien/.local/share/virtualenvs/linkedin_misinformation-xOmYosQV/lib/python3.8/site-packages/lightgbm/engine.py:177: UserWarning: Found `num_iterations` in params. Will use it instead of argument\n",
      "  _log_warning(f\"Found `{alias}` in params. Will use it instead of argument\")\n"
     ]
    },
    {
     "name": "stdout",
     "output_type": "stream",
     "text": [
      "[CV] END learning_rate=0.01, max_depth=-1, min_data_in_leaf=100, num_iterations=100, num_leaves=10; total time=   1.3s\n",
      "[LightGBM] [Warning] min_data_in_leaf is set=100, min_child_samples=20 will be ignored. Current value: min_data_in_leaf=100\n"
     ]
    },
    {
     "name": "stderr",
     "output_type": "stream",
     "text": [
      "/home/slazien/.local/share/virtualenvs/linkedin_misinformation-xOmYosQV/lib/python3.8/site-packages/lightgbm/engine.py:177: UserWarning: Found `num_iterations` in params. Will use it instead of argument\n",
      "  _log_warning(f\"Found `{alias}` in params. Will use it instead of argument\")\n"
     ]
    },
    {
     "name": "stdout",
     "output_type": "stream",
     "text": [
      "[CV] END learning_rate=0.01, max_depth=-1, min_data_in_leaf=100, num_iterations=100, num_leaves=10; total time=   1.2s\n",
      "[LightGBM] [Warning] min_data_in_leaf is set=100, min_child_samples=20 will be ignored. Current value: min_data_in_leaf=100\n"
     ]
    },
    {
     "name": "stderr",
     "output_type": "stream",
     "text": [
      "/home/slazien/.local/share/virtualenvs/linkedin_misinformation-xOmYosQV/lib/python3.8/site-packages/lightgbm/engine.py:177: UserWarning: Found `num_iterations` in params. Will use it instead of argument\n",
      "  _log_warning(f\"Found `{alias}` in params. Will use it instead of argument\")\n"
     ]
    },
    {
     "name": "stdout",
     "output_type": "stream",
     "text": [
      "[CV] END learning_rate=0.01, max_depth=-1, min_data_in_leaf=10, num_iterations=500, num_leaves=10; total time=  25.7s\n",
      "[LightGBM] [Warning] min_data_in_leaf is set=100, min_child_samples=20 will be ignored. Current value: min_data_in_leaf=100\n",
      "[CV] END learning_rate=0.01, max_depth=-1, min_data_in_leaf=100, num_iterations=100, num_leaves=10; total time=   1.3s\n",
      "[LightGBM] [Warning] min_data_in_leaf is set=100, min_child_samples=20 will be ignored. Current value: min_data_in_leaf=100\n"
     ]
    },
    {
     "name": "stderr",
     "output_type": "stream",
     "text": [
      "/home/slazien/.local/share/virtualenvs/linkedin_misinformation-xOmYosQV/lib/python3.8/site-packages/lightgbm/engine.py:177: UserWarning: Found `num_iterations` in params. Will use it instead of argument\n",
      "  _log_warning(f\"Found `{alias}` in params. Will use it instead of argument\")\n",
      "/home/slazien/.local/share/virtualenvs/linkedin_misinformation-xOmYosQV/lib/python3.8/site-packages/lightgbm/engine.py:177: UserWarning: Found `num_iterations` in params. Will use it instead of argument\n",
      "  _log_warning(f\"Found `{alias}` in params. Will use it instead of argument\")\n"
     ]
    },
    {
     "name": "stdout",
     "output_type": "stream",
     "text": [
      "[CV] END learning_rate=0.01, max_depth=-1, min_data_in_leaf=10, num_iterations=500, num_leaves=10; total time=  26.6s\n",
      "[LightGBM] [Warning] min_data_in_leaf is set=100, min_child_samples=20 will be ignored. Current value: min_data_in_leaf=100\n"
     ]
    },
    {
     "name": "stderr",
     "output_type": "stream",
     "text": [
      "/home/slazien/.local/share/virtualenvs/linkedin_misinformation-xOmYosQV/lib/python3.8/site-packages/lightgbm/engine.py:177: UserWarning: Found `num_iterations` in params. Will use it instead of argument\n",
      "  _log_warning(f\"Found `{alias}` in params. Will use it instead of argument\")\n"
     ]
    },
    {
     "name": "stdout",
     "output_type": "stream",
     "text": [
      "[CV] END learning_rate=0.01, max_depth=-1, min_data_in_leaf=100, num_iterations=100, num_leaves=50; total time=   1.3s\n",
      "[LightGBM] [Warning] min_data_in_leaf is set=100, min_child_samples=20 will be ignored. Current value: min_data_in_leaf=100\n",
      "[CV] END learning_rate=0.01, max_depth=-1, min_data_in_leaf=100, num_iterations=100, num_leaves=50; total time=   1.4s\n"
     ]
    },
    {
     "name": "stderr",
     "output_type": "stream",
     "text": [
      "/home/slazien/.local/share/virtualenvs/linkedin_misinformation-xOmYosQV/lib/python3.8/site-packages/lightgbm/engine.py:177: UserWarning: Found `num_iterations` in params. Will use it instead of argument\n",
      "  _log_warning(f\"Found `{alias}` in params. Will use it instead of argument\")\n",
      "/home/slazien/.local/share/virtualenvs/linkedin_misinformation-xOmYosQV/lib/python3.8/site-packages/lightgbm/engine.py:177: UserWarning: Found `num_iterations` in params. Will use it instead of argument\n",
      "  _log_warning(f\"Found `{alias}` in params. Will use it instead of argument\")\n"
     ]
    },
    {
     "name": "stdout",
     "output_type": "stream",
     "text": [
      "[LightGBM] [Warning] min_data_in_leaf is set=100, min_child_samples=20 will be ignored. Current value: min_data_in_leaf=100\n",
      "[CV] END learning_rate=0.01, max_depth=-1, min_data_in_leaf=100, num_iterations=100, num_leaves=50; total time=   1.3s\n",
      "[LightGBM] [Warning] min_data_in_leaf is set=100, min_child_samples=20 will be ignored. Current value: min_data_in_leaf=100\n"
     ]
    },
    {
     "name": "stderr",
     "output_type": "stream",
     "text": [
      "/home/slazien/.local/share/virtualenvs/linkedin_misinformation-xOmYosQV/lib/python3.8/site-packages/lightgbm/engine.py:177: UserWarning: Found `num_iterations` in params. Will use it instead of argument\n",
      "  _log_warning(f\"Found `{alias}` in params. Will use it instead of argument\")\n"
     ]
    },
    {
     "name": "stdout",
     "output_type": "stream",
     "text": [
      "[CV] END learning_rate=0.01, max_depth=-1, min_data_in_leaf=100, num_iterations=100, num_leaves=50; total time=   1.3s\n",
      "[LightGBM] [Warning] min_data_in_leaf is set=100, min_child_samples=20 will be ignored. Current value: min_data_in_leaf=100\n"
     ]
    },
    {
     "name": "stderr",
     "output_type": "stream",
     "text": [
      "/home/slazien/.local/share/virtualenvs/linkedin_misinformation-xOmYosQV/lib/python3.8/site-packages/lightgbm/engine.py:177: UserWarning: Found `num_iterations` in params. Will use it instead of argument\n",
      "  _log_warning(f\"Found `{alias}` in params. Will use it instead of argument\")\n"
     ]
    },
    {
     "name": "stdout",
     "output_type": "stream",
     "text": [
      "[CV] END learning_rate=0.01, max_depth=-1, min_data_in_leaf=100, num_iterations=100, num_leaves=50; total time=   1.4s\n",
      "[LightGBM] [Warning] min_data_in_leaf is set=100, min_child_samples=20 will be ignored. Current value: min_data_in_leaf=100\n"
     ]
    },
    {
     "name": "stderr",
     "output_type": "stream",
     "text": [
      "/home/slazien/.local/share/virtualenvs/linkedin_misinformation-xOmYosQV/lib/python3.8/site-packages/lightgbm/engine.py:177: UserWarning: Found `num_iterations` in params. Will use it instead of argument\n",
      "  _log_warning(f\"Found `{alias}` in params. Will use it instead of argument\")\n"
     ]
    },
    {
     "name": "stdout",
     "output_type": "stream",
     "text": [
      "[CV] END learning_rate=0.01, max_depth=-1, min_data_in_leaf=100, num_iterations=500, num_leaves=10; total time=   5.4s\n",
      "[LightGBM] [Warning] min_data_in_leaf is set=100, min_child_samples=20 will be ignored. Current value: min_data_in_leaf=100\n"
     ]
    },
    {
     "name": "stderr",
     "output_type": "stream",
     "text": [
      "/home/slazien/.local/share/virtualenvs/linkedin_misinformation-xOmYosQV/lib/python3.8/site-packages/lightgbm/engine.py:177: UserWarning: Found `num_iterations` in params. Will use it instead of argument\n",
      "  _log_warning(f\"Found `{alias}` in params. Will use it instead of argument\")\n"
     ]
    },
    {
     "name": "stdout",
     "output_type": "stream",
     "text": [
      "[CV] END learning_rate=0.01, max_depth=-1, min_data_in_leaf=100, num_iterations=500, num_leaves=10; total time=   5.1s\n",
      "[LightGBM] [Warning] min_data_in_leaf is set=100, min_child_samples=20 will be ignored. Current value: min_data_in_leaf=100\n"
     ]
    },
    {
     "name": "stderr",
     "output_type": "stream",
     "text": [
      "/home/slazien/.local/share/virtualenvs/linkedin_misinformation-xOmYosQV/lib/python3.8/site-packages/lightgbm/engine.py:177: UserWarning: Found `num_iterations` in params. Will use it instead of argument\n",
      "  _log_warning(f\"Found `{alias}` in params. Will use it instead of argument\")\n"
     ]
    },
    {
     "name": "stdout",
     "output_type": "stream",
     "text": [
      "[CV] END learning_rate=0.01, max_depth=-1, min_data_in_leaf=100, num_iterations=500, num_leaves=10; total time=   5.2s\n",
      "[LightGBM] [Warning] min_data_in_leaf is set=100, min_child_samples=20 will be ignored. Current value: min_data_in_leaf=100\n"
     ]
    },
    {
     "name": "stderr",
     "output_type": "stream",
     "text": [
      "/home/slazien/.local/share/virtualenvs/linkedin_misinformation-xOmYosQV/lib/python3.8/site-packages/lightgbm/engine.py:177: UserWarning: Found `num_iterations` in params. Will use it instead of argument\n",
      "  _log_warning(f\"Found `{alias}` in params. Will use it instead of argument\")\n"
     ]
    },
    {
     "name": "stdout",
     "output_type": "stream",
     "text": [
      "[CV] END learning_rate=0.01, max_depth=-1, min_data_in_leaf=100, num_iterations=500, num_leaves=10; total time=   5.2s\n",
      "[LightGBM] [Warning] min_data_in_leaf is set=100, min_child_samples=20 will be ignored. Current value: min_data_in_leaf=100\n"
     ]
    },
    {
     "name": "stderr",
     "output_type": "stream",
     "text": [
      "/home/slazien/.local/share/virtualenvs/linkedin_misinformation-xOmYosQV/lib/python3.8/site-packages/lightgbm/engine.py:177: UserWarning: Found `num_iterations` in params. Will use it instead of argument\n",
      "  _log_warning(f\"Found `{alias}` in params. Will use it instead of argument\")\n"
     ]
    },
    {
     "name": "stdout",
     "output_type": "stream",
     "text": [
      "[CV] END learning_rate=0.01, max_depth=-1, min_data_in_leaf=100, num_iterations=500, num_leaves=10; total time=   5.3s\n",
      "[LightGBM] [Warning] min_data_in_leaf is set=100, min_child_samples=20 will be ignored. Current value: min_data_in_leaf=100\n",
      "[CV] END learning_rate=0.01, max_depth=-1, min_data_in_leaf=100, num_iterations=500, num_leaves=50; total time=   5.1s\n",
      "[LightGBM] [Warning] min_data_in_leaf is set=100, min_child_samples=20 will be ignored. Current value: min_data_in_leaf=100\n"
     ]
    },
    {
     "name": "stderr",
     "output_type": "stream",
     "text": [
      "/home/slazien/.local/share/virtualenvs/linkedin_misinformation-xOmYosQV/lib/python3.8/site-packages/lightgbm/engine.py:177: UserWarning: Found `num_iterations` in params. Will use it instead of argument\n",
      "  _log_warning(f\"Found `{alias}` in params. Will use it instead of argument\")\n",
      "/home/slazien/.local/share/virtualenvs/linkedin_misinformation-xOmYosQV/lib/python3.8/site-packages/lightgbm/engine.py:177: UserWarning: Found `num_iterations` in params. Will use it instead of argument\n",
      "  _log_warning(f\"Found `{alias}` in params. Will use it instead of argument\")\n"
     ]
    },
    {
     "name": "stdout",
     "output_type": "stream",
     "text": [
      "[CV] END learning_rate=0.01, max_depth=-1, min_data_in_leaf=100, num_iterations=500, num_leaves=50; total time=   5.2s\n",
      "[LightGBM] [Warning] min_data_in_leaf is set=100, min_child_samples=20 will be ignored. Current value: min_data_in_leaf=100\n"
     ]
    },
    {
     "name": "stderr",
     "output_type": "stream",
     "text": [
      "/home/slazien/.local/share/virtualenvs/linkedin_misinformation-xOmYosQV/lib/python3.8/site-packages/lightgbm/engine.py:177: UserWarning: Found `num_iterations` in params. Will use it instead of argument\n",
      "  _log_warning(f\"Found `{alias}` in params. Will use it instead of argument\")\n"
     ]
    },
    {
     "name": "stdout",
     "output_type": "stream",
     "text": [
      "[CV] END learning_rate=0.01, max_depth=-1, min_data_in_leaf=100, num_iterations=500, num_leaves=50; total time=   5.0s\n",
      "[LightGBM] [Warning] min_data_in_leaf is set=500, min_child_samples=20 will be ignored. Current value: min_data_in_leaf=500\n",
      "[CV] END learning_rate=0.01, max_depth=-1, min_data_in_leaf=500, num_iterations=100, num_leaves=10; total time=   0.1s\n",
      "[LightGBM] [Warning] min_data_in_leaf is set=500, min_child_samples=20 will be ignored. Current value: min_data_in_leaf=500\n",
      "[CV] END learning_rate=0.01, max_depth=-1, min_data_in_leaf=100, num_iterations=500, num_leaves=50; total time=   5.3s\n",
      "[LightGBM] [Warning] min_data_in_leaf is set=500, min_child_samples=20 will be ignored. Current value: min_data_in_leaf=500\n",
      "[CV] END learning_rate=0.01, max_depth=-1, min_data_in_leaf=500, num_iterations=100, num_leaves=10; total time=   0.1s\n",
      "[LightGBM] [Warning] min_data_in_leaf is set=500, min_child_samples=20 will be ignored. Current value: min_data_in_leaf=500\n"
     ]
    },
    {
     "name": "stderr",
     "output_type": "stream",
     "text": [
      "/home/slazien/.local/share/virtualenvs/linkedin_misinformation-xOmYosQV/lib/python3.8/site-packages/lightgbm/engine.py:177: UserWarning: Found `num_iterations` in params. Will use it instead of argument\n",
      "  _log_warning(f\"Found `{alias}` in params. Will use it instead of argument\")\n",
      "/home/slazien/.local/share/virtualenvs/linkedin_misinformation-xOmYosQV/lib/python3.8/site-packages/lightgbm/engine.py:177: UserWarning: Found `num_iterations` in params. Will use it instead of argument\n",
      "  _log_warning(f\"Found `{alias}` in params. Will use it instead of argument\")\n",
      "/home/slazien/.local/share/virtualenvs/linkedin_misinformation-xOmYosQV/lib/python3.8/site-packages/lightgbm/engine.py:177: UserWarning: Found `num_iterations` in params. Will use it instead of argument\n",
      "  _log_warning(f\"Found `{alias}` in params. Will use it instead of argument\")\n",
      "/home/slazien/.local/share/virtualenvs/linkedin_misinformation-xOmYosQV/lib/python3.8/site-packages/lightgbm/engine.py:177: UserWarning: Found `num_iterations` in params. Will use it instead of argument\n",
      "  _log_warning(f\"Found `{alias}` in params. Will use it instead of argument\")\n"
     ]
    },
    {
     "name": "stdout",
     "output_type": "stream",
     "text": [
      "[CV] END learning_rate=0.01, max_depth=-1, min_data_in_leaf=500, num_iterations=100, num_leaves=10; total time=   0.1s\n",
      "[LightGBM] [Warning] min_data_in_leaf is set=500, min_child_samples=20 will be ignored. Current value: min_data_in_leaf=500\n",
      "[CV] END learning_rate=0.01, max_depth=-1, min_data_in_leaf=500, num_iterations=100, num_leaves=10; total time=   0.1s\n",
      "[LightGBM] [Warning] min_data_in_leaf is set=500, min_child_samples=20 will be ignored. Current value: min_data_in_leaf=500\n",
      "[CV] END learning_rate=0.01, max_depth=-1, min_data_in_leaf=500, num_iterations=100, num_leaves=10; total time=   0.1s\n",
      "[LightGBM] [Warning] min_data_in_leaf is set=500, min_child_samples=20 will be ignored. Current value: min_data_in_leaf=500\n",
      "[CV] END learning_rate=0.01, max_depth=-1, min_data_in_leaf=500, num_iterations=100, num_leaves=50; total time=   0.1s\n",
      "[LightGBM] [Warning] min_data_in_leaf is set=500, min_child_samples=20 will be ignored. Current value: min_data_in_leaf=500\n",
      "[CV] END learning_rate=0.01, max_depth=-1, min_data_in_leaf=500, num_iterations=100, num_leaves=50; total time=   0.1s\n",
      "[LightGBM] [Warning] min_data_in_leaf is set=500, min_child_samples=20 will be ignored. Current value: min_data_in_leaf=500"
     ]
    },
    {
     "name": "stderr",
     "output_type": "stream",
     "text": [
      "/home/slazien/.local/share/virtualenvs/linkedin_misinformation-xOmYosQV/lib/python3.8/site-packages/lightgbm/engine.py:177: UserWarning: Found `num_iterations` in params. Will use it instead of argument\n",
      "  _log_warning(f\"Found `{alias}` in params. Will use it instead of argument\")\n",
      "/home/slazien/.local/share/virtualenvs/linkedin_misinformation-xOmYosQV/lib/python3.8/site-packages/lightgbm/engine.py:177: UserWarning: Found `num_iterations` in params. Will use it instead of argument\n",
      "  _log_warning(f\"Found `{alias}` in params. Will use it instead of argument\")\n",
      "/home/slazien/.local/share/virtualenvs/linkedin_misinformation-xOmYosQV/lib/python3.8/site-packages/lightgbm/engine.py:177: UserWarning: Found `num_iterations` in params. Will use it instead of argument\n",
      "  _log_warning(f\"Found `{alias}` in params. Will use it instead of argument\")\n",
      "/home/slazien/.local/share/virtualenvs/linkedin_misinformation-xOmYosQV/lib/python3.8/site-packages/lightgbm/engine.py:177: UserWarning: Found `num_iterations` in params. Will use it instead of argument\n",
      "  _log_warning(f\"Found `{alias}` in params. Will use it instead of argument\")\n",
      "/home/slazien/.local/share/virtualenvs/linkedin_misinformation-xOmYosQV/lib/python3.8/site-packages/lightgbm/engine.py:177: UserWarning: Found `num_iterations` in params. Will use it instead of argument\n",
      "  _log_warning(f\"Found `{alias}` in params. Will use it instead of argument\")\n"
     ]
    },
    {
     "name": "stdout",
     "output_type": "stream",
     "text": [
      "\n",
      "[CV] END learning_rate=0.01, max_depth=-1, min_data_in_leaf=500, num_iterations=100, num_leaves=50; total time=   0.1s\n",
      "[LightGBM] [Warning] min_data_in_leaf is set=500, min_child_samples=20 will be ignored. Current value: min_data_in_leaf=500\n",
      "[CV] END learning_rate=0.01, max_depth=-1, min_data_in_leaf=500, num_iterations=100, num_leaves=50; total time=   0.1s\n",
      "[LightGBM] [Warning] min_data_in_leaf is set=500, min_child_samples=20 will be ignored. Current value: min_data_in_leaf=500\n",
      "[CV] END learning_rate=0.01, max_depth=-1, min_data_in_leaf=500, num_iterations=100, num_leaves=50; total time=   0.1s\n",
      "[LightGBM] [Warning] min_data_in_leaf is set=500, min_child_samples=20 will be ignored. Current value: min_data_in_leaf=500\n"
     ]
    },
    {
     "name": "stderr",
     "output_type": "stream",
     "text": [
      "/home/slazien/.local/share/virtualenvs/linkedin_misinformation-xOmYosQV/lib/python3.8/site-packages/lightgbm/engine.py:177: UserWarning: Found `num_iterations` in params. Will use it instead of argument\n",
      "  _log_warning(f\"Found `{alias}` in params. Will use it instead of argument\")\n",
      "/home/slazien/.local/share/virtualenvs/linkedin_misinformation-xOmYosQV/lib/python3.8/site-packages/lightgbm/engine.py:177: UserWarning: Found `num_iterations` in params. Will use it instead of argument\n",
      "  _log_warning(f\"Found `{alias}` in params. Will use it instead of argument\")\n",
      "/home/slazien/.local/share/virtualenvs/linkedin_misinformation-xOmYosQV/lib/python3.8/site-packages/lightgbm/engine.py:177: UserWarning: Found `num_iterations` in params. Will use it instead of argument\n",
      "  _log_warning(f\"Found `{alias}` in params. Will use it instead of argument\")\n",
      "/home/slazien/.local/share/virtualenvs/linkedin_misinformation-xOmYosQV/lib/python3.8/site-packages/lightgbm/engine.py:177: UserWarning: Found `num_iterations` in params. Will use it instead of argument\n",
      "  _log_warning(f\"Found `{alias}` in params. Will use it instead of argument\")\n"
     ]
    },
    {
     "name": "stdout",
     "output_type": "stream",
     "text": [
      "[CV] END learning_rate=0.01, max_depth=-1, min_data_in_leaf=500, num_iterations=500, num_leaves=10; total time=   0.1s\n",
      "[LightGBM] [Warning] min_data_in_leaf is set=500, min_child_samples=20 will be ignored. Current value: min_data_in_leaf=500\n",
      "[CV] END learning_rate=0.01, max_depth=-1, min_data_in_leaf=500, num_iterations=500, num_leaves=10; total time=   0.1s\n",
      "[LightGBM] [Warning] min_data_in_leaf is set=500, min_child_samples=20 will be ignored. Current value: min_data_in_leaf=500\n",
      "[CV] END learning_rate=0.01, max_depth=-1, min_data_in_leaf=500, num_iterations=500, num_leaves=10; total time=   0.1s\n",
      "[LightGBM] [Warning] min_data_in_leaf is set=500, min_child_samples=20 will be ignored. Current value: min_data_in_leaf=500\n",
      "[CV] END learning_rate=0.01, max_depth=-1, min_data_in_leaf=500, num_iterations=500, num_leaves=10; total time=   0.1s\n",
      "[LightGBM] [Warning] min_data_in_leaf is set=500, min_child_samples=20 will be ignored. Current value: min_data_in_leaf=500\n"
     ]
    },
    {
     "name": "stderr",
     "output_type": "stream",
     "text": [
      "/home/slazien/.local/share/virtualenvs/linkedin_misinformation-xOmYosQV/lib/python3.8/site-packages/lightgbm/engine.py:177: UserWarning: Found `num_iterations` in params. Will use it instead of argument\n",
      "  _log_warning(f\"Found `{alias}` in params. Will use it instead of argument\")\n",
      "/home/slazien/.local/share/virtualenvs/linkedin_misinformation-xOmYosQV/lib/python3.8/site-packages/lightgbm/engine.py:177: UserWarning: Found `num_iterations` in params. Will use it instead of argument\n",
      "  _log_warning(f\"Found `{alias}` in params. Will use it instead of argument\")\n",
      "/home/slazien/.local/share/virtualenvs/linkedin_misinformation-xOmYosQV/lib/python3.8/site-packages/lightgbm/engine.py:177: UserWarning: Found `num_iterations` in params. Will use it instead of argument\n",
      "  _log_warning(f\"Found `{alias}` in params. Will use it instead of argument\")\n",
      "/home/slazien/.local/share/virtualenvs/linkedin_misinformation-xOmYosQV/lib/python3.8/site-packages/lightgbm/engine.py:177: UserWarning: Found `num_iterations` in params. Will use it instead of argument\n",
      "  _log_warning(f\"Found `{alias}` in params. Will use it instead of argument\")\n"
     ]
    },
    {
     "name": "stdout",
     "output_type": "stream",
     "text": [
      "[CV] END learning_rate=0.01, max_depth=-1, min_data_in_leaf=500, num_iterations=500, num_leaves=10; total time=   0.1s\n",
      "[LightGBM] [Warning] min_data_in_leaf is set=500, min_child_samples=20 will be ignored. Current value: min_data_in_leaf=500\n",
      "[CV] END learning_rate=0.01, max_depth=-1, min_data_in_leaf=500, num_iterations=500, num_leaves=50; total time=   0.1s\n",
      "[LightGBM] [Warning] min_data_in_leaf is set=500, min_child_samples=20 will be ignored. Current value: min_data_in_leaf=500\n",
      "[CV] END learning_rate=0.01, max_depth=-1, min_data_in_leaf=500, num_iterations=500, num_leaves=50; total time=   0.1s\n",
      "[LightGBM] [Warning] min_data_in_leaf is set=500, min_child_samples=20 will be ignored. Current value: min_data_in_leaf=500\n",
      "[CV] END learning_rate=0.01, max_depth=-1, min_data_in_leaf=500, num_iterations=500, num_leaves=50; total time=   0.1s\n",
      "[LightGBM] [Warning] min_data_in_leaf is set=500, min_child_samples=20 will be ignored. Current value: min_data_in_leaf=500\n"
     ]
    },
    {
     "name": "stderr",
     "output_type": "stream",
     "text": [
      "/home/slazien/.local/share/virtualenvs/linkedin_misinformation-xOmYosQV/lib/python3.8/site-packages/lightgbm/engine.py:177: UserWarning: Found `num_iterations` in params. Will use it instead of argument\n",
      "  _log_warning(f\"Found `{alias}` in params. Will use it instead of argument\")\n",
      "/home/slazien/.local/share/virtualenvs/linkedin_misinformation-xOmYosQV/lib/python3.8/site-packages/lightgbm/engine.py:177: UserWarning: Found `num_iterations` in params. Will use it instead of argument\n",
      "  _log_warning(f\"Found `{alias}` in params. Will use it instead of argument\")\n",
      "/home/slazien/.local/share/virtualenvs/linkedin_misinformation-xOmYosQV/lib/python3.8/site-packages/lightgbm/engine.py:177: UserWarning: Found `num_iterations` in params. Will use it instead of argument\n",
      "  _log_warning(f\"Found `{alias}` in params. Will use it instead of argument\")\n",
      "/home/slazien/.local/share/virtualenvs/linkedin_misinformation-xOmYosQV/lib/python3.8/site-packages/lightgbm/engine.py:177: UserWarning: Found `num_iterations` in params. Will use it instead of argument\n",
      "  _log_warning(f\"Found `{alias}` in params. Will use it instead of argument\")\n"
     ]
    },
    {
     "name": "stdout",
     "output_type": "stream",
     "text": [
      "[CV] END learning_rate=0.01, max_depth=-1, min_data_in_leaf=500, num_iterations=500, num_leaves=50; total time=   0.1s\n",
      "[LightGBM] [Warning] min_data_in_leaf is set=10, min_child_samples=20 will be ignored. Current value: min_data_in_leaf=10\n",
      "[CV] END learning_rate=0.01, max_depth=-1, min_data_in_leaf=500, num_iterations=500, num_leaves=50; total time=   0.1s\n",
      "[LightGBM] [Warning] min_data_in_leaf is set=10, min_child_samples=20 will be ignored. Current value: min_data_in_leaf=10\n"
     ]
    },
    {
     "name": "stderr",
     "output_type": "stream",
     "text": [
      "/home/slazien/.local/share/virtualenvs/linkedin_misinformation-xOmYosQV/lib/python3.8/site-packages/lightgbm/engine.py:177: UserWarning: Found `num_iterations` in params. Will use it instead of argument\n",
      "  _log_warning(f\"Found `{alias}` in params. Will use it instead of argument\")\n"
     ]
    },
    {
     "name": "stdout",
     "output_type": "stream",
     "text": [
      "[CV] END learning_rate=0.01, max_depth=-1, min_data_in_leaf=100, num_iterations=500, num_leaves=50; total time=   5.3s\n",
      "[LightGBM] [Warning] min_data_in_leaf is set=10, min_child_samples=20 will be ignored. Current value: min_data_in_leaf=10\n"
     ]
    },
    {
     "name": "stderr",
     "output_type": "stream",
     "text": [
      "/home/slazien/.local/share/virtualenvs/linkedin_misinformation-xOmYosQV/lib/python3.8/site-packages/lightgbm/engine.py:177: UserWarning: Found `num_iterations` in params. Will use it instead of argument\n",
      "  _log_warning(f\"Found `{alias}` in params. Will use it instead of argument\")\n"
     ]
    },
    {
     "name": "stdout",
     "output_type": "stream",
     "text": [
      "[CV] END learning_rate=0.01, max_depth=10, min_data_in_leaf=10, num_iterations=100, num_leaves=10; total time=   5.5s\n",
      "[LightGBM] [Warning] min_data_in_leaf is set=10, min_child_samples=20 will be ignored. Current value: min_data_in_leaf=10\n",
      "[CV] END learning_rate=0.01, max_depth=10, min_data_in_leaf=10, num_iterations=100, num_leaves=10; total time=   5.5s\n",
      "[LightGBM] [Warning] min_data_in_leaf is set=10, min_child_samples=20 will be ignored. Current value: min_data_in_leaf=10\n"
     ]
    },
    {
     "name": "stderr",
     "output_type": "stream",
     "text": [
      "/home/slazien/.local/share/virtualenvs/linkedin_misinformation-xOmYosQV/lib/python3.8/site-packages/lightgbm/engine.py:177: UserWarning: Found `num_iterations` in params. Will use it instead of argument\n",
      "  _log_warning(f\"Found `{alias}` in params. Will use it instead of argument\")\n",
      "/home/slazien/.local/share/virtualenvs/linkedin_misinformation-xOmYosQV/lib/python3.8/site-packages/lightgbm/engine.py:177: UserWarning: Found `num_iterations` in params. Will use it instead of argument\n",
      "  _log_warning(f\"Found `{alias}` in params. Will use it instead of argument\")\n"
     ]
    },
    {
     "name": "stdout",
     "output_type": "stream",
     "text": [
      "[CV] END learning_rate=0.01, max_depth=10, min_data_in_leaf=10, num_iterations=100, num_leaves=10; total time=   5.4s\n",
      "[LightGBM] [Warning] min_data_in_leaf is set=10, min_child_samples=20 will be ignored. Current value: min_data_in_leaf=10\n"
     ]
    },
    {
     "name": "stderr",
     "output_type": "stream",
     "text": [
      "/home/slazien/.local/share/virtualenvs/linkedin_misinformation-xOmYosQV/lib/python3.8/site-packages/lightgbm/engine.py:177: UserWarning: Found `num_iterations` in params. Will use it instead of argument\n",
      "  _log_warning(f\"Found `{alias}` in params. Will use it instead of argument\")\n"
     ]
    },
    {
     "name": "stdout",
     "output_type": "stream",
     "text": [
      "[CV] END learning_rate=0.01, max_depth=10, min_data_in_leaf=10, num_iterations=100, num_leaves=10; total time=   5.4s\n",
      "[CV] END learning_rate=0.01, max_depth=10, min_data_in_leaf=10, num_iterations=100, num_leaves=10; total time=   5.4s\n",
      "[LightGBM] [Warning] min_data_in_leaf is set=10, min_child_samples=20 will be ignored. Current value: min_data_in_leaf=10\n",
      "[LightGBM] [Warning] min_data_in_leaf is set=10, min_child_samples=20 will be ignored. Current value: min_data_in_leaf=10\n"
     ]
    },
    {
     "name": "stderr",
     "output_type": "stream",
     "text": [
      "/home/slazien/.local/share/virtualenvs/linkedin_misinformation-xOmYosQV/lib/python3.8/site-packages/lightgbm/engine.py:177: UserWarning: Found `num_iterations` in params. Will use it instead of argument\n",
      "  _log_warning(f\"Found `{alias}` in params. Will use it instead of argument\")\n",
      "/home/slazien/.local/share/virtualenvs/linkedin_misinformation-xOmYosQV/lib/python3.8/site-packages/lightgbm/engine.py:177: UserWarning: Found `num_iterations` in params. Will use it instead of argument\n",
      "  _log_warning(f\"Found `{alias}` in params. Will use it instead of argument\")\n"
     ]
    },
    {
     "name": "stdout",
     "output_type": "stream",
     "text": [
      "[CV] END learning_rate=0.01, max_depth=-1, min_data_in_leaf=10, num_iterations=500, num_leaves=50; total time= 1.0min\n",
      "[LightGBM] [Warning] min_data_in_leaf is set=10, min_child_samples=20 will be ignored. Current value: min_data_in_leaf=10\n"
     ]
    },
    {
     "name": "stderr",
     "output_type": "stream",
     "text": [
      "/home/slazien/.local/share/virtualenvs/linkedin_misinformation-xOmYosQV/lib/python3.8/site-packages/lightgbm/engine.py:177: UserWarning: Found `num_iterations` in params. Will use it instead of argument\n",
      "  _log_warning(f\"Found `{alias}` in params. Will use it instead of argument\")\n"
     ]
    },
    {
     "name": "stdout",
     "output_type": "stream",
     "text": [
      "[CV] END learning_rate=0.01, max_depth=10, min_data_in_leaf=10, num_iterations=100, num_leaves=50; total time=  12.0s\n",
      "[LightGBM] [Warning] min_data_in_leaf is set=10, min_child_samples=20 will be ignored. Current value: min_data_in_leaf=10\n"
     ]
    },
    {
     "name": "stderr",
     "output_type": "stream",
     "text": [
      "/home/slazien/.local/share/virtualenvs/linkedin_misinformation-xOmYosQV/lib/python3.8/site-packages/lightgbm/engine.py:177: UserWarning: Found `num_iterations` in params. Will use it instead of argument\n",
      "  _log_warning(f\"Found `{alias}` in params. Will use it instead of argument\")\n"
     ]
    },
    {
     "name": "stdout",
     "output_type": "stream",
     "text": [
      "[CV] END learning_rate=0.01, max_depth=-1, min_data_in_leaf=10, num_iterations=500, num_leaves=50; total time= 1.0min\n",
      "[LightGBM] [Warning] min_data_in_leaf is set=10, min_child_samples=20 will be ignored. Current value: min_data_in_leaf=10\n"
     ]
    },
    {
     "name": "stderr",
     "output_type": "stream",
     "text": [
      "/home/slazien/.local/share/virtualenvs/linkedin_misinformation-xOmYosQV/lib/python3.8/site-packages/lightgbm/engine.py:177: UserWarning: Found `num_iterations` in params. Will use it instead of argument\n",
      "  _log_warning(f\"Found `{alias}` in params. Will use it instead of argument\")\n"
     ]
    },
    {
     "name": "stdout",
     "output_type": "stream",
     "text": [
      "[CV] END learning_rate=0.01, max_depth=10, min_data_in_leaf=10, num_iterations=100, num_leaves=50; total time=  12.4s\n",
      "[LightGBM] [Warning] min_data_in_leaf is set=10, min_child_samples=20 will be ignored. Current value: min_data_in_leaf=10\n",
      "[CV] END learning_rate=0.01, max_depth=10, min_data_in_leaf=10, num_iterations=100, num_leaves=50; total time=  12.4s\n",
      "[LightGBM] [Warning] min_data_in_leaf is set=10, min_child_samples=20 will be ignored. Current value: min_data_in_leaf=10\n"
     ]
    },
    {
     "name": "stderr",
     "output_type": "stream",
     "text": [
      "/home/slazien/.local/share/virtualenvs/linkedin_misinformation-xOmYosQV/lib/python3.8/site-packages/lightgbm/engine.py:177: UserWarning: Found `num_iterations` in params. Will use it instead of argument\n",
      "  _log_warning(f\"Found `{alias}` in params. Will use it instead of argument\")\n",
      "/home/slazien/.local/share/virtualenvs/linkedin_misinformation-xOmYosQV/lib/python3.8/site-packages/lightgbm/engine.py:177: UserWarning: Found `num_iterations` in params. Will use it instead of argument\n",
      "  _log_warning(f\"Found `{alias}` in params. Will use it instead of argument\")\n"
     ]
    },
    {
     "name": "stdout",
     "output_type": "stream",
     "text": [
      "[CV] END learning_rate=0.01, max_depth=-1, min_data_in_leaf=10, num_iterations=500, num_leaves=50; total time= 1.0min\n",
      "[LightGBM] [Warning] min_data_in_leaf is set=10, min_child_samples=20 will be ignored. Current value: min_data_in_leaf=10\n"
     ]
    },
    {
     "name": "stderr",
     "output_type": "stream",
     "text": [
      "/home/slazien/.local/share/virtualenvs/linkedin_misinformation-xOmYosQV/lib/python3.8/site-packages/lightgbm/engine.py:177: UserWarning: Found `num_iterations` in params. Will use it instead of argument\n",
      "  _log_warning(f\"Found `{alias}` in params. Will use it instead of argument\")\n"
     ]
    },
    {
     "name": "stdout",
     "output_type": "stream",
     "text": [
      "[CV] END learning_rate=0.01, max_depth=10, min_data_in_leaf=10, num_iterations=100, num_leaves=50; total time=  12.1s\n",
      "[LightGBM] [Warning] min_data_in_leaf is set=10, min_child_samples=20 will be ignored. Current value: min_data_in_leaf=10\n"
     ]
    },
    {
     "name": "stderr",
     "output_type": "stream",
     "text": [
      "/home/slazien/.local/share/virtualenvs/linkedin_misinformation-xOmYosQV/lib/python3.8/site-packages/lightgbm/engine.py:177: UserWarning: Found `num_iterations` in params. Will use it instead of argument\n",
      "  _log_warning(f\"Found `{alias}` in params. Will use it instead of argument\")\n"
     ]
    },
    {
     "name": "stdout",
     "output_type": "stream",
     "text": [
      "[CV] END learning_rate=0.01, max_depth=10, min_data_in_leaf=10, num_iterations=100, num_leaves=50; total time=  12.7s\n",
      "[LightGBM] [Warning] min_data_in_leaf is set=10, min_child_samples=20 will be ignored. Current value: min_data_in_leaf=10\n"
     ]
    },
    {
     "name": "stderr",
     "output_type": "stream",
     "text": [
      "/home/slazien/.local/share/virtualenvs/linkedin_misinformation-xOmYosQV/lib/python3.8/site-packages/lightgbm/engine.py:177: UserWarning: Found `num_iterations` in params. Will use it instead of argument\n",
      "  _log_warning(f\"Found `{alias}` in params. Will use it instead of argument\")\n"
     ]
    },
    {
     "name": "stdout",
     "output_type": "stream",
     "text": [
      "[CV] END learning_rate=0.01, max_depth=-1, min_data_in_leaf=10, num_iterations=500, num_leaves=50; total time= 1.0min\n",
      "[LightGBM] [Warning] min_data_in_leaf is set=10, min_child_samples=20 will be ignored. Current value: min_data_in_leaf=10\n"
     ]
    },
    {
     "name": "stderr",
     "output_type": "stream",
     "text": [
      "/home/slazien/.local/share/virtualenvs/linkedin_misinformation-xOmYosQV/lib/python3.8/site-packages/lightgbm/engine.py:177: UserWarning: Found `num_iterations` in params. Will use it instead of argument\n",
      "  _log_warning(f\"Found `{alias}` in params. Will use it instead of argument\")\n"
     ]
    },
    {
     "name": "stdout",
     "output_type": "stream",
     "text": [
      "[CV] END learning_rate=0.01, max_depth=-1, min_data_in_leaf=10, num_iterations=500, num_leaves=50; total time= 1.1min\n",
      "[LightGBM] [Warning] min_data_in_leaf is set=10, min_child_samples=20 will be ignored. Current value: min_data_in_leaf=10\n"
     ]
    },
    {
     "name": "stderr",
     "output_type": "stream",
     "text": [
      "/home/slazien/.local/share/virtualenvs/linkedin_misinformation-xOmYosQV/lib/python3.8/site-packages/lightgbm/engine.py:177: UserWarning: Found `num_iterations` in params. Will use it instead of argument\n",
      "  _log_warning(f\"Found `{alias}` in params. Will use it instead of argument\")\n"
     ]
    },
    {
     "name": "stdout",
     "output_type": "stream",
     "text": [
      "[CV] END learning_rate=0.01, max_depth=10, min_data_in_leaf=10, num_iterations=500, num_leaves=10; total time=  27.9s\n",
      "[LightGBM] [Warning] min_data_in_leaf is set=10, min_child_samples=20 will be ignored. Current value: min_data_in_leaf=10\n"
     ]
    },
    {
     "name": "stderr",
     "output_type": "stream",
     "text": [
      "/home/slazien/.local/share/virtualenvs/linkedin_misinformation-xOmYosQV/lib/python3.8/site-packages/lightgbm/engine.py:177: UserWarning: Found `num_iterations` in params. Will use it instead of argument\n",
      "  _log_warning(f\"Found `{alias}` in params. Will use it instead of argument\")\n"
     ]
    },
    {
     "name": "stdout",
     "output_type": "stream",
     "text": [
      "[CV] END learning_rate=0.01, max_depth=10, min_data_in_leaf=10, num_iterations=500, num_leaves=10; total time=  28.0s\n",
      "[LightGBM] [Warning] min_data_in_leaf is set=10, min_child_samples=20 will be ignored. Current value: min_data_in_leaf=10\n"
     ]
    },
    {
     "name": "stderr",
     "output_type": "stream",
     "text": [
      "/home/slazien/.local/share/virtualenvs/linkedin_misinformation-xOmYosQV/lib/python3.8/site-packages/lightgbm/engine.py:177: UserWarning: Found `num_iterations` in params. Will use it instead of argument\n",
      "  _log_warning(f\"Found `{alias}` in params. Will use it instead of argument\")\n"
     ]
    },
    {
     "name": "stdout",
     "output_type": "stream",
     "text": [
      "[CV] END learning_rate=0.01, max_depth=10, min_data_in_leaf=10, num_iterations=500, num_leaves=10; total time=  28.1s\n",
      "[LightGBM] [Warning] min_data_in_leaf is set=100, min_child_samples=20 will be ignored. Current value: min_data_in_leaf=100\n"
     ]
    },
    {
     "name": "stderr",
     "output_type": "stream",
     "text": [
      "/home/slazien/.local/share/virtualenvs/linkedin_misinformation-xOmYosQV/lib/python3.8/site-packages/lightgbm/engine.py:177: UserWarning: Found `num_iterations` in params. Will use it instead of argument\n",
      "  _log_warning(f\"Found `{alias}` in params. Will use it instead of argument\")\n"
     ]
    },
    {
     "name": "stdout",
     "output_type": "stream",
     "text": [
      "[CV] END learning_rate=0.01, max_depth=10, min_data_in_leaf=10, num_iterations=500, num_leaves=10; total time=  28.8s\n",
      "[LightGBM] [Warning] min_data_in_leaf is set=100, min_child_samples=20 will be ignored. Current value: min_data_in_leaf=100\n"
     ]
    },
    {
     "name": "stderr",
     "output_type": "stream",
     "text": [
      "/home/slazien/.local/share/virtualenvs/linkedin_misinformation-xOmYosQV/lib/python3.8/site-packages/lightgbm/engine.py:177: UserWarning: Found `num_iterations` in params. Will use it instead of argument\n",
      "  _log_warning(f\"Found `{alias}` in params. Will use it instead of argument\")\n"
     ]
    },
    {
     "name": "stdout",
     "output_type": "stream",
     "text": [
      "[CV] END learning_rate=0.01, max_depth=10, min_data_in_leaf=100, num_iterations=100, num_leaves=10; total time=   1.3s\n",
      "[LightGBM] [Warning] min_data_in_leaf is set=100, min_child_samples=20 will be ignored. Current value: min_data_in_leaf=100\n"
     ]
    },
    {
     "name": "stderr",
     "output_type": "stream",
     "text": [
      "/home/slazien/.local/share/virtualenvs/linkedin_misinformation-xOmYosQV/lib/python3.8/site-packages/lightgbm/engine.py:177: UserWarning: Found `num_iterations` in params. Will use it instead of argument\n",
      "  _log_warning(f\"Found `{alias}` in params. Will use it instead of argument\")\n"
     ]
    },
    {
     "name": "stdout",
     "output_type": "stream",
     "text": [
      "[CV] END learning_rate=0.01, max_depth=10, min_data_in_leaf=100, num_iterations=100, num_leaves=10; total time=   1.2s\n",
      "[LightGBM] [Warning] min_data_in_leaf is set=100, min_child_samples=20 will be ignored. Current value: min_data_in_leaf=100\n"
     ]
    },
    {
     "name": "stderr",
     "output_type": "stream",
     "text": [
      "/home/slazien/.local/share/virtualenvs/linkedin_misinformation-xOmYosQV/lib/python3.8/site-packages/lightgbm/engine.py:177: UserWarning: Found `num_iterations` in params. Will use it instead of argument\n",
      "  _log_warning(f\"Found `{alias}` in params. Will use it instead of argument\")\n"
     ]
    },
    {
     "name": "stdout",
     "output_type": "stream",
     "text": [
      "[CV] END learning_rate=0.01, max_depth=10, min_data_in_leaf=100, num_iterations=100, num_leaves=10; total time=   1.3s\n",
      "[LightGBM] [Warning] min_data_in_leaf is set=100, min_child_samples=20 will be ignored. Current value: min_data_in_leaf=100\n"
     ]
    },
    {
     "name": "stderr",
     "output_type": "stream",
     "text": [
      "/home/slazien/.local/share/virtualenvs/linkedin_misinformation-xOmYosQV/lib/python3.8/site-packages/lightgbm/engine.py:177: UserWarning: Found `num_iterations` in params. Will use it instead of argument\n",
      "  _log_warning(f\"Found `{alias}` in params. Will use it instead of argument\")\n"
     ]
    },
    {
     "name": "stdout",
     "output_type": "stream",
     "text": [
      "[CV] END learning_rate=0.01, max_depth=10, min_data_in_leaf=100, num_iterations=100, num_leaves=10; total time=   1.2s\n",
      "[LightGBM] [Warning] min_data_in_leaf is set=100, min_child_samples=20 will be ignored. Current value: min_data_in_leaf=100\n"
     ]
    },
    {
     "name": "stderr",
     "output_type": "stream",
     "text": [
      "/home/slazien/.local/share/virtualenvs/linkedin_misinformation-xOmYosQV/lib/python3.8/site-packages/lightgbm/engine.py:177: UserWarning: Found `num_iterations` in params. Will use it instead of argument\n",
      "  _log_warning(f\"Found `{alias}` in params. Will use it instead of argument\")\n"
     ]
    },
    {
     "name": "stdout",
     "output_type": "stream",
     "text": [
      "[CV] END learning_rate=0.01, max_depth=10, min_data_in_leaf=100, num_iterations=100, num_leaves=10; total time=   1.2s\n",
      "[LightGBM] [Warning] min_data_in_leaf is set=100, min_child_samples=20 will be ignored. Current value: min_data_in_leaf=100\n"
     ]
    },
    {
     "name": "stderr",
     "output_type": "stream",
     "text": [
      "/home/slazien/.local/share/virtualenvs/linkedin_misinformation-xOmYosQV/lib/python3.8/site-packages/lightgbm/engine.py:177: UserWarning: Found `num_iterations` in params. Will use it instead of argument\n",
      "  _log_warning(f\"Found `{alias}` in params. Will use it instead of argument\")\n"
     ]
    },
    {
     "name": "stdout",
     "output_type": "stream",
     "text": [
      "[CV] END learning_rate=0.01, max_depth=10, min_data_in_leaf=100, num_iterations=100, num_leaves=50; total time=   1.3s\n",
      "[LightGBM] [Warning] min_data_in_leaf is set=100, min_child_samples=20 will be ignored. Current value: min_data_in_leaf=100\n"
     ]
    },
    {
     "name": "stderr",
     "output_type": "stream",
     "text": [
      "/home/slazien/.local/share/virtualenvs/linkedin_misinformation-xOmYosQV/lib/python3.8/site-packages/lightgbm/engine.py:177: UserWarning: Found `num_iterations` in params. Will use it instead of argument\n",
      "  _log_warning(f\"Found `{alias}` in params. Will use it instead of argument\")\n"
     ]
    },
    {
     "name": "stdout",
     "output_type": "stream",
     "text": [
      "[CV] END learning_rate=0.01, max_depth=10, min_data_in_leaf=100, num_iterations=100, num_leaves=50; total time=   1.3s\n",
      "[LightGBM] [Warning] min_data_in_leaf is set=100, min_child_samples=20 will be ignored. Current value: min_data_in_leaf=100\n"
     ]
    },
    {
     "name": "stderr",
     "output_type": "stream",
     "text": [
      "/home/slazien/.local/share/virtualenvs/linkedin_misinformation-xOmYosQV/lib/python3.8/site-packages/lightgbm/engine.py:177: UserWarning: Found `num_iterations` in params. Will use it instead of argument\n",
      "  _log_warning(f\"Found `{alias}` in params. Will use it instead of argument\")\n"
     ]
    },
    {
     "name": "stdout",
     "output_type": "stream",
     "text": [
      "[CV] END learning_rate=0.01, max_depth=10, min_data_in_leaf=100, num_iterations=100, num_leaves=50; total time=   1.3s\n",
      "[LightGBM] [Warning] min_data_in_leaf is set=100, min_child_samples=20 will be ignored. Current value: min_data_in_leaf=100\n"
     ]
    },
    {
     "name": "stderr",
     "output_type": "stream",
     "text": [
      "/home/slazien/.local/share/virtualenvs/linkedin_misinformation-xOmYosQV/lib/python3.8/site-packages/lightgbm/engine.py:177: UserWarning: Found `num_iterations` in params. Will use it instead of argument\n",
      "  _log_warning(f\"Found `{alias}` in params. Will use it instead of argument\")\n"
     ]
    },
    {
     "name": "stdout",
     "output_type": "stream",
     "text": [
      "[CV] END learning_rate=0.01, max_depth=10, min_data_in_leaf=100, num_iterations=100, num_leaves=50; total time=   1.3s\n",
      "[LightGBM] [Warning] min_data_in_leaf is set=100, min_child_samples=20 will be ignored. Current value: min_data_in_leaf=100\n",
      "[CV] END learning_rate=0.01, max_depth=10, min_data_in_leaf=10, num_iterations=500, num_leaves=10; total time=  28.1s\n",
      "[LightGBM] [Warning] min_data_in_leaf is set=100, min_child_samples=20 will be ignored. Current value: min_data_in_leaf=100\n"
     ]
    },
    {
     "name": "stderr",
     "output_type": "stream",
     "text": [
      "/home/slazien/.local/share/virtualenvs/linkedin_misinformation-xOmYosQV/lib/python3.8/site-packages/lightgbm/engine.py:177: UserWarning: Found `num_iterations` in params. Will use it instead of argument\n",
      "  _log_warning(f\"Found `{alias}` in params. Will use it instead of argument\")\n",
      "/home/slazien/.local/share/virtualenvs/linkedin_misinformation-xOmYosQV/lib/python3.8/site-packages/lightgbm/engine.py:177: UserWarning: Found `num_iterations` in params. Will use it instead of argument\n",
      "  _log_warning(f\"Found `{alias}` in params. Will use it instead of argument\")\n"
     ]
    },
    {
     "name": "stdout",
     "output_type": "stream",
     "text": [
      "[CV] END learning_rate=0.01, max_depth=10, min_data_in_leaf=100, num_iterations=100, num_leaves=50; total time=   1.3s\n",
      "[LightGBM] [Warning] min_data_in_leaf is set=100, min_child_samples=20 will be ignored. Current value: min_data_in_leaf=100\n"
     ]
    },
    {
     "name": "stderr",
     "output_type": "stream",
     "text": [
      "/home/slazien/.local/share/virtualenvs/linkedin_misinformation-xOmYosQV/lib/python3.8/site-packages/lightgbm/engine.py:177: UserWarning: Found `num_iterations` in params. Will use it instead of argument\n",
      "  _log_warning(f\"Found `{alias}` in params. Will use it instead of argument\")\n"
     ]
    },
    {
     "name": "stdout",
     "output_type": "stream",
     "text": [
      "[CV] END learning_rate=0.01, max_depth=10, min_data_in_leaf=100, num_iterations=500, num_leaves=10; total time=   5.1s\n",
      "[LightGBM] [Warning] min_data_in_leaf is set=100, min_child_samples=20 will be ignored. Current value: min_data_in_leaf=100\n"
     ]
    },
    {
     "name": "stderr",
     "output_type": "stream",
     "text": [
      "/home/slazien/.local/share/virtualenvs/linkedin_misinformation-xOmYosQV/lib/python3.8/site-packages/lightgbm/engine.py:177: UserWarning: Found `num_iterations` in params. Will use it instead of argument\n",
      "  _log_warning(f\"Found `{alias}` in params. Will use it instead of argument\")\n"
     ]
    },
    {
     "name": "stdout",
     "output_type": "stream",
     "text": [
      "[CV] END learning_rate=0.01, max_depth=10, min_data_in_leaf=100, num_iterations=500, num_leaves=10; total time=   5.3s\n",
      "[LightGBM] [Warning] min_data_in_leaf is set=100, min_child_samples=20 will be ignored. Current value: min_data_in_leaf=100\n",
      "[CV] END learning_rate=0.01, max_depth=10, min_data_in_leaf=100, num_iterations=500, num_leaves=10; total time=   5.2s\n",
      "[LightGBM] [Warning] min_data_in_leaf is set=100, min_child_samples=20 will be ignored. Current value: min_data_in_leaf=100\n"
     ]
    },
    {
     "name": "stderr",
     "output_type": "stream",
     "text": [
      "/home/slazien/.local/share/virtualenvs/linkedin_misinformation-xOmYosQV/lib/python3.8/site-packages/lightgbm/engine.py:177: UserWarning: Found `num_iterations` in params. Will use it instead of argument\n",
      "  _log_warning(f\"Found `{alias}` in params. Will use it instead of argument\")\n",
      "/home/slazien/.local/share/virtualenvs/linkedin_misinformation-xOmYosQV/lib/python3.8/site-packages/lightgbm/engine.py:177: UserWarning: Found `num_iterations` in params. Will use it instead of argument\n",
      "  _log_warning(f\"Found `{alias}` in params. Will use it instead of argument\")\n"
     ]
    },
    {
     "name": "stdout",
     "output_type": "stream",
     "text": [
      "[CV] END learning_rate=0.01, max_depth=10, min_data_in_leaf=100, num_iterations=500, num_leaves=10; total time=   5.2s\n",
      "[LightGBM] [Warning] min_data_in_leaf is set=100, min_child_samples=20 will be ignored. Current value: min_data_in_leaf=100\n"
     ]
    },
    {
     "name": "stderr",
     "output_type": "stream",
     "text": [
      "/home/slazien/.local/share/virtualenvs/linkedin_misinformation-xOmYosQV/lib/python3.8/site-packages/lightgbm/engine.py:177: UserWarning: Found `num_iterations` in params. Will use it instead of argument\n",
      "  _log_warning(f\"Found `{alias}` in params. Will use it instead of argument\")\n"
     ]
    },
    {
     "name": "stdout",
     "output_type": "stream",
     "text": [
      "[CV] END learning_rate=0.01, max_depth=10, min_data_in_leaf=100, num_iterations=500, num_leaves=50; total time=   5.4s\n",
      "[LightGBM] [Warning] min_data_in_leaf is set=100, min_child_samples=20 will be ignored. Current value: min_data_in_leaf=100\n",
      "[CV] END learning_rate=0.01, max_depth=10, min_data_in_leaf=100, num_iterations=500, num_leaves=10; total time=   5.4s\n",
      "[LightGBM] [Warning] min_data_in_leaf is set=100, min_child_samples=20 will be ignored. Current value: min_data_in_leaf=100\n"
     ]
    },
    {
     "name": "stderr",
     "output_type": "stream",
     "text": [
      "/home/slazien/.local/share/virtualenvs/linkedin_misinformation-xOmYosQV/lib/python3.8/site-packages/lightgbm/engine.py:177: UserWarning: Found `num_iterations` in params. Will use it instead of argument\n",
      "  _log_warning(f\"Found `{alias}` in params. Will use it instead of argument\")\n",
      "/home/slazien/.local/share/virtualenvs/linkedin_misinformation-xOmYosQV/lib/python3.8/site-packages/lightgbm/engine.py:177: UserWarning: Found `num_iterations` in params. Will use it instead of argument\n",
      "  _log_warning(f\"Found `{alias}` in params. Will use it instead of argument\")\n"
     ]
    },
    {
     "name": "stdout",
     "output_type": "stream",
     "text": [
      "[CV] END learning_rate=0.01, max_depth=10, min_data_in_leaf=100, num_iterations=500, num_leaves=50; total time=   5.2s\n",
      "[LightGBM] [Warning] min_data_in_leaf is set=100, min_child_samples=20 will be ignored. Current value: min_data_in_leaf=100\n"
     ]
    },
    {
     "name": "stderr",
     "output_type": "stream",
     "text": [
      "/home/slazien/.local/share/virtualenvs/linkedin_misinformation-xOmYosQV/lib/python3.8/site-packages/lightgbm/engine.py:177: UserWarning: Found `num_iterations` in params. Will use it instead of argument\n",
      "  _log_warning(f\"Found `{alias}` in params. Will use it instead of argument\")\n"
     ]
    },
    {
     "name": "stdout",
     "output_type": "stream",
     "text": [
      "[CV] END learning_rate=0.01, max_depth=10, min_data_in_leaf=100, num_iterations=500, num_leaves=50; total time=   5.2s\n",
      "[LightGBM] [Warning] min_data_in_leaf is set=500, min_child_samples=20 will be ignored. Current value: min_data_in_leaf=500\n",
      "[CV] END learning_rate=0.01, max_depth=10, min_data_in_leaf=500, num_iterations=100, num_leaves=10; total time=   0.1s\n",
      "[LightGBM] [Warning] min_data_in_leaf is set=500, min_child_samples=20 will be ignored. Current value: min_data_in_leaf=500\n",
      "[CV] END learning_rate=0.01, max_depth=10, min_data_in_leaf=100, num_iterations=500, num_leaves=50; total time=   5.3s\n",
      "[LightGBM] [Warning] min_data_in_leaf is set=500, min_child_samples=20 will be ignored. Current value: min_data_in_leaf=500\n",
      "[CV] END learning_rate=0.01, max_depth=10, min_data_in_leaf=500, num_iterations=100, num_leaves=10; total time=   0.1s\n"
     ]
    },
    {
     "name": "stderr",
     "output_type": "stream",
     "text": [
      "/home/slazien/.local/share/virtualenvs/linkedin_misinformation-xOmYosQV/lib/python3.8/site-packages/lightgbm/engine.py:177: UserWarning: Found `num_iterations` in params. Will use it instead of argument\n",
      "  _log_warning(f\"Found `{alias}` in params. Will use it instead of argument\")\n",
      "/home/slazien/.local/share/virtualenvs/linkedin_misinformation-xOmYosQV/lib/python3.8/site-packages/lightgbm/engine.py:177: UserWarning: Found `num_iterations` in params. Will use it instead of argument\n",
      "  _log_warning(f\"Found `{alias}` in params. Will use it instead of argument\")\n",
      "/home/slazien/.local/share/virtualenvs/linkedin_misinformation-xOmYosQV/lib/python3.8/site-packages/lightgbm/engine.py:177: UserWarning: Found `num_iterations` in params. Will use it instead of argument\n",
      "  _log_warning(f\"Found `{alias}` in params. Will use it instead of argument\")\n",
      "/home/slazien/.local/share/virtualenvs/linkedin_misinformation-xOmYosQV/lib/python3.8/site-packages/lightgbm/engine.py:177: UserWarning: Found `num_iterations` in params. Will use it instead of argument\n",
      "  _log_warning(f\"Found `{alias}` in params. Will use it instead of argument\")\n"
     ]
    },
    {
     "name": "stdout",
     "output_type": "stream",
     "text": [
      "[LightGBM] [Warning] min_data_in_leaf is set=500, min_child_samples=20 will be ignored. Current value: min_data_in_leaf=500\n",
      "[CV] END learning_rate=0.01, max_depth=10, min_data_in_leaf=500, num_iterations=100, num_leaves=10; total time=   0.1s\n",
      "[LightGBM] [Warning] min_data_in_leaf is set=500, min_child_samples=20 will be ignored. Current value: min_data_in_leaf=500\n",
      "[CV] END learning_rate=0.01, max_depth=10, min_data_in_leaf=500, num_iterations=100, num_leaves=10; total time=   0.1s\n",
      "[LightGBM] [Warning] min_data_in_leaf is set=500, min_child_samples=20 will be ignored. Current value: min_data_in_leaf=500\n",
      "[CV] END learning_rate=0.01, max_depth=10, min_data_in_leaf=500, num_iterations=100, num_leaves=10; total time=   0.1s\n",
      "[LightGBM] [Warning] min_data_in_leaf is set=500, min_child_samples=20 will be ignored. Current value: min_data_in_leaf=500\n",
      "[CV] END learning_rate=0.01, max_depth=10, min_data_in_leaf=500, num_iterations=100, num_leaves=50; total time=   0.1s\n",
      "[LightGBM] [Warning] min_data_in_leaf is set=500, min_child_samples=20 will be ignored. Current value: min_data_in_leaf=500\n"
     ]
    },
    {
     "name": "stderr",
     "output_type": "stream",
     "text": [
      "/home/slazien/.local/share/virtualenvs/linkedin_misinformation-xOmYosQV/lib/python3.8/site-packages/lightgbm/engine.py:177: UserWarning: Found `num_iterations` in params. Will use it instead of argument\n",
      "  _log_warning(f\"Found `{alias}` in params. Will use it instead of argument\")\n",
      "/home/slazien/.local/share/virtualenvs/linkedin_misinformation-xOmYosQV/lib/python3.8/site-packages/lightgbm/engine.py:177: UserWarning: Found `num_iterations` in params. Will use it instead of argument\n",
      "  _log_warning(f\"Found `{alias}` in params. Will use it instead of argument\")\n",
      "/home/slazien/.local/share/virtualenvs/linkedin_misinformation-xOmYosQV/lib/python3.8/site-packages/lightgbm/engine.py:177: UserWarning: Found `num_iterations` in params. Will use it instead of argument\n",
      "  _log_warning(f\"Found `{alias}` in params. Will use it instead of argument\")\n",
      "/home/slazien/.local/share/virtualenvs/linkedin_misinformation-xOmYosQV/lib/python3.8/site-packages/lightgbm/engine.py:177: UserWarning: Found `num_iterations` in params. Will use it instead of argument\n",
      "  _log_warning(f\"Found `{alias}` in params. Will use it instead of argument\")\n",
      "/home/slazien/.local/share/virtualenvs/linkedin_misinformation-xOmYosQV/lib/python3.8/site-packages/lightgbm/engine.py:177: UserWarning: Found `num_iterations` in params. Will use it instead of argument\n",
      "  _log_warning(f\"Found `{alias}` in params. Will use it instead of argument\")\n"
     ]
    },
    {
     "name": "stdout",
     "output_type": "stream",
     "text": [
      "[CV] END learning_rate=0.01, max_depth=10, min_data_in_leaf=500, num_iterations=100, num_leaves=50; total time=   0.1s\n",
      "[LightGBM] [Warning] min_data_in_leaf is set=500, min_child_samples=20 will be ignored. Current value: min_data_in_leaf=500\n",
      "[CV] END learning_rate=0.01, max_depth=10, min_data_in_leaf=500, num_iterations=100, num_leaves=50; total time=   0.1s\n",
      "[LightGBM] [Warning] min_data_in_leaf is set=500, min_child_samples=20 will be ignored. Current value: min_data_in_leaf=500\n",
      "[CV] END learning_rate=0.01, max_depth=10, min_data_in_leaf=500, num_iterations=100, num_leaves=50; total time=   0.1s\n",
      "[LightGBM] [Warning] min_data_in_leaf is set=500, min_child_samples=20 will be ignored. Current value: min_data_in_leaf=500\n",
      "[CV] END learning_rate=0.01, max_depth=10, min_data_in_leaf=500, num_iterations=100, num_leaves=50; total time=   0.1s\n",
      "[LightGBM] [Warning] min_data_in_leaf is set=500, min_child_samples=20 will be ignored. Current value: min_data_in_leaf=500\n",
      "[CV] END learning_rate=0.01, max_depth=10, min_data_in_leaf=500, num_iterations=500, num_leaves=10; total time=   0.1s\n",
      "[LightGBM] [Warning] min_data_in_leaf is set=500, min_child_samples=20 will be ignored. Current value: min_data_in_leaf=500\n"
     ]
    },
    {
     "name": "stderr",
     "output_type": "stream",
     "text": [
      "/home/slazien/.local/share/virtualenvs/linkedin_misinformation-xOmYosQV/lib/python3.8/site-packages/lightgbm/engine.py:177: UserWarning: Found `num_iterations` in params. Will use it instead of argument\n",
      "  _log_warning(f\"Found `{alias}` in params. Will use it instead of argument\")\n",
      "/home/slazien/.local/share/virtualenvs/linkedin_misinformation-xOmYosQV/lib/python3.8/site-packages/lightgbm/engine.py:177: UserWarning: Found `num_iterations` in params. Will use it instead of argument\n",
      "  _log_warning(f\"Found `{alias}` in params. Will use it instead of argument\")\n",
      "/home/slazien/.local/share/virtualenvs/linkedin_misinformation-xOmYosQV/lib/python3.8/site-packages/lightgbm/engine.py:177: UserWarning: Found `num_iterations` in params. Will use it instead of argument\n",
      "  _log_warning(f\"Found `{alias}` in params. Will use it instead of argument\")\n",
      "/home/slazien/.local/share/virtualenvs/linkedin_misinformation-xOmYosQV/lib/python3.8/site-packages/lightgbm/engine.py:177: UserWarning: Found `num_iterations` in params. Will use it instead of argument\n",
      "  _log_warning(f\"Found `{alias}` in params. Will use it instead of argument\")\n",
      "/home/slazien/.local/share/virtualenvs/linkedin_misinformation-xOmYosQV/lib/python3.8/site-packages/lightgbm/engine.py:177: UserWarning: Found `num_iterations` in params. Will use it instead of argument\n",
      "  _log_warning(f\"Found `{alias}` in params. Will use it instead of argument\")\n"
     ]
    },
    {
     "name": "stdout",
     "output_type": "stream",
     "text": [
      "[CV] END learning_rate=0.01, max_depth=10, min_data_in_leaf=500, num_iterations=500, num_leaves=10; total time=   0.1s\n",
      "[LightGBM] [Warning] min_data_in_leaf is set=500, min_child_samples=20 will be ignored. Current value: min_data_in_leaf=500\n",
      "[CV] END learning_rate=0.01, max_depth=10, min_data_in_leaf=500, num_iterations=500, num_leaves=10; total time=   0.1s\n",
      "[LightGBM] [Warning] min_data_in_leaf is set=500, min_child_samples=20 will be ignored. Current value: min_data_in_leaf=500\n",
      "[CV] END learning_rate=0.01, max_depth=10, min_data_in_leaf=500, num_iterations=500, num_leaves=10; total time=   0.1s\n",
      "[LightGBM] [Warning] min_data_in_leaf is set=500, min_child_samples=20 will be ignored. Current value: min_data_in_leaf=500\n",
      "[CV] END learning_rate=0.01, max_depth=10, min_data_in_leaf=500, num_iterations=500, num_leaves=10; total time=   0.1s\n",
      "[LightGBM] [Warning] min_data_in_leaf is set=500, min_child_samples=20 will be ignored. Current value: min_data_in_leaf=500\n"
     ]
    },
    {
     "name": "stderr",
     "output_type": "stream",
     "text": [
      "/home/slazien/.local/share/virtualenvs/linkedin_misinformation-xOmYosQV/lib/python3.8/site-packages/lightgbm/engine.py:177: UserWarning: Found `num_iterations` in params. Will use it instead of argument\n",
      "  _log_warning(f\"Found `{alias}` in params. Will use it instead of argument\")\n",
      "/home/slazien/.local/share/virtualenvs/linkedin_misinformation-xOmYosQV/lib/python3.8/site-packages/lightgbm/engine.py:177: UserWarning: Found `num_iterations` in params. Will use it instead of argument\n",
      "  _log_warning(f\"Found `{alias}` in params. Will use it instead of argument\")\n",
      "/home/slazien/.local/share/virtualenvs/linkedin_misinformation-xOmYosQV/lib/python3.8/site-packages/lightgbm/engine.py:177: UserWarning: Found `num_iterations` in params. Will use it instead of argument\n",
      "  _log_warning(f\"Found `{alias}` in params. Will use it instead of argument\")\n",
      "/home/slazien/.local/share/virtualenvs/linkedin_misinformation-xOmYosQV/lib/python3.8/site-packages/lightgbm/engine.py:177: UserWarning: Found `num_iterations` in params. Will use it instead of argument\n",
      "  _log_warning(f\"Found `{alias}` in params. Will use it instead of argument\")\n"
     ]
    },
    {
     "name": "stdout",
     "output_type": "stream",
     "text": [
      "[CV] END learning_rate=0.01, max_depth=10, min_data_in_leaf=500, num_iterations=500, num_leaves=50; total time=   0.1s\n",
      "[LightGBM] [Warning] min_data_in_leaf is set=500, min_child_samples=20 will be ignored. Current value: min_data_in_leaf=500\n",
      "[CV] END learning_rate=0.01, max_depth=10, min_data_in_leaf=500, num_iterations=500, num_leaves=50; total time=   0.1s\n",
      "[LightGBM] [Warning] min_data_in_leaf is set=500, min_child_samples=20 will be ignored. Current value: min_data_in_leaf=500\n",
      "[CV] END learning_rate=0.01, max_depth=10, min_data_in_leaf=500, num_iterations=500, num_leaves=50; total time=   0.1s\n",
      "[LightGBM] [Warning] min_data_in_leaf is set=500, min_child_samples=20 will be ignored. Current value: min_data_in_leaf=500\n",
      "[CV] END learning_rate=0.01, max_depth=10, min_data_in_leaf=500, num_iterations=500, num_leaves=50; total time=   0.1s\n",
      "[LightGBM] [Warning] min_data_in_leaf is set=10, min_child_samples=20 will be ignored. Current value: min_data_in_leaf=10\n",
      "[CV] END learning_rate=0.01, max_depth=10, min_data_in_leaf=500, num_iterations=500, num_leaves=50; total time=   0.1s\n"
     ]
    },
    {
     "name": "stderr",
     "output_type": "stream",
     "text": [
      "/home/slazien/.local/share/virtualenvs/linkedin_misinformation-xOmYosQV/lib/python3.8/site-packages/lightgbm/engine.py:177: UserWarning: Found `num_iterations` in params. Will use it instead of argument\n",
      "  _log_warning(f\"Found `{alias}` in params. Will use it instead of argument\")\n",
      "/home/slazien/.local/share/virtualenvs/linkedin_misinformation-xOmYosQV/lib/python3.8/site-packages/lightgbm/engine.py:177: UserWarning: Found `num_iterations` in params. Will use it instead of argument\n",
      "  _log_warning(f\"Found `{alias}` in params. Will use it instead of argument\")\n",
      "/home/slazien/.local/share/virtualenvs/linkedin_misinformation-xOmYosQV/lib/python3.8/site-packages/lightgbm/engine.py:177: UserWarning: Found `num_iterations` in params. Will use it instead of argument\n",
      "  _log_warning(f\"Found `{alias}` in params. Will use it instead of argument\")\n",
      "/home/slazien/.local/share/virtualenvs/linkedin_misinformation-xOmYosQV/lib/python3.8/site-packages/lightgbm/engine.py:177: UserWarning: Found `num_iterations` in params. Will use it instead of argument\n",
      "  _log_warning(f\"Found `{alias}` in params. Will use it instead of argument\")\n"
     ]
    },
    {
     "name": "stdout",
     "output_type": "stream",
     "text": [
      "[LightGBM] [Warning] min_data_in_leaf is set=10, min_child_samples=20 will be ignored. Current value: min_data_in_leaf=10\n",
      "[CV] END learning_rate=0.01, max_depth=10, min_data_in_leaf=100, num_iterations=500, num_leaves=50; total time=   5.2s\n",
      "[LightGBM] [Warning] min_data_in_leaf is set=10, min_child_samples=20 will be ignored. Current value: min_data_in_leaf=10\n"
     ]
    },
    {
     "name": "stderr",
     "output_type": "stream",
     "text": [
      "/home/slazien/.local/share/virtualenvs/linkedin_misinformation-xOmYosQV/lib/python3.8/site-packages/lightgbm/engine.py:177: UserWarning: Found `num_iterations` in params. Will use it instead of argument\n",
      "  _log_warning(f\"Found `{alias}` in params. Will use it instead of argument\")\n"
     ]
    },
    {
     "name": "stdout",
     "output_type": "stream",
     "text": [
      "[CV] END learning_rate=0.1, max_depth=-1, min_data_in_leaf=10, num_iterations=100, num_leaves=10; total time=   5.4s\n",
      "[LightGBM] [Warning] min_data_in_leaf is set=10, min_child_samples=20 will be ignored. Current value: min_data_in_leaf=10\n",
      "[CV] END learning_rate=0.1, max_depth=-1, min_data_in_leaf=10, num_iterations=100, num_leaves=10; total time=   5.5s\n",
      "[LightGBM] [Warning] min_data_in_leaf is set=10, min_child_samples=20 will be ignored. Current value: min_data_in_leaf=10\n"
     ]
    },
    {
     "name": "stderr",
     "output_type": "stream",
     "text": [
      "/home/slazien/.local/share/virtualenvs/linkedin_misinformation-xOmYosQV/lib/python3.8/site-packages/lightgbm/engine.py:177: UserWarning: Found `num_iterations` in params. Will use it instead of argument\n",
      "  _log_warning(f\"Found `{alias}` in params. Will use it instead of argument\")\n",
      "/home/slazien/.local/share/virtualenvs/linkedin_misinformation-xOmYosQV/lib/python3.8/site-packages/lightgbm/engine.py:177: UserWarning: Found `num_iterations` in params. Will use it instead of argument\n",
      "  _log_warning(f\"Found `{alias}` in params. Will use it instead of argument\")\n"
     ]
    },
    {
     "name": "stdout",
     "output_type": "stream",
     "text": [
      "[CV] END learning_rate=0.1, max_depth=-1, min_data_in_leaf=10, num_iterations=100, num_leaves=10; total time=   5.7s\n",
      "[LightGBM] [Warning] min_data_in_leaf is set=10, min_child_samples=20 will be ignored. Current value: min_data_in_leaf=10\n"
     ]
    },
    {
     "name": "stderr",
     "output_type": "stream",
     "text": [
      "/home/slazien/.local/share/virtualenvs/linkedin_misinformation-xOmYosQV/lib/python3.8/site-packages/lightgbm/engine.py:177: UserWarning: Found `num_iterations` in params. Will use it instead of argument\n",
      "  _log_warning(f\"Found `{alias}` in params. Will use it instead of argument\")\n"
     ]
    },
    {
     "name": "stdout",
     "output_type": "stream",
     "text": [
      "[CV] END learning_rate=0.1, max_depth=-1, min_data_in_leaf=10, num_iterations=100, num_leaves=10; total time=   5.7s\n",
      "[LightGBM] [Warning] min_data_in_leaf is set=10, min_child_samples=20 will be ignored. Current value: min_data_in_leaf=10\n",
      "[CV] END learning_rate=0.1, max_depth=-1, min_data_in_leaf=10, num_iterations=100, num_leaves=10; total time=   5.9s\n",
      "[LightGBM] [Warning] min_data_in_leaf is set=10, min_child_samples=20 will be ignored. Current value: min_data_in_leaf=10\n"
     ]
    },
    {
     "name": "stderr",
     "output_type": "stream",
     "text": [
      "/home/slazien/.local/share/virtualenvs/linkedin_misinformation-xOmYosQV/lib/python3.8/site-packages/lightgbm/engine.py:177: UserWarning: Found `num_iterations` in params. Will use it instead of argument\n",
      "  _log_warning(f\"Found `{alias}` in params. Will use it instead of argument\")\n",
      "/home/slazien/.local/share/virtualenvs/linkedin_misinformation-xOmYosQV/lib/python3.8/site-packages/lightgbm/engine.py:177: UserWarning: Found `num_iterations` in params. Will use it instead of argument\n",
      "  _log_warning(f\"Found `{alias}` in params. Will use it instead of argument\")\n"
     ]
    },
    {
     "name": "stdout",
     "output_type": "stream",
     "text": [
      "[CV] END learning_rate=0.01, max_depth=10, min_data_in_leaf=10, num_iterations=500, num_leaves=50; total time=  59.1s\n",
      "[LightGBM] [Warning] min_data_in_leaf is set=10, min_child_samples=20 will be ignored. Current value: min_data_in_leaf=10\n"
     ]
    },
    {
     "name": "stderr",
     "output_type": "stream",
     "text": [
      "/home/slazien/.local/share/virtualenvs/linkedin_misinformation-xOmYosQV/lib/python3.8/site-packages/lightgbm/engine.py:177: UserWarning: Found `num_iterations` in params. Will use it instead of argument\n",
      "  _log_warning(f\"Found `{alias}` in params. Will use it instead of argument\")\n"
     ]
    },
    {
     "name": "stdout",
     "output_type": "stream",
     "text": [
      "[CV] END learning_rate=0.01, max_depth=10, min_data_in_leaf=10, num_iterations=500, num_leaves=50; total time= 1.0min\n",
      "[LightGBM] [Warning] min_data_in_leaf is set=10, min_child_samples=20 will be ignored. Current value: min_data_in_leaf=10\n"
     ]
    },
    {
     "name": "stderr",
     "output_type": "stream",
     "text": [
      "/home/slazien/.local/share/virtualenvs/linkedin_misinformation-xOmYosQV/lib/python3.8/site-packages/lightgbm/engine.py:177: UserWarning: Found `num_iterations` in params. Will use it instead of argument\n",
      "  _log_warning(f\"Found `{alias}` in params. Will use it instead of argument\")\n"
     ]
    },
    {
     "name": "stdout",
     "output_type": "stream",
     "text": [
      "[CV] END learning_rate=0.1, max_depth=-1, min_data_in_leaf=10, num_iterations=100, num_leaves=50; total time=  13.8s\n",
      "[LightGBM] [Warning] min_data_in_leaf is set=10, min_child_samples=20 will be ignored. Current value: min_data_in_leaf=10\n"
     ]
    },
    {
     "name": "stderr",
     "output_type": "stream",
     "text": [
      "/home/slazien/.local/share/virtualenvs/linkedin_misinformation-xOmYosQV/lib/python3.8/site-packages/lightgbm/engine.py:177: UserWarning: Found `num_iterations` in params. Will use it instead of argument\n",
      "  _log_warning(f\"Found `{alias}` in params. Will use it instead of argument\")\n"
     ]
    },
    {
     "name": "stdout",
     "output_type": "stream",
     "text": [
      "[CV] END learning_rate=0.01, max_depth=10, min_data_in_leaf=10, num_iterations=500, num_leaves=50; total time= 1.0min\n",
      "[LightGBM] [Warning] min_data_in_leaf is set=10, min_child_samples=20 will be ignored. Current value: min_data_in_leaf=10\n"
     ]
    },
    {
     "name": "stderr",
     "output_type": "stream",
     "text": [
      "/home/slazien/.local/share/virtualenvs/linkedin_misinformation-xOmYosQV/lib/python3.8/site-packages/lightgbm/engine.py:177: UserWarning: Found `num_iterations` in params. Will use it instead of argument\n",
      "  _log_warning(f\"Found `{alias}` in params. Will use it instead of argument\")\n"
     ]
    },
    {
     "name": "stdout",
     "output_type": "stream",
     "text": [
      "[CV] END learning_rate=0.1, max_depth=-1, min_data_in_leaf=10, num_iterations=100, num_leaves=50; total time=  14.8s\n",
      "[LightGBM] [Warning] min_data_in_leaf is set=10, min_child_samples=20 will be ignored. Current value: min_data_in_leaf=10\n"
     ]
    },
    {
     "name": "stderr",
     "output_type": "stream",
     "text": [
      "/home/slazien/.local/share/virtualenvs/linkedin_misinformation-xOmYosQV/lib/python3.8/site-packages/lightgbm/engine.py:177: UserWarning: Found `num_iterations` in params. Will use it instead of argument\n",
      "  _log_warning(f\"Found `{alias}` in params. Will use it instead of argument\")\n"
     ]
    },
    {
     "name": "stdout",
     "output_type": "stream",
     "text": [
      "[CV] END learning_rate=0.1, max_depth=-1, min_data_in_leaf=10, num_iterations=100, num_leaves=50; total time=  17.3s\n",
      "[LightGBM] [Warning] min_data_in_leaf is set=10, min_child_samples=20 will be ignored. Current value: min_data_in_leaf=10\n"
     ]
    },
    {
     "name": "stderr",
     "output_type": "stream",
     "text": [
      "/home/slazien/.local/share/virtualenvs/linkedin_misinformation-xOmYosQV/lib/python3.8/site-packages/lightgbm/engine.py:177: UserWarning: Found `num_iterations` in params. Will use it instead of argument\n",
      "  _log_warning(f\"Found `{alias}` in params. Will use it instead of argument\")\n"
     ]
    },
    {
     "name": "stdout",
     "output_type": "stream",
     "text": [
      "[CV] END learning_rate=0.1, max_depth=-1, min_data_in_leaf=10, num_iterations=100, num_leaves=50; total time=  15.2s\n",
      "[LightGBM] [Warning] min_data_in_leaf is set=10, min_child_samples=20 will be ignored. Current value: min_data_in_leaf=10\n"
     ]
    },
    {
     "name": "stderr",
     "output_type": "stream",
     "text": [
      "/home/slazien/.local/share/virtualenvs/linkedin_misinformation-xOmYosQV/lib/python3.8/site-packages/lightgbm/engine.py:177: UserWarning: Found `num_iterations` in params. Will use it instead of argument\n",
      "  _log_warning(f\"Found `{alias}` in params. Will use it instead of argument\")\n"
     ]
    },
    {
     "name": "stdout",
     "output_type": "stream",
     "text": [
      "[CV] END learning_rate=0.1, max_depth=-1, min_data_in_leaf=10, num_iterations=100, num_leaves=50; total time=  14.9s\n",
      "[LightGBM] [Warning] min_data_in_leaf is set=10, min_child_samples=20 will be ignored. Current value: min_data_in_leaf=10\n"
     ]
    },
    {
     "name": "stderr",
     "output_type": "stream",
     "text": [
      "/home/slazien/.local/share/virtualenvs/linkedin_misinformation-xOmYosQV/lib/python3.8/site-packages/lightgbm/engine.py:177: UserWarning: Found `num_iterations` in params. Will use it instead of argument\n",
      "  _log_warning(f\"Found `{alias}` in params. Will use it instead of argument\")\n"
     ]
    },
    {
     "name": "stdout",
     "output_type": "stream",
     "text": [
      "[CV] END learning_rate=0.01, max_depth=10, min_data_in_leaf=10, num_iterations=500, num_leaves=50; total time= 1.0min\n",
      "[LightGBM] [Warning] min_data_in_leaf is set=10, min_child_samples=20 will be ignored. Current value: min_data_in_leaf=10\n"
     ]
    },
    {
     "name": "stderr",
     "output_type": "stream",
     "text": [
      "/home/slazien/.local/share/virtualenvs/linkedin_misinformation-xOmYosQV/lib/python3.8/site-packages/lightgbm/engine.py:177: UserWarning: Found `num_iterations` in params. Will use it instead of argument\n",
      "  _log_warning(f\"Found `{alias}` in params. Will use it instead of argument\")\n"
     ]
    },
    {
     "name": "stdout",
     "output_type": "stream",
     "text": [
      "[CV] END learning_rate=0.01, max_depth=10, min_data_in_leaf=10, num_iterations=500, num_leaves=50; total time= 1.1min\n",
      "[LightGBM] [Warning] min_data_in_leaf is set=10, min_child_samples=20 will be ignored. Current value: min_data_in_leaf=10\n"
     ]
    },
    {
     "name": "stderr",
     "output_type": "stream",
     "text": [
      "/home/slazien/.local/share/virtualenvs/linkedin_misinformation-xOmYosQV/lib/python3.8/site-packages/lightgbm/engine.py:177: UserWarning: Found `num_iterations` in params. Will use it instead of argument\n",
      "  _log_warning(f\"Found `{alias}` in params. Will use it instead of argument\")\n"
     ]
    },
    {
     "name": "stdout",
     "output_type": "stream",
     "text": [
      "[CV] END learning_rate=0.1, max_depth=-1, min_data_in_leaf=10, num_iterations=500, num_leaves=10; total time=  17.6s\n",
      "[LightGBM] [Warning] min_data_in_leaf is set=10, min_child_samples=20 will be ignored. Current value: min_data_in_leaf=10\n"
     ]
    },
    {
     "name": "stderr",
     "output_type": "stream",
     "text": [
      "/home/slazien/.local/share/virtualenvs/linkedin_misinformation-xOmYosQV/lib/python3.8/site-packages/lightgbm/engine.py:177: UserWarning: Found `num_iterations` in params. Will use it instead of argument\n",
      "  _log_warning(f\"Found `{alias}` in params. Will use it instead of argument\")\n"
     ]
    },
    {
     "name": "stdout",
     "output_type": "stream",
     "text": [
      "[CV] END learning_rate=0.1, max_depth=-1, min_data_in_leaf=10, num_iterations=500, num_leaves=10; total time=  16.5s\n",
      "[LightGBM] [Warning] min_data_in_leaf is set=10, min_child_samples=20 will be ignored. Current value: min_data_in_leaf=10\n"
     ]
    },
    {
     "name": "stderr",
     "output_type": "stream",
     "text": [
      "/home/slazien/.local/share/virtualenvs/linkedin_misinformation-xOmYosQV/lib/python3.8/site-packages/lightgbm/engine.py:177: UserWarning: Found `num_iterations` in params. Will use it instead of argument\n",
      "  _log_warning(f\"Found `{alias}` in params. Will use it instead of argument\")\n"
     ]
    },
    {
     "name": "stdout",
     "output_type": "stream",
     "text": [
      "[CV] END learning_rate=0.1, max_depth=-1, min_data_in_leaf=10, num_iterations=500, num_leaves=10; total time=  16.6s\n",
      "[LightGBM] [Warning] min_data_in_leaf is set=100, min_child_samples=20 will be ignored. Current value: min_data_in_leaf=100\n"
     ]
    },
    {
     "name": "stderr",
     "output_type": "stream",
     "text": [
      "/home/slazien/.local/share/virtualenvs/linkedin_misinformation-xOmYosQV/lib/python3.8/site-packages/lightgbm/engine.py:177: UserWarning: Found `num_iterations` in params. Will use it instead of argument\n",
      "  _log_warning(f\"Found `{alias}` in params. Will use it instead of argument\")\n"
     ]
    },
    {
     "name": "stdout",
     "output_type": "stream",
     "text": [
      "[CV] END learning_rate=0.1, max_depth=-1, min_data_in_leaf=100, num_iterations=100, num_leaves=10; total time=   1.6s\n",
      "[LightGBM] [Warning] min_data_in_leaf is set=100, min_child_samples=20 will be ignored. Current value: min_data_in_leaf=100\n"
     ]
    },
    {
     "name": "stderr",
     "output_type": "stream",
     "text": [
      "/home/slazien/.local/share/virtualenvs/linkedin_misinformation-xOmYosQV/lib/python3.8/site-packages/lightgbm/engine.py:177: UserWarning: Found `num_iterations` in params. Will use it instead of argument\n",
      "  _log_warning(f\"Found `{alias}` in params. Will use it instead of argument\")\n"
     ]
    },
    {
     "name": "stdout",
     "output_type": "stream",
     "text": [
      "[CV] END learning_rate=0.1, max_depth=-1, min_data_in_leaf=10, num_iterations=500, num_leaves=10; total time=  16.6s\n",
      "[LightGBM] [Warning] min_data_in_leaf is set=100, min_child_samples=20 will be ignored. Current value: min_data_in_leaf=100\n"
     ]
    },
    {
     "name": "stderr",
     "output_type": "stream",
     "text": [
      "/home/slazien/.local/share/virtualenvs/linkedin_misinformation-xOmYosQV/lib/python3.8/site-packages/lightgbm/engine.py:177: UserWarning: Found `num_iterations` in params. Will use it instead of argument\n",
      "  _log_warning(f\"Found `{alias}` in params. Will use it instead of argument\")\n"
     ]
    },
    {
     "name": "stdout",
     "output_type": "stream",
     "text": [
      "[CV] END learning_rate=0.1, max_depth=-1, min_data_in_leaf=100, num_iterations=100, num_leaves=10; total time=   1.3s\n",
      "[LightGBM] [Warning] min_data_in_leaf is set=100, min_child_samples=20 will be ignored. Current value: min_data_in_leaf=100\n"
     ]
    },
    {
     "name": "stderr",
     "output_type": "stream",
     "text": [
      "/home/slazien/.local/share/virtualenvs/linkedin_misinformation-xOmYosQV/lib/python3.8/site-packages/lightgbm/engine.py:177: UserWarning: Found `num_iterations` in params. Will use it instead of argument\n",
      "  _log_warning(f\"Found `{alias}` in params. Will use it instead of argument\")\n"
     ]
    },
    {
     "name": "stdout",
     "output_type": "stream",
     "text": [
      "[CV] END learning_rate=0.1, max_depth=-1, min_data_in_leaf=100, num_iterations=100, num_leaves=10; total time=   1.2s\n",
      "[LightGBM] [Warning] min_data_in_leaf is set=100, min_child_samples=20 will be ignored. Current value: min_data_in_leaf=100\n"
     ]
    },
    {
     "name": "stderr",
     "output_type": "stream",
     "text": [
      "/home/slazien/.local/share/virtualenvs/linkedin_misinformation-xOmYosQV/lib/python3.8/site-packages/lightgbm/engine.py:177: UserWarning: Found `num_iterations` in params. Will use it instead of argument\n",
      "  _log_warning(f\"Found `{alias}` in params. Will use it instead of argument\")\n"
     ]
    },
    {
     "name": "stdout",
     "output_type": "stream",
     "text": [
      "[CV] END learning_rate=0.1, max_depth=-1, min_data_in_leaf=100, num_iterations=100, num_leaves=10; total time=   1.3s\n",
      "[LightGBM] [Warning] min_data_in_leaf is set=100, min_child_samples=20 will be ignored. Current value: min_data_in_leaf=100\n"
     ]
    },
    {
     "name": "stderr",
     "output_type": "stream",
     "text": [
      "/home/slazien/.local/share/virtualenvs/linkedin_misinformation-xOmYosQV/lib/python3.8/site-packages/lightgbm/engine.py:177: UserWarning: Found `num_iterations` in params. Will use it instead of argument\n",
      "  _log_warning(f\"Found `{alias}` in params. Will use it instead of argument\")\n"
     ]
    },
    {
     "name": "stdout",
     "output_type": "stream",
     "text": [
      "[CV] END learning_rate=0.1, max_depth=-1, min_data_in_leaf=100, num_iterations=100, num_leaves=10; total time=   1.3s\n",
      "[LightGBM] [Warning] min_data_in_leaf is set=100, min_child_samples=20 will be ignored. Current value: min_data_in_leaf=100\n"
     ]
    },
    {
     "name": "stderr",
     "output_type": "stream",
     "text": [
      "/home/slazien/.local/share/virtualenvs/linkedin_misinformation-xOmYosQV/lib/python3.8/site-packages/lightgbm/engine.py:177: UserWarning: Found `num_iterations` in params. Will use it instead of argument\n",
      "  _log_warning(f\"Found `{alias}` in params. Will use it instead of argument\")\n"
     ]
    },
    {
     "name": "stdout",
     "output_type": "stream",
     "text": [
      "[CV] END learning_rate=0.1, max_depth=-1, min_data_in_leaf=100, num_iterations=100, num_leaves=50; total time=   1.4s\n",
      "[LightGBM] [Warning] min_data_in_leaf is set=100, min_child_samples=20 will be ignored. Current value: min_data_in_leaf=100\n"
     ]
    },
    {
     "name": "stderr",
     "output_type": "stream",
     "text": [
      "/home/slazien/.local/share/virtualenvs/linkedin_misinformation-xOmYosQV/lib/python3.8/site-packages/lightgbm/engine.py:177: UserWarning: Found `num_iterations` in params. Will use it instead of argument\n",
      "  _log_warning(f\"Found `{alias}` in params. Will use it instead of argument\")\n"
     ]
    },
    {
     "name": "stdout",
     "output_type": "stream",
     "text": [
      "[CV] END learning_rate=0.1, max_depth=-1, min_data_in_leaf=100, num_iterations=100, num_leaves=50; total time=   1.3s\n",
      "[LightGBM] [Warning] min_data_in_leaf is set=100, min_child_samples=20 will be ignored. Current value: min_data_in_leaf=100\n"
     ]
    },
    {
     "name": "stderr",
     "output_type": "stream",
     "text": [
      "/home/slazien/.local/share/virtualenvs/linkedin_misinformation-xOmYosQV/lib/python3.8/site-packages/lightgbm/engine.py:177: UserWarning: Found `num_iterations` in params. Will use it instead of argument\n",
      "  _log_warning(f\"Found `{alias}` in params. Will use it instead of argument\")\n"
     ]
    },
    {
     "name": "stdout",
     "output_type": "stream",
     "text": [
      "[CV] END learning_rate=0.1, max_depth=-1, min_data_in_leaf=100, num_iterations=100, num_leaves=50; total time=   1.4s\n",
      "[LightGBM] [Warning] min_data_in_leaf is set=100, min_child_samples=20 will be ignored. Current value: min_data_in_leaf=100\n"
     ]
    },
    {
     "name": "stderr",
     "output_type": "stream",
     "text": [
      "/home/slazien/.local/share/virtualenvs/linkedin_misinformation-xOmYosQV/lib/python3.8/site-packages/lightgbm/engine.py:177: UserWarning: Found `num_iterations` in params. Will use it instead of argument\n",
      "  _log_warning(f\"Found `{alias}` in params. Will use it instead of argument\")\n"
     ]
    },
    {
     "name": "stdout",
     "output_type": "stream",
     "text": [
      "[CV] END learning_rate=0.1, max_depth=-1, min_data_in_leaf=100, num_iterations=100, num_leaves=50; total time=   1.3s\n",
      "[LightGBM] [Warning] min_data_in_leaf is set=100, min_child_samples=20 will be ignored. Current value: min_data_in_leaf=100\n"
     ]
    },
    {
     "name": "stderr",
     "output_type": "stream",
     "text": [
      "/home/slazien/.local/share/virtualenvs/linkedin_misinformation-xOmYosQV/lib/python3.8/site-packages/lightgbm/engine.py:177: UserWarning: Found `num_iterations` in params. Will use it instead of argument\n",
      "  _log_warning(f\"Found `{alias}` in params. Will use it instead of argument\")\n"
     ]
    },
    {
     "name": "stdout",
     "output_type": "stream",
     "text": [
      "[CV] END learning_rate=0.1, max_depth=-1, min_data_in_leaf=100, num_iterations=100, num_leaves=50; total time=   1.4s\n",
      "[LightGBM] [Warning] min_data_in_leaf is set=100, min_child_samples=20 will be ignored. Current value: min_data_in_leaf=100\n",
      "[CV] END learning_rate=0.1, max_depth=-1, min_data_in_leaf=10, num_iterations=500, num_leaves=10; total time=  15.5s\n",
      "[LightGBM] [Warning] min_data_in_leaf is set=100, min_child_samples=20 will be ignored. Current value: min_data_in_leaf=100\n"
     ]
    },
    {
     "name": "stderr",
     "output_type": "stream",
     "text": [
      "/home/slazien/.local/share/virtualenvs/linkedin_misinformation-xOmYosQV/lib/python3.8/site-packages/lightgbm/engine.py:177: UserWarning: Found `num_iterations` in params. Will use it instead of argument\n",
      "  _log_warning(f\"Found `{alias}` in params. Will use it instead of argument\")\n",
      "/home/slazien/.local/share/virtualenvs/linkedin_misinformation-xOmYosQV/lib/python3.8/site-packages/lightgbm/engine.py:177: UserWarning: Found `num_iterations` in params. Will use it instead of argument\n",
      "  _log_warning(f\"Found `{alias}` in params. Will use it instead of argument\")\n"
     ]
    },
    {
     "name": "stdout",
     "output_type": "stream",
     "text": [
      "[CV] END learning_rate=0.1, max_depth=-1, min_data_in_leaf=100, num_iterations=500, num_leaves=10; total time=   5.1s\n",
      "[LightGBM] [Warning] min_data_in_leaf is set=100, min_child_samples=20 will be ignored. Current value: min_data_in_leaf=100\n"
     ]
    },
    {
     "name": "stderr",
     "output_type": "stream",
     "text": [
      "/home/slazien/.local/share/virtualenvs/linkedin_misinformation-xOmYosQV/lib/python3.8/site-packages/lightgbm/engine.py:177: UserWarning: Found `num_iterations` in params. Will use it instead of argument\n",
      "  _log_warning(f\"Found `{alias}` in params. Will use it instead of argument\")\n"
     ]
    },
    {
     "name": "stdout",
     "output_type": "stream",
     "text": [
      "[CV] END learning_rate=0.1, max_depth=-1, min_data_in_leaf=100, num_iterations=500, num_leaves=10; total time=   5.1s\n",
      "[LightGBM] [Warning] min_data_in_leaf is set=100, min_child_samples=20 will be ignored. Current value: min_data_in_leaf=100\n",
      "[CV] END learning_rate=0.1, max_depth=-1, min_data_in_leaf=100, num_iterations=500, num_leaves=10; total time=   5.4s\n",
      "[LightGBM] [Warning] min_data_in_leaf is set=100, min_child_samples=20 will be ignored. Current value: min_data_in_leaf=100\n"
     ]
    },
    {
     "name": "stderr",
     "output_type": "stream",
     "text": [
      "/home/slazien/.local/share/virtualenvs/linkedin_misinformation-xOmYosQV/lib/python3.8/site-packages/lightgbm/engine.py:177: UserWarning: Found `num_iterations` in params. Will use it instead of argument\n",
      "  _log_warning(f\"Found `{alias}` in params. Will use it instead of argument\")\n",
      "/home/slazien/.local/share/virtualenvs/linkedin_misinformation-xOmYosQV/lib/python3.8/site-packages/lightgbm/engine.py:177: UserWarning: Found `num_iterations` in params. Will use it instead of argument\n",
      "  _log_warning(f\"Found `{alias}` in params. Will use it instead of argument\")\n"
     ]
    },
    {
     "name": "stdout",
     "output_type": "stream",
     "text": [
      "[CV] END learning_rate=0.1, max_depth=-1, min_data_in_leaf=10, num_iterations=500, num_leaves=50; total time=  22.0s\n",
      "[LightGBM] [Warning] min_data_in_leaf is set=100, min_child_samples=20 will be ignored. Current value: min_data_in_leaf=100\n"
     ]
    },
    {
     "name": "stderr",
     "output_type": "stream",
     "text": [
      "/home/slazien/.local/share/virtualenvs/linkedin_misinformation-xOmYosQV/lib/python3.8/site-packages/lightgbm/engine.py:177: UserWarning: Found `num_iterations` in params. Will use it instead of argument\n",
      "  _log_warning(f\"Found `{alias}` in params. Will use it instead of argument\")\n"
     ]
    },
    {
     "name": "stdout",
     "output_type": "stream",
     "text": [
      "[CV] END learning_rate=0.1, max_depth=-1, min_data_in_leaf=10, num_iterations=500, num_leaves=50; total time=  21.9s\n",
      "[LightGBM] [Warning] min_data_in_leaf is set=100, min_child_samples=20 will be ignored. Current value: min_data_in_leaf=100\n"
     ]
    },
    {
     "name": "stderr",
     "output_type": "stream",
     "text": [
      "/home/slazien/.local/share/virtualenvs/linkedin_misinformation-xOmYosQV/lib/python3.8/site-packages/lightgbm/engine.py:177: UserWarning: Found `num_iterations` in params. Will use it instead of argument\n",
      "  _log_warning(f\"Found `{alias}` in params. Will use it instead of argument\")\n"
     ]
    },
    {
     "name": "stdout",
     "output_type": "stream",
     "text": [
      "[CV] END learning_rate=0.1, max_depth=-1, min_data_in_leaf=100, num_iterations=500, num_leaves=10; total time=   5.4s\n",
      "[LightGBM] [Warning] min_data_in_leaf is set=100, min_child_samples=20 will be ignored. Current value: min_data_in_leaf=100\n"
     ]
    },
    {
     "name": "stderr",
     "output_type": "stream",
     "text": [
      "/home/slazien/.local/share/virtualenvs/linkedin_misinformation-xOmYosQV/lib/python3.8/site-packages/lightgbm/engine.py:177: UserWarning: Found `num_iterations` in params. Will use it instead of argument\n",
      "  _log_warning(f\"Found `{alias}` in params. Will use it instead of argument\")\n"
     ]
    },
    {
     "name": "stdout",
     "output_type": "stream",
     "text": [
      "[CV] END learning_rate=0.1, max_depth=-1, min_data_in_leaf=100, num_iterations=500, num_leaves=10; total time=   5.3s\n",
      "[LightGBM] [Warning] min_data_in_leaf is set=100, min_child_samples=20 will be ignored. Current value: min_data_in_leaf=100\n",
      "[CV] END learning_rate=0.1, max_depth=-1, min_data_in_leaf=100, num_iterations=500, num_leaves=50; total time=   5.3s\n"
     ]
    },
    {
     "name": "stderr",
     "output_type": "stream",
     "text": [
      "/home/slazien/.local/share/virtualenvs/linkedin_misinformation-xOmYosQV/lib/python3.8/site-packages/lightgbm/engine.py:177: UserWarning: Found `num_iterations` in params. Will use it instead of argument\n",
      "  _log_warning(f\"Found `{alias}` in params. Will use it instead of argument\")\n",
      "/home/slazien/.local/share/virtualenvs/linkedin_misinformation-xOmYosQV/lib/python3.8/site-packages/lightgbm/engine.py:177: UserWarning: Found `num_iterations` in params. Will use it instead of argument\n",
      "  _log_warning(f\"Found `{alias}` in params. Will use it instead of argument\")\n"
     ]
    },
    {
     "name": "stdout",
     "output_type": "stream",
     "text": [
      "[LightGBM] [Warning] min_data_in_leaf is set=500, min_child_samples=20 will be ignored. Current value: min_data_in_leaf=500\n",
      "[CV] END learning_rate=0.1, max_depth=-1, min_data_in_leaf=500, num_iterations=100, num_leaves=10; total time=   0.1s\n",
      "[LightGBM] [Warning] min_data_in_leaf is set=500, min_child_samples=20 will be ignored. Current value: min_data_in_leaf=500\n",
      "[CV] END learning_rate=0.1, max_depth=-1, min_data_in_leaf=500, num_iterations=100, num_leaves=10; total time=   0.1s\n",
      "[LightGBM] [Warning] min_data_in_leaf is set=500, min_child_samples=20 will be ignored. Current value: min_data_in_leaf=500\n"
     ]
    },
    {
     "name": "stderr",
     "output_type": "stream",
     "text": [
      "/home/slazien/.local/share/virtualenvs/linkedin_misinformation-xOmYosQV/lib/python3.8/site-packages/lightgbm/engine.py:177: UserWarning: Found `num_iterations` in params. Will use it instead of argument\n",
      "  _log_warning(f\"Found `{alias}` in params. Will use it instead of argument\")\n",
      "/home/slazien/.local/share/virtualenvs/linkedin_misinformation-xOmYosQV/lib/python3.8/site-packages/lightgbm/engine.py:177: UserWarning: Found `num_iterations` in params. Will use it instead of argument\n",
      "  _log_warning(f\"Found `{alias}` in params. Will use it instead of argument\")\n"
     ]
    },
    {
     "name": "stdout",
     "output_type": "stream",
     "text": [
      "[CV] END learning_rate=0.1, max_depth=-1, min_data_in_leaf=500, num_iterations=100, num_leaves=10; total time=   0.1s\n",
      "[LightGBM] [Warning] min_data_in_leaf is set=500, min_child_samples=20 will be ignored. Current value: min_data_in_leaf=500\n",
      "[CV] END learning_rate=0.1, max_depth=-1, min_data_in_leaf=500, num_iterations=100, num_leaves=10; total time=   0.1s\n",
      "[LightGBM] [Warning] min_data_in_leaf is set=500, min_child_samples=20 will be ignored. Current value: min_data_in_leaf=500\n",
      "[CV] END learning_rate=0.1, max_depth=-1, min_data_in_leaf=500, num_iterations=100, num_leaves=10; total time=   0.1s\n",
      "[LightGBM] [Warning] min_data_in_leaf is set=500, min_child_samples=20 will be ignored. Current value: min_data_in_leaf=500\n"
     ]
    },
    {
     "name": "stderr",
     "output_type": "stream",
     "text": [
      "/home/slazien/.local/share/virtualenvs/linkedin_misinformation-xOmYosQV/lib/python3.8/site-packages/lightgbm/engine.py:177: UserWarning: Found `num_iterations` in params. Will use it instead of argument\n",
      "  _log_warning(f\"Found `{alias}` in params. Will use it instead of argument\")\n",
      "/home/slazien/.local/share/virtualenvs/linkedin_misinformation-xOmYosQV/lib/python3.8/site-packages/lightgbm/engine.py:177: UserWarning: Found `num_iterations` in params. Will use it instead of argument\n",
      "  _log_warning(f\"Found `{alias}` in params. Will use it instead of argument\")\n",
      "/home/slazien/.local/share/virtualenvs/linkedin_misinformation-xOmYosQV/lib/python3.8/site-packages/lightgbm/engine.py:177: UserWarning: Found `num_iterations` in params. Will use it instead of argument\n",
      "  _log_warning(f\"Found `{alias}` in params. Will use it instead of argument\")\n"
     ]
    },
    {
     "name": "stdout",
     "output_type": "stream",
     "text": [
      "[CV] END learning_rate=0.1, max_depth=-1, min_data_in_leaf=10, num_iterations=500, num_leaves=50; total time=  22.5s\n",
      "[LightGBM] [Warning] min_data_in_leaf is set=500, min_child_samples=20 will be ignored. Current value: min_data_in_leaf=500\n",
      "[CV] END learning_rate=0.1, max_depth=-1, min_data_in_leaf=500, num_iterations=100, num_leaves=50; total time=   0.1s\n",
      "[LightGBM] [Warning] min_data_in_leaf is set=500, min_child_samples=20 will be ignored. Current value: min_data_in_leaf=500\n",
      "[CV] END learning_rate=0.1, max_depth=-1, min_data_in_leaf=500, num_iterations=100, num_leaves=50; total time=   0.1s\n",
      "[LightGBM] [Warning] min_data_in_leaf is set=500, min_child_samples=20 will be ignored. Current value: min_data_in_leaf=500\n",
      "[CV] END learning_rate=0.1, max_depth=-1, min_data_in_leaf=500, num_iterations=100, num_leaves=50; total time=   0.1s\n",
      "[LightGBM] [Warning] min_data_in_leaf is set=500, min_child_samples=20 will be ignored. Current value: min_data_in_leaf=500\n",
      "[CV] END learning_rate=0.1, max_depth=-1, min_data_in_leaf=500, num_iterations=100, num_leaves=50; total time=   0.1s\n",
      "[LightGBM] [Warning] min_data_in_leaf is set=500, min_child_samples=20 will be ignored. Current value: min_data_in_leaf=500\n",
      "[CV] END learning_rate=0.1, max_depth=-1, min_data_in_leaf=500, num_iterations=100, num_leaves=50; total time=   0.1s\n"
     ]
    },
    {
     "name": "stderr",
     "output_type": "stream",
     "text": [
      "/home/slazien/.local/share/virtualenvs/linkedin_misinformation-xOmYosQV/lib/python3.8/site-packages/lightgbm/engine.py:177: UserWarning: Found `num_iterations` in params. Will use it instead of argument\n",
      "  _log_warning(f\"Found `{alias}` in params. Will use it instead of argument\")\n",
      "/home/slazien/.local/share/virtualenvs/linkedin_misinformation-xOmYosQV/lib/python3.8/site-packages/lightgbm/engine.py:177: UserWarning: Found `num_iterations` in params. Will use it instead of argument\n",
      "  _log_warning(f\"Found `{alias}` in params. Will use it instead of argument\")\n",
      "/home/slazien/.local/share/virtualenvs/linkedin_misinformation-xOmYosQV/lib/python3.8/site-packages/lightgbm/engine.py:177: UserWarning: Found `num_iterations` in params. Will use it instead of argument\n",
      "  _log_warning(f\"Found `{alias}` in params. Will use it instead of argument\")\n",
      "/home/slazien/.local/share/virtualenvs/linkedin_misinformation-xOmYosQV/lib/python3.8/site-packages/lightgbm/engine.py:177: UserWarning: Found `num_iterations` in params. Will use it instead of argument\n",
      "  _log_warning(f\"Found `{alias}` in params. Will use it instead of argument\")\n",
      "/home/slazien/.local/share/virtualenvs/linkedin_misinformation-xOmYosQV/lib/python3.8/site-packages/lightgbm/engine.py:177: UserWarning: Found `num_iterations` in params. Will use it instead of argument\n",
      "  _log_warning(f\"Found `{alias}` in params. Will use it instead of argument\")\n",
      "/home/slazien/.local/share/virtualenvs/linkedin_misinformation-xOmYosQV/lib/python3.8/site-packages/lightgbm/engine.py:177: UserWarning: Found `num_iterations` in params. Will use it instead of argument\n",
      "  _log_warning(f\"Found `{alias}` in params. Will use it instead of argument\")\n"
     ]
    },
    {
     "name": "stdout",
     "output_type": "stream",
     "text": [
      "[LightGBM] [Warning] min_data_in_leaf is set=500, min_child_samples=20 will be ignored. Current value: min_data_in_leaf=500\n",
      "[CV] END learning_rate=0.1, max_depth=-1, min_data_in_leaf=500, num_iterations=500, num_leaves=10; total time=   0.1s\n",
      "[LightGBM] [Warning] min_data_in_leaf is set=500, min_child_samples=20 will be ignored. Current value: min_data_in_leaf=500\n",
      "[CV] END learning_rate=0.1, max_depth=-1, min_data_in_leaf=500, num_iterations=500, num_leaves=10; total time=   0.1s\n",
      "[LightGBM] [Warning] min_data_in_leaf is set=500, min_child_samples=20 will be ignored. Current value: min_data_in_leaf=500\n",
      "[CV] END learning_rate=0.1, max_depth=-1, min_data_in_leaf=500, num_iterations=500, num_leaves=10; total time=   0.1s\n",
      "[LightGBM] [Warning] min_data_in_leaf is set=500, min_child_samples=20 will be ignored. Current value: min_data_in_leaf=500\n"
     ]
    },
    {
     "name": "stderr",
     "output_type": "stream",
     "text": [
      "/home/slazien/.local/share/virtualenvs/linkedin_misinformation-xOmYosQV/lib/python3.8/site-packages/lightgbm/engine.py:177: UserWarning: Found `num_iterations` in params. Will use it instead of argument\n",
      "  _log_warning(f\"Found `{alias}` in params. Will use it instead of argument\")\n",
      "/home/slazien/.local/share/virtualenvs/linkedin_misinformation-xOmYosQV/lib/python3.8/site-packages/lightgbm/engine.py:177: UserWarning: Found `num_iterations` in params. Will use it instead of argument\n",
      "  _log_warning(f\"Found `{alias}` in params. Will use it instead of argument\")\n",
      "/home/slazien/.local/share/virtualenvs/linkedin_misinformation-xOmYosQV/lib/python3.8/site-packages/lightgbm/engine.py:177: UserWarning: Found `num_iterations` in params. Will use it instead of argument\n",
      "  _log_warning(f\"Found `{alias}` in params. Will use it instead of argument\")\n",
      "/home/slazien/.local/share/virtualenvs/linkedin_misinformation-xOmYosQV/lib/python3.8/site-packages/lightgbm/engine.py:177: UserWarning: Found `num_iterations` in params. Will use it instead of argument\n",
      "  _log_warning(f\"Found `{alias}` in params. Will use it instead of argument\")\n",
      "/home/slazien/.local/share/virtualenvs/linkedin_misinformation-xOmYosQV/lib/python3.8/site-packages/lightgbm/engine.py:177: UserWarning: Found `num_iterations` in params. Will use it instead of argument\n",
      "  _log_warning(f\"Found `{alias}` in params. Will use it instead of argument\")\n"
     ]
    },
    {
     "name": "stdout",
     "output_type": "stream",
     "text": [
      "[CV] END learning_rate=0.1, max_depth=-1, min_data_in_leaf=500, num_iterations=500, num_leaves=10; total time=   0.1s\n",
      "[LightGBM] [Warning] min_data_in_leaf is set=500, min_child_samples=20 will be ignored. Current value: min_data_in_leaf=500\n",
      "[CV] END learning_rate=0.1, max_depth=-1, min_data_in_leaf=500, num_iterations=500, num_leaves=10; total time=   0.1s\n",
      "[LightGBM] [Warning] min_data_in_leaf is set=500, min_child_samples=20 will be ignored. Current value: min_data_in_leaf=500\n",
      "[CV] END learning_rate=0.1, max_depth=-1, min_data_in_leaf=500, num_iterations=500, num_leaves=50; total time=   0.1s\n",
      "[CV] END learning_rate=0.1, max_depth=-1, min_data_in_leaf=500, num_iterations=500, num_leaves=50; total time=   0.1s\n",
      "[LightGBM] [Warning] min_data_in_leaf is set=500, min_child_samples=20 will be ignored. Current value: min_data_in_leaf=500\n",
      "[LightGBM] [Warning] min_data_in_leaf is set=500, min_child_samples=20 will be ignored. Current value: min_data_in_leaf=500\n"
     ]
    },
    {
     "name": "stderr",
     "output_type": "stream",
     "text": [
      "/home/slazien/.local/share/virtualenvs/linkedin_misinformation-xOmYosQV/lib/python3.8/site-packages/lightgbm/engine.py:177: UserWarning: Found `num_iterations` in params. Will use it instead of argument\n",
      "  _log_warning(f\"Found `{alias}` in params. Will use it instead of argument\")\n",
      "/home/slazien/.local/share/virtualenvs/linkedin_misinformation-xOmYosQV/lib/python3.8/site-packages/lightgbm/engine.py:177: UserWarning: Found `num_iterations` in params. Will use it instead of argument\n",
      "  _log_warning(f\"Found `{alias}` in params. Will use it instead of argument\")\n",
      "/home/slazien/.local/share/virtualenvs/linkedin_misinformation-xOmYosQV/lib/python3.8/site-packages/lightgbm/engine.py:177: UserWarning: Found `num_iterations` in params. Will use it instead of argument\n",
      "  _log_warning(f\"Found `{alias}` in params. Will use it instead of argument\")\n",
      "/home/slazien/.local/share/virtualenvs/linkedin_misinformation-xOmYosQV/lib/python3.8/site-packages/lightgbm/engine.py:177: UserWarning: Found `num_iterations` in params. Will use it instead of argument\n",
      "  _log_warning(f\"Found `{alias}` in params. Will use it instead of argument\")\n"
     ]
    },
    {
     "name": "stdout",
     "output_type": "stream",
     "text": [
      "[CV] END learning_rate=0.1, max_depth=-1, min_data_in_leaf=500, num_iterations=500, num_leaves=50; total time=   0.1s\n",
      "[LightGBM] [Warning] min_data_in_leaf is set=500, min_child_samples=20 will be ignored. Current value: min_data_in_leaf=500\n",
      "[CV] END learning_rate=0.1, max_depth=-1, min_data_in_leaf=500, num_iterations=500, num_leaves=50; total time=   0.1s\n",
      "[LightGBM] [Warning] min_data_in_leaf is set=10, min_child_samples=20 will be ignored. Current value: min_data_in_leaf=10\n",
      "[CV] END learning_rate=0.1, max_depth=-1, min_data_in_leaf=500, num_iterations=500, num_leaves=50; total time=   0.1s\n",
      "[LightGBM] [Warning] min_data_in_leaf is set=10, min_child_samples=20 will be ignored. Current value: min_data_in_leaf=10\n"
     ]
    },
    {
     "name": "stderr",
     "output_type": "stream",
     "text": [
      "/home/slazien/.local/share/virtualenvs/linkedin_misinformation-xOmYosQV/lib/python3.8/site-packages/lightgbm/engine.py:177: UserWarning: Found `num_iterations` in params. Will use it instead of argument\n",
      "  _log_warning(f\"Found `{alias}` in params. Will use it instead of argument\")\n"
     ]
    },
    {
     "name": "stdout",
     "output_type": "stream",
     "text": [
      "[CV] END learning_rate=0.1, max_depth=-1, min_data_in_leaf=100, num_iterations=500, num_leaves=50; total time=   5.3s\n",
      "[LightGBM] [Warning] min_data_in_leaf is set=10, min_child_samples=20 will be ignored. Current value: min_data_in_leaf=10\n",
      "[CV] END learning_rate=0.1, max_depth=-1, min_data_in_leaf=10, num_iterations=500, num_leaves=50; total time=  22.8s\n",
      "[LightGBM] [Warning] min_data_in_leaf is set=10, min_child_samples=20 will be ignored. Current value: min_data_in_leaf=10\n"
     ]
    },
    {
     "name": "stderr",
     "output_type": "stream",
     "text": [
      "/home/slazien/.local/share/virtualenvs/linkedin_misinformation-xOmYosQV/lib/python3.8/site-packages/lightgbm/engine.py:177: UserWarning: Found `num_iterations` in params. Will use it instead of argument\n",
      "  _log_warning(f\"Found `{alias}` in params. Will use it instead of argument\")\n",
      "/home/slazien/.local/share/virtualenvs/linkedin_misinformation-xOmYosQV/lib/python3.8/site-packages/lightgbm/engine.py:177: UserWarning: Found `num_iterations` in params. Will use it instead of argument\n",
      "  _log_warning(f\"Found `{alias}` in params. Will use it instead of argument\")\n"
     ]
    },
    {
     "name": "stdout",
     "output_type": "stream",
     "text": [
      "[CV] END learning_rate=0.1, max_depth=-1, min_data_in_leaf=10, num_iterations=500, num_leaves=50; total time=  22.5s\n",
      "[LightGBM] [Warning] min_data_in_leaf is set=10, min_child_samples=20 will be ignored. Current value: min_data_in_leaf=10\n"
     ]
    },
    {
     "name": "stderr",
     "output_type": "stream",
     "text": [
      "/home/slazien/.local/share/virtualenvs/linkedin_misinformation-xOmYosQV/lib/python3.8/site-packages/lightgbm/engine.py:177: UserWarning: Found `num_iterations` in params. Will use it instead of argument\n",
      "  _log_warning(f\"Found `{alias}` in params. Will use it instead of argument\")\n"
     ]
    },
    {
     "name": "stdout",
     "output_type": "stream",
     "text": [
      "[CV] END learning_rate=0.1, max_depth=-1, min_data_in_leaf=100, num_iterations=500, num_leaves=50; total time=   5.1s\n",
      "[LightGBM] [Warning] min_data_in_leaf is set=10, min_child_samples=20 will be ignored. Current value: min_data_in_leaf=10\n"
     ]
    },
    {
     "name": "stderr",
     "output_type": "stream",
     "text": [
      "/home/slazien/.local/share/virtualenvs/linkedin_misinformation-xOmYosQV/lib/python3.8/site-packages/lightgbm/engine.py:177: UserWarning: Found `num_iterations` in params. Will use it instead of argument\n",
      "  _log_warning(f\"Found `{alias}` in params. Will use it instead of argument\")\n"
     ]
    },
    {
     "name": "stdout",
     "output_type": "stream",
     "text": [
      "[CV] END learning_rate=0.1, max_depth=-1, min_data_in_leaf=100, num_iterations=500, num_leaves=50; total time=   5.2s\n",
      "[LightGBM] [Warning] min_data_in_leaf is set=10, min_child_samples=20 will be ignored. Current value: min_data_in_leaf=10\n"
     ]
    },
    {
     "name": "stderr",
     "output_type": "stream",
     "text": [
      "/home/slazien/.local/share/virtualenvs/linkedin_misinformation-xOmYosQV/lib/python3.8/site-packages/lightgbm/engine.py:177: UserWarning: Found `num_iterations` in params. Will use it instead of argument\n",
      "  _log_warning(f\"Found `{alias}` in params. Will use it instead of argument\")\n"
     ]
    },
    {
     "name": "stdout",
     "output_type": "stream",
     "text": [
      "[CV] END learning_rate=0.1, max_depth=-1, min_data_in_leaf=100, num_iterations=500, num_leaves=50; total time=   5.0s\n",
      "[LightGBM] [Warning] min_data_in_leaf is set=10, min_child_samples=20 will be ignored. Current value: min_data_in_leaf=10\n"
     ]
    },
    {
     "name": "stderr",
     "output_type": "stream",
     "text": [
      "/home/slazien/.local/share/virtualenvs/linkedin_misinformation-xOmYosQV/lib/python3.8/site-packages/lightgbm/engine.py:177: UserWarning: Found `num_iterations` in params. Will use it instead of argument\n",
      "  _log_warning(f\"Found `{alias}` in params. Will use it instead of argument\")\n"
     ]
    },
    {
     "name": "stdout",
     "output_type": "stream",
     "text": [
      "[CV] END learning_rate=0.1, max_depth=10, min_data_in_leaf=10, num_iterations=100, num_leaves=10; total time=   5.5s\n",
      "[LightGBM] [Warning] min_data_in_leaf is set=10, min_child_samples=20 will be ignored. Current value: min_data_in_leaf=10\n",
      "[CV] END learning_rate=0.1, max_depth=10, min_data_in_leaf=10, num_iterations=100, num_leaves=10; total time=   5.5s\n",
      "[LightGBM] [Warning] min_data_in_leaf is set=10, min_child_samples=20 will be ignored. Current value: min_data_in_leaf=10\n"
     ]
    },
    {
     "name": "stderr",
     "output_type": "stream",
     "text": [
      "/home/slazien/.local/share/virtualenvs/linkedin_misinformation-xOmYosQV/lib/python3.8/site-packages/lightgbm/engine.py:177: UserWarning: Found `num_iterations` in params. Will use it instead of argument\n",
      "  _log_warning(f\"Found `{alias}` in params. Will use it instead of argument\")\n",
      "/home/slazien/.local/share/virtualenvs/linkedin_misinformation-xOmYosQV/lib/python3.8/site-packages/lightgbm/engine.py:177: UserWarning: Found `num_iterations` in params. Will use it instead of argument\n",
      "  _log_warning(f\"Found `{alias}` in params. Will use it instead of argument\")\n"
     ]
    },
    {
     "name": "stdout",
     "output_type": "stream",
     "text": [
      "[CV] END learning_rate=0.1, max_depth=10, min_data_in_leaf=10, num_iterations=100, num_leaves=10; total time=   5.4s\n",
      "[LightGBM] [Warning] min_data_in_leaf is set=10, min_child_samples=20 will be ignored. Current value: min_data_in_leaf=10\n"
     ]
    },
    {
     "name": "stderr",
     "output_type": "stream",
     "text": [
      "/home/slazien/.local/share/virtualenvs/linkedin_misinformation-xOmYosQV/lib/python3.8/site-packages/lightgbm/engine.py:177: UserWarning: Found `num_iterations` in params. Will use it instead of argument\n",
      "  _log_warning(f\"Found `{alias}` in params. Will use it instead of argument\")\n"
     ]
    },
    {
     "name": "stdout",
     "output_type": "stream",
     "text": [
      "[CV] END learning_rate=0.1, max_depth=10, min_data_in_leaf=10, num_iterations=100, num_leaves=10; total time=   5.6s\n",
      "[LightGBM] [Warning] min_data_in_leaf is set=10, min_child_samples=20 will be ignored. Current value: min_data_in_leaf=10\n"
     ]
    },
    {
     "name": "stderr",
     "output_type": "stream",
     "text": [
      "/home/slazien/.local/share/virtualenvs/linkedin_misinformation-xOmYosQV/lib/python3.8/site-packages/lightgbm/engine.py:177: UserWarning: Found `num_iterations` in params. Will use it instead of argument\n",
      "  _log_warning(f\"Found `{alias}` in params. Will use it instead of argument\")\n"
     ]
    },
    {
     "name": "stdout",
     "output_type": "stream",
     "text": [
      "[CV] END learning_rate=0.1, max_depth=10, min_data_in_leaf=10, num_iterations=100, num_leaves=10; total time=   5.7s\n",
      "[LightGBM] [Warning] min_data_in_leaf is set=10, min_child_samples=20 will be ignored. Current value: min_data_in_leaf=10\n"
     ]
    },
    {
     "name": "stderr",
     "output_type": "stream",
     "text": [
      "/home/slazien/.local/share/virtualenvs/linkedin_misinformation-xOmYosQV/lib/python3.8/site-packages/lightgbm/engine.py:177: UserWarning: Found `num_iterations` in params. Will use it instead of argument\n",
      "  _log_warning(f\"Found `{alias}` in params. Will use it instead of argument\")\n"
     ]
    },
    {
     "name": "stdout",
     "output_type": "stream",
     "text": [
      "[CV] END learning_rate=0.1, max_depth=10, min_data_in_leaf=10, num_iterations=100, num_leaves=50; total time=  12.2s\n",
      "[LightGBM] [Warning] min_data_in_leaf is set=10, min_child_samples=20 will be ignored. Current value: min_data_in_leaf=10\n"
     ]
    },
    {
     "name": "stderr",
     "output_type": "stream",
     "text": [
      "/home/slazien/.local/share/virtualenvs/linkedin_misinformation-xOmYosQV/lib/python3.8/site-packages/lightgbm/engine.py:177: UserWarning: Found `num_iterations` in params. Will use it instead of argument\n",
      "  _log_warning(f\"Found `{alias}` in params. Will use it instead of argument\")\n"
     ]
    },
    {
     "name": "stdout",
     "output_type": "stream",
     "text": [
      "[CV] END learning_rate=0.1, max_depth=10, min_data_in_leaf=10, num_iterations=100, num_leaves=50; total time=  12.2s\n",
      "[LightGBM] [Warning] min_data_in_leaf is set=10, min_child_samples=20 will be ignored. Current value: min_data_in_leaf=10\n",
      "[CV] END learning_rate=0.1, max_depth=10, min_data_in_leaf=10, num_iterations=100, num_leaves=50; total time=  11.9s\n",
      "[LightGBM] [Warning] min_data_in_leaf is set=10, min_child_samples=20 will be ignored. Current value: min_data_in_leaf=10\n"
     ]
    },
    {
     "name": "stderr",
     "output_type": "stream",
     "text": [
      "/home/slazien/.local/share/virtualenvs/linkedin_misinformation-xOmYosQV/lib/python3.8/site-packages/lightgbm/engine.py:177: UserWarning: Found `num_iterations` in params. Will use it instead of argument\n",
      "  _log_warning(f\"Found `{alias}` in params. Will use it instead of argument\")\n",
      "/home/slazien/.local/share/virtualenvs/linkedin_misinformation-xOmYosQV/lib/python3.8/site-packages/lightgbm/engine.py:177: UserWarning: Found `num_iterations` in params. Will use it instead of argument\n",
      "  _log_warning(f\"Found `{alias}` in params. Will use it instead of argument\")\n"
     ]
    },
    {
     "name": "stdout",
     "output_type": "stream",
     "text": [
      "[CV] END learning_rate=0.1, max_depth=10, min_data_in_leaf=10, num_iterations=100, num_leaves=50; total time=  11.8s\n",
      "[LightGBM] [Warning] min_data_in_leaf is set=10, min_child_samples=20 will be ignored. Current value: min_data_in_leaf=10\n",
      "[CV] END learning_rate=0.1, max_depth=10, min_data_in_leaf=10, num_iterations=100, num_leaves=50; total time=  12.0s\n",
      "[LightGBM] [Warning] min_data_in_leaf is set=10, min_child_samples=20 will be ignored. Current value: min_data_in_leaf=10\n"
     ]
    },
    {
     "name": "stderr",
     "output_type": "stream",
     "text": [
      "/home/slazien/.local/share/virtualenvs/linkedin_misinformation-xOmYosQV/lib/python3.8/site-packages/lightgbm/engine.py:177: UserWarning: Found `num_iterations` in params. Will use it instead of argument\n",
      "  _log_warning(f\"Found `{alias}` in params. Will use it instead of argument\")\n",
      "/home/slazien/.local/share/virtualenvs/linkedin_misinformation-xOmYosQV/lib/python3.8/site-packages/lightgbm/engine.py:177: UserWarning: Found `num_iterations` in params. Will use it instead of argument\n",
      "  _log_warning(f\"Found `{alias}` in params. Will use it instead of argument\")\n"
     ]
    },
    {
     "name": "stdout",
     "output_type": "stream",
     "text": [
      "[CV] END learning_rate=0.1, max_depth=10, min_data_in_leaf=10, num_iterations=500, num_leaves=10; total time=  15.5s\n",
      "[LightGBM] [Warning] min_data_in_leaf is set=10, min_child_samples=20 will be ignored. Current value: min_data_in_leaf=10\n"
     ]
    },
    {
     "name": "stderr",
     "output_type": "stream",
     "text": [
      "/home/slazien/.local/share/virtualenvs/linkedin_misinformation-xOmYosQV/lib/python3.8/site-packages/lightgbm/engine.py:177: UserWarning: Found `num_iterations` in params. Will use it instead of argument\n",
      "  _log_warning(f\"Found `{alias}` in params. Will use it instead of argument\")\n"
     ]
    },
    {
     "name": "stdout",
     "output_type": "stream",
     "text": [
      "[CV] END learning_rate=0.1, max_depth=10, min_data_in_leaf=10, num_iterations=500, num_leaves=10; total time=  15.5s\n",
      "[LightGBM] [Warning] min_data_in_leaf is set=10, min_child_samples=20 will be ignored. Current value: min_data_in_leaf=10\n"
     ]
    },
    {
     "name": "stderr",
     "output_type": "stream",
     "text": [
      "/home/slazien/.local/share/virtualenvs/linkedin_misinformation-xOmYosQV/lib/python3.8/site-packages/lightgbm/engine.py:177: UserWarning: Found `num_iterations` in params. Will use it instead of argument\n",
      "  _log_warning(f\"Found `{alias}` in params. Will use it instead of argument\")\n"
     ]
    },
    {
     "name": "stdout",
     "output_type": "stream",
     "text": [
      "[CV] END learning_rate=0.1, max_depth=10, min_data_in_leaf=10, num_iterations=500, num_leaves=10; total time=  15.6s\n",
      "[LightGBM] [Warning] min_data_in_leaf is set=100, min_child_samples=20 will be ignored. Current value: min_data_in_leaf=100\n"
     ]
    },
    {
     "name": "stderr",
     "output_type": "stream",
     "text": [
      "/home/slazien/.local/share/virtualenvs/linkedin_misinformation-xOmYosQV/lib/python3.8/site-packages/lightgbm/engine.py:177: UserWarning: Found `num_iterations` in params. Will use it instead of argument\n",
      "  _log_warning(f\"Found `{alias}` in params. Will use it instead of argument\")\n"
     ]
    },
    {
     "name": "stdout",
     "output_type": "stream",
     "text": [
      "[CV] END learning_rate=0.1, max_depth=10, min_data_in_leaf=100, num_iterations=100, num_leaves=10; total time=   1.2s\n",
      "[LightGBM] [Warning] min_data_in_leaf is set=100, min_child_samples=20 will be ignored. Current value: min_data_in_leaf=100\n"
     ]
    },
    {
     "name": "stderr",
     "output_type": "stream",
     "text": [
      "/home/slazien/.local/share/virtualenvs/linkedin_misinformation-xOmYosQV/lib/python3.8/site-packages/lightgbm/engine.py:177: UserWarning: Found `num_iterations` in params. Will use it instead of argument\n",
      "  _log_warning(f\"Found `{alias}` in params. Will use it instead of argument\")\n"
     ]
    },
    {
     "name": "stdout",
     "output_type": "stream",
     "text": [
      "[CV] END learning_rate=0.1, max_depth=10, min_data_in_leaf=100, num_iterations=100, num_leaves=10; total time=   1.2s\n",
      "[LightGBM] [Warning] min_data_in_leaf is set=100, min_child_samples=20 will be ignored. Current value: min_data_in_leaf=100\n"
     ]
    },
    {
     "name": "stderr",
     "output_type": "stream",
     "text": [
      "/home/slazien/.local/share/virtualenvs/linkedin_misinformation-xOmYosQV/lib/python3.8/site-packages/lightgbm/engine.py:177: UserWarning: Found `num_iterations` in params. Will use it instead of argument\n",
      "  _log_warning(f\"Found `{alias}` in params. Will use it instead of argument\")\n"
     ]
    },
    {
     "name": "stdout",
     "output_type": "stream",
     "text": [
      "[CV] END learning_rate=0.1, max_depth=10, min_data_in_leaf=100, num_iterations=100, num_leaves=10; total time=   1.2s\n",
      "[LightGBM] [Warning] min_data_in_leaf is set=100, min_child_samples=20 will be ignored. Current value: min_data_in_leaf=100\n"
     ]
    },
    {
     "name": "stderr",
     "output_type": "stream",
     "text": [
      "/home/slazien/.local/share/virtualenvs/linkedin_misinformation-xOmYosQV/lib/python3.8/site-packages/lightgbm/engine.py:177: UserWarning: Found `num_iterations` in params. Will use it instead of argument\n",
      "  _log_warning(f\"Found `{alias}` in params. Will use it instead of argument\")\n"
     ]
    },
    {
     "name": "stdout",
     "output_type": "stream",
     "text": [
      "[CV] END learning_rate=0.1, max_depth=10, min_data_in_leaf=100, num_iterations=100, num_leaves=10; total time=   1.2s\n",
      "[LightGBM] [Warning] min_data_in_leaf is set=100, min_child_samples=20 will be ignored. Current value: min_data_in_leaf=100\n"
     ]
    },
    {
     "name": "stderr",
     "output_type": "stream",
     "text": [
      "/home/slazien/.local/share/virtualenvs/linkedin_misinformation-xOmYosQV/lib/python3.8/site-packages/lightgbm/engine.py:177: UserWarning: Found `num_iterations` in params. Will use it instead of argument\n",
      "  _log_warning(f\"Found `{alias}` in params. Will use it instead of argument\")\n"
     ]
    },
    {
     "name": "stdout",
     "output_type": "stream",
     "text": [
      "[CV] END learning_rate=0.1, max_depth=10, min_data_in_leaf=100, num_iterations=100, num_leaves=10; total time=   1.3s\n",
      "[LightGBM] [Warning] min_data_in_leaf is set=100, min_child_samples=20 will be ignored. Current value: min_data_in_leaf=100\n"
     ]
    },
    {
     "name": "stderr",
     "output_type": "stream",
     "text": [
      "/home/slazien/.local/share/virtualenvs/linkedin_misinformation-xOmYosQV/lib/python3.8/site-packages/lightgbm/engine.py:177: UserWarning: Found `num_iterations` in params. Will use it instead of argument\n",
      "  _log_warning(f\"Found `{alias}` in params. Will use it instead of argument\")\n"
     ]
    },
    {
     "name": "stdout",
     "output_type": "stream",
     "text": [
      "[CV] END learning_rate=0.1, max_depth=10, min_data_in_leaf=100, num_iterations=100, num_leaves=50; total time=   1.3s\n",
      "[LightGBM] [Warning] min_data_in_leaf is set=100, min_child_samples=20 will be ignored. Current value: min_data_in_leaf=100\n"
     ]
    },
    {
     "name": "stderr",
     "output_type": "stream",
     "text": [
      "/home/slazien/.local/share/virtualenvs/linkedin_misinformation-xOmYosQV/lib/python3.8/site-packages/lightgbm/engine.py:177: UserWarning: Found `num_iterations` in params. Will use it instead of argument\n",
      "  _log_warning(f\"Found `{alias}` in params. Will use it instead of argument\")\n"
     ]
    },
    {
     "name": "stdout",
     "output_type": "stream",
     "text": [
      "[CV] END learning_rate=0.1, max_depth=10, min_data_in_leaf=10, num_iterations=500, num_leaves=10; total time=  16.5s\n",
      "[LightGBM] [Warning] min_data_in_leaf is set=100, min_child_samples=20 will be ignored. Current value: min_data_in_leaf=100\n",
      "[CV] END learning_rate=0.1, max_depth=10, min_data_in_leaf=10, num_iterations=500, num_leaves=10; total time=  16.0s\n",
      "[LightGBM] [Warning] min_data_in_leaf is set=100, min_child_samples=20 will be ignored. Current value: min_data_in_leaf=100\n"
     ]
    },
    {
     "name": "stderr",
     "output_type": "stream",
     "text": [
      "/home/slazien/.local/share/virtualenvs/linkedin_misinformation-xOmYosQV/lib/python3.8/site-packages/lightgbm/engine.py:177: UserWarning: Found `num_iterations` in params. Will use it instead of argument\n",
      "  _log_warning(f\"Found `{alias}` in params. Will use it instead of argument\")\n",
      "/home/slazien/.local/share/virtualenvs/linkedin_misinformation-xOmYosQV/lib/python3.8/site-packages/lightgbm/engine.py:177: UserWarning: Found `num_iterations` in params. Will use it instead of argument\n",
      "  _log_warning(f\"Found `{alias}` in params. Will use it instead of argument\")\n"
     ]
    },
    {
     "name": "stdout",
     "output_type": "stream",
     "text": [
      "[CV] END learning_rate=0.1, max_depth=10, min_data_in_leaf=100, num_iterations=100, num_leaves=50; total time=   1.5s\n",
      "[LightGBM] [Warning] min_data_in_leaf is set=100, min_child_samples=20 will be ignored. Current value: min_data_in_leaf=100\n"
     ]
    },
    {
     "name": "stderr",
     "output_type": "stream",
     "text": [
      "/home/slazien/.local/share/virtualenvs/linkedin_misinformation-xOmYosQV/lib/python3.8/site-packages/lightgbm/engine.py:177: UserWarning: Found `num_iterations` in params. Will use it instead of argument\n",
      "  _log_warning(f\"Found `{alias}` in params. Will use it instead of argument\")\n"
     ]
    },
    {
     "name": "stdout",
     "output_type": "stream",
     "text": [
      "[CV] END learning_rate=0.1, max_depth=10, min_data_in_leaf=100, num_iterations=100, num_leaves=50; total time=   1.4s\n",
      "[LightGBM] [Warning] min_data_in_leaf is set=100, min_child_samples=20 will be ignored. Current value: min_data_in_leaf=100\n",
      "[CV] END learning_rate=0.1, max_depth=10, min_data_in_leaf=100, num_iterations=100, num_leaves=50; total time=   1.5s\n",
      "[LightGBM] [Warning] min_data_in_leaf is set=100, min_child_samples=20 will be ignored. Current value: min_data_in_leaf=100\n"
     ]
    },
    {
     "name": "stderr",
     "output_type": "stream",
     "text": [
      "/home/slazien/.local/share/virtualenvs/linkedin_misinformation-xOmYosQV/lib/python3.8/site-packages/lightgbm/engine.py:177: UserWarning: Found `num_iterations` in params. Will use it instead of argument\n",
      "  _log_warning(f\"Found `{alias}` in params. Will use it instead of argument\")\n",
      "/home/slazien/.local/share/virtualenvs/linkedin_misinformation-xOmYosQV/lib/python3.8/site-packages/lightgbm/engine.py:177: UserWarning: Found `num_iterations` in params. Will use it instead of argument\n",
      "  _log_warning(f\"Found `{alias}` in params. Will use it instead of argument\")\n"
     ]
    },
    {
     "name": "stdout",
     "output_type": "stream",
     "text": [
      "[CV] END learning_rate=0.1, max_depth=10, min_data_in_leaf=100, num_iterations=100, num_leaves=50; total time=   1.3s\n",
      "[LightGBM] [Warning] min_data_in_leaf is set=100, min_child_samples=20 will be ignored. Current value: min_data_in_leaf=100\n"
     ]
    },
    {
     "name": "stderr",
     "output_type": "stream",
     "text": [
      "/home/slazien/.local/share/virtualenvs/linkedin_misinformation-xOmYosQV/lib/python3.8/site-packages/lightgbm/engine.py:177: UserWarning: Found `num_iterations` in params. Will use it instead of argument\n",
      "  _log_warning(f\"Found `{alias}` in params. Will use it instead of argument\")\n"
     ]
    },
    {
     "name": "stdout",
     "output_type": "stream",
     "text": [
      "[CV] END learning_rate=0.1, max_depth=10, min_data_in_leaf=100, num_iterations=500, num_leaves=10; total time=   5.4s\n",
      "[LightGBM] [Warning] min_data_in_leaf is set=100, min_child_samples=20 will be ignored. Current value: min_data_in_leaf=100\n",
      "[CV] END learning_rate=0.1, max_depth=10, min_data_in_leaf=100, num_iterations=500, num_leaves=10; total time=   5.2s\n",
      "[LightGBM] [Warning] min_data_in_leaf is set=100, min_child_samples=20 will be ignored. Current value: min_data_in_leaf=100\n",
      "[CV] END learning_rate=0.1, max_depth=10, min_data_in_leaf=10, num_iterations=500, num_leaves=50; total time=  22.6s\n",
      "[LightGBM] [Warning] min_data_in_leaf is set=100, min_child_samples=20 will be ignored. Current value: min_data_in_leaf=100\n"
     ]
    },
    {
     "name": "stderr",
     "output_type": "stream",
     "text": [
      "/home/slazien/.local/share/virtualenvs/linkedin_misinformation-xOmYosQV/lib/python3.8/site-packages/lightgbm/engine.py:177: UserWarning: Found `num_iterations` in params. Will use it instead of argument\n",
      "  _log_warning(f\"Found `{alias}` in params. Will use it instead of argument\")\n",
      "/home/slazien/.local/share/virtualenvs/linkedin_misinformation-xOmYosQV/lib/python3.8/site-packages/lightgbm/engine.py:177: UserWarning: Found `num_iterations` in params. Will use it instead of argument\n",
      "  _log_warning(f\"Found `{alias}` in params. Will use it instead of argument\")\n",
      "/home/slazien/.local/share/virtualenvs/linkedin_misinformation-xOmYosQV/lib/python3.8/site-packages/lightgbm/engine.py:177: UserWarning: Found `num_iterations` in params. Will use it instead of argument\n",
      "  _log_warning(f\"Found `{alias}` in params. Will use it instead of argument\")\n"
     ]
    },
    {
     "name": "stdout",
     "output_type": "stream",
     "text": [
      "[CV] END learning_rate=0.1, max_depth=10, min_data_in_leaf=100, num_iterations=500, num_leaves=10; total time=   5.2s\n",
      "[LightGBM] [Warning] min_data_in_leaf is set=100, min_child_samples=20 will be ignored. Current value: min_data_in_leaf=100\n"
     ]
    },
    {
     "name": "stderr",
     "output_type": "stream",
     "text": [
      "/home/slazien/.local/share/virtualenvs/linkedin_misinformation-xOmYosQV/lib/python3.8/site-packages/lightgbm/engine.py:177: UserWarning: Found `num_iterations` in params. Will use it instead of argument\n",
      "  _log_warning(f\"Found `{alias}` in params. Will use it instead of argument\")\n"
     ]
    },
    {
     "name": "stdout",
     "output_type": "stream",
     "text": [
      "[CV] END learning_rate=0.1, max_depth=10, min_data_in_leaf=10, num_iterations=500, num_leaves=50; total time=  21.7s\n",
      "[LightGBM] [Warning] min_data_in_leaf is set=100, min_child_samples=20 will be ignored. Current value: min_data_in_leaf=100\n"
     ]
    },
    {
     "name": "stderr",
     "output_type": "stream",
     "text": [
      "/home/slazien/.local/share/virtualenvs/linkedin_misinformation-xOmYosQV/lib/python3.8/site-packages/lightgbm/engine.py:177: UserWarning: Found `num_iterations` in params. Will use it instead of argument\n",
      "  _log_warning(f\"Found `{alias}` in params. Will use it instead of argument\")\n"
     ]
    },
    {
     "name": "stdout",
     "output_type": "stream",
     "text": [
      "[CV] END learning_rate=0.1, max_depth=10, min_data_in_leaf=10, num_iterations=500, num_leaves=50; total time=  22.8s\n",
      "[LightGBM] [Warning] min_data_in_leaf is set=100, min_child_samples=20 will be ignored. Current value: min_data_in_leaf=100\n"
     ]
    },
    {
     "name": "stderr",
     "output_type": "stream",
     "text": [
      "/home/slazien/.local/share/virtualenvs/linkedin_misinformation-xOmYosQV/lib/python3.8/site-packages/lightgbm/engine.py:177: UserWarning: Found `num_iterations` in params. Will use it instead of argument\n",
      "  _log_warning(f\"Found `{alias}` in params. Will use it instead of argument\")\n"
     ]
    },
    {
     "name": "stdout",
     "output_type": "stream",
     "text": [
      "[CV] END learning_rate=0.1, max_depth=10, min_data_in_leaf=100, num_iterations=500, num_leaves=10; total time=   5.1s\n",
      "[LightGBM] [Warning] min_data_in_leaf is set=100, min_child_samples=20 will be ignored. Current value: min_data_in_leaf=100\n",
      "[CV] END learning_rate=0.1, max_depth=10, min_data_in_leaf=100, num_iterations=500, num_leaves=10; total time=   5.1s\n",
      "[LightGBM] [Warning] min_data_in_leaf is set=500, min_child_samples=20 will be ignored. Current value: min_data_in_leaf=500\n",
      "[CV] END learning_rate=0.1, max_depth=10, min_data_in_leaf=100, num_iterations=500, num_leaves=50; total time=   5.0s\n",
      "[LightGBM] [Warning] min_data_in_leaf is set=500, min_child_samples=20 will be ignored. Current value: min_data_in_leaf=500\n",
      "[CV] END learning_rate=0.1, max_depth=10, min_data_in_leaf=500, num_iterations=100, num_leaves=10; total time=   0.1s\n",
      "[LightGBM] [Warning] min_data_in_leaf is set=500, min_child_samples=20 will be ignored. Current value: min_data_in_leaf=500\n",
      "[CV] END learning_rate=0.1, max_depth=10, min_data_in_leaf=500, num_iterations=100, num_leaves=10; total time=   0.1s\n",
      "[LightGBM] [Warning] min_data_in_leaf is set=500, min_child_samples=20 will be ignored. Current value: min_data_in_leaf=500\n"
     ]
    },
    {
     "name": "stderr",
     "output_type": "stream",
     "text": [
      "/home/slazien/.local/share/virtualenvs/linkedin_misinformation-xOmYosQV/lib/python3.8/site-packages/lightgbm/engine.py:177: UserWarning: Found `num_iterations` in params. Will use it instead of argument\n",
      "  _log_warning(f\"Found `{alias}` in params. Will use it instead of argument\")\n",
      "/home/slazien/.local/share/virtualenvs/linkedin_misinformation-xOmYosQV/lib/python3.8/site-packages/lightgbm/engine.py:177: UserWarning: Found `num_iterations` in params. Will use it instead of argument\n",
      "  _log_warning(f\"Found `{alias}` in params. Will use it instead of argument\")\n",
      "/home/slazien/.local/share/virtualenvs/linkedin_misinformation-xOmYosQV/lib/python3.8/site-packages/lightgbm/engine.py:177: UserWarning: Found `num_iterations` in params. Will use it instead of argument\n",
      "  _log_warning(f\"Found `{alias}` in params. Will use it instead of argument\")\n",
      "/home/slazien/.local/share/virtualenvs/linkedin_misinformation-xOmYosQV/lib/python3.8/site-packages/lightgbm/engine.py:177: UserWarning: Found `num_iterations` in params. Will use it instead of argument\n",
      "  _log_warning(f\"Found `{alias}` in params. Will use it instead of argument\")\n",
      "/home/slazien/.local/share/virtualenvs/linkedin_misinformation-xOmYosQV/lib/python3.8/site-packages/lightgbm/engine.py:177: UserWarning: Found `num_iterations` in params. Will use it instead of argument\n",
      "  _log_warning(f\"Found `{alias}` in params. Will use it instead of argument\")\n"
     ]
    },
    {
     "name": "stdout",
     "output_type": "stream",
     "text": [
      "[CV] END learning_rate=0.1, max_depth=10, min_data_in_leaf=500, num_iterations=100, num_leaves=10; total time=   0.1s\n",
      "[LightGBM] [Warning] min_data_in_leaf is set=500, min_child_samples=20 will be ignored. Current value: min_data_in_leaf=500\n",
      "[CV] END learning_rate=0.1, max_depth=10, min_data_in_leaf=100, num_iterations=500, num_leaves=50; total time=   5.1s\n",
      "[CV] END learning_rate=0.1, max_depth=10, min_data_in_leaf=500, num_iterations=100, num_leaves=10; total time=   0.1s\n",
      "[LightGBM] [Warning] min_data_in_leaf is set=500, min_child_samples=20 will be ignored. Current value: min_data_in_leaf=500\n",
      "[LightGBM] [Warning] min_data_in_leaf is set=500, min_child_samples=20 will be ignored. Current value: min_data_in_leaf=500\n",
      "[CV] END learning_rate=0.1, max_depth=10, min_data_in_leaf=500, num_iterations=100, num_leaves=10; total time=   0.1s\n",
      "[LightGBM] [Warning] min_data_in_leaf is set=500, min_child_samples=20 will be ignored. Current value: min_data_in_leaf=500\n",
      "[CV] END learning_rate=0.1, max_depth=10, min_data_in_leaf=500, num_iterations=100, num_leaves=50; total time=   0.1s\n",
      "[CV] END learning_rate=0.1, max_depth=10, min_data_in_leaf=500, num_iterations=100, num_leaves=50; total time=   0.1s\n",
      "[LightGBM] [Warning] min_data_in_leaf is set=500, min_child_samples=20 will be ignored. Current value: min_data_in_leaf=500\n",
      "[LightGBM] [Warning] min_data_in_leaf is set=500, min_child_samples=20 will be ignored. Current value: min_data_in_leaf=500\n",
      "[CV] END learning_rate=0.1, max_depth=10, min_data_in_leaf=500, num_iterations=100, num_leaves=50; total time=   0.1s\n",
      "[LightGBM] [Warning] min_data_in_leaf is set=500, min_child_samples=20 will be ignored. Current value: min_data_in_leaf=500\n",
      "[CV] END learning_rate=0.1, max_depth=10, min_data_in_leaf=500, num_iterations=100, num_leaves=50; total time=   0.1s\n"
     ]
    },
    {
     "name": "stderr",
     "output_type": "stream",
     "text": [
      "/home/slazien/.local/share/virtualenvs/linkedin_misinformation-xOmYosQV/lib/python3.8/site-packages/lightgbm/engine.py:177: UserWarning: Found `num_iterations` in params. Will use it instead of argument\n",
      "  _log_warning(f\"Found `{alias}` in params. Will use it instead of argument\")\n",
      "/home/slazien/.local/share/virtualenvs/linkedin_misinformation-xOmYosQV/lib/python3.8/site-packages/lightgbm/engine.py:177: UserWarning: Found `num_iterations` in params. Will use it instead of argument\n",
      "  _log_warning(f\"Found `{alias}` in params. Will use it instead of argument\")\n",
      "/home/slazien/.local/share/virtualenvs/linkedin_misinformation-xOmYosQV/lib/python3.8/site-packages/lightgbm/engine.py:177: UserWarning: Found `num_iterations` in params. Will use it instead of argument\n",
      "  _log_warning(f\"Found `{alias}` in params. Will use it instead of argument\")\n",
      "/home/slazien/.local/share/virtualenvs/linkedin_misinformation-xOmYosQV/lib/python3.8/site-packages/lightgbm/engine.py:177: UserWarning: Found `num_iterations` in params. Will use it instead of argument\n",
      "  _log_warning(f\"Found `{alias}` in params. Will use it instead of argument\")\n",
      "/home/slazien/.local/share/virtualenvs/linkedin_misinformation-xOmYosQV/lib/python3.8/site-packages/lightgbm/engine.py:177: UserWarning: Found `num_iterations` in params. Will use it instead of argument\n",
      "  _log_warning(f\"Found `{alias}` in params. Will use it instead of argument\")\n",
      "/home/slazien/.local/share/virtualenvs/linkedin_misinformation-xOmYosQV/lib/python3.8/site-packages/lightgbm/engine.py:177: UserWarning: Found `num_iterations` in params. Will use it instead of argument\n",
      "  _log_warning(f\"Found `{alias}` in params. Will use it instead of argument\")\n",
      "/home/slazien/.local/share/virtualenvs/linkedin_misinformation-xOmYosQV/lib/python3.8/site-packages/lightgbm/engine.py:177: UserWarning: Found `num_iterations` in params. Will use it instead of argument\n",
      "  _log_warning(f\"Found `{alias}` in params. Will use it instead of argument\")\n",
      "/home/slazien/.local/share/virtualenvs/linkedin_misinformation-xOmYosQV/lib/python3.8/site-packages/lightgbm/engine.py:177: UserWarning: Found `num_iterations` in params. Will use it instead of argument\n",
      "  _log_warning(f\"Found `{alias}` in params. Will use it instead of argument\")\n",
      "/home/slazien/.local/share/virtualenvs/linkedin_misinformation-xOmYosQV/lib/python3.8/site-packages/lightgbm/engine.py:177: UserWarning: Found `num_iterations` in params. Will use it instead of argument\n",
      "  _log_warning(f\"Found `{alias}` in params. Will use it instead of argument\")\n"
     ]
    },
    {
     "name": "stdout",
     "output_type": "stream",
     "text": [
      "[CV] END learning_rate=0.1, max_depth=10, min_data_in_leaf=500, num_iterations=100, num_leaves=50; total time=   0.1s\n",
      "[LightGBM] [Warning] min_data_in_leaf is set=500, min_child_samples=20 will be ignored. Current value: min_data_in_leaf=500\n",
      "[LightGBM] [Warning] min_data_in_leaf is set=500, min_child_samples=20 will be ignored. Current value: min_data_in_leaf=500\n",
      "[CV] END learning_rate=0.1, max_depth=10, min_data_in_leaf=500, num_iterations=500, num_leaves=10; total time=   0.1s\n",
      "[LightGBM] [Warning] min_data_in_leaf is set=500, min_child_samples=20 will be ignored. Current value: min_data_in_leaf=500\n",
      "[CV] END learning_rate=0.1, max_depth=10, min_data_in_leaf=500, num_iterations=500, num_leaves=10; total time=   0.1s\n",
      "[CV] END learning_rate=0.1, max_depth=10, min_data_in_leaf=500, num_iterations=500, num_leaves=10; total time=   0.1s\n",
      "[LightGBM] [Warning] min_data_in_leaf is set=500, min_child_samples=20 will be ignored. Current value: min_data_in_leaf=500\n",
      "[LightGBM] [Warning] min_data_in_leaf is set=500, min_child_samples=20 will be ignored. Current value: min_data_in_leaf=500\n",
      "[CV] END learning_rate=0.1, max_depth=10, min_data_in_leaf=500, num_iterations=500, num_leaves=10; total time=   0.1s\n",
      "[LightGBM] [Warning] min_data_in_leaf is set=500, min_child_samples=20 will be ignored. Current value: min_data_in_leaf=500\n"
     ]
    },
    {
     "name": "stderr",
     "output_type": "stream",
     "text": [
      "/home/slazien/.local/share/virtualenvs/linkedin_misinformation-xOmYosQV/lib/python3.8/site-packages/lightgbm/engine.py:177: UserWarning: Found `num_iterations` in params. Will use it instead of argument\n",
      "  _log_warning(f\"Found `{alias}` in params. Will use it instead of argument\")\n",
      "/home/slazien/.local/share/virtualenvs/linkedin_misinformation-xOmYosQV/lib/python3.8/site-packages/lightgbm/engine.py:177: UserWarning: Found `num_iterations` in params. Will use it instead of argument\n",
      "  _log_warning(f\"Found `{alias}` in params. Will use it instead of argument\")\n",
      "/home/slazien/.local/share/virtualenvs/linkedin_misinformation-xOmYosQV/lib/python3.8/site-packages/lightgbm/engine.py:177: UserWarning: Found `num_iterations` in params. Will use it instead of argument\n",
      "  _log_warning(f\"Found `{alias}` in params. Will use it instead of argument\")\n",
      "/home/slazien/.local/share/virtualenvs/linkedin_misinformation-xOmYosQV/lib/python3.8/site-packages/lightgbm/engine.py:177: UserWarning: Found `num_iterations` in params. Will use it instead of argument\n",
      "  _log_warning(f\"Found `{alias}` in params. Will use it instead of argument\")\n",
      "/home/slazien/.local/share/virtualenvs/linkedin_misinformation-xOmYosQV/lib/python3.8/site-packages/lightgbm/engine.py:177: UserWarning: Found `num_iterations` in params. Will use it instead of argument\n",
      "  _log_warning(f\"Found `{alias}` in params. Will use it instead of argument\")\n",
      "/home/slazien/.local/share/virtualenvs/linkedin_misinformation-xOmYosQV/lib/python3.8/site-packages/lightgbm/engine.py:177: UserWarning: Found `num_iterations` in params. Will use it instead of argument\n",
      "  _log_warning(f\"Found `{alias}` in params. Will use it instead of argument\")\n",
      "/home/slazien/.local/share/virtualenvs/linkedin_misinformation-xOmYosQV/lib/python3.8/site-packages/lightgbm/engine.py:177: UserWarning: Found `num_iterations` in params. Will use it instead of argument\n",
      "  _log_warning(f\"Found `{alias}` in params. Will use it instead of argument\")\n"
     ]
    },
    {
     "name": "stdout",
     "output_type": "stream",
     "text": [
      "[CV] END learning_rate=0.1, max_depth=10, min_data_in_leaf=500, num_iterations=500, num_leaves=10; total time=   0.1s\n",
      "[CV] END learning_rate=0.1, max_depth=10, min_data_in_leaf=500, num_iterations=500, num_leaves=50; total time=   0.1s\n",
      "[LightGBM] [Warning] min_data_in_leaf is set=500, min_child_samples=20 will be ignored. Current value: min_data_in_leaf=500\n",
      "[LightGBM] [Warning] min_data_in_leaf is set=500, min_child_samples=20 will be ignored. Current value: min_data_in_leaf=500\n",
      "[CV] END learning_rate=0.1, max_depth=10, min_data_in_leaf=500, num_iterations=500, num_leaves=50; total time=   0.1s\n",
      "[LightGBM] [Warning] min_data_in_leaf is set=500, min_child_samples=20 will be ignored. Current value: min_data_in_leaf=500\n",
      "[CV] END learning_rate=0.1, max_depth=10, min_data_in_leaf=500, num_iterations=500, num_leaves=50; total time=   0.1s\n",
      "[CV] END learning_rate=0.1, max_depth=10, min_data_in_leaf=500, num_iterations=500, num_leaves=50; total time=   0.1s\n",
      "[CV] END learning_rate=0.1, max_depth=10, min_data_in_leaf=10, num_iterations=500, num_leaves=50; total time=  22.1s\n",
      "[CV] END learning_rate=0.1, max_depth=10, min_data_in_leaf=500, num_iterations=500, num_leaves=50; total time=   0.1s\n",
      "[CV] END learning_rate=0.1, max_depth=10, min_data_in_leaf=100, num_iterations=500, num_leaves=50; total time=   5.0s\n",
      "[CV] END learning_rate=0.1, max_depth=10, min_data_in_leaf=10, num_iterations=500, num_leaves=50; total time=  22.6s\n",
      "[CV] END learning_rate=0.1, max_depth=10, min_data_in_leaf=100, num_iterations=500, num_leaves=50; total time=   4.5s\n",
      "[CV] END learning_rate=0.1, max_depth=10, min_data_in_leaf=100, num_iterations=500, num_leaves=50; total time=   3.0s\n",
      "[LightGBM] [Warning] min_data_in_leaf is set=100, min_child_samples=20 will be ignored. Current value: min_data_in_leaf=100\n"
     ]
    },
    {
     "name": "stderr",
     "output_type": "stream",
     "text": [
      "\u001b[1;33mUserWarning: Found `num_iterations` in params. Will use it instead of argument\u001b[0m \u001b[1;30m(raised from /home/slazien/.local/share/virtualenvs/linkedin_misinformation-xOmYosQV/lib/python3.8/site-packages/lightgbm/engine.py:177)\u001b[0m\n"
     ]
    },
    {
     "name": "stdout",
     "output_type": "stream",
     "text": [
      "precision: 0.8\n",
      "recall: 0.779\n",
      "f1: 0.789\n",
      "AUC: 0.733\n"
     ]
    }
   ],
   "source": [
    "estimator_lgb_counter_non = lgb.LGBMClassifier(objective=\"binary\", random_state=SEED)\n",
    "grid_search_lgb_counter_non = GridSearchCV(\n",
    "    estimator=estimator_lgb_counter_non,\n",
    "    param_grid=parameters_lgb,\n",
    "    scoring=\"f1\",\n",
    "    n_jobs=-1,\n",
    "    cv=5,\n",
    "    verbose=2\n",
    ")\n",
    "grid_search_lgb_counter_non.fit(X_train_counter_non, y_train_counter_non)\n",
    "preds_lgb_counter_non = grid_search_lgb_counter_non.predict(X_test_counter_non)"
   ]
  },
  {
   "cell_type": "code",
   "execution_count": 101,
   "id": "02df3292",
   "metadata": {},
   "outputs": [
    {
     "name": "stdout",
     "output_type": "stream",
     "text": [
      "precision: 0.8\n",
      "recall: 0.779\n",
      "f1: 0.789\n",
      "AUC: 0.733\n"
     ]
    }
   ],
   "source": [
    "print_perf_metrics(preds_lgb_counter_non, y_test_counter_non)"
   ]
  },
  {
   "cell_type": "code",
   "execution_count": 106,
   "id": "921b4967",
   "metadata": {},
   "outputs": [],
   "source": [
    "# Predict using both models: misinfo vs (counter, non) and counter vs non\n",
    "def predict_joint(model_misinfo_non, model_counter_non, X):\n",
    "    preds_misinfo_non = model_misinfo_non.predict(X)\n",
    "    preds_counter_non = model_counter_non.predict(X)\n",
    "    # Remap counter to -1, and non to 0, so that final labels will be 0 (counter), 1 (non), 2 (mis)\n",
    "    mapping_counter_non = {0: -1, 1: 0}\n",
    "    \n",
    "    # Combine predictions\n",
    "    preds_combined = []\n",
    "    for i in range(X.shape[0]):\n",
    "        pred_misinfo_non = preds_misinfo_non[i]\n",
    "        # Other, get pred from counter vs non model\n",
    "        if pred_misinfo_non == 0:\n",
    "            pred_current = mapping_counter_non[preds_counter_non[i]]\n",
    "        # Misinfo\n",
    "        elif pred_misinfo_non == 1:\n",
    "            pred_current = pred_misinfo_non\n",
    "        preds_combined.append(pred_current)\n",
    "    \n",
    "    return preds_combined"
   ]
  },
  {
   "cell_type": "code",
   "execution_count": 138,
   "id": "50c30fdd",
   "metadata": {},
   "outputs": [
    {
     "name": "stdout",
     "output_type": "stream",
     "text": [
      "precision: 0.746\n",
      "recall: 0.753\n",
      "f1: 0.74\n"
     ]
    }
   ],
   "source": [
    "label_mapping_combined = {\"c\": -1, \"n\": 0, \"m\": 1}\n",
    "labels_combined = [label_mapping_combined[label] for label in labels_nonempty]\n",
    "\n",
    "X_train_combined, X_test_combined, y_train_combined, y_test_combined = train_test_split(embeddings_clip, labels_combined, test_size=0.2, random_state=SEED)\n",
    "\n",
    "preds_combined = predict_joint(grid_search_lgb, grid_search_lgb_counter_non, X_test_combined)\n",
    "\n",
    "print_perf_metrics(preds_combined, y_test_combined, \"macro\")"
   ]
  },
  {
   "cell_type": "code",
   "execution_count": 146,
   "id": "a1cce42d",
   "metadata": {},
   "outputs": [],
   "source": [
    "# Use combined model for pred on whole unlabeled dataset\n",
    "# Exclude rows with empty text after cleaning\n",
    "posts_unlabeled[\"label_predicted\"] = predict_joint(grid_search_lgb, grid_search_lgb_counter_non, embeddings_unlabeled)"
   ]
  },
  {
   "cell_type": "code",
   "execution_count": 148,
   "id": "2fbe831e",
   "metadata": {},
   "outputs": [],
   "source": [
    "posts_unlabeled.to_json(\"data_labeled_lf_3class_2model.json\")"
   ]
  },
  {
   "cell_type": "markdown",
   "id": "b9a9e1b9",
   "metadata": {},
   "source": [
    "## Train SVM using TF-IDF features (baseline #1)"
   ]
  },
  {
   "cell_type": "code",
   "execution_count": 196,
   "id": "8143a4b4",
   "metadata": {},
   "outputs": [
    {
     "name": "stdout",
     "output_type": "stream",
     "text": [
      "huggingface/tokenizers: The current process just got forked, after parallelism has already been used. Disabling parallelism to avoid deadlocks...\n",
      "To disable this warning, you can either:\n",
      "\t- Avoid using `tokenizers` before the fork if possible\n",
      "\t- Explicitly set the environment variable TOKENIZERS_PARALLELISM=(true | false)\n",
      "huggingface/tokenizers: The current process just got forked, after parallelism has already been used. Disabling parallelism to avoid deadlocks...\n",
      "To disable this warning, you can either:\n",
      "\t- Avoid using `tokenizers` before the fork if possible\n",
      "\t- Explicitly set the environment variable TOKENIZERS_PARALLELISM=(true | false)\n",
      "huggingface/tokenizers: The current process just got forked, after parallelism has already been used. Disabling parallelism to avoid deadlocks...\n",
      "To disable this warning, you can either:\n",
      "\t- Avoid using `tokenizers` before the fork if possible\n",
      "\t- Explicitly set the environment variable TOKENIZERS_PARALLELISM=(true | false)\n",
      "huggingface/tokenizers: The current process just got forked, after parallelism has already been used. Disabling parallelism to avoid deadlocks...\n",
      "To disable this warning, you can either:\n",
      "\t- Avoid using `tokenizers` before the fork if possible\n",
      "\t- Explicitly set the environment variable TOKENIZERS_PARALLELISM=(true | false)\n",
      "huggingface/tokenizers: The current process just got forked, after parallelism has already been used. Disabling parallelism to avoid deadlocks...\n",
      "To disable this warning, you can either:\n",
      "\t- Avoid using `tokenizers` before the fork if possible\n",
      "\t- Explicitly set the environment variable TOKENIZERS_PARALLELISM=(true | false)\n",
      "huggingface/tokenizers: The current process just got forked, after parallelism has already been used. Disabling parallelism to avoid deadlocks...\n",
      "To disable this warning, you can either:\n",
      "\t- Avoid using `tokenizers` before the fork if possible\n",
      "\t- Explicitly set the environment variable TOKENIZERS_PARALLELISM=(true | false)\n",
      "huggingface/tokenizers: The current process just got forked, after parallelism has already been used. Disabling parallelism to avoid deadlocks...\n",
      "To disable this warning, you can either:\n",
      "\t- Avoid using `tokenizers` before the fork if possible\n",
      "\t- Explicitly set the environment variable TOKENIZERS_PARALLELISM=(true | false)\n"
     ]
    },
    {
     "name": "stderr",
     "output_type": "stream",
     "text": [
      "\u001b[1;33mFutureWarning: The behavior of `series[i:j]` with an integer-dtype index is deprecated. In a future version, this will be treated as *label-based* indexing, consistent with e.g. `series[i]` lookups. To retain the old behavior, use `series.iloc[i:j]`. To get the future behavior, use `series.loc[i:j]`.\u001b[0m \u001b[1;30m(raised from /tmp/ipykernel_8847/1704983545.py:3)\u001b[0m\n"
     ]
    }
   ],
   "source": [
    "posts_benchmark = pd.read_json(\"data_labeled_lf_2class.json\")\n",
    "text_clean_benchmark = preprocess_parallel(posts_benchmark[\"Text\"], chunksize=500)"
   ]
  },
  {
   "cell_type": "code",
   "execution_count": 226,
   "id": "fc2f4bab",
   "metadata": {},
   "outputs": [],
   "source": [
    "# vectorizer = TfidfVectorizer()\n",
    "# text_tfidf = vectorizer.fit_transform(\" \".join(text) for text in text_clean_benchmark)\n",
    "embeddings_clip_benchmark = c.encode([\" \".join(text) for text in text_clean_benchmark])"
   ]
  },
  {
   "cell_type": "code",
   "execution_count": 227,
   "id": "481980ac",
   "metadata": {},
   "outputs": [],
   "source": [
    "X_train_tfidf, X_test_tfidf, y_train_tfidf, y_test_tfidf = train_test_split(embeddings_clip_benchmark, posts_benchmark.label_predicted, test_size=0.2, random_state=SEED)"
   ]
  },
  {
   "cell_type": "code",
   "execution_count": 231,
   "id": "455d916d",
   "metadata": {},
   "outputs": [
    {
     "name": "stdout",
     "output_type": "stream",
     "text": [
      "Fitting 5 folds for each of 20 candidates, totalling 100 fits\n",
      "huggingface/tokenizers: The current process just got forked, after parallelism has already been used. Disabling parallelism to avoid deadlocks...\n",
      "To disable this warning, you can either:\n",
      "\t- Avoid using `tokenizers` before the fork if possible\n",
      "\t- Explicitly set the environment variable TOKENIZERS_PARALLELISM=(true | false)\n",
      "huggingface/tokenizers: The current process just got forked, after parallelism has already been used. Disabling parallelism to avoid deadlocks...\n",
      "To disable this warning, you can either:\n",
      "\t- Avoid using `tokenizers` before the fork if possible\n",
      "\t- Explicitly set the environment variable TOKENIZERS_PARALLELISM=(true | false)\n",
      "huggingface/tokenizers: The current process just got forked, after parallelism has already been used. Disabling parallelism to avoid deadlocks...\n",
      "To disable this warning, you can either:\n",
      "\t- Avoid using `tokenizers` before the fork if possible\n",
      "\t- Explicitly set the environment variable TOKENIZERS_PARALLELISM=(true | false)\n",
      "huggingface/tokenizers: The current process just got forked, after parallelism has already been used. Disabling parallelism to avoid deadlocks...\n",
      "To disable this warning, you can either:\n",
      "\t- Avoid using `tokenizers` before the fork if possible\n",
      "\t- Explicitly set the environment variable TOKENIZERS_PARALLELISM=(true | false)\n",
      "huggingface/tokenizers: The current process just got forked, after parallelism has already been used. Disabling parallelism to avoid deadlocks...\n",
      "To disable this warning, you can either:\n",
      "\t- Avoid using `tokenizers` before the fork if possible\n",
      "\t- Explicitly set the environment variable TOKENIZERS_PARALLELISM=(true | false)\n",
      "huggingface/tokenizers: The current process just got forked, after parallelism has already been used. Disabling parallelism to avoid deadlocks...\n",
      "To disable this warning, you can either:\n",
      "\t- Avoid using `tokenizers` before the fork if possible\n",
      "\t- Explicitly set the environment variable TOKENIZERS_PARALLELISM=(true | false)\n",
      "huggingface/tokenizers: The current process just got forked, after parallelism has already been used. Disabling parallelism to avoid deadlocks...\n",
      "To disable this warning, you can either:\n",
      "\t- Avoid using `tokenizers` before the fork if possible\n",
      "\t- Explicitly set the environment variable TOKENIZERS_PARALLELISM=(true | false)\n",
      "huggingface/tokenizers: The current process just got forked, after parallelism has already been used. Disabling parallelism to avoid deadlocks...\n",
      "To disable this warning, you can either:\n",
      "\t- Avoid using `tokenizers` before the fork if possible\n",
      "\t- Explicitly set the environment variable TOKENIZERS_PARALLELISM=(true | false)\n",
      "[CV] END ...............................C=0.1, kernel=linear; total time=  17.7s\n",
      "[CV] END ...............................C=0.1, kernel=linear; total time=  18.9s\n",
      "[CV] END ...............................C=0.1, kernel=linear; total time=  19.0s\n",
      "[CV] END ...............................C=0.1, kernel=linear; total time=  18.9s\n",
      "[CV] END ...............................C=0.1, kernel=linear; total time=  20.0s\n",
      "[CV] END .................................C=0.1, kernel=poly; total time=  23.7s\n",
      "[CV] END .................................C=0.1, kernel=poly; total time=  24.7s\n",
      "[CV] END .................................C=0.1, kernel=poly; total time=  25.6s\n",
      "[CV] END .................................C=0.1, kernel=poly; total time=  21.9s\n",
      "[CV] END .................................C=0.1, kernel=poly; total time=  24.0s\n",
      "[CV] END ..................................C=0.1, kernel=rbf; total time=  27.8s\n",
      "[CV] END ..................................C=0.1, kernel=rbf; total time=  28.6s\n",
      "[CV] END ..................................C=0.1, kernel=rbf; total time=  29.9s\n",
      "[CV] END ..................................C=0.1, kernel=rbf; total time=  26.9s\n",
      "[CV] END ..................................C=0.1, kernel=rbf; total time=  26.8s\n",
      "[CV] END ..............................C=0.1, kernel=sigmoid; total time=  29.0s\n",
      "[CV] END ..............................C=0.1, kernel=sigmoid; total time=  29.7s\n",
      "[CV] END ...............................C=0.5, kernel=linear; total time=  19.5s\n",
      "[CV] END ...............................C=0.5, kernel=linear; total time=  18.7s\n",
      "[CV] END ..............................C=0.1, kernel=sigmoid; total time=  28.6s\n",
      "[CV] END ...............................C=0.5, kernel=linear; total time=  20.8s\n",
      "[CV] END ...............................C=0.5, kernel=linear; total time=  20.6s\n",
      "[CV] END ..............................C=0.1, kernel=sigmoid; total time=  30.1s\n",
      "[CV] END ..............................C=0.1, kernel=sigmoid; total time=  31.5s\n",
      "[CV] END ...............................C=0.5, kernel=linear; total time=  20.5s\n",
      "[CV] END .................................C=0.5, kernel=poly; total time=  20.4s\n",
      "[CV] END .................................C=0.5, kernel=poly; total time=  21.5s\n",
      "[CV] END .................................C=0.5, kernel=poly; total time=  22.2s\n",
      "[CV] END .................................C=0.5, kernel=poly; total time=  23.2s\n",
      "[CV] END .................................C=0.5, kernel=poly; total time=  21.7s\n",
      "[CV] END ..................................C=0.5, kernel=rbf; total time=  26.9s\n",
      "[CV] END ..................................C=0.5, kernel=rbf; total time=  24.8s\n",
      "[CV] END ..................................C=0.5, kernel=rbf; total time=  22.1s\n",
      "[CV] END ..................................C=0.5, kernel=rbf; total time=  22.5s\n",
      "[CV] END ..................................C=0.5, kernel=rbf; total time=  22.5s\n",
      "[CV] END ..............................C=0.5, kernel=sigmoid; total time=  22.6s\n",
      "[CV] END ..............................C=0.5, kernel=sigmoid; total time=  23.4s\n",
      "[CV] END ..............................C=0.5, kernel=sigmoid; total time=  22.0s\n",
      "[CV] END ..............................C=0.5, kernel=sigmoid; total time=  24.7s\n",
      "[CV] END ..............................C=0.5, kernel=sigmoid; total time=  24.9s\n",
      "[CV] END .................................C=1, kernel=linear; total time=  23.5s\n",
      "[CV] END .................................C=1, kernel=linear; total time=  24.2s\n",
      "[CV] END ...................................C=1, kernel=poly; total time=  18.8s\n",
      "[CV] END .................................C=1, kernel=linear; total time=  24.1s\n",
      "[CV] END .................................C=1, kernel=linear; total time=  23.8s\n",
      "[CV] END .................................C=1, kernel=linear; total time=  23.3s\n",
      "[CV] END ...................................C=1, kernel=poly; total time=  20.0s\n",
      "[CV] END ...................................C=1, kernel=poly; total time=  20.1s\n",
      "[CV] END ...................................C=1, kernel=poly; total time=  19.7s\n",
      "[CV] END ...................................C=1, kernel=poly; total time=  19.7s\n",
      "[CV] END ....................................C=1, kernel=rbf; total time=  22.7s\n",
      "[CV] END ....................................C=1, kernel=rbf; total time=  22.0s\n",
      "[CV] END ....................................C=1, kernel=rbf; total time=  24.1s\n",
      "[CV] END ....................................C=1, kernel=rbf; total time=  24.5s\n",
      "[CV] END ................................C=1, kernel=sigmoid; total time=  20.1s\n",
      "[CV] END ....................................C=1, kernel=rbf; total time=  23.4s\n",
      "[CV] END ................................C=1, kernel=sigmoid; total time=  18.3s\n",
      "[CV] END ................................C=1, kernel=sigmoid; total time=  18.3s\n",
      "[CV] END ................................C=1, kernel=sigmoid; total time=  19.5s\n",
      "[CV] END ................................C=1, kernel=sigmoid; total time=  20.7s\n",
      "[CV] END ..................................C=10, kernel=poly; total time=  23.6s\n",
      "[CV] END ..................................C=10, kernel=poly; total time=  21.3s\n",
      "[CV] END ..................................C=10, kernel=poly; total time=  21.1s\n",
      "[CV] END ..................................C=10, kernel=poly; total time=  13.0s\n",
      "[CV] END ..................................C=10, kernel=poly; total time=  11.8s\n",
      "[CV] END ...................................C=10, kernel=rbf; total time=  11.7s\n",
      "[CV] END ...................................C=10, kernel=rbf; total time=  11.9s\n",
      "[CV] END ...................................C=10, kernel=rbf; total time=  11.5s\n",
      "[CV] END ...................................C=10, kernel=rbf; total time=  10.5s\n",
      "[CV] END ................................C=10, kernel=linear; total time= 1.1min\n",
      "[CV] END ...............................C=10, kernel=sigmoid; total time=   7.1s\n",
      "[CV] END ...............................C=10, kernel=sigmoid; total time=   7.8s\n",
      "[CV] END ................................C=10, kernel=linear; total time= 1.0min\n",
      "[CV] END ...................................C=10, kernel=rbf; total time=  13.3s\n",
      "[CV] END ...............................C=10, kernel=sigmoid; total time=   9.6s\n",
      "[CV] END ...............................C=10, kernel=sigmoid; total time=   9.2s\n",
      "[CV] END ...............................C=10, kernel=sigmoid; total time=  11.0s\n",
      "[CV] END ................................C=10, kernel=linear; total time= 1.2min\n",
      "[CV] END ................................C=10, kernel=linear; total time= 1.4min\n",
      "[CV] END ................................C=10, kernel=linear; total time= 1.5min\n",
      "[CV] END .................................C=100, kernel=poly; total time=  20.4s\n",
      "[CV] END .................................C=100, kernel=poly; total time=  20.0s\n",
      "[CV] END .................................C=100, kernel=poly; total time=  20.2s\n",
      "[CV] END .................................C=100, kernel=poly; total time=  14.2s\n",
      "[CV] END .................................C=100, kernel=poly; total time=  15.1s\n",
      "[CV] END ..................................C=100, kernel=rbf; total time=  14.2s\n",
      "[CV] END ..................................C=100, kernel=rbf; total time=  12.7s\n",
      "[CV] END ..................................C=100, kernel=rbf; total time=  12.1s\n",
      "[CV] END ..............................C=100, kernel=sigmoid; total time=   6.6s\n",
      "[CV] END ..................................C=100, kernel=rbf; total time=  12.0s\n",
      "[CV] END ..................................C=100, kernel=rbf; total time=  13.1s\n",
      "[CV] END ..............................C=100, kernel=sigmoid; total time=   6.5s\n",
      "[CV] END ..............................C=100, kernel=sigmoid; total time=   6.6s\n",
      "[CV] END ..............................C=100, kernel=sigmoid; total time=   5.1s\n",
      "[CV] END ..............................C=100, kernel=sigmoid; total time=   4.8s\n",
      "[CV] END ...............................C=100, kernel=linear; total time= 5.3min\n",
      "[CV] END ...............................C=100, kernel=linear; total time= 5.9min\n",
      "[CV] END ...............................C=100, kernel=linear; total time= 5.9min\n",
      "[CV] END ...............................C=100, kernel=linear; total time= 6.1min\n",
      "[CV] END ...............................C=100, kernel=linear; total time= 6.5min\n"
     ]
    }
   ],
   "source": [
    "parameters_svm_tfidf = {\n",
    "    \"C\": [0.1, 0.5, 1, 10, 100],\n",
    "    \"kernel\": [\"linear\", \"poly\", \"rbf\", \"sigmoid\"]\n",
    "}\n",
    "estimator_svm_tfidf = SVC()\n",
    "\n",
    "grid_search_svm_tfidf = GridSearchCV(\n",
    "    estimator=estimator_svm_tfidf,\n",
    "    param_grid=parameters_svm_tfidf,\n",
    "    scoring=\"f1_micro\",\n",
    "    n_jobs=-1,\n",
    "    cv=5,\n",
    "    verbose=2\n",
    ")\n",
    "grid_search_svm_tfidf.fit(X_train_tfidf, y_train_tfidf)\n",
    "preds_svm_tfidf = grid_search_svm_tfidf.predict(X_test_tfidf)"
   ]
  },
  {
   "cell_type": "code",
   "execution_count": 232,
   "id": "c422478d",
   "metadata": {},
   "outputs": [
    {
     "name": "stdout",
     "output_type": "stream",
     "text": [
      "precision: 0.821\n",
      "recall: 0.625\n",
      "f1: 0.71\n",
      "AUC: 0.79\n"
     ]
    }
   ],
   "source": [
    "print_perf_metrics(preds_svm_tfidf, y_test_tfidf)"
   ]
  },
  {
   "cell_type": "code",
   "execution_count": 233,
   "id": "c24241cb",
   "metadata": {},
   "outputs": [
    {
     "data": {
      "text/plain": [
       "0.8749150237933379"
      ]
     },
     "execution_count": 233,
     "metadata": {},
     "output_type": "execute_result"
    }
   ],
   "source": [
    "np.mean([(preds_svm_tfidf[i] == y_test_tfidf.iloc[i]) for i in range(len(y_test_tfidf))])"
   ]
  }
 ],
 "metadata": {
  "kernelspec": {
   "display_name": "linkedin_misinformation-xOmYosQV",
   "language": "python",
   "name": "linkedin_misinformation-xomyosqv"
  },
  "language_info": {
   "codemirror_mode": {
    "name": "ipython",
    "version": 3
   },
   "file_extension": ".py",
   "mimetype": "text/x-python",
   "name": "python",
   "nbconvert_exporter": "python",
   "pygments_lexer": "ipython3",
   "version": "3.8.10"
  }
 },
 "nbformat": 4,
 "nbformat_minor": 5
}
