{
 "cells": [
  {
   "cell_type": "code",
   "execution_count": 1,
   "metadata": {},
   "outputs": [],
   "source": [
    "import pandas as pd\n",
    "import re\n",
    "from scipy.stats import ttest_ind\n",
    "\n",
    "import matplotlib.pyplot as plt\n",
    "import seaborn as sns\n",
    "\n",
    "import spacy\n",
    "from vaderSentiment.vaderSentiment import SentimentIntensityAnalyzer\n",
    "\n",
    "from tqdm import tqdm\n",
    "\n",
    "from collections import Counter\n",
    "\n",
    "from sklearn.metrics import cohen_kappa_score"
   ]
  },
  {
   "cell_type": "code",
   "execution_count": 17,
   "metadata": {},
   "outputs": [
    {
     "name": "stderr",
     "output_type": "stream",
     "text": [
      "100%|██████████| 8336/8336 [02:53<00:00, 48.16it/s]\n"
     ]
    }
   ],
   "source": [
    "posts = pd.read_json('FraudLink.json')\n",
    "\n",
    "posts['Words in Text'] = posts[\"Text\"].apply(lambda x: len(x.split(\" \")))\n",
    "posts['Characters in Text'] = posts[\"Text\"].apply(lambda x: len(x))\n",
    "posts['Word Lengths'] = posts[\"Text\"].apply(lambda x: [len(word) for word in x.split(\" \")])\n",
    "posts['Capital Letters'] =  posts[\"Text\"].apply(lambda x: sum(1 for c in x if c.isupper()))\n",
    "posts['Hashtags'] =  posts[\"Text\"].apply(lambda x: sum(1 for c in x if c == '#'))\n",
    "posts.insert(7, 'Comments Collected', posts['Comments Text'].apply(lambda x: len(x)))\n",
    "\n",
    "sentence_lengths = []\n",
    "nlp=spacy.load('en_core_web_sm')\n",
    "for post in tqdm(posts[\"Text\"]):\n",
    "    doc = nlp(post)\n",
    "    sents = list(doc.sents)\n",
    "    sentence_lengths.append(len(sents))\n",
    "posts['Sentences in Text'] = sentence_lengths\n",
    "\n",
    "sentiment_analyzer = SentimentIntensityAnalyzer()\n",
    "sentiment_scores = [sentiment_analyzer.polarity_scores(post)[\"compound\"] for post in posts[\"Text\"]]\n",
    "posts['Sentiment Score'] = sentiment_scores\n",
    "\n",
    "def media_type(x):\n",
    "    if 'Article' in x:\n",
    "        return 'Article'\n",
    "    else:\n",
    "        return x\n",
    "posts['Media Type Simple'] =  posts[\"Media Type\"].apply(lambda x: media_type(x))"
   ]
  },
  {
   "cell_type": "markdown",
   "metadata": {},
   "source": [
    "# Manually Labeled Data EDA"
   ]
  },
  {
   "cell_type": "code",
   "execution_count": 20,
   "metadata": {},
   "outputs": [
    {
     "name": "stdout",
     "output_type": "stream",
     "text": [
      "number of manually labeled posts: 982\n",
      "percentage of manually labeled posts: 11.780230326295586\n",
      "misinformation 36.456211812627295\n",
      "counter-misinformation 26.782077393075355\n",
      "non-misinformation 36.76171079429735\n"
     ]
    }
   ],
   "source": [
    "mis = posts[(posts['Is Hand Labeled'] == 1) & (posts['Multiclass Label'] == 'misinformation')]\n",
    "cou = posts[(posts['Is Hand Labeled'] == 1) & (posts['Multiclass Label'] == 'counter-misinformation')]\n",
    "neu = posts[(posts['Is Hand Labeled'] == 1) & (posts['Multiclass Label'] == 'non-misinformation')]\n",
    "\n",
    "print('number of manually labeled posts:', len(posts[(posts['Is Hand Labeled'] == 1)]))\n",
    "print('percentage of manually labeled posts:', len(posts[(posts['Is Hand Labeled'] == 1)]) / len(posts) * 100)\n",
    "print('misinformation', len(mis) / len(posts[(posts['Is Hand Labeled'] == 1)]) * 100)\n",
    "print('counter-misinformation', len(cou) / len(posts[(posts['Is Hand Labeled'] == 1)]) * 100)\n",
    "print('non-misinformation', len(neu) / len(posts[(posts['Is Hand Labeled'] == 1)]) * 100)"
   ]
  },
  {
   "cell_type": "code",
   "execution_count": 9,
   "metadata": {},
   "outputs": [
    {
     "name": "stdout",
     "output_type": "stream",
     "text": [
      "Cohen's kappa score:  0.8552433285189838\n"
     ]
    }
   ],
   "source": [
    "manual = pd.read_json('FraudLink_manually_labeled.json')\n",
    "print(\"Cohen's kappa score: \", cohen_kappa_score(manual['Label 1'], manual['Label 2']))"
   ]
  },
  {
   "cell_type": "code",
   "execution_count": 10,
   "metadata": {},
   "outputs": [
    {
     "name": "stdout",
     "output_type": "stream",
     "text": [
      "t-test mis and cou Ttest_indResult(statistic=-0.45580530248774037, pvalue=0.6486898472161904)\n",
      "t-test mis and neu Ttest_indResult(statistic=0.2535470799190561, pvalue=0.7999181688394547)\n",
      "t-test cou and neu Ttest_indResult(statistic=0.757390180183832, pvalue=0.44910295764222974)\n",
      "\n",
      "Average words per post for misinformation posts:  110.00837988826815\n",
      "Average words per post for counter-misinformation posts:  114.70342205323193\n",
      "Average words per post for neutral posts:  107.5235457063712\n"
     ]
    }
   ],
   "source": [
    "# Number of words per post: \n",
    "\n",
    "print('t-test mis and cou',ttest_ind(mis[\"Text\"].apply(lambda x: len(x.split(\" \"))), cou[\"Text\"].apply(lambda x: len(x.split(\" \")))))\n",
    "print('t-test mis and neu',ttest_ind(mis[\"Text\"].apply(lambda x: len(x.split(\" \"))), neu[\"Text\"].apply(lambda x: len(x.split(\" \")))))\n",
    "print('t-test cou and neu',ttest_ind(cou[\"Text\"].apply(lambda x: len(x.split(\" \"))), neu[\"Text\"].apply(lambda x: len(x.split(\" \")))))\n",
    "print('')\n",
    "print('Average words per post for misinformation posts: ', mis['Words in Text'].mean())\n",
    "print('Average words per post for counter-misinformation posts: ', cou['Words in Text'].mean())\n",
    "print('Average words per post for neutral posts: ', neu['Words in Text'].mean())"
   ]
  },
  {
   "cell_type": "code",
   "execution_count": 11,
   "metadata": {},
   "outputs": [
    {
     "name": "stdout",
     "output_type": "stream",
     "text": [
      "t-test mis and cou Ttest_indResult(statistic=-10.123457316805345, pvalue=4.5182370362409e-24)\n",
      "t-test mis and neu Ttest_indResult(statistic=-14.124829751157115, pvalue=3.036049575616913e-45)\n",
      "t-test cou and neu Ttest_indResult(statistic=-4.468325966082324, pvalue=7.89592894110163e-06)\n",
      "\n",
      "Average length of words for misinformation posts:  5.133128507223929\n",
      "Average length of words for counter-misinformation posts:  5.414592103954653\n",
      "Average length of words for neutral posts:  5.565488458367684\n"
     ]
    }
   ],
   "source": [
    "# Word lengths:\n",
    "\n",
    "mis_wl = [item for sublist in list(mis['Word Lengths']) for item in sublist]\n",
    "cou_wl = [item for sublist in list(cou['Word Lengths']) for item in sublist]\n",
    "neu_wl = [item for sublist in list(neu['Word Lengths']) for item in sublist]\n",
    "\n",
    "print('t-test mis and cou',ttest_ind(mis_wl, cou_wl))\n",
    "print('t-test mis and neu',ttest_ind(mis_wl, neu_wl))\n",
    "print('t-test cou and neu',ttest_ind(cou_wl, neu_wl))\n",
    "print('')\n",
    "print('Average length of words for misinformation posts: ', pd.Series(mis_wl).mean())\n",
    "print('Average length of words for counter-misinformation posts: ', pd.Series(cou_wl).mean())\n",
    "print('Average length of words for neutral posts: ', pd.Series(neu_wl).mean())"
   ]
  },
  {
   "cell_type": "code",
   "execution_count": 12,
   "metadata": {},
   "outputs": [
    {
     "name": "stdout",
     "output_type": "stream",
     "text": [
      "t-test mis and cou Ttest_indResult(statistic=-10.123457316805345, pvalue=4.5182370362409e-24)\n",
      "t-test mis and neu Ttest_indResult(statistic=-14.124829751157115, pvalue=3.036049575616913e-45)\n",
      "t-test cou and neu Ttest_indResult(statistic=-4.468325966082324, pvalue=7.89592894110163e-06)\n",
      "\n",
      "Average length of words for misinformation posts:  5.133128507223929\n",
      "Average length of words for counter-misinformation posts:  5.414592103954653\n",
      "Average length of words for neutral posts:  5.565488458367684\n"
     ]
    }
   ],
   "source": [
    "# Word lengths:\n",
    "\n",
    "mis_wl = [item for sublist in list(mis['Word Lengths']) for item in sublist]\n",
    "cou_wl = [item for sublist in list(cou['Word Lengths']) for item in sublist]\n",
    "neu_wl = [item for sublist in list(neu['Word Lengths']) for item in sublist]\n",
    "\n",
    "print('t-test mis and cou',ttest_ind(mis_wl, cou_wl))\n",
    "print('t-test mis and neu',ttest_ind(mis_wl, neu_wl))\n",
    "print('t-test cou and neu',ttest_ind(cou_wl, neu_wl))\n",
    "print('')\n",
    "print('Average length of words for misinformation posts: ', pd.Series(mis_wl).mean())\n",
    "print('Average length of words for counter-misinformation posts: ', pd.Series(cou_wl).mean())\n",
    "print('Average length of words for neutral posts: ', pd.Series(neu_wl).mean())"
   ]
  },
  {
   "cell_type": "code",
   "execution_count": 25,
   "metadata": {},
   "outputs": [
    {
     "name": "stdout",
     "output_type": "stream",
     "text": [
      "t-test mis and cou Ttest_indResult(statistic=0.7689147980421933, pvalue=0.4422371659786497)\n",
      "t-test mis and neu Ttest_indResult(statistic=0.9997935897909604, pvalue=0.3177476979086668)\n",
      "t-test cou and neu Ttest_indResult(statistic=0.2061741886194612, pvalue=0.8367223148437442)\n",
      "\n",
      "Average number of sentences in misinformation posts:  6.569832402234637\n",
      "Average number of sentences in counter-misinformation posts:  6.136882129277566\n",
      "Average number of sentences in neutral posts:  6.033240997229917\n"
     ]
    }
   ],
   "source": [
    "# Number of sentences\n",
    "\n",
    "print('t-test mis and cou',ttest_ind(mis['Sentences in Text'], cou['Sentences in Text']))\n",
    "print('t-test mis and neu',ttest_ind(mis['Sentences in Text'], neu['Sentences in Text']))\n",
    "print('t-test cou and neu',ttest_ind(cou['Sentences in Text'], neu['Sentences in Text']))\n",
    "print('')\n",
    "print('Average number of sentences in misinformation posts: ', mis['Sentences in Text'].mean())\n",
    "print('Average number of sentences in counter-misinformation posts: ', cou['Sentences in Text'].mean())\n",
    "print('Average number of sentences in neutral posts: ', neu['Sentences in Text'].mean())"
   ]
  },
  {
   "cell_type": "code",
   "execution_count": 29,
   "metadata": {},
   "outputs": [
    {
     "name": "stdout",
     "output_type": "stream",
     "text": [
      "t-test mis and cou Ttest_indResult(statistic=-1.0033241006811624, pvalue=0.3160965557516662)\n",
      "t-test mis and neu Ttest_indResult(statistic=-0.5355007011105647, pvalue=0.5924697281208283)\n",
      "t-test cou and neu Ttest_indResult(statistic=0.5036151339970522, pvalue=0.6147101648584532)\n",
      "\n",
      "Average Characters in Text in misinformation posts:  673.695530726257\n",
      "Average Characters in Text in counter-misinformation posts:  734.7756653992395\n",
      "Average Characters in Text in neutral posts:  704.9445983379501\n"
     ]
    }
   ],
   "source": [
    "# Number of characters\n",
    "\n",
    "print('t-test mis and cou',ttest_ind(mis['Characters in Text'], cou['Characters in Text']))\n",
    "print('t-test mis and neu',ttest_ind(mis['Characters in Text'], neu['Characters in Text']))\n",
    "print('t-test cou and neu',ttest_ind(cou['Characters in Text'], neu['Characters in Text']))\n",
    "print('')\n",
    "print('Average Characters in Text in misinformation posts: ', mis['Characters in Text'].mean())\n",
    "print('Average Characters in Text in counter-misinformation posts: ', cou['Characters in Text'].mean())\n",
    "print('Average Characters in Text in neutral posts: ', neu['Characters in Text'].mean())"
   ]
  },
  {
   "cell_type": "code",
   "execution_count": 28,
   "metadata": {},
   "outputs": [
    {
     "name": "stdout",
     "output_type": "stream",
     "text": [
      "t-test mis and cou Ttest_indResult(statistic=4.374871924777352, pvalue=1.4257331060951403e-05)\n",
      "t-test mis and neu Ttest_indResult(statistic=2.5409733664207734, pvalue=0.011264084492718228)\n",
      "t-test cou and neu Ttest_indResult(statistic=-2.8802646038900193, pvalue=0.00411021028569204)\n",
      "\n",
      "Average number of capital letters per character in misinformation posts:  0.06535139198883269\n",
      "Average number of capital letters per character in counter-misinformation posts:  0.039536435230361495\n",
      "Average number of capital letters per character in neutral posts:  0.0508008643910197\n"
     ]
    }
   ],
   "source": [
    "# Capital letters per character\n",
    "\n",
    "mis_cap_sen = mis[mis['Characters in Text'] != 0]['Capital Letters'] / mis[mis['Characters in Text'] != 0]['Characters in Text']\n",
    "cou_cap_sen = cou[cou['Characters in Text'] != 0]['Capital Letters'] / cou[cou['Characters in Text'] != 0]['Characters in Text']\n",
    "neu_cap_sen = neu[neu['Characters in Text'] != 0]['Capital Letters'] / neu[neu['Characters in Text'] != 0]['Characters in Text']\n",
    "\n",
    "\n",
    "print('t-test mis and cou',ttest_ind(mis_cap_sen, cou_cap_sen))\n",
    "print('t-test mis and neu',ttest_ind(mis_cap_sen, neu_cap_sen))\n",
    "print('t-test cou and neu',ttest_ind(cou_cap_sen, neu_cap_sen))\n",
    "print('')\n",
    "print('Average number of capital letters per character in misinformation posts: ', mis_cap_sen.mean())\n",
    "print('Average number of capital letters per character in counter-misinformation posts: ', cou_cap_sen.mean())\n",
    "print('Average number of capital letters per character in neutral posts: ', neu_cap_sen.mean())"
   ]
  },
  {
   "cell_type": "code",
   "execution_count": 27,
   "metadata": {},
   "outputs": [
    {
     "name": "stdout",
     "output_type": "stream",
     "text": [
      "t-test mis and cou Ttest_indResult(statistic=-2.398396790827559, pvalue=0.016761994470579376)\n",
      "t-test mis and neu Ttest_indResult(statistic=-1.9209290130242698, pvalue=0.05513689658207003)\n",
      "t-test cou and neu Ttest_indResult(statistic=0.825910547946837, pvalue=0.40917150795628776)\n",
      "\n",
      "Average number of words per sentence in misinformation posts:  16.69127883515811\n",
      "Average number of words per sentence in counter-misinformation posts:  18.811547512182443\n",
      "Average number of words per sentence in neutral posts:  18.194716299092523\n"
     ]
    }
   ],
   "source": [
    "# Words per sentence\n",
    "\n",
    "mis_words_sen = mis[mis['Sentences in Text'] != 0]['Words in Text'] / mis[mis['Sentences in Text'] != 0]['Sentences in Text']\n",
    "cou_words_sen = cou[cou['Sentences in Text'] != 0]['Words in Text'] / cou[cou['Sentences in Text'] != 0]['Sentences in Text']\n",
    "neu_words_sen = neu[neu['Sentences in Text'] != 0]['Words in Text'] / neu[neu['Sentences in Text'] != 0]['Sentences in Text']\n",
    "\n",
    "print('t-test mis and cou',ttest_ind(mis_words_sen, cou_words_sen))\n",
    "print('t-test mis and neu',ttest_ind(mis_words_sen, neu_words_sen))\n",
    "print('t-test cou and neu',ttest_ind(cou_words_sen, neu_words_sen))\n",
    "print('')\n",
    "print('Average number of words per sentence in misinformation posts: ', mis_words_sen.mean())\n",
    "print('Average number of words per sentence in counter-misinformation posts: ', cou_words_sen.mean())\n",
    "print('Average number of words per sentence in neutral posts: ', neu_words_sen.mean())"
   ]
  },
  {
   "cell_type": "code",
   "execution_count": 13,
   "metadata": {},
   "outputs": [
    {
     "name": "stdout",
     "output_type": "stream",
     "text": [
      "t-test mis and cou Ttest_indResult(statistic=-1.5984415593956036, pvalue=0.11045503368232032)\n",
      "t-test mis and neu Ttest_indResult(statistic=-1.7893195290592256, pvalue=0.07398534220590122)\n",
      "t-test cou and neu Ttest_indResult(statistic=-0.43728908911353187, pvalue=0.6620534908648927)\n",
      "\n",
      "Average number of comments misinformation posts:  9.865921787709498\n",
      "Average number of comments counter-misinformation posts:  13.269961977186313\n",
      "Average number of comments neutral posts:  14.56786703601108\n"
     ]
    }
   ],
   "source": [
    "# Number of comments\n",
    "\n",
    "print('t-test mis and cou',ttest_ind(mis['Comments'], cou['Comments']))\n",
    "print('t-test mis and neu',ttest_ind(mis['Comments'], neu['Comments']))\n",
    "print('t-test cou and neu',ttest_ind(cou['Comments'], neu['Comments']))\n",
    "print('')\n",
    "print('Average number of comments misinformation posts: ', mis['Comments'].mean())\n",
    "print('Average number of comments counter-misinformation posts: ', cou['Comments'].mean())\n",
    "print('Average number of comments neutral posts: ', neu['Comments'].mean())"
   ]
  },
  {
   "cell_type": "code",
   "execution_count": 14,
   "metadata": {},
   "outputs": [
    {
     "name": "stdout",
     "output_type": "stream",
     "text": [
      "t-test mis and cou Ttest_indResult(statistic=-0.6440682283949871, pvalue=0.5197697642691296)\n",
      "t-test mis and neu Ttest_indResult(statistic=-2.8681610271340214, pvalue=0.004249936951992829)\n",
      "t-test cou and neu Ttest_indResult(statistic=-2.298354299600461, pvalue=0.021872436154799436)\n",
      "\n",
      "Average number of likes misinformation posts:  32.62849162011173\n",
      "Average number of likes counter-misinformation posts:  37.2851711026616\n",
      "Average number of likes neutral posts:  84.82271468144044\n"
     ]
    }
   ],
   "source": [
    "# Number of likes\n",
    "\n",
    "print('t-test mis and cou',ttest_ind(mis['Likes'], cou['Likes']))\n",
    "print('t-test mis and neu',ttest_ind(mis['Likes'], neu['Likes']))\n",
    "print('t-test cou and neu',ttest_ind(cou['Likes'], neu['Likes']))\n",
    "print('')\n",
    "print('Average number of likes misinformation posts: ', mis['Likes'].mean())\n",
    "print('Average number of likes counter-misinformation posts: ', cou['Likes'].mean())\n",
    "print('Average number of likes neutral posts: ', neu['Likes'].mean())"
   ]
  },
  {
   "cell_type": "code",
   "execution_count": 15,
   "metadata": {},
   "outputs": [
    {
     "name": "stdout",
     "output_type": "stream",
     "text": [
      "t-test mis and cou Ttest_indResult(statistic=-0.4053282143174686, pvalue=0.6853763195541217)\n",
      "t-test mis and neu Ttest_indResult(statistic=-2.3344548305604236, pvalue=0.01984712932899889)\n",
      "t-test cou and neu Ttest_indResult(statistic=-1.9215552798371223, pvalue=0.05511836170745501)\n",
      "\n",
      "Average number of reposts misinformation posts:  2.430167597765363\n",
      "Average number of reposts counter-misinformation posts:  2.67680608365019\n",
      "Average number of reposts neutral posts:  6.041551246537396\n"
     ]
    }
   ],
   "source": [
    "# Number of reposts\n",
    "\n",
    "print('t-test mis and cou',ttest_ind(mis['Reposts'], cou['Reposts']))\n",
    "print('t-test mis and neu',ttest_ind(mis['Reposts'], neu['Reposts']))\n",
    "print('t-test cou and neu',ttest_ind(cou['Reposts'], neu['Reposts']))\n",
    "print('')\n",
    "print('Average number of reposts misinformation posts: ', mis['Reposts'].mean())\n",
    "print('Average number of reposts counter-misinformation posts: ', cou['Reposts'].mean())\n",
    "print('Average number of reposts neutral posts: ', neu['Reposts'].mean())"
   ]
  },
  {
   "cell_type": "code",
   "execution_count": 21,
   "metadata": {},
   "outputs": [
    {
     "name": "stdout",
     "output_type": "stream",
     "text": [
      "t-test mis and cou Ttest_indResult(statistic=6.259701033460553, pvalue=7.209520638980189e-10)\n",
      "t-test mis and neu Ttest_indResult(statistic=-2.932194451561946, pvalue=0.003472974785510635)\n",
      "t-test cou and neu Ttest_indResult(statistic=-8.93583464527182, pvalue=4.55607637945374e-18)\n",
      "\n",
      "Average sentiment score misinformation posts:  0.16383324022346368\n",
      "Average sentiment score counter-misinformation posts:  -0.1645060836501901\n",
      "Average sentiment score neutral posts:  0.30115650969529084\n"
     ]
    }
   ],
   "source": [
    "# Average sentiment score\n",
    "\n",
    "print('t-test mis and cou',ttest_ind(mis['Sentiment Score'], cou['Sentiment Score']))\n",
    "print('t-test mis and neu',ttest_ind(mis['Sentiment Score'], neu['Sentiment Score']))\n",
    "print('t-test cou and neu',ttest_ind(cou['Sentiment Score'], neu['Sentiment Score']))\n",
    "print('')\n",
    "print('Average sentiment score misinformation posts: ', mis['Sentiment Score'].mean())\n",
    "print('Average sentiment score counter-misinformation posts: ', cou['Sentiment Score'].mean())\n",
    "print('Average sentiment score neutral posts: ', neu['Sentiment Score'].mean())"
   ]
  },
  {
   "cell_type": "code",
   "execution_count": 22,
   "metadata": {},
   "outputs": [
    {
     "name": "stdout",
     "output_type": "stream",
     "text": [
      "t-test mis and cou Ttest_indResult(statistic=1.8947986392752278, pvalue=0.058584829633620016)\n",
      "t-test mis and neu Ttest_indResult(statistic=0.4637656244050726, pvalue=0.6429564311610484)\n",
      "t-test cou and neu Ttest_indResult(statistic=-1.4332341816245298, pvalue=0.1522933631545429)\n",
      "\n",
      "Average number of capital letters in misinformation posts:  42.175977653631286\n",
      "Average number of capital letters in counter-misinformation posts:  26.193916349809886\n",
      "Average number of capital letters in neutral posts:  37.64819944598338\n"
     ]
    }
   ],
   "source": [
    "# Number of capital letters\n",
    "\n",
    "print('t-test mis and cou',ttest_ind(mis['Capital Letters'], cou['Capital Letters']))\n",
    "print('t-test mis and neu',ttest_ind(mis['Capital Letters'], neu['Capital Letters']))\n",
    "print('t-test cou and neu',ttest_ind(cou['Capital Letters'], neu['Capital Letters']))\n",
    "print('')\n",
    "print('Average number of capital letters in misinformation posts: ', mis['Capital Letters'].mean())\n",
    "print('Average number of capital letters in counter-misinformation posts: ', cou['Capital Letters'].mean())\n",
    "print('Average number of capital letters in neutral posts: ', neu['Capital Letters'].mean())"
   ]
  },
  {
   "cell_type": "code",
   "execution_count": 23,
   "metadata": {},
   "outputs": [
    {
     "name": "stdout",
     "output_type": "stream",
     "text": [
      "t-test mis and cou Ttest_indResult(statistic=3.301160595824181, pvalue=0.0010182220508516502)\n",
      "t-test mis and neu Ttest_indResult(statistic=-1.6459888741516029, pvalue=0.10020428581086056)\n",
      "t-test cou and neu Ttest_indResult(statistic=-3.764861706947099, pvalue=0.00018243627324587023)\n",
      "\n",
      "Average number of Hashtags in misinformation posts:  6.055865921787709\n",
      "Average number of Hashtags in counter-misinformation posts:  4.015209125475285\n",
      "Average number of Hashtags in neutral posts:  7.479224376731302\n"
     ]
    }
   ],
   "source": [
    "# Number of hashtags\n",
    "\n",
    "print('t-test mis and cou',ttest_ind(mis['Hashtags'], cou['Hashtags']))\n",
    "print('t-test mis and neu',ttest_ind(mis['Hashtags'], neu['Hashtags']))\n",
    "print('t-test cou and neu',ttest_ind(cou['Hashtags'], neu['Hashtags']))\n",
    "print('')\n",
    "print('Average number of Hashtags in misinformation posts: ', mis['Hashtags'].mean())\n",
    "print('Average number of Hashtags in counter-misinformation posts: ', cou['Hashtags'].mean())\n",
    "print('Average number of Hashtags in neutral posts: ', neu['Hashtags'].mean())"
   ]
  },
  {
   "cell_type": "code",
   "execution_count": 30,
   "metadata": {},
   "outputs": [
    {
     "name": "stderr",
     "output_type": "stream",
     "text": [
      "100%|██████████| 358/358 [00:08<00:00, 43.71it/s]\n"
     ]
    },
    {
     "data": {
      "image/png": "[encoded data removed]",
      "text/plain": [
       "<Figure size 432x288 with 1 Axes>"
      ]
     },
     "metadata": {
      "needs_background": "light"
     },
     "output_type": "display_data"
    }
   ],
   "source": [
    "# Entity types for misinformation\n",
    "\n",
    "entity_counts = Counter()\n",
    "for post in tqdm(mis[\"Text\"]):\n",
    "    doc = nlp(post)\n",
    "    for ent in doc.ents:\n",
    "        entity_counts.update([ent.label_])\n",
    "entity_counts_sorted = entity_counts.most_common()\n",
    "sns.barplot(x=[ent for ent, cnt in entity_counts_sorted], y=[cnt for ent, cnt in entity_counts_sorted]).set(title=\"Entity type counts\")\n",
    "plt.xticks(rotation=90)\n",
    "plt.show()"
   ]
  },
  {
   "cell_type": "code",
   "execution_count": 31,
   "metadata": {},
   "outputs": [
    {
     "name": "stderr",
     "output_type": "stream",
     "text": [
      "100%|██████████| 263/263 [00:06<00:00, 42.70it/s]\n"
     ]
    },
    {
     "data": {
      "image/png": "[encoded data removed]",
      "text/plain": [
       "<Figure size 432x288 with 1 Axes>"
      ]
     },
     "metadata": {
      "needs_background": "light"
     },
     "output_type": "display_data"
    }
   ],
   "source": [
    "# Entity types for counter-misinformation\n",
    "\n",
    "entity_counts = Counter()\n",
    "for post in tqdm(cou[\"Text\"]):\n",
    "    doc = nlp(post)\n",
    "    for ent in doc.ents:\n",
    "        entity_counts.update([ent.label_])\n",
    "entity_counts_sorted = entity_counts.most_common()\n",
    "sns.barplot(x=[ent for ent, cnt in entity_counts_sorted], y=[cnt for ent, cnt in entity_counts_sorted]).set(title=\"Entity type counts\")\n",
    "plt.xticks(rotation=90)\n",
    "plt.show()"
   ]
  },
  {
   "cell_type": "code",
   "execution_count": 32,
   "metadata": {},
   "outputs": [
    {
     "name": "stderr",
     "output_type": "stream",
     "text": [
      "100%|██████████| 361/361 [00:08<00:00, 44.05it/s]\n"
     ]
    },
    {
     "data": {
      "image/png": "[encoded data removed]",
      "text/plain": [
       "<Figure size 432x288 with 1 Axes>"
      ]
     },
     "metadata": {
      "needs_background": "light"
     },
     "output_type": "display_data"
    }
   ],
   "source": [
    "# Entity types for non-misinformation\n",
    "\n",
    "entity_counts = Counter()\n",
    "for post in tqdm(neu[\"Text\"]):\n",
    "    doc = nlp(post)\n",
    "    for ent in doc.ents:\n",
    "        entity_counts.update([ent.label_])\n",
    "entity_counts_sorted = entity_counts.most_common()\n",
    "sns.barplot(x=[ent for ent, cnt in entity_counts_sorted], y=[cnt for ent, cnt in entity_counts_sorted]).set(title=\"Entity type counts\")\n",
    "plt.xticks(rotation=90)\n",
    "plt.show()"
   ]
  },
  {
   "cell_type": "markdown",
   "metadata": {},
   "source": [
    "# Complete Dataset EDA"
   ]
  },
  {
   "cell_type": "markdown",
   "metadata": {},
   "source": [
    "## Overall"
   ]
  },
  {
   "cell_type": "code",
   "execution_count": 33,
   "metadata": {},
   "outputs": [
    {
     "name": "stdout",
     "output_type": "stream",
     "text": [
      "number of posts:  8336\n",
      "unique users:  5382\n",
      "number of comments collected:  13728\n",
      "percentage of comments collected:  0.27705348133198787\n",
      "Vocab size (before text cleaning):  125277\n"
     ]
    }
   ],
   "source": [
    "# overall stats\n",
    "\n",
    "print(\"number of posts: \", len(posts))\n",
    "print(\"unique users: \", len(pd.unique(posts['Name'])))\n",
    "print(\"number of comments collected: \", sum(posts['Comments Collected']))\n",
    "print(\"percentage of comments collected: \", posts['Comments Collected'].sum()/posts['Comments'].sum())\n",
    "vocab = set()\n",
    "for words in posts[\"Text\"].apply(lambda x: set(x.split(\" \"))):\n",
    "    vocab.update(words)\n",
    "print(\"Vocab size (before text cleaning): \", len(vocab))"
   ]
  },
  {
   "cell_type": "code",
   "execution_count": 35,
   "metadata": {},
   "outputs": [
    {
     "name": "stdout",
     "output_type": "stream",
     "text": [
      "misinformation 24.556142034548945 %\n",
      "counter-misinformation 13.855566218809981 %\n",
      "non-misinformation 61.588291746641076 %\n"
     ]
    }
   ],
   "source": [
    "# class breakdown\n",
    "\n",
    "print('misinformation', len(posts[posts['Multiclass Label'] == 'misinformation'])/len(posts)*100, '%')\n",
    "print('counter-misinformation', len(posts[posts['Multiclass Label'] == 'counter-misinformation'])/len(posts)*100, '%')\n",
    "print('non-misinformation', len(posts[posts['Multiclass Label'] == 'non-misinformation'])/len(posts)*100, '%')"
   ]
  },
  {
   "cell_type": "code",
   "execution_count": 43,
   "metadata": {},
   "outputs": [
    {
     "data": {
      "text/html": [
       "<div>\n",
       "<style scoped>\n",
       "    .dataframe tbody tr th:only-of-type {\n",
       "        vertical-align: middle;\n",
       "    }\n",
       "\n",
       "    .dataframe tbody tr th {\n",
       "        vertical-align: top;\n",
       "    }\n",
       "\n",
       "    .dataframe thead th {\n",
       "        text-align: right;\n",
       "    }\n",
       "</style>\n",
       "<table border=\"1\" class=\"dataframe\">\n",
       "  <thead>\n",
       "    <tr style=\"text-align: right;\">\n",
       "      <th></th>\n",
       "      <th>column</th>\n",
       "      <th>mean</th>\n",
       "      <th>median</th>\n",
       "      <th>90th percentile</th>\n",
       "      <th>minimum</th>\n",
       "      <th>maximum</th>\n",
       "    </tr>\n",
       "  </thead>\n",
       "  <tbody>\n",
       "    <tr>\n",
       "      <th>0</th>\n",
       "      <td>Likes</td>\n",
       "      <td>35.792946</td>\n",
       "      <td>8.0000</td>\n",
       "      <td>66.0000</td>\n",
       "      <td>0.0000</td>\n",
       "      <td>32038.0000</td>\n",
       "    </tr>\n",
       "    <tr>\n",
       "      <th>1</th>\n",
       "      <td>Comments</td>\n",
       "      <td>5.944098</td>\n",
       "      <td>1.0000</td>\n",
       "      <td>12.5000</td>\n",
       "      <td>0.0000</td>\n",
       "      <td>1214.0000</td>\n",
       "    </tr>\n",
       "    <tr>\n",
       "      <th>2</th>\n",
       "      <td>Comments Collected</td>\n",
       "      <td>1.646833</td>\n",
       "      <td>1.0000</td>\n",
       "      <td>5.0000</td>\n",
       "      <td>0.0000</td>\n",
       "      <td>11.0000</td>\n",
       "    </tr>\n",
       "    <tr>\n",
       "      <th>3</th>\n",
       "      <td>Reposts</td>\n",
       "      <td>2.037788</td>\n",
       "      <td>0.0000</td>\n",
       "      <td>4.0000</td>\n",
       "      <td>0.0000</td>\n",
       "      <td>1192.0000</td>\n",
       "    </tr>\n",
       "    <tr>\n",
       "      <th>4</th>\n",
       "      <td>Words in Text</td>\n",
       "      <td>96.967250</td>\n",
       "      <td>53.0000</td>\n",
       "      <td>261.0000</td>\n",
       "      <td>1.0000</td>\n",
       "      <td>578.0000</td>\n",
       "    </tr>\n",
       "    <tr>\n",
       "      <th>5</th>\n",
       "      <td>Characters in Text</td>\n",
       "      <td>638.820657</td>\n",
       "      <td>371.0000</td>\n",
       "      <td>1672.5000</td>\n",
       "      <td>8.0000</td>\n",
       "      <td>2992.0000</td>\n",
       "    </tr>\n",
       "    <tr>\n",
       "      <th>6</th>\n",
       "      <td>Sentences in Text</td>\n",
       "      <td>5.535629</td>\n",
       "      <td>3.0000</td>\n",
       "      <td>13.0000</td>\n",
       "      <td>1.0000</td>\n",
       "      <td>109.0000</td>\n",
       "    </tr>\n",
       "    <tr>\n",
       "      <th>7</th>\n",
       "      <td>Sentiment Score</td>\n",
       "      <td>0.274053</td>\n",
       "      <td>0.3818</td>\n",
       "      <td>0.9612</td>\n",
       "      <td>-0.9991</td>\n",
       "      <td>0.9997</td>\n",
       "    </tr>\n",
       "  </tbody>\n",
       "</table>\n",
       "</div>"
      ],
      "text/plain": [
       "               column        mean    median  90th percentile  minimum  \\\n",
       "0               Likes   35.792946    8.0000          66.0000   0.0000   \n",
       "1            Comments    5.944098    1.0000          12.5000   0.0000   \n",
       "2  Comments Collected    1.646833    1.0000           5.0000   0.0000   \n",
       "3             Reposts    2.037788    0.0000           4.0000   0.0000   \n",
       "4       Words in Text   96.967250   53.0000         261.0000   1.0000   \n",
       "5  Characters in Text  638.820657  371.0000        1672.5000   8.0000   \n",
       "6   Sentences in Text    5.535629    3.0000          13.0000   1.0000   \n",
       "7     Sentiment Score    0.274053    0.3818           0.9612  -0.9991   \n",
       "\n",
       "      maximum  \n",
       "0  32038.0000  \n",
       "1   1214.0000  \n",
       "2     11.0000  \n",
       "3   1192.0000  \n",
       "4    578.0000  \n",
       "5   2992.0000  \n",
       "6    109.0000  \n",
       "7      0.9997  "
      ]
     },
     "execution_count": 43,
     "metadata": {},
     "output_type": "execute_result"
    }
   ],
   "source": [
    "# features and text info distributions\n",
    "\n",
    "numeric_columns = [\n",
    "    'Likes', \n",
    "    'Comments', \n",
    "    'Comments Collected', \n",
    "    'Reposts', \n",
    "    'Words in Text',\n",
    "    'Characters in Text', \n",
    "    'Sentences in Text',\n",
    "    'Sentiment Score']\n",
    "\n",
    "stats = {\n",
    "    'column': [],\n",
    "    'mean': [],\n",
    "    'median':[],\n",
    "    '90th percentile': [],\n",
    "    'minimum': [],\n",
    "    'maximum': []\n",
    "}\n",
    "\n",
    "for col in numeric_columns:\n",
    "    stats['column'].append(col)\n",
    "    stats['mean'].append(posts[col].mean())\n",
    "    stats['median'].append(posts[col].median())\n",
    "    stats['90th percentile'].append(posts[col].quantile(0.9))\n",
    "    stats['minimum'].append(posts[col].min())\n",
    "    stats['maximum'].append(posts[col].max())\n",
    "\n",
    "pd.DataFrame(stats)\n"
   ]
  },
  {
   "cell_type": "code",
   "execution_count": 44,
   "metadata": {},
   "outputs": [
    {
     "data": {
      "text/plain": [
       "[Text(0.5, 1.0, 'Number of words per post')]"
      ]
     },
     "execution_count": 44,
     "metadata": {},
     "output_type": "execute_result"
    },
    {
     "data": {
      "image/png": "[encoded data removed]",
      "text/plain": [
       "<Figure size 432x288 with 1 Axes>"
      ]
     },
     "metadata": {
      "needs_background": "light"
     },
     "output_type": "display_data"
    }
   ],
   "source": [
    "# word counts\n",
    "\n",
    "sns.histplot(posts['Words in Text']).set(title=\"Number of words per post\")"
   ]
  },
  {
   "cell_type": "code",
   "execution_count": 45,
   "metadata": {},
   "outputs": [
    {
     "data": {
      "text/plain": [
       "(0.0, 50.0)"
      ]
     },
     "execution_count": 45,
     "metadata": {},
     "output_type": "execute_result"
    },
    {
     "data": {
      "image/png": "[encoded data removed]",
      "text/plain": [
       "<Figure size 432x288 with 1 Axes>"
      ]
     },
     "metadata": {
      "needs_background": "light"
     },
     "output_type": "display_data"
    }
   ],
   "source": [
    "# sentence counts\n",
    "\n",
    "sns.histplot(posts['Sentences in Text'], bins=50).set(title=\"Number of sentences per post\")\n",
    "plt.xlim(0, 50)"
   ]
  },
  {
   "cell_type": "code",
   "execution_count": 46,
   "metadata": {},
   "outputs": [
    {
     "data": {
      "text/plain": [
       "(0.0, 30.0)"
      ]
     },
     "execution_count": 46,
     "metadata": {},
     "output_type": "execute_result"
    },
    {
     "data": {
      "image/png": "[encoded data removed]",
      "text/plain": [
       "<Figure size 432x288 with 1 Axes>"
      ]
     },
     "metadata": {
      "needs_background": "light"
     },
     "output_type": "display_data"
    }
   ],
   "source": [
    "# word length distribution\n",
    "\n",
    "word_lengths = []\n",
    "for lens_per_post in posts[\"Text\"].apply(lambda x: [len(word) for word in x.split(\" \")]):\n",
    "    word_lengths.extend(lens_per_post)\n",
    "sns.histplot(word_lengths, bins=1000).set(title=\"Number of characters per word\")\n",
    "plt.xlim(0, 30)"
   ]
  },
  {
   "cell_type": "code",
   "execution_count": 47,
   "metadata": {},
   "outputs": [
    {
     "name": "stdout",
     "output_type": "stream",
     "text": [
      "-0.891375\n"
     ]
    },
    {
     "data": {
      "image/png": "[encoded data removed]",
      "text/plain": [
       "<Figure size 432x288 with 1 Axes>"
      ]
     },
     "metadata": {
      "needs_background": "light"
     },
     "output_type": "display_data"
    }
   ],
   "source": [
    "# basic sentiment analysis\n",
    "\n",
    "sns.histplot(posts['Sentiment Score'])\n",
    "print(posts['Sentiment Score'].quantile(0.05))"
   ]
  },
  {
   "cell_type": "code",
   "execution_count": 48,
   "metadata": {},
   "outputs": [
    {
     "data": {
      "text/plain": [
       "(0.0, 30.0)"
      ]
     },
     "execution_count": 48,
     "metadata": {},
     "output_type": "execute_result"
    },
    {
     "data": {
      "image/png": "[encoded data removed]",
      "text/plain": [
       "<Figure size 432x288 with 1 Axes>"
      ]
     },
     "metadata": {
      "needs_background": "light"
     },
     "output_type": "display_data"
    }
   ],
   "source": [
    "# comments collected per post\n",
    "\n",
    "sns.histplot(posts['Comments'], bins = 1000).set(title=\"Number of comments per post\")\n",
    "plt.xlim(0, 30)"
   ]
  },
  {
   "cell_type": "code",
   "execution_count": 49,
   "metadata": {},
   "outputs": [
    {
     "data": {
      "text/plain": [
       "(0.0, 200.0)"
      ]
     },
     "execution_count": 49,
     "metadata": {},
     "output_type": "execute_result"
    },
    {
     "data": {
      "image/png": "[encoded data removed]",
      "text/plain": [
       "<Figure size 432x288 with 1 Axes>"
      ]
     },
     "metadata": {
      "needs_background": "light"
     },
     "output_type": "display_data"
    }
   ],
   "source": [
    "# likes\n",
    "\n",
    "sns.histplot(posts['Likes'], bins=5000).set(title=\"Number of likes per post\")\n",
    "plt.xlim(0, 200)"
   ]
  },
  {
   "cell_type": "code",
   "execution_count": 50,
   "metadata": {},
   "outputs": [
    {
     "data": {
      "text/plain": [
       "(0.0, 15.0)"
      ]
     },
     "execution_count": 50,
     "metadata": {},
     "output_type": "execute_result"
    },
    {
     "data": {
      "image/png": "[encoded data removed]",
      "text/plain": [
       "<Figure size 432x288 with 1 Axes>"
      ]
     },
     "metadata": {
      "needs_background": "light"
     },
     "output_type": "display_data"
    }
   ],
   "source": [
    "# reposts\n",
    "\n",
    "sns.histplot(posts['Reposts'], bins=1200).set(title=\"Number of reposts per post\")\n",
    "plt.xlim(0, 15)"
   ]
  },
  {
   "cell_type": "code",
   "execution_count": 56,
   "metadata": {},
   "outputs": [
    {
     "data": {
      "image/png": "[encoded data removed]",
      "text/plain": [
       "<Figure size 432x288 with 1 Axes>"
      ]
     },
     "metadata": {
      "needs_background": "light"
     },
     "output_type": "display_data"
    }
   ],
   "source": [
    "# media types\n",
    "\n",
    "sns.countplot(posts, x=\"Media Type Simple\", order = posts['Media Type Simple'].value_counts().index)\n",
    "plt.xticks(rotation=30)\n",
    "plt.show()"
   ]
  },
  {
   "cell_type": "code",
   "execution_count": 58,
   "metadata": {},
   "outputs": [
    {
     "data": {
      "text/plain": [
       "Article    48.800384\n",
       "Image      32.053743\n",
       "Video      12.044146\n",
       "None        7.101727\n",
       "Name: Media Type Simple, dtype: float64"
      ]
     },
     "execution_count": 58,
     "metadata": {},
     "output_type": "execute_result"
    }
   ],
   "source": [
    "# media type distribution\n",
    "\n",
    "posts['Media Type Simple'].value_counts()/len(posts)*100"
   ]
  },
  {
   "cell_type": "code",
   "execution_count": 59,
   "metadata": {},
   "outputs": [
    {
     "name": "stderr",
     "output_type": "stream",
     "text": [
      "100%|██████████| 8336/8336 [02:50<00:00, 48.99it/s]\n"
     ]
    },
    {
     "data": {
      "image/png": "[encoded data removed]",
      "text/plain": [
       "<Figure size 432x288 with 1 Axes>"
      ]
     },
     "metadata": {
      "needs_background": "light"
     },
     "output_type": "display_data"
    }
   ],
   "source": [
    "# counts of overall entity types\n",
    "\n",
    "entity_counts = Counter()\n",
    "for post in tqdm(posts[\"Text\"]):\n",
    "    doc = nlp(post)\n",
    "    for ent in doc.ents:\n",
    "        entity_counts.update([ent.label_])\n",
    "entity_counts_sorted = entity_counts.most_common()\n",
    "sns.barplot(x=[ent for ent, cnt in entity_counts_sorted], y=[cnt for ent, cnt in entity_counts_sorted])\n",
    "plt.xticks(rotation=90)\n",
    "plt.show()"
   ]
  },
  {
   "cell_type": "markdown",
   "metadata": {},
   "source": [
    "## By Category"
   ]
  },
  {
   "cell_type": "code",
   "execution_count": 60,
   "metadata": {},
   "outputs": [],
   "source": [
    "covid = [\n",
    "    '#plandemic',\n",
    "    'ivermectin', \n",
    "    'untested vaccine', \n",
    "    'chinese virus', \n",
    "    '#ChineseVirus', \n",
    "    '#ChinaVirus', \n",
    "    '#antivaccine',\n",
    "    '#CCPvirus', \n",
    "    '5g causes covid',\n",
    "    '#WuhanVirus', \n",
    "    '#antivaxxer',\n",
    "    'antivaxxer', \n",
    "    '#scamdemic', \n",
    "    '#novaccinemandates',\n",
    "    'Wuhan Virus'\n",
    "    ]\n",
    "\n",
    "conspiracy = [\n",
    "    '#stolenelection', \n",
    "    'rapture', \n",
    "    'stolen election',\n",
    "    'paranormal',  \n",
    "    '#antichrist',\n",
    "    'chemtrails', \n",
    "    'geoengineering', \n",
    "    '#weathercontrol', \n",
    "    '#rapture',\n",
    "    '#mindcontrol', \n",
    "    'aerokinesis',\n",
    "    '#climatecontrol', \n",
    "    'antichrist', \n",
    "    '#flatearth', \n",
    "    '#paranormal', \n",
    "    '#deepstate', \n",
    "    '#ufo', \n",
    "    '#geoengineering',\n",
    "    'atmokinesis', \n",
    "    '#chemtrails']\n",
    "\n",
    "covid_posts = posts[posts['Query'].isin(covid)]\n",
    "conspiracy_posts = posts[posts['Query'].isin(conspiracy)]\n",
    "\n",
    "all = sorted(covid).copy()\n",
    "all.extend(sorted(conspiracy))"
   ]
  },
  {
   "cell_type": "code",
   "execution_count": 61,
   "metadata": {},
   "outputs": [
    {
     "name": "stdout",
     "output_type": "stream",
     "text": [
      "number of covid posts:  2485\n",
      "number of covid queries:  15\n",
      "misinformation,  17.022132796780685 %\n",
      "counter-misinformation,  25.794768611670023 %\n",
      "non-misinformation,  57.183098591549296 %\n"
     ]
    }
   ],
   "source": [
    "# covid posts\n",
    "\n",
    "print('number of covid posts: ', len(covid_posts))\n",
    "print('number of covid queries: ', len(covid))\n",
    "\n",
    "print('misinformation, ', len(covid_posts[covid_posts['Multiclass Label'] == 'misinformation']) / len(covid_posts) * 100, '%')\n",
    "print('counter-misinformation, ', len(covid_posts[covid_posts['Multiclass Label'] == 'counter-misinformation']) / len(covid_posts) * 100, '%')\n",
    "print('non-misinformation, ', len(covid_posts[covid_posts['Multiclass Label'] == 'non-misinformation']) / len(covid_posts) * 100, '%')"
   ]
  },
  {
   "cell_type": "code",
   "execution_count": 62,
   "metadata": {},
   "outputs": [
    {
     "name": "stdout",
     "output_type": "stream",
     "text": [
      "number of conspiracy posts:  5851\n",
      "number of conspiracy queries:  20\n",
      "27.75593915569988\n",
      "8.784823107161168\n",
      "63.45923773713895\n"
     ]
    }
   ],
   "source": [
    "# conspiracy posts\n",
    "\n",
    "print('number of conspiracy posts: ', len(conspiracy_posts))\n",
    "print('number of conspiracy queries: ', len(conspiracy))\n",
    "\n",
    "print(len(conspiracy_posts[conspiracy_posts['Multiclass Label'] == 'misinformation']) / len(conspiracy_posts) * 100)\n",
    "print(len(conspiracy_posts[conspiracy_posts['Multiclass Label'] == 'counter-misinformation']) / len(conspiracy_posts) * 100)\n",
    "print(len(conspiracy_posts[conspiracy_posts['Multiclass Label'] == 'non-misinformation']) / len(conspiracy_posts) * 100)"
   ]
  },
  {
   "cell_type": "code",
   "execution_count": 63,
   "metadata": {},
   "outputs": [
    {
     "name": "stdout",
     "output_type": "stream",
     "text": [
      "#CCPvirus\n",
      "points:  135\n",
      "mis:  60.0\n",
      "counter:  9.62962962962963\n",
      "non:  30.37037037037037\n",
      "--------\n",
      "#ChinaVirus\n",
      "points:  28\n",
      "mis:  25.0\n",
      "counter:  10.714285714285714\n",
      "non:  64.28571428571429\n",
      "--------\n",
      "#ChineseVirus\n",
      "points:  24\n",
      "mis:  37.5\n",
      "counter:  8.333333333333332\n",
      "non:  54.166666666666664\n",
      "--------\n",
      "#WuhanVirus\n",
      "points:  102\n",
      "mis:  12.745098039215685\n",
      "counter:  8.823529411764707\n",
      "non:  78.43137254901961\n",
      "--------\n",
      "#antivaccine\n",
      "points:  73\n",
      "mis:  2.73972602739726\n",
      "counter:  28.767123287671232\n",
      "non:  68.4931506849315\n",
      "--------\n",
      "#antivaxxer\n",
      "points:  93\n",
      "mis:  15.053763440860216\n",
      "counter:  35.483870967741936\n",
      "non:  49.46236559139785\n",
      "--------\n",
      "#novaccinemandates\n",
      "points:  119\n",
      "mis:  13.445378151260504\n",
      "counter:  17.647058823529413\n",
      "non:  68.90756302521008\n",
      "--------\n",
      "#plandemic\n",
      "points:  252\n",
      "mis:  15.873015873015872\n",
      "counter:  19.444444444444446\n",
      "non:  64.68253968253968\n",
      "--------\n",
      "#scamdemic\n",
      "points:  79\n",
      "mis:  29.11392405063291\n",
      "counter:  10.126582278481013\n",
      "non:  60.75949367088608\n",
      "--------\n",
      "5g causes covid\n",
      "points:  344\n",
      "mis:  2.3255813953488373\n",
      "counter:  4.941860465116279\n",
      "non:  92.73255813953489\n",
      "--------\n",
      "Wuhan Virus\n",
      "points:  2\n",
      "mis:  100.0\n",
      "counter:  0.0\n",
      "non:  0.0\n",
      "--------\n",
      "antivaxxer\n",
      "points:  300\n",
      "mis:  5.0\n",
      "counter:  56.333333333333336\n",
      "non:  38.666666666666664\n",
      "--------\n",
      "chinese virus\n",
      "points:  465\n",
      "mis:  24.516129032258064\n",
      "counter:  26.451612903225808\n",
      "non:  49.03225806451613\n",
      "--------\n",
      "ivermectin\n",
      "points:  423\n",
      "mis:  14.184397163120568\n",
      "counter:  39.00709219858156\n",
      "non:  46.808510638297875\n",
      "--------\n",
      "untested vaccine\n",
      "points:  46\n",
      "mis:  41.30434782608695\n",
      "counter:  17.391304347826086\n",
      "non:  41.30434782608695\n",
      "--------\n",
      "#antichrist\n",
      "points:  377\n",
      "mis:  59.94694960212201\n",
      "counter:  3.4482758620689653\n",
      "non:  36.60477453580902\n",
      "--------\n",
      "#chemtrails\n",
      "points:  57\n",
      "mis:  33.33333333333333\n",
      "counter:  12.280701754385964\n",
      "non:  54.385964912280706\n",
      "--------\n",
      "#climatecontrol\n",
      "points:  296\n",
      "mis:  3.040540540540541\n",
      "counter:  1.0135135135135136\n",
      "non:  95.94594594594594\n",
      "--------\n",
      "#deepstate\n",
      "points:  146\n",
      "mis:  49.31506849315068\n",
      "counter:  15.753424657534246\n",
      "non:  34.93150684931507\n",
      "--------\n",
      "#flatearth\n",
      "points:  217\n",
      "mis:  11.981566820276496\n",
      "counter:  16.129032258064516\n",
      "non:  71.88940092165899\n",
      "--------\n",
      "#geoengineering\n",
      "points:  326\n",
      "mis:  7.668711656441718\n",
      "counter:  3.067484662576687\n",
      "non:  89.2638036809816\n",
      "--------\n",
      "#mindcontrol\n",
      "points:  218\n",
      "mis:  21.100917431192663\n",
      "counter:  2.7522935779816518\n",
      "non:  76.14678899082568\n",
      "--------\n",
      "#paranormal\n",
      "points:  614\n",
      "mis:  13.680781758957655\n",
      "counter:  2.1172638436482085\n",
      "non:  84.20195439739415\n",
      "--------\n",
      "#rapture\n",
      "points:  329\n",
      "mis:  68.08510638297872\n",
      "counter:  0.303951367781155\n",
      "non:  31.61094224924012\n",
      "--------\n",
      "#stolenelection\n",
      "points:  13\n",
      "mis:  69.23076923076923\n",
      "counter:  7.6923076923076925\n",
      "non:  23.076923076923077\n",
      "--------\n",
      "#ufo\n",
      "points:  414\n",
      "mis:  25.36231884057971\n",
      "counter:  2.4154589371980677\n",
      "non:  72.22222222222221\n",
      "--------\n",
      "#weathercontrol\n",
      "points:  14\n",
      "mis:  7.142857142857142\n",
      "counter:  0.0\n",
      "non:  92.85714285714286\n",
      "--------\n",
      "aerokinesis\n",
      "points:  6\n",
      "mis:  66.66666666666666\n",
      "counter:  0.0\n",
      "non:  33.33333333333333\n",
      "--------\n",
      "antichrist\n",
      "points:  390\n",
      "mis:  74.35897435897436\n",
      "counter:  3.8461538461538463\n",
      "non:  21.794871794871796\n",
      "--------\n",
      "atmokinesis\n",
      "points:  5\n",
      "mis:  80.0\n",
      "counter:  0.0\n",
      "non:  20.0\n",
      "--------\n",
      "chemtrails\n",
      "points:  249\n",
      "mis:  42.971887550200805\n",
      "counter:  22.48995983935743\n",
      "non:  34.53815261044177\n",
      "--------\n",
      "geoengineering\n",
      "points:  656\n",
      "mis:  7.4695121951219505\n",
      "counter:  10.060975609756099\n",
      "non:  82.46951219512195\n",
      "--------\n",
      "paranormal\n",
      "points:  414\n",
      "mis:  12.80193236714976\n",
      "counter:  1.932367149758454\n",
      "non:  85.26570048309179\n",
      "--------\n",
      "rapture\n",
      "points:  672\n",
      "mis:  31.994047619047617\n",
      "counter:  2.976190476190476\n",
      "non:  65.02976190476191\n",
      "--------\n",
      "stolen election\n",
      "points:  438\n",
      "mis:  12.785388127853881\n",
      "counter:  51.82648401826484\n",
      "non:  35.38812785388128\n",
      "--------\n"
     ]
    }
   ],
   "source": [
    "for query in all:\n",
    "    print(query)\n",
    "    print('points: ', len(posts[posts['Query'] == query]))\n",
    "    print('mis: ', len(posts[(posts['Query'] == query) & (posts['Multiclass Label'] == 'misinformation')]) / len(posts[posts['Query'] == query]) * 100)\n",
    "    print('counter: ', len(posts[(posts['Query'] == query) & (posts['Multiclass Label'] == 'counter-misinformation')]) / len(posts[posts['Query'] == query]) * 100)\n",
    "    print('non: ', len(posts[(posts['Query'] == query) & (posts['Multiclass Label'] == 'non-misinformation')]) / len(posts[posts['Query'] == query]) * 100)\n",
    "    print('--------')  "
   ]
  }
 ],
 "metadata": {
  "interpreter": {
   "hash": "aee8b7b246df8f9039afb4144a1f6fd8d2ca17a180786b69acc140d282b71a49"
  },
  "kernelspec": {
   "display_name": "Python 3.10.0 64-bit",
   "language": "python",
   "name": "python3"
  },
  "language_info": {
   "codemirror_mode": {
    "name": "ipython",
    "version": 3
   },
   "file_extension": ".py",
   "mimetype": "text/x-python",
   "name": "python",
   "nbconvert_exporter": "python",
   "pygments_lexer": "ipython3",
   "version": "3.10.0"
  },
  "orig_nbformat": 4
 },
 "nbformat": 4,
 "nbformat_minor": 2
}
